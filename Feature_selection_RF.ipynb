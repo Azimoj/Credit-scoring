{
  "cells": [
    {
      "cell_type": "markdown",
      "metadata": {
        "id": "view-in-github",
        "colab_type": "text"
      },
      "source": [
        "<a href=\"https://colab.research.google.com/github/Azimoj/Home-Credit-Default-Risk/blob/main/Feature_selection_RF.ipynb\" target=\"_parent\"><img src=\"https://colab.research.google.com/assets/colab-badge.svg\" alt=\"Open In Colab\"/></a>"
      ]
    },
    {
      "cell_type": "code",
      "execution_count": null,
      "metadata": {
        "colab": {
          "base_uri": "https://localhost:8080/"
        },
        "id": "4GRfne8l5sZ1",
        "outputId": "0b19c6bc-bb28-4fc3-af71-db26e9189cb6"
      },
      "outputs": [
        {
          "output_type": "stream",
          "name": "stdout",
          "text": [
            "Fri Mar  4 16:52:57 2022       \n",
            "+-----------------------------------------------------------------------------+\n",
            "| NVIDIA-SMI 460.32.03    Driver Version: 460.32.03    CUDA Version: 11.2     |\n",
            "|-------------------------------+----------------------+----------------------+\n",
            "| GPU  Name        Persistence-M| Bus-Id        Disp.A | Volatile Uncorr. ECC |\n",
            "| Fan  Temp  Perf  Pwr:Usage/Cap|         Memory-Usage | GPU-Util  Compute M. |\n",
            "|                               |                      |               MIG M. |\n",
            "|===============================+======================+======================|\n",
            "|   0  Tesla P100-PCIE...  Off  | 00000000:00:04.0 Off |                    0 |\n",
            "| N/A   33C    P0    26W / 250W |      0MiB / 16280MiB |      0%      Default |\n",
            "|                               |                      |                  N/A |\n",
            "+-------------------------------+----------------------+----------------------+\n",
            "                                                                               \n",
            "+-----------------------------------------------------------------------------+\n",
            "| Processes:                                                                  |\n",
            "|  GPU   GI   CI        PID   Type   Process name                  GPU Memory |\n",
            "|        ID   ID                                                   Usage      |\n",
            "|=============================================================================|\n",
            "|  No running processes found                                                 |\n",
            "+-----------------------------------------------------------------------------+\n"
          ]
        }
      ],
      "source": [
        "gpu_info = !nvidia-smi\n",
        "gpu_info = '\\n'.join(gpu_info)\n",
        "if gpu_info.find('failed') >= 0:\n",
        "  print('Not connected to a GPU')\n",
        "else:\n",
        "  print(gpu_info)"
      ]
    },
    {
      "cell_type": "code",
      "execution_count": null,
      "metadata": {
        "colab": {
          "base_uri": "https://localhost:8080/"
        },
        "id": "o4nShr4pSaxg",
        "outputId": "3a724e43-9c33-4384-bdde-38b6ce5d674b"
      },
      "outputs": [
        {
          "name": "stdout",
          "output_type": "stream",
          "text": [
            "Your runtime has 13.6 gigabytes of available RAM\n",
            "\n",
            "Not using a high-RAM runtime\n"
          ]
        }
      ],
      "source": [
        "from psutil import virtual_memory\n",
        "ram_gb = virtual_memory().total / 1e9\n",
        "print('Your runtime has {:.1f} gigabytes of available RAM\\n'.format(ram_gb))\n",
        "\n",
        "if ram_gb < 20:\n",
        "  print('Not using a high-RAM runtime')\n",
        "else:\n",
        "  print('You are using a high-RAM runtime!')"
      ]
    },
    {
      "cell_type": "code",
      "execution_count": 1,
      "metadata": {
        "id": "GrxDLHwvroMk",
        "colab": {
          "base_uri": "https://localhost:8080/"
        },
        "outputId": "ef373061-0d3c-4cc1-a34b-49fedbc40d68"
      },
      "outputs": [
        {
          "output_type": "stream",
          "name": "stdout",
          "text": [
            "Mounted at /content/drive\n"
          ]
        }
      ],
      "source": [
        "from google.colab import drive\n",
        "drive.mount(\"/content/drive\", force_remount=True)"
      ]
    },
    {
      "cell_type": "code",
      "execution_count": 2,
      "metadata": {
        "id": "rT58aLKvrdiL"
      },
      "outputs": [],
      "source": [
        "# pandas and numpy for data manipulation\n",
        "import pandas as pd\n",
        "import numpy as np\n",
        "import seaborn as sns\n",
        "\n",
        "# matplotlit and seaborn for visualizations\n",
        "import matplotlib.pyplot as plt\n",
        "plt.rcParams['font.size'] = 22\n",
        "\n",
        "# Suppress warnings from pandas\n",
        "import warnings\n",
        "warnings.filterwarnings('ignore')\n",
        "\n",
        "from sklearn.model_selection import train_test_split\n",
        "\n",
        "# memory management\n",
        "import gc\n",
        "import re\n",
        "import timeit #pour mesurer le temps déxécution\n",
        "#permet de stocker notre modéle\n",
        "from sklearn.ensemble import RandomForestClassifier\n",
        "from sklearn.ensemble import GradientBoostingClassifier\n",
        "from xgboost import XGBClassifier\n",
        "# modeling \n",
        "import lightgbm as lgb\n",
        "import sklearn.metrics as me\n",
        "from sklearn import metrics\n",
        "from sklearn.metrics import roc_auc_score\n",
        "from sklearn.metrics import roc_curve,auc\n",
        "from sklearn.metrics import f1_score\n",
        "from sklearn.tree import DecisionTreeClassifier\n",
        "from sklearn.tree import plot_tree\n",
        "from sklearn.metrics import confusion_matrix\n",
        "from sklearn.metrics import plot_confusion_matrix\n",
        "from sklearn.metrics import precision_recall_curve\n",
        "from sklearn.metrics import recall_score\n",
        "from sklearn.preprocessing import RobustScaler\n",
        "from sklearn.model_selection import GridSearchCV \n",
        "#pour avoir le tableau f1,precision\n",
        "from sklearn.dummy import DummyClassifier\n",
        "from sklearn.metrics import make_scorer\n",
        "from sklearn.model_selection import RepeatedStratifiedKFold, StratifiedKFold\n",
        "from sklearn.metrics import precision_score,recall_score,accuracy_score\n",
        "from sklearn.metrics import classification_report"
      ]
    },
    {
      "cell_type": "code",
      "execution_count": null,
      "metadata": {
        "id": "bXmeJaN0_LVY"
      },
      "outputs": [],
      "source": [
        ""
      ]
    },
    {
      "cell_type": "code",
      "execution_count": 3,
      "metadata": {
        "id": "DRToxCBF_TrC"
      },
      "outputs": [],
      "source": [
        "def Histo(colonne,base,bines):\n",
        "  sns.displot(x=colonne,data=base, kde=False, bins=bines,color=\"darkblue\")\n",
        "  plt.grid()"
      ]
    },
    {
      "cell_type": "code",
      "execution_count": 4,
      "metadata": {
        "id": "OptNEdP1AJt6"
      },
      "outputs": [],
      "source": [
        "def conf_mat_transform(y_test,y_pred) :\n",
        "    conf_mat = me.confusion_matrix(y_test,y_pred)\n",
        "    \n",
        "    corresp = np.argmax(conf_mat,axis=0) \n",
        "    #vu quon a un numero de colonne de\n",
        "    #la valeur max les meme pour deux lignes on le fait manuellement\n",
        "    #on na pas des accuracy proche de 1 on pouvait utiliser le argmax\n",
        "    #corresp = [0, 3, 6, 4, 2, 1, 5]\n",
        "    #print (\"Correspondance des clusters : \", corresp)\n",
        "    # y_pred_transform = np.apply_along_axis(correspond_fct, 1, y_pred)\n",
        "    labels = pd.Series(y_test, name=\"y_true\").to_frame()\n",
        "    labels['y_pred'] = y_pred\n",
        "    labels['y_pred_transform'] = labels['y_pred'].apply(lambda x : corresp[x]) \n",
        "    \n",
        "    return labels['y_pred_transform']"
      ]
    },
    {
      "cell_type": "code",
      "execution_count": 5,
      "metadata": {
        "id": "rmnm4bVnAJw7"
      },
      "outputs": [],
      "source": [
        "#https://www.youtube.com/watch?v=zPEaC_yvL_k\n",
        "#make_scorer\n",
        "#https://machinelearningmastery.com/imbalanced-classification-of-good-and-bad-credit/\n",
        "#https://scikit-learn.org/stable/modules/generated/sklearn.metrics.fbeta_score.html\n",
        "#beta < 1 lends more weight to precision, while beta > 1 favors recall (beta -> 0 considers only precision, beta -> +inf only recall).\n",
        "\n",
        "# Determines the weight of recall in the combined score.\n",
        "\n",
        "def customScore(y_test, y_pred):\n",
        "\n",
        "  beta=0.7 #Try to give more weight on FN \n",
        "  logi_confusion = me.confusion_matrix(y_test, y_pred) \n",
        "  tn, fp, fn, tp = logi_confusion.ravel()\n",
        "  alpha=beta*fn+(1-beta)*fp\n",
        "  return  alpha\n",
        " "
      ]
    },
    {
      "cell_type": "code",
      "execution_count": null,
      "metadata": {
        "id": "143r5m8pAJ0e"
      },
      "outputs": [],
      "source": [
        ""
      ]
    },
    {
      "cell_type": "code",
      "execution_count": null,
      "metadata": {
        "id": "725I0BbN_Tv_"
      },
      "outputs": [],
      "source": [
        ""
      ]
    },
    {
      "cell_type": "code",
      "execution_count": null,
      "metadata": {
        "id": "HwTHfN77GTDQ"
      },
      "outputs": [],
      "source": [
        "df= pd.read_csv('/content/drive/MyDrive/p7/data/NEW_data.csv')"
      ]
    },
    {
      "cell_type": "code",
      "execution_count": null,
      "metadata": {
        "id": "KsotA_L6GTM2"
      },
      "outputs": [],
      "source": [
        "data = df[df['TARGET'].notnull()]\n",
        "del df\n",
        "gc.collect()"
      ]
    },
    {
      "cell_type": "code",
      "execution_count": null,
      "metadata": {
        "id": "8LY5xjGqV1Iu"
      },
      "outputs": [],
      "source": [
        "data.to_csv('/content/drive/MyDrive/p7/data/NEW_data_data.csv', index=False)"
      ]
    },
    {
      "cell_type": "markdown",
      "metadata": {
        "id": "WYPvjSOeT53-"
      },
      "source": [
        "## **Random Forest**"
      ]
    },
    {
      "cell_type": "markdown",
      "metadata": {
        "id": "KJMBmrK7eoO7"
      },
      "source": [
        " http://scikit-learn.org/stable/modules/generated/sklearn.feature_selection.SelectKBest.html#sklearn.feature_selection.SelectKBest"
      ]
    },
    {
      "cell_type": "markdown",
      "metadata": {
        "id": "G_jokfFpiSOl"
      },
      "source": [
        "https://www.kaggle.com/kanncaa1/feature-selection-and-data-visualization\n",
        "\n",
        "https://towardsdatascience.com/how-to-balance-a-dataset-in-python-36dff9d12704"
      ]
    },
    {
      "cell_type": "code",
      "execution_count": null,
      "metadata": {
        "id": "2Ld2PSidO6PM"
      },
      "outputs": [],
      "source": [
        ""
      ]
    },
    {
      "cell_type": "code",
      "execution_count": 73,
      "metadata": {
        "id": "lgsYsu9mMdJn"
      },
      "outputs": [],
      "source": [
        "data= pd.read_csv('/content/drive/MyDrive/p7/data/NEW_data_data.csv')"
      ]
    },
    {
      "cell_type": "code",
      "execution_count": 74,
      "metadata": {
        "id": "NyYI0PU6Bs7m"
      },
      "outputs": [],
      "source": [
        "data.drop(['Unnamed: 0'], axis=1,inplace=True)"
      ]
    },
    {
      "cell_type": "markdown",
      "metadata": {
        "id": "6FGOCx5nAcLQ"
      },
      "source": [
        "**Imputation**"
      ]
    },
    {
      "cell_type": "code",
      "execution_count": 76,
      "metadata": {
        "colab": {
          "base_uri": "https://localhost:8080/"
        },
        "id": "G3b3CYHL_2EF",
        "outputId": "1146ee00-01bc-44a7-9903-4a898ea38d22"
      },
      "outputs": [
        {
          "output_type": "execute_result",
          "data": {
            "text/plain": [
              "BURO_NEW_FLAG_nan_MEAN_MEAN    0.749487\n",
              "BURO_MONTHS_BALANCE_MIN_MIN    0.749487\n",
              "BURO_STATUS_2_MEAN_MEAN        0.749487\n",
              "BURO_STATUS_1_MEAN_MEAN        0.749487\n",
              "BURO_STATUS_0_MEAN_MEAN        0.749487\n",
              "dtype: float64"
            ]
          },
          "metadata": {},
          "execution_count": 76
        }
      ],
      "source": [
        "# data missing values (in percent)\n",
        "data_missing = (data.isnull().sum() / len(data)).sort_values(ascending = False)\n",
        "data_missing.head()"
      ]
    },
    {
      "cell_type": "code",
      "execution_count": 77,
      "metadata": {
        "colab": {
          "base_uri": "https://localhost:8080/"
        },
        "id": "ZIdMB-sf_2EG",
        "outputId": "52e0cf74-a7c5-4aca-aafc-9690d39fcf7c"
      },
      "outputs": [
        {
          "output_type": "stream",
          "name": "stdout",
          "text": [
            "There are 78 columns with more than 50% missing values\n"
          ]
        }
      ],
      "source": [
        "# Identify missing values above threshold\n",
        "data_missing = data_missing.index[data_missing > 0.5]\n",
        "\n",
        "print('There are %d columns with more than 50%% missing values' % len(data_missing))"
      ]
    },
    {
      "cell_type": "code",
      "execution_count": 78,
      "metadata": {
        "colab": {
          "base_uri": "https://localhost:8080/"
        },
        "id": "6QUGQFDv_2EG",
        "outputId": "73eb0584-4dc8-4502-a2f1-4b650f2a210c"
      },
      "outputs": [
        {
          "output_type": "stream",
          "name": "stdout",
          "text": [
            "data_clean set full shape:  (307505, 561)\n"
          ]
        }
      ],
      "source": [
        "data_clean = data.drop(columns = data_missing)\n",
        "\n",
        "print('data_clean set full shape: ', data_clean.shape)"
      ]
    },
    {
      "cell_type": "code",
      "execution_count": 11,
      "metadata": {
        "colab": {
          "base_uri": "https://localhost:8080/"
        },
        "id": "m839bg9e_2EG",
        "outputId": "248f315a-f59e-4e42-de6f-f4d4af4042dc"
      },
      "outputs": [
        {
          "output_type": "execute_result",
          "data": {
            "text/plain": [
              "CLOSED_AMT_CREDIT_SUM_OVERDUE_MEAN     153541\n",
              "CLOSED_AMT_CREDIT_SUM_MEAN             153541\n",
              "CLOSED_DAYS_CREDIT_MIN                 153541\n",
              "CLOSED_DAYS_CREDIT_MAX                 153541\n",
              "CLOSED_DAYS_CREDIT_MEAN                153541\n",
              "                                        ...  \n",
              "ORGANIZATION_TYPE_Industry: type 2          0\n",
              "ORGANIZATION_TYPE_Industry: type 13         0\n",
              "ORGANIZATION_TYPE_Industry: type 12         0\n",
              "ORGANIZATION_TYPE_Industry: type 11         0\n",
              "TARGET                                      0\n",
              "Length: 560, dtype: int64"
            ]
          },
          "metadata": {},
          "execution_count": 11
        }
      ],
      "source": [
        "data_clean.isnull().sum().sort_values(ascending=False)"
      ]
    },
    {
      "cell_type": "code",
      "execution_count": 79,
      "metadata": {
        "id": "chATvWk9CV8q"
      },
      "outputs": [],
      "source": [
        "data_clean[data_clean==np.inf]=np.nan"
      ]
    },
    {
      "cell_type": "code",
      "execution_count": 80,
      "metadata": {
        "id": "t5Z9MjHbAGso"
      },
      "outputs": [],
      "source": [
        "# Imputaion with mod & median\n",
        "def filling_nan_value(df):\n",
        "  column_with_nan = df.columns[df.isnull().any()]\n",
        "  for column in column_with_nan:\n",
        "    df[column]= df[column].fillna(df[column].median())\n",
        "  return (df)"
      ]
    },
    {
      "cell_type": "code",
      "execution_count": 81,
      "metadata": {
        "id": "2xxqCBKJBzh7"
      },
      "outputs": [],
      "source": [
        "data_clean = filling_nan_value(data_clean)"
      ]
    },
    {
      "cell_type": "code",
      "execution_count": 15,
      "metadata": {
        "colab": {
          "base_uri": "https://localhost:8080/"
        },
        "id": "8Yw-3QVdCxst",
        "outputId": "c73cfa87-a7c3-4e74-e478-56dac839d0b7"
      },
      "outputs": [
        {
          "output_type": "execute_result",
          "data": {
            "text/plain": [
              "TARGET                                                  0\n",
              "PREV_NAME_GOODS_CATEGORY_Construction Materials_MEAN    0\n",
              "PREV_NAME_CLIENT_TYPE_Refreshed_MEAN                    0\n",
              "PREV_NAME_CLIENT_TYPE_Repeater_MEAN                     0\n",
              "PREV_NAME_CLIENT_TYPE_nan_MEAN                          0\n",
              "dtype: int64"
            ]
          },
          "metadata": {},
          "execution_count": 15
        }
      ],
      "source": [
        "data_clean.isnull().sum().sort_values(ascending=False).head()"
      ]
    },
    {
      "cell_type": "code",
      "execution_count": 82,
      "metadata": {
        "colab": {
          "base_uri": "https://localhost:8080/"
        },
        "id": "mQRFVevIxzz8",
        "outputId": "6ddfc694-64a4-4b10-e5e8-b7345467293d"
      },
      "outputs": [
        {
          "output_type": "execute_result",
          "data": {
            "text/plain": [
              "474"
            ]
          },
          "metadata": {},
          "execution_count": 82
        }
      ],
      "source": [
        "gc.enable()\n",
        "del data \n",
        "gc.collect()"
      ]
    },
    {
      "cell_type": "code",
      "execution_count": null,
      "metadata": {
        "id": "-6MG7tmsCTUd"
      },
      "outputs": [],
      "source": [
        ""
      ]
    },
    {
      "cell_type": "markdown",
      "metadata": {
        "id": "7WEMeTkxDSnq"
      },
      "source": [
        "**Spliting**"
      ]
    },
    {
      "cell_type": "code",
      "execution_count": 83,
      "metadata": {
        "colab": {
          "base_uri": "https://localhost:8080/"
        },
        "id": "iuFN6Tp4_2EH",
        "outputId": "1e85930d-ce86-498e-9a74-43954b2df7b8"
      },
      "outputs": [
        {
          "output_type": "stream",
          "name": "stdout",
          "text": [
            "The shape of X_train is (215253, 560)\n",
            "The shape of X_test is (92252, 560)\n",
            "The shape of y_train is (215253,)\n",
            "The shape of y_test is (92252,)\n"
          ]
        }
      ],
      "source": [
        "X= data_clean.drop(['TARGET'],axis=1).copy()\n",
        "y = data_clean['TARGET'].copy()\n",
        "\n",
        "X_train, X_test, y_train, y_test = train_test_split(X ,y,test_size = 0.3,random_state=0)\n",
        "print('The shape of X_train is', X_train.shape)\n",
        "print('The shape of X_test is', X_test.shape)\n",
        "print('The shape of y_train is', y_train.shape)\n",
        "print('The shape of y_test is', y_test.shape)"
      ]
    },
    {
      "cell_type": "code",
      "execution_count": 84,
      "metadata": {
        "id": "qg5uI9uK_2EH"
      },
      "outputs": [],
      "source": [
        "del X,y"
      ]
    },
    {
      "cell_type": "code",
      "execution_count": 85,
      "metadata": {
        "id": "djhP34BHwdWc",
        "colab": {
          "base_uri": "https://localhost:8080/",
          "height": 237
        },
        "outputId": "0d1cd963-e22e-4290-b61d-00a660c64f35"
      },
      "outputs": [
        {
          "output_type": "execute_result",
          "data": {
            "text/html": [
              "\n",
              "  <div id=\"df-17561855-ee24-4101-a4f9-62739cf3eb11\">\n",
              "    <div class=\"colab-df-container\">\n",
              "      <div>\n",
              "<style scoped>\n",
              "    .dataframe tbody tr th:only-of-type {\n",
              "        vertical-align: middle;\n",
              "    }\n",
              "\n",
              "    .dataframe tbody tr th {\n",
              "        vertical-align: top;\n",
              "    }\n",
              "\n",
              "    .dataframe thead th {\n",
              "        text-align: right;\n",
              "    }\n",
              "</style>\n",
              "<table border=\"1\" class=\"dataframe\">\n",
              "  <thead>\n",
              "    <tr style=\"text-align: right;\">\n",
              "      <th></th>\n",
              "      <th>SK_ID_CURR</th>\n",
              "      <th>CODE_GENDER</th>\n",
              "      <th>FLAG_OWN_CAR</th>\n",
              "      <th>FLAG_OWN_REALTY</th>\n",
              "      <th>CNT_CHILDREN</th>\n",
              "      <th>AMT_INCOME_TOTAL</th>\n",
              "      <th>AMT_CREDIT</th>\n",
              "      <th>AMT_ANNUITY</th>\n",
              "      <th>REGION_POPULATION_RELATIVE</th>\n",
              "      <th>DAYS_BIRTH</th>\n",
              "      <th>...</th>\n",
              "      <th>INSTAL_AMT_INSTALMENT_MEAN</th>\n",
              "      <th>INSTAL_AMT_INSTALMENT_SUM</th>\n",
              "      <th>INSTAL_AMT_PAYMENT_MIN</th>\n",
              "      <th>INSTAL_AMT_PAYMENT_MAX</th>\n",
              "      <th>INSTAL_AMT_PAYMENT_MEAN</th>\n",
              "      <th>INSTAL_AMT_PAYMENT_SUM</th>\n",
              "      <th>INSTAL_DAYS_ENTRY_PAYMENT_MAX</th>\n",
              "      <th>INSTAL_DAYS_ENTRY_PAYMENT_MEAN</th>\n",
              "      <th>INSTAL_DAYS_ENTRY_PAYMENT_SUM</th>\n",
              "      <th>INSTAL_COUNT</th>\n",
              "    </tr>\n",
              "  </thead>\n",
              "  <tbody>\n",
              "    <tr>\n",
              "      <th>115232</th>\n",
              "      <td>233633</td>\n",
              "      <td>1</td>\n",
              "      <td>1</td>\n",
              "      <td>0</td>\n",
              "      <td>0</td>\n",
              "      <td>180000.0</td>\n",
              "      <td>312840.0</td>\n",
              "      <td>8964.0</td>\n",
              "      <td>0.016612</td>\n",
              "      <td>-13424</td>\n",
              "      <td>...</td>\n",
              "      <td>14395.347321</td>\n",
              "      <td>806139.450</td>\n",
              "      <td>4808.880</td>\n",
              "      <td>139500.810</td>\n",
              "      <td>17510.745536</td>\n",
              "      <td>980601.750</td>\n",
              "      <td>-576.0</td>\n",
              "      <td>-1590.732143</td>\n",
              "      <td>-89081.0</td>\n",
              "      <td>56.0</td>\n",
              "    </tr>\n",
              "    <tr>\n",
              "      <th>113005</th>\n",
              "      <td>231071</td>\n",
              "      <td>0</td>\n",
              "      <td>1</td>\n",
              "      <td>1</td>\n",
              "      <td>0</td>\n",
              "      <td>126000.0</td>\n",
              "      <td>49752.0</td>\n",
              "      <td>5355.0</td>\n",
              "      <td>0.019689</td>\n",
              "      <td>-8842</td>\n",
              "      <td>...</td>\n",
              "      <td>479283.817500</td>\n",
              "      <td>1917135.270</td>\n",
              "      <td>47497.545</td>\n",
              "      <td>1774642.635</td>\n",
              "      <td>479283.817500</td>\n",
              "      <td>1917135.270</td>\n",
              "      <td>-976.0</td>\n",
              "      <td>-1017.250000</td>\n",
              "      <td>-4069.0</td>\n",
              "      <td>4.0</td>\n",
              "    </tr>\n",
              "    <tr>\n",
              "      <th>132492</th>\n",
              "      <td>253675</td>\n",
              "      <td>0</td>\n",
              "      <td>0</td>\n",
              "      <td>1</td>\n",
              "      <td>1</td>\n",
              "      <td>157500.0</td>\n",
              "      <td>150948.0</td>\n",
              "      <td>13972.5</td>\n",
              "      <td>0.025164</td>\n",
              "      <td>-11194</td>\n",
              "      <td>...</td>\n",
              "      <td>18874.792500</td>\n",
              "      <td>113248.755</td>\n",
              "      <td>18779.805</td>\n",
              "      <td>18893.790</td>\n",
              "      <td>18874.792500</td>\n",
              "      <td>113248.755</td>\n",
              "      <td>-674.0</td>\n",
              "      <td>-730.000000</td>\n",
              "      <td>-4380.0</td>\n",
              "      <td>6.0</td>\n",
              "    </tr>\n",
              "  </tbody>\n",
              "</table>\n",
              "<p>3 rows × 560 columns</p>\n",
              "</div>\n",
              "      <button class=\"colab-df-convert\" onclick=\"convertToInteractive('df-17561855-ee24-4101-a4f9-62739cf3eb11')\"\n",
              "              title=\"Convert this dataframe to an interactive table.\"\n",
              "              style=\"display:none;\">\n",
              "        \n",
              "  <svg xmlns=\"http://www.w3.org/2000/svg\" height=\"24px\"viewBox=\"0 0 24 24\"\n",
              "       width=\"24px\">\n",
              "    <path d=\"M0 0h24v24H0V0z\" fill=\"none\"/>\n",
              "    <path d=\"M18.56 5.44l.94 2.06.94-2.06 2.06-.94-2.06-.94-.94-2.06-.94 2.06-2.06.94zm-11 1L8.5 8.5l.94-2.06 2.06-.94-2.06-.94L8.5 2.5l-.94 2.06-2.06.94zm10 10l.94 2.06.94-2.06 2.06-.94-2.06-.94-.94-2.06-.94 2.06-2.06.94z\"/><path d=\"M17.41 7.96l-1.37-1.37c-.4-.4-.92-.59-1.43-.59-.52 0-1.04.2-1.43.59L10.3 9.45l-7.72 7.72c-.78.78-.78 2.05 0 2.83L4 21.41c.39.39.9.59 1.41.59.51 0 1.02-.2 1.41-.59l7.78-7.78 2.81-2.81c.8-.78.8-2.07 0-2.86zM5.41 20L4 18.59l7.72-7.72 1.47 1.35L5.41 20z\"/>\n",
              "  </svg>\n",
              "      </button>\n",
              "      \n",
              "  <style>\n",
              "    .colab-df-container {\n",
              "      display:flex;\n",
              "      flex-wrap:wrap;\n",
              "      gap: 12px;\n",
              "    }\n",
              "\n",
              "    .colab-df-convert {\n",
              "      background-color: #E8F0FE;\n",
              "      border: none;\n",
              "      border-radius: 50%;\n",
              "      cursor: pointer;\n",
              "      display: none;\n",
              "      fill: #1967D2;\n",
              "      height: 32px;\n",
              "      padding: 0 0 0 0;\n",
              "      width: 32px;\n",
              "    }\n",
              "\n",
              "    .colab-df-convert:hover {\n",
              "      background-color: #E2EBFA;\n",
              "      box-shadow: 0px 1px 2px rgba(60, 64, 67, 0.3), 0px 1px 3px 1px rgba(60, 64, 67, 0.15);\n",
              "      fill: #174EA6;\n",
              "    }\n",
              "\n",
              "    [theme=dark] .colab-df-convert {\n",
              "      background-color: #3B4455;\n",
              "      fill: #D2E3FC;\n",
              "    }\n",
              "\n",
              "    [theme=dark] .colab-df-convert:hover {\n",
              "      background-color: #434B5C;\n",
              "      box-shadow: 0px 1px 3px 1px rgba(0, 0, 0, 0.15);\n",
              "      filter: drop-shadow(0px 1px 2px rgba(0, 0, 0, 0.3));\n",
              "      fill: #FFFFFF;\n",
              "    }\n",
              "  </style>\n",
              "\n",
              "      <script>\n",
              "        const buttonEl =\n",
              "          document.querySelector('#df-17561855-ee24-4101-a4f9-62739cf3eb11 button.colab-df-convert');\n",
              "        buttonEl.style.display =\n",
              "          google.colab.kernel.accessAllowed ? 'block' : 'none';\n",
              "\n",
              "        async function convertToInteractive(key) {\n",
              "          const element = document.querySelector('#df-17561855-ee24-4101-a4f9-62739cf3eb11');\n",
              "          const dataTable =\n",
              "            await google.colab.kernel.invokeFunction('convertToInteractive',\n",
              "                                                     [key], {});\n",
              "          if (!dataTable) return;\n",
              "\n",
              "          const docLinkHtml = 'Like what you see? Visit the ' +\n",
              "            '<a target=\"_blank\" href=https://colab.research.google.com/notebooks/data_table.ipynb>data table notebook</a>'\n",
              "            + ' to learn more about interactive tables.';\n",
              "          element.innerHTML = '';\n",
              "          dataTable['output_type'] = 'display_data';\n",
              "          await google.colab.output.renderOutput(dataTable, element);\n",
              "          const docLink = document.createElement('div');\n",
              "          docLink.innerHTML = docLinkHtml;\n",
              "          element.appendChild(docLink);\n",
              "        }\n",
              "      </script>\n",
              "    </div>\n",
              "  </div>\n",
              "  "
            ],
            "text/plain": [
              "        SK_ID_CURR  CODE_GENDER  FLAG_OWN_CAR  FLAG_OWN_REALTY  CNT_CHILDREN  \\\n",
              "115232      233633            1             1                0             0   \n",
              "113005      231071            0             1                1             0   \n",
              "132492      253675            0             0                1             1   \n",
              "\n",
              "        AMT_INCOME_TOTAL  AMT_CREDIT  AMT_ANNUITY  REGION_POPULATION_RELATIVE  \\\n",
              "115232          180000.0    312840.0       8964.0                    0.016612   \n",
              "113005          126000.0     49752.0       5355.0                    0.019689   \n",
              "132492          157500.0    150948.0      13972.5                    0.025164   \n",
              "\n",
              "        DAYS_BIRTH  ...  INSTAL_AMT_INSTALMENT_MEAN  \\\n",
              "115232      -13424  ...                14395.347321   \n",
              "113005       -8842  ...               479283.817500   \n",
              "132492      -11194  ...                18874.792500   \n",
              "\n",
              "        INSTAL_AMT_INSTALMENT_SUM  INSTAL_AMT_PAYMENT_MIN  \\\n",
              "115232                 806139.450                4808.880   \n",
              "113005                1917135.270               47497.545   \n",
              "132492                 113248.755               18779.805   \n",
              "\n",
              "        INSTAL_AMT_PAYMENT_MAX  INSTAL_AMT_PAYMENT_MEAN  \\\n",
              "115232              139500.810             17510.745536   \n",
              "113005             1774642.635            479283.817500   \n",
              "132492               18893.790             18874.792500   \n",
              "\n",
              "        INSTAL_AMT_PAYMENT_SUM  INSTAL_DAYS_ENTRY_PAYMENT_MAX  \\\n",
              "115232              980601.750                         -576.0   \n",
              "113005             1917135.270                         -976.0   \n",
              "132492              113248.755                         -674.0   \n",
              "\n",
              "        INSTAL_DAYS_ENTRY_PAYMENT_MEAN  INSTAL_DAYS_ENTRY_PAYMENT_SUM  \\\n",
              "115232                    -1590.732143                       -89081.0   \n",
              "113005                    -1017.250000                        -4069.0   \n",
              "132492                     -730.000000                        -4380.0   \n",
              "\n",
              "        INSTAL_COUNT  \n",
              "115232          56.0  \n",
              "113005           4.0  \n",
              "132492           6.0  \n",
              "\n",
              "[3 rows x 560 columns]"
            ]
          },
          "metadata": {},
          "execution_count": 85
        }
      ],
      "source": [
        "X_train.head(3)"
      ]
    },
    {
      "cell_type": "code",
      "source": [
        "X_train_tr= X_train.drop('SK_ID_CURR', axis=1)\n",
        "X_test_ts= X_test.drop('SK_ID_CURR', axis=1)"
      ],
      "metadata": {
        "id": "kKzDYFORbU2x"
      },
      "execution_count": 86,
      "outputs": []
    },
    {
      "cell_type": "code",
      "source": [
        ""
      ],
      "metadata": {
        "id": "0DAfKeglbU9T"
      },
      "execution_count": null,
      "outputs": []
    },
    {
      "cell_type": "markdown",
      "metadata": {
        "id": "IKRa8ZGbD1tu"
      },
      "source": [
        "**standard scaler**"
      ]
    },
    {
      "cell_type": "code",
      "execution_count": 87,
      "metadata": {
        "id": "dDj05NqMDx74"
      },
      "outputs": [],
      "source": [
        "std_scale=RobustScaler().fit(X_train_tr)\n",
        "#entrainement sur le train"
      ]
    },
    {
      "cell_type": "code",
      "execution_count": 89,
      "metadata": {
        "id": "mYNCR74sEULP"
      },
      "outputs": [],
      "source": [
        "X_scale_train= std_scale.transform(X_train_tr)\n",
        "#transformation du train\n",
        "X_scale_test= std_scale.transform(X_test_ts)\n",
        "#transformation du test"
      ]
    },
    {
      "cell_type": "code",
      "source": [
        "rf = RandomForestClassifier(n_jobs=-1, class_weight='balanced', max_depth=5)"
      ],
      "metadata": {
        "id": "BEcOCTJe_R3v"
      },
      "execution_count": 21,
      "outputs": []
    },
    {
      "cell_type": "code",
      "source": [
        "! pip install boruta"
      ],
      "metadata": {
        "colab": {
          "base_uri": "https://localhost:8080/"
        },
        "id": "-vHE7QbMmy-i",
        "outputId": "8826cd01-9997-4e04-e6d8-ad9a04cac051"
      },
      "execution_count": 90,
      "outputs": [
        {
          "output_type": "stream",
          "name": "stdout",
          "text": [
            "Collecting boruta\n",
            "  Downloading Boruta-0.3-py3-none-any.whl (56 kB)\n",
            "\u001b[?25l\r\u001b[K     |█████▉                          | 10 kB 27.7 MB/s eta 0:00:01\r\u001b[K     |███████████▋                    | 20 kB 25.0 MB/s eta 0:00:01\r\u001b[K     |█████████████████▍              | 30 kB 18.7 MB/s eta 0:00:01\r\u001b[K     |███████████████████████▏        | 40 kB 17.0 MB/s eta 0:00:01\r\u001b[K     |█████████████████████████████   | 51 kB 9.3 MB/s eta 0:00:01\r\u001b[K     |████████████████████████████████| 56 kB 4.2 MB/s \n",
            "\u001b[?25hRequirement already satisfied: numpy>=1.10.4 in /usr/local/lib/python3.7/dist-packages (from boruta) (1.21.5)\n",
            "Requirement already satisfied: scipy>=0.17.0 in /usr/local/lib/python3.7/dist-packages (from boruta) (1.4.1)\n",
            "Requirement already satisfied: scikit-learn>=0.17.1 in /usr/local/lib/python3.7/dist-packages (from boruta) (1.0.2)\n",
            "Requirement already satisfied: joblib>=0.11 in /usr/local/lib/python3.7/dist-packages (from scikit-learn>=0.17.1->boruta) (1.1.0)\n",
            "Requirement already satisfied: threadpoolctl>=2.0.0 in /usr/local/lib/python3.7/dist-packages (from scikit-learn>=0.17.1->boruta) (3.1.0)\n",
            "Installing collected packages: boruta\n",
            "Successfully installed boruta-0.3\n"
          ]
        }
      ]
    },
    {
      "cell_type": "code",
      "source": [
        ""
      ],
      "metadata": {
        "id": "0k_pRabw-OJf"
      },
      "execution_count": null,
      "outputs": []
    },
    {
      "cell_type": "code",
      "execution_count": 91,
      "metadata": {
        "id": "5k_xs54Fh9QC"
      },
      "outputs": [],
      "source": [
        "from boruta import BorutaPy\n",
        "boruta_feature_selector = BorutaPy(rf, n_estimators='auto', verbose=2, random_state=4242, max_iter = 50, perc = 90)\n"
      ]
    },
    {
      "cell_type": "code",
      "source": [
        "boruta_feature_selector.fit(X_scale_train, y_train)"
      ],
      "metadata": {
        "colab": {
          "base_uri": "https://localhost:8080/"
        },
        "id": "U0MVBVXEIcmF",
        "outputId": "fd53b832-35e3-4fd8-aed6-51bb53ddbcba"
      },
      "execution_count": 92,
      "outputs": [
        {
          "metadata": {
            "tags": null
          },
          "name": "stdout",
          "output_type": "stream",
          "text": [
            "Iteration: \t1 / 50\n",
            "Confirmed: \t0\n",
            "Tentative: \t559\n",
            "Rejected: \t0\n",
            "Iteration: \t2 / 50\n",
            "Confirmed: \t0\n",
            "Tentative: \t559\n",
            "Rejected: \t0\n",
            "Iteration: \t3 / 50\n",
            "Confirmed: \t0\n",
            "Tentative: \t559\n",
            "Rejected: \t0\n",
            "Iteration: \t4 / 50\n",
            "Confirmed: \t0\n",
            "Tentative: \t559\n",
            "Rejected: \t0\n",
            "Iteration: \t5 / 50\n",
            "Confirmed: \t0\n",
            "Tentative: \t559\n",
            "Rejected: \t0\n",
            "Iteration: \t6 / 50\n",
            "Confirmed: \t0\n",
            "Tentative: \t559\n",
            "Rejected: \t0\n",
            "Iteration: \t7 / 50\n",
            "Confirmed: \t0\n",
            "Tentative: \t559\n",
            "Rejected: \t0\n",
            "Iteration: \t8 / 50\n",
            "Confirmed: \t84\n",
            "Tentative: \t117\n",
            "Rejected: \t358\n",
            "Iteration: \t9 / 50\n",
            "Confirmed: \t84\n",
            "Tentative: \t117\n",
            "Rejected: \t358\n",
            "Iteration: \t10 / 50\n",
            "Confirmed: \t84\n",
            "Tentative: \t117\n",
            "Rejected: \t358\n",
            "Iteration: \t11 / 50\n",
            "Confirmed: \t84\n",
            "Tentative: \t117\n",
            "Rejected: \t358\n",
            "Iteration: \t12 / 50\n",
            "Confirmed: \t84\n",
            "Tentative: \t86\n",
            "Rejected: \t389\n",
            "Iteration: \t13 / 50\n",
            "Confirmed: \t84\n",
            "Tentative: \t86\n",
            "Rejected: \t389\n",
            "Iteration: \t14 / 50\n",
            "Confirmed: \t84\n",
            "Tentative: \t86\n",
            "Rejected: \t389\n",
            "Iteration: \t15 / 50\n",
            "Confirmed: \t84\n",
            "Tentative: \t86\n",
            "Rejected: \t389\n",
            "Iteration: \t16 / 50\n",
            "Confirmed: \t84\n",
            "Tentative: \t65\n",
            "Rejected: \t410\n",
            "Iteration: \t17 / 50\n",
            "Confirmed: \t84\n",
            "Tentative: \t65\n",
            "Rejected: \t410\n",
            "Iteration: \t18 / 50\n",
            "Confirmed: \t84\n",
            "Tentative: \t65\n",
            "Rejected: \t410\n",
            "Iteration: \t19 / 50\n",
            "Confirmed: \t84\n",
            "Tentative: \t52\n",
            "Rejected: \t423\n",
            "Iteration: \t20 / 50\n",
            "Confirmed: \t84\n",
            "Tentative: \t52\n",
            "Rejected: \t423\n",
            "Iteration: \t21 / 50\n",
            "Confirmed: \t84\n",
            "Tentative: \t52\n",
            "Rejected: \t423\n",
            "Iteration: \t22 / 50\n",
            "Confirmed: \t84\n",
            "Tentative: \t52\n",
            "Rejected: \t423\n",
            "Iteration: \t23 / 50\n",
            "Confirmed: \t84\n",
            "Tentative: \t50\n",
            "Rejected: \t425\n",
            "Iteration: \t24 / 50\n",
            "Confirmed: \t84\n",
            "Tentative: \t50\n",
            "Rejected: \t425\n",
            "Iteration: \t25 / 50\n",
            "Confirmed: \t84\n",
            "Tentative: \t50\n",
            "Rejected: \t425\n",
            "Iteration: \t26 / 50\n",
            "Confirmed: \t84\n",
            "Tentative: \t45\n",
            "Rejected: \t430\n",
            "Iteration: \t27 / 50\n",
            "Confirmed: \t84\n",
            "Tentative: \t45\n",
            "Rejected: \t430\n",
            "Iteration: \t28 / 50\n",
            "Confirmed: \t84\n",
            "Tentative: \t45\n",
            "Rejected: \t430\n",
            "Iteration: \t29 / 50\n",
            "Confirmed: \t84\n",
            "Tentative: \t36\n",
            "Rejected: \t439\n",
            "Iteration: \t30 / 50\n",
            "Confirmed: \t84\n",
            "Tentative: \t36\n",
            "Rejected: \t439\n",
            "Iteration: \t31 / 50\n",
            "Confirmed: \t84\n",
            "Tentative: \t36\n",
            "Rejected: \t439\n",
            "Iteration: \t32 / 50\n",
            "Confirmed: \t84\n",
            "Tentative: \t29\n",
            "Rejected: \t446\n",
            "Iteration: \t33 / 50\n",
            "Confirmed: \t84\n",
            "Tentative: \t29\n",
            "Rejected: \t446\n",
            "Iteration: \t34 / 50\n",
            "Confirmed: \t84\n",
            "Tentative: \t27\n",
            "Rejected: \t448\n",
            "Iteration: \t35 / 50\n",
            "Confirmed: \t84\n",
            "Tentative: \t27\n",
            "Rejected: \t448\n",
            "Iteration: \t36 / 50\n",
            "Confirmed: \t84\n",
            "Tentative: \t27\n",
            "Rejected: \t448\n",
            "Iteration: \t37 / 50\n",
            "Confirmed: \t84\n",
            "Tentative: \t25\n",
            "Rejected: \t450\n",
            "Iteration: \t38 / 50\n",
            "Confirmed: \t84\n",
            "Tentative: \t25\n",
            "Rejected: \t450\n",
            "Iteration: \t39 / 50\n",
            "Confirmed: \t84\n",
            "Tentative: \t25\n",
            "Rejected: \t450\n",
            "Iteration: \t40 / 50\n",
            "Confirmed: \t84\n",
            "Tentative: \t24\n",
            "Rejected: \t451\n",
            "Iteration: \t41 / 50\n",
            "Confirmed: \t84\n",
            "Tentative: \t24\n",
            "Rejected: \t451\n",
            "Iteration: \t42 / 50\n",
            "Confirmed: \t84\n",
            "Tentative: \t24\n",
            "Rejected: \t451\n",
            "Iteration: \t43 / 50\n",
            "Confirmed: \t84\n",
            "Tentative: \t22\n",
            "Rejected: \t453\n",
            "Iteration: \t44 / 50\n",
            "Confirmed: \t84\n",
            "Tentative: \t22\n",
            "Rejected: \t453\n",
            "Iteration: \t45 / 50\n",
            "Confirmed: \t84\n",
            "Tentative: \t22\n",
            "Rejected: \t453\n",
            "Iteration: \t46 / 50\n",
            "Confirmed: \t84\n",
            "Tentative: \t21\n",
            "Rejected: \t454\n",
            "Iteration: \t47 / 50\n",
            "Confirmed: \t84\n",
            "Tentative: \t21\n",
            "Rejected: \t454\n",
            "Iteration: \t48 / 50\n",
            "Confirmed: \t84\n",
            "Tentative: \t21\n",
            "Rejected: \t454\n",
            "Iteration: \t49 / 50\n",
            "Confirmed: \t84\n",
            "Tentative: \t20\n",
            "Rejected: \t455\n",
            "\n",
            "\n",
            "BorutaPy finished running.\n",
            "\n",
            "Iteration: \t50 / 50\n",
            "Confirmed: \t84\n",
            "Tentative: \t0\n",
            "Rejected: \t455\n"
          ]
        },
        {
          "data": {
            "text/plain": [
              "BorutaPy(estimator=RandomForestClassifier(class_weight='balanced', max_depth=5,\n",
              "                                          n_estimators=289, n_jobs=-1,\n",
              "                                          random_state=RandomState(MT19937) at 0x7F293EFFE490),\n",
              "         max_iter=50, n_estimators='auto', perc=90,\n",
              "         random_state=RandomState(MT19937) at 0x7F293EFFE490, verbose=2)"
            ]
          },
          "execution_count": null,
          "metadata": {},
          "output_type": "execute_result"
        }
      ]
    },
    {
      "cell_type": "code",
      "source": [
        "X_filtered = boruta_feature_selector.transform(X_scale_train)\n",
        "X_filtered.shape"
      ],
      "metadata": {
        "colab": {
          "base_uri": "https://localhost:8080/"
        },
        "id": "8ZDsT8jTVRRN",
        "outputId": "adf84830-cdb6-4ad8-f716-575be65a3d43"
      },
      "execution_count": 93,
      "outputs": [
        {
          "output_type": "execute_result",
          "data": {
            "text/plain": [
              "(215253, 84)"
            ]
          },
          "metadata": {},
          "execution_count": 93
        }
      ]
    },
    {
      "cell_type": "code",
      "source": [
        "X_filtered"
      ],
      "metadata": {
        "colab": {
          "base_uri": "https://localhost:8080/"
        },
        "id": "yN9_Ggd2mDAS",
        "outputId": "b9ecf09c-42e6-46a6-ed0b-a53101511527"
      },
      "execution_count": 95,
      "outputs": [
        {
          "output_type": "execute_result",
          "data": {
            "text/plain": [
              "array([[ 0.,  1.,  0., ...,  0.,  0.,  0.],\n",
              "       [-1.,  1.,  0., ..., -1.,  0.,  1.],\n",
              "       [-1.,  0.,  1., ..., -1.,  0.,  1.],\n",
              "       ...,\n",
              "       [ 0.,  0.,  2., ..., -1.,  0.,  1.],\n",
              "       [ 0.,  0.,  0., ..., -1.,  0.,  1.],\n",
              "       [ 0.,  0.,  0., ..., -1.,  1.,  0.]])"
            ]
          },
          "metadata": {},
          "execution_count": 95
        }
      ]
    },
    {
      "cell_type": "code",
      "source": [
        "features = [f for f in data_clean.columns if f not in ['TARGET','SK_ID_CURR']]\n",
        "len(features)"
      ],
      "metadata": {
        "colab": {
          "base_uri": "https://localhost:8080/"
        },
        "id": "gfE8MWbYjwr2",
        "outputId": "781f7205-b68e-4736-e95a-82a36deaeaa9"
      },
      "execution_count": 96,
      "outputs": [
        {
          "output_type": "execute_result",
          "data": {
            "text/plain": [
              "559"
            ]
          },
          "metadata": {},
          "execution_count": 96
        }
      ]
    },
    {
      "cell_type": "code",
      "source": [
        "final_features = list()\n",
        "indexes = np.where(boruta_feature_selector.support_ == True)\n",
        "for x in np.nditer(indexes):\n",
        "    final_features.append(features[x])"
      ],
      "metadata": {
        "id": "swSXx9dyePSp"
      },
      "execution_count": 97,
      "outputs": []
    },
    {
      "cell_type": "code",
      "source": [
        "len(final_features)"
      ],
      "metadata": {
        "colab": {
          "base_uri": "https://localhost:8080/"
        },
        "id": "biQJAxGRj7ks",
        "outputId": "faf122c7-ef25-4f6a-a65b-d00b8ce7bb72"
      },
      "execution_count": 98,
      "outputs": [
        {
          "output_type": "execute_result",
          "data": {
            "text/plain": [
              "84"
            ]
          },
          "metadata": {},
          "execution_count": 98
        }
      ]
    },
    {
      "cell_type": "code",
      "source": [
        "df_X_train_rf =X_train[final_features]\n",
        "df_X_test_rf =X_test[final_features]"
      ],
      "metadata": {
        "id": "rJgGYUF-lFP7"
      },
      "execution_count": 106,
      "outputs": []
    },
    {
      "cell_type": "code",
      "source": [
        "df_X_train_rf= df_X_train_rf.append(X_train['SK_ID_CURR'])"
      ],
      "metadata": {
        "id": "VELN9-jpGSIQ"
      },
      "execution_count": null,
      "outputs": []
    },
    {
      "cell_type": "code",
      "source": [
        "df_X_train_rf"
      ],
      "metadata": {
        "colab": {
          "base_uri": "https://localhost:8080/",
          "height": 165
        },
        "id": "It0cAvriGSPX",
        "outputId": "b633ab2e-af53-4024-8c6a-1406f7a4cd83"
      },
      "execution_count": 1,
      "outputs": [
        {
          "output_type": "error",
          "ename": "NameError",
          "evalue": "ignored",
          "traceback": [
            "\u001b[0;31m---------------------------------------------------------------------------\u001b[0m",
            "\u001b[0;31mNameError\u001b[0m                                 Traceback (most recent call last)",
            "\u001b[0;32m<ipython-input-1-75adda576f1d>\u001b[0m in \u001b[0;36m<module>\u001b[0;34m()\u001b[0m\n\u001b[0;32m----> 1\u001b[0;31m \u001b[0mdf_X_train_rf\u001b[0m\u001b[0;34m\u001b[0m\u001b[0;34m\u001b[0m\u001b[0m\n\u001b[0m",
            "\u001b[0;31mNameError\u001b[0m: name 'df_X_train_rf' is not defined"
          ]
        }
      ]
    },
    {
      "cell_type": "code",
      "source": [
        "df_X_train_rf.shape"
      ],
      "metadata": {
        "colab": {
          "base_uri": "https://localhost:8080/"
        },
        "id": "DrS3m9GDkHQU",
        "outputId": "9e6ac20f-eab5-494a-89ac-2f832208710e"
      },
      "execution_count": 100,
      "outputs": [
        {
          "output_type": "execute_result",
          "data": {
            "text/plain": [
              "(215253, 84)"
            ]
          },
          "metadata": {},
          "execution_count": 100
        }
      ]
    },
    {
      "cell_type": "code",
      "source": [
        "df_X_test_rf.shape"
      ],
      "metadata": {
        "colab": {
          "base_uri": "https://localhost:8080/"
        },
        "id": "SAk31N4GrJIS",
        "outputId": "a3e86249-932f-45ac-8267-bda3a26fb6b3"
      },
      "execution_count": 101,
      "outputs": [
        {
          "output_type": "execute_result",
          "data": {
            "text/plain": [
              "(92252, 84)"
            ]
          },
          "metadata": {},
          "execution_count": 101
        }
      ]
    },
    {
      "cell_type": "code",
      "source": [
        "df_X_train_rf.head()\n"
      ],
      "metadata": {
        "colab": {
          "base_uri": "https://localhost:8080/",
          "height": 299
        },
        "id": "9f2GohvfFl2f",
        "outputId": "f02732c3-c2bf-4708-f08f-0f760799bd1e"
      },
      "execution_count": 103,
      "outputs": [
        {
          "output_type": "execute_result",
          "data": {
            "text/html": [
              "\n",
              "  <div id=\"df-30bc1c52-f7a5-462d-bb6f-0b0f4b4b988a\">\n",
              "    <div class=\"colab-df-container\">\n",
              "      <div>\n",
              "<style scoped>\n",
              "    .dataframe tbody tr th:only-of-type {\n",
              "        vertical-align: middle;\n",
              "    }\n",
              "\n",
              "    .dataframe tbody tr th {\n",
              "        vertical-align: top;\n",
              "    }\n",
              "\n",
              "    .dataframe thead th {\n",
              "        text-align: right;\n",
              "    }\n",
              "</style>\n",
              "<table border=\"1\" class=\"dataframe\">\n",
              "  <thead>\n",
              "    <tr style=\"text-align: right;\">\n",
              "      <th></th>\n",
              "      <th>CODE_GENDER</th>\n",
              "      <th>FLAG_OWN_CAR</th>\n",
              "      <th>CNT_CHILDREN</th>\n",
              "      <th>AMT_INCOME_TOTAL</th>\n",
              "      <th>AMT_CREDIT</th>\n",
              "      <th>AMT_ANNUITY</th>\n",
              "      <th>REGION_POPULATION_RELATIVE</th>\n",
              "      <th>DAYS_BIRTH</th>\n",
              "      <th>DAYS_EMPLOYED</th>\n",
              "      <th>DAYS_REGISTRATION</th>\n",
              "      <th>...</th>\n",
              "      <th>NEW_REVOLVING_LOANS_1.0</th>\n",
              "      <th>NEW_HAS_CAR_0.0</th>\n",
              "      <th>NEW_HAS_CAR_1.0</th>\n",
              "      <th>NEW_HAS_COMPANY_0.0</th>\n",
              "      <th>NEW_HAS_COMPANY_1.0</th>\n",
              "      <th>NEW_LABORERS_0.0</th>\n",
              "      <th>NEW_LABORERS_1.0</th>\n",
              "      <th>NEW_AGE_SEGMENT_MİDDLE</th>\n",
              "      <th>NEW_AGE_SEGMENT_OLD</th>\n",
              "      <th>NEW_AGE_SEGMENT_YOUNG</th>\n",
              "    </tr>\n",
              "  </thead>\n",
              "  <tbody>\n",
              "    <tr>\n",
              "      <th>115232</th>\n",
              "      <td>1</td>\n",
              "      <td>1</td>\n",
              "      <td>0</td>\n",
              "      <td>180000.0</td>\n",
              "      <td>312840.0</td>\n",
              "      <td>8964.0</td>\n",
              "      <td>0.016612</td>\n",
              "      <td>-13424</td>\n",
              "      <td>-5143.0</td>\n",
              "      <td>-593.0</td>\n",
              "      <td>...</td>\n",
              "      <td>0</td>\n",
              "      <td>0</td>\n",
              "      <td>1</td>\n",
              "      <td>0</td>\n",
              "      <td>1</td>\n",
              "      <td>1</td>\n",
              "      <td>0</td>\n",
              "      <td>1</td>\n",
              "      <td>0</td>\n",
              "      <td>0</td>\n",
              "    </tr>\n",
              "    <tr>\n",
              "      <th>113005</th>\n",
              "      <td>0</td>\n",
              "      <td>1</td>\n",
              "      <td>0</td>\n",
              "      <td>126000.0</td>\n",
              "      <td>49752.0</td>\n",
              "      <td>5355.0</td>\n",
              "      <td>0.019689</td>\n",
              "      <td>-8842</td>\n",
              "      <td>-1130.0</td>\n",
              "      <td>-3723.0</td>\n",
              "      <td>...</td>\n",
              "      <td>0</td>\n",
              "      <td>0</td>\n",
              "      <td>1</td>\n",
              "      <td>1</td>\n",
              "      <td>0</td>\n",
              "      <td>0</td>\n",
              "      <td>1</td>\n",
              "      <td>0</td>\n",
              "      <td>0</td>\n",
              "      <td>1</td>\n",
              "    </tr>\n",
              "    <tr>\n",
              "      <th>132492</th>\n",
              "      <td>0</td>\n",
              "      <td>0</td>\n",
              "      <td>1</td>\n",
              "      <td>157500.0</td>\n",
              "      <td>150948.0</td>\n",
              "      <td>13972.5</td>\n",
              "      <td>0.025164</td>\n",
              "      <td>-11194</td>\n",
              "      <td>-1441.0</td>\n",
              "      <td>-3626.0</td>\n",
              "      <td>...</td>\n",
              "      <td>0</td>\n",
              "      <td>1</td>\n",
              "      <td>0</td>\n",
              "      <td>0</td>\n",
              "      <td>1</td>\n",
              "      <td>1</td>\n",
              "      <td>0</td>\n",
              "      <td>0</td>\n",
              "      <td>0</td>\n",
              "      <td>1</td>\n",
              "    </tr>\n",
              "    <tr>\n",
              "      <th>18531</th>\n",
              "      <td>1</td>\n",
              "      <td>1</td>\n",
              "      <td>0</td>\n",
              "      <td>112500.0</td>\n",
              "      <td>319500.0</td>\n",
              "      <td>16312.5</td>\n",
              "      <td>0.035792</td>\n",
              "      <td>-15764</td>\n",
              "      <td>-4899.0</td>\n",
              "      <td>-7791.0</td>\n",
              "      <td>...</td>\n",
              "      <td>0</td>\n",
              "      <td>0</td>\n",
              "      <td>1</td>\n",
              "      <td>1</td>\n",
              "      <td>0</td>\n",
              "      <td>1</td>\n",
              "      <td>0</td>\n",
              "      <td>1</td>\n",
              "      <td>0</td>\n",
              "      <td>0</td>\n",
              "    </tr>\n",
              "    <tr>\n",
              "      <th>234349</th>\n",
              "      <td>1</td>\n",
              "      <td>0</td>\n",
              "      <td>0</td>\n",
              "      <td>225000.0</td>\n",
              "      <td>387000.0</td>\n",
              "      <td>14031.0</td>\n",
              "      <td>0.026392</td>\n",
              "      <td>-21481</td>\n",
              "      <td>-1648.0</td>\n",
              "      <td>-7445.0</td>\n",
              "      <td>...</td>\n",
              "      <td>0</td>\n",
              "      <td>1</td>\n",
              "      <td>0</td>\n",
              "      <td>1</td>\n",
              "      <td>0</td>\n",
              "      <td>1</td>\n",
              "      <td>0</td>\n",
              "      <td>0</td>\n",
              "      <td>1</td>\n",
              "      <td>0</td>\n",
              "    </tr>\n",
              "  </tbody>\n",
              "</table>\n",
              "<p>5 rows × 84 columns</p>\n",
              "</div>\n",
              "      <button class=\"colab-df-convert\" onclick=\"convertToInteractive('df-30bc1c52-f7a5-462d-bb6f-0b0f4b4b988a')\"\n",
              "              title=\"Convert this dataframe to an interactive table.\"\n",
              "              style=\"display:none;\">\n",
              "        \n",
              "  <svg xmlns=\"http://www.w3.org/2000/svg\" height=\"24px\"viewBox=\"0 0 24 24\"\n",
              "       width=\"24px\">\n",
              "    <path d=\"M0 0h24v24H0V0z\" fill=\"none\"/>\n",
              "    <path d=\"M18.56 5.44l.94 2.06.94-2.06 2.06-.94-2.06-.94-.94-2.06-.94 2.06-2.06.94zm-11 1L8.5 8.5l.94-2.06 2.06-.94-2.06-.94L8.5 2.5l-.94 2.06-2.06.94zm10 10l.94 2.06.94-2.06 2.06-.94-2.06-.94-.94-2.06-.94 2.06-2.06.94z\"/><path d=\"M17.41 7.96l-1.37-1.37c-.4-.4-.92-.59-1.43-.59-.52 0-1.04.2-1.43.59L10.3 9.45l-7.72 7.72c-.78.78-.78 2.05 0 2.83L4 21.41c.39.39.9.59 1.41.59.51 0 1.02-.2 1.41-.59l7.78-7.78 2.81-2.81c.8-.78.8-2.07 0-2.86zM5.41 20L4 18.59l7.72-7.72 1.47 1.35L5.41 20z\"/>\n",
              "  </svg>\n",
              "      </button>\n",
              "      \n",
              "  <style>\n",
              "    .colab-df-container {\n",
              "      display:flex;\n",
              "      flex-wrap:wrap;\n",
              "      gap: 12px;\n",
              "    }\n",
              "\n",
              "    .colab-df-convert {\n",
              "      background-color: #E8F0FE;\n",
              "      border: none;\n",
              "      border-radius: 50%;\n",
              "      cursor: pointer;\n",
              "      display: none;\n",
              "      fill: #1967D2;\n",
              "      height: 32px;\n",
              "      padding: 0 0 0 0;\n",
              "      width: 32px;\n",
              "    }\n",
              "\n",
              "    .colab-df-convert:hover {\n",
              "      background-color: #E2EBFA;\n",
              "      box-shadow: 0px 1px 2px rgba(60, 64, 67, 0.3), 0px 1px 3px 1px rgba(60, 64, 67, 0.15);\n",
              "      fill: #174EA6;\n",
              "    }\n",
              "\n",
              "    [theme=dark] .colab-df-convert {\n",
              "      background-color: #3B4455;\n",
              "      fill: #D2E3FC;\n",
              "    }\n",
              "\n",
              "    [theme=dark] .colab-df-convert:hover {\n",
              "      background-color: #434B5C;\n",
              "      box-shadow: 0px 1px 3px 1px rgba(0, 0, 0, 0.15);\n",
              "      filter: drop-shadow(0px 1px 2px rgba(0, 0, 0, 0.3));\n",
              "      fill: #FFFFFF;\n",
              "    }\n",
              "  </style>\n",
              "\n",
              "      <script>\n",
              "        const buttonEl =\n",
              "          document.querySelector('#df-30bc1c52-f7a5-462d-bb6f-0b0f4b4b988a button.colab-df-convert');\n",
              "        buttonEl.style.display =\n",
              "          google.colab.kernel.accessAllowed ? 'block' : 'none';\n",
              "\n",
              "        async function convertToInteractive(key) {\n",
              "          const element = document.querySelector('#df-30bc1c52-f7a5-462d-bb6f-0b0f4b4b988a');\n",
              "          const dataTable =\n",
              "            await google.colab.kernel.invokeFunction('convertToInteractive',\n",
              "                                                     [key], {});\n",
              "          if (!dataTable) return;\n",
              "\n",
              "          const docLinkHtml = 'Like what you see? Visit the ' +\n",
              "            '<a target=\"_blank\" href=https://colab.research.google.com/notebooks/data_table.ipynb>data table notebook</a>'\n",
              "            + ' to learn more about interactive tables.';\n",
              "          element.innerHTML = '';\n",
              "          dataTable['output_type'] = 'display_data';\n",
              "          await google.colab.output.renderOutput(dataTable, element);\n",
              "          const docLink = document.createElement('div');\n",
              "          docLink.innerHTML = docLinkHtml;\n",
              "          element.appendChild(docLink);\n",
              "        }\n",
              "      </script>\n",
              "    </div>\n",
              "  </div>\n",
              "  "
            ],
            "text/plain": [
              "        CODE_GENDER  FLAG_OWN_CAR  CNT_CHILDREN  AMT_INCOME_TOTAL  AMT_CREDIT  \\\n",
              "115232            1             1             0          180000.0    312840.0   \n",
              "113005            0             1             0          126000.0     49752.0   \n",
              "132492            0             0             1          157500.0    150948.0   \n",
              "18531             1             1             0          112500.0    319500.0   \n",
              "234349            1             0             0          225000.0    387000.0   \n",
              "\n",
              "        AMT_ANNUITY  REGION_POPULATION_RELATIVE  DAYS_BIRTH  DAYS_EMPLOYED  \\\n",
              "115232       8964.0                    0.016612      -13424        -5143.0   \n",
              "113005       5355.0                    0.019689       -8842        -1130.0   \n",
              "132492      13972.5                    0.025164      -11194        -1441.0   \n",
              "18531       16312.5                    0.035792      -15764        -4899.0   \n",
              "234349      14031.0                    0.026392      -21481        -1648.0   \n",
              "\n",
              "        DAYS_REGISTRATION  ...  NEW_REVOLVING_LOANS_1.0  NEW_HAS_CAR_0.0  \\\n",
              "115232             -593.0  ...                        0                0   \n",
              "113005            -3723.0  ...                        0                0   \n",
              "132492            -3626.0  ...                        0                1   \n",
              "18531             -7791.0  ...                        0                0   \n",
              "234349            -7445.0  ...                        0                1   \n",
              "\n",
              "        NEW_HAS_CAR_1.0  NEW_HAS_COMPANY_0.0  NEW_HAS_COMPANY_1.0  \\\n",
              "115232                1                    0                    1   \n",
              "113005                1                    1                    0   \n",
              "132492                0                    0                    1   \n",
              "18531                 1                    1                    0   \n",
              "234349                0                    1                    0   \n",
              "\n",
              "        NEW_LABORERS_0.0  NEW_LABORERS_1.0  NEW_AGE_SEGMENT_MİDDLE  \\\n",
              "115232                 1                 0                       1   \n",
              "113005                 0                 1                       0   \n",
              "132492                 1                 0                       0   \n",
              "18531                  1                 0                       1   \n",
              "234349                 1                 0                       0   \n",
              "\n",
              "        NEW_AGE_SEGMENT_OLD  NEW_AGE_SEGMENT_YOUNG  \n",
              "115232                    0                      0  \n",
              "113005                    0                      1  \n",
              "132492                    0                      1  \n",
              "18531                     0                      0  \n",
              "234349                    1                      0  \n",
              "\n",
              "[5 rows x 84 columns]"
            ]
          },
          "metadata": {},
          "execution_count": 103
        }
      ]
    },
    {
      "cell_type": "code",
      "source": [
        "df_X_train_rf.to_csv('/content/drive/MyDrive/p7/data/df_X_train_rf.csv', index=False)\n",
        "df_X_test_rf.to_csv('/content/drive/MyDrive/p7/data/df_X_test_rf.csv', index= False)"
      ],
      "metadata": {
        "id": "k3xKSwGnVRit"
      },
      "execution_count": null,
      "outputs": []
    },
    {
      "cell_type": "code",
      "source": [
        ""
      ],
      "metadata": {
        "id": "4h8ytQRGm1Aq"
      },
      "execution_count": null,
      "outputs": []
    },
    {
      "cell_type": "code",
      "source": [
        "df_X_train_rf= pd.read_csv('/content/drive/MyDrive/p7/data/df_X_train_rf.csv')"
      ],
      "metadata": {
        "id": "l5j-1zG9m1D6"
      },
      "execution_count": 47,
      "outputs": []
    },
    {
      "cell_type": "code",
      "source": [
        "df_X_test_rf= pd.read_csv('/content/drive/MyDrive/p7/data/df_X_test_rf.csv')"
      ],
      "metadata": {
        "id": "ss8TPsKV3ych"
      },
      "execution_count": 23,
      "outputs": []
    },
    {
      "cell_type": "code",
      "source": [
        "df_X_train_rf.head()"
      ],
      "metadata": {
        "colab": {
          "base_uri": "https://localhost:8080/",
          "height": 317
        },
        "id": "J-zolJabDfe3",
        "outputId": "2bc0151e-8d57-4940-e32b-ee4155a42eb3"
      },
      "execution_count": 48,
      "outputs": [
        {
          "output_type": "execute_result",
          "data": {
            "text/html": [
              "\n",
              "  <div id=\"df-60b04d5d-1ecb-4fc8-b1fd-0a7019c67640\">\n",
              "    <div class=\"colab-df-container\">\n",
              "      <div>\n",
              "<style scoped>\n",
              "    .dataframe tbody tr th:only-of-type {\n",
              "        vertical-align: middle;\n",
              "    }\n",
              "\n",
              "    .dataframe tbody tr th {\n",
              "        vertical-align: top;\n",
              "    }\n",
              "\n",
              "    .dataframe thead th {\n",
              "        text-align: right;\n",
              "    }\n",
              "</style>\n",
              "<table border=\"1\" class=\"dataframe\">\n",
              "  <thead>\n",
              "    <tr style=\"text-align: right;\">\n",
              "      <th></th>\n",
              "      <th>Unnamed: 0</th>\n",
              "      <th>CODE_GENDER</th>\n",
              "      <th>FLAG_OWN_CAR</th>\n",
              "      <th>CNT_CHILDREN</th>\n",
              "      <th>AMT_INCOME_TOTAL</th>\n",
              "      <th>AMT_CREDIT</th>\n",
              "      <th>AMT_ANNUITY</th>\n",
              "      <th>REGION_POPULATION_RELATIVE</th>\n",
              "      <th>DAYS_BIRTH</th>\n",
              "      <th>DAYS_EMPLOYED</th>\n",
              "      <th>...</th>\n",
              "      <th>NEW_REVOLVING_LOANS_1.0</th>\n",
              "      <th>NEW_HAS_CAR_0.0</th>\n",
              "      <th>NEW_HAS_CAR_1.0</th>\n",
              "      <th>NEW_HAS_COMPANY_0.0</th>\n",
              "      <th>NEW_HAS_COMPANY_1.0</th>\n",
              "      <th>NEW_LABORERS_0.0</th>\n",
              "      <th>NEW_LABORERS_1.0</th>\n",
              "      <th>NEW_AGE_SEGMENT_MİDDLE</th>\n",
              "      <th>NEW_AGE_SEGMENT_OLD</th>\n",
              "      <th>NEW_AGE_SEGMENT_YOUNG</th>\n",
              "    </tr>\n",
              "  </thead>\n",
              "  <tbody>\n",
              "    <tr>\n",
              "      <th>0</th>\n",
              "      <td>115232</td>\n",
              "      <td>1</td>\n",
              "      <td>1</td>\n",
              "      <td>0</td>\n",
              "      <td>180000.0</td>\n",
              "      <td>312840.0</td>\n",
              "      <td>8964.0</td>\n",
              "      <td>0.016612</td>\n",
              "      <td>-13424</td>\n",
              "      <td>-5143.0</td>\n",
              "      <td>...</td>\n",
              "      <td>0</td>\n",
              "      <td>0</td>\n",
              "      <td>1</td>\n",
              "      <td>0</td>\n",
              "      <td>1</td>\n",
              "      <td>1</td>\n",
              "      <td>0</td>\n",
              "      <td>1</td>\n",
              "      <td>0</td>\n",
              "      <td>0</td>\n",
              "    </tr>\n",
              "    <tr>\n",
              "      <th>1</th>\n",
              "      <td>113005</td>\n",
              "      <td>0</td>\n",
              "      <td>1</td>\n",
              "      <td>0</td>\n",
              "      <td>126000.0</td>\n",
              "      <td>49752.0</td>\n",
              "      <td>5355.0</td>\n",
              "      <td>0.019689</td>\n",
              "      <td>-8842</td>\n",
              "      <td>-1130.0</td>\n",
              "      <td>...</td>\n",
              "      <td>0</td>\n",
              "      <td>0</td>\n",
              "      <td>1</td>\n",
              "      <td>1</td>\n",
              "      <td>0</td>\n",
              "      <td>0</td>\n",
              "      <td>1</td>\n",
              "      <td>0</td>\n",
              "      <td>0</td>\n",
              "      <td>1</td>\n",
              "    </tr>\n",
              "    <tr>\n",
              "      <th>2</th>\n",
              "      <td>132492</td>\n",
              "      <td>0</td>\n",
              "      <td>0</td>\n",
              "      <td>1</td>\n",
              "      <td>157500.0</td>\n",
              "      <td>150948.0</td>\n",
              "      <td>13972.5</td>\n",
              "      <td>0.025164</td>\n",
              "      <td>-11194</td>\n",
              "      <td>-1441.0</td>\n",
              "      <td>...</td>\n",
              "      <td>0</td>\n",
              "      <td>1</td>\n",
              "      <td>0</td>\n",
              "      <td>0</td>\n",
              "      <td>1</td>\n",
              "      <td>1</td>\n",
              "      <td>0</td>\n",
              "      <td>0</td>\n",
              "      <td>0</td>\n",
              "      <td>1</td>\n",
              "    </tr>\n",
              "    <tr>\n",
              "      <th>3</th>\n",
              "      <td>18531</td>\n",
              "      <td>1</td>\n",
              "      <td>1</td>\n",
              "      <td>0</td>\n",
              "      <td>112500.0</td>\n",
              "      <td>319500.0</td>\n",
              "      <td>16312.5</td>\n",
              "      <td>0.035792</td>\n",
              "      <td>-15764</td>\n",
              "      <td>-4899.0</td>\n",
              "      <td>...</td>\n",
              "      <td>0</td>\n",
              "      <td>0</td>\n",
              "      <td>1</td>\n",
              "      <td>1</td>\n",
              "      <td>0</td>\n",
              "      <td>1</td>\n",
              "      <td>0</td>\n",
              "      <td>1</td>\n",
              "      <td>0</td>\n",
              "      <td>0</td>\n",
              "    </tr>\n",
              "    <tr>\n",
              "      <th>4</th>\n",
              "      <td>234349</td>\n",
              "      <td>1</td>\n",
              "      <td>0</td>\n",
              "      <td>0</td>\n",
              "      <td>225000.0</td>\n",
              "      <td>387000.0</td>\n",
              "      <td>14031.0</td>\n",
              "      <td>0.026392</td>\n",
              "      <td>-21481</td>\n",
              "      <td>-1648.0</td>\n",
              "      <td>...</td>\n",
              "      <td>0</td>\n",
              "      <td>1</td>\n",
              "      <td>0</td>\n",
              "      <td>1</td>\n",
              "      <td>0</td>\n",
              "      <td>1</td>\n",
              "      <td>0</td>\n",
              "      <td>0</td>\n",
              "      <td>1</td>\n",
              "      <td>0</td>\n",
              "    </tr>\n",
              "  </tbody>\n",
              "</table>\n",
              "<p>5 rows × 85 columns</p>\n",
              "</div>\n",
              "      <button class=\"colab-df-convert\" onclick=\"convertToInteractive('df-60b04d5d-1ecb-4fc8-b1fd-0a7019c67640')\"\n",
              "              title=\"Convert this dataframe to an interactive table.\"\n",
              "              style=\"display:none;\">\n",
              "        \n",
              "  <svg xmlns=\"http://www.w3.org/2000/svg\" height=\"24px\"viewBox=\"0 0 24 24\"\n",
              "       width=\"24px\">\n",
              "    <path d=\"M0 0h24v24H0V0z\" fill=\"none\"/>\n",
              "    <path d=\"M18.56 5.44l.94 2.06.94-2.06 2.06-.94-2.06-.94-.94-2.06-.94 2.06-2.06.94zm-11 1L8.5 8.5l.94-2.06 2.06-.94-2.06-.94L8.5 2.5l-.94 2.06-2.06.94zm10 10l.94 2.06.94-2.06 2.06-.94-2.06-.94-.94-2.06-.94 2.06-2.06.94z\"/><path d=\"M17.41 7.96l-1.37-1.37c-.4-.4-.92-.59-1.43-.59-.52 0-1.04.2-1.43.59L10.3 9.45l-7.72 7.72c-.78.78-.78 2.05 0 2.83L4 21.41c.39.39.9.59 1.41.59.51 0 1.02-.2 1.41-.59l7.78-7.78 2.81-2.81c.8-.78.8-2.07 0-2.86zM5.41 20L4 18.59l7.72-7.72 1.47 1.35L5.41 20z\"/>\n",
              "  </svg>\n",
              "      </button>\n",
              "      \n",
              "  <style>\n",
              "    .colab-df-container {\n",
              "      display:flex;\n",
              "      flex-wrap:wrap;\n",
              "      gap: 12px;\n",
              "    }\n",
              "\n",
              "    .colab-df-convert {\n",
              "      background-color: #E8F0FE;\n",
              "      border: none;\n",
              "      border-radius: 50%;\n",
              "      cursor: pointer;\n",
              "      display: none;\n",
              "      fill: #1967D2;\n",
              "      height: 32px;\n",
              "      padding: 0 0 0 0;\n",
              "      width: 32px;\n",
              "    }\n",
              "\n",
              "    .colab-df-convert:hover {\n",
              "      background-color: #E2EBFA;\n",
              "      box-shadow: 0px 1px 2px rgba(60, 64, 67, 0.3), 0px 1px 3px 1px rgba(60, 64, 67, 0.15);\n",
              "      fill: #174EA6;\n",
              "    }\n",
              "\n",
              "    [theme=dark] .colab-df-convert {\n",
              "      background-color: #3B4455;\n",
              "      fill: #D2E3FC;\n",
              "    }\n",
              "\n",
              "    [theme=dark] .colab-df-convert:hover {\n",
              "      background-color: #434B5C;\n",
              "      box-shadow: 0px 1px 3px 1px rgba(0, 0, 0, 0.15);\n",
              "      filter: drop-shadow(0px 1px 2px rgba(0, 0, 0, 0.3));\n",
              "      fill: #FFFFFF;\n",
              "    }\n",
              "  </style>\n",
              "\n",
              "      <script>\n",
              "        const buttonEl =\n",
              "          document.querySelector('#df-60b04d5d-1ecb-4fc8-b1fd-0a7019c67640 button.colab-df-convert');\n",
              "        buttonEl.style.display =\n",
              "          google.colab.kernel.accessAllowed ? 'block' : 'none';\n",
              "\n",
              "        async function convertToInteractive(key) {\n",
              "          const element = document.querySelector('#df-60b04d5d-1ecb-4fc8-b1fd-0a7019c67640');\n",
              "          const dataTable =\n",
              "            await google.colab.kernel.invokeFunction('convertToInteractive',\n",
              "                                                     [key], {});\n",
              "          if (!dataTable) return;\n",
              "\n",
              "          const docLinkHtml = 'Like what you see? Visit the ' +\n",
              "            '<a target=\"_blank\" href=https://colab.research.google.com/notebooks/data_table.ipynb>data table notebook</a>'\n",
              "            + ' to learn more about interactive tables.';\n",
              "          element.innerHTML = '';\n",
              "          dataTable['output_type'] = 'display_data';\n",
              "          await google.colab.output.renderOutput(dataTable, element);\n",
              "          const docLink = document.createElement('div');\n",
              "          docLink.innerHTML = docLinkHtml;\n",
              "          element.appendChild(docLink);\n",
              "        }\n",
              "      </script>\n",
              "    </div>\n",
              "  </div>\n",
              "  "
            ],
            "text/plain": [
              "   Unnamed: 0  CODE_GENDER  FLAG_OWN_CAR  CNT_CHILDREN  AMT_INCOME_TOTAL  \\\n",
              "0      115232            1             1             0          180000.0   \n",
              "1      113005            0             1             0          126000.0   \n",
              "2      132492            0             0             1          157500.0   \n",
              "3       18531            1             1             0          112500.0   \n",
              "4      234349            1             0             0          225000.0   \n",
              "\n",
              "   AMT_CREDIT  AMT_ANNUITY  REGION_POPULATION_RELATIVE  DAYS_BIRTH  \\\n",
              "0    312840.0       8964.0                    0.016612      -13424   \n",
              "1     49752.0       5355.0                    0.019689       -8842   \n",
              "2    150948.0      13972.5                    0.025164      -11194   \n",
              "3    319500.0      16312.5                    0.035792      -15764   \n",
              "4    387000.0      14031.0                    0.026392      -21481   \n",
              "\n",
              "   DAYS_EMPLOYED  ...  NEW_REVOLVING_LOANS_1.0  NEW_HAS_CAR_0.0  \\\n",
              "0        -5143.0  ...                        0                0   \n",
              "1        -1130.0  ...                        0                0   \n",
              "2        -1441.0  ...                        0                1   \n",
              "3        -4899.0  ...                        0                0   \n",
              "4        -1648.0  ...                        0                1   \n",
              "\n",
              "   NEW_HAS_CAR_1.0  NEW_HAS_COMPANY_0.0  NEW_HAS_COMPANY_1.0  \\\n",
              "0                1                    0                    1   \n",
              "1                1                    1                    0   \n",
              "2                0                    0                    1   \n",
              "3                1                    1                    0   \n",
              "4                0                    1                    0   \n",
              "\n",
              "   NEW_LABORERS_0.0  NEW_LABORERS_1.0  NEW_AGE_SEGMENT_MİDDLE  \\\n",
              "0                 1                 0                       1   \n",
              "1                 0                 1                       0   \n",
              "2                 1                 0                       0   \n",
              "3                 1                 0                       1   \n",
              "4                 1                 0                       0   \n",
              "\n",
              "   NEW_AGE_SEGMENT_OLD  NEW_AGE_SEGMENT_YOUNG  \n",
              "0                    0                      0  \n",
              "1                    0                      1  \n",
              "2                    0                      1  \n",
              "3                    0                      0  \n",
              "4                    1                      0  \n",
              "\n",
              "[5 rows x 85 columns]"
            ]
          },
          "metadata": {},
          "execution_count": 48
        }
      ]
    },
    {
      "cell_type": "code",
      "source": [
        ""
      ],
      "metadata": {
        "id": "CJ1a1kcPDfjX"
      },
      "execution_count": null,
      "outputs": []
    },
    {
      "cell_type": "code",
      "source": [
        "rf = RandomForestClassifier(n_jobs=-1, class_weight='balanced', max_depth=5)"
      ],
      "metadata": {
        "id": "a6RRNGDG3ykP"
      },
      "execution_count": null,
      "outputs": []
    },
    {
      "cell_type": "code",
      "source": [
        "rf.fit(df_X_train_rf, y_train)"
      ],
      "metadata": {
        "colab": {
          "base_uri": "https://localhost:8080/"
        },
        "id": "ID_9MR2vAWPm",
        "outputId": "3ce49b77-0cb5-453b-878c-5216cddb3c2e"
      },
      "execution_count": 24,
      "outputs": [
        {
          "output_type": "execute_result",
          "data": {
            "text/plain": [
              "RandomForestClassifier(class_weight='balanced', max_depth=5, n_jobs=-1)"
            ]
          },
          "metadata": {},
          "execution_count": 24
        }
      ]
    },
    {
      "cell_type": "code",
      "execution_count": null,
      "metadata": {
        "id": "OHfOUdhCyAUk"
      },
      "outputs": [],
      "source": [
        "rf_feature_imp = rf.feature_importances_"
      ]
    },
    {
      "cell_type": "code",
      "execution_count": null,
      "metadata": {
        "id": "rO46FnKZyAuz",
        "colab": {
          "base_uri": "https://localhost:8080/",
          "height": 363
        },
        "outputId": "baeee6ad-5eb7-470a-8fbc-86d6e7b4367a"
      },
      "outputs": [
        {
          "output_type": "execute_result",
          "data": {
            "text/html": [
              "\n",
              "  <div id=\"df-2adc72e2-dd21-44c8-bd87-61ad2d5ae779\">\n",
              "    <div class=\"colab-df-container\">\n",
              "      <div>\n",
              "<style scoped>\n",
              "    .dataframe tbody tr th:only-of-type {\n",
              "        vertical-align: middle;\n",
              "    }\n",
              "\n",
              "    .dataframe tbody tr th {\n",
              "        vertical-align: top;\n",
              "    }\n",
              "\n",
              "    .dataframe thead th {\n",
              "        text-align: right;\n",
              "    }\n",
              "</style>\n",
              "<table border=\"1\" class=\"dataframe\">\n",
              "  <thead>\n",
              "    <tr style=\"text-align: right;\">\n",
              "      <th></th>\n",
              "      <th>feature</th>\n",
              "      <th>importance</th>\n",
              "    </tr>\n",
              "  </thead>\n",
              "  <tbody>\n",
              "    <tr>\n",
              "      <th>37</th>\n",
              "      <td>NEW_EXT_MEAN</td>\n",
              "      <td>0.340158</td>\n",
              "    </tr>\n",
              "    <tr>\n",
              "      <th>18</th>\n",
              "      <td>EXT_SOURCE_2</td>\n",
              "      <td>0.157356</td>\n",
              "    </tr>\n",
              "    <tr>\n",
              "      <th>19</th>\n",
              "      <td>EXT_SOURCE_3</td>\n",
              "      <td>0.153191</td>\n",
              "    </tr>\n",
              "    <tr>\n",
              "      <th>8</th>\n",
              "      <td>DAYS_EMPLOYED</td>\n",
              "      <td>0.034694</td>\n",
              "    </tr>\n",
              "    <tr>\n",
              "      <th>79</th>\n",
              "      <td>NEW_LABORERS_0.0</td>\n",
              "      <td>0.030279</td>\n",
              "    </tr>\n",
              "    <tr>\n",
              "      <th>80</th>\n",
              "      <td>NEW_LABORERS_1.0</td>\n",
              "      <td>0.030118</td>\n",
              "    </tr>\n",
              "    <tr>\n",
              "      <th>7</th>\n",
              "      <td>DAYS_BIRTH</td>\n",
              "      <td>0.024821</td>\n",
              "    </tr>\n",
              "    <tr>\n",
              "      <th>38</th>\n",
              "      <td>NEW_AGE</td>\n",
              "      <td>0.024130</td>\n",
              "    </tr>\n",
              "    <tr>\n",
              "      <th>32</th>\n",
              "      <td>NEW_DAYS_EMPLOYED_PERC</td>\n",
              "      <td>0.023423</td>\n",
              "    </tr>\n",
              "    <tr>\n",
              "      <th>46</th>\n",
              "      <td>NAME_EDUCATION_TYPE_Higher education</td>\n",
              "      <td>0.021492</td>\n",
              "    </tr>\n",
              "  </tbody>\n",
              "</table>\n",
              "</div>\n",
              "      <button class=\"colab-df-convert\" onclick=\"convertToInteractive('df-2adc72e2-dd21-44c8-bd87-61ad2d5ae779')\"\n",
              "              title=\"Convert this dataframe to an interactive table.\"\n",
              "              style=\"display:none;\">\n",
              "        \n",
              "  <svg xmlns=\"http://www.w3.org/2000/svg\" height=\"24px\"viewBox=\"0 0 24 24\"\n",
              "       width=\"24px\">\n",
              "    <path d=\"M0 0h24v24H0V0z\" fill=\"none\"/>\n",
              "    <path d=\"M18.56 5.44l.94 2.06.94-2.06 2.06-.94-2.06-.94-.94-2.06-.94 2.06-2.06.94zm-11 1L8.5 8.5l.94-2.06 2.06-.94-2.06-.94L8.5 2.5l-.94 2.06-2.06.94zm10 10l.94 2.06.94-2.06 2.06-.94-2.06-.94-.94-2.06-.94 2.06-2.06.94z\"/><path d=\"M17.41 7.96l-1.37-1.37c-.4-.4-.92-.59-1.43-.59-.52 0-1.04.2-1.43.59L10.3 9.45l-7.72 7.72c-.78.78-.78 2.05 0 2.83L4 21.41c.39.39.9.59 1.41.59.51 0 1.02-.2 1.41-.59l7.78-7.78 2.81-2.81c.8-.78.8-2.07 0-2.86zM5.41 20L4 18.59l7.72-7.72 1.47 1.35L5.41 20z\"/>\n",
              "  </svg>\n",
              "      </button>\n",
              "      \n",
              "  <style>\n",
              "    .colab-df-container {\n",
              "      display:flex;\n",
              "      flex-wrap:wrap;\n",
              "      gap: 12px;\n",
              "    }\n",
              "\n",
              "    .colab-df-convert {\n",
              "      background-color: #E8F0FE;\n",
              "      border: none;\n",
              "      border-radius: 50%;\n",
              "      cursor: pointer;\n",
              "      display: none;\n",
              "      fill: #1967D2;\n",
              "      height: 32px;\n",
              "      padding: 0 0 0 0;\n",
              "      width: 32px;\n",
              "    }\n",
              "\n",
              "    .colab-df-convert:hover {\n",
              "      background-color: #E2EBFA;\n",
              "      box-shadow: 0px 1px 2px rgba(60, 64, 67, 0.3), 0px 1px 3px 1px rgba(60, 64, 67, 0.15);\n",
              "      fill: #174EA6;\n",
              "    }\n",
              "\n",
              "    [theme=dark] .colab-df-convert {\n",
              "      background-color: #3B4455;\n",
              "      fill: #D2E3FC;\n",
              "    }\n",
              "\n",
              "    [theme=dark] .colab-df-convert:hover {\n",
              "      background-color: #434B5C;\n",
              "      box-shadow: 0px 1px 3px 1px rgba(0, 0, 0, 0.15);\n",
              "      filter: drop-shadow(0px 1px 2px rgba(0, 0, 0, 0.3));\n",
              "      fill: #FFFFFF;\n",
              "    }\n",
              "  </style>\n",
              "\n",
              "      <script>\n",
              "        const buttonEl =\n",
              "          document.querySelector('#df-2adc72e2-dd21-44c8-bd87-61ad2d5ae779 button.colab-df-convert');\n",
              "        buttonEl.style.display =\n",
              "          google.colab.kernel.accessAllowed ? 'block' : 'none';\n",
              "\n",
              "        async function convertToInteractive(key) {\n",
              "          const element = document.querySelector('#df-2adc72e2-dd21-44c8-bd87-61ad2d5ae779');\n",
              "          const dataTable =\n",
              "            await google.colab.kernel.invokeFunction('convertToInteractive',\n",
              "                                                     [key], {});\n",
              "          if (!dataTable) return;\n",
              "\n",
              "          const docLinkHtml = 'Like what you see? Visit the ' +\n",
              "            '<a target=\"_blank\" href=https://colab.research.google.com/notebooks/data_table.ipynb>data table notebook</a>'\n",
              "            + ' to learn more about interactive tables.';\n",
              "          element.innerHTML = '';\n",
              "          dataTable['output_type'] = 'display_data';\n",
              "          await google.colab.output.renderOutput(dataTable, element);\n",
              "          const docLink = document.createElement('div');\n",
              "          docLink.innerHTML = docLinkHtml;\n",
              "          element.appendChild(docLink);\n",
              "        }\n",
              "      </script>\n",
              "    </div>\n",
              "  </div>\n",
              "  "
            ],
            "text/plain": [
              "                                 feature  importance\n",
              "37                          NEW_EXT_MEAN    0.340158\n",
              "18                          EXT_SOURCE_2    0.157356\n",
              "19                          EXT_SOURCE_3    0.153191\n",
              "8                          DAYS_EMPLOYED    0.034694\n",
              "79                      NEW_LABORERS_0.0    0.030279\n",
              "80                      NEW_LABORERS_1.0    0.030118\n",
              "7                             DAYS_BIRTH    0.024821\n",
              "38                               NEW_AGE    0.024130\n",
              "32                NEW_DAYS_EMPLOYED_PERC    0.023423\n",
              "46  NAME_EDUCATION_TYPE_Higher education    0.021492"
            ]
          },
          "metadata": {},
          "execution_count": 41
        }
      ],
      "source": [
        "feature_importances = pd.DataFrame({'feature': list(df_X_train_rf.columns), 'importance': rf_feature_imp}).sort_values('importance', ascending = False)\n",
        "\n",
        "feature_importances.head(10)"
      ]
    },
    {
      "cell_type": "code",
      "execution_count": null,
      "metadata": {
        "id": "52OHasKfyAxm"
      },
      "outputs": [],
      "source": [
        "def plot_feature_importances(df, threshold = 0.9):\n",
        "    \"\"\"\n",
        "    Plots 15 most important features and the cumulative importance of features.\n",
        "    Prints the number of features needed to reach threshold cumulative importance.\n",
        "    \n",
        "    Parameters\n",
        "    --------\n",
        "    df : dataframe\n",
        "        Dataframe of feature importances. Columns must be feature and importance\n",
        "    threshold : float, default = 0.9\n",
        "        Threshold for prining information about cumulative importances\n",
        "        \n",
        "    Return\n",
        "    --------\n",
        "    df : dataframe\n",
        "        Dataframe ordered by feature importances with a normalized column (sums to 1)\n",
        "        and a cumulative importance column\n",
        "    \n",
        "    \"\"\"\n",
        "\n",
        "    plt.rcParams['font.size'] = 18\n",
        "    \n",
        "    # Sort features according to importance\n",
        "    df = df.sort_values('importance', ascending = False).reset_index()\n",
        "    \n",
        "    # Normalize the feature importances to add up to one\n",
        "    df['importance_normalized'] = df['importance'] / df['importance'].sum()\n",
        "    df['cumulative_importance'] = np.cumsum(df['importance_normalized'])\n",
        "\n",
        "    # Make a horizontal bar chart of feature importances\n",
        "    plt.figure(figsize = (10, 6))\n",
        "    ax = plt.subplot()\n",
        "    \n",
        "    # Need to reverse the index to plot most important on top\n",
        "    ax.barh(list(reversed(list(df.index[:15]))), \n",
        "            df['importance_normalized'].head(15), \n",
        "            align = 'center', edgecolor = 'k')\n",
        "        # Set the yticks and labels\n",
        "    ax.set_yticks(list(reversed(list(df.index[:15]))))\n",
        "    ax.set_yticklabels(df['feature'].head(15))\n",
        "    \n",
        "    # Plot labeling\n",
        "    plt.xlabel('Normalized Importance'); plt.title('Feature Importances')\n",
        "    plt.show()\n",
        "    \n",
        "    # Cumulative importance plot\n",
        "    plt.figure(figsize = (8, 6))\n",
        "    plt.plot(list(range(len(df))), df['cumulative_importance'], 'r-')\n",
        "    plt.xlabel('Number of Features'); plt.ylabel('Cumulative Importance'); \n",
        "    plt.title('Cumulative Feature Importance');\n",
        "    plt.show();\n",
        "    \n",
        "    importance_index = np.min(np.where(df['cumulative_importance'] > threshold))\n",
        "    print('%d features required for %0.2f of cumulative importance' % (importance_index + 1, threshold))\n",
        "    \n",
        "    return df"
      ]
    },
    {
      "cell_type": "code",
      "execution_count": null,
      "metadata": {
        "id": "ePGb1uA7yy96",
        "colab": {
          "base_uri": "https://localhost:8080/",
          "height": 852
        },
        "outputId": "1ff3fc68-9f7b-446d-ac09-861a72e77b8c"
      },
      "outputs": [
        {
          "output_type": "display_data",
          "data": {
            "image/png": "[encoded data removed]",
            "text/plain": [
              "<Figure size 720x432 with 1 Axes>"
            ]
          },
          "metadata": {
            "needs_background": "light"
          }
        },
        {
          "output_type": "display_data",
          "data": {
            "image/png": "[encoded data removed]",
            "text/plain": [
              "<Figure size 576x432 with 1 Axes>"
            ]
          },
          "metadata": {
            "needs_background": "light"
          }
        },
        {
          "output_type": "stream",
          "name": "stdout",
          "text": [
            "15 features required for 0.90 of cumulative importance\n"
          ]
        }
      ],
      "source": [
        "norm_feature_importances = plot_feature_importances(feature_importances)"
      ]
    },
    {
      "cell_type": "code",
      "execution_count": null,
      "metadata": {
        "id": "PRi1a1Q4yzBJ",
        "colab": {
          "base_uri": "https://localhost:8080/",
          "height": 380
        },
        "outputId": "9e36e9eb-44e4-4a97-b8a1-91f574af4015"
      },
      "outputs": [
        {
          "output_type": "stream",
          "name": "stdout",
          "text": [
            "There are 0 features with 0.0 importance\n"
          ]
        },
        {
          "output_type": "execute_result",
          "data": {
            "text/html": [
              "\n",
              "  <div id=\"df-e05a8f19-3496-4b87-bcb7-9fd5096d10fe\">\n",
              "    <div class=\"colab-df-container\">\n",
              "      <div>\n",
              "<style scoped>\n",
              "    .dataframe tbody tr th:only-of-type {\n",
              "        vertical-align: middle;\n",
              "    }\n",
              "\n",
              "    .dataframe tbody tr th {\n",
              "        vertical-align: top;\n",
              "    }\n",
              "\n",
              "    .dataframe thead th {\n",
              "        text-align: right;\n",
              "    }\n",
              "</style>\n",
              "<table border=\"1\" class=\"dataframe\">\n",
              "  <thead>\n",
              "    <tr style=\"text-align: right;\">\n",
              "      <th></th>\n",
              "      <th>feature</th>\n",
              "      <th>importance</th>\n",
              "    </tr>\n",
              "  </thead>\n",
              "  <tbody>\n",
              "    <tr>\n",
              "      <th>63</th>\n",
              "      <td>ORGANIZATION_TYPE_Self-employed</td>\n",
              "      <td>0.000069</td>\n",
              "    </tr>\n",
              "    <tr>\n",
              "      <th>11</th>\n",
              "      <td>FLAG_WORK_PHONE</td>\n",
              "      <td>0.000066</td>\n",
              "    </tr>\n",
              "    <tr>\n",
              "      <th>60</th>\n",
              "      <td>OCCUPATION_TYPE_Sales staff</td>\n",
              "      <td>0.000059</td>\n",
              "    </tr>\n",
              "    <tr>\n",
              "      <th>52</th>\n",
              "      <td>NAME_HOUSING_TYPE_With parents</td>\n",
              "      <td>0.000049</td>\n",
              "    </tr>\n",
              "    <tr>\n",
              "      <th>65</th>\n",
              "      <td>FONDKAPREMONT_MODE_reg oper account</td>\n",
              "      <td>0.000048</td>\n",
              "    </tr>\n",
              "    <tr>\n",
              "      <th>50</th>\n",
              "      <td>NAME_FAMILY_STATUS_Widow</td>\n",
              "      <td>0.000027</td>\n",
              "    </tr>\n",
              "    <tr>\n",
              "      <th>58</th>\n",
              "      <td>OCCUPATION_TYPE_Low-skill Laborers</td>\n",
              "      <td>0.000025</td>\n",
              "    </tr>\n",
              "    <tr>\n",
              "      <th>56</th>\n",
              "      <td>OCCUPATION_TYPE_High skill tech staff</td>\n",
              "      <td>0.000023</td>\n",
              "    </tr>\n",
              "    <tr>\n",
              "      <th>29</th>\n",
              "      <td>FLAG_DOCUMENT_6</td>\n",
              "      <td>0.000015</td>\n",
              "    </tr>\n",
              "    <tr>\n",
              "      <th>59</th>\n",
              "      <td>OCCUPATION_TYPE_Managers</td>\n",
              "      <td>0.000013</td>\n",
              "    </tr>\n",
              "  </tbody>\n",
              "</table>\n",
              "</div>\n",
              "      <button class=\"colab-df-convert\" onclick=\"convertToInteractive('df-e05a8f19-3496-4b87-bcb7-9fd5096d10fe')\"\n",
              "              title=\"Convert this dataframe to an interactive table.\"\n",
              "              style=\"display:none;\">\n",
              "        \n",
              "  <svg xmlns=\"http://www.w3.org/2000/svg\" height=\"24px\"viewBox=\"0 0 24 24\"\n",
              "       width=\"24px\">\n",
              "    <path d=\"M0 0h24v24H0V0z\" fill=\"none\"/>\n",
              "    <path d=\"M18.56 5.44l.94 2.06.94-2.06 2.06-.94-2.06-.94-.94-2.06-.94 2.06-2.06.94zm-11 1L8.5 8.5l.94-2.06 2.06-.94-2.06-.94L8.5 2.5l-.94 2.06-2.06.94zm10 10l.94 2.06.94-2.06 2.06-.94-2.06-.94-.94-2.06-.94 2.06-2.06.94z\"/><path d=\"M17.41 7.96l-1.37-1.37c-.4-.4-.92-.59-1.43-.59-.52 0-1.04.2-1.43.59L10.3 9.45l-7.72 7.72c-.78.78-.78 2.05 0 2.83L4 21.41c.39.39.9.59 1.41.59.51 0 1.02-.2 1.41-.59l7.78-7.78 2.81-2.81c.8-.78.8-2.07 0-2.86zM5.41 20L4 18.59l7.72-7.72 1.47 1.35L5.41 20z\"/>\n",
              "  </svg>\n",
              "      </button>\n",
              "      \n",
              "  <style>\n",
              "    .colab-df-container {\n",
              "      display:flex;\n",
              "      flex-wrap:wrap;\n",
              "      gap: 12px;\n",
              "    }\n",
              "\n",
              "    .colab-df-convert {\n",
              "      background-color: #E8F0FE;\n",
              "      border: none;\n",
              "      border-radius: 50%;\n",
              "      cursor: pointer;\n",
              "      display: none;\n",
              "      fill: #1967D2;\n",
              "      height: 32px;\n",
              "      padding: 0 0 0 0;\n",
              "      width: 32px;\n",
              "    }\n",
              "\n",
              "    .colab-df-convert:hover {\n",
              "      background-color: #E2EBFA;\n",
              "      box-shadow: 0px 1px 2px rgba(60, 64, 67, 0.3), 0px 1px 3px 1px rgba(60, 64, 67, 0.15);\n",
              "      fill: #174EA6;\n",
              "    }\n",
              "\n",
              "    [theme=dark] .colab-df-convert {\n",
              "      background-color: #3B4455;\n",
              "      fill: #D2E3FC;\n",
              "    }\n",
              "\n",
              "    [theme=dark] .colab-df-convert:hover {\n",
              "      background-color: #434B5C;\n",
              "      box-shadow: 0px 1px 3px 1px rgba(0, 0, 0, 0.15);\n",
              "      filter: drop-shadow(0px 1px 2px rgba(0, 0, 0, 0.3));\n",
              "      fill: #FFFFFF;\n",
              "    }\n",
              "  </style>\n",
              "\n",
              "      <script>\n",
              "        const buttonEl =\n",
              "          document.querySelector('#df-e05a8f19-3496-4b87-bcb7-9fd5096d10fe button.colab-df-convert');\n",
              "        buttonEl.style.display =\n",
              "          google.colab.kernel.accessAllowed ? 'block' : 'none';\n",
              "\n",
              "        async function convertToInteractive(key) {\n",
              "          const element = document.querySelector('#df-e05a8f19-3496-4b87-bcb7-9fd5096d10fe');\n",
              "          const dataTable =\n",
              "            await google.colab.kernel.invokeFunction('convertToInteractive',\n",
              "                                                     [key], {});\n",
              "          if (!dataTable) return;\n",
              "\n",
              "          const docLinkHtml = 'Like what you see? Visit the ' +\n",
              "            '<a target=\"_blank\" href=https://colab.research.google.com/notebooks/data_table.ipynb>data table notebook</a>'\n",
              "            + ' to learn more about interactive tables.';\n",
              "          element.innerHTML = '';\n",
              "          dataTable['output_type'] = 'display_data';\n",
              "          await google.colab.output.renderOutput(dataTable, element);\n",
              "          const docLink = document.createElement('div');\n",
              "          docLink.innerHTML = docLinkHtml;\n",
              "          element.appendChild(docLink);\n",
              "        }\n",
              "      </script>\n",
              "    </div>\n",
              "  </div>\n",
              "  "
            ],
            "text/plain": [
              "                                  feature  importance\n",
              "63        ORGANIZATION_TYPE_Self-employed    0.000069\n",
              "11                        FLAG_WORK_PHONE    0.000066\n",
              "60            OCCUPATION_TYPE_Sales staff    0.000059\n",
              "52         NAME_HOUSING_TYPE_With parents    0.000049\n",
              "65    FONDKAPREMONT_MODE_reg oper account    0.000048\n",
              "50               NAME_FAMILY_STATUS_Widow    0.000027\n",
              "58     OCCUPATION_TYPE_Low-skill Laborers    0.000025\n",
              "56  OCCUPATION_TYPE_High skill tech staff    0.000023\n",
              "29                        FLAG_DOCUMENT_6    0.000015\n",
              "59               OCCUPATION_TYPE_Managers    0.000013"
            ]
          },
          "metadata": {},
          "execution_count": 44
        }
      ],
      "source": [
        "# Find the features with zero importance\n",
        "zero_features = list(feature_importances[feature_importances['importance'] == 0.0]['feature'])\n",
        "print('There are %d features with 0.0 importance' % len(zero_features))\n",
        "feature_importances.tail(10)"
      ]
    },
    {
      "cell_type": "code",
      "source": [
        ""
      ],
      "metadata": {
        "id": "gJHy677JuXkp"
      },
      "execution_count": null,
      "outputs": []
    },
    {
      "cell_type": "code",
      "source": [
        ""
      ],
      "metadata": {
        "id": "hqK3ZsHI7lHM"
      },
      "execution_count": null,
      "outputs": []
    },
    {
      "cell_type": "markdown",
      "source": [
        "**Model Prediction**"
      ],
      "metadata": {
        "id": "xsQ1l-q4tIPb"
      }
    },
    {
      "cell_type": "code",
      "source": [
        "df1=pd.DataFrame()\n",
        "df1['predict']=rf.predict_proba(df_X_test_rf)[:,1]"
      ],
      "metadata": {
        "id": "81bISjwztUnm"
      },
      "execution_count": null,
      "outputs": []
    },
    {
      "cell_type": "code",
      "source": [
        "plt.figure()\n",
        "Histo('predict', df1, 50)\n",
        "plt.title('Graphique des probabibilités d\\'affectation')"
      ],
      "metadata": {
        "colab": {
          "base_uri": "https://localhost:8080/",
          "height": 410
        },
        "id": "5gT1LAUstUqj",
        "outputId": "a192ea11-1ef2-4f8c-cb61-44c0e829102c"
      },
      "execution_count": null,
      "outputs": [
        {
          "output_type": "execute_result",
          "data": {
            "text/plain": [
              "Text(0.5, 1.0, \"Graphique des probabibilités d'affectation\")"
            ]
          },
          "metadata": {},
          "execution_count": 60
        },
        {
          "output_type": "display_data",
          "data": {
            "text/plain": [
              "<Figure size 432x288 with 0 Axes>"
            ]
          },
          "metadata": {}
        },
        {
          "output_type": "display_data",
          "data": {
            "image/png": "[encoded data removed]",
            "text/plain": [
              "<Figure size 360x360 with 1 Axes>"
            ]
          },
          "metadata": {
            "needs_background": "light"
          }
        }
      ]
    },
    {
      "cell_type": "code",
      "source": [
        "#prédiction\n",
        "#y_pred = model_best.predict(X_scale_test)\n",
        "#on va prendre la deuxieme colonne qui est le score de présence \n",
        "#model_best.predict_proba(X_scale_test)[:,1]>0.5\n",
        "r=rf.predict_proba(df_X_test_rf)[:,1]\n",
        "y_predr=np.array(r>0.3,dtype=int)"
      ],
      "metadata": {
        "id": "TB09VG2gtUtX"
      },
      "execution_count": null,
      "outputs": []
    },
    {
      "cell_type": "code",
      "source": [
        "plt.figure()\n",
        "Histo('predict', df1, 50)\n",
        "plt.axvline(x=0.5, color='red')\n",
        "plt.annotate('Le Client  ne Rembourse pas',xy=(0.7,1500),xytext=(0.8,2000),arrowprops=\n",
        "             {'facecolor':'#5930F2'})\n",
        "plt.title('Graphique des probabibilités d\\'affectation Random Forest')"
      ],
      "metadata": {
        "colab": {
          "base_uri": "https://localhost:8080/",
          "height": 410
        },
        "id": "pS70rfOstUvC",
        "outputId": "13f447a0-1b7b-4456-baf7-aea4245509f2"
      },
      "execution_count": null,
      "outputs": [
        {
          "output_type": "execute_result",
          "data": {
            "text/plain": [
              "Text(0.5, 1.0, \"Graphique des probabibilités d'affectation Random Forest\")"
            ]
          },
          "metadata": {},
          "execution_count": 63
        },
        {
          "output_type": "display_data",
          "data": {
            "text/plain": [
              "<Figure size 432x288 with 0 Axes>"
            ]
          },
          "metadata": {}
        },
        {
          "output_type": "display_data",
          "data": {
            "image/png": "[encoded data removed]",
            "text/plain": [
              "<Figure size 360x360 with 1 Axes>"
            ]
          },
          "metadata": {
            "needs_background": "light"
          }
        }
      ]
    },
    {
      "cell_type": "code",
      "source": [
        "logi_confusion = me.confusion_matrix(y_test, y_predr)"
      ],
      "metadata": {
        "id": "yzQ6Se28tUyl"
      },
      "execution_count": null,
      "outputs": []
    },
    {
      "cell_type": "code",
      "execution_count": null,
      "metadata": {
        "id": "U5g5W43m8LhQ",
        "colab": {
          "base_uri": "https://localhost:8080/"
        },
        "outputId": "42e3e626-28b0-4fcb-ce81-e0e8e7703605"
      },
      "outputs": [
        {
          "output_type": "stream",
          "name": "stdout",
          "text": [
            "[[ 7882 76994]\n",
            " [  131  7245]]\n",
            "\n",
            "              precision    recall  f1-score   support\n",
            "\n",
            "         0.0       0.98      0.09      0.17     84876\n",
            "         1.0       0.09      0.98      0.16      7376\n",
            "\n",
            "    accuracy                           0.16     92252\n",
            "   macro avg       0.53      0.54      0.16     92252\n",
            "weighted avg       0.91      0.16      0.17     92252\n",
            "\n"
          ]
        }
      ],
      "source": [
        "cls_labels_transform = conf_mat_transform(y_test, y_predr)\n",
        "conf_mat = me.confusion_matrix(y_test, y_predr)\n",
        "print(conf_mat)\n",
        "print()\n",
        "print(me.classification_report(y_test, y_predr))\n",
        "#accuracy =precision la plus part sont prédits positifs et le sont effectivement\n",
        "#recall=sensibilte taux de vrais positifs \n",
        "#specifite =taux de varais negatifs"
      ]
    },
    {
      "cell_type": "code",
      "source": [
        "df_cm = pd.DataFrame(conf_mat/y_test.shape[0], index = [label for label in data_clean['TARGET'].value_counts().index ],\n",
        "                  columns = [i for i in data_clean['TARGET'].value_counts().index ])\n",
        "plt.figure(figsize = (5,5))\n",
        "sns.heatmap(df_cm, annot=True, cmap=\"Blues\")\n",
        "plt.xlabel('Actual',fontsize = 20, fontweight = 'bold')\n",
        "plt.ylabel('Predict',fontsize = 20, fontweight = 'bold')"
      ],
      "metadata": {
        "colab": {
          "base_uri": "https://localhost:8080/",
          "height": 368
        },
        "id": "3GebBUzU5m3W",
        "outputId": "d27233e2-f1dd-45fe-aaed-aedc6d61f7b1"
      },
      "execution_count": null,
      "outputs": [
        {
          "output_type": "execute_result",
          "data": {
            "text/plain": [
              "Text(16.0, 0.5, 'Predict')"
            ]
          },
          "metadata": {},
          "execution_count": 84
        },
        {
          "output_type": "display_data",
          "data": {
            "image/png": "[encoded data removed]",
            "text/plain": [
              "<Figure size 360x360 with 2 Axes>"
            ]
          },
          "metadata": {
            "needs_background": "light"
          }
        }
      ]
    },
    {
      "cell_type": "code",
      "execution_count": null,
      "metadata": {
        "id": "BnL8NrcVgPsj",
        "colab": {
          "base_uri": "https://localhost:8080/"
        },
        "outputId": "c359baf9-fec9-4e80-af19-e71c3a17e8bf"
      },
      "outputs": [
        {
          "output_type": "execute_result",
          "data": {
            "text/plain": [
              "make_scorer(customScore)"
            ]
          },
          "metadata": {},
          "execution_count": 141
        }
      ],
      "source": [
        "score_rf = make_scorer(customScore ,greater_is_better = True)\n",
        "#création de notre propre score grace à make_scorer\n",
        "score_rf"
      ]
    },
    {
      "cell_type": "code",
      "execution_count": null,
      "metadata": {
        "id": "PZUzzJC8pwT0",
        "colab": {
          "base_uri": "https://localhost:8080/"
        },
        "outputId": "5a954e10-37b2-4274-e37e-99e08f33468c"
      },
      "outputs": [
        {
          "output_type": "execute_result",
          "data": {
            "text/plain": [
              "23189.900000000005"
            ]
          },
          "metadata": {},
          "execution_count": 86
        }
      ],
      "source": [
        "score_random=customScore(y_test, y_predr)\n",
        "#notre scorer\n",
        "score_random"
      ]
    },
    {
      "cell_type": "code",
      "execution_count": null,
      "metadata": {
        "id": "QBA1oLqJpwbC",
        "colab": {
          "base_uri": "https://localhost:8080/"
        },
        "outputId": "41fb4a1a-3a9d-4e6d-ee93-3b023c9517a5"
      },
      "outputs": [
        {
          "output_type": "execute_result",
          "data": {
            "text/plain": [
              "0.16397476477474743"
            ]
          },
          "metadata": {},
          "execution_count": 87
        }
      ],
      "source": [
        "precisionRandom= accuracy_score(y_test, y_predr)\n",
        "precisionRandom"
      ]
    },
    {
      "cell_type": "code",
      "execution_count": null,
      "metadata": {
        "id": "rcT0_5Nwpwd8",
        "colab": {
          "base_uri": "https://localhost:8080/"
        },
        "outputId": "8b2515ac-077e-4b30-fee8-589770d64f92"
      },
      "outputs": [
        {
          "output_type": "execute_result",
          "data": {
            "text/plain": [
              "0.9822396963123644"
            ]
          },
          "metadata": {},
          "execution_count": 88
        }
      ],
      "source": [
        "rappel_random=recall_score(y_test, y_predr)\n",
        "rappel_random"
      ]
    },
    {
      "cell_type": "code",
      "execution_count": null,
      "metadata": {
        "id": "B5w4mQnppwj9"
      },
      "outputs": [],
      "source": [
        ""
      ]
    },
    {
      "cell_type": "code",
      "execution_count": null,
      "metadata": {
        "id": "kC1IidjMr7Qg",
        "colab": {
          "base_uri": "https://localhost:8080/",
          "height": 719
        },
        "outputId": "7d4a3bd9-d01d-4db3-8010-049ade819576"
      },
      "outputs": [
        {
          "output_type": "display_data",
          "data": {
            "text/html": [
              "\n",
              "  <div id=\"df-b7b97032-d28a-4b3d-8875-c65cd8396122\">\n",
              "    <div class=\"colab-df-container\">\n",
              "      <div>\n",
              "<style scoped>\n",
              "    .dataframe tbody tr th:only-of-type {\n",
              "        vertical-align: middle;\n",
              "    }\n",
              "\n",
              "    .dataframe tbody tr th {\n",
              "        vertical-align: top;\n",
              "    }\n",
              "\n",
              "    .dataframe thead th {\n",
              "        text-align: right;\n",
              "    }\n",
              "</style>\n",
              "<table border=\"1\" class=\"dataframe\">\n",
              "  <thead>\n",
              "    <tr style=\"text-align: right;\">\n",
              "      <th></th>\n",
              "      <th>thr</th>\n",
              "      <th>tpr</th>\n",
              "      <th>fpr</th>\n",
              "    </tr>\n",
              "  </thead>\n",
              "  <tbody>\n",
              "    <tr>\n",
              "      <th>0</th>\n",
              "      <td>1.760252</td>\n",
              "      <td>0.000000</td>\n",
              "      <td>0.000000</td>\n",
              "    </tr>\n",
              "    <tr>\n",
              "      <th>1</th>\n",
              "      <td>0.760252</td>\n",
              "      <td>0.000000</td>\n",
              "      <td>0.000012</td>\n",
              "    </tr>\n",
              "    <tr>\n",
              "      <th>2</th>\n",
              "      <td>0.758987</td>\n",
              "      <td>0.000000</td>\n",
              "      <td>0.000024</td>\n",
              "    </tr>\n",
              "    <tr>\n",
              "      <th>3</th>\n",
              "      <td>0.758773</td>\n",
              "      <td>0.000136</td>\n",
              "      <td>0.000024</td>\n",
              "    </tr>\n",
              "    <tr>\n",
              "      <th>4</th>\n",
              "      <td>0.758740</td>\n",
              "      <td>0.000136</td>\n",
              "      <td>0.000035</td>\n",
              "    </tr>\n",
              "    <tr>\n",
              "      <th>...</th>\n",
              "      <td>...</td>\n",
              "      <td>...</td>\n",
              "      <td>...</td>\n",
              "    </tr>\n",
              "    <tr>\n",
              "      <th>12700</th>\n",
              "      <td>0.240407</td>\n",
              "      <td>0.999729</td>\n",
              "      <td>0.996784</td>\n",
              "    </tr>\n",
              "    <tr>\n",
              "      <th>12701</th>\n",
              "      <td>0.240407</td>\n",
              "      <td>0.999864</td>\n",
              "      <td>0.996784</td>\n",
              "    </tr>\n",
              "    <tr>\n",
              "      <th>12702</th>\n",
              "      <td>0.237963</td>\n",
              "      <td>0.999864</td>\n",
              "      <td>0.997420</td>\n",
              "    </tr>\n",
              "    <tr>\n",
              "      <th>12703</th>\n",
              "      <td>0.237953</td>\n",
              "      <td>1.000000</td>\n",
              "      <td>0.997420</td>\n",
              "    </tr>\n",
              "    <tr>\n",
              "      <th>12704</th>\n",
              "      <td>0.203944</td>\n",
              "      <td>1.000000</td>\n",
              "      <td>1.000000</td>\n",
              "    </tr>\n",
              "  </tbody>\n",
              "</table>\n",
              "<p>12705 rows × 3 columns</p>\n",
              "</div>\n",
              "      <button class=\"colab-df-convert\" onclick=\"convertToInteractive('df-b7b97032-d28a-4b3d-8875-c65cd8396122')\"\n",
              "              title=\"Convert this dataframe to an interactive table.\"\n",
              "              style=\"display:none;\">\n",
              "        \n",
              "  <svg xmlns=\"http://www.w3.org/2000/svg\" height=\"24px\"viewBox=\"0 0 24 24\"\n",
              "       width=\"24px\">\n",
              "    <path d=\"M0 0h24v24H0V0z\" fill=\"none\"/>\n",
              "    <path d=\"M18.56 5.44l.94 2.06.94-2.06 2.06-.94-2.06-.94-.94-2.06-.94 2.06-2.06.94zm-11 1L8.5 8.5l.94-2.06 2.06-.94-2.06-.94L8.5 2.5l-.94 2.06-2.06.94zm10 10l.94 2.06.94-2.06 2.06-.94-2.06-.94-.94-2.06-.94 2.06-2.06.94z\"/><path d=\"M17.41 7.96l-1.37-1.37c-.4-.4-.92-.59-1.43-.59-.52 0-1.04.2-1.43.59L10.3 9.45l-7.72 7.72c-.78.78-.78 2.05 0 2.83L4 21.41c.39.39.9.59 1.41.59.51 0 1.02-.2 1.41-.59l7.78-7.78 2.81-2.81c.8-.78.8-2.07 0-2.86zM5.41 20L4 18.59l7.72-7.72 1.47 1.35L5.41 20z\"/>\n",
              "  </svg>\n",
              "      </button>\n",
              "      \n",
              "  <style>\n",
              "    .colab-df-container {\n",
              "      display:flex;\n",
              "      flex-wrap:wrap;\n",
              "      gap: 12px;\n",
              "    }\n",
              "\n",
              "    .colab-df-convert {\n",
              "      background-color: #E8F0FE;\n",
              "      border: none;\n",
              "      border-radius: 50%;\n",
              "      cursor: pointer;\n",
              "      display: none;\n",
              "      fill: #1967D2;\n",
              "      height: 32px;\n",
              "      padding: 0 0 0 0;\n",
              "      width: 32px;\n",
              "    }\n",
              "\n",
              "    .colab-df-convert:hover {\n",
              "      background-color: #E2EBFA;\n",
              "      box-shadow: 0px 1px 2px rgba(60, 64, 67, 0.3), 0px 1px 3px 1px rgba(60, 64, 67, 0.15);\n",
              "      fill: #174EA6;\n",
              "    }\n",
              "\n",
              "    [theme=dark] .colab-df-convert {\n",
              "      background-color: #3B4455;\n",
              "      fill: #D2E3FC;\n",
              "    }\n",
              "\n",
              "    [theme=dark] .colab-df-convert:hover {\n",
              "      background-color: #434B5C;\n",
              "      box-shadow: 0px 1px 3px 1px rgba(0, 0, 0, 0.15);\n",
              "      filter: drop-shadow(0px 1px 2px rgba(0, 0, 0, 0.3));\n",
              "      fill: #FFFFFF;\n",
              "    }\n",
              "  </style>\n",
              "\n",
              "      <script>\n",
              "        const buttonEl =\n",
              "          document.querySelector('#df-b7b97032-d28a-4b3d-8875-c65cd8396122 button.colab-df-convert');\n",
              "        buttonEl.style.display =\n",
              "          google.colab.kernel.accessAllowed ? 'block' : 'none';\n",
              "\n",
              "        async function convertToInteractive(key) {\n",
              "          const element = document.querySelector('#df-b7b97032-d28a-4b3d-8875-c65cd8396122');\n",
              "          const dataTable =\n",
              "            await google.colab.kernel.invokeFunction('convertToInteractive',\n",
              "                                                     [key], {});\n",
              "          if (!dataTable) return;\n",
              "\n",
              "          const docLinkHtml = 'Like what you see? Visit the ' +\n",
              "            '<a target=\"_blank\" href=https://colab.research.google.com/notebooks/data_table.ipynb>data table notebook</a>'\n",
              "            + ' to learn more about interactive tables.';\n",
              "          element.innerHTML = '';\n",
              "          dataTable['output_type'] = 'display_data';\n",
              "          await google.colab.output.renderOutput(dataTable, element);\n",
              "          const docLink = document.createElement('div');\n",
              "          docLink.innerHTML = docLinkHtml;\n",
              "          element.appendChild(docLink);\n",
              "        }\n",
              "      </script>\n",
              "    </div>\n",
              "  </div>\n",
              "  "
            ],
            "text/plain": [
              "            thr       tpr       fpr\n",
              "0      1.760252  0.000000  0.000000\n",
              "1      0.760252  0.000000  0.000012\n",
              "2      0.758987  0.000000  0.000024\n",
              "3      0.758773  0.000136  0.000024\n",
              "4      0.758740  0.000136  0.000035\n",
              "...         ...       ...       ...\n",
              "12700  0.240407  0.999729  0.996784\n",
              "12701  0.240407  0.999864  0.996784\n",
              "12702  0.237963  0.999864  0.997420\n",
              "12703  0.237953  1.000000  0.997420\n",
              "12704  0.203944  1.000000  1.000000\n",
              "\n",
              "[12705 rows x 3 columns]"
            ]
          },
          "metadata": {}
        },
        {
          "output_type": "stream",
          "name": "stdout",
          "text": [
            "AUC : 0.7358852787054209\n"
          ]
        },
        {
          "output_type": "display_data",
          "data": {
            "image/png": "[encoded data removed]",
            "text/plain": [
              "<Figure size 432x288 with 1 Axes>"
            ]
          },
          "metadata": {
            "needs_background": "light"
          }
        }
      ],
      "source": [
        "from sklearn.metrics import roc_auc_score\n",
        "[fpr, tpr, thr]  = me.roc_curve(y_test, rf.predict_proba(df_X_test_rf)[:, 1])\n",
        "#1-fpr correspond a la antispecifite pour la vrais specifite 1-valeur\n",
        "#tpr le rappel , sensibilité\n",
        "#thr le seuil \n",
        "\n",
        "df_roc = pd.DataFrame({'thr': thr, 'tpr': tpr, 'fpr': fpr})\n",
        "plt.plot(fpr, tpr, marker='o')\n",
        "plt.xlabel('1 - specificite')\n",
        "plt.ylabel('Sensibilite-Rappel')\n",
        "plt.grid()\n",
        "display(df_roc)\n",
        "#ceci est notre AUROC qui permet de comparer \n",
        "AUROCRandom=roc_auc_score(y_test, rf.predict_proba(df_X_test_rf)[:, 1])\n",
        "\n",
        "print('AUC : {}'.format(roc_auc_score(y_test, rf.predict_proba(df_X_test_rf)[:, 1])))"
      ]
    },
    {
      "cell_type": "code",
      "execution_count": null,
      "metadata": {
        "id": "bKiM5Pr2r7Ta",
        "colab": {
          "base_uri": "https://localhost:8080/"
        },
        "outputId": "7a211d38-4cb9-47a5-a26a-97784476761c"
      },
      "outputs": [
        {
          "output_type": "execute_result",
          "data": {
            "text/plain": [
              "0.7358852787054209"
            ]
          },
          "metadata": {},
          "execution_count": 94
        }
      ],
      "source": [
        "AUROCRandom"
      ]
    },
    {
      "cell_type": "code",
      "execution_count": null,
      "metadata": {
        "id": "RUotzccur7WL",
        "colab": {
          "base_uri": "https://localhost:8080/"
        },
        "outputId": "f1a28175-fa84-47d0-c561-3d2280d26368"
      },
      "outputs": [
        {
          "output_type": "stream",
          "name": "stdout",
          "text": [
            "Sensibilité : 0.95\n",
            "Spécificité : 0.22\n",
            "Seuil : 0.34\n"
          ]
        }
      ],
      "source": [
        "# indice du premier seuil pour lequel\n",
        "#Taux de faux négatifs + taux de vrais positifs (sensibilité=rappel)=1\n",
        "#on pose taux de faux negatifs =0.05 (5%)\n",
        "# la sensibilité est supérieure à 0.95\n",
        "idx = np.min(np.where(tpr > 0.95)) \n",
        "\n",
        "print(\"Sensibilité : {:.2f}\".format(tpr[idx]))\n",
        "print(\"Spécificité : {:.2f}\".format(1-fpr[idx]))\n",
        "print(\"Seuil : {:.2f}\".format(thr[idx]))"
      ]
    },
    {
      "cell_type": "code",
      "execution_count": null,
      "metadata": {
        "id": "K-DL-l8br7Y_"
      },
      "outputs": [],
      "source": [
        "# Métriques\n",
        "from sklearn.metrics import roc_auc_score, average_precision_score, \\\n",
        "    fbeta_score, make_scorer"
      ]
    },
    {
      "cell_type": "markdown",
      "source": [
        "![image.png](data:image/png;base64,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)"
      ],
      "metadata": {
        "id": "NCqIK5HWc8pp"
      }
    },
    {
      "cell_type": "markdown",
      "source": [
        "![image.png](data:image/png;base64,iVBORw0KGgoAAAANSUhEUgAAAnQAAABJCAYAAAC0EruVAAAgAElEQVR4nO2deXxM1/vHPzODr8YWmqDRkJIWSexkqcqMfYtYktjXorqhltJWZmL7ddFFWzuxFkkQQixNMiMJRamqhMQWJCWkFbVW+zX3nuf3R3rvd25mJrsSzvv1mhe596zPfe6ZZ855znNURETgcDgcDofD4ZRb1I+7ARwOh8PhcDic0sENOg6Hw+FwOJxyDjfoOBwOh8PhcMo5FR53AzgcDic/jDFcvnwZu3fvxiuvvIJu3bpBo9E87mZxOBzOEwufoeNwOE8cy5Ytw8SJE9GkSRN88MEHeOWVVxAXF/e4m8XhcDhPLNyg43DKOUSEiIgIGAyGx92UEkNEYIwByJud27FjB9q2bYvu3btjy5YtuHTpEubNmyenkfLUqFEDgiA8rmZzOBzOEwM36DiccgxjDJGRkVi0aBGmTp1aYLonDVEU8csvv6Bbt27w8PDA4sWLIYoiVCoVHjx4gCtXrgAAGjduDJ1Oh0OHDinyq1QqrFq1Cq6urk9k/54VLI3x4sKfG4dTdnCDjsMpx8TGxmLMmDH45JNP4OjoqLhHRBAEAZGRkWjevDn279//mFppjSAI6Ny5M1q3bo0RI0Zg/fr12L9/P2bPng0iwqFDh7B69WpFnvbt20OtVg5ZISEh6N27N3r06PHIjANudNiHMYaZM2dCo9FYPS/pvi35ERFmzJgBjUaD999/HzwcKodTerhBx+GUUwRBwMqVKzF//nz4+/sr7hkMBrRq1QrOzs4YMmQI0tLSSl0fEeHixYulLocxhi5dukClUoGIMGLECHh7e2PSpEmYP38+GGNQqVSy8bZ8+XIkJSVh7ty5VmWpVCrMmjULP/30E7Zs2VLqtuWHiKDRaCCKYpmX/bTw+++/AwAOHDhgdS8sLAyzZ8+2uk5E+O233+T83KDjcEoP3+XK4ZRTjEYj9u7di6VLl0KlUinu6XQ6aLVaVKxYEVqttkzqi4uLw6efforExESr+orD3r17YTab8cMPPyiuX758GQCQlZWFRo0aAQBOnz6NxYsX4/Lly3Bzc7NZ3ksvvQR/f39ER0dj4MCBVrN4peHGjRtlVtbTiFqtRs+ePVG/fn2MHj3a6v7PP/+Mdu3a2czXq1cvuLm5wcPDo0yfGYfzrMINOg6nHMIYQ1RUFFq0aAFXV1er+506dQKAMp35ePDgQanLICJMmTIF3333nZVRuHPnTnh5ecmG2+nTpzF06FAcOHAANWvWhMFgwJw5c2wak127dsXEiRNx48YN1KlTp9TtlIiNjS2zsp5WBg0aZPO6IAg4c+aMTYOuoHwcDqdkcIOOwymHMMaQlJSEgICAf212w2w2l7qMn376Ce7u7mjTpg1EUZSXV7dt24bY2FhERERAo9Hg+vXreOutt7BhwwY4OjqCMYa9e/dizpw5NssNCQnBxIkTkZ6eXiYG3b179/DLL7/gq6++AgDFkqtGowER4dKlS8jMzARjDBqNBvXr18fdu3fRokULeZk2KSkJQJ4h27lzZ6hUKoiiiOPHj+P+/ftQqVSy8S2lY4xh3bp1OH36NLp27Ypu3bqhQgX7QzVjDImJiXL+jh074sGDB8jIyAAAuLu7o0qVKlZ6QkQ4c+YMYmNjce3aNfTv3x/+/v5W6TIzM5GYmIg9e/Zg8uTJqF69Os6ePYtBgwbh5s2bOHnypJy2U6dOUKlUuHHjBhYvXozMzEwQkSw/tVoty8CWbBhjICIQEVQqlWLp3VJfNBqNbNgTEY4ePYolS5ZAq9WiT58+qF27dqlmkTmccglxOJxyx7lz5wgALVmypMB0jDECQADIZDKVqs7IyEjSarXEGCtxGcuWLaNPP/2UtmzZIrercePGBIA2bdoklx0cHCzflz4jRoywWzdjjOrWrUvLli0rVfskEhISrOqXPqIokiAIimubNm0iX19fAkDt2rUjs9msuC/JTRRFxXWDwaCoNyYmhnr27ElhYWG0detWqlOnDvXs2ZMuXbpkt61BQUGKMufOnUv16tWj8ePHU8+ePalhw4YK2RIRmc1mWrRoETVr1oyWL19OixYtovr161NgYCCZzWY5XVJSEgGgL7/8kjZv3iz3UWq3v7+/oi+2+mj5iY+PJyKiAQMGFCob6cMYI6PRqLgWHBxMRERpaWk0cuRIAkCrVq2inj170iuvvELff/99qXWAwylvcIOOwymH7Ny5kwBQbGxsgeksDTqj0ViqOktr0DHGaMiQIWQ0GkkQBAoPDyeDwUDbt2+nOnXq0PTp00kQBGKMUWxsLMXHxys+cXFxBZbt4+ND77zzjsIgKSmS0abVagkAPXz4kERRJFEU5fpEUSSDwUAA6PnnnydBEMjHx4cA0LVr14iI6MCBAwqjhYhIEAT6+uuvrQy6S5cukZOTE40aNUpOe+TIEdmAkeq21db//ve/pNPpFIYVEdHNmzepRYsWBIB27twp19+vXz/y9PSk1NRUuRyz2UxDhgwhFxcXEgSBBEGgIUOG0FtvvaWoT6fTye1mjMnGr2W9oijK1/V6vSw76T5jTDZ6LWUjiqIss7fffpsEQZDrNRgM1KdPHzp48KCctnPnzuTj46N4LiEhIeTm5ka3b98uxhPncMo/3BOVwymH5OTkAMjbEFDW0D9LXrY+Bd0vSrkRERHw9/eHRqPB2LFjMWfOHPTv3x9Tp07FF198gVu3bkGlUiEgIABdu3ZVfLp162a3bJVKhQYNGiAlJaXQpbbMzExMmTKlQP84tVqtWHqU/pauWS4FAsCUKVOg0Whw+PBhXLx4ES+88AIA4NVXX7UqW6PRwMvLy0o23377LXJzc9G7d2/5mo+PD7RaLbZt24bbt2/bbavlkmxYWJgsg1q1aqFLly4AgFWrVoExBqPRiJiYGHh4eKBZs2ZyvgoVKuC1117DtWvXZF/FI0eO4NixY8jIyIAoiiAiTJgwQc6jUqnQsmVLm22S2iDJKv81e31p3749PDw8EBMTg+vXr8uySExMxNChQ/Haa68BAHbv3g2TyYQWLVrIO6aBvPA2mZmZ8pIuh/OswH3oOJxyiBTyoUGDBmVe9ujRo5GVlYX79+/jzz//xIMHD+T/+/n5KXy+LFm9erW8O9UWd+/elY25/NSvXx8AcPHiRTg5OZWo3W5ubti7d2+hxmVYWBg2bNiATZs2IScnx64PomU59sqUrksbU9RqNRo2bGgzHf3jF2arPCLC4cOHAQBffvklPvnkEzx8+BAPHz6E2WyGg4MDrly5glq1atlth7029urVC19++SVMJhP+/vtvZGdnA7CtO40bNwYAZGdng4gwcuRIzJ07Fy+//DKAvN3TEyZMQFhYmJynZs2aBcrGHgUZdcHBwZg7dy5WrVqFOXPmIDMzE1euXFEYu9euXQMApKWloUOHDrLPncS5c+cKrJ/DedrgBh2HUw6Rvozv3LmDqlWrFilPQY71lqxZs8bm9S1btmDcuHG4c+eOzS/jwjZnxMfHQ6fT2Ux35swZAICDg0OR2miL27dvo2LFioXO0Gm1Wmzfvh0DBgwosM2W5Uj/l5zy89chzcjlRzJq8ufJn58xJm9imDdvnk2j2ZYhbFmePQNK2mX6119/4ccff0RWVhaAgmWdkZEBlUqFsLAwuLu7Izo6GsnJyUhKSkJSUhJ+++03TJ48WW67vTZZIhmdkswLCtgsGXQbN25EWFgYoqKiEBQUhGrVqslpbt26BQDo2LGjzVh3HM6zBl9y5XDKIdKSXWZmZpHz1K5du0jpNBqNzY9arYaDg4Pd+wUZUkSEhIQEqwDIQN4X+86dOwHAZgiWopKVlYW6desWmu7111/HnTt3sHz58mLXMWbMGMWJG4UtIRZ1p6VarZaXlH/66Seb8i0Me3Wlp6cDAJydnaHVauHu7m63DCnuXtOmTUFEGDx4MIYPH47t27cjJSUFBoMBLi4uMJlMip2rRUE6CcSyz/bw8vLCwIEDcenSJWzduhVRUVEYMGCAoq/SrO7PP/9sVyc5nGcJbtBxOOWQpk2bolKlSvJsS1EoqkFXEM8991yJ8hERDh48aBVMGAC+/vprpKSkYN68eahevXqJy8/MzETt2rWL5M9X3FAvUplVq1ZVzBIVpa6CyrNsj2Tsnjp1SnGPMYYOHTqU+Og2yZesb9++UKvV8rJqcnKy1SyZdBJIixYtAABbt27Fxo0boVarUb9+fcyZMwd9+vTBiRMn7PbF3nXJALT0xbSHSqVCSEgIACA6Oho1atSAn5+fIo20DHzmzBmrftg7oYLDeZrhBh2HUw6pWLEiWrZsKZ+ukB/6J/bX+fPn5WsnT56UY3mVlJIadGlpafD09MThw4dl53rGGDZv3oxp06ZBr9fjo48+KnFMPSJCVlaWXR+9kqBSqeRTNrZu3QoiQlpamjx7JQiCnFatVssx1PKXMXbsWEWMNVEU5eXKrKwsXL9+Xd5s0KVLF0RGRuLbb7+Vn9XYsWNx9erVAk/8sPTPmzJlimw87dmzB+Hh4QCAZcuWQaVSoW3btvjss8+QnJyMNWvWyOet/vzzz/jiiy/QtWtXjB8/Xu7Lpk2bZH80xhhSUlLw+uuvQ61WQxRFHDlyRG6DZby+/DOGixcvlpes8x+ldvXqVSvZDRgwAK1atcKuXbsQGBhoVV7btm3x6aefIjMzE++++66sV5s3b8bcuXMxYsQIu/LicJ5KymSvLIfD+VcRRZFGjRpFffv2tRlGJC4ujqpVq0a1atWiypUrU8WKFUmtVitiexWXrVu3UosWLUqUd/ny5bRjxw7S6/UEQI5D1rp1azIajXZDchQVk8lEAGjr1q2lKic/oijKcd5at25N77zzjiLkxosvvkjVq1eX5bp582arMrKzs2nAgAHUtm1bmjJlCjVp0oTi4uIUcdWkkDKiKNKqVauoUaNG1Lx5cwJAPXr0UITvsIUgCHLYkjVr1pC7uzs1atSIqlatSjNmzLDKL4oiJSYmkre3NzVt2pQ8PT2padOm9O2338rPQooLp9frycnJiYKDg6lmzZrUv39/unDhAjHGSKvVUu3atUmn08khXqS6LMO6+Pv70+jRo+XQJVqtltzc3MjPz488PDzI2dmZIiIirPr18ccfEwC6c+eOzX4zxigxMZHatWtH7du3JycnJ2ratCmFh4cX/nA5nKcMbtBxOOWUJUuWkKOjI/35559W9xhjJAiCHP/L8v8lNZ727NlDfn5+xTboGGPUp08fio2NJcYY5ebmUkREBP3++++FGipFZdKkSfTKK6/QvXv3yqQ8S0RRpNTUVDlGnuV1URTJbDbLMi6ojN9++42io6NJFEXav38/mc1mOb5d/nIfPnxIx48fJ7PZXCQZWRp02dnZJAgC7dmzh+7du1fg8xJFkTIyMujcuXNW/SMi2r9/v9y3qKgoOnfunEJ/pHh8lnqWv/wLFy7Q2bNnFWUXls8y/6+//lqozomiSBcvXqRff/211D8OOJzyioqo7A57TE9PL9QJWNpqDgCdO3cuq6o5nGcOURTh7e0NvV6Pfv36PfL6Tp06ha1bt9o9T9UejDFUqVIF2dnZdsNulAYiQqtWrdC3b1/Mnj37mTzySRRFdOnSBUlJSRBFkR92z+E8g5RZ2JK0tDQMGjQITk5OSE5OBgDZ50OlUqFKlSq4cuUKUlNT5XsdO3bkAw+HU0I0Gg2GDx+OhQsXok+fPo98V1+zZs0UgWiLyokTJ+Dk5GQ3XllpCQ8Px40bN2RftWcNxpi8O1X6Gyj+xg8Oh1O+KbM33tPTE6mpqTAajfK11atXIzExEUajEbt27cKJEydw5swZvPrqq2jQoMEzOfhyOGXJ5MmTcfnyZSxevLjEOy4fNcnJyfD19X0k7/upU6dgMBjw0UcfyWEsnjXmzJmDF154Qd7NWrFiRUXgXw6H82xQpkuuQF5MoLZt28LX1xeHDh2y+SvxvffeQ506dfDhhx+WZdUczjOJIAioWLEiYmJi0Ldv38fdHCukIaasDToiQq9eveDt7Y2wsLBndkaK8h3LJgUx5j+YOZxnizI/KUL6lejt7a0YYBlj8t9Xr161iinE4XBKRoUKFSCKItLS0h53U2zyqAwLlUqFGTNmoGPHjo+k/PICN944HA5QxnHopIOfASgMths3bkCj0ci+HVWrVi1xPCsOh2ONWq0ukX9beedZN+Y4HA5HokyXXM+fP4/GjRvD0dERKSkpsk/Ld999h+TkZKxatUpx5mBpflWWtNn8lyyHw+FwOJynjTJdct27dy8AoH379oiIiIBKpcK+ffuQlJSENWvW2D33kDGG33//Hc899xyqV69eJKNr9OjRxTr2SGL16tVo1KhRsfNxOBwOh8PhPKmUqUEnndPYoUMHNGnSBOfOnYNWq0VSUhJee+01m3kYY3K4henTp+O5554rUpyrSZMm4c6dOzbvkcUxOPlp2LBhUbvD4XA4HA6HUy4osyVXxhgaNGiAq1evYu/evejZsyeAvICXFStWhCAIVrvQGGNwcHBAeHg4hg8fDiKCTqfDxo0b4erqWhbNKhG3b9+Gt7f3Y6ufw+FwOBzO04vlOdtlRZnN0GVkZODq1asAgBYtWsjXDxw4gGbNmtmcMfvwww9Rr149DB8+HECegXfixIkiRZN/1D5006dPL1H5HA6Hw+FwOP82ZTZDt379eowePRpubm7IyMhQRK23tQRKRFCr1bh69Sru3buH//znPzAYDLhy5QoSExMLNbxmzJiBy5cvF7udixcvRp06dYqdj8PhcDgcDudJpUxm6IgIhw8fBgD4+/tbHUFkyziT7Mjw8HB88cUXqFOnDipVqoTU1NQizaK1adMGr776KipVqoRKlSoVeebN2dm5SOk4HA6Hw+FwygulnqFjjEEURXh4eCAjI0P2nytoYwIAbN++HRs2bMD27dvltL169cKSJUv4LlQOh8PhcDjPJsc/wUsDw9FxwY9YE1z0SahSBRY2mUzQaDSoVKkSMjIyAAC9evWCSqVCp06dCsy7du1adOjQAWq1GhqNBmq1GnXr1sWGDRtK0yQOh8PhcDicZ45SzdARERhjsj+c5XUAVkuvlvfVajVEUZTzMcbQvHlzhIaGYvDgwSVt0iOHMYY333wTkydPhqen5+NuTpnAGMOPP/6IY8eOISAgAC+99JLVs0tOTsbVq1cxbNiwx9RKDqfkiKKIMWPGoFWrVggMDMRLL730zJ79yuFwnk5KNaKpVCpoNBpUqFABarVa/mg0GrvGHJBn0LVr1w7nzp2Tr61cuRKOjo7o06dPaZr0SCEiDBo0CL/++iuaNm36uJtTLBhj+OOPPzBt2jSsWLECf/75p3y9R48eqFChApo3b4433ngDw4cPhyiKivw1atTABx98IB/txuE8aTDG8MsvvyAkJAS7du2SdVgQBIwcORJz5sxB9erV0aVLFwwdOlQ+irCsEUURRqMRH330EeLj44u1I19yYbl48SKMRmOJd/Nznj4EQcDs2bOhUqnwwQcfFCuvKIoQBAGpqakwmUxcr55SHstP1LNnzyI4OBgeHh4ICwtDvXr1MH36dKxYsQJVqlR5HE0qEsuXL8ePP/6I3bt32/x1zxjD6dOnERIS8kS9MKIoQqPR4Pnnn0eNGjVw//59vPbaa0hNTcWhQ4dgNptRqVIldOrUCRMmTEBkZCR27dqlKKNly5ZYuHAh+vfvj4MHDz6mnjzbEBFWr16NsLCwYhkjRISvvvoKEyZMeGRGzOPm1KlT0Gg06Nq1KwYMGIDjx4/Dz88PjDHExsbi2rVrqFmzJsaOHYu+ffsiKirKSsfLgtzcXPj4+GDbtm04fPgwunfvjkuXLhU5/6xZs1ChQgW4u7tj/vz5T9Q4Uh5gjGHq1KkIDw9/amRHRIiPj8fLL78sv78JCQn466+/ipSfMYYuXbqgYsWKaNGiBQ4cOPAom/tEIOnBggULiqUHRISwsLDyqz/0GPjyyy8pNzeXDh48SAaDgQ4dOkSCIDyOphQZURSpTZs2tGzZMsV1xhglJCTQmjVryGAwkIuLCzk4OBBjrFT1lTa/hCAIBIAMBoOiTJ1OR0uWLKHIyEgCQFFRUUSU108pva02ffzxxxQQEECiKJZJ+ywxmUz05ptvllnfnzaMRiMBIABkNBoV9xhjFBoaavM9MplMcr6EhIR/q7n/Gvfu3SMA9Mknn8jXzGYz6XQ6Cg8Pp4iICHJzc6NLly4R0f/kERYWVqbtEEWRBg4cSD169KCHDx/SW2+9RQAoJSWlWGUcPHiQAJBWq30k71l5hzFGer3e5jhhMBhkXTeZTI+hdbbJyckpcd5r165RkyZNSK/XkyAI1K5dOwJA2dnZRS5DEATatGmTze+CpxFLPcg/Jkr6Y+vdshxjnyT9KSr/ukHHGKPAwEC6d+/ev111iWGM0cqVK6lRo0ZkNpsV90RRJH9/f3r77bcpPj6eAFCDBg1K/cJ8+OGHpf7yZYzRyJEjadCgQVbt0el0FBgYSKIoKu5t2LCBANDevXttlvnbb7/Rc889RzExMaVqmy0WL15MWq32qR9sSoooijRu3DgKCQmh3Nxcq3tVqlSxadCJokjjx4+3me9xwRgjAFbvU0nK8fDwsPoBIggC6XQ6GjhwoJWOL1myhGrVqkW3b98uVd35kb4M9Ho9ERFdvXqVjh49Wmx9ln5UcYPONklJSeTt7W1TrqIo0rBhw2j8+PFPjOxEUSStVlviSQvJOJF+xJ05c4YuXrxY7HLs/bh/GhEEgfr160dvvfWWlR4kJyeTt7e3Tf24ceMGhYSEPFH6UxzK9CzXokBE2LVr1xO9tJofIkJUVBS6d++OChWUIlOr1UhKSoJKpZJ9dpycnEpd519//YUHDx6UqgzGGDZs2IAzZ84oQsgIgoCkpCR89tlnUKlU8j3GGFasWAGDwYDu3bvbLNPZ2Rk9evTAypUrERgYWOT4f0Xhl19+KbOynkbUajVWrFgh/9+SmJgY2S/SXj7Lc5OfFEqrP6dOnUJ6ejoMBoPi+rlz55CUlIQtW7YoZMUYw/Lly/Huu++iWrVqparbHh4eHgCAevXqoV69eo+kjmeZ2NhYPPfcczbvqdVqrF+/Hmq1ukzHptLy4MGDUrdHyt+kSZMS5afyuIRYQjQaDbZt22ZTD3bt2mVXf5ycnBAZGan4XixP/Os+dGq1GoyxciWsjIwMmEwmjBo1yub9/H2pWrVqqessC4Nu9erV8PLyQuPGjeXdyACwdetWVKlSRXEkGxHhzTffROfOnWEwGOzuAFSpVOjevTtSUlLK1B/r5s2b+Pnnn+W2SB8JURQhiqJ8nTGm6JPkTG55TUorXbeFlK+gNJZI5VmmlxyO828ksZVPEAQIglBge6Q25ZeBdC8/oijK/mC2ZCflU6lUVoO6rfSWMs6fnjEm90EQhFJ9SZTFGKDX6zF9+nR5XJHaExUVBU9PT3Ts2FHR9jfffBPDhw9HWFhYme5ytZShk5OTlUylNJLuFFXf8mOp57aej2Wa4tSRP71Utr06pDSWumCvLundsCz7/v37ivelqLK5efMmTCaTnMeWrkv38lOQrkt9zd8/yzaVhqL6u9lrc/62FtROe7Ir6H2zLMNWHVL9xdGr/GOyJOOCdEXKJwgCzGZzoWOlvXfBnh788ccf8sY+e/pTUP8fl/4UmZJP7j07bN26lSpXrlzolLk0pV0Wy4YjRoygiIiIEudnjFGfPn1owYIFFB4eTsOHD6eAgACaPn06eXt7U05OjqKNki+dKIqUk5MjLxvZ4ocffiAAdOHChRK3z7Kder2eunbtSgBIp9ORVqslrVZLoaGhRJS35KDT6eR7mzdvprVr11KbNm3IZDLJSxo6nY48PDzkpYmEhATSarXUunVrmz4RCQkJ1KFDB3rhhRfI2dmZXn31VUpMTLTbVlEU5XbodDp67733aMWKFdS8eXMCQN27d6fNmzdbTdWLokirVq2iJk2aULt27ahatWrUu3dvSk1NVaQ7dOgQ6XQ62YejXbt25ObmRoIgKOq27KNer6d+/frJeSTZ+fv7kyiKVm22lI2lTLVaLUVERBBjjPz9/a3Kkfoxffp0atSoEXl6elLjxo3p/fffL5Gui6JIarW6VL6zjDGqVKkSZWRk0NKlSyk4OJiCg4NpypQp5OHhofBdk3TkvffeI1EUyWg00rlz50pcd/52SDLL/wwk2QiCQHq9Xn5O1atXp+DgYJvLX5bjiKXsN2zYQG5ubnIZvr6+Vsuy8fHx5OvrSwCoZcuWsk7be0b59WPGjBlkNBqpWbNmBICCgoJo8eLFVvmzsrJo5syZ5ODgQK+99hq5urrSjBkzFOlEUaR9+/bRqFGjqEOHDtS5c2fS6/XUvHlzqlKlCvn5+ck6WphsChonZs2aRYwxio+Pl/vRoEEDWbek8cPyuUjvlKWuW47bmZmZ1L9/f6pbty61atWKWrZsSStXriyRrpvNZmrUqFGxl/As22epV9K4SJSnKxMmTJBl5+zsTKNGjaLY2FirtprNZqslV1EUFf5mtWrVIr1er5CFKIqUkJBAvr6+1KFDB3J2diY/Pz86efJkgW231KuoqCiaOHEiNWnSRNarkydP2tT9mTNnyu0BQG+//Tb9+eefirIl1yDpExQUJH9/2dMDvV5P3bt3t9If6T29ePFigfpjmcdoNFrpj+X7/uOPP9KoUaMIALm6upKnp2eJ9ac4cIOuEERRpJkzZ1LdunWLZdCVdv09KCioVAad5IeTkZFBI0eOJK1WSwMHDqRZs2aRk5OTwnCJiIigBQsWkNlsll/wUaNG2S07LS2NANDOnTtL3D4JxhhFRETQrl27ZNklJCSQ0WiUjQ+j0UiLFy+W748fP57i4uLkF1MQBFq/fj2FhYUpfE1MJhMtXbpUNpIsDbqjR48SAFq7di0xxhQDm72BijFGcXFxFBoaSgCoTp069H//9390/vx5unHjhpzfYDAovpXtzWQAABpiSURBVIgNBgM5OjrSTz/9RER5eiKlPXjwIBHl+W4AoBUrVsh1Sc77giAQY4w2bNhAISEhij5GRkZSRESEPOjHx8eT0WikhIQEYowRY4y2bdtmlc9kMlF8fDy1bNmSANA333xDcXFxcr3Ozs4UHBwsG3lms5nq169P7u7uct9Wr15NAGjSpEnF1nfGWKkNOul9E0WRgoODZR3X6/XUqlUr2U9XFEUKCgqizz//XDYgRowYUWZOz9LGKEkn9Xq94hkQEV2+fFn+wjSbzQodyO+vajmOSD6GMTEx5ODgQMeOHSMioj///JO++OILxVgj6fQnn3xSLJ02Go2yTnft2pVmzpxJR48eJbPZTG+88QY5OjoqjGOz2Uy+vr4KXTAajVStWjWaPHmy7LP49ddfEwDauHEjiaJIERER8maUmJgYGjJkiJVsBEGwKZvCxgnpGaxfv548PT0VzvAmk4kSEhJk/+ZNmzbJ74b0Q9ZgMND3339PjDG6desWAaB33nnHSo6bNm0qtn6IokgvvPBCid6RhIQE2diNi4tTjItEROvWrSMA1LNnT2KMkSAIFBgYSO7u7labJiSDTtoQIIoifffddwpZ/frrrzR06FDZoJPkDoB27dpFREQXLlygHj16UJs2bez2iTFG0dHR8thbu3ZtioqKomvXrtHZs2cpODiYAFBycrKcRxAEGjhwIHl4eMg/dnNzcykoKIhatWpF9+/fJ6K8dwEWG7ykd0EaC+zpgdFolP3c7enPunXrbOqP0WgkT09PWX9MJpNd/ZH0+Z133pHfhfDw8BLrT3HgBl0hmM1mGjNmDDVu3LhQ67osZ+hKa9CZTCaqU6eOPCBJipWTk0MAKCAgQKGQ+T8FfdllZ2crvjgK4u7du3T8+PFC21uY7KRffBUrVqQrV66QKIr0xRdfKF4QaeCzHPCkmRnLPpnNZtJqteTs7EwPHz6U0+7evZsA0Lhx4wpsq+T8bmt2xcPDgwDIm0aktAsWLFCku3XrFlWuXJmCg4PJbDbTkSNHCABFRkYqZiU8PT0VRk9+B2kpndRHewaSrXxERNu2bSMA9NZbbylk9tJLL9GVK1fkvxctWkQAaOnSpYp6GzVqRC4uLsXe3MAYI41GUyqDTpphlfRbmnW5fv26/HyISDb0839u3rxZpHpSUlKKtKPQUi/yc/PmTWrTpo1id93Dhw8VP0okbG2K+Oyzz8jT01PxLp06dUr+EpN0GgAdPXpUTnPy5ElZpwsyKKT3r2XLlopnKRlCljuCly5dSgDo888/l69JOijpgiAI1LJlS3J1dZX7JgiCTT2VZBMcHCy3UTI+8sumsHHC3rvAGJPfAelHExHR+fPnqXfv3op6x4wZY1eOgwcPLtFMW40aNUr8I9/eu0tEtHPnTnJxcVHonLSCkl8P88/QMcZo8ODB5OLiopDV6tWrZfk+fPiQmjVrZjUOSca65XhgC1tjMhFRamoqASAXFxe6ffs2iaJIX375pZWRR0SUkZFBAGj+/PkkiiJ99tlnBIAOHTpkVZ4kY3t6UJQNR8OHDy+y/ly6dIk8PT0VP+DHjRtHAOjAgQNyuvv371OlSpVKpD/F4V/fFFHeUKvV+O233+Do6FjmZRMRdu/erbhWuXJl2bmdiBAZGWkz35AhQwos+/Dhwxg0aJCVc2ft2rWh1Wpx4sQJEBGcnZ1lnxRLCvK3kGRx8uTJAtvAGIOPjw/OnDmDRYsW4d133y0wfWEQEerUqQMXFxeo1WpMmzbNZpvJwsfBsh/S9ezsbCQnJ0Or1SI5OVmWUeXKlQEA58+fB2OsSD5W+eXk4+OD9PR0JCYmonfv3ti8eTMAoH379op0jo6O8PX1xbZt26DX69G2bVu4ublh8ODB2Lp1K3x8fKDVanHy5MlHupGhf//+aNu2LUwmE/7++29UrlwZcXFxaN++vezQzxjDDz/8AABwd3eHyWSS+z106FDMmzcPV69ehZubm1X5jDHs2bNHca1SpUq4d+8egDxfN3tyLuzEmOjoaEyaNMkqv7OzM7RaLc6fPw8iQocOHWzqeM2aNQssH8hzwA8MDESNGjVw4cIFODsX/VxFS2rVqoWjR48CyPNXu3z5Mi5fvgwANv118tO+fXvMnDkTXbp0Qf/+/eHr6wutViv7Rl65ckXW6bt378rPiIig0+lw/vz5AsuX2lCjRg2FPPO/U4IgIDk5GQDQokULhS74+/sjOTkZV65cQf369ZGTk4O6detaleXs7Kzoc61atXDs2DHZR6u4srHVj/yoVCoEBQVh7ty5MBqNGD9+PADgww8/RJ8+fRR9jo+PtylHrVaLAwcO2K3j1KlTyMzMVFzTaDS4e/cuHjx4gKioKJvjqqenJ5o1a1asfkoEBgYiICAARIT79+8jKytL4a9HBZyprlKp4Ovri8jISDg6OmLUqFF47bXX0KdPH4wZMwYqlQonTpzAqVOnoNfrkZSUJOeTTkmSfKkL8rm2hZeXFzw8PJCeno74+Hj0798fa9asAQCrcUT6OyIiAjNmzJDH0u7duyMkJER+F0SLk6eKqzeWNGzY0GY/8uuPSqXC559/jsDAQMWJV/v27QMA/Pe//1Xoj5+fX4H6UxZwg64I/Oc//3kk5TLGcPz4cfnvBw8e4P79+7h//z6io6Ph4eFRIsdxIsKhQ4cwf/58m/eAvC9VAIWeuVsQ0pdyQdy4cQMA7O7AtEVBg1BRvlAt81puBJCuX716FQBw7NgxTJ06FY0aNUL16tVRtWpVzJgxA5UrVy5Q7gW9kD169MDatWvlL9DY2FgAgK+vryKd5QaH5ORkNG/eHJ988gmGDBmC6OhoREdHAwAGDhwo77oqCsUdLKSB6sMPP0RCQgICAgIwffp0LFiwQFFnQkICAOCdd97BK6+8gpo1a6JKlSqoWrUqDAaDXV3Ir+OSfktO8WfPni2RjjPGEB0djSlTpljdIyKcOHECAwYMABGhc+fOxS5f4r///S8A4M6dO/L/7VGQ7IkI69atw759+xAdHY22bduiQYMG8n1bPzws8fPzw6JFizBx4kSsXbsWa9euBQB8/PHH+OCDD2zqdLVq1VC1alW0bdsWDg4ORZJzYfqjUqlkXRg7diwaN26M2rVro2rVqrIu3L9/H2q1GiNHjsTixYtx7do1uLq6gjGG3Nxc9O3b12rn8dq1a23KJiMjw267bY0TBfXRy8sLwcHBMBqN+O2331C7dm0kJibKsgSA1NRUZGdny6fqvPzyy7Kee3t7Q6vV2jVerl+/Luu6KIqynt+7dw/169e3ijYg4eTkVCSDztazYYxhzpw5SE5OxokTJ9C9e3c5gsSFCxcKLfPdd9/F5cuX8c0332DJkiVYsmQJXFxcsHr1avTo0QNHjhwBACxduhQJCQmoX7++LI8PPvgAlSpVKlDmBRmTOp0O6enpuHjxItLS0pCWlgYAePHFF22WkZaWhvT09ELfhaLuUC3uWGlLf5YtW4YzZ87IaST9AfLGysaNG8PR0VGhP490Q+gjm/t7SpAcwf/tJVeg5D5qoija3cRhNpupevXqNHz48BIvd0lLrmPGjCl0+vjChQuy70VB5JedKIoUGhqqcMyVnFLt1WlvaSL/kqvkA1ivXr0SPSdpGcrW0pq0HDV06FAym83k7+9PAOjs2bOKdKIokre3NwGgPXv2yNdyc3Pp6NGjNH/+fPLy8iIAtH379gL7aGt5ITQ0VJGmoGWbc+fOkUajobFjx9Lly5epbdu2ChkLgiA74586darY8rIF+ycOXUl1UBAE8vLysqkL0vNZvHhxmSxvxMXFyf6PBVHQkuuSJUsIAPXp04cyMjLkZVJJ5yU/Salv0nXLJSRRFOnGjRt09OhROYg5AMrJySm1Ttvz/80fW08QBFmnFy1aVGCZkZGR5O3tTd27d6egoCCqXr26HBzXEumdkWQj+WwC/wsMa0s20rJhaGhooUttEpLP2LJly2j79u1WgczT09NlOZbV0pgoiuTq6lrmS66Wy3vTpk1T+IoBef6QtmQ3efJkxTVRFCkrK4uSk5Pl8nx8fEgQBFq5ciUBeZsOyrLtRP9b2ly2bBndvHlTft755SQFDgdAf/zxR4HvgjTOFnXJNb/+WLbZlv6sX79eoT/BwcEK/bHsR1mNlcWBn05dCCqVCu7u7rhz586/HsdHEIQS5UtMTMTff/+N+/fvW93bunUr7t69C51OV+KlvNu3bwMA6tSpU+iypLu7e4nO5yUizJ8/32r7eUl+3eTPU79+fbi5uSE7OxsZGRlW9U6aNKlY5VnmPXbsGADA1dUVarUaOp0OgPXytEqlQnZ2Ntzc3ODn5weTyYTRo0fj+eefh7e3N2bNmoWUlBSbeQtCktOpU6fk51QY7u7uCAgIwM6dOxEVFYWgoCCrZbcWLVoAgNw/SwwGg7wM92+RmJgIQRCsngUR4cCBA3B0dISPj0+ZhCbp1q0b2rZtW+L8jDF5OUmv16NRo0ZW8bFEUYROp7M7xsyePRurV6+Gk5MTvL29MWfOHHz//fcA8p51YTptaybTHrb0W7qmUqmg1WoB2NbLCRMm4PTp02CMIT4+HvPmzcPu3bvx1ltvITU1FWFhYYpxhzGG1atXK2STf4alINkwxhTjRGEEBATAxcUFu3btQlRUFIKDgxV1ubq6ynK8ePGiVV0GgwHXr18vUl2WmM3mYucpjMzMTISHh8PZ2RmfffaZLFepP9WrV8f+/fsxevRoRT5pBon+mb1OSkpC/fr14e/vj1WrVmHJkiU4evQokpKS4OrqCgA4c+aMlYxzc3Mxe/bsAttoT58ZYzh79iyAvHiNjo6OCAwMBPC/VR0JSZ/79u2LGjVqYPbs2ZgzZ47Nd0FycSkK9E+4kfnz5xc5rEivXr3g6uoq68/o0aMV+lOjRg307dsXgPVYyRhDSEhIkdtXErhBVwgqlQqurq4FfjkWpLSlMQIfPnxYonwnTpxAy5YtFYF66Z/gyEOHDsW4cePsxtQrCrdu3QIAtGnTpsRl5MfyCwMAfv/9d1SrVk3xskg+HGq1ushyPXXqFHJzcwH873k4ODhg1qxZAICVK1cqypo0aRIcHBwKLF9qU3p6umKQ27FjB9atWwc3Nzd8/PHHUKvVGDt2LFxcXLBt2zbFoLF//35kZ2dj1qxZqFGjBogI3333nbzEAeTJuV69eggMDLQZ/8iyPV5eXgCAo0ePgoiQnJyM1q1bW6W1pZNqtRq9evVCbm4uduzYYTXoqNVq6PV6ODo6YuvWrfJADADHjx/H0aNH0aFDB7vyehSYTCZcu3YNhw4dkq8REcLDwzFv3jx8/PHHaNWq1b/Wnvwyzf+87ty5Y5VOWirKyspCWlqalSFmWQ4RYdGiRQodysnJgZubG3Q6HRwcHBAaGgoA+OabbxT1hIeHw8XFpUCdttRjKZ2tPkm6oNVqcfDgQcW5oKIoYtOmTXBzc4NKpUKtWrXwzTffyO9tRkYGkpKS5FhnRZENkPesJdmoVCr4+PggOzsbRCSPE5Y+TPn7YUmNGjXQq1cv7Nu3Dzk5OYo4hUBeDFF7ctyxYwcEQVD4BRaVko7lBelVrVq14OjoqPBJBfKCjAN5skpOTsbDhw8VcdJu3LihKGfDhg0KvcrKyoJWq4VWq0XXrl0xadIkpKenY9GiRXIaybjN70qSH2ms3L17t6IvW7ZswfHjx9GmTRv06tULarUaBoMBjo6OWLZsmSLt/v374ejoiNDQUHnsj46OVrQ5PT0dQN4PCql99mRoqT8SkjFMRLLBa+tHwvPPP48uXbpg3759yMrKQs+ePRX3NRoNQkND4ejoiJiYGIVxmpKSgj/++OPRTgyV0UzfU83p06cJAJ04ccLqnhSDSopTg3+mW6XlwYLiuRVErVq1SrTLlTFGAwcOlOP0jBs3jhYuXEgtW7akZs2a0aJFi0p93NK3335rcxmxNFjuIho7dix16NCB+vbtS0R5O6VefvllhWwt46NJCIJAfn5+FBwcTAsXLqSJEydSixYt5JAMVatWJR8fH3l7v7RTa/DgwfTGG29Q9erVydfXt9BlQCmcSGhoKHXv3p3mzp1L69atI1dXV9JqtYqds0RE+/btI1dXVwoICKDNmzfTvHnzqHHjxvTNN9/Iz0JaJpHiFS1dupTefPNNateuHZnNZjKZTKTVauUt9ZJ+SdP9sbGxCvngn6ULaYnMXj6J69evk6OjI02bNs3ukt3evXvJ1dWV6tSpQ0uXLqXPP/+cvLy86I8//ij6g/6H0iy5imLeucqzZ88mjUZDoaGhNGPGDKpbty4FBARQTEzMv3psjxSPSpK7NBZYvvsRERHUsGFD6t27N61cuZLef/99cnV1lZe4Jk6cSF999RXp9Xp5pzT+WRrS6/VkMBjI09OTgoKCaMOGDfTxxx9TcHCw4mgjURRlnfbz86Nt27bRtGnTqH///nblLC1Nubu7K+o8fvy4Igaap6enHH+LKM+VonPnzlS1alWaMmWKHIbi559/lsu+ePGiXGb+j2Von3379pG3tzf16dOHvv32WyvZTJo0ib766iu5XGmcqFKlCjVo0IACAwOJ6H9xJ/PLLj9S2It169bZfZ6WcoyOjqZJkybRkCFDSqyvVatWLbZOGo1Gq3dep9PJ4TqkUDANGzakYcOGkdFopPHjx1OjRo2oTZs2shwSExNJq9Va6VV8fLwsL4PBQJs2baKPPvqItFqtImaa2Wymt99+mwDQsGHDKD4+noYNG0bz5s0rtE/SswoNDaWAgAD6+uuvaeHChQRAsatZ6s+ePXvkZx8ZGUlTp06lBg0a0N69e+W0UplBQUG0ceNG+V0YP348CYJQqB5I+YODgykoKEgO+SLlk95je/qzefNmApS7vPM/b2msbN26Nb3xxhvUsGFDqlev3iM/s15F9C+vI5ZDHjx4gJdffhnDhg3DggULFPeICPv371f8bbkzTKVSlcgpu1WrVpg5c2ahO/3ywxhD48aNsWfPHty9exexsbHIyclB79690bt371LvmCQi9OzZE4IgIC4urkx3YDLGEBUVhbNnz6Jbt27ybiZbOxTpn+WC/MtDt2/fxvHjx7Fz5040bdoUWq0WW7ZsAZC3BNGiRQs5HxEhLi4Ov/zyC06dOoWJEyfC29u70D6ZTCZ06dIFBoMBBoMBMTExSExMhIeHB958802by3wnT55ESkoKrly5gpo1a8Ld3R3dunWT279//37cuHEDQUFBiIyMREJCAtq3b49x48ZBrVYjMTFR3tEo/QvkbWqRrsXFxSE1NRVbtmzBsWPHoNFoZP20l89SnqtXr8aYMWPs9p+IFP3w8/ODTqezOg6vKBARXFxccPXq1WLr0O3bt9G5c2f89NNP2L17N/bv3w8HBwf07t0bfn5+ZXoCRFEgIsVuNst/Ld99URRhMpmwa9cuZGVlYdmyZahXrx6ioqJQu3Zt6HQ6JCUlWf2CV6lUOHDgAIKCgtC0aVN8+umnuH79Ojp37ox+/fop+ktEiI+PR2ZmJq5cuYKQkBB4eXkV+Eyl8cuyXh8fHxw9etRqLFOr1fKs1oMHD7Bx40acP38eL774It59911ZF37//XcEBwfDzc0NI0eOlPtx//59bNu2DRs3bkRsbCwCAgJk2aSkpCA8PBy5ubn46quvFLLRarVyHxhj2LJlC9LT05GTk4OVK1cCyFuGl3Y6SrquUqmsNn5JGwkMBoNduTDGkJCQgMzMTFy9elWWY0l0izEGBwcHPHjwoFj5pf5Yvqfsn+P7pD5JM+7SUY6NGjXCsmXLkJOTg+XLlyMoKAheXl5ITEy0qVfJycnQ6/XYvXs3YmNj4eTkhH79+sHX19dqfNi1a5e8izckJAR169YttD9hYWGYO3cuEhISoNPp8Pnnn+PWrVto3bo1Bg4caJWfiJCSkoIdO3bg9OnT8PLyQv/+/dG8eXM57ezZsxEUFIRbt24hNjYWDx48QKdOndC/f3+o1Wrs379f3nlrSw8YY/j++++RmpoKT09P2SXI1hhrS39u3ryJmJgYdOzY0eaOWKmOlJQUJCcnIyMjAz169JBnIh8pj9RcfEqQZo9at25d6tmtotK3b98SzdDl5uZSr169HllE6pycHKpcuTKtXLnykZRfHpBm6Eo6+8rJe6d8fX1L9D5t2bKFevTo8QhaxSkrVq1apYjPZYkUX3Ho0KHl8gD04mIZAPtZQ5oNk2YVOY8W7kNXBFQqFcaNG4ecnBw5nMSjJiYmBoMGDSp2vsTERPj4+DyyrdFLly5Ft27d8Prrrz+S8p90yMIXpTydR/ykoVKpcOTIkRLN7iUnJ8PHx+cRtIpTVjg4OCAtLU0Rskbi8uXLSEtLg7e39zPxDkkz5f/2zPHjhiz89J6F5/wkwJdci8HixYuxadMmHDx4sERfRI8aIsKMGTPQuXNn9OjRo8zL37t3L4YMGYL9+/eX6YaI8gJjDJ06dUJWVhYyMzPh6ekJJycn6PX6UsU64xQdxhhatWqFzz777JHoOKdsYIxh6tSpWLduHV599VVotVpUr14dFy5cQGpqKjw8PLBw4cJHGjSb8/gQRRGdOnXCmTNncOPGDXh6euL5559HYmLiM2fY/ptwg64YEBFGjRqFSpUqYeXKlU+kYppMJrRp06bMT7a4desWatWqhVWrVmHs2LHP5C8uxhhMJpPVLlu1Wl2qAM2copORkYHMzEy0bdv2kZzewik7iAhZWVk4e/asvDO6cePGaNq0KerXr/9Ejp+cssHWWEn/+D3z5/7o4AZdMWGMYcKECZg8ebIcKuJZYMuWLUhLS0NYWBh/ITkcDofDecLgBh2Hw+FwOBxOOYdPtXA4HA6Hw+GUc7hBx+FwOBwOh1PO4QYdh8PhcDgcTjmHG3QcDofD4XA45Rxu0HE4HA6Hw+GUc7hBx+FwOBwOh1PO4QYdh8PhcDgcTjmHG3QcDofD4XA45Rxu0HE4HA6Hw+GUc7hBx+FwOBwOh1PO4QYdh8PhcDgcTjmHG3QcDofD4XA45Zz/B2UnYzRw3NnQAAAAAElFTkSuQmCC)"
      ],
      "metadata": {
        "id": "eXSFa9KocrVP"
      }
    },
    {
      "cell_type": "markdown",
      "source": [
        "To reduce thhe risk of predicting true for defaulter client we decide to increase the coefficient of beta for giving more waight to recall."
      ],
      "metadata": {
        "id": "yzsjIUZRctCC"
      }
    },
    {
      "cell_type": "code",
      "source": [
        ""
      ],
      "metadata": {
        "id": "HYmH6CJmcVd4"
      },
      "execution_count": null,
      "outputs": []
    },
    {
      "cell_type": "code",
      "source": [
        "f1_score_rf = fbeta_score(y_test, y_predr, beta=1)\n",
        "f5_score_rf = fbeta_score(y_test, y_predr, beta=5)\n",
        "f10_score_rf = fbeta_score(y_test, y_predr, beta=10)"
      ],
      "metadata": {
        "id": "6hmJCnbS73ck"
      },
      "execution_count": null,
      "outputs": []
    },
    {
      "cell_type": "code",
      "source": [
        "c = fbeta_score(y_test, y_predr, beta=100)"
      ],
      "metadata": {
        "id": "TexO8jYtZjiJ"
      },
      "execution_count": null,
      "outputs": []
    },
    {
      "cell_type": "code",
      "source": [
        "c"
      ],
      "metadata": {
        "colab": {
          "base_uri": "https://localhost:8080/"
        },
        "id": "tVeMIJ-eZjnl",
        "outputId": "22113938-c3ff-401a-893e-2aff716346b7"
      },
      "execution_count": null,
      "outputs": [
        {
          "output_type": "execute_result",
          "data": {
            "text/plain": [
              "0.9812173025440752"
            ]
          },
          "metadata": {},
          "execution_count": 140
        }
      ]
    },
    {
      "cell_type": "code",
      "source": [
        "print('f1 score:',f1_score_rf)\n",
        "print('f5 score:',f5_score_rf)\n",
        "print('f10 score:',f10_score_rf)"
      ],
      "metadata": {
        "colab": {
          "base_uri": "https://localhost:8080/"
        },
        "id": "XW7isea173f4",
        "outputId": "2175aee8-701f-40ee-b494-8aaa19b2099c"
      },
      "execution_count": null,
      "outputs": [
        {
          "output_type": "stream",
          "name": "stdout",
          "text": [
            "f1 score: 0.15816187305572232\n",
            "f5 score: 0.7012012403262371\n",
            "f10 score: 0.8903751221346274\n"
          ]
        }
      ]
    },
    {
      "cell_type": "code",
      "source": [
        "result2=pd.DataFrame({'index' : [2], 'Model': ['RandomForest'],'Score':[score_random/100], 'f1': [f1_score_rf*100], \n",
        "                        'f5': [f5_score_rf*100], 'f10': [f10_score_rf*100],\n",
        "                      'AUROC':[AUROCRandom*100],'Precision':[precisionRandom*100],'Recall':[rappel_random*100]})"
      ],
      "metadata": {
        "id": "_8BYAp2V73hw"
      },
      "execution_count": null,
      "outputs": []
    },
    {
      "cell_type": "code",
      "source": [
        "result2"
      ],
      "metadata": {
        "colab": {
          "base_uri": "https://localhost:8080/",
          "height": 81
        },
        "id": "DgP8ItJg73jl",
        "outputId": "ac83ab55-6442-4325-9cc6-9aeac1364056"
      },
      "execution_count": null,
      "outputs": [
        {
          "output_type": "execute_result",
          "data": {
            "text/html": [
              "\n",
              "  <div id=\"df-3f04bc97-8be1-4050-8ec6-0a6dfa73bf9f\">\n",
              "    <div class=\"colab-df-container\">\n",
              "      <div>\n",
              "<style scoped>\n",
              "    .dataframe tbody tr th:only-of-type {\n",
              "        vertical-align: middle;\n",
              "    }\n",
              "\n",
              "    .dataframe tbody tr th {\n",
              "        vertical-align: top;\n",
              "    }\n",
              "\n",
              "    .dataframe thead th {\n",
              "        text-align: right;\n",
              "    }\n",
              "</style>\n",
              "<table border=\"1\" class=\"dataframe\">\n",
              "  <thead>\n",
              "    <tr style=\"text-align: right;\">\n",
              "      <th></th>\n",
              "      <th>index</th>\n",
              "      <th>Model</th>\n",
              "      <th>Score</th>\n",
              "      <th>f1</th>\n",
              "      <th>f5</th>\n",
              "      <th>f10</th>\n",
              "      <th>AUROC</th>\n",
              "      <th>Precision</th>\n",
              "      <th>Recall</th>\n",
              "    </tr>\n",
              "  </thead>\n",
              "  <tbody>\n",
              "    <tr>\n",
              "      <th>0</th>\n",
              "      <td>2</td>\n",
              "      <td>RandomForest</td>\n",
              "      <td>231.899</td>\n",
              "      <td>15.816187</td>\n",
              "      <td>70.120124</td>\n",
              "      <td>89.037512</td>\n",
              "      <td>73.588528</td>\n",
              "      <td>16.397476</td>\n",
              "      <td>98.22397</td>\n",
              "    </tr>\n",
              "  </tbody>\n",
              "</table>\n",
              "</div>\n",
              "      <button class=\"colab-df-convert\" onclick=\"convertToInteractive('df-3f04bc97-8be1-4050-8ec6-0a6dfa73bf9f')\"\n",
              "              title=\"Convert this dataframe to an interactive table.\"\n",
              "              style=\"display:none;\">\n",
              "        \n",
              "  <svg xmlns=\"http://www.w3.org/2000/svg\" height=\"24px\"viewBox=\"0 0 24 24\"\n",
              "       width=\"24px\">\n",
              "    <path d=\"M0 0h24v24H0V0z\" fill=\"none\"/>\n",
              "    <path d=\"M18.56 5.44l.94 2.06.94-2.06 2.06-.94-2.06-.94-.94-2.06-.94 2.06-2.06.94zm-11 1L8.5 8.5l.94-2.06 2.06-.94-2.06-.94L8.5 2.5l-.94 2.06-2.06.94zm10 10l.94 2.06.94-2.06 2.06-.94-2.06-.94-.94-2.06-.94 2.06-2.06.94z\"/><path d=\"M17.41 7.96l-1.37-1.37c-.4-.4-.92-.59-1.43-.59-.52 0-1.04.2-1.43.59L10.3 9.45l-7.72 7.72c-.78.78-.78 2.05 0 2.83L4 21.41c.39.39.9.59 1.41.59.51 0 1.02-.2 1.41-.59l7.78-7.78 2.81-2.81c.8-.78.8-2.07 0-2.86zM5.41 20L4 18.59l7.72-7.72 1.47 1.35L5.41 20z\"/>\n",
              "  </svg>\n",
              "      </button>\n",
              "      \n",
              "  <style>\n",
              "    .colab-df-container {\n",
              "      display:flex;\n",
              "      flex-wrap:wrap;\n",
              "      gap: 12px;\n",
              "    }\n",
              "\n",
              "    .colab-df-convert {\n",
              "      background-color: #E8F0FE;\n",
              "      border: none;\n",
              "      border-radius: 50%;\n",
              "      cursor: pointer;\n",
              "      display: none;\n",
              "      fill: #1967D2;\n",
              "      height: 32px;\n",
              "      padding: 0 0 0 0;\n",
              "      width: 32px;\n",
              "    }\n",
              "\n",
              "    .colab-df-convert:hover {\n",
              "      background-color: #E2EBFA;\n",
              "      box-shadow: 0px 1px 2px rgba(60, 64, 67, 0.3), 0px 1px 3px 1px rgba(60, 64, 67, 0.15);\n",
              "      fill: #174EA6;\n",
              "    }\n",
              "\n",
              "    [theme=dark] .colab-df-convert {\n",
              "      background-color: #3B4455;\n",
              "      fill: #D2E3FC;\n",
              "    }\n",
              "\n",
              "    [theme=dark] .colab-df-convert:hover {\n",
              "      background-color: #434B5C;\n",
              "      box-shadow: 0px 1px 3px 1px rgba(0, 0, 0, 0.15);\n",
              "      filter: drop-shadow(0px 1px 2px rgba(0, 0, 0, 0.3));\n",
              "      fill: #FFFFFF;\n",
              "    }\n",
              "  </style>\n",
              "\n",
              "      <script>\n",
              "        const buttonEl =\n",
              "          document.querySelector('#df-3f04bc97-8be1-4050-8ec6-0a6dfa73bf9f button.colab-df-convert');\n",
              "        buttonEl.style.display =\n",
              "          google.colab.kernel.accessAllowed ? 'block' : 'none';\n",
              "\n",
              "        async function convertToInteractive(key) {\n",
              "          const element = document.querySelector('#df-3f04bc97-8be1-4050-8ec6-0a6dfa73bf9f');\n",
              "          const dataTable =\n",
              "            await google.colab.kernel.invokeFunction('convertToInteractive',\n",
              "                                                     [key], {});\n",
              "          if (!dataTable) return;\n",
              "\n",
              "          const docLinkHtml = 'Like what you see? Visit the ' +\n",
              "            '<a target=\"_blank\" href=https://colab.research.google.com/notebooks/data_table.ipynb>data table notebook</a>'\n",
              "            + ' to learn more about interactive tables.';\n",
              "          element.innerHTML = '';\n",
              "          dataTable['output_type'] = 'display_data';\n",
              "          await google.colab.output.renderOutput(dataTable, element);\n",
              "          const docLink = document.createElement('div');\n",
              "          docLink.innerHTML = docLinkHtml;\n",
              "          element.appendChild(docLink);\n",
              "        }\n",
              "      </script>\n",
              "    </div>\n",
              "  </div>\n",
              "  "
            ],
            "text/plain": [
              "   index         Model    Score         f1         f5        f10      AUROC  \\\n",
              "0      2  RandomForest  231.899  15.816187  70.120124  89.037512  73.588528   \n",
              "\n",
              "   Precision    Recall  \n",
              "0  16.397476  98.22397  "
            ]
          },
          "metadata": {},
          "execution_count": 116
        }
      ]
    },
    {
      "cell_type": "code",
      "source": [
        "result2.to_csv('/content/drive/MyDrive/p7/data/result_RF.csv', index=False)"
      ],
      "metadata": {
        "id": "Q84D8ebY73oP"
      },
      "execution_count": null,
      "outputs": []
    },
    {
      "cell_type": "code",
      "source": [
        "result1=pd.read_csv('/content/drive/MyDrive/p7/data/result_LightGBM.csv')"
      ],
      "metadata": {
        "id": "Jym_XpqeEqOk"
      },
      "execution_count": null,
      "outputs": []
    },
    {
      "cell_type": "code",
      "source": [
        "result3=pd.read_csv('/content/drive/MyDrive/p7/data/result_XGB.csv')"
      ],
      "metadata": {
        "id": "H6dTU5PyEqJv"
      },
      "execution_count": null,
      "outputs": []
    },
    {
      "cell_type": "code",
      "source": [
        "r= result1.append(result2)\n",
        "r= r.append(result3)"
      ],
      "metadata": {
        "id": "UZ8X-SfgFTcG"
      },
      "execution_count": null,
      "outputs": []
    },
    {
      "cell_type": "code",
      "source": [
        "r"
      ],
      "metadata": {
        "colab": {
          "base_uri": "https://localhost:8080/",
          "height": 143
        },
        "id": "5EJry-WsF34c",
        "outputId": "d6a4c6fc-7a56-4e5e-a585-ea4b04b7c51b"
      },
      "execution_count": null,
      "outputs": [
        {
          "output_type": "execute_result",
          "data": {
            "text/html": [
              "\n",
              "  <div id=\"df-6ccc63b4-8a33-42a6-bfc9-48ab23c06063\">\n",
              "    <div class=\"colab-df-container\">\n",
              "      <div>\n",
              "<style scoped>\n",
              "    .dataframe tbody tr th:only-of-type {\n",
              "        vertical-align: middle;\n",
              "    }\n",
              "\n",
              "    .dataframe tbody tr th {\n",
              "        vertical-align: top;\n",
              "    }\n",
              "\n",
              "    .dataframe thead th {\n",
              "        text-align: right;\n",
              "    }\n",
              "</style>\n",
              "<table border=\"1\" class=\"dataframe\">\n",
              "  <thead>\n",
              "    <tr style=\"text-align: right;\">\n",
              "      <th></th>\n",
              "      <th>Model</th>\n",
              "      <th>Score</th>\n",
              "      <th>f1</th>\n",
              "      <th>f5</th>\n",
              "      <th>f10</th>\n",
              "      <th>AUROC</th>\n",
              "      <th>Precision</th>\n",
              "      <th>Recall</th>\n",
              "    </tr>\n",
              "  </thead>\n",
              "  <tbody>\n",
              "    <tr>\n",
              "      <th>0</th>\n",
              "      <td>LightGBM</td>\n",
              "      <td>88.850</td>\n",
              "      <td>27.123151</td>\n",
              "      <td>59.728048</td>\n",
              "      <td>64.528151</td>\n",
              "      <td>76.032547</td>\n",
              "      <td>71.480293</td>\n",
              "      <td>0.663774</td>\n",
              "    </tr>\n",
              "    <tr>\n",
              "      <th>0</th>\n",
              "      <td>RandomForest</td>\n",
              "      <td>231.899</td>\n",
              "      <td>15.816187</td>\n",
              "      <td>70.120124</td>\n",
              "      <td>89.037512</td>\n",
              "      <td>73.588528</td>\n",
              "      <td>16.397476</td>\n",
              "      <td>98.223970</td>\n",
              "    </tr>\n",
              "    <tr>\n",
              "      <th>0</th>\n",
              "      <td>XG Boost</td>\n",
              "      <td>78.293</td>\n",
              "      <td>28.332197</td>\n",
              "      <td>54.605292</td>\n",
              "      <td>57.929509</td>\n",
              "      <td>75.847946</td>\n",
              "      <td>76.062308</td>\n",
              "      <td>0.591784</td>\n",
              "    </tr>\n",
              "  </tbody>\n",
              "</table>\n",
              "</div>\n",
              "      <button class=\"colab-df-convert\" onclick=\"convertToInteractive('df-6ccc63b4-8a33-42a6-bfc9-48ab23c06063')\"\n",
              "              title=\"Convert this dataframe to an interactive table.\"\n",
              "              style=\"display:none;\">\n",
              "        \n",
              "  <svg xmlns=\"http://www.w3.org/2000/svg\" height=\"24px\"viewBox=\"0 0 24 24\"\n",
              "       width=\"24px\">\n",
              "    <path d=\"M0 0h24v24H0V0z\" fill=\"none\"/>\n",
              "    <path d=\"M18.56 5.44l.94 2.06.94-2.06 2.06-.94-2.06-.94-.94-2.06-.94 2.06-2.06.94zm-11 1L8.5 8.5l.94-2.06 2.06-.94-2.06-.94L8.5 2.5l-.94 2.06-2.06.94zm10 10l.94 2.06.94-2.06 2.06-.94-2.06-.94-.94-2.06-.94 2.06-2.06.94z\"/><path d=\"M17.41 7.96l-1.37-1.37c-.4-.4-.92-.59-1.43-.59-.52 0-1.04.2-1.43.59L10.3 9.45l-7.72 7.72c-.78.78-.78 2.05 0 2.83L4 21.41c.39.39.9.59 1.41.59.51 0 1.02-.2 1.41-.59l7.78-7.78 2.81-2.81c.8-.78.8-2.07 0-2.86zM5.41 20L4 18.59l7.72-7.72 1.47 1.35L5.41 20z\"/>\n",
              "  </svg>\n",
              "      </button>\n",
              "      \n",
              "  <style>\n",
              "    .colab-df-container {\n",
              "      display:flex;\n",
              "      flex-wrap:wrap;\n",
              "      gap: 12px;\n",
              "    }\n",
              "\n",
              "    .colab-df-convert {\n",
              "      background-color: #E8F0FE;\n",
              "      border: none;\n",
              "      border-radius: 50%;\n",
              "      cursor: pointer;\n",
              "      display: none;\n",
              "      fill: #1967D2;\n",
              "      height: 32px;\n",
              "      padding: 0 0 0 0;\n",
              "      width: 32px;\n",
              "    }\n",
              "\n",
              "    .colab-df-convert:hover {\n",
              "      background-color: #E2EBFA;\n",
              "      box-shadow: 0px 1px 2px rgba(60, 64, 67, 0.3), 0px 1px 3px 1px rgba(60, 64, 67, 0.15);\n",
              "      fill: #174EA6;\n",
              "    }\n",
              "\n",
              "    [theme=dark] .colab-df-convert {\n",
              "      background-color: #3B4455;\n",
              "      fill: #D2E3FC;\n",
              "    }\n",
              "\n",
              "    [theme=dark] .colab-df-convert:hover {\n",
              "      background-color: #434B5C;\n",
              "      box-shadow: 0px 1px 3px 1px rgba(0, 0, 0, 0.15);\n",
              "      filter: drop-shadow(0px 1px 2px rgba(0, 0, 0, 0.3));\n",
              "      fill: #FFFFFF;\n",
              "    }\n",
              "  </style>\n",
              "\n",
              "      <script>\n",
              "        const buttonEl =\n",
              "          document.querySelector('#df-6ccc63b4-8a33-42a6-bfc9-48ab23c06063 button.colab-df-convert');\n",
              "        buttonEl.style.display =\n",
              "          google.colab.kernel.accessAllowed ? 'block' : 'none';\n",
              "\n",
              "        async function convertToInteractive(key) {\n",
              "          const element = document.querySelector('#df-6ccc63b4-8a33-42a6-bfc9-48ab23c06063');\n",
              "          const dataTable =\n",
              "            await google.colab.kernel.invokeFunction('convertToInteractive',\n",
              "                                                     [key], {});\n",
              "          if (!dataTable) return;\n",
              "\n",
              "          const docLinkHtml = 'Like what you see? Visit the ' +\n",
              "            '<a target=\"_blank\" href=https://colab.research.google.com/notebooks/data_table.ipynb>data table notebook</a>'\n",
              "            + ' to learn more about interactive tables.';\n",
              "          element.innerHTML = '';\n",
              "          dataTable['output_type'] = 'display_data';\n",
              "          await google.colab.output.renderOutput(dataTable, element);\n",
              "          const docLink = document.createElement('div');\n",
              "          docLink.innerHTML = docLinkHtml;\n",
              "          element.appendChild(docLink);\n",
              "        }\n",
              "      </script>\n",
              "    </div>\n",
              "  </div>\n",
              "  "
            ],
            "text/plain": [
              "          Model    Score         f1         f5        f10      AUROC  \\\n",
              "0      LightGBM   88.850  27.123151  59.728048  64.528151  76.032547   \n",
              "0  RandomForest  231.899  15.816187  70.120124  89.037512  73.588528   \n",
              "0      XG Boost   78.293  28.332197  54.605292  57.929509  75.847946   \n",
              "\n",
              "   Precision     Recall  \n",
              "0  71.480293   0.663774  \n",
              "0  16.397476  98.223970  \n",
              "0  76.062308   0.591784  "
            ]
          },
          "metadata": {},
          "execution_count": 121
        }
      ]
    },
    {
      "cell_type": "code",
      "source": [
        "r.drop('index', axis=1, inplace=True)"
      ],
      "metadata": {
        "id": "laWlZ0NOHRUv"
      },
      "execution_count": null,
      "outputs": []
    },
    {
      "cell_type": "code",
      "source": [
        "comparaison_score_melt = pd.melt(r.reset_index(), id_vars = ['Model'], value_name = 'Comparaison',\\\n",
        "                                 value_vars=['Score','f1', 'f5','f10','AUROC', 'Precision','Recall'])\n",
        "#Annulez le pivotement d'un DataFrame du format large au format long, \n",
        "#en laissant éventuellement les identifiants définis"
      ],
      "metadata": {
        "id": "KhOztw6dH0fy"
      },
      "execution_count": null,
      "outputs": []
    },
    {
      "cell_type": "code",
      "source": [
        ""
      ],
      "metadata": {
        "id": "Yk5P7pI0H0jT"
      },
      "execution_count": null,
      "outputs": []
    },
    {
      "cell_type": "code",
      "source": [
        ""
      ],
      "metadata": {
        "id": "ggd-h_diH0lK"
      },
      "execution_count": null,
      "outputs": []
    },
    {
      "cell_type": "code",
      "source": [
        "plt.figure(figsize=(20,10))\n",
        "sns.barplot(x = comparaison_score_melt['Model'],\n",
        "            y = comparaison_score_melt['Comparaison'], hue = comparaison_score_melt['variable']);\n",
        "plt.xlabel('Modéles utilisés',fontsize = 30, fontweight = 'bold')  \n",
        "plt.ylabel('Les différents scores',fontsize = 30, fontweight = 'bold')          \n",
        "plt.title('Comparaison des performances des modèles',fontsize = 30, pad = 35, fontweight = 'bold');"
      ],
      "metadata": {
        "colab": {
          "base_uri": "https://localhost:8080/",
          "height": 692
        },
        "id": "Qh8ZlT1ZH0ox",
        "outputId": "ec7f6ef7-11da-4e7b-de23-15297adc0a39"
      },
      "execution_count": null,
      "outputs": [
        {
          "output_type": "display_data",
          "data": {
            "image/png": "[encoded data removed]",
            "text/plain": [
              "<Figure size 1440x720 with 1 Axes>"
            ]
          },
          "metadata": {
            "needs_background": "light"
          }
        }
      ]
    },
    {
      "cell_type": "markdown",
      "source": [
        "Selecting Random Forest Model for higher scoring and AUC_COR"
      ],
      "metadata": {
        "id": "bL8juXyq-Cuu"
      }
    },
    {
      "cell_type": "code",
      "source": [
        "model = RandomForestClassifier(n_jobs=-1, class_weight='balanced', max_depth=5)"
      ],
      "metadata": {
        "id": "7QlJl_rTtM1W"
      },
      "execution_count": null,
      "outputs": []
    },
    {
      "cell_type": "code",
      "source": [
        "model.fit(X_train, Y_train)\n",
        "# save the model to disk\n",
        "filename = 'finalized_model.sav'\n",
        "pickle.dump(model, open(filename, 'wb'))\n",
        " \n",
        "# load the model from disk\n",
        "loaded_model = pickle.load(open(filename, 'rb'))\n",
        "result = loaded_model.score(X_test, Y_test)"
      ],
      "metadata": {
        "id": "mQ3TVaRCtNEs"
      },
      "execution_count": null,
      "outputs": []
    },
    {
      "cell_type": "code",
      "source": [
        "df_X_test_rf.drop('Unnamed: 0', axis=1, inplace= True)\n",
        "df_X_train_rf.drop('Unnamed: 0', axis=1, inplace= True)"
      ],
      "metadata": {
        "id": "Wht-yvhLBHrJ"
      },
      "execution_count": 54,
      "outputs": []
    },
    {
      "cell_type": "code",
      "source": [
        "df_X_test_rf.shape"
      ],
      "metadata": {
        "colab": {
          "base_uri": "https://localhost:8080/"
        },
        "id": "HCawWUU_-B5o",
        "outputId": "5eb13da7-328c-4aef-9362-42be9b8be323"
      },
      "execution_count": 40,
      "outputs": [
        {
          "output_type": "execute_result",
          "data": {
            "text/plain": [
              "(92252, 84)"
            ]
          },
          "metadata": {},
          "execution_count": 40
        }
      ]
    },
    {
      "cell_type": "code",
      "source": [
        "df_X_test_rf.head()"
      ],
      "metadata": {
        "colab": {
          "base_uri": "https://localhost:8080/",
          "height": 299
        },
        "id": "GiUEldpjAxYH",
        "outputId": "b190e3da-f588-4f41-bd27-b9d0e990b51f"
      },
      "execution_count": 46,
      "outputs": [
        {
          "output_type": "execute_result",
          "data": {
            "text/html": [
              "\n",
              "  <div id=\"df-0e811c17-3789-41a7-8ad5-240ea4fcc224\">\n",
              "    <div class=\"colab-df-container\">\n",
              "      <div>\n",
              "<style scoped>\n",
              "    .dataframe tbody tr th:only-of-type {\n",
              "        vertical-align: middle;\n",
              "    }\n",
              "\n",
              "    .dataframe tbody tr th {\n",
              "        vertical-align: top;\n",
              "    }\n",
              "\n",
              "    .dataframe thead th {\n",
              "        text-align: right;\n",
              "    }\n",
              "</style>\n",
              "<table border=\"1\" class=\"dataframe\">\n",
              "  <thead>\n",
              "    <tr style=\"text-align: right;\">\n",
              "      <th></th>\n",
              "      <th>CODE_GENDER</th>\n",
              "      <th>FLAG_OWN_CAR</th>\n",
              "      <th>CNT_CHILDREN</th>\n",
              "      <th>AMT_INCOME_TOTAL</th>\n",
              "      <th>AMT_CREDIT</th>\n",
              "      <th>AMT_ANNUITY</th>\n",
              "      <th>REGION_POPULATION_RELATIVE</th>\n",
              "      <th>DAYS_BIRTH</th>\n",
              "      <th>DAYS_EMPLOYED</th>\n",
              "      <th>DAYS_REGISTRATION</th>\n",
              "      <th>...</th>\n",
              "      <th>NEW_REVOLVING_LOANS_1.0</th>\n",
              "      <th>NEW_HAS_CAR_0.0</th>\n",
              "      <th>NEW_HAS_CAR_1.0</th>\n",
              "      <th>NEW_HAS_COMPANY_0.0</th>\n",
              "      <th>NEW_HAS_COMPANY_1.0</th>\n",
              "      <th>NEW_LABORERS_0.0</th>\n",
              "      <th>NEW_LABORERS_1.0</th>\n",
              "      <th>NEW_AGE_SEGMENT_MİDDLE</th>\n",
              "      <th>NEW_AGE_SEGMENT_OLD</th>\n",
              "      <th>NEW_AGE_SEGMENT_YOUNG</th>\n",
              "    </tr>\n",
              "  </thead>\n",
              "  <tbody>\n",
              "    <tr>\n",
              "      <th>0</th>\n",
              "      <td>0</td>\n",
              "      <td>1</td>\n",
              "      <td>0</td>\n",
              "      <td>135000.0</td>\n",
              "      <td>654498.0</td>\n",
              "      <td>31486.5</td>\n",
              "      <td>0.018634</td>\n",
              "      <td>-19240</td>\n",
              "      <td>-3441.0</td>\n",
              "      <td>-1734.0</td>\n",
              "      <td>...</td>\n",
              "      <td>0</td>\n",
              "      <td>0</td>\n",
              "      <td>1</td>\n",
              "      <td>1</td>\n",
              "      <td>0</td>\n",
              "      <td>1</td>\n",
              "      <td>0</td>\n",
              "      <td>1</td>\n",
              "      <td>0</td>\n",
              "      <td>0</td>\n",
              "    </tr>\n",
              "    <tr>\n",
              "      <th>1</th>\n",
              "      <td>1</td>\n",
              "      <td>1</td>\n",
              "      <td>1</td>\n",
              "      <td>135000.0</td>\n",
              "      <td>270000.0</td>\n",
              "      <td>13500.0</td>\n",
              "      <td>0.020246</td>\n",
              "      <td>-15653</td>\n",
              "      <td>-1026.0</td>\n",
              "      <td>-3103.0</td>\n",
              "      <td>...</td>\n",
              "      <td>1</td>\n",
              "      <td>0</td>\n",
              "      <td>1</td>\n",
              "      <td>1</td>\n",
              "      <td>0</td>\n",
              "      <td>1</td>\n",
              "      <td>0</td>\n",
              "      <td>1</td>\n",
              "      <td>0</td>\n",
              "      <td>0</td>\n",
              "    </tr>\n",
              "    <tr>\n",
              "      <th>2</th>\n",
              "      <td>0</td>\n",
              "      <td>0</td>\n",
              "      <td>1</td>\n",
              "      <td>94500.0</td>\n",
              "      <td>180000.0</td>\n",
              "      <td>9000.0</td>\n",
              "      <td>0.025164</td>\n",
              "      <td>-8206</td>\n",
              "      <td>-781.0</td>\n",
              "      <td>-3051.0</td>\n",
              "      <td>...</td>\n",
              "      <td>1</td>\n",
              "      <td>1</td>\n",
              "      <td>0</td>\n",
              "      <td>1</td>\n",
              "      <td>0</td>\n",
              "      <td>0</td>\n",
              "      <td>1</td>\n",
              "      <td>0</td>\n",
              "      <td>0</td>\n",
              "      <td>1</td>\n",
              "    </tr>\n",
              "    <tr>\n",
              "      <th>3</th>\n",
              "      <td>0</td>\n",
              "      <td>1</td>\n",
              "      <td>0</td>\n",
              "      <td>360000.0</td>\n",
              "      <td>1312110.0</td>\n",
              "      <td>55593.0</td>\n",
              "      <td>0.018850</td>\n",
              "      <td>-13903</td>\n",
              "      <td>-2632.0</td>\n",
              "      <td>-1081.0</td>\n",
              "      <td>...</td>\n",
              "      <td>0</td>\n",
              "      <td>0</td>\n",
              "      <td>1</td>\n",
              "      <td>0</td>\n",
              "      <td>1</td>\n",
              "      <td>1</td>\n",
              "      <td>0</td>\n",
              "      <td>1</td>\n",
              "      <td>0</td>\n",
              "      <td>0</td>\n",
              "    </tr>\n",
              "    <tr>\n",
              "      <th>4</th>\n",
              "      <td>0</td>\n",
              "      <td>0</td>\n",
              "      <td>0</td>\n",
              "      <td>450000.0</td>\n",
              "      <td>675000.0</td>\n",
              "      <td>26284.5</td>\n",
              "      <td>0.026392</td>\n",
              "      <td>-11082</td>\n",
              "      <td>-1630.0</td>\n",
              "      <td>-2839.0</td>\n",
              "      <td>...</td>\n",
              "      <td>0</td>\n",
              "      <td>1</td>\n",
              "      <td>0</td>\n",
              "      <td>1</td>\n",
              "      <td>0</td>\n",
              "      <td>1</td>\n",
              "      <td>0</td>\n",
              "      <td>0</td>\n",
              "      <td>0</td>\n",
              "      <td>1</td>\n",
              "    </tr>\n",
              "  </tbody>\n",
              "</table>\n",
              "<p>5 rows × 84 columns</p>\n",
              "</div>\n",
              "      <button class=\"colab-df-convert\" onclick=\"convertToInteractive('df-0e811c17-3789-41a7-8ad5-240ea4fcc224')\"\n",
              "              title=\"Convert this dataframe to an interactive table.\"\n",
              "              style=\"display:none;\">\n",
              "        \n",
              "  <svg xmlns=\"http://www.w3.org/2000/svg\" height=\"24px\"viewBox=\"0 0 24 24\"\n",
              "       width=\"24px\">\n",
              "    <path d=\"M0 0h24v24H0V0z\" fill=\"none\"/>\n",
              "    <path d=\"M18.56 5.44l.94 2.06.94-2.06 2.06-.94-2.06-.94-.94-2.06-.94 2.06-2.06.94zm-11 1L8.5 8.5l.94-2.06 2.06-.94-2.06-.94L8.5 2.5l-.94 2.06-2.06.94zm10 10l.94 2.06.94-2.06 2.06-.94-2.06-.94-.94-2.06-.94 2.06-2.06.94z\"/><path d=\"M17.41 7.96l-1.37-1.37c-.4-.4-.92-.59-1.43-.59-.52 0-1.04.2-1.43.59L10.3 9.45l-7.72 7.72c-.78.78-.78 2.05 0 2.83L4 21.41c.39.39.9.59 1.41.59.51 0 1.02-.2 1.41-.59l7.78-7.78 2.81-2.81c.8-.78.8-2.07 0-2.86zM5.41 20L4 18.59l7.72-7.72 1.47 1.35L5.41 20z\"/>\n",
              "  </svg>\n",
              "      </button>\n",
              "      \n",
              "  <style>\n",
              "    .colab-df-container {\n",
              "      display:flex;\n",
              "      flex-wrap:wrap;\n",
              "      gap: 12px;\n",
              "    }\n",
              "\n",
              "    .colab-df-convert {\n",
              "      background-color: #E8F0FE;\n",
              "      border: none;\n",
              "      border-radius: 50%;\n",
              "      cursor: pointer;\n",
              "      display: none;\n",
              "      fill: #1967D2;\n",
              "      height: 32px;\n",
              "      padding: 0 0 0 0;\n",
              "      width: 32px;\n",
              "    }\n",
              "\n",
              "    .colab-df-convert:hover {\n",
              "      background-color: #E2EBFA;\n",
              "      box-shadow: 0px 1px 2px rgba(60, 64, 67, 0.3), 0px 1px 3px 1px rgba(60, 64, 67, 0.15);\n",
              "      fill: #174EA6;\n",
              "    }\n",
              "\n",
              "    [theme=dark] .colab-df-convert {\n",
              "      background-color: #3B4455;\n",
              "      fill: #D2E3FC;\n",
              "    }\n",
              "\n",
              "    [theme=dark] .colab-df-convert:hover {\n",
              "      background-color: #434B5C;\n",
              "      box-shadow: 0px 1px 3px 1px rgba(0, 0, 0, 0.15);\n",
              "      filter: drop-shadow(0px 1px 2px rgba(0, 0, 0, 0.3));\n",
              "      fill: #FFFFFF;\n",
              "    }\n",
              "  </style>\n",
              "\n",
              "      <script>\n",
              "        const buttonEl =\n",
              "          document.querySelector('#df-0e811c17-3789-41a7-8ad5-240ea4fcc224 button.colab-df-convert');\n",
              "        buttonEl.style.display =\n",
              "          google.colab.kernel.accessAllowed ? 'block' : 'none';\n",
              "\n",
              "        async function convertToInteractive(key) {\n",
              "          const element = document.querySelector('#df-0e811c17-3789-41a7-8ad5-240ea4fcc224');\n",
              "          const dataTable =\n",
              "            await google.colab.kernel.invokeFunction('convertToInteractive',\n",
              "                                                     [key], {});\n",
              "          if (!dataTable) return;\n",
              "\n",
              "          const docLinkHtml = 'Like what you see? Visit the ' +\n",
              "            '<a target=\"_blank\" href=https://colab.research.google.com/notebooks/data_table.ipynb>data table notebook</a>'\n",
              "            + ' to learn more about interactive tables.';\n",
              "          element.innerHTML = '';\n",
              "          dataTable['output_type'] = 'display_data';\n",
              "          await google.colab.output.renderOutput(dataTable, element);\n",
              "          const docLink = document.createElement('div');\n",
              "          docLink.innerHTML = docLinkHtml;\n",
              "          element.appendChild(docLink);\n",
              "        }\n",
              "      </script>\n",
              "    </div>\n",
              "  </div>\n",
              "  "
            ],
            "text/plain": [
              "   CODE_GENDER  FLAG_OWN_CAR  CNT_CHILDREN  AMT_INCOME_TOTAL  AMT_CREDIT  \\\n",
              "0            0             1             0          135000.0    654498.0   \n",
              "1            1             1             1          135000.0    270000.0   \n",
              "2            0             0             1           94500.0    180000.0   \n",
              "3            0             1             0          360000.0   1312110.0   \n",
              "4            0             0             0          450000.0    675000.0   \n",
              "\n",
              "   AMT_ANNUITY  REGION_POPULATION_RELATIVE  DAYS_BIRTH  DAYS_EMPLOYED  \\\n",
              "0      31486.5                    0.018634      -19240        -3441.0   \n",
              "1      13500.0                    0.020246      -15653        -1026.0   \n",
              "2       9000.0                    0.025164       -8206         -781.0   \n",
              "3      55593.0                    0.018850      -13903        -2632.0   \n",
              "4      26284.5                    0.026392      -11082        -1630.0   \n",
              "\n",
              "   DAYS_REGISTRATION  ...  NEW_REVOLVING_LOANS_1.0  NEW_HAS_CAR_0.0  \\\n",
              "0            -1734.0  ...                        0                0   \n",
              "1            -3103.0  ...                        1                0   \n",
              "2            -3051.0  ...                        1                1   \n",
              "3            -1081.0  ...                        0                0   \n",
              "4            -2839.0  ...                        0                1   \n",
              "\n",
              "   NEW_HAS_CAR_1.0  NEW_HAS_COMPANY_0.0  NEW_HAS_COMPANY_1.0  \\\n",
              "0                1                    1                    0   \n",
              "1                1                    1                    0   \n",
              "2                0                    1                    0   \n",
              "3                1                    0                    1   \n",
              "4                0                    1                    0   \n",
              "\n",
              "   NEW_LABORERS_0.0  NEW_LABORERS_1.0  NEW_AGE_SEGMENT_MİDDLE  \\\n",
              "0                 1                 0                       1   \n",
              "1                 1                 0                       1   \n",
              "2                 0                 1                       0   \n",
              "3                 1                 0                       1   \n",
              "4                 1                 0                       0   \n",
              "\n",
              "   NEW_AGE_SEGMENT_OLD  NEW_AGE_SEGMENT_YOUNG  \n",
              "0                    0                      0  \n",
              "1                    0                      0  \n",
              "2                    0                      1  \n",
              "3                    0                      0  \n",
              "4                    0                      1  \n",
              "\n",
              "[5 rows x 84 columns]"
            ]
          },
          "metadata": {},
          "execution_count": 46
        }
      ]
    },
    {
      "cell_type": "code",
      "source": [
        "df_X_train_rf.head()"
      ],
      "metadata": {
        "colab": {
          "base_uri": "https://localhost:8080/",
          "height": 299
        },
        "id": "Yc6EbgQIAxa5",
        "outputId": "9dfa20c9-cfca-4808-ee97-2cdf36600076"
      },
      "execution_count": 55,
      "outputs": [
        {
          "output_type": "execute_result",
          "data": {
            "text/html": [
              "\n",
              "  <div id=\"df-142f1015-40c8-4590-91bc-d52219c927b2\">\n",
              "    <div class=\"colab-df-container\">\n",
              "      <div>\n",
              "<style scoped>\n",
              "    .dataframe tbody tr th:only-of-type {\n",
              "        vertical-align: middle;\n",
              "    }\n",
              "\n",
              "    .dataframe tbody tr th {\n",
              "        vertical-align: top;\n",
              "    }\n",
              "\n",
              "    .dataframe thead th {\n",
              "        text-align: right;\n",
              "    }\n",
              "</style>\n",
              "<table border=\"1\" class=\"dataframe\">\n",
              "  <thead>\n",
              "    <tr style=\"text-align: right;\">\n",
              "      <th></th>\n",
              "      <th>CODE_GENDER</th>\n",
              "      <th>FLAG_OWN_CAR</th>\n",
              "      <th>CNT_CHILDREN</th>\n",
              "      <th>AMT_INCOME_TOTAL</th>\n",
              "      <th>AMT_CREDIT</th>\n",
              "      <th>AMT_ANNUITY</th>\n",
              "      <th>REGION_POPULATION_RELATIVE</th>\n",
              "      <th>DAYS_BIRTH</th>\n",
              "      <th>DAYS_EMPLOYED</th>\n",
              "      <th>DAYS_REGISTRATION</th>\n",
              "      <th>...</th>\n",
              "      <th>NEW_REVOLVING_LOANS_1.0</th>\n",
              "      <th>NEW_HAS_CAR_0.0</th>\n",
              "      <th>NEW_HAS_CAR_1.0</th>\n",
              "      <th>NEW_HAS_COMPANY_0.0</th>\n",
              "      <th>NEW_HAS_COMPANY_1.0</th>\n",
              "      <th>NEW_LABORERS_0.0</th>\n",
              "      <th>NEW_LABORERS_1.0</th>\n",
              "      <th>NEW_AGE_SEGMENT_MİDDLE</th>\n",
              "      <th>NEW_AGE_SEGMENT_OLD</th>\n",
              "      <th>NEW_AGE_SEGMENT_YOUNG</th>\n",
              "    </tr>\n",
              "  </thead>\n",
              "  <tbody>\n",
              "    <tr>\n",
              "      <th>0</th>\n",
              "      <td>1</td>\n",
              "      <td>1</td>\n",
              "      <td>0</td>\n",
              "      <td>180000.0</td>\n",
              "      <td>312840.0</td>\n",
              "      <td>8964.0</td>\n",
              "      <td>0.016612</td>\n",
              "      <td>-13424</td>\n",
              "      <td>-5143.0</td>\n",
              "      <td>-593.0</td>\n",
              "      <td>...</td>\n",
              "      <td>0</td>\n",
              "      <td>0</td>\n",
              "      <td>1</td>\n",
              "      <td>0</td>\n",
              "      <td>1</td>\n",
              "      <td>1</td>\n",
              "      <td>0</td>\n",
              "      <td>1</td>\n",
              "      <td>0</td>\n",
              "      <td>0</td>\n",
              "    </tr>\n",
              "    <tr>\n",
              "      <th>1</th>\n",
              "      <td>0</td>\n",
              "      <td>1</td>\n",
              "      <td>0</td>\n",
              "      <td>126000.0</td>\n",
              "      <td>49752.0</td>\n",
              "      <td>5355.0</td>\n",
              "      <td>0.019689</td>\n",
              "      <td>-8842</td>\n",
              "      <td>-1130.0</td>\n",
              "      <td>-3723.0</td>\n",
              "      <td>...</td>\n",
              "      <td>0</td>\n",
              "      <td>0</td>\n",
              "      <td>1</td>\n",
              "      <td>1</td>\n",
              "      <td>0</td>\n",
              "      <td>0</td>\n",
              "      <td>1</td>\n",
              "      <td>0</td>\n",
              "      <td>0</td>\n",
              "      <td>1</td>\n",
              "    </tr>\n",
              "    <tr>\n",
              "      <th>2</th>\n",
              "      <td>0</td>\n",
              "      <td>0</td>\n",
              "      <td>1</td>\n",
              "      <td>157500.0</td>\n",
              "      <td>150948.0</td>\n",
              "      <td>13972.5</td>\n",
              "      <td>0.025164</td>\n",
              "      <td>-11194</td>\n",
              "      <td>-1441.0</td>\n",
              "      <td>-3626.0</td>\n",
              "      <td>...</td>\n",
              "      <td>0</td>\n",
              "      <td>1</td>\n",
              "      <td>0</td>\n",
              "      <td>0</td>\n",
              "      <td>1</td>\n",
              "      <td>1</td>\n",
              "      <td>0</td>\n",
              "      <td>0</td>\n",
              "      <td>0</td>\n",
              "      <td>1</td>\n",
              "    </tr>\n",
              "    <tr>\n",
              "      <th>3</th>\n",
              "      <td>1</td>\n",
              "      <td>1</td>\n",
              "      <td>0</td>\n",
              "      <td>112500.0</td>\n",
              "      <td>319500.0</td>\n",
              "      <td>16312.5</td>\n",
              "      <td>0.035792</td>\n",
              "      <td>-15764</td>\n",
              "      <td>-4899.0</td>\n",
              "      <td>-7791.0</td>\n",
              "      <td>...</td>\n",
              "      <td>0</td>\n",
              "      <td>0</td>\n",
              "      <td>1</td>\n",
              "      <td>1</td>\n",
              "      <td>0</td>\n",
              "      <td>1</td>\n",
              "      <td>0</td>\n",
              "      <td>1</td>\n",
              "      <td>0</td>\n",
              "      <td>0</td>\n",
              "    </tr>\n",
              "    <tr>\n",
              "      <th>4</th>\n",
              "      <td>1</td>\n",
              "      <td>0</td>\n",
              "      <td>0</td>\n",
              "      <td>225000.0</td>\n",
              "      <td>387000.0</td>\n",
              "      <td>14031.0</td>\n",
              "      <td>0.026392</td>\n",
              "      <td>-21481</td>\n",
              "      <td>-1648.0</td>\n",
              "      <td>-7445.0</td>\n",
              "      <td>...</td>\n",
              "      <td>0</td>\n",
              "      <td>1</td>\n",
              "      <td>0</td>\n",
              "      <td>1</td>\n",
              "      <td>0</td>\n",
              "      <td>1</td>\n",
              "      <td>0</td>\n",
              "      <td>0</td>\n",
              "      <td>1</td>\n",
              "      <td>0</td>\n",
              "    </tr>\n",
              "  </tbody>\n",
              "</table>\n",
              "<p>5 rows × 84 columns</p>\n",
              "</div>\n",
              "      <button class=\"colab-df-convert\" onclick=\"convertToInteractive('df-142f1015-40c8-4590-91bc-d52219c927b2')\"\n",
              "              title=\"Convert this dataframe to an interactive table.\"\n",
              "              style=\"display:none;\">\n",
              "        \n",
              "  <svg xmlns=\"http://www.w3.org/2000/svg\" height=\"24px\"viewBox=\"0 0 24 24\"\n",
              "       width=\"24px\">\n",
              "    <path d=\"M0 0h24v24H0V0z\" fill=\"none\"/>\n",
              "    <path d=\"M18.56 5.44l.94 2.06.94-2.06 2.06-.94-2.06-.94-.94-2.06-.94 2.06-2.06.94zm-11 1L8.5 8.5l.94-2.06 2.06-.94-2.06-.94L8.5 2.5l-.94 2.06-2.06.94zm10 10l.94 2.06.94-2.06 2.06-.94-2.06-.94-.94-2.06-.94 2.06-2.06.94z\"/><path d=\"M17.41 7.96l-1.37-1.37c-.4-.4-.92-.59-1.43-.59-.52 0-1.04.2-1.43.59L10.3 9.45l-7.72 7.72c-.78.78-.78 2.05 0 2.83L4 21.41c.39.39.9.59 1.41.59.51 0 1.02-.2 1.41-.59l7.78-7.78 2.81-2.81c.8-.78.8-2.07 0-2.86zM5.41 20L4 18.59l7.72-7.72 1.47 1.35L5.41 20z\"/>\n",
              "  </svg>\n",
              "      </button>\n",
              "      \n",
              "  <style>\n",
              "    .colab-df-container {\n",
              "      display:flex;\n",
              "      flex-wrap:wrap;\n",
              "      gap: 12px;\n",
              "    }\n",
              "\n",
              "    .colab-df-convert {\n",
              "      background-color: #E8F0FE;\n",
              "      border: none;\n",
              "      border-radius: 50%;\n",
              "      cursor: pointer;\n",
              "      display: none;\n",
              "      fill: #1967D2;\n",
              "      height: 32px;\n",
              "      padding: 0 0 0 0;\n",
              "      width: 32px;\n",
              "    }\n",
              "\n",
              "    .colab-df-convert:hover {\n",
              "      background-color: #E2EBFA;\n",
              "      box-shadow: 0px 1px 2px rgba(60, 64, 67, 0.3), 0px 1px 3px 1px rgba(60, 64, 67, 0.15);\n",
              "      fill: #174EA6;\n",
              "    }\n",
              "\n",
              "    [theme=dark] .colab-df-convert {\n",
              "      background-color: #3B4455;\n",
              "      fill: #D2E3FC;\n",
              "    }\n",
              "\n",
              "    [theme=dark] .colab-df-convert:hover {\n",
              "      background-color: #434B5C;\n",
              "      box-shadow: 0px 1px 3px 1px rgba(0, 0, 0, 0.15);\n",
              "      filter: drop-shadow(0px 1px 2px rgba(0, 0, 0, 0.3));\n",
              "      fill: #FFFFFF;\n",
              "    }\n",
              "  </style>\n",
              "\n",
              "      <script>\n",
              "        const buttonEl =\n",
              "          document.querySelector('#df-142f1015-40c8-4590-91bc-d52219c927b2 button.colab-df-convert');\n",
              "        buttonEl.style.display =\n",
              "          google.colab.kernel.accessAllowed ? 'block' : 'none';\n",
              "\n",
              "        async function convertToInteractive(key) {\n",
              "          const element = document.querySelector('#df-142f1015-40c8-4590-91bc-d52219c927b2');\n",
              "          const dataTable =\n",
              "            await google.colab.kernel.invokeFunction('convertToInteractive',\n",
              "                                                     [key], {});\n",
              "          if (!dataTable) return;\n",
              "\n",
              "          const docLinkHtml = 'Like what you see? Visit the ' +\n",
              "            '<a target=\"_blank\" href=https://colab.research.google.com/notebooks/data_table.ipynb>data table notebook</a>'\n",
              "            + ' to learn more about interactive tables.';\n",
              "          element.innerHTML = '';\n",
              "          dataTable['output_type'] = 'display_data';\n",
              "          await google.colab.output.renderOutput(dataTable, element);\n",
              "          const docLink = document.createElement('div');\n",
              "          docLink.innerHTML = docLinkHtml;\n",
              "          element.appendChild(docLink);\n",
              "        }\n",
              "      </script>\n",
              "    </div>\n",
              "  </div>\n",
              "  "
            ],
            "text/plain": [
              "   CODE_GENDER  FLAG_OWN_CAR  CNT_CHILDREN  AMT_INCOME_TOTAL  AMT_CREDIT  \\\n",
              "0            1             1             0          180000.0    312840.0   \n",
              "1            0             1             0          126000.0     49752.0   \n",
              "2            0             0             1          157500.0    150948.0   \n",
              "3            1             1             0          112500.0    319500.0   \n",
              "4            1             0             0          225000.0    387000.0   \n",
              "\n",
              "   AMT_ANNUITY  REGION_POPULATION_RELATIVE  DAYS_BIRTH  DAYS_EMPLOYED  \\\n",
              "0       8964.0                    0.016612      -13424        -5143.0   \n",
              "1       5355.0                    0.019689       -8842        -1130.0   \n",
              "2      13972.5                    0.025164      -11194        -1441.0   \n",
              "3      16312.5                    0.035792      -15764        -4899.0   \n",
              "4      14031.0                    0.026392      -21481        -1648.0   \n",
              "\n",
              "   DAYS_REGISTRATION  ...  NEW_REVOLVING_LOANS_1.0  NEW_HAS_CAR_0.0  \\\n",
              "0             -593.0  ...                        0                0   \n",
              "1            -3723.0  ...                        0                0   \n",
              "2            -3626.0  ...                        0                1   \n",
              "3            -7791.0  ...                        0                0   \n",
              "4            -7445.0  ...                        0                1   \n",
              "\n",
              "   NEW_HAS_CAR_1.0  NEW_HAS_COMPANY_0.0  NEW_HAS_COMPANY_1.0  \\\n",
              "0                1                    0                    1   \n",
              "1                1                    1                    0   \n",
              "2                0                    0                    1   \n",
              "3                1                    1                    0   \n",
              "4                0                    1                    0   \n",
              "\n",
              "   NEW_LABORERS_0.0  NEW_LABORERS_1.0  NEW_AGE_SEGMENT_MİDDLE  \\\n",
              "0                 1                 0                       1   \n",
              "1                 0                 1                       0   \n",
              "2                 1                 0                       0   \n",
              "3                 1                 0                       1   \n",
              "4                 1                 0                       0   \n",
              "\n",
              "   NEW_AGE_SEGMENT_OLD  NEW_AGE_SEGMENT_YOUNG  \n",
              "0                    0                      0  \n",
              "1                    0                      1  \n",
              "2                    0                      1  \n",
              "3                    0                      0  \n",
              "4                    1                      0  \n",
              "\n",
              "[5 rows x 84 columns]"
            ]
          },
          "metadata": {},
          "execution_count": 55
        }
      ]
    },
    {
      "cell_type": "markdown",
      "source": [
        "**Model deployment**"
      ],
      "metadata": {
        "id": "shPJj-pa-it5"
      }
    },
    {
      "cell_type": "code",
      "source": [
        "std_scale=RobustScaler().fit(df_X_train_rf)\n",
        "#entrainement sur le train"
      ],
      "metadata": {
        "id": "tqHv80iGD4Ou"
      },
      "execution_count": 56,
      "outputs": []
    },
    {
      "cell_type": "code",
      "source": [
        "X_scale_train=std_scale.transform(df_X_train_rf)\n",
        "#transformation du train\n",
        "X_scale_test=std_scale.transform(df_X_test_rf)\n",
        "#transformation du test"
      ],
      "metadata": {
        "id": "30prymwTEEtu"
      },
      "execution_count": 57,
      "outputs": []
    },
    {
      "cell_type": "code",
      "source": [
        "import pickle"
      ],
      "metadata": {
        "id": "XkZz6NEd1EqL"
      },
      "execution_count": 26,
      "outputs": []
    },
    {
      "cell_type": "code",
      "source": [
        "rf = RandomForestClassifier(n_jobs=-1, class_weight='balanced', max_depth=5)"
      ],
      "metadata": {
        "id": "IvQy8iS2GmeX"
      },
      "execution_count": 60,
      "outputs": []
    },
    {
      "cell_type": "code",
      "source": [
        "rf.fit(X_scale_train, y_train)"
      ],
      "metadata": {
        "colab": {
          "base_uri": "https://localhost:8080/"
        },
        "id": "KmlULaoPG5WI",
        "outputId": "5c4ff142-b333-4460-c447-5a16b492dbb7"
      },
      "execution_count": 62,
      "outputs": [
        {
          "output_type": "execute_result",
          "data": {
            "text/plain": [
              "RandomForestClassifier(class_weight='balanced', max_depth=5, n_jobs=-1)"
            ]
          },
          "metadata": {},
          "execution_count": 62
        }
      ]
    },
    {
      "cell_type": "code",
      "execution_count": 63,
      "metadata": {
        "id": "abff67cc7505"
      },
      "outputs": [],
      "source": [
        "#enrégistrer le modele pour pouvoir l'utiliser dans notre web application\n",
        "pickle.dump(rf,open('credit.pkl','wb'))"
      ]
    },
    {
      "cell_type": "code",
      "source": [
        ""
      ],
      "metadata": {
        "id": "Q7UIgrx2Gkr4"
      },
      "execution_count": null,
      "outputs": []
    },
    {
      "cell_type": "code",
      "source": [
        "#Calcul de la probabilité \n",
        "proba=rf.predict_proba(X_scale_test)[:,1]"
      ],
      "metadata": {
        "id": "X5lNcM0pCX1W"
      },
      "execution_count": 64,
      "outputs": []
    },
    {
      "cell_type": "code",
      "source": [
        "df=pd.DataFrame()\n",
        "df['predict']=proba"
      ],
      "metadata": {
        "id": "Htzf2kLdCX5c"
      },
      "execution_count": 66,
      "outputs": []
    },
    {
      "cell_type": "code",
      "source": [
        "plt.figure()\n",
        "Histo('predict',df,50)\n",
        "plt.axvline(x=0.45, color='red')\n",
        "plt.annotate('Le Client  ne Rembourse pas',xy=(0.7,1500),xytext=(0.8,2000),arrowprops=\n",
        "             {'facecolor':'#5930F2'})\n",
        "plt.title('Graphique des probabibilités d\\'affectation Random Forest')"
      ],
      "metadata": {
        "colab": {
          "base_uri": "https://localhost:8080/",
          "height": 406
        },
        "id": "KTh7ETBdCX84",
        "outputId": "93e77239-9819-4d3e-be08-16aa5e06109c"
      },
      "execution_count": 71,
      "outputs": [
        {
          "output_type": "execute_result",
          "data": {
            "text/plain": [
              "Text(0.5, 1.0, \"Graphique des probabibilités d'affectation Random Forest\")"
            ]
          },
          "metadata": {},
          "execution_count": 71
        },
        {
          "output_type": "display_data",
          "data": {
            "text/plain": [
              "<Figure size 432x288 with 0 Axes>"
            ]
          },
          "metadata": {}
        },
        {
          "output_type": "display_data",
          "data": {
            "image/png": "[encoded data removed]",
            "text/plain": [
              "<Figure size 360x360 with 1 Axes>"
            ]
          },
          "metadata": {
            "needs_background": "light"
          }
        }
      ]
    },
    {
      "cell_type": "code",
      "source": [
        "#alignement des deux tables \n",
        "X, TEST_Final = data.align(TEST_Final, join = 'inner', axis=1)"
      ],
      "metadata": {
        "id": "jhbtEdU7K2ve"
      },
      "execution_count": null,
      "outputs": []
    },
    {
      "cell_type": "code",
      "source": [
        ""
      ],
      "metadata": {
        "id": "4klwAKorK2zY"
      },
      "execution_count": null,
      "outputs": []
    },
    {
      "cell_type": "code",
      "source": [
        "TEST_Final['Score']=proba"
      ],
      "metadata": {
        "colab": {
          "base_uri": "https://localhost:8080/",
          "height": 165
        },
        "id": "Glpp1Gkr7lD1",
        "outputId": "4cbf3e12-27f6-48c1-dd33-00d9cb6b2cf9"
      },
      "execution_count": 72,
      "outputs": [
        {
          "output_type": "error",
          "ename": "NameError",
          "evalue": "ignored",
          "traceback": [
            "\u001b[0;31m---------------------------------------------------------------------------\u001b[0m",
            "\u001b[0;31mNameError\u001b[0m                                 Traceback (most recent call last)",
            "\u001b[0;32m<ipython-input-72-45eacf5acfef>\u001b[0m in \u001b[0;36m<module>\u001b[0;34m()\u001b[0m\n\u001b[0;32m----> 1\u001b[0;31m \u001b[0mTEST_Final\u001b[0m\u001b[0;34m[\u001b[0m\u001b[0;34m'Score'\u001b[0m\u001b[0;34m]\u001b[0m\u001b[0;34m=\u001b[0m\u001b[0mproba\u001b[0m\u001b[0;34m\u001b[0m\u001b[0;34m\u001b[0m\u001b[0m\n\u001b[0m",
            "\u001b[0;31mNameError\u001b[0m: name 'TEST_Final' is not defined"
          ]
        }
      ]
    }
  ],
  "metadata": {
    "accelerator": "GPU",
    "colab": {
      "collapsed_sections": [],
      "name": "Feature_selection_RF.ipynb",
      "provenance": [],
      "authorship_tag": "ABX9TyNSxXU1iQSgPKugAb3AwrO7",
      "include_colab_link": true
    },
    "kernelspec": {
      "display_name": "Python 3",
      "name": "python3"
    },
    "language_info": {
      "name": "python"
    }
  },
  "nbformat": 4,
  "nbformat_minor": 0
}