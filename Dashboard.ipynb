{
  "cells": [
    {
      "cell_type": "markdown",
      "metadata": {
        "id": "view-in-github",
        "colab_type": "text"
      },
      "source": [
        "<a href=\"https://colab.research.google.com/github/Azimoj/Home-Credit-Default-Risk/blob/main/Dashboard.ipynb\" target=\"_parent\"><img src=\"https://colab.research.google.com/assets/colab-badge.svg\" alt=\"Open In Colab\"/></a>"
      ]
    },
    {
      "cell_type": "code",
      "execution_count": 1,
      "metadata": {
        "colab": {
          "base_uri": "https://localhost:8080/"
        },
        "id": "pUsiyVEkuoSi",
        "outputId": "1061d8f4-1711-4fae-cf6e-b73c079d67c9"
      },
      "outputs": [
        {
          "output_type": "stream",
          "name": "stdout",
          "text": [
            "Mounted at /content/drive\n"
          ]
        }
      ],
      "source": [
        "from google.colab import drive\n",
        "drive.mount(\"/content/drive\", force_remount=True)"
      ]
    },
    {
      "cell_type": "code",
      "source": [
        "! pip install jyquickhelper"
      ],
      "metadata": {
        "id": "VClMXCO_6OCf",
        "colab": {
          "base_uri": "https://localhost:8080/"
        },
        "outputId": "c5eeb0bb-01c3-4c58-ba8d-98def0470aea"
      },
      "execution_count": 2,
      "outputs": [
        {
          "output_type": "stream",
          "name": "stdout",
          "text": [
            "Installing collected packages: jyquickhelper\n",
            "Successfully installed jyquickhelper-0.4.220\n"
          ]
        }
      ]
    },
    {
      "cell_type": "code",
      "source": [
        "from jyquickhelper import add_notebook_menu\n",
        "add_notebook_menu()"
      ],
      "metadata": {
        "colab": {
          "base_uri": "https://localhost:8080/",
          "height": 17
        },
        "id": "dvOj5ykG6BW9",
        "outputId": "b39ef528-cf00-4a7c-8e96-d44fe31cb34f"
      },
      "execution_count": null,
      "outputs": [
        {
          "output_type": "execute_result",
          "data": {
            "text/plain": [
              "<IPython.core.display.HTML object>"
            ],
            "text/html": [
              "<div id=\"my_id_menu_nb\">run previous cell, wait for 2 seconds</div>\n",
              "<script>\n",
              "function repeat_indent_string(n){\n",
              "    var a = \"\" ;\n",
              "    for ( ; n > 0 ; --n)\n",
              "        a += \"    \";\n",
              "    return a;\n",
              "}\n",
              "// look up into all sections and builds an automated menu //\n",
              "var update_menu_string = function(begin, lfirst, llast, sformat, send, keep_item, begin_format, end_format) {\n",
              "    var anchors = document.getElementsByClassName(\"section\");\n",
              "    if (anchors.length == 0) {\n",
              "        anchors = document.getElementsByClassName(\"text_cell_render rendered_html\");\n",
              "    }\n",
              "    var i,t;\n",
              "    var text_menu = begin;\n",
              "    var text_memo = \"<pre>\\nlength:\" + anchors.length + \"\\n\";\n",
              "    var ind = \"\";\n",
              "    var memo_level = 1;\n",
              "    var href;\n",
              "    var tags = [];\n",
              "    var main_item = 0;\n",
              "    var format_open = 0;\n",
              "    for (i = 0; i <= llast; i++)\n",
              "        tags.push(\"h\" + i);\n",
              "\n",
              "    for (i = 0; i < anchors.length; i++) {\n",
              "        text_memo += \"**\" + anchors[i].id + \"--\\n\";\n",
              "\n",
              "        var child = null;\n",
              "        for(t = 0; t < tags.length; t++) {\n",
              "            var r = anchors[i].getElementsByTagName(tags[t]);\n",
              "            if (r.length > 0) {\n",
              "child = r[0];\n",
              "break;\n",
              "            }\n",
              "        }\n",
              "        if (child == null) {\n",
              "            text_memo += \"null\\n\";\n",
              "            continue;\n",
              "        }\n",
              "        if (anchors[i].hasAttribute(\"id\")) {\n",
              "            // when converted in RST\n",
              "            href = anchors[i].id;\n",
              "            text_memo += \"#1-\" + href;\n",
              "            // passer à child suivant (le chercher)\n",
              "        }\n",
              "        else if (child.hasAttribute(\"id\")) {\n",
              "            // in a notebook\n",
              "            href = child.id;\n",
              "            text_memo += \"#2-\" + href;\n",
              "        }\n",
              "        else {\n",
              "            text_memo += \"#3-\" + \"*\" + \"\\n\";\n",
              "            continue;\n",
              "        }\n",
              "        var title = child.textContent;\n",
              "        var level = parseInt(child.tagName.substring(1,2));\n",
              "\n",
              "        text_memo += \"--\" + level + \"?\" + lfirst + \"--\" + title + \"\\n\";\n",
              "\n",
              "        if ((level < lfirst) || (level > llast)) {\n",
              "            continue ;\n",
              "        }\n",
              "        if (title.endsWith('¶')) {\n",
              "            title = title.substring(0,title.length-1).replace(\"<\", \"&lt;\")\n",
              "         .replace(\">\", \"&gt;\").replace(\"&\", \"&amp;\");\n",
              "        }\n",
              "        if (title.length == 0) {\n",
              "            continue;\n",
              "        }\n",
              "\n",
              "        while (level < memo_level) {\n",
              "            text_menu += end_format + \"</ul>\\n\";\n",
              "            format_open -= 1;\n",
              "            memo_level -= 1;\n",
              "        }\n",
              "        if (level == lfirst) {\n",
              "            main_item += 1;\n",
              "        }\n",
              "        if (keep_item != -1 && main_item != keep_item + 1) {\n",
              "            // alert(main_item + \" - \" + level + \" - \" + keep_item);\n",
              "            continue;\n",
              "        }\n",
              "        while (level > memo_level) {\n",
              "            text_menu += \"<ul>\\n\";\n",
              "            memo_level += 1;\n",
              "        }\n",
              "        text_menu += repeat_indent_string(level-2);\n",
              "        text_menu += begin_format + sformat.replace(\"__HREF__\", href).replace(\"__TITLE__\", title);\n",
              "        format_open += 1;\n",
              "    }\n",
              "    while (1 < memo_level) {\n",
              "        text_menu += end_format + \"</ul>\\n\";\n",
              "        memo_level -= 1;\n",
              "        format_open -= 1;\n",
              "    }\n",
              "    text_menu += send;\n",
              "    //text_menu += \"\\n\" + text_memo;\n",
              "\n",
              "    while (format_open > 0) {\n",
              "        text_menu += end_format;\n",
              "        format_open -= 1;\n",
              "    }\n",
              "    return text_menu;\n",
              "};\n",
              "var update_menu = function() {\n",
              "    var sbegin = \"\";\n",
              "    var sformat = '<a href=\"#__HREF__\">__TITLE__</a>';\n",
              "    var send = \"\";\n",
              "    var begin_format = '<li>';\n",
              "    var end_format = '</li>';\n",
              "    var keep_item = -1;\n",
              "    var text_menu = update_menu_string(sbegin, 2, 4, sformat, send, keep_item,\n",
              "       begin_format, end_format);\n",
              "    var menu = document.getElementById(\"my_id_menu_nb\");\n",
              "    menu.innerHTML=text_menu;\n",
              "};\n",
              "window.setTimeout(update_menu,2000);\n",
              "            </script>"
            ]
          },
          "metadata": {},
          "execution_count": 3
        }
      ]
    },
    {
      "cell_type": "code",
      "source": [
        "! pip install shap"
      ],
      "metadata": {
        "id": "PM9dq3uu6lr9",
        "colab": {
          "base_uri": "https://localhost:8080/"
        },
        "outputId": "d624bcab-5bd5-4b0e-f49b-932ae11da062"
      },
      "execution_count": 3,
      "outputs": [
        {
          "output_type": "stream",
          "name": "stdout",
          "text": [
            "Installing collected packages: slicer, shap\n",
            "Successfully installed shap-0.40.0 slicer-0.0.7\n"
          ]
        }
      ]
    },
    {
      "cell_type": "code",
      "execution_count": 2,
      "metadata": {
        "id": "3dntO80bu4QR"
      },
      "outputs": [],
      "source": [
        "# Chargement des librairies\n",
        "import datetime\n",
        "import sys\n",
        "import time\n",
        "from datetime import datetime\n",
        "import warnings\n",
        "import jyquickhelper\n",
        "import numpy as np\n",
        "import pandas as pd\n",
        "import pickle\n",
        "from joblib import dump, load\n",
        "from collections import Counter\n",
        "\n",
        "\n",
        "# Visualisation\n",
        "import matplotlib\n",
        "import matplotlib.pyplot as plt\n",
        "import matplotlib.lines as mlines\n",
        "import seaborn as sns\n",
        "import plotly.graph_objects as go\n",
        "\n",
        "# Modèle\n",
        "import sklearn\n",
        "from sklearn.neighbors import KNeighborsClassifier\n",
        "import lightgbm as lgb\n",
        "# Standardisation\n",
        "from sklearn.preprocessing import StandardScaler\n",
        "\n",
        "# Interprétation\n",
        "import shap\n",
        "# Warnings\n",
        "import warnings\n",
        "from warnings import simplefilter\n",
        "simplefilter(action='ignore', category=FutureWarning)\n",
        "\n",
        "%matplotlib inline\n",
        "# Chargement à chaud des librairies personnelles\n",
        "%load_ext autoreload\n",
        "%autoreload 2\n",
        "# Valide code pep"
      ]
    },
    {
      "cell_type": "code",
      "source": [
        "# Suppress warnings from pandas\n",
        "import warnings\n",
        "warnings.filterwarnings('ignore')"
      ],
      "metadata": {
        "id": "cKV8hcl6gwCQ"
      },
      "execution_count": 5,
      "outputs": []
    },
    {
      "cell_type": "code",
      "source": [
        "# Original Dataset \n",
        "application_train = pd.read_csv('/content/drive/MyDrive/p7/data/application_train.csv')\n",
        "application_test = pd.read_csv('/content/drive/MyDrive/p7/data/application_test.csv')"
      ],
      "metadata": {
        "id": "12dhrhun9dvt"
      },
      "execution_count": 109,
      "outputs": []
    },
    {
      "cell_type": "code",
      "source": [
        "application_train.shape, application_test.shape"
      ],
      "metadata": {
        "colab": {
          "base_uri": "https://localhost:8080/"
        },
        "id": "7oHCoSuAK4t3",
        "outputId": "b405b4de-297b-4b28-c76d-0ab60bf94aef"
      },
      "execution_count": 34,
      "outputs": [
        {
          "output_type": "execute_result",
          "data": {
            "text/plain": [
              "((307511, 122), (48744, 121))"
            ]
          },
          "metadata": {},
          "execution_count": 34
        }
      ]
    },
    {
      "cell_type": "code",
      "source": [
        "# dataset after preprocesing\n",
        "\n",
        "train_set = pd.read_csv('/content/drive/MyDrive/p7/data/data_train.csv')\n",
        "test_set = pd.read_csv('/content/drive/MyDrive/p7/data/data_test.csv')"
      ],
      "metadata": {
        "id": "RNGp1bmxQxvs"
      },
      "execution_count": 12,
      "outputs": []
    },
    {
      "cell_type": "code",
      "source": [
        "test_set.shape"
      ],
      "metadata": {
        "colab": {
          "base_uri": "https://localhost:8080/"
        },
        "id": "6ZSlG82ZeFEr",
        "outputId": "6adaa503-0b1f-455b-9bc6-55c31f0fd6a7"
      },
      "execution_count": 13,
      "outputs": [
        {
          "output_type": "execute_result",
          "data": {
            "text/plain": [
              "(48744, 896)"
            ]
          },
          "metadata": {},
          "execution_count": 13
        }
      ]
    },
    {
      "cell_type": "code",
      "source": [
        "pickle.load(open('/content/drive/MyDrive/p7/best_model.sav', 'rb'))"
      ],
      "metadata": {
        "id": "dYkGVjeguGGb"
      },
      "execution_count": null,
      "outputs": []
    },
    {
      "cell_type": "code",
      "execution_count": 3,
      "metadata": {
        "id": "rfB5J87c9jpY"
      },
      "outputs": [],
      "source": [
        "# Train dataset split\n",
        "X_train_fin = pd.read_csv('/content/drive/MyDrive/p7/data/X_train_fin.csv')\n",
        "X_test_fin = pd.read_csv('/content/drive/MyDrive/p7/data/X_test_fin.csv')"
      ]
    },
    {
      "cell_type": "code",
      "source": [
        "X_train_fin.shape"
      ],
      "metadata": {
        "colab": {
          "base_uri": "https://localhost:8080/"
        },
        "id": "p_6uUxW-UaIz",
        "outputId": "58636c97-22d2-4224-b9a3-3e72f5cb7d25"
      },
      "execution_count": null,
      "outputs": [
        {
          "output_type": "execute_result",
          "data": {
            "text/plain": [
              "(246005, 896)"
            ]
          },
          "metadata": {},
          "execution_count": 21
        }
      ]
    },
    {
      "cell_type": "code",
      "source": [
        "test_set[test_set==np.inf]=np.nan\n",
        "train_set[train_set==np.inf]=np.nan"
      ],
      "metadata": {
        "id": "dSTXLzlzXNn1"
      },
      "execution_count": 82,
      "outputs": []
    },
    {
      "cell_type": "code",
      "source": [
        "test_set= test_set.fillna(0)\n",
        "train_set= train_set.fillna(0)"
      ],
      "metadata": {
        "id": "ynAwtAGgG2lf"
      },
      "execution_count": 83,
      "outputs": []
    },
    {
      "cell_type": "code",
      "source": [
        "X_test_fin.shape"
      ],
      "metadata": {
        "colab": {
          "base_uri": "https://localhost:8080/"
        },
        "id": "ku-H0cK8Xenl",
        "outputId": "ec61c3dd-dc7a-42eb-901f-4203313868e7"
      },
      "execution_count": null,
      "outputs": [
        {
          "output_type": "execute_result",
          "data": {
            "text/plain": [
              "(61502, 896)"
            ]
          },
          "metadata": {},
          "execution_count": 22
        }
      ]
    },
    {
      "cell_type": "code",
      "source": [
        "import pickle\n",
        "best_model = pickle.load(open('/content/drive/MyDrive/p7/best_model.sav', 'rb'))\n",
        "best_model"
      ],
      "metadata": {
        "colab": {
          "base_uri": "https://localhost:8080/"
        },
        "id": "qF4kx4eF_nGK",
        "outputId": "29dfee41-8b8b-4b1b-e9ca-afba119868eb"
      },
      "execution_count": 5,
      "outputs": [
        {
          "output_type": "execute_result",
          "data": {
            "text/plain": [
              "LGBMClassifier(boosting_type='goss', class_weight='balanced',\n",
              "               colsample_bytree=0.78, force_col_wise=True, max_depth=10,\n",
              "               min_child_samples=54, min_child_weight=42, min_split_gain=0.015,\n",
              "               num_leaves=35, objective='binary', reg_alpha=0.28,\n",
              "               reg_lambda=0.03, seed=0, subsample=0.2)"
            ]
          },
          "metadata": {},
          "execution_count": 5
        }
      ]
    },
    {
      "cell_type": "code",
      "source": [
        ""
      ],
      "metadata": {
        "id": "0YDN4jnGaTeC"
      },
      "execution_count": null,
      "outputs": []
    },
    {
      "cell_type": "code",
      "source": [
        "filename =  '/content/drive/MyDrive/p7/best_model.pickle'\n",
        "outfile = open(filename,'wb')\n",
        "pickle.dump(best_model, outfile)\n",
        "outfile.close()"
      ],
      "metadata": {
        "id": "F8q1UWi-X8EM"
      },
      "execution_count": 6,
      "outputs": []
    },
    {
      "cell_type": "code",
      "source": [
        "dump(best_model, '/content/drive/MyDrive/p7/best_model.joblib', compress=1)"
      ],
      "metadata": {
        "colab": {
          "base_uri": "https://localhost:8080/"
        },
        "id": "UPU-TNCwRmSN",
        "outputId": "244dca3c-89a3-4c42-8f69-5d7996d49f3a"
      },
      "execution_count": null,
      "outputs": [
        {
          "output_type": "execute_result",
          "data": {
            "text/plain": [
              "['/content/drive/MyDrive/p7/best_model.joblib']"
            ]
          },
          "metadata": {},
          "execution_count": 15
        }
      ]
    },
    {
      "cell_type": "markdown",
      "source": [
        "## Scoring (prédictions/Probabilités)"
      ],
      "metadata": {
        "id": "mxJAtbWGQlS8"
      }
    },
    {
      "cell_type": "code",
      "source": [
        "# Copie du jeu de test\n",
        "test = test_set.copy(deep=True)\n",
        "# Sauvegarde des identifiants des clients inutiles aux prédictions\n",
        "id_client = test['SK_ID_CURR']\n",
        "# Préparation de la matrice à soumettre aux prédictions \n",
        "X_test = test.drop('SK_ID_CURR', axis=1)"
      ],
      "metadata": {
        "id": "einaNp10_nMe"
      },
      "execution_count": 9,
      "outputs": []
    },
    {
      "cell_type": "code",
      "source": [
        "X_test.shape"
      ],
      "metadata": {
        "colab": {
          "base_uri": "https://localhost:8080/"
        },
        "id": "iARhqWupcFHi",
        "outputId": "4e8432cb-5686-410a-f02d-9aa01bd286c2"
      },
      "execution_count": 12,
      "outputs": [
        {
          "output_type": "execute_result",
          "data": {
            "text/plain": [
              "(48744, 895)"
            ]
          },
          "metadata": {},
          "execution_count": 12
        }
      ]
    },
    {
      "cell_type": "code",
      "source": [
        "# Score des prédictions de probabiltés\n",
        "y_proba = best_model.predict_proba(X_test)[:, 1]"
      ],
      "metadata": {
        "id": "HmtVpVHA_nPh"
      },
      "execution_count": 62,
      "outputs": []
    },
    {
      "cell_type": "code",
      "source": [
        "# Score des prédictions de probabiltés\n",
        "y_proba = best_model.predict_proba(X_test)[:, 1]"
      ],
      "metadata": {
        "id": "mc56DBC4aUkz"
      },
      "execution_count": 63,
      "outputs": []
    },
    {
      "cell_type": "code",
      "source": [
        "# Prédictions pour le client :\n",
        "# classe 0 : non défaillant, classe 1 : défaillant\n",
        "y_pred = best_model.predict(X_test)"
      ],
      "metadata": {
        "id": "QEvAhDH-aUod"
      },
      "execution_count": 64,
      "outputs": []
    },
    {
      "cell_type": "code",
      "source": [
        "# Constitution du dataframe pour merge\n",
        "df_score = pd.DataFrame({'SK_ID_CURR' : id_client,\n",
        "                         'PRED_CLASSE_CLIENT' : y_pred,\n",
        "                         'SCORE_CLIENT' : y_proba,\n",
        "                         'SCORE_CLIENT_%' : np.round(y_proba * 100, 1)})\n",
        "df_score.head(3)"
      ],
      "metadata": {
        "colab": {
          "base_uri": "https://localhost:8080/",
          "height": 143
        },
        "id": "qQ_J6MfXaUrX",
        "outputId": "54a313f8-37da-4ad6-ff2e-34d53f4e25e3"
      },
      "execution_count": 65,
      "outputs": [
        {
          "output_type": "execute_result",
          "data": {
            "text/plain": [
              "   SK_ID_CURR  PRED_CLASSE_CLIENT  SCORE_CLIENT  SCORE_CLIENT_%\n",
              "0      100001                   0      0.327993            32.8\n",
              "1      100005                   0      0.356018            35.6\n",
              "2      100013                   0      0.098026             9.8"
            ],
            "text/html": [
              "\n",
              "  <div id=\"df-220c297f-8423-4884-a335-0f9d9ce8d98a\">\n",
              "    <div class=\"colab-df-container\">\n",
              "      <div>\n",
              "<style scoped>\n",
              "    .dataframe tbody tr th:only-of-type {\n",
              "        vertical-align: middle;\n",
              "    }\n",
              "\n",
              "    .dataframe tbody tr th {\n",
              "        vertical-align: top;\n",
              "    }\n",
              "\n",
              "    .dataframe thead th {\n",
              "        text-align: right;\n",
              "    }\n",
              "</style>\n",
              "<table border=\"1\" class=\"dataframe\">\n",
              "  <thead>\n",
              "    <tr style=\"text-align: right;\">\n",
              "      <th></th>\n",
              "      <th>SK_ID_CURR</th>\n",
              "      <th>PRED_CLASSE_CLIENT</th>\n",
              "      <th>SCORE_CLIENT</th>\n",
              "      <th>SCORE_CLIENT_%</th>\n",
              "    </tr>\n",
              "  </thead>\n",
              "  <tbody>\n",
              "    <tr>\n",
              "      <th>0</th>\n",
              "      <td>100001</td>\n",
              "      <td>0</td>\n",
              "      <td>0.327993</td>\n",
              "      <td>32.8</td>\n",
              "    </tr>\n",
              "    <tr>\n",
              "      <th>1</th>\n",
              "      <td>100005</td>\n",
              "      <td>0</td>\n",
              "      <td>0.356018</td>\n",
              "      <td>35.6</td>\n",
              "    </tr>\n",
              "    <tr>\n",
              "      <th>2</th>\n",
              "      <td>100013</td>\n",
              "      <td>0</td>\n",
              "      <td>0.098026</td>\n",
              "      <td>9.8</td>\n",
              "    </tr>\n",
              "  </tbody>\n",
              "</table>\n",
              "</div>\n",
              "      <button class=\"colab-df-convert\" onclick=\"convertToInteractive('df-220c297f-8423-4884-a335-0f9d9ce8d98a')\"\n",
              "              title=\"Convert this dataframe to an interactive table.\"\n",
              "              style=\"display:none;\">\n",
              "        \n",
              "  <svg xmlns=\"http://www.w3.org/2000/svg\" height=\"24px\"viewBox=\"0 0 24 24\"\n",
              "       width=\"24px\">\n",
              "    <path d=\"M0 0h24v24H0V0z\" fill=\"none\"/>\n",
              "    <path d=\"M18.56 5.44l.94 2.06.94-2.06 2.06-.94-2.06-.94-.94-2.06-.94 2.06-2.06.94zm-11 1L8.5 8.5l.94-2.06 2.06-.94-2.06-.94L8.5 2.5l-.94 2.06-2.06.94zm10 10l.94 2.06.94-2.06 2.06-.94-2.06-.94-.94-2.06-.94 2.06-2.06.94z\"/><path d=\"M17.41 7.96l-1.37-1.37c-.4-.4-.92-.59-1.43-.59-.52 0-1.04.2-1.43.59L10.3 9.45l-7.72 7.72c-.78.78-.78 2.05 0 2.83L4 21.41c.39.39.9.59 1.41.59.51 0 1.02-.2 1.41-.59l7.78-7.78 2.81-2.81c.8-.78.8-2.07 0-2.86zM5.41 20L4 18.59l7.72-7.72 1.47 1.35L5.41 20z\"/>\n",
              "  </svg>\n",
              "      </button>\n",
              "      \n",
              "  <style>\n",
              "    .colab-df-container {\n",
              "      display:flex;\n",
              "      flex-wrap:wrap;\n",
              "      gap: 12px;\n",
              "    }\n",
              "\n",
              "    .colab-df-convert {\n",
              "      background-color: #E8F0FE;\n",
              "      border: none;\n",
              "      border-radius: 50%;\n",
              "      cursor: pointer;\n",
              "      display: none;\n",
              "      fill: #1967D2;\n",
              "      height: 32px;\n",
              "      padding: 0 0 0 0;\n",
              "      width: 32px;\n",
              "    }\n",
              "\n",
              "    .colab-df-convert:hover {\n",
              "      background-color: #E2EBFA;\n",
              "      box-shadow: 0px 1px 2px rgba(60, 64, 67, 0.3), 0px 1px 3px 1px rgba(60, 64, 67, 0.15);\n",
              "      fill: #174EA6;\n",
              "    }\n",
              "\n",
              "    [theme=dark] .colab-df-convert {\n",
              "      background-color: #3B4455;\n",
              "      fill: #D2E3FC;\n",
              "    }\n",
              "\n",
              "    [theme=dark] .colab-df-convert:hover {\n",
              "      background-color: #434B5C;\n",
              "      box-shadow: 0px 1px 3px 1px rgba(0, 0, 0, 0.15);\n",
              "      filter: drop-shadow(0px 1px 2px rgba(0, 0, 0, 0.3));\n",
              "      fill: #FFFFFF;\n",
              "    }\n",
              "  </style>\n",
              "\n",
              "      <script>\n",
              "        const buttonEl =\n",
              "          document.querySelector('#df-220c297f-8423-4884-a335-0f9d9ce8d98a button.colab-df-convert');\n",
              "        buttonEl.style.display =\n",
              "          google.colab.kernel.accessAllowed ? 'block' : 'none';\n",
              "\n",
              "        async function convertToInteractive(key) {\n",
              "          const element = document.querySelector('#df-220c297f-8423-4884-a335-0f9d9ce8d98a');\n",
              "          const dataTable =\n",
              "            await google.colab.kernel.invokeFunction('convertToInteractive',\n",
              "                                                     [key], {});\n",
              "          if (!dataTable) return;\n",
              "\n",
              "          const docLinkHtml = 'Like what you see? Visit the ' +\n",
              "            '<a target=\"_blank\" href=https://colab.research.google.com/notebooks/data_table.ipynb>data table notebook</a>'\n",
              "            + ' to learn more about interactive tables.';\n",
              "          element.innerHTML = '';\n",
              "          dataTable['output_type'] = 'display_data';\n",
              "          await google.colab.output.renderOutput(dataTable, element);\n",
              "          const docLink = document.createElement('div');\n",
              "          docLink.innerHTML = docLinkHtml;\n",
              "          element.appendChild(docLink);\n",
              "        }\n",
              "      </script>\n",
              "    </div>\n",
              "  </div>\n",
              "  "
            ]
          },
          "metadata": {},
          "execution_count": 65
        }
      ]
    },
    {
      "cell_type": "code",
      "source": [
        "# Ajout des prédictions au dataframe du jeu de test\n",
        "df_dashboard = df_score.merge(app_test, on='SK_ID_CURR', how='left')\n",
        "df_dashboard.head(3)"
      ],
      "metadata": {
        "colab": {
          "base_uri": "https://localhost:8080/",
          "height": 237
        },
        "id": "O4u4B58vaUuG",
        "outputId": "fe399ea0-872a-4084-8ca9-2398b70ad416"
      },
      "execution_count": 66,
      "outputs": [
        {
          "output_type": "execute_result",
          "data": {
            "text/plain": [
              "   SK_ID_CURR  PRED_CLASSE_CLIENT  SCORE_CLIENT  SCORE_CLIENT_%  CODE_GENDER  \\\n",
              "0      100001                   0      0.327993            32.8            0   \n",
              "1      100005                   0      0.356018            35.6            1   \n",
              "2      100013                   0      0.098026             9.8            1   \n",
              "\n",
              "   FLAG_OWN_CAR  FLAG_OWN_REALTY  CNT_CHILDREN  AMT_INCOME_TOTAL  AMT_CREDIT  \\\n",
              "0             0                0             0          135000.0    568800.0   \n",
              "1             0                0             0           99000.0    222768.0   \n",
              "2             1                0             0          202500.0    663264.0   \n",
              "\n",
              "   ...  CC_NAME_CONTRACT_STATUS_nan_MAX  CC_NAME_CONTRACT_STATUS_nan_MEAN  \\\n",
              "0  ...                              0.0                               0.0   \n",
              "1  ...                              0.0                               0.0   \n",
              "2  ...                              0.0                               0.0   \n",
              "\n",
              "   CC_NAME_CONTRACT_STATUS_nan_SUM  CC_NAME_CONTRACT_STATUS_nan_VAR  \\\n",
              "0                              0.0                              0.0   \n",
              "1                              0.0                              0.0   \n",
              "2                              0.0                              0.0   \n",
              "\n",
              "   CC_NEW_INSTALLMENTS_PER_LOAN_MIN  CC_NEW_INSTALLMENTS_PER_LOAN_MAX  \\\n",
              "0                              27.0                              27.0   \n",
              "1                               5.0                               5.0   \n",
              "2                              25.0                              25.0   \n",
              "\n",
              "   CC_NEW_INSTALLMENTS_PER_LOAN_MEAN  CC_NEW_INSTALLMENTS_PER_LOAN_SUM  \\\n",
              "0                               27.0                             810.0   \n",
              "1                                5.0                              35.0   \n",
              "2                               25.0                            2075.0   \n",
              "\n",
              "   CC_NEW_INSTALLMENTS_PER_LOAN_VAR  CC_COUNT  \n",
              "0                               0.0      30.0  \n",
              "1                               0.0       7.0  \n",
              "2                               0.0      83.0  \n",
              "\n",
              "[3 rows x 899 columns]"
            ],
            "text/html": [
              "\n",
              "  <div id=\"df-8f324ce6-2a72-457f-ae8e-262d36df1d95\">\n",
              "    <div class=\"colab-df-container\">\n",
              "      <div>\n",
              "<style scoped>\n",
              "    .dataframe tbody tr th:only-of-type {\n",
              "        vertical-align: middle;\n",
              "    }\n",
              "\n",
              "    .dataframe tbody tr th {\n",
              "        vertical-align: top;\n",
              "    }\n",
              "\n",
              "    .dataframe thead th {\n",
              "        text-align: right;\n",
              "    }\n",
              "</style>\n",
              "<table border=\"1\" class=\"dataframe\">\n",
              "  <thead>\n",
              "    <tr style=\"text-align: right;\">\n",
              "      <th></th>\n",
              "      <th>SK_ID_CURR</th>\n",
              "      <th>PRED_CLASSE_CLIENT</th>\n",
              "      <th>SCORE_CLIENT</th>\n",
              "      <th>SCORE_CLIENT_%</th>\n",
              "      <th>CODE_GENDER</th>\n",
              "      <th>FLAG_OWN_CAR</th>\n",
              "      <th>FLAG_OWN_REALTY</th>\n",
              "      <th>CNT_CHILDREN</th>\n",
              "      <th>AMT_INCOME_TOTAL</th>\n",
              "      <th>AMT_CREDIT</th>\n",
              "      <th>...</th>\n",
              "      <th>CC_NAME_CONTRACT_STATUS_nan_MAX</th>\n",
              "      <th>CC_NAME_CONTRACT_STATUS_nan_MEAN</th>\n",
              "      <th>CC_NAME_CONTRACT_STATUS_nan_SUM</th>\n",
              "      <th>CC_NAME_CONTRACT_STATUS_nan_VAR</th>\n",
              "      <th>CC_NEW_INSTALLMENTS_PER_LOAN_MIN</th>\n",
              "      <th>CC_NEW_INSTALLMENTS_PER_LOAN_MAX</th>\n",
              "      <th>CC_NEW_INSTALLMENTS_PER_LOAN_MEAN</th>\n",
              "      <th>CC_NEW_INSTALLMENTS_PER_LOAN_SUM</th>\n",
              "      <th>CC_NEW_INSTALLMENTS_PER_LOAN_VAR</th>\n",
              "      <th>CC_COUNT</th>\n",
              "    </tr>\n",
              "  </thead>\n",
              "  <tbody>\n",
              "    <tr>\n",
              "      <th>0</th>\n",
              "      <td>100001</td>\n",
              "      <td>0</td>\n",
              "      <td>0.327993</td>\n",
              "      <td>32.8</td>\n",
              "      <td>0</td>\n",
              "      <td>0</td>\n",
              "      <td>0</td>\n",
              "      <td>0</td>\n",
              "      <td>135000.0</td>\n",
              "      <td>568800.0</td>\n",
              "      <td>...</td>\n",
              "      <td>0.0</td>\n",
              "      <td>0.0</td>\n",
              "      <td>0.0</td>\n",
              "      <td>0.0</td>\n",
              "      <td>27.0</td>\n",
              "      <td>27.0</td>\n",
              "      <td>27.0</td>\n",
              "      <td>810.0</td>\n",
              "      <td>0.0</td>\n",
              "      <td>30.0</td>\n",
              "    </tr>\n",
              "    <tr>\n",
              "      <th>1</th>\n",
              "      <td>100005</td>\n",
              "      <td>0</td>\n",
              "      <td>0.356018</td>\n",
              "      <td>35.6</td>\n",
              "      <td>1</td>\n",
              "      <td>0</td>\n",
              "      <td>0</td>\n",
              "      <td>0</td>\n",
              "      <td>99000.0</td>\n",
              "      <td>222768.0</td>\n",
              "      <td>...</td>\n",
              "      <td>0.0</td>\n",
              "      <td>0.0</td>\n",
              "      <td>0.0</td>\n",
              "      <td>0.0</td>\n",
              "      <td>5.0</td>\n",
              "      <td>5.0</td>\n",
              "      <td>5.0</td>\n",
              "      <td>35.0</td>\n",
              "      <td>0.0</td>\n",
              "      <td>7.0</td>\n",
              "    </tr>\n",
              "    <tr>\n",
              "      <th>2</th>\n",
              "      <td>100013</td>\n",
              "      <td>0</td>\n",
              "      <td>0.098026</td>\n",
              "      <td>9.8</td>\n",
              "      <td>1</td>\n",
              "      <td>1</td>\n",
              "      <td>0</td>\n",
              "      <td>0</td>\n",
              "      <td>202500.0</td>\n",
              "      <td>663264.0</td>\n",
              "      <td>...</td>\n",
              "      <td>0.0</td>\n",
              "      <td>0.0</td>\n",
              "      <td>0.0</td>\n",
              "      <td>0.0</td>\n",
              "      <td>25.0</td>\n",
              "      <td>25.0</td>\n",
              "      <td>25.0</td>\n",
              "      <td>2075.0</td>\n",
              "      <td>0.0</td>\n",
              "      <td>83.0</td>\n",
              "    </tr>\n",
              "  </tbody>\n",
              "</table>\n",
              "<p>3 rows × 899 columns</p>\n",
              "</div>\n",
              "      <button class=\"colab-df-convert\" onclick=\"convertToInteractive('df-8f324ce6-2a72-457f-ae8e-262d36df1d95')\"\n",
              "              title=\"Convert this dataframe to an interactive table.\"\n",
              "              style=\"display:none;\">\n",
              "        \n",
              "  <svg xmlns=\"http://www.w3.org/2000/svg\" height=\"24px\"viewBox=\"0 0 24 24\"\n",
              "       width=\"24px\">\n",
              "    <path d=\"M0 0h24v24H0V0z\" fill=\"none\"/>\n",
              "    <path d=\"M18.56 5.44l.94 2.06.94-2.06 2.06-.94-2.06-.94-.94-2.06-.94 2.06-2.06.94zm-11 1L8.5 8.5l.94-2.06 2.06-.94-2.06-.94L8.5 2.5l-.94 2.06-2.06.94zm10 10l.94 2.06.94-2.06 2.06-.94-2.06-.94-.94-2.06-.94 2.06-2.06.94z\"/><path d=\"M17.41 7.96l-1.37-1.37c-.4-.4-.92-.59-1.43-.59-.52 0-1.04.2-1.43.59L10.3 9.45l-7.72 7.72c-.78.78-.78 2.05 0 2.83L4 21.41c.39.39.9.59 1.41.59.51 0 1.02-.2 1.41-.59l7.78-7.78 2.81-2.81c.8-.78.8-2.07 0-2.86zM5.41 20L4 18.59l7.72-7.72 1.47 1.35L5.41 20z\"/>\n",
              "  </svg>\n",
              "      </button>\n",
              "      \n",
              "  <style>\n",
              "    .colab-df-container {\n",
              "      display:flex;\n",
              "      flex-wrap:wrap;\n",
              "      gap: 12px;\n",
              "    }\n",
              "\n",
              "    .colab-df-convert {\n",
              "      background-color: #E8F0FE;\n",
              "      border: none;\n",
              "      border-radius: 50%;\n",
              "      cursor: pointer;\n",
              "      display: none;\n",
              "      fill: #1967D2;\n",
              "      height: 32px;\n",
              "      padding: 0 0 0 0;\n",
              "      width: 32px;\n",
              "    }\n",
              "\n",
              "    .colab-df-convert:hover {\n",
              "      background-color: #E2EBFA;\n",
              "      box-shadow: 0px 1px 2px rgba(60, 64, 67, 0.3), 0px 1px 3px 1px rgba(60, 64, 67, 0.15);\n",
              "      fill: #174EA6;\n",
              "    }\n",
              "\n",
              "    [theme=dark] .colab-df-convert {\n",
              "      background-color: #3B4455;\n",
              "      fill: #D2E3FC;\n",
              "    }\n",
              "\n",
              "    [theme=dark] .colab-df-convert:hover {\n",
              "      background-color: #434B5C;\n",
              "      box-shadow: 0px 1px 3px 1px rgba(0, 0, 0, 0.15);\n",
              "      filter: drop-shadow(0px 1px 2px rgba(0, 0, 0, 0.3));\n",
              "      fill: #FFFFFF;\n",
              "    }\n",
              "  </style>\n",
              "\n",
              "      <script>\n",
              "        const buttonEl =\n",
              "          document.querySelector('#df-8f324ce6-2a72-457f-ae8e-262d36df1d95 button.colab-df-convert');\n",
              "        buttonEl.style.display =\n",
              "          google.colab.kernel.accessAllowed ? 'block' : 'none';\n",
              "\n",
              "        async function convertToInteractive(key) {\n",
              "          const element = document.querySelector('#df-8f324ce6-2a72-457f-ae8e-262d36df1d95');\n",
              "          const dataTable =\n",
              "            await google.colab.kernel.invokeFunction('convertToInteractive',\n",
              "                                                     [key], {});\n",
              "          if (!dataTable) return;\n",
              "\n",
              "          const docLinkHtml = 'Like what you see? Visit the ' +\n",
              "            '<a target=\"_blank\" href=https://colab.research.google.com/notebooks/data_table.ipynb>data table notebook</a>'\n",
              "            + ' to learn more about interactive tables.';\n",
              "          element.innerHTML = '';\n",
              "          dataTable['output_type'] = 'display_data';\n",
              "          await google.colab.output.renderOutput(dataTable, element);\n",
              "          const docLink = document.createElement('div');\n",
              "          docLink.innerHTML = docLinkHtml;\n",
              "          element.appendChild(docLink);\n",
              "        }\n",
              "      </script>\n",
              "    </div>\n",
              "  </div>\n",
              "  "
            ]
          },
          "metadata": {},
          "execution_count": 66
        }
      ]
    },
    {
      "cell_type": "code",
      "source": [
        "df_dashboard.shape"
      ],
      "metadata": {
        "colab": {
          "base_uri": "https://localhost:8080/"
        },
        "id": "W8Ns_a2bzPuJ",
        "outputId": "eb203340-d396-419c-d75e-9ab5cb6d2052"
      },
      "execution_count": 26,
      "outputs": [
        {
          "output_type": "execute_result",
          "data": {
            "text/plain": [
              "(48744, 899)"
            ]
          },
          "metadata": {},
          "execution_count": 26
        }
      ]
    },
    {
      "cell_type": "code",
      "source": [
        "# Sauvegarde de df_dashboard\n",
        "fic_sav_df_dashboard ='/content/drive/MyDrive/p7/df_dashboard_1.pickle'\n",
        "with open(fic_sav_df_dashboard, 'wb') as f:\n",
        "    pickle.dump(df_dashboard, f, pickle.HIGHEST_PROTOCOL)"
      ],
      "metadata": {
        "id": "yj_vlZer_nS3"
      },
      "execution_count": 79,
      "outputs": []
    },
    {
      "cell_type": "code",
      "source": [
        "# Chargement du dataframe df_dashboard_1\n",
        "fic_sav_df_dashboard_1 ='/content/drive/MyDrive/p7/df_dashboard_1.pickle'\n",
        "with open(fic_sav_df_dashboard_1, 'rb') as df_dashboard_1:\n",
        "    df_dashboard = pickle.load(df_dashboard_1)\n",
        "df_dashboard.shape"
      ],
      "metadata": {
        "colab": {
          "base_uri": "https://localhost:8080/"
        },
        "id": "LpaSkuwTcDxi",
        "outputId": "64800eed-b896-4629-e777-71d685c0d33e"
      },
      "execution_count": 40,
      "outputs": [
        {
          "output_type": "execute_result",
          "data": {
            "text/plain": [
              "(48744, 900)"
            ]
          },
          "metadata": {},
          "execution_count": 40
        }
      ]
    },
    {
      "cell_type": "code",
      "source": [
        ""
      ],
      "metadata": {
        "id": "eHVZpMOqcD1T"
      },
      "execution_count": null,
      "outputs": []
    },
    {
      "cell_type": "markdown",
      "source": [
        "4. **Préparation des données informatives**\n",
        "4.1. Informations sur le client\n",
        "Les données informatives sur le client à rendre disponible et lisible pour le chargé de clientèle :"
      ],
      "metadata": {
        "id": "QFMFtHM3cUWq"
      }
    },
    {
      "cell_type": "code",
      "source": [
        "df_infos =application_test[['SK_ID_CURR',\n",
        "                           'AMT_INCOME_TOTAL', 'NAME_FAMILY_STATUS',\n",
        "                            'AMT_GOODS_PRICE', 'CNT_CHILDREN',\n",
        "                            'NAME_CONTRACT_TYPE', 'NAME_EDUCATION_TYPE',\n",
        "                            'NAME_HOUSING_TYPE', 'NAME_INCOME_TYPE']]\n",
        "df_infos.head(3)"
      ],
      "metadata": {
        "colab": {
          "base_uri": "https://localhost:8080/",
          "height": 143
        },
        "id": "VYI5USpdcD4b",
        "outputId": "4b49fa87-4804-42c6-fb12-6cd667f9097c"
      },
      "execution_count": 67,
      "outputs": [
        {
          "output_type": "execute_result",
          "data": {
            "text/plain": [
              "   SK_ID_CURR  AMT_INCOME_TOTAL NAME_FAMILY_STATUS  AMT_GOODS_PRICE  \\\n",
              "0      100001          135000.0            Married         450000.0   \n",
              "1      100005           99000.0            Married         180000.0   \n",
              "2      100013          202500.0            Married         630000.0   \n",
              "\n",
              "   CNT_CHILDREN NAME_CONTRACT_TYPE            NAME_EDUCATION_TYPE  \\\n",
              "0             0         Cash loans               Higher education   \n",
              "1             0         Cash loans  Secondary / secondary special   \n",
              "2             0         Cash loans               Higher education   \n",
              "\n",
              "   NAME_HOUSING_TYPE NAME_INCOME_TYPE  \n",
              "0  House / apartment          Working  \n",
              "1  House / apartment          Working  \n",
              "2  House / apartment          Working  "
            ],
            "text/html": [
              "\n",
              "  <div id=\"df-737eb71e-5cd0-440e-b9a1-601ed631ff90\">\n",
              "    <div class=\"colab-df-container\">\n",
              "      <div>\n",
              "<style scoped>\n",
              "    .dataframe tbody tr th:only-of-type {\n",
              "        vertical-align: middle;\n",
              "    }\n",
              "\n",
              "    .dataframe tbody tr th {\n",
              "        vertical-align: top;\n",
              "    }\n",
              "\n",
              "    .dataframe thead th {\n",
              "        text-align: right;\n",
              "    }\n",
              "</style>\n",
              "<table border=\"1\" class=\"dataframe\">\n",
              "  <thead>\n",
              "    <tr style=\"text-align: right;\">\n",
              "      <th></th>\n",
              "      <th>SK_ID_CURR</th>\n",
              "      <th>AMT_INCOME_TOTAL</th>\n",
              "      <th>NAME_FAMILY_STATUS</th>\n",
              "      <th>AMT_GOODS_PRICE</th>\n",
              "      <th>CNT_CHILDREN</th>\n",
              "      <th>NAME_CONTRACT_TYPE</th>\n",
              "      <th>NAME_EDUCATION_TYPE</th>\n",
              "      <th>NAME_HOUSING_TYPE</th>\n",
              "      <th>NAME_INCOME_TYPE</th>\n",
              "    </tr>\n",
              "  </thead>\n",
              "  <tbody>\n",
              "    <tr>\n",
              "      <th>0</th>\n",
              "      <td>100001</td>\n",
              "      <td>135000.0</td>\n",
              "      <td>Married</td>\n",
              "      <td>450000.0</td>\n",
              "      <td>0</td>\n",
              "      <td>Cash loans</td>\n",
              "      <td>Higher education</td>\n",
              "      <td>House / apartment</td>\n",
              "      <td>Working</td>\n",
              "    </tr>\n",
              "    <tr>\n",
              "      <th>1</th>\n",
              "      <td>100005</td>\n",
              "      <td>99000.0</td>\n",
              "      <td>Married</td>\n",
              "      <td>180000.0</td>\n",
              "      <td>0</td>\n",
              "      <td>Cash loans</td>\n",
              "      <td>Secondary / secondary special</td>\n",
              "      <td>House / apartment</td>\n",
              "      <td>Working</td>\n",
              "    </tr>\n",
              "    <tr>\n",
              "      <th>2</th>\n",
              "      <td>100013</td>\n",
              "      <td>202500.0</td>\n",
              "      <td>Married</td>\n",
              "      <td>630000.0</td>\n",
              "      <td>0</td>\n",
              "      <td>Cash loans</td>\n",
              "      <td>Higher education</td>\n",
              "      <td>House / apartment</td>\n",
              "      <td>Working</td>\n",
              "    </tr>\n",
              "  </tbody>\n",
              "</table>\n",
              "</div>\n",
              "      <button class=\"colab-df-convert\" onclick=\"convertToInteractive('df-737eb71e-5cd0-440e-b9a1-601ed631ff90')\"\n",
              "              title=\"Convert this dataframe to an interactive table.\"\n",
              "              style=\"display:none;\">\n",
              "        \n",
              "  <svg xmlns=\"http://www.w3.org/2000/svg\" height=\"24px\"viewBox=\"0 0 24 24\"\n",
              "       width=\"24px\">\n",
              "    <path d=\"M0 0h24v24H0V0z\" fill=\"none\"/>\n",
              "    <path d=\"M18.56 5.44l.94 2.06.94-2.06 2.06-.94-2.06-.94-.94-2.06-.94 2.06-2.06.94zm-11 1L8.5 8.5l.94-2.06 2.06-.94-2.06-.94L8.5 2.5l-.94 2.06-2.06.94zm10 10l.94 2.06.94-2.06 2.06-.94-2.06-.94-.94-2.06-.94 2.06-2.06.94z\"/><path d=\"M17.41 7.96l-1.37-1.37c-.4-.4-.92-.59-1.43-.59-.52 0-1.04.2-1.43.59L10.3 9.45l-7.72 7.72c-.78.78-.78 2.05 0 2.83L4 21.41c.39.39.9.59 1.41.59.51 0 1.02-.2 1.41-.59l7.78-7.78 2.81-2.81c.8-.78.8-2.07 0-2.86zM5.41 20L4 18.59l7.72-7.72 1.47 1.35L5.41 20z\"/>\n",
              "  </svg>\n",
              "      </button>\n",
              "      \n",
              "  <style>\n",
              "    .colab-df-container {\n",
              "      display:flex;\n",
              "      flex-wrap:wrap;\n",
              "      gap: 12px;\n",
              "    }\n",
              "\n",
              "    .colab-df-convert {\n",
              "      background-color: #E8F0FE;\n",
              "      border: none;\n",
              "      border-radius: 50%;\n",
              "      cursor: pointer;\n",
              "      display: none;\n",
              "      fill: #1967D2;\n",
              "      height: 32px;\n",
              "      padding: 0 0 0 0;\n",
              "      width: 32px;\n",
              "    }\n",
              "\n",
              "    .colab-df-convert:hover {\n",
              "      background-color: #E2EBFA;\n",
              "      box-shadow: 0px 1px 2px rgba(60, 64, 67, 0.3), 0px 1px 3px 1px rgba(60, 64, 67, 0.15);\n",
              "      fill: #174EA6;\n",
              "    }\n",
              "\n",
              "    [theme=dark] .colab-df-convert {\n",
              "      background-color: #3B4455;\n",
              "      fill: #D2E3FC;\n",
              "    }\n",
              "\n",
              "    [theme=dark] .colab-df-convert:hover {\n",
              "      background-color: #434B5C;\n",
              "      box-shadow: 0px 1px 3px 1px rgba(0, 0, 0, 0.15);\n",
              "      filter: drop-shadow(0px 1px 2px rgba(0, 0, 0, 0.3));\n",
              "      fill: #FFFFFF;\n",
              "    }\n",
              "  </style>\n",
              "\n",
              "      <script>\n",
              "        const buttonEl =\n",
              "          document.querySelector('#df-737eb71e-5cd0-440e-b9a1-601ed631ff90 button.colab-df-convert');\n",
              "        buttonEl.style.display =\n",
              "          google.colab.kernel.accessAllowed ? 'block' : 'none';\n",
              "\n",
              "        async function convertToInteractive(key) {\n",
              "          const element = document.querySelector('#df-737eb71e-5cd0-440e-b9a1-601ed631ff90');\n",
              "          const dataTable =\n",
              "            await google.colab.kernel.invokeFunction('convertToInteractive',\n",
              "                                                     [key], {});\n",
              "          if (!dataTable) return;\n",
              "\n",
              "          const docLinkHtml = 'Like what you see? Visit the ' +\n",
              "            '<a target=\"_blank\" href=https://colab.research.google.com/notebooks/data_table.ipynb>data table notebook</a>'\n",
              "            + ' to learn more about interactive tables.';\n",
              "          element.innerHTML = '';\n",
              "          dataTable['output_type'] = 'display_data';\n",
              "          await google.colab.output.renderOutput(dataTable, element);\n",
              "          const docLink = document.createElement('div');\n",
              "          docLink.innerHTML = docLinkHtml;\n",
              "          element.appendChild(docLink);\n",
              "        }\n",
              "      </script>\n",
              "    </div>\n",
              "  </div>\n",
              "  "
            ]
          },
          "metadata": {},
          "execution_count": 67
        }
      ]
    },
    {
      "cell_type": "code",
      "source": [
        "df_infos.shape"
      ],
      "metadata": {
        "colab": {
          "base_uri": "https://localhost:8080/"
        },
        "id": "8r9LhEc_duQS",
        "outputId": "67aee5a8-c232-43a6-863a-56dca7f7fc6b"
      },
      "execution_count": 35,
      "outputs": [
        {
          "output_type": "execute_result",
          "data": {
            "text/plain": [
              "(48744, 9)"
            ]
          },
          "metadata": {},
          "execution_count": 35
        }
      ]
    },
    {
      "cell_type": "code",
      "source": [
        "# Ajout des varaibles manquantes au dataframe du dashboard\n",
        "df_dashboardcc = df_dashboard.merge(df_infos, on='SK_ID_CURR', how='right')\n",
        "df_dashboardcc.head(3)"
      ],
      "metadata": {
        "colab": {
          "base_uri": "https://localhost:8080/",
          "height": 254
        },
        "id": "YiVG0PgAcD7O",
        "outputId": "9e4e8915-c245-4f50-91a8-a635083ca8e6"
      },
      "execution_count": 68,
      "outputs": [
        {
          "output_type": "execute_result",
          "data": {
            "text/plain": [
              "   SK_ID_CURR  PRED_CLASSE_CLIENT  SCORE_CLIENT  SCORE_CLIENT_%  CODE_GENDER  \\\n",
              "0      100001                   0      0.327993            32.8            0   \n",
              "1      100005                   0      0.356018            35.6            1   \n",
              "2      100013                   0      0.098026             9.8            1   \n",
              "\n",
              "   FLAG_OWN_CAR  FLAG_OWN_REALTY  CNT_CHILDREN_x  AMT_INCOME_TOTAL_x  \\\n",
              "0             0                0               0            135000.0   \n",
              "1             0                0               0             99000.0   \n",
              "2             1                0               0            202500.0   \n",
              "\n",
              "   AMT_CREDIT  ...  CC_NEW_INSTALLMENTS_PER_LOAN_VAR  CC_COUNT  \\\n",
              "0    568800.0  ...                               0.0      30.0   \n",
              "1    222768.0  ...                               0.0       7.0   \n",
              "2    663264.0  ...                               0.0      83.0   \n",
              "\n",
              "   AMT_INCOME_TOTAL_y  NAME_FAMILY_STATUS  AMT_GOODS_PRICE  CNT_CHILDREN_y  \\\n",
              "0            135000.0             Married         450000.0               0   \n",
              "1             99000.0             Married         180000.0               0   \n",
              "2            202500.0             Married         630000.0               0   \n",
              "\n",
              "   NAME_CONTRACT_TYPE            NAME_EDUCATION_TYPE  NAME_HOUSING_TYPE  \\\n",
              "0          Cash loans               Higher education  House / apartment   \n",
              "1          Cash loans  Secondary / secondary special  House / apartment   \n",
              "2          Cash loans               Higher education  House / apartment   \n",
              "\n",
              "   NAME_INCOME_TYPE  \n",
              "0           Working  \n",
              "1           Working  \n",
              "2           Working  \n",
              "\n",
              "[3 rows x 907 columns]"
            ],
            "text/html": [
              "\n",
              "  <div id=\"df-6fc19c69-789e-40eb-a1ae-1d32e6c93722\">\n",
              "    <div class=\"colab-df-container\">\n",
              "      <div>\n",
              "<style scoped>\n",
              "    .dataframe tbody tr th:only-of-type {\n",
              "        vertical-align: middle;\n",
              "    }\n",
              "\n",
              "    .dataframe tbody tr th {\n",
              "        vertical-align: top;\n",
              "    }\n",
              "\n",
              "    .dataframe thead th {\n",
              "        text-align: right;\n",
              "    }\n",
              "</style>\n",
              "<table border=\"1\" class=\"dataframe\">\n",
              "  <thead>\n",
              "    <tr style=\"text-align: right;\">\n",
              "      <th></th>\n",
              "      <th>SK_ID_CURR</th>\n",
              "      <th>PRED_CLASSE_CLIENT</th>\n",
              "      <th>SCORE_CLIENT</th>\n",
              "      <th>SCORE_CLIENT_%</th>\n",
              "      <th>CODE_GENDER</th>\n",
              "      <th>FLAG_OWN_CAR</th>\n",
              "      <th>FLAG_OWN_REALTY</th>\n",
              "      <th>CNT_CHILDREN_x</th>\n",
              "      <th>AMT_INCOME_TOTAL_x</th>\n",
              "      <th>AMT_CREDIT</th>\n",
              "      <th>...</th>\n",
              "      <th>CC_NEW_INSTALLMENTS_PER_LOAN_VAR</th>\n",
              "      <th>CC_COUNT</th>\n",
              "      <th>AMT_INCOME_TOTAL_y</th>\n",
              "      <th>NAME_FAMILY_STATUS</th>\n",
              "      <th>AMT_GOODS_PRICE</th>\n",
              "      <th>CNT_CHILDREN_y</th>\n",
              "      <th>NAME_CONTRACT_TYPE</th>\n",
              "      <th>NAME_EDUCATION_TYPE</th>\n",
              "      <th>NAME_HOUSING_TYPE</th>\n",
              "      <th>NAME_INCOME_TYPE</th>\n",
              "    </tr>\n",
              "  </thead>\n",
              "  <tbody>\n",
              "    <tr>\n",
              "      <th>0</th>\n",
              "      <td>100001</td>\n",
              "      <td>0</td>\n",
              "      <td>0.327993</td>\n",
              "      <td>32.8</td>\n",
              "      <td>0</td>\n",
              "      <td>0</td>\n",
              "      <td>0</td>\n",
              "      <td>0</td>\n",
              "      <td>135000.0</td>\n",
              "      <td>568800.0</td>\n",
              "      <td>...</td>\n",
              "      <td>0.0</td>\n",
              "      <td>30.0</td>\n",
              "      <td>135000.0</td>\n",
              "      <td>Married</td>\n",
              "      <td>450000.0</td>\n",
              "      <td>0</td>\n",
              "      <td>Cash loans</td>\n",
              "      <td>Higher education</td>\n",
              "      <td>House / apartment</td>\n",
              "      <td>Working</td>\n",
              "    </tr>\n",
              "    <tr>\n",
              "      <th>1</th>\n",
              "      <td>100005</td>\n",
              "      <td>0</td>\n",
              "      <td>0.356018</td>\n",
              "      <td>35.6</td>\n",
              "      <td>1</td>\n",
              "      <td>0</td>\n",
              "      <td>0</td>\n",
              "      <td>0</td>\n",
              "      <td>99000.0</td>\n",
              "      <td>222768.0</td>\n",
              "      <td>...</td>\n",
              "      <td>0.0</td>\n",
              "      <td>7.0</td>\n",
              "      <td>99000.0</td>\n",
              "      <td>Married</td>\n",
              "      <td>180000.0</td>\n",
              "      <td>0</td>\n",
              "      <td>Cash loans</td>\n",
              "      <td>Secondary / secondary special</td>\n",
              "      <td>House / apartment</td>\n",
              "      <td>Working</td>\n",
              "    </tr>\n",
              "    <tr>\n",
              "      <th>2</th>\n",
              "      <td>100013</td>\n",
              "      <td>0</td>\n",
              "      <td>0.098026</td>\n",
              "      <td>9.8</td>\n",
              "      <td>1</td>\n",
              "      <td>1</td>\n",
              "      <td>0</td>\n",
              "      <td>0</td>\n",
              "      <td>202500.0</td>\n",
              "      <td>663264.0</td>\n",
              "      <td>...</td>\n",
              "      <td>0.0</td>\n",
              "      <td>83.0</td>\n",
              "      <td>202500.0</td>\n",
              "      <td>Married</td>\n",
              "      <td>630000.0</td>\n",
              "      <td>0</td>\n",
              "      <td>Cash loans</td>\n",
              "      <td>Higher education</td>\n",
              "      <td>House / apartment</td>\n",
              "      <td>Working</td>\n",
              "    </tr>\n",
              "  </tbody>\n",
              "</table>\n",
              "<p>3 rows × 907 columns</p>\n",
              "</div>\n",
              "      <button class=\"colab-df-convert\" onclick=\"convertToInteractive('df-6fc19c69-789e-40eb-a1ae-1d32e6c93722')\"\n",
              "              title=\"Convert this dataframe to an interactive table.\"\n",
              "              style=\"display:none;\">\n",
              "        \n",
              "  <svg xmlns=\"http://www.w3.org/2000/svg\" height=\"24px\"viewBox=\"0 0 24 24\"\n",
              "       width=\"24px\">\n",
              "    <path d=\"M0 0h24v24H0V0z\" fill=\"none\"/>\n",
              "    <path d=\"M18.56 5.44l.94 2.06.94-2.06 2.06-.94-2.06-.94-.94-2.06-.94 2.06-2.06.94zm-11 1L8.5 8.5l.94-2.06 2.06-.94-2.06-.94L8.5 2.5l-.94 2.06-2.06.94zm10 10l.94 2.06.94-2.06 2.06-.94-2.06-.94-.94-2.06-.94 2.06-2.06.94z\"/><path d=\"M17.41 7.96l-1.37-1.37c-.4-.4-.92-.59-1.43-.59-.52 0-1.04.2-1.43.59L10.3 9.45l-7.72 7.72c-.78.78-.78 2.05 0 2.83L4 21.41c.39.39.9.59 1.41.59.51 0 1.02-.2 1.41-.59l7.78-7.78 2.81-2.81c.8-.78.8-2.07 0-2.86zM5.41 20L4 18.59l7.72-7.72 1.47 1.35L5.41 20z\"/>\n",
              "  </svg>\n",
              "      </button>\n",
              "      \n",
              "  <style>\n",
              "    .colab-df-container {\n",
              "      display:flex;\n",
              "      flex-wrap:wrap;\n",
              "      gap: 12px;\n",
              "    }\n",
              "\n",
              "    .colab-df-convert {\n",
              "      background-color: #E8F0FE;\n",
              "      border: none;\n",
              "      border-radius: 50%;\n",
              "      cursor: pointer;\n",
              "      display: none;\n",
              "      fill: #1967D2;\n",
              "      height: 32px;\n",
              "      padding: 0 0 0 0;\n",
              "      width: 32px;\n",
              "    }\n",
              "\n",
              "    .colab-df-convert:hover {\n",
              "      background-color: #E2EBFA;\n",
              "      box-shadow: 0px 1px 2px rgba(60, 64, 67, 0.3), 0px 1px 3px 1px rgba(60, 64, 67, 0.15);\n",
              "      fill: #174EA6;\n",
              "    }\n",
              "\n",
              "    [theme=dark] .colab-df-convert {\n",
              "      background-color: #3B4455;\n",
              "      fill: #D2E3FC;\n",
              "    }\n",
              "\n",
              "    [theme=dark] .colab-df-convert:hover {\n",
              "      background-color: #434B5C;\n",
              "      box-shadow: 0px 1px 3px 1px rgba(0, 0, 0, 0.15);\n",
              "      filter: drop-shadow(0px 1px 2px rgba(0, 0, 0, 0.3));\n",
              "      fill: #FFFFFF;\n",
              "    }\n",
              "  </style>\n",
              "\n",
              "      <script>\n",
              "        const buttonEl =\n",
              "          document.querySelector('#df-6fc19c69-789e-40eb-a1ae-1d32e6c93722 button.colab-df-convert');\n",
              "        buttonEl.style.display =\n",
              "          google.colab.kernel.accessAllowed ? 'block' : 'none';\n",
              "\n",
              "        async function convertToInteractive(key) {\n",
              "          const element = document.querySelector('#df-6fc19c69-789e-40eb-a1ae-1d32e6c93722');\n",
              "          const dataTable =\n",
              "            await google.colab.kernel.invokeFunction('convertToInteractive',\n",
              "                                                     [key], {});\n",
              "          if (!dataTable) return;\n",
              "\n",
              "          const docLinkHtml = 'Like what you see? Visit the ' +\n",
              "            '<a target=\"_blank\" href=https://colab.research.google.com/notebooks/data_table.ipynb>data table notebook</a>'\n",
              "            + ' to learn more about interactive tables.';\n",
              "          element.innerHTML = '';\n",
              "          dataTable['output_type'] = 'display_data';\n",
              "          await google.colab.output.renderOutput(dataTable, element);\n",
              "          const docLink = document.createElement('div');\n",
              "          docLink.innerHTML = docLinkHtml;\n",
              "          element.appendChild(docLink);\n",
              "        }\n",
              "      </script>\n",
              "    </div>\n",
              "  </div>\n",
              "  "
            ]
          },
          "metadata": {},
          "execution_count": 68
        }
      ]
    },
    {
      "cell_type": "code",
      "source": [
        ""
      ],
      "metadata": {
        "id": "iFqiH8tH6BOj"
      },
      "execution_count": null,
      "outputs": []
    },
    {
      "cell_type": "code",
      "source": [
        "from dataclasses import replace\n",
        "df_dashboardcc['NEW_AGE']= np.trunc(np.abs(df_dashboardcc['NEW_AGE'])).astype('int8')\n",
        "df_dashboard.rename(columns={'NEW_AGE': 'YEAR_BIRTH'}, inplace=True)"
      ],
      "metadata": {
        "id": "S3MP9ono4rd8"
      },
      "execution_count": 69,
      "outputs": []
    },
    {
      "cell_type": "code",
      "source": [
        "df_dashboard['DAYS_EMPLOYED'].isnull().sum()"
      ],
      "metadata": {
        "colab": {
          "base_uri": "https://localhost:8080/"
        },
        "id": "WmBvY9L243rY",
        "outputId": "a75eff05-541b-47ea-c5ed-fe9b0d4ec648"
      },
      "execution_count": 75,
      "outputs": [
        {
          "output_type": "execute_result",
          "data": {
            "text/plain": [
              "0"
            ]
          },
          "metadata": {},
          "execution_count": 75
        }
      ]
    },
    {
      "cell_type": "code",
      "source": [
        "df_dashboard.shape"
      ],
      "metadata": {
        "colab": {
          "base_uri": "https://localhost:8080/"
        },
        "id": "EL3FF7L1TbQB",
        "outputId": "3fbdc612-ce05-45f4-a61d-d50746461879"
      },
      "execution_count": 71,
      "outputs": [
        {
          "output_type": "execute_result",
          "data": {
            "text/plain": [
              "(48744, 899)"
            ]
          },
          "metadata": {},
          "execution_count": 71
        }
      ]
    },
    {
      "cell_type": "code",
      "source": [
        "df_dashboard[df_dashboard==np.inf]=np.nan"
      ],
      "metadata": {
        "id": "a8grUL1YT7Ej"
      },
      "execution_count": 74,
      "outputs": []
    },
    {
      "cell_type": "code",
      "source": [
        "# Transformer DAYS_EMPLOYED en années positives\n",
        "df_dashboard['YEAR_EMPLOYED'] = \\\n",
        "    np.trunc(np.abs(df_dashboard['DAYS_EMPLOYED'] / 365)).astype('int8')"
      ],
      "metadata": {
        "id": "jHiCZb4hTHKE"
      },
      "execution_count": 76,
      "outputs": []
    },
    {
      "cell_type": "code",
      "source": [
        "# Transformer sexe : 0 = Féminin et 1 = Masculin\n",
        "df_dashboard['SEXE'] = ['Féminin' if row == 0 else 'Masculin'\n",
        "                        for row in df_dashboard['CODE_GENDER']] "
      ],
      "metadata": {
        "id": "2klfZpw9ddYy"
      },
      "execution_count": 85,
      "outputs": []
    },
    {
      "cell_type": "code",
      "source": [
        "# Sauvegarde de df_dashboard_2\n",
        "fic_sav_df_dashboard ='/content/drive/MyDrive/p7/dashboard/df_dashboard_2.pickle'\n",
        "with open(fic_sav_df_dashboard, 'wb') as f:\n",
        "    pickle.dump(df_dashboard, f, pickle.HIGHEST_PROTOCOL)"
      ],
      "metadata": {
        "id": "LPHHv4R0ddVx"
      },
      "execution_count": 64,
      "outputs": []
    },
    {
      "cell_type": "code",
      "source": [
        "# Chargement du dataframe df_dashboard_2\n",
        "fic_sav_df_dashboard_2 ='/content/drive/MyDrive/p7/dashboard/df_dashboard_2.pickle'\n",
        "with open(fic_sav_df_dashboard_2, 'rb') as df_dashboard_2:\n",
        "    df_dashboard = pickle.load(df_dashboard_2)\n",
        "df_dashboard.shape"
      ],
      "metadata": {
        "colab": {
          "base_uri": "https://localhost:8080/"
        },
        "id": "hs3mFfmuUaq7",
        "outputId": "3e2e26bc-8ad4-4f2a-e474-6a0ed76bf058"
      },
      "execution_count": 65,
      "outputs": [
        {
          "output_type": "execute_result",
          "data": {
            "text/plain": [
              "(48744, 900)"
            ]
          },
          "metadata": {},
          "execution_count": 65
        }
      ]
    },
    {
      "cell_type": "markdown",
      "source": [
        "**4.2. Variables ayant le plus d'importance sur le modèle**"
      ],
      "metadata": {
        "id": "4UcPgyHIUu-z"
      }
    },
    {
      "cell_type": "markdown",
      "source": [
        "Les variables ayant le plus d'importance sur le modèle constituent les variables à comparer pour situer notre client par rapport à la moyenne des valeurs de ces variables pour tous les clients et comparer ces valeurs avec celles des 10 plus proches voisins qui ont des valeurs similaires à notre client.\n",
        "Le but est de tracer un lineplot pour chacune de ces variables déterminantes pour comparer les valeurs du client, les valeurs moyennes sur l'ensemble des clients et les valeurs des 10 plus proches voisins séparés en 2 groupes : défaillant et non-défaillant.\n",
        "**Variables à comparer ?**\n",
        "\n",
        "**Features importances**\n",
        "\n",
        "D'après le notebook sur la modélisation, les 10 variables issus de l'analyse des features importances ayant le plus d'impact sur le meilleur modèle sont :\n",
        "\n",
        "[X] CREDIT_ANNUITY RATIO\n",
        "\n",
        "[x] EXT_SOURCE_SUM\n",
        "\n",
        "[X] INST_PAY_DAYS_PAYMENT_RATIO_MAX\n",
        "\n",
        "[X] PREV_APP_INTEREST_SHARE_MAX\n",
        "\n",
        "[X] EXT_SOURCE_1\n",
        "\n",
        "[X] CREDIT_GOODS_RATIO\n",
        "\n",
        "[X] CODE GENDER\n",
        "\n",
        "[X] INST_PAY_AMT_INSTALMENT_SUM\n",
        "\n",
        "[X] EXT_SOURCE_2\n",
        "\n",
        "[X] DAYS_BIRTH\n",
        "\n",
        "[X] AMT_ANNUITY\n",
        "\n",
        "[X] BUREAU_CURRENT_CREDIT_DEBT_DIFF_MIN\n",
        "\n",
        "**Shapley values globales**"
      ],
      "metadata": {
        "id": "mbkbS6NpUvCZ"
      }
    },
    {
      "cell_type": "code",
      "source": [
        "feature_importances = pickle.load( open('drive/MyDrive/p7/feature_importances.sav', 'rb'))\n",
        "fi= feature_importances.head(20)\n",
        "fi.feature"
      ],
      "metadata": {
        "colab": {
          "base_uri": "https://localhost:8080/"
        },
        "id": "iC0hwQhAVeGt",
        "outputId": "68940e3c-2201-4df8-ce03-8dbbf01c5f65"
      },
      "execution_count": 27,
      "outputs": [
        {
          "output_type": "execute_result",
          "data": {
            "text/plain": [
              "94                 NEW_ANNUITY_CREDIT_RATIO\n",
              "29                             EXT_SOURCE_3\n",
              "95                             NEW_EXT_MEAN\n",
              "28                             EXT_SOURCE_2\n",
              "27                             EXT_SOURCE_1\n",
              "12                              OWN_CAR_AGE\n",
              "6                               AMT_ANNUITY\n",
              "9                             DAYS_EMPLOYED\n",
              "8                                DAYS_BIRTH\n",
              "90                   NEW_DAYS_EMPLOYED_PERC\n",
              "5                                AMT_CREDIT\n",
              "96                             NEW_EXT_PROD\n",
              "97                                  NEW_AGE\n",
              "11                          DAYS_ID_PUBLISH\n",
              "0                               CODE_GENDER\n",
              "10                        DAYS_REGISTRATION\n",
              "59                   DAYS_LAST_PHONE_CHANGE\n",
              "117    NAME_EDUCATION_TYPE_Higher education\n",
              "100           NAME_CONTRACT_TYPE_Cash loans\n",
              "93                  NEW_ANNUITY_INCOME_PERC\n",
              "Name: feature, dtype: object"
            ]
          },
          "metadata": {},
          "execution_count": 27
        }
      ]
    },
    {
      "cell_type": "code",
      "source": [
        "pd.set_option('display.max_rows', None)\n",
        " \n",
        "# storing the dataset as data frame\n",
        "dataframe = pd.DataFrame(fi.feature, columns = fi.feature)\n",
        " \n",
        "# printing data frame\n",
        "print(dataframe)"
      ],
      "metadata": {
        "colab": {
          "base_uri": "https://localhost:8080/"
        },
        "id": "hV9Zw9cL7FH1",
        "outputId": "e97dd1dd-1d24-48a2-aa51-6f3bf98a2ee1"
      },
      "execution_count": 32,
      "outputs": [
        {
          "output_type": "stream",
          "name": "stdout",
          "text": [
            "Empty DataFrame\n",
            "Columns: [NEW_ANNUITY_CREDIT_RATIO, EXT_SOURCE_3, NEW_EXT_MEAN, EXT_SOURCE_2, EXT_SOURCE_1, OWN_CAR_AGE, AMT_ANNUITY, DAYS_EMPLOYED, DAYS_BIRTH, NEW_DAYS_EMPLOYED_PERC, AMT_CREDIT, NEW_EXT_PROD, NEW_AGE, DAYS_ID_PUBLISH, CODE_GENDER, DAYS_REGISTRATION, DAYS_LAST_PHONE_CHANGE, NAME_EDUCATION_TYPE_Higher education, NAME_CONTRACT_TYPE_Cash loans, NEW_ANNUITY_INCOME_PERC]\n",
            "Index: []\n"
          ]
        }
      ]
    },
    {
      "cell_type": "code",
      "source": [
        ""
      ],
      "metadata": {
        "id": "oFDo9g0p7FLa"
      },
      "execution_count": null,
      "outputs": []
    },
    {
      "cell_type": "code",
      "source": [
        "# Liste des variables les plus déterminantes\n",
        "feat_imp = ['NEW_ANNUITY_CREDIT_RATIO', \n",
        "            'EXT_SOURCE_3', \n",
        "            'NEW_EXT_MEAN', \n",
        "            'EXT_SOURCE_2', \n",
        "            'EXT_SOURCE_1', \n",
        "            'OWN_CAR_AGE', \n",
        "            'AMT_ANNUITY', \n",
        "            'DAYS_EMPLOYED', \n",
        "            'DAYS_BIRTH', \n",
        "            'NEW_DAYS_EMPLOYED_PERC', \n",
        "            'AMT_CREDIT', \n",
        "            'NEW_EXT_PROD', \n",
        "            'NEW_AGE', \n",
        "            'DAYS_ID_PUBLISH', \n",
        "            'CODE_GENDER', \n",
        "            'DAYS_REGISTRATION', \n",
        "            'DAYS_LAST_PHONE_CHANGE',\n",
        "            'NAME_EDUCATION_TYPE_Higher education', \n",
        "            'NAME_CONTRACT_TYPE_Cash loans', \n",
        "            'NEW_ANNUITY_INCOME_PERC']\n"
      ],
      "metadata": {
        "id": "S1KYXAQ-ddck"
      },
      "execution_count": 33,
      "outputs": []
    },
    {
      "cell_type": "code",
      "source": [
        "# Matrice X - variables les plus déterminantes\n",
        "X = train_set[feat_imp]"
      ],
      "metadata": {
        "id": "Lri785IfddgK"
      },
      "execution_count": 84,
      "outputs": []
    },
    {
      "cell_type": "code",
      "source": [
        "# Standardisation KNN utilise les distances - train set\n",
        "scaler_std = StandardScaler()\n",
        "X_std = scaler_std.fit_transform(X)\n",
        "X_std = pd.DataFrame(X_std, index=X.index, columns=X.columns.to_list())\n",
        "X_std.shape"
      ],
      "metadata": {
        "id": "B72JwoKpddi8",
        "colab": {
          "base_uri": "https://localhost:8080/"
        },
        "outputId": "00d4115b-0cc0-4963-dc9d-9ab7220c6556"
      },
      "execution_count": 85,
      "outputs": [
        {
          "output_type": "execute_result",
          "data": {
            "text/plain": [
              "(307507, 20)"
            ]
          },
          "metadata": {},
          "execution_count": 85
        }
      ]
    },
    {
      "cell_type": "code",
      "source": [
        "# Vecteur y\n",
        "# y = df_dashboard['SCORE_CLIENT'].astype('int64')\n",
        "y = train_set['TARGET']\n",
        "y.shape"
      ],
      "metadata": {
        "id": "9dgU02tVddl5",
        "colab": {
          "base_uri": "https://localhost:8080/"
        },
        "outputId": "9a7e73dd-1f82-447a-edc8-fc1073ca142c"
      },
      "execution_count": 86,
      "outputs": [
        {
          "output_type": "execute_result",
          "data": {
            "text/plain": [
              "(307507,)"
            ]
          },
          "metadata": {},
          "execution_count": 86
        }
      ]
    },
    {
      "cell_type": "code",
      "source": [
        "# Matrice X_test - variables les plus déterminantes\n",
        "X_test = test_set[feat_imp]"
      ],
      "metadata": {
        "id": "xdNKuIIPddo9"
      },
      "execution_count": 87,
      "outputs": []
    },
    {
      "cell_type": "code",
      "source": [
        "# Standardisation KNN utilise les distances - test set\n",
        "scaler_std = StandardScaler()\n",
        "X_test_std = scaler_std.fit_transform(X_test)\n",
        "X_test_std = pd.DataFrame(X_test_std, index=X_test.index,\n",
        "                          columns=X_test.columns.to_list())\n",
        "X_test_std.shape"
      ],
      "metadata": {
        "id": "LD3kdKOrddr0",
        "colab": {
          "base_uri": "https://localhost:8080/"
        },
        "outputId": "cf297816-d8ea-45b6-b62d-88fd818b9406"
      },
      "execution_count": 88,
      "outputs": [
        {
          "output_type": "execute_result",
          "data": {
            "text/plain": [
              "(48744, 20)"
            ]
          },
          "metadata": {},
          "execution_count": 88
        }
      ]
    },
    {
      "cell_type": "code",
      "source": [
        "# Vecteur y\n",
        "y_test = df_dashboard['SCORE_CLIENT'].astype('int64')\n",
        "y_test.shape"
      ],
      "metadata": {
        "id": "Wmjiy3m0dduh",
        "colab": {
          "base_uri": "https://localhost:8080/"
        },
        "outputId": "c7372880-b790-4467-efe8-d4db078895c1"
      },
      "execution_count": 89,
      "outputs": [
        {
          "output_type": "execute_result",
          "data": {
            "text/plain": [
              "(48744,)"
            ]
          },
          "metadata": {},
          "execution_count": 89
        }
      ]
    },
    {
      "cell_type": "markdown",
      "source": [
        "4.2.2. 10 voisins les plus proches du train set\n",
        "\n",
        "**10 voisins les plus proches du train set**"
      ],
      "metadata": {
        "id": "eUo00cEZ8qFT"
      }
    },
    {
      "cell_type": "code",
      "source": [
        "# Instanciation du modèle\n",
        "knn = KNeighborsClassifier(10, n_jobs = -1)"
      ],
      "metadata": {
        "id": "lAR5WL86ddxh"
      },
      "execution_count": 90,
      "outputs": []
    },
    {
      "cell_type": "code",
      "source": [
        "# Entraînement du modèle\n",
        "knn.fit(X_std, y)"
      ],
      "metadata": {
        "colab": {
          "base_uri": "https://localhost:8080/"
        },
        "id": "SwT175si8sra",
        "outputId": "e9be63e3-cda9-4ee2-91ae-555d70d8559f"
      },
      "execution_count": 91,
      "outputs": [
        {
          "output_type": "execute_result",
          "data": {
            "text/plain": [
              "KNeighborsClassifier(n_jobs=-1, n_neighbors=10)"
            ]
          },
          "metadata": {},
          "execution_count": 91
        }
      ]
    },
    {
      "cell_type": "code",
      "source": [
        "# Sauvegarde du modèle entraîné\n",
        "fic_knn ='/content/drive/MyDrive/p7/dashboard/knn_10_voisins_train.pickle'\n",
        "with open(fic_knn, 'wb') as f:\n",
        "    pickle.dump(knn, f, pickle.HIGHEST_PROTOCOL)"
      ],
      "metadata": {
        "id": "ub5LL57J8st8"
      },
      "execution_count": 92,
      "outputs": []
    },
    {
      "cell_type": "code",
      "source": [
        "# Récupération des index des 10 voisins similaires\n",
        "liste_index_10_voisins = knn.kneighbors(X_test_std)[1]"
      ],
      "metadata": {
        "id": "WP8y2oHy8swe"
      },
      "execution_count": 93,
      "outputs": []
    },
    {
      "cell_type": "code",
      "source": [
        "# Index des 10 clients voisins dans le train set\n",
        "df_dashboard['INDEX_10_VOISINS_TRAIN'] = \\\n",
        "    [index for index in liste_index_10_voisins]"
      ],
      "metadata": {
        "id": "Xv9houbi8szD"
      },
      "execution_count": 94,
      "outputs": []
    },
    {
      "cell_type": "code",
      "source": [
        "# Nombre de clients défaillants parmi les 10 voisins\n",
        "df_dashboard['NB_10_VOISINS_DEFAILLANT_TRAIN'] = \\\n",
        "    [Counter(train_set['TARGET'].iloc[index])[1]\n",
        "     for index in liste_index_10_voisins]"
      ],
      "metadata": {
        "id": "7Zc7gQg38s1R"
      },
      "execution_count": 95,
      "outputs": []
    },
    {
      "cell_type": "code",
      "source": [
        "# Pourcentage de clients défaillants parmi les 10 voisins\n",
        "df_dashboard['%_NB_10_VOISINS_DEFAILLANT_TRAIN'] = \\\n",
        "    [(row / 10) * 100\n",
        "     for row in df_dashboard['NB_10_VOISINS_DEFAILLANT_TRAIN']]"
      ],
      "metadata": {
        "id": "4u1Z96pq8s32"
      },
      "execution_count": 96,
      "outputs": []
    },
    {
      "cell_type": "code",
      "source": [
        "df_dashboard[['SCORE_CLIENT', 'PRED_CLASSE_CLIENT', \n",
        "              '%_NB_10_VOISINS_DEFAILLANT_TRAIN']].head(10)"
      ],
      "metadata": {
        "colab": {
          "base_uri": "https://localhost:8080/",
          "height": 363
        },
        "id": "-ASh_ZbnI7NT",
        "outputId": "d6d005d9-38b4-4162-a7db-d8b31438004c"
      },
      "execution_count": 97,
      "outputs": [
        {
          "output_type": "execute_result",
          "data": {
            "text/plain": [
              "   SCORE_CLIENT  PRED_CLASSE_CLIENT  %_NB_10_VOISINS_DEFAILLANT_TRAIN\n",
              "0      0.327993                   0                              10.0\n",
              "1      0.356018                   0                              10.0\n",
              "2      0.098026                   0                              10.0\n",
              "3      0.293692                   0                               0.0\n",
              "4      0.678324                   1                              10.0\n",
              "5      0.361441                   0                               0.0\n",
              "6      0.135385                   0                               0.0\n",
              "7      0.347489                   0                              10.0\n",
              "8      0.126889                   0                               0.0\n",
              "9      0.543154                   1                              10.0"
            ],
            "text/html": [
              "\n",
              "  <div id=\"df-6646172e-a30b-426e-bf61-fa8a7b5d2ba5\">\n",
              "    <div class=\"colab-df-container\">\n",
              "      <div>\n",
              "<style scoped>\n",
              "    .dataframe tbody tr th:only-of-type {\n",
              "        vertical-align: middle;\n",
              "    }\n",
              "\n",
              "    .dataframe tbody tr th {\n",
              "        vertical-align: top;\n",
              "    }\n",
              "\n",
              "    .dataframe thead th {\n",
              "        text-align: right;\n",
              "    }\n",
              "</style>\n",
              "<table border=\"1\" class=\"dataframe\">\n",
              "  <thead>\n",
              "    <tr style=\"text-align: right;\">\n",
              "      <th></th>\n",
              "      <th>SCORE_CLIENT</th>\n",
              "      <th>PRED_CLASSE_CLIENT</th>\n",
              "      <th>%_NB_10_VOISINS_DEFAILLANT_TRAIN</th>\n",
              "    </tr>\n",
              "  </thead>\n",
              "  <tbody>\n",
              "    <tr>\n",
              "      <th>0</th>\n",
              "      <td>0.327993</td>\n",
              "      <td>0</td>\n",
              "      <td>10.0</td>\n",
              "    </tr>\n",
              "    <tr>\n",
              "      <th>1</th>\n",
              "      <td>0.356018</td>\n",
              "      <td>0</td>\n",
              "      <td>10.0</td>\n",
              "    </tr>\n",
              "    <tr>\n",
              "      <th>2</th>\n",
              "      <td>0.098026</td>\n",
              "      <td>0</td>\n",
              "      <td>10.0</td>\n",
              "    </tr>\n",
              "    <tr>\n",
              "      <th>3</th>\n",
              "      <td>0.293692</td>\n",
              "      <td>0</td>\n",
              "      <td>0.0</td>\n",
              "    </tr>\n",
              "    <tr>\n",
              "      <th>4</th>\n",
              "      <td>0.678324</td>\n",
              "      <td>1</td>\n",
              "      <td>10.0</td>\n",
              "    </tr>\n",
              "    <tr>\n",
              "      <th>5</th>\n",
              "      <td>0.361441</td>\n",
              "      <td>0</td>\n",
              "      <td>0.0</td>\n",
              "    </tr>\n",
              "    <tr>\n",
              "      <th>6</th>\n",
              "      <td>0.135385</td>\n",
              "      <td>0</td>\n",
              "      <td>0.0</td>\n",
              "    </tr>\n",
              "    <tr>\n",
              "      <th>7</th>\n",
              "      <td>0.347489</td>\n",
              "      <td>0</td>\n",
              "      <td>10.0</td>\n",
              "    </tr>\n",
              "    <tr>\n",
              "      <th>8</th>\n",
              "      <td>0.126889</td>\n",
              "      <td>0</td>\n",
              "      <td>0.0</td>\n",
              "    </tr>\n",
              "    <tr>\n",
              "      <th>9</th>\n",
              "      <td>0.543154</td>\n",
              "      <td>1</td>\n",
              "      <td>10.0</td>\n",
              "    </tr>\n",
              "  </tbody>\n",
              "</table>\n",
              "</div>\n",
              "      <button class=\"colab-df-convert\" onclick=\"convertToInteractive('df-6646172e-a30b-426e-bf61-fa8a7b5d2ba5')\"\n",
              "              title=\"Convert this dataframe to an interactive table.\"\n",
              "              style=\"display:none;\">\n",
              "        \n",
              "  <svg xmlns=\"http://www.w3.org/2000/svg\" height=\"24px\"viewBox=\"0 0 24 24\"\n",
              "       width=\"24px\">\n",
              "    <path d=\"M0 0h24v24H0V0z\" fill=\"none\"/>\n",
              "    <path d=\"M18.56 5.44l.94 2.06.94-2.06 2.06-.94-2.06-.94-.94-2.06-.94 2.06-2.06.94zm-11 1L8.5 8.5l.94-2.06 2.06-.94-2.06-.94L8.5 2.5l-.94 2.06-2.06.94zm10 10l.94 2.06.94-2.06 2.06-.94-2.06-.94-.94-2.06-.94 2.06-2.06.94z\"/><path d=\"M17.41 7.96l-1.37-1.37c-.4-.4-.92-.59-1.43-.59-.52 0-1.04.2-1.43.59L10.3 9.45l-7.72 7.72c-.78.78-.78 2.05 0 2.83L4 21.41c.39.39.9.59 1.41.59.51 0 1.02-.2 1.41-.59l7.78-7.78 2.81-2.81c.8-.78.8-2.07 0-2.86zM5.41 20L4 18.59l7.72-7.72 1.47 1.35L5.41 20z\"/>\n",
              "  </svg>\n",
              "      </button>\n",
              "      \n",
              "  <style>\n",
              "    .colab-df-container {\n",
              "      display:flex;\n",
              "      flex-wrap:wrap;\n",
              "      gap: 12px;\n",
              "    }\n",
              "\n",
              "    .colab-df-convert {\n",
              "      background-color: #E8F0FE;\n",
              "      border: none;\n",
              "      border-radius: 50%;\n",
              "      cursor: pointer;\n",
              "      display: none;\n",
              "      fill: #1967D2;\n",
              "      height: 32px;\n",
              "      padding: 0 0 0 0;\n",
              "      width: 32px;\n",
              "    }\n",
              "\n",
              "    .colab-df-convert:hover {\n",
              "      background-color: #E2EBFA;\n",
              "      box-shadow: 0px 1px 2px rgba(60, 64, 67, 0.3), 0px 1px 3px 1px rgba(60, 64, 67, 0.15);\n",
              "      fill: #174EA6;\n",
              "    }\n",
              "\n",
              "    [theme=dark] .colab-df-convert {\n",
              "      background-color: #3B4455;\n",
              "      fill: #D2E3FC;\n",
              "    }\n",
              "\n",
              "    [theme=dark] .colab-df-convert:hover {\n",
              "      background-color: #434B5C;\n",
              "      box-shadow: 0px 1px 3px 1px rgba(0, 0, 0, 0.15);\n",
              "      filter: drop-shadow(0px 1px 2px rgba(0, 0, 0, 0.3));\n",
              "      fill: #FFFFFF;\n",
              "    }\n",
              "  </style>\n",
              "\n",
              "      <script>\n",
              "        const buttonEl =\n",
              "          document.querySelector('#df-6646172e-a30b-426e-bf61-fa8a7b5d2ba5 button.colab-df-convert');\n",
              "        buttonEl.style.display =\n",
              "          google.colab.kernel.accessAllowed ? 'block' : 'none';\n",
              "\n",
              "        async function convertToInteractive(key) {\n",
              "          const element = document.querySelector('#df-6646172e-a30b-426e-bf61-fa8a7b5d2ba5');\n",
              "          const dataTable =\n",
              "            await google.colab.kernel.invokeFunction('convertToInteractive',\n",
              "                                                     [key], {});\n",
              "          if (!dataTable) return;\n",
              "\n",
              "          const docLinkHtml = 'Like what you see? Visit the ' +\n",
              "            '<a target=\"_blank\" href=https://colab.research.google.com/notebooks/data_table.ipynb>data table notebook</a>'\n",
              "            + ' to learn more about interactive tables.';\n",
              "          element.innerHTML = '';\n",
              "          dataTable['output_type'] = 'display_data';\n",
              "          await google.colab.output.renderOutput(dataTable, element);\n",
              "          const docLink = document.createElement('div');\n",
              "          docLink.innerHTML = docLinkHtml;\n",
              "          element.appendChild(docLink);\n",
              "        }\n",
              "      </script>\n",
              "    </div>\n",
              "  </div>\n",
              "  "
            ]
          },
          "metadata": {},
          "execution_count": 97
        }
      ]
    },
    {
      "cell_type": "code",
      "source": [
        "# Sauvegarde de df_dashboard_3\n",
        "fic_sav_df_dashboard_3 ='/content/drive/MyDrive/p7/dashboard/df_dashboard_3.pickle'\n",
        "with open(fic_sav_df_dashboard_3, 'wb') as f:\n",
        "    pickle.dump(df_dashboard, f, pickle.HIGHEST_PROTOCOL)"
      ],
      "metadata": {
        "id": "m1pSk5PtI7Qh"
      },
      "execution_count": 98,
      "outputs": []
    },
    {
      "cell_type": "code",
      "source": [
        "# Chargement du dataframe df_dashboard_3\n",
        "fic_sav_df_dashboard_3 ='/content/drive/MyDrive/p7/dashboard/df_dashboard_3.pickle'\n",
        "with open(fic_sav_df_dashboard_3, 'rb') as df_dashboard_3:\n",
        "    df_dashboard = pickle.load(df_dashboard_3)\n",
        "df_dashboard.shape"
      ],
      "metadata": {
        "colab": {
          "base_uri": "https://localhost:8080/"
        },
        "id": "Ws_OFQKkI7Ts",
        "outputId": "a39d6142-e706-46fb-d241-af53ba54a592"
      },
      "execution_count": 99,
      "outputs": [
        {
          "output_type": "execute_result",
          "data": {
            "text/plain": [
              "(48744, 903)"
            ]
          },
          "metadata": {},
          "execution_count": 99
        }
      ]
    },
    {
      "cell_type": "markdown",
      "source": [
        "Constitution du dataframe des voisins pour le dashboard"
      ],
      "metadata": {
        "id": "XbpUeifQJRHO"
      }
    },
    {
      "cell_type": "code",
      "source": [
        "df_index_voisins = \\\n",
        "    pd.DataFrame({'ID_CLIENT' : test_set['SK_ID_CURR'],\n",
        "                  'INDEX_10_VOISINS' : liste_index_10_voisins.tolist()})\n",
        "df_index_voisins.shape"
      ],
      "metadata": {
        "colab": {
          "base_uri": "https://localhost:8080/"
        },
        "id": "0wEs9hWYI7XT",
        "outputId": "2233cf49-03e8-4165-acb2-c4015b01f60b"
      },
      "execution_count": 100,
      "outputs": [
        {
          "output_type": "execute_result",
          "data": {
            "text/plain": [
              "(48744, 2)"
            ]
          },
          "metadata": {},
          "execution_count": 100
        }
      ]
    },
    {
      "cell_type": "code",
      "source": [
        "# Sauvegarde de df_index_voisins\n",
        "fic_sav_df_index_voisins ='/content/drive/MyDrive/p7/dashboard/df_index_voisins.pickle'\n",
        "with open(fic_sav_df_index_voisins, 'wb') as f:\n",
        "    pickle.dump(df_index_voisins, f, pickle.HIGHEST_PROTOCOL)"
      ],
      "metadata": {
        "id": "d0o7mu4kJeQ-"
      },
      "execution_count": 101,
      "outputs": []
    },
    {
      "cell_type": "code",
      "source": [
        "# Chargement du dataframe df_index_voisins\n",
        "fic_sav_df_index_voisins ='/content/drive/MyDrive/p7/dashboard/df_index_voisins.pickle'\n",
        "with open(fic_sav_df_index_voisins, 'rb') as df_index_voisins:\n",
        "    df_index_voisins = pickle.load(df_index_voisins)\n",
        "df_index_voisins.shape"
      ],
      "metadata": {
        "colab": {
          "base_uri": "https://localhost:8080/"
        },
        "id": "3e7XK8yJJeUF",
        "outputId": "aff1082a-f66f-4fad-b0e2-43e2bf24159f"
      },
      "execution_count": 102,
      "outputs": [
        {
          "output_type": "execute_result",
          "data": {
            "text/plain": [
              "(48744, 2)"
            ]
          },
          "metadata": {},
          "execution_count": 102
        }
      ]
    },
    {
      "cell_type": "code",
      "source": [
        "df_voisin_train = pd.DataFrame({})"
      ],
      "metadata": {
        "id": "ehpqE9BVJeXC"
      },
      "execution_count": 103,
      "outputs": []
    },
    {
      "cell_type": "code",
      "source": [
        "# Chargement du dataframe df_voisin_train\n",
        "fic_sav_df_voisin_train ='/content/drive/MyDrive/p7/dashboard/df_voisin_train.pickle'\n",
        "with open(fic_sav_df_voisin_train, 'rb') as df_voisin_train:\n",
        "    df_voisin_train = pickle.load(df_voisin_train)\n",
        "df_voisin_train.shape"
      ],
      "metadata": {
        "colab": {
          "base_uri": "https://localhost:8080/",
          "height": 234
        },
        "id": "wKrIA0iqLR4Q",
        "outputId": "e070eaed-a9c3-4caf-fb64-4391976280b0"
      },
      "execution_count": 106,
      "outputs": [
        {
          "output_type": "error",
          "ename": "FileNotFoundError",
          "evalue": "ignored",
          "traceback": [
            "\u001b[0;31m---------------------------------------------------------------------------\u001b[0m",
            "\u001b[0;31mFileNotFoundError\u001b[0m                         Traceback (most recent call last)",
            "\u001b[0;32m<ipython-input-106-baf35d29d440>\u001b[0m in \u001b[0;36m<module>\u001b[0;34m()\u001b[0m\n\u001b[1;32m      1\u001b[0m \u001b[0;31m# Chargement du dataframe df_voisin_train\u001b[0m\u001b[0;34m\u001b[0m\u001b[0;34m\u001b[0m\u001b[0;34m\u001b[0m\u001b[0m\n\u001b[1;32m      2\u001b[0m \u001b[0mfic_sav_df_voisin_train\u001b[0m \u001b[0;34m=\u001b[0m\u001b[0;34m'/content/drive/MyDrive/p7/df_voisin_train.pickle'\u001b[0m\u001b[0;34m\u001b[0m\u001b[0;34m\u001b[0m\u001b[0m\n\u001b[0;32m----> 3\u001b[0;31m \u001b[0;32mwith\u001b[0m \u001b[0mopen\u001b[0m\u001b[0;34m(\u001b[0m\u001b[0mfic_sav_df_voisin_train\u001b[0m\u001b[0;34m,\u001b[0m \u001b[0;34m'rb'\u001b[0m\u001b[0;34m)\u001b[0m \u001b[0;32mas\u001b[0m \u001b[0mdf_voisin_train\u001b[0m\u001b[0;34m:\u001b[0m\u001b[0;34m\u001b[0m\u001b[0;34m\u001b[0m\u001b[0m\n\u001b[0m\u001b[1;32m      4\u001b[0m     \u001b[0mdf_voisin_train\u001b[0m \u001b[0;34m=\u001b[0m \u001b[0mpickle\u001b[0m\u001b[0;34m.\u001b[0m\u001b[0mload\u001b[0m\u001b[0;34m(\u001b[0m\u001b[0mdf_voisin_train\u001b[0m\u001b[0;34m)\u001b[0m\u001b[0;34m\u001b[0m\u001b[0;34m\u001b[0m\u001b[0m\n\u001b[1;32m      5\u001b[0m \u001b[0mdf_voisin_train\u001b[0m\u001b[0;34m.\u001b[0m\u001b[0mshape\u001b[0m\u001b[0;34m\u001b[0m\u001b[0;34m\u001b[0m\u001b[0m\n",
            "\u001b[0;31mFileNotFoundError\u001b[0m: [Errno 2] No such file or directory: '/content/drive/MyDrive/p7/df_voisin_train.pickle'"
          ]
        }
      ]
    },
    {
      "cell_type": "code",
      "source": [
        "# ID_CLIENT entre 100001 et 150000 : 6804 clients\n",
        "mask = df_index_voisins['ID_CLIENT'] >= 100001 \n",
        "mask2 = df_index_voisins['ID_CLIENT'] < 150000 \n",
        "df1 = df_index_voisins[mask & mask2]\n",
        "df1.shape"
      ],
      "metadata": {
        "colab": {
          "base_uri": "https://localhost:8080/"
        },
        "id": "eiRK1FWiLR64",
        "outputId": "997ebb08-7219-44c9-cc6a-67c32c5ba9bc"
      },
      "execution_count": 107,
      "outputs": [
        {
          "output_type": "execute_result",
          "data": {
            "text/plain": [
              "(6804, 2)"
            ]
          },
          "metadata": {},
          "execution_count": 107
        }
      ]
    },
    {
      "cell_type": "code",
      "source": [
        "for id_cli, row in zip(df1['ID_CLIENT'],\n",
        "                       df1['INDEX_10_VOISINS']):\n",
        "     for index in row:\n",
        "            var_imp = train_set.iloc[index]\n",
        "            info = application_train.iloc[index]\n",
        "            df_voisin_train = df_voisin_train.append(pd.DataFrame({\n",
        "                                           'ID_CLIENT': [id_cli],\n",
        "                                           'INDEX_VOISIN': [index],\n",
        "                                           'AMT_ANNUITY': [var_imp['AMT_ANNUITY']],\n",
        "                                          # 'BUREAU_CURRENT_CREDIT_DEBT_DIFF_MIN': [var_imp['BUREAU_CURRENT_CREDIT_DEBT_DIFF_MIN']],\n",
        "                                          # 'BUREAU_CURRENT_CREDIT_DEBT_DIFF_MEAN': [var_imp['BUREAU_CURRENT_CREDIT_DEBT_DIFF_MEAN']],\n",
        "                                          # 'BUREAU_CURRENT_DEBT_TO_CREDIT_RATIO_MEAN': [var_imp['BUREAU_CURRENT_DEBT_TO_CREDIT_RATIO_MEAN']],\n",
        "                                          # 'CAR_EMPLOYED_RATIO': [var_imp['CAR_EMPLOYED_RATIO']],\n",
        "                                           'CODE_GENDER': [var_imp['CODE_GENDER']],\n",
        "                                           'NEW_ANNUITY_CREDIT_RATIO': [var_imp['NEW_ANNUITY_CREDIT_RATIO']],\n",
        "                                           'PREV_NEW_CREDIT_GOODS_RATIO_MAX': [var_imp['PREV_NEW_CREDIT_GOODS_RATIO_MAX']],\n",
        "                                           'DAYS_BIRTH': [var_imp['DAYS_BIRTH']],\n",
        "                                           'DAYS_ID_PUBLISH': [var_imp['DAYS_ID_PUBLISH']],\n",
        "                                           'EXT_SOURCE_1': [var_imp['EXT_SOURCE_1']],\n",
        "                                           'EXT_SOURCE_2': [var_imp['EXT_SOURCE_2']],\n",
        "                                           'EXT_SOURCE_3': [var_imp['EXT_SOURCE_3']],\n",
        "                                           'NEW_EXT_MEAN': [var_imp['NEW_EXT_MEAN']],\n",
        "                                           'NEW_EXT_PROD': [var_imp['NEW_EXT_PROD']],\n",
        "                                           'FLAG_OWN_CAR': [var_imp['FLAG_OWN_CAR']],\n",
        "                                           'INSTAL_AMT_INSTALMENT_SUM': [var_imp['INSTAL_AMT_INSTALMENT_SUM']],\n",
        "                                           'INSTAL_PAYMENT_PERC_MAX': [var_imp['INSTAL_PAYMENT_PERC_MAX']],\n",
        "                                           'NAME_EDUCATION_TYPE_Higher education': [var_imp['NAME_EDUCATION_TYPE_Higher education']],\n",
        "                                           'NAME_FAMILY_STATUS_Married ': [var_imp['NAME_FAMILY_STATUS_Married']],\n",
        "                                           #'POS_CASH_NAME_CONTRACT_STATUS_ACTIVE_SUM': [var_imp['POS_CASH_NAME_CONTRACT_STATUS_ACTIVE_SUM']],\n",
        "                                           'PREV_APP_INTEREST_SHARE_MAX': [var_imp['PREV_APP_INTEREST_SHARE_MAX']],\n",
        "                                           'AMT_INCOME_TOTAL': [info['AMT_INCOME_TOTAL']],\n",
        "                                           'AMT_CREDIT': [info['AMT_CREDIT']],\n",
        "                                           'NAME_FAMILY_STATUS': [info['NAME_FAMILY_STATUS']],\n",
        "                                           'DAYS_EMPLOYED': [info['DAYS_EMPLOYED']],\n",
        "                                           'AMT_GOODS_PRICE': [info['AMT_GOODS_PRICE']],\n",
        "                                           'CNT_CHILDREN': [info['CNT_CHILDREN']],\n",
        "                                           'NAME_CONTRACT_TYPE': [info['NAME_CONTRACT_TYPE']],\n",
        "                                           'NAME_EDUCATION_TYPE': [info['NAME_EDUCATION_TYPE']],\n",
        "                                           'NAME_HOUSING_TYPE': [info['NAME_HOUSING_TYPE']],\n",
        "                                           'NAME_INCOME_TYPE': [info['NAME_INCOME_TYPE']]\n",
        "                                           }), ignore_index=True)         \n",
        "df_voisin_train.head()"
      ],
      "metadata": {
        "colab": {
          "base_uri": "https://localhost:8080/",
          "height": 502
        },
        "id": "JnzsP6SjLR-M",
        "outputId": "a78b8ceb-72d3-460f-914a-8690cd341268"
      },
      "execution_count": 131,
      "outputs": [
        {
          "output_type": "error",
          "ename": "KeyError",
          "evalue": "ignored",
          "traceback": [
            "\u001b[0;31m---------------------------------------------------------------------------\u001b[0m",
            "\u001b[0;31mKeyError\u001b[0m                                  Traceback (most recent call last)",
            "\u001b[0;32m/usr/local/lib/python3.7/dist-packages/pandas/core/indexes/base.py\u001b[0m in \u001b[0;36mget_loc\u001b[0;34m(self, key, method, tolerance)\u001b[0m\n\u001b[1;32m   3360\u001b[0m             \u001b[0;32mtry\u001b[0m\u001b[0;34m:\u001b[0m\u001b[0;34m\u001b[0m\u001b[0;34m\u001b[0m\u001b[0m\n\u001b[0;32m-> 3361\u001b[0;31m                 \u001b[0;32mreturn\u001b[0m \u001b[0mself\u001b[0m\u001b[0;34m.\u001b[0m\u001b[0m_engine\u001b[0m\u001b[0;34m.\u001b[0m\u001b[0mget_loc\u001b[0m\u001b[0;34m(\u001b[0m\u001b[0mcasted_key\u001b[0m\u001b[0;34m)\u001b[0m\u001b[0;34m\u001b[0m\u001b[0;34m\u001b[0m\u001b[0m\n\u001b[0m\u001b[1;32m   3362\u001b[0m             \u001b[0;32mexcept\u001b[0m \u001b[0mKeyError\u001b[0m \u001b[0;32mas\u001b[0m \u001b[0merr\u001b[0m\u001b[0;34m:\u001b[0m\u001b[0;34m\u001b[0m\u001b[0;34m\u001b[0m\u001b[0m\n",
            "\u001b[0;32m/usr/local/lib/python3.7/dist-packages/pandas/_libs/index.pyx\u001b[0m in \u001b[0;36mpandas._libs.index.IndexEngine.get_loc\u001b[0;34m()\u001b[0m\n",
            "\u001b[0;32m/usr/local/lib/python3.7/dist-packages/pandas/_libs/index.pyx\u001b[0m in \u001b[0;36mpandas._libs.index.IndexEngine.get_loc\u001b[0;34m()\u001b[0m\n",
            "\u001b[0;32mpandas/_libs/hashtable_class_helper.pxi\u001b[0m in \u001b[0;36mpandas._libs.hashtable.PyObjectHashTable.get_item\u001b[0;34m()\u001b[0m\n",
            "\u001b[0;32mpandas/_libs/hashtable_class_helper.pxi\u001b[0m in \u001b[0;36mpandas._libs.hashtable.PyObjectHashTable.get_item\u001b[0;34m()\u001b[0m\n",
            "\u001b[0;31mKeyError\u001b[0m: 'POS_CASH_NAME_CONTRACT_STATUS_ACTIVE_SUM'",
            "\nThe above exception was the direct cause of the following exception:\n",
            "\u001b[0;31mKeyError\u001b[0m                                  Traceback (most recent call last)",
            "\u001b[0;32m<ipython-input-131-36af4c610cd3>\u001b[0m in \u001b[0;36m<module>\u001b[0;34m()\u001b[0m\n\u001b[1;32m     27\u001b[0m                                            \u001b[0;34m'NAME_EDUCATION_TYPE_Higher education'\u001b[0m\u001b[0;34m:\u001b[0m \u001b[0;34m[\u001b[0m\u001b[0mvar_imp\u001b[0m\u001b[0;34m[\u001b[0m\u001b[0;34m'NAME_EDUCATION_TYPE_Higher education'\u001b[0m\u001b[0;34m]\u001b[0m\u001b[0;34m]\u001b[0m\u001b[0;34m,\u001b[0m\u001b[0;34m\u001b[0m\u001b[0;34m\u001b[0m\u001b[0m\n\u001b[1;32m     28\u001b[0m                                            \u001b[0;34m'NAME_FAMILY_STATUS_Married '\u001b[0m\u001b[0;34m:\u001b[0m \u001b[0;34m[\u001b[0m\u001b[0mvar_imp\u001b[0m\u001b[0;34m[\u001b[0m\u001b[0;34m'NAME_FAMILY_STATUS_Married'\u001b[0m\u001b[0;34m]\u001b[0m\u001b[0;34m]\u001b[0m\u001b[0;34m,\u001b[0m\u001b[0;34m\u001b[0m\u001b[0;34m\u001b[0m\u001b[0m\n\u001b[0;32m---> 29\u001b[0;31m                                            \u001b[0;34m'POS_CASH_NAME_CONTRACT_STATUS_ACTIVE_SUM'\u001b[0m\u001b[0;34m:\u001b[0m \u001b[0;34m[\u001b[0m\u001b[0mvar_imp\u001b[0m\u001b[0;34m[\u001b[0m\u001b[0;34m'POS_CASH_NAME_CONTRACT_STATUS_ACTIVE_SUM'\u001b[0m\u001b[0;34m]\u001b[0m\u001b[0;34m]\u001b[0m\u001b[0;34m,\u001b[0m\u001b[0;34m\u001b[0m\u001b[0;34m\u001b[0m\u001b[0m\n\u001b[0m\u001b[1;32m     30\u001b[0m                                            \u001b[0;34m'PREV_APP_INTEREST_SHARE_MAX'\u001b[0m\u001b[0;34m:\u001b[0m \u001b[0;34m[\u001b[0m\u001b[0mvar_imp\u001b[0m\u001b[0;34m[\u001b[0m\u001b[0;34m'PREV_APP_INTEREST_SHARE_MAX'\u001b[0m\u001b[0;34m]\u001b[0m\u001b[0;34m]\u001b[0m\u001b[0;34m,\u001b[0m\u001b[0;34m\u001b[0m\u001b[0;34m\u001b[0m\u001b[0m\n\u001b[1;32m     31\u001b[0m                                            \u001b[0;34m'AMT_INCOME_TOTAL'\u001b[0m\u001b[0;34m:\u001b[0m \u001b[0;34m[\u001b[0m\u001b[0minfo\u001b[0m\u001b[0;34m[\u001b[0m\u001b[0;34m'AMT_INCOME_TOTAL'\u001b[0m\u001b[0;34m]\u001b[0m\u001b[0;34m]\u001b[0m\u001b[0;34m,\u001b[0m\u001b[0;34m\u001b[0m\u001b[0;34m\u001b[0m\u001b[0m\n",
            "\u001b[0;32m/usr/local/lib/python3.7/dist-packages/pandas/core/series.py\u001b[0m in \u001b[0;36m__getitem__\u001b[0;34m(self, key)\u001b[0m\n\u001b[1;32m    940\u001b[0m \u001b[0;34m\u001b[0m\u001b[0m\n\u001b[1;32m    941\u001b[0m         \u001b[0;32melif\u001b[0m \u001b[0mkey_is_scalar\u001b[0m\u001b[0;34m:\u001b[0m\u001b[0;34m\u001b[0m\u001b[0;34m\u001b[0m\u001b[0m\n\u001b[0;32m--> 942\u001b[0;31m             \u001b[0;32mreturn\u001b[0m \u001b[0mself\u001b[0m\u001b[0;34m.\u001b[0m\u001b[0m_get_value\u001b[0m\u001b[0;34m(\u001b[0m\u001b[0mkey\u001b[0m\u001b[0;34m)\u001b[0m\u001b[0;34m\u001b[0m\u001b[0;34m\u001b[0m\u001b[0m\n\u001b[0m\u001b[1;32m    943\u001b[0m \u001b[0;34m\u001b[0m\u001b[0m\n\u001b[1;32m    944\u001b[0m         \u001b[0;32mif\u001b[0m \u001b[0mis_hashable\u001b[0m\u001b[0;34m(\u001b[0m\u001b[0mkey\u001b[0m\u001b[0;34m)\u001b[0m\u001b[0;34m:\u001b[0m\u001b[0;34m\u001b[0m\u001b[0;34m\u001b[0m\u001b[0m\n",
            "\u001b[0;32m/usr/local/lib/python3.7/dist-packages/pandas/core/series.py\u001b[0m in \u001b[0;36m_get_value\u001b[0;34m(self, label, takeable)\u001b[0m\n\u001b[1;32m   1049\u001b[0m \u001b[0;34m\u001b[0m\u001b[0m\n\u001b[1;32m   1050\u001b[0m         \u001b[0;31m# Similar to Index.get_value, but we do not fall back to positional\u001b[0m\u001b[0;34m\u001b[0m\u001b[0;34m\u001b[0m\u001b[0;34m\u001b[0m\u001b[0m\n\u001b[0;32m-> 1051\u001b[0;31m         \u001b[0mloc\u001b[0m \u001b[0;34m=\u001b[0m \u001b[0mself\u001b[0m\u001b[0;34m.\u001b[0m\u001b[0mindex\u001b[0m\u001b[0;34m.\u001b[0m\u001b[0mget_loc\u001b[0m\u001b[0;34m(\u001b[0m\u001b[0mlabel\u001b[0m\u001b[0;34m)\u001b[0m\u001b[0;34m\u001b[0m\u001b[0;34m\u001b[0m\u001b[0m\n\u001b[0m\u001b[1;32m   1052\u001b[0m         \u001b[0;32mreturn\u001b[0m \u001b[0mself\u001b[0m\u001b[0;34m.\u001b[0m\u001b[0mindex\u001b[0m\u001b[0;34m.\u001b[0m\u001b[0m_get_values_for_loc\u001b[0m\u001b[0;34m(\u001b[0m\u001b[0mself\u001b[0m\u001b[0;34m,\u001b[0m \u001b[0mloc\u001b[0m\u001b[0;34m,\u001b[0m \u001b[0mlabel\u001b[0m\u001b[0;34m)\u001b[0m\u001b[0;34m\u001b[0m\u001b[0;34m\u001b[0m\u001b[0m\n\u001b[1;32m   1053\u001b[0m \u001b[0;34m\u001b[0m\u001b[0m\n",
            "\u001b[0;32m/usr/local/lib/python3.7/dist-packages/pandas/core/indexes/base.py\u001b[0m in \u001b[0;36mget_loc\u001b[0;34m(self, key, method, tolerance)\u001b[0m\n\u001b[1;32m   3361\u001b[0m                 \u001b[0;32mreturn\u001b[0m \u001b[0mself\u001b[0m\u001b[0;34m.\u001b[0m\u001b[0m_engine\u001b[0m\u001b[0;34m.\u001b[0m\u001b[0mget_loc\u001b[0m\u001b[0;34m(\u001b[0m\u001b[0mcasted_key\u001b[0m\u001b[0;34m)\u001b[0m\u001b[0;34m\u001b[0m\u001b[0;34m\u001b[0m\u001b[0m\n\u001b[1;32m   3362\u001b[0m             \u001b[0;32mexcept\u001b[0m \u001b[0mKeyError\u001b[0m \u001b[0;32mas\u001b[0m \u001b[0merr\u001b[0m\u001b[0;34m:\u001b[0m\u001b[0;34m\u001b[0m\u001b[0;34m\u001b[0m\u001b[0m\n\u001b[0;32m-> 3363\u001b[0;31m                 \u001b[0;32mraise\u001b[0m \u001b[0mKeyError\u001b[0m\u001b[0;34m(\u001b[0m\u001b[0mkey\u001b[0m\u001b[0;34m)\u001b[0m \u001b[0;32mfrom\u001b[0m \u001b[0merr\u001b[0m\u001b[0;34m\u001b[0m\u001b[0;34m\u001b[0m\u001b[0m\n\u001b[0m\u001b[1;32m   3364\u001b[0m \u001b[0;34m\u001b[0m\u001b[0m\n\u001b[1;32m   3365\u001b[0m         \u001b[0;32mif\u001b[0m \u001b[0mis_scalar\u001b[0m\u001b[0;34m(\u001b[0m\u001b[0mkey\u001b[0m\u001b[0;34m)\u001b[0m \u001b[0;32mand\u001b[0m \u001b[0misna\u001b[0m\u001b[0;34m(\u001b[0m\u001b[0mkey\u001b[0m\u001b[0;34m)\u001b[0m \u001b[0;32mand\u001b[0m \u001b[0;32mnot\u001b[0m \u001b[0mself\u001b[0m\u001b[0;34m.\u001b[0m\u001b[0mhasnans\u001b[0m\u001b[0;34m:\u001b[0m\u001b[0;34m\u001b[0m\u001b[0;34m\u001b[0m\u001b[0m\n",
            "\u001b[0;31mKeyError\u001b[0m: 'POS_CASH_NAME_CONTRACT_STATUS_ACTIVE_SUM'"
          ]
        }
      ]
    },
    {
      "cell_type": "code",
      "source": [
        ""
      ],
      "metadata": {
        "id": "9VGKZAOFWU63"
      },
      "execution_count": null,
      "outputs": []
    },
    {
      "cell_type": "code",
      "source": [
        "pd.set_option('max_columns', None)\n",
        "print(train_set.columns.values)"
      ],
      "metadata": {
        "colab": {
          "base_uri": "https://localhost:8080/"
        },
        "id": "eZZGbrtlQ1fE",
        "outputId": "2a54cde5-09ce-41ec-e591-92e1dfe32cd4"
      },
      "execution_count": 128,
      "outputs": [
        {
          "output_type": "stream",
          "name": "stdout",
          "text": [
            "['SK_ID_CURR' 'TARGET' 'CODE_GENDER' 'FLAG_OWN_CAR' 'FLAG_OWN_REALTY'\n",
            " 'CNT_CHILDREN' 'AMT_INCOME_TOTAL' 'AMT_CREDIT' 'AMT_ANNUITY'\n",
            " 'REGION_POPULATION_RELATIVE' 'DAYS_BIRTH' 'DAYS_EMPLOYED'\n",
            " 'DAYS_REGISTRATION' 'DAYS_ID_PUBLISH' 'OWN_CAR_AGE' 'FLAG_MOBIL'\n",
            " 'FLAG_WORK_PHONE' 'FLAG_CONT_MOBILE' 'FLAG_PHONE' 'FLAG_EMAIL'\n",
            " 'CNT_FAM_MEMBERS' 'REGION_RATING_CLIENT' 'REGION_RATING_CLIENT_W_CITY'\n",
            " 'REG_REGION_NOT_LIVE_REGION' 'REG_REGION_NOT_WORK_REGION'\n",
            " 'LIVE_REGION_NOT_WORK_REGION' 'REG_CITY_NOT_LIVE_CITY'\n",
            " 'REG_CITY_NOT_WORK_CITY' 'LIVE_CITY_NOT_WORK_CITY' 'EXT_SOURCE_1'\n",
            " 'EXT_SOURCE_2' 'EXT_SOURCE_3' 'APARTMENTS_AVG' 'BASEMENTAREA_AVG'\n",
            " 'YEARS_BEGINEXPLUATATION_AVG' 'YEARS_BUILD_AVG' 'COMMONAREA_AVG'\n",
            " 'ELEVATORS_AVG' 'ENTRANCES_AVG' 'FLOORSMAX_AVG' 'FLOORSMIN_AVG'\n",
            " 'LANDAREA_AVG' 'LIVINGAPARTMENTS_AVG' 'LIVINGAREA_AVG'\n",
            " 'NONLIVINGAPARTMENTS_AVG' 'NONLIVINGAREA_AVG' 'APARTMENTS_MODE'\n",
            " 'BASEMENTAREA_MODE' 'YEARS_BEGINEXPLUATATION_MODE' 'COMMONAREA_MODE'\n",
            " 'ELEVATORS_MODE' 'ENTRANCES_MODE' 'LANDAREA_MODE' 'LIVINGAPARTMENTS_MODE'\n",
            " 'LIVINGAREA_MODE' 'NONLIVINGAPARTMENTS_MODE' 'NONLIVINGAREA_MODE'\n",
            " 'TOTALAREA_MODE' 'OBS_30_CNT_SOCIAL_CIRCLE' 'DEF_30_CNT_SOCIAL_CIRCLE'\n",
            " 'DEF_60_CNT_SOCIAL_CIRCLE' 'DAYS_LAST_PHONE_CHANGE' 'FLAG_DOCUMENT_2'\n",
            " 'FLAG_DOCUMENT_3' 'FLAG_DOCUMENT_4' 'FLAG_DOCUMENT_5' 'FLAG_DOCUMENT_6'\n",
            " 'FLAG_DOCUMENT_7' 'FLAG_DOCUMENT_8' 'FLAG_DOCUMENT_9' 'FLAG_DOCUMENT_10'\n",
            " 'FLAG_DOCUMENT_11' 'FLAG_DOCUMENT_12' 'FLAG_DOCUMENT_13'\n",
            " 'FLAG_DOCUMENT_14' 'FLAG_DOCUMENT_15' 'FLAG_DOCUMENT_16'\n",
            " 'FLAG_DOCUMENT_17' 'FLAG_DOCUMENT_18' 'FLAG_DOCUMENT_19'\n",
            " 'FLAG_DOCUMENT_20' 'FLAG_DOCUMENT_21' 'AMT_REQ_CREDIT_BUREAU_HOUR'\n",
            " 'AMT_REQ_CREDIT_BUREAU_DAY' 'AMT_REQ_CREDIT_BUREAU_WEEK'\n",
            " 'AMT_REQ_CREDIT_BUREAU_MON' 'AMT_REQ_CREDIT_BUREAU_QRT'\n",
            " 'AMT_REQ_CREDIT_BUREAU_YEAR' 'WEEKDAY_APPR_PROCESS_START_SIN'\n",
            " 'WEEKDAY_APPR_PROCESS_START_COS' 'HOUR_APPR_PROCESS_START_SIN'\n",
            " 'HOUR_APPR_PROCESS_START_COS' 'NEW_DAYS_EMPLOYED_PERC'\n",
            " 'NEW_INCOME_CREDIT_PERC' 'NEW_INCOME_PER_PERSON'\n",
            " 'NEW_ANNUITY_INCOME_PERC' 'NEW_ANNUITY_CREDIT_RATIO' 'NEW_EXT_MEAN'\n",
            " 'NEW_EXT_PROD' 'NEW_AGE' 'NEW_ACCOMPANIED' 'NEW_DEF_30&60_SOCIAL_CIRCLE'\n",
            " 'NAME_CONTRACT_TYPE_Cash loans' 'NAME_CONTRACT_TYPE_Revolving loans'\n",
            " 'NAME_CONTRACT_TYPE_nan' 'NAME_TYPE_SUITE_Children'\n",
            " 'NAME_TYPE_SUITE_Family' 'NAME_TYPE_SUITE_Group of people'\n",
            " 'NAME_TYPE_SUITE_Other_A' 'NAME_TYPE_SUITE_Other_B'\n",
            " 'NAME_TYPE_SUITE_Spouse, partner' 'NAME_TYPE_SUITE_Unaccompanied'\n",
            " 'NAME_TYPE_SUITE_nan' 'NAME_INCOME_TYPE_Commercial associate'\n",
            " 'NAME_INCOME_TYPE_Pensioner' 'NAME_INCOME_TYPE_State servant'\n",
            " 'NAME_INCOME_TYPE_Working' 'NAME_INCOME_TYPE_nan'\n",
            " 'NAME_EDUCATION_TYPE_Academic degree'\n",
            " 'NAME_EDUCATION_TYPE_Higher education'\n",
            " 'NAME_EDUCATION_TYPE_Incomplete higher'\n",
            " 'NAME_EDUCATION_TYPE_Lower secondary'\n",
            " 'NAME_EDUCATION_TYPE_Secondary / secondary special'\n",
            " 'NAME_EDUCATION_TYPE_nan' 'NAME_FAMILY_STATUS_Civil marriage'\n",
            " 'NAME_FAMILY_STATUS_Married' 'NAME_FAMILY_STATUS_Separated'\n",
            " 'NAME_FAMILY_STATUS_Single / not married' 'NAME_FAMILY_STATUS_Widow'\n",
            " 'NAME_FAMILY_STATUS_nan' 'NAME_HOUSING_TYPE_Co-op apartment'\n",
            " 'NAME_HOUSING_TYPE_House / apartment'\n",
            " 'NAME_HOUSING_TYPE_Municipal apartment'\n",
            " 'NAME_HOUSING_TYPE_Office apartment' 'NAME_HOUSING_TYPE_Rented apartment'\n",
            " 'NAME_HOUSING_TYPE_With parents' 'NAME_HOUSING_TYPE_nan'\n",
            " 'OCCUPATION_TYPE_Accountants' 'OCCUPATION_TYPE_Cleaning staff'\n",
            " 'OCCUPATION_TYPE_Cooking staff' 'OCCUPATION_TYPE_Core staff'\n",
            " 'OCCUPATION_TYPE_Drivers' 'OCCUPATION_TYPE_HR staff'\n",
            " 'OCCUPATION_TYPE_High skill tech staff' 'OCCUPATION_TYPE_IT staff'\n",
            " 'OCCUPATION_TYPE_Laborers' 'OCCUPATION_TYPE_Low-skill Laborers'\n",
            " 'OCCUPATION_TYPE_Managers' 'OCCUPATION_TYPE_Medicine staff'\n",
            " 'OCCUPATION_TYPE_Private service staff' 'OCCUPATION_TYPE_Realty agents'\n",
            " 'OCCUPATION_TYPE_Sales staff' 'OCCUPATION_TYPE_Secretaries'\n",
            " 'OCCUPATION_TYPE_Security staff' 'OCCUPATION_TYPE_Waiters/barmen staff'\n",
            " 'OCCUPATION_TYPE_nan' 'ORGANIZATION_TYPE_Advertising'\n",
            " 'ORGANIZATION_TYPE_Agriculture' 'ORGANIZATION_TYPE_Bank'\n",
            " 'ORGANIZATION_TYPE_Business Entity Type 1'\n",
            " 'ORGANIZATION_TYPE_Business Entity Type 2'\n",
            " 'ORGANIZATION_TYPE_Business Entity Type 3' 'ORGANIZATION_TYPE_Cleaning'\n",
            " 'ORGANIZATION_TYPE_Construction' 'ORGANIZATION_TYPE_Culture'\n",
            " 'ORGANIZATION_TYPE_Electricity' 'ORGANIZATION_TYPE_Emergency'\n",
            " 'ORGANIZATION_TYPE_Government' 'ORGANIZATION_TYPE_Hotel'\n",
            " 'ORGANIZATION_TYPE_Housing' 'ORGANIZATION_TYPE_Industry: type 1'\n",
            " 'ORGANIZATION_TYPE_Industry: type 10'\n",
            " 'ORGANIZATION_TYPE_Industry: type 11'\n",
            " 'ORGANIZATION_TYPE_Industry: type 12'\n",
            " 'ORGANIZATION_TYPE_Industry: type 13'\n",
            " 'ORGANIZATION_TYPE_Industry: type 2' 'ORGANIZATION_TYPE_Industry: type 3'\n",
            " 'ORGANIZATION_TYPE_Industry: type 4' 'ORGANIZATION_TYPE_Industry: type 5'\n",
            " 'ORGANIZATION_TYPE_Industry: type 6' 'ORGANIZATION_TYPE_Industry: type 7'\n",
            " 'ORGANIZATION_TYPE_Industry: type 8' 'ORGANIZATION_TYPE_Industry: type 9'\n",
            " 'ORGANIZATION_TYPE_Insurance' 'ORGANIZATION_TYPE_Kindergarten'\n",
            " 'ORGANIZATION_TYPE_Legal Services' 'ORGANIZATION_TYPE_Medicine'\n",
            " 'ORGANIZATION_TYPE_Military' 'ORGANIZATION_TYPE_Mobile'\n",
            " 'ORGANIZATION_TYPE_Other' 'ORGANIZATION_TYPE_Police'\n",
            " 'ORGANIZATION_TYPE_Postal' 'ORGANIZATION_TYPE_Realtor'\n",
            " 'ORGANIZATION_TYPE_Religion' 'ORGANIZATION_TYPE_Restaurant'\n",
            " 'ORGANIZATION_TYPE_School' 'ORGANIZATION_TYPE_Security'\n",
            " 'ORGANIZATION_TYPE_Security Ministries' 'ORGANIZATION_TYPE_Self-employed'\n",
            " 'ORGANIZATION_TYPE_Services' 'ORGANIZATION_TYPE_Telecom'\n",
            " 'ORGANIZATION_TYPE_Trade: type 1' 'ORGANIZATION_TYPE_Trade: type 2'\n",
            " 'ORGANIZATION_TYPE_Trade: type 3' 'ORGANIZATION_TYPE_Trade: type 4'\n",
            " 'ORGANIZATION_TYPE_Trade: type 5' 'ORGANIZATION_TYPE_Trade: type 6'\n",
            " 'ORGANIZATION_TYPE_Trade: type 7' 'ORGANIZATION_TYPE_Transport: type 1'\n",
            " 'ORGANIZATION_TYPE_Transport: type 2'\n",
            " 'ORGANIZATION_TYPE_Transport: type 3'\n",
            " 'ORGANIZATION_TYPE_Transport: type 4' 'ORGANIZATION_TYPE_University'\n",
            " 'ORGANIZATION_TYPE_XNA' 'ORGANIZATION_TYPE_nan'\n",
            " 'FONDKAPREMONT_MODE_not specified' 'FONDKAPREMONT_MODE_org spec account'\n",
            " 'FONDKAPREMONT_MODE_reg oper account'\n",
            " 'FONDKAPREMONT_MODE_reg oper spec account' 'FONDKAPREMONT_MODE_nan'\n",
            " 'HOUSETYPE_MODE_house_type_reported' 'HOUSETYPE_MODE_nan'\n",
            " 'WALLSMATERIAL_MODE_Block' 'WALLSMATERIAL_MODE_Mixed'\n",
            " 'WALLSMATERIAL_MODE_Monolithic' 'WALLSMATERIAL_MODE_Others'\n",
            " 'WALLSMATERIAL_MODE_Panel' 'WALLSMATERIAL_MODE_Stone, brick'\n",
            " 'WALLSMATERIAL_MODE_Wooden' 'WALLSMATERIAL_MODE_nan'\n",
            " 'EMERGENCYSTATE_MODE_No' 'EMERGENCYSTATE_MODE_Yes'\n",
            " 'EMERGENCYSTATE_MODE_nan' 'NEW_REVOLVING_LOANS_0.0'\n",
            " 'NEW_REVOLVING_LOANS_1.0' 'NEW_REVOLVING_LOANS_nan' 'NEW_HAS_CAR_0.0'\n",
            " 'NEW_HAS_CAR_1.0' 'NEW_HAS_CAR_nan' 'NEW_RENT_EXPENSE_0.0'\n",
            " 'NEW_RENT_EXPENSE_1.0' 'NEW_RENT_EXPENSE_nan' 'NEW_HAS_COMPANY_0.0'\n",
            " 'NEW_HAS_COMPANY_1.0' 'NEW_HAS_COMPANY_nan' 'NEW_LABORERS_0.0'\n",
            " 'NEW_LABORERS_1.0' 'NEW_LABORERS_nan' 'NEW_AGE_SEGMENT_MİDDLE'\n",
            " 'NEW_AGE_SEGMENT_OLD' 'NEW_AGE_SEGMENT_YOUNG' 'NEW_AGE_SEGMENT_nan'\n",
            " 'BURO_DAYS_CREDIT_MIN' 'BURO_DAYS_CREDIT_MAX' 'BURO_DAYS_CREDIT_MEAN'\n",
            " 'BURO_DAYS_CREDIT_VAR' 'BURO_DAYS_CREDIT_ENDDATE_MIN'\n",
            " 'BURO_DAYS_CREDIT_ENDDATE_MAX' 'BURO_DAYS_CREDIT_ENDDATE_MEAN'\n",
            " 'BURO_DAYS_CREDIT_UPDATE_MEAN' 'BURO_CREDIT_DAY_OVERDUE_MAX'\n",
            " 'BURO_CREDIT_DAY_OVERDUE_MEAN' 'BURO_AMT_CREDIT_MAX_OVERDUE_MEAN'\n",
            " 'BURO_AMT_CREDIT_SUM_MAX' 'BURO_AMT_CREDIT_SUM_MEAN'\n",
            " 'BURO_AMT_CREDIT_SUM_SUM' 'BURO_AMT_CREDIT_SUM_DEBT_MAX'\n",
            " 'BURO_AMT_CREDIT_SUM_DEBT_MEAN' 'BURO_AMT_CREDIT_SUM_DEBT_SUM'\n",
            " 'BURO_AMT_CREDIT_SUM_OVERDUE_MEAN' 'BURO_AMT_CREDIT_SUM_LIMIT_MEAN'\n",
            " 'BURO_AMT_CREDIT_SUM_LIMIT_SUM' 'BURO_AMT_ANNUITY_MAX'\n",
            " 'BURO_AMT_ANNUITY_MEAN' 'BURO_CNT_CREDIT_PROLONG_SUM'\n",
            " 'BURO_MONTHS_BALANCE_MIN_MIN' 'BURO_MONTHS_BALANCE_MAX_MAX'\n",
            " 'BURO_MONTHS_BALANCE_SIZE_MEAN' 'BURO_MONTHS_BALANCE_SIZE_SUM'\n",
            " 'BURO_CREDIT_ACTIVE_Active_Count_MEAN'\n",
            " 'BURO_CREDIT_ACTIVE_Closed_Count_MEAN'\n",
            " 'BURO_CREDIT_ACTIVE_Active_ratio_MEAN' 'BURO_NEW_EARLY_ACTİVE_MEAN'\n",
            " 'BURO_NEW_EARLY_CLOSED_MEAN' 'BURO_NEW_BUREAU_LOAN_TYPES_MEAN'\n",
            " 'BURO_NEW_DEPT_RATİO_MAX' 'BURO_NEW_DEPT_RATİO_MEAN'\n",
            " 'BURO_NEW_AMT_ANNUITY_RATİO_MAX' 'BURO_NEW_AMT_ANNUITY_RATİO_MEAN'\n",
            " 'BURO_STATUS_0_MEAN_MEAN' 'BURO_STATUS_1_MEAN_MEAN'\n",
            " 'BURO_STATUS_2_MEAN_MEAN' 'BURO_STATUS_3_MEAN_MEAN'\n",
            " 'BURO_STATUS_4_MEAN_MEAN' 'BURO_STATUS_5_MEAN_MEAN'\n",
            " 'BURO_STATUS_C_MEAN_MEAN' 'BURO_STATUS_X_MEAN_MEAN'\n",
            " 'BURO_STATUS_nan_MEAN_MEAN' 'BURO_NEW_FLAG_0_MEAN_MEAN'\n",
            " 'BURO_NEW_FLAG_1_MEAN_MEAN' 'BURO_NEW_FLAG_nan_MEAN_MEAN'\n",
            " 'BURO_CREDIT_ACTIVE_Active_MEAN' 'BURO_CREDIT_ACTIVE_Bad debt_MEAN'\n",
            " 'BURO_CREDIT_ACTIVE_Closed_MEAN' 'BURO_CREDIT_ACTIVE_Sold_MEAN'\n",
            " 'BURO_CREDIT_ACTIVE_nan_MEAN' 'BURO_CREDIT_TYPE_Car loan_MEAN'\n",
            " 'BURO_CREDIT_TYPE_Consumer credit_MEAN'\n",
            " 'BURO_CREDIT_TYPE_Credit card_MEAN' 'BURO_CREDIT_TYPE_Microloan_MEAN'\n",
            " 'BURO_CREDIT_TYPE_Mortgage_MEAN' 'BURO_CREDIT_TYPE_others_MEAN'\n",
            " 'BURO_CREDIT_TYPE_nan_MEAN' 'BURO_NEWS_DAYS_CREDIT_UPDATE_new_MEAN'\n",
            " 'BURO_NEWS_DAYS_CREDIT_UPDATE_old_MEAN'\n",
            " 'BURO_NEWS_DAYS_CREDIT_UPDATE_nan_MEAN' 'ACTIVE_SK_ID_CURR_'\n",
            " 'ACTIVE_DAYS_CREDIT_MIN' 'ACTIVE_DAYS_CREDIT_MAX'\n",
            " 'ACTIVE_DAYS_CREDIT_MEAN' 'ACTIVE_DAYS_CREDIT_VAR'\n",
            " 'ACTIVE_DAYS_CREDIT_ENDDATE_MIN' 'ACTIVE_DAYS_CREDIT_ENDDATE_MAX'\n",
            " 'ACTIVE_DAYS_CREDIT_ENDDATE_MEAN' 'ACTIVE_DAYS_CREDIT_UPDATE_MEAN'\n",
            " 'ACTIVE_CREDIT_DAY_OVERDUE_MAX' 'ACTIVE_CREDIT_DAY_OVERDUE_MEAN'\n",
            " 'ACTIVE_AMT_CREDIT_MAX_OVERDUE_MEAN' 'ACTIVE_AMT_CREDIT_SUM_MAX'\n",
            " 'ACTIVE_AMT_CREDIT_SUM_MEAN' 'ACTIVE_AMT_CREDIT_SUM_SUM'\n",
            " 'ACTIVE_AMT_CREDIT_SUM_DEBT_MAX' 'ACTIVE_AMT_CREDIT_SUM_DEBT_MEAN'\n",
            " 'ACTIVE_AMT_CREDIT_SUM_DEBT_SUM' 'ACTIVE_AMT_CREDIT_SUM_OVERDUE_MEAN'\n",
            " 'ACTIVE_AMT_CREDIT_SUM_LIMIT_MEAN' 'ACTIVE_AMT_CREDIT_SUM_LIMIT_SUM'\n",
            " 'ACTIVE_AMT_ANNUITY_MAX' 'ACTIVE_AMT_ANNUITY_MEAN'\n",
            " 'ACTIVE_CNT_CREDIT_PROLONG_SUM' 'ACTIVE_MONTHS_BALANCE_MIN_MIN'\n",
            " 'ACTIVE_MONTHS_BALANCE_MAX_MAX' 'ACTIVE_MONTHS_BALANCE_SIZE_MEAN'\n",
            " 'ACTIVE_MONTHS_BALANCE_SIZE_SUM' 'ACTIVE_CREDIT_ACTIVE_Active_Count_MEAN'\n",
            " 'ACTIVE_CREDIT_ACTIVE_Closed_Count_MEAN'\n",
            " 'ACTIVE_CREDIT_ACTIVE_Active_ratio_MEAN' 'ACTIVE_NEW_EARLY_ACTİVE_MEAN'\n",
            " 'ACTIVE_NEW_EARLY_CLOSED_MEAN' 'ACTIVE_NEW_BUREAU_LOAN_TYPES_MEAN'\n",
            " 'ACTIVE_NEW_DEPT_RATİO_MAX' 'ACTIVE_NEW_DEPT_RATİO_MEAN'\n",
            " 'ACTIVE_NEW_AMT_ANNUITY_RATİO_MAX' 'ACTIVE_NEW_AMT_ANNUITY_RATİO_MEAN'\n",
            " 'ACTIVE_STATUS_0_MEAN_MEAN' 'ACTIVE_STATUS_1_MEAN_MEAN'\n",
            " 'ACTIVE_STATUS_2_MEAN_MEAN' 'ACTIVE_STATUS_3_MEAN_MEAN'\n",
            " 'ACTIVE_STATUS_4_MEAN_MEAN' 'ACTIVE_STATUS_5_MEAN_MEAN'\n",
            " 'ACTIVE_STATUS_C_MEAN_MEAN' 'ACTIVE_STATUS_X_MEAN_MEAN'\n",
            " 'ACTIVE_STATUS_nan_MEAN_MEAN' 'ACTIVE_NEW_FLAG_0_MEAN_MEAN'\n",
            " 'ACTIVE_NEW_FLAG_1_MEAN_MEAN' 'ACTIVE_NEW_FLAG_nan_MEAN_MEAN'\n",
            " 'CLOSED_DAYS_CREDIT_MIN' 'CLOSED_DAYS_CREDIT_MAX'\n",
            " 'CLOSED_DAYS_CREDIT_MEAN' 'CLOSED_DAYS_CREDIT_VAR'\n",
            " 'CLOSED_DAYS_CREDIT_ENDDATE_MIN' 'CLOSED_DAYS_CREDIT_ENDDATE_MAX'\n",
            " 'CLOSED_DAYS_CREDIT_ENDDATE_MEAN' 'CLOSED_DAYS_CREDIT_UPDATE_MEAN'\n",
            " 'CLOSED_CREDIT_DAY_OVERDUE_MAX' 'CLOSED_CREDIT_DAY_OVERDUE_MEAN'\n",
            " 'CLOSED_AMT_CREDIT_MAX_OVERDUE_MEAN' 'CLOSED_AMT_CREDIT_SUM_MAX'\n",
            " 'CLOSED_AMT_CREDIT_SUM_MEAN' 'CLOSED_AMT_CREDIT_SUM_SUM'\n",
            " 'CLOSED_AMT_CREDIT_SUM_DEBT_MAX' 'CLOSED_AMT_CREDIT_SUM_DEBT_MEAN'\n",
            " 'CLOSED_AMT_CREDIT_SUM_DEBT_SUM' 'CLOSED_AMT_CREDIT_SUM_OVERDUE_MEAN'\n",
            " 'CLOSED_AMT_CREDIT_SUM_LIMIT_MEAN' 'CLOSED_AMT_CREDIT_SUM_LIMIT_SUM'\n",
            " 'CLOSED_AMT_ANNUITY_MAX' 'CLOSED_AMT_ANNUITY_MEAN'\n",
            " 'CLOSED_CNT_CREDIT_PROLONG_SUM' 'CLOSED_MONTHS_BALANCE_MIN_MIN'\n",
            " 'CLOSED_MONTHS_BALANCE_MAX_MAX' 'CLOSED_MONTHS_BALANCE_SIZE_MEAN'\n",
            " 'CLOSED_MONTHS_BALANCE_SIZE_SUM' 'CLOSED_CREDIT_ACTIVE_Active_Count_MEAN'\n",
            " 'CLOSED_CREDIT_ACTIVE_Closed_Count_MEAN'\n",
            " 'CLOSED_CREDIT_ACTIVE_Active_ratio_MEAN' 'CLOSED_NEW_EARLY_ACTİVE_MEAN'\n",
            " 'CLOSED_NEW_EARLY_CLOSED_MEAN' 'CLOSED_NEW_BUREAU_LOAN_TYPES_MEAN'\n",
            " 'CLOSED_NEW_DEPT_RATİO_MAX' 'CLOSED_NEW_DEPT_RATİO_MEAN'\n",
            " 'CLOSED_NEW_AMT_ANNUITY_RATİO_MAX' 'CLOSED_NEW_AMT_ANNUITY_RATİO_MEAN'\n",
            " 'CLOSED_STATUS_0_MEAN_MEAN' 'CLOSED_STATUS_1_MEAN_MEAN'\n",
            " 'CLOSED_STATUS_2_MEAN_MEAN' 'CLOSED_STATUS_3_MEAN_MEAN'\n",
            " 'CLOSED_STATUS_4_MEAN_MEAN' 'CLOSED_STATUS_5_MEAN_MEAN'\n",
            " 'CLOSED_STATUS_C_MEAN_MEAN' 'CLOSED_STATUS_X_MEAN_MEAN'\n",
            " 'CLOSED_STATUS_nan_MEAN_MEAN' 'CLOSED_NEW_FLAG_0_MEAN_MEAN'\n",
            " 'CLOSED_NEW_FLAG_1_MEAN_MEAN' 'CLOSED_NEW_FLAG_nan_MEAN_MEAN'\n",
            " 'PREV_AMT_ANNUITY_MIN' 'PREV_AMT_ANNUITY_MAX' 'PREV_AMT_ANNUITY_MEAN'\n",
            " 'PREV_AMT_ANNUITY_MEDIAN' 'PREV_AMT_APPLICATION_MIN'\n",
            " 'PREV_AMT_APPLICATION_MAX' 'PREV_AMT_APPLICATION_MEAN'\n",
            " 'PREV_AMT_APPLICATION_MEDIAN' 'PREV_AMT_CREDIT_MIN' 'PREV_AMT_CREDIT_MAX'\n",
            " 'PREV_AMT_CREDIT_MEAN' 'PREV_AMT_CREDIT_MEDIAN'\n",
            " 'PREV_AMT_DOWN_PAYMENT_MIN' 'PREV_AMT_DOWN_PAYMENT_MAX'\n",
            " 'PREV_AMT_DOWN_PAYMENT_MEAN' 'PREV_AMT_DOWN_PAYMENT_MEDIAN'\n",
            " 'PREV_AMT_GOODS_PRICE_MIN' 'PREV_AMT_GOODS_PRICE_MAX'\n",
            " 'PREV_AMT_GOODS_PRICE_MEAN' 'PREV_AMT_GOODS_PRICE_MEDIAN'\n",
            " 'PREV_RATE_DOWN_PAYMENT_MIN' 'PREV_RATE_DOWN_PAYMENT_MAX'\n",
            " 'PREV_RATE_DOWN_PAYMENT_MEAN' 'PREV_RATE_DOWN_PAYMENT_MEDIAN'\n",
            " 'PREV_DAYS_DECISION_MIN' 'PREV_DAYS_DECISION_MAX'\n",
            " 'PREV_DAYS_DECISION_MEAN' 'PREV_DAYS_DECISION_MEDIAN'\n",
            " 'PREV_CNT_PAYMENT_MIN' 'PREV_CNT_PAYMENT_MAX' 'PREV_CNT_PAYMENT_MEAN'\n",
            " 'PREV_CNT_PAYMENT_MEDIAN' 'PREV_NEW_APP_CREDIT_RATIO_MIN'\n",
            " 'PREV_NEW_APP_CREDIT_RATIO_MAX' 'PREV_NEW_APP_CREDIT_RATIO_MEAN'\n",
            " 'PREV_NEW_APP_CREDIT_RATIO_MEDIAN' 'PREV_NEW_ANNUITY_CREDIT_RATIO_MIN'\n",
            " 'PREV_NEW_ANNUITY_CREDIT_RATIO_MAX' 'PREV_NEW_ANNUITY_CREDIT_RATIO_MEAN'\n",
            " 'PREV_NEW_ANNUITY_CREDIT_RATIO_MEDIAN' 'PREV_NEW_CREDIT_GOODS_RATIO_MIN'\n",
            " 'PREV_NEW_CREDIT_GOODS_RATIO_MAX' 'PREV_NEW_CREDIT_GOODS_RATIO_MEAN'\n",
            " 'PREV_NEW_CREDIT_GOODS_RATIO_MEDIAN' 'PREV_NEW_AMT_INTEREST_MIN'\n",
            " 'PREV_NEW_AMT_INTEREST_MAX' 'PREV_NEW_AMT_INTEREST_MEAN'\n",
            " 'PREV_NEW_AMT_INTEREST_MEDIAN' 'PREV_NEW_INTEREST_RATIO_MIN'\n",
            " 'PREV_NEW_INTEREST_RATIO_MAX' 'PREV_NEW_INTEREST_RATIO_MEAN'\n",
            " 'PREV_NEW_INTEREST_RATIO_MEDIAN' 'PREV_NEW_AMT_NEEDED_CREDIT_RATIO_MIN'\n",
            " 'PREV_NEW_AMT_NEEDED_CREDIT_RATIO_MAX'\n",
            " 'PREV_NEW_AMT_NEEDED_CREDIT_RATIO_MEAN'\n",
            " 'PREV_NEW_AMT_NEEDED_CREDIT_RATIO_MEDIAN' 'PREV_NEW_WEEKDAY_SIN_MIN'\n",
            " 'PREV_NEW_WEEKDAY_SIN_MAX' 'PREV_NEW_WEEKDAY_SIN_MEAN'\n",
            " 'PREV_NEW_WEEKDAY_SIN_MEDIAN' 'PREV_NEW_WEEKDAY_COS_MIN'\n",
            " 'PREV_NEW_WEEKDAY_COS_MAX' 'PREV_NEW_WEEKDAY_COS_MEAN'\n",
            " 'PREV_NEW_WEEKDAY_COS_MEDIAN' 'PREV_NAME_CONTRACT_TYPE_Cash loans_MEAN'\n",
            " 'PREV_NAME_CONTRACT_TYPE_Consumer loans_MEAN'\n",
            " 'PREV_NAME_CONTRACT_TYPE_Revolving loans_MEAN'\n",
            " 'PREV_NAME_CONTRACT_TYPE_nan_MEAN'\n",
            " 'PREV_NAME_CONTRACT_STATUS_Approved_MEAN'\n",
            " 'PREV_NAME_CONTRACT_STATUS_Canceled_MEAN'\n",
            " 'PREV_NAME_CONTRACT_STATUS_Refused_MEAN'\n",
            " 'PREV_NAME_CONTRACT_STATUS_Unused offer_MEAN'\n",
            " 'PREV_NAME_CONTRACT_STATUS_nan_MEAN'\n",
            " 'PREV_NAME_PAYMENT_TYPE_Clothing_MEAN'\n",
            " 'PREV_NAME_PAYMENT_TYPE_Connectivity_MEAN'\n",
            " 'PREV_NAME_PAYMENT_TYPE_Construction_MEAN'\n",
            " 'PREV_NAME_PAYMENT_TYPE_Consumer electronics_MEAN'\n",
            " 'PREV_NAME_PAYMENT_TYPE_Furniture_MEAN'\n",
            " 'PREV_NAME_PAYMENT_TYPE_Industry_MEAN'\n",
            " 'PREV_NAME_PAYMENT_TYPE_Others_MEAN' 'PREV_NAME_PAYMENT_TYPE_nan_MEAN'\n",
            " 'PREV_NAME_CLIENT_TYPE_New_MEAN' 'PREV_NAME_CLIENT_TYPE_Refreshed_MEAN'\n",
            " 'PREV_NAME_CLIENT_TYPE_Repeater_MEAN' 'PREV_NAME_CLIENT_TYPE_nan_MEAN'\n",
            " 'PREV_NAME_GOODS_CATEGORY_Audio/Video_MEAN'\n",
            " 'PREV_NAME_GOODS_CATEGORY_Clothing and Accessories_MEAN'\n",
            " 'PREV_NAME_GOODS_CATEGORY_Computers_MEAN'\n",
            " 'PREV_NAME_GOODS_CATEGORY_Construction Materials_MEAN'\n",
            " 'PREV_NAME_GOODS_CATEGORY_Consumer Electronics_MEAN'\n",
            " 'PREV_NAME_GOODS_CATEGORY_Furniture_MEAN'\n",
            " 'PREV_NAME_GOODS_CATEGORY_Mobile_MEAN'\n",
            " 'PREV_NAME_GOODS_CATEGORY_Photo / Cinema Equipment_MEAN'\n",
            " 'PREV_NAME_GOODS_CATEGORY_others_MEAN'\n",
            " 'PREV_NAME_GOODS_CATEGORY_nan_MEAN' 'PREV_NAME_PORTFOLIO_Cards_MEAN'\n",
            " 'PREV_NAME_PORTFOLIO_Cars_MEAN' 'PREV_NAME_PORTFOLIO_Cash_MEAN'\n",
            " 'PREV_NAME_PORTFOLIO_POS_MEAN' 'PREV_NAME_PORTFOLIO_nan_MEAN'\n",
            " 'PREV_NAME_PRODUCT_TYPE_walk-in_MEAN'\n",
            " 'PREV_NAME_PRODUCT_TYPE_x-sell_MEAN' 'PREV_NAME_PRODUCT_TYPE_nan_MEAN'\n",
            " 'PREV_CHANNEL_TYPE_AP+ (Cash loan)_MEAN'\n",
            " 'PREV_CHANNEL_TYPE_Contact center_MEAN'\n",
            " 'PREV_CHANNEL_TYPE_Country-wide_MEAN'\n",
            " 'PREV_CHANNEL_TYPE_Credit and cash offices_MEAN'\n",
            " 'PREV_CHANNEL_TYPE_Other_Channel_MEAN'\n",
            " 'PREV_CHANNEL_TYPE_Regional / Local_MEAN' 'PREV_CHANNEL_TYPE_Stone_MEAN'\n",
            " 'PREV_CHANNEL_TYPE_nan_MEAN' 'PREV_NAME_SELLER_INDUSTRY_Clothing_MEAN'\n",
            " 'PREV_NAME_SELLER_INDUSTRY_Connectivity_MEAN'\n",
            " 'PREV_NAME_SELLER_INDUSTRY_Construction_MEAN'\n",
            " 'PREV_NAME_SELLER_INDUSTRY_Consumer electronics_MEAN'\n",
            " 'PREV_NAME_SELLER_INDUSTRY_Furniture_MEAN'\n",
            " 'PREV_NAME_SELLER_INDUSTRY_Industry_MEAN'\n",
            " 'PREV_NAME_SELLER_INDUSTRY_Others_MEAN'\n",
            " 'PREV_NAME_SELLER_INDUSTRY_nan_MEAN' 'PREV_NAME_YIELD_GROUP_high_MEAN'\n",
            " 'PREV_NAME_YIELD_GROUP_low_action_MEAN'\n",
            " 'PREV_NAME_YIELD_GROUP_low_normal_MEAN'\n",
            " 'PREV_NAME_YIELD_GROUP_middle_MEAN' 'PREV_NAME_YIELD_GROUP_nan_MEAN'\n",
            " 'PREV_PRODUCT_COMBINATION_Card Street_MEAN'\n",
            " 'PREV_PRODUCT_COMBINATION_Card X-Sell_MEAN'\n",
            " 'PREV_PRODUCT_COMBINATION_Cash_MEAN'\n",
            " 'PREV_PRODUCT_COMBINATION_Cash Street: high_MEAN'\n",
            " 'PREV_PRODUCT_COMBINATION_Cash Street: low_MEAN'\n",
            " 'PREV_PRODUCT_COMBINATION_Cash Street: middle_MEAN'\n",
            " 'PREV_PRODUCT_COMBINATION_Cash X-Sell: high_MEAN'\n",
            " 'PREV_PRODUCT_COMBINATION_Cash X-Sell: low_MEAN'\n",
            " 'PREV_PRODUCT_COMBINATION_Cash X-Sell: middle_MEAN'\n",
            " 'PREV_PRODUCT_COMBINATION_POS household with interest_MEAN'\n",
            " 'PREV_PRODUCT_COMBINATION_POS household without interest_MEAN'\n",
            " 'PREV_PRODUCT_COMBINATION_POS industry with interest_MEAN'\n",
            " 'PREV_PRODUCT_COMBINATION_POS industry without interest_MEAN'\n",
            " 'PREV_PRODUCT_COMBINATION_POS mobile with interest_MEAN'\n",
            " 'PREV_PRODUCT_COMBINATION_POS mobile without interest_MEAN'\n",
            " 'PREV_PRODUCT_COMBINATION_POS other with interest_MEAN'\n",
            " 'PREV_PRODUCT_COMBINATION_POS others without interest_MEAN'\n",
            " 'PREV_PRODUCT_COMBINATION_nan_MEAN'\n",
            " 'PREV_NEW_APP_DAY_TIME_afternoon_MEAN'\n",
            " 'PREV_NEW_APP_DAY_TIME_evening_MEAN' 'PREV_NEW_APP_DAY_TIME_morning_MEAN'\n",
            " 'PREV_NEW_APP_DAY_TIME_night_MEAN' 'PREV_NEW_APP_DAY_TIME_nan_MEAN'\n",
            " 'PREV_NFLAG_INSURED_ON_APPROVAL_MEAN' 'PREV_NEW_X_SELL_APPROVED_MEAN'\n",
            " 'PREV_NEW_WALK_IN_APPROVED_MEAN' 'PREV_NEW_REPEATER_APPROVED_MEAN'\n",
            " 'PREV_NEW_NEWCUST_APPROVED_MEAN' 'PREV_NEW_REFRESHED_APPROVED_MEAN'\n",
            " 'PREV_NEW_CARDS_APPROVED_MEAN' 'PREV_NEW_CASH_APPROVED_MEAN'\n",
            " 'PREV_NEW_POS_APPROVED_MEAN' 'PREV_NEW_HIGH_APPROVED_MEAN'\n",
            " 'PREV_NEW_MIDDLE_APPROVED_MEAN' 'PREV_NEW_LOWACTION_APPROVED_MEAN'\n",
            " 'PREV_NEW_LOWNORMAL_APPROVED_MEAN' 'PREV_NEW_ACCOMPANIED_MEAN'\n",
            " 'PREV_NEW_CREDIT_GOODS_RISK_MEAN' 'PREV_NEW_RISK_APPROVED_MEAN'\n",
            " 'PREV_NEW_NONRISK_APPROVED_MEAN' 'PREV_APPROVED_AMT_ANNUITY_MIN'\n",
            " 'PREV_APPROVED_AMT_ANNUITY_MAX' 'PREV_APPROVED_AMT_ANNUITY_MEAN'\n",
            " 'PREV_APPROVED_AMT_ANNUITY_MEDIAN' 'PREV_APPROVED_AMT_APPLICATION_MIN'\n",
            " 'PREV_APPROVED_AMT_APPLICATION_MAX' 'PREV_APPROVED_AMT_APPLICATION_MEAN'\n",
            " 'PREV_APPROVED_AMT_APPLICATION_MEDIAN' 'PREV_APPROVED_AMT_CREDIT_MIN'\n",
            " 'PREV_APPROVED_AMT_CREDIT_MAX' 'PREV_APPROVED_AMT_CREDIT_MEAN'\n",
            " 'PREV_APPROVED_AMT_CREDIT_MEDIAN' 'PREV_APPROVED_AMT_DOWN_PAYMENT_MIN'\n",
            " 'PREV_APPROVED_AMT_DOWN_PAYMENT_MAX'\n",
            " 'PREV_APPROVED_AMT_DOWN_PAYMENT_MEAN'\n",
            " 'PREV_APPROVED_AMT_DOWN_PAYMENT_MEDIAN'\n",
            " 'PREV_APPROVED_AMT_GOODS_PRICE_MIN' 'PREV_APPROVED_AMT_GOODS_PRICE_MAX'\n",
            " 'PREV_APPROVED_AMT_GOODS_PRICE_MEAN'\n",
            " 'PREV_APPROVED_AMT_GOODS_PRICE_MEDIAN'\n",
            " 'PREV_APPROVED_RATE_DOWN_PAYMENT_MIN'\n",
            " 'PREV_APPROVED_RATE_DOWN_PAYMENT_MAX'\n",
            " 'PREV_APPROVED_RATE_DOWN_PAYMENT_MEAN'\n",
            " 'PREV_APPROVED_RATE_DOWN_PAYMENT_MEDIAN'\n",
            " 'PREV_APPROVED_DAYS_DECISION_MIN' 'PREV_APPROVED_DAYS_DECISION_MAX'\n",
            " 'PREV_APPROVED_DAYS_DECISION_MEAN' 'PREV_APPROVED_DAYS_DECISION_MEDIAN'\n",
            " 'PREV_APPROVED_CNT_PAYMENT_MIN' 'PREV_APPROVED_CNT_PAYMENT_MAX'\n",
            " 'PREV_APPROVED_CNT_PAYMENT_MEAN' 'PREV_APPROVED_CNT_PAYMENT_MEDIAN'\n",
            " 'PREV_APPROVED_NEW_APP_CREDIT_RATIO_MIN'\n",
            " 'PREV_APPROVED_NEW_APP_CREDIT_RATIO_MAX'\n",
            " 'PREV_APPROVED_NEW_APP_CREDIT_RATIO_MEAN'\n",
            " 'PREV_APPROVED_NEW_APP_CREDIT_RATIO_MEDIAN'\n",
            " 'PREV_APPROVED_NEW_ANNUITY_CREDIT_RATIO_MIN'\n",
            " 'PREV_APPROVED_NEW_ANNUITY_CREDIT_RATIO_MAX'\n",
            " 'PREV_APPROVED_NEW_ANNUITY_CREDIT_RATIO_MEAN'\n",
            " 'PREV_APPROVED_NEW_ANNUITY_CREDIT_RATIO_MEDIAN'\n",
            " 'PREV_APPROVED_NEW_CREDIT_GOODS_RATIO_MIN'\n",
            " 'PREV_APPROVED_NEW_CREDIT_GOODS_RATIO_MAX'\n",
            " 'PREV_APPROVED_NEW_CREDIT_GOODS_RATIO_MEAN'\n",
            " 'PREV_APPROVED_NEW_CREDIT_GOODS_RATIO_MEDIAN'\n",
            " 'PREV_APPROVED_NEW_AMT_INTEREST_MIN' 'PREV_APPROVED_NEW_AMT_INTEREST_MAX'\n",
            " 'PREV_APPROVED_NEW_AMT_INTEREST_MEAN'\n",
            " 'PREV_APPROVED_NEW_AMT_INTEREST_MEDIAN'\n",
            " 'PREV_APPROVED_NEW_INTEREST_RATIO_MIN'\n",
            " 'PREV_APPROVED_NEW_INTEREST_RATIO_MAX'\n",
            " 'PREV_APPROVED_NEW_INTEREST_RATIO_MEAN'\n",
            " 'PREV_APPROVED_NEW_INTEREST_RATIO_MEDIAN'\n",
            " 'PREV_APPROVED_NEW_AMT_NEEDED_CREDIT_RATIO_MIN'\n",
            " 'PREV_APPROVED_NEW_AMT_NEEDED_CREDIT_RATIO_MAX'\n",
            " 'PREV_APPROVED_NEW_AMT_NEEDED_CREDIT_RATIO_MEAN'\n",
            " 'PREV_APPROVED_NEW_AMT_NEEDED_CREDIT_RATIO_MEDIAN'\n",
            " 'PREV_APPROVED_NEW_WEEKDAY_SIN_MIN' 'PREV_APPROVED_NEW_WEEKDAY_SIN_MAX'\n",
            " 'PREV_APPROVED_NEW_WEEKDAY_SIN_MEAN'\n",
            " 'PREV_APPROVED_NEW_WEEKDAY_SIN_MEDIAN'\n",
            " 'PREV_APPROVED_NEW_WEEKDAY_COS_MIN' 'PREV_APPROVED_NEW_WEEKDAY_COS_MAX'\n",
            " 'PREV_APPROVED_NEW_WEEKDAY_COS_MEAN'\n",
            " 'PREV_APPROVED_NEW_WEEKDAY_COS_MEDIAN' 'PREV_REFUSED_AMT_ANNUITY_MIN'\n",
            " 'PREV_REFUSED_AMT_ANNUITY_MAX' 'PREV_REFUSED_AMT_ANNUITY_MEAN'\n",
            " 'PREV_REFUSED_AMT_ANNUITY_MEDIAN' 'PREV_REFUSED_AMT_APPLICATION_MIN'\n",
            " 'PREV_REFUSED_AMT_APPLICATION_MAX' 'PREV_REFUSED_AMT_APPLICATION_MEAN'\n",
            " 'PREV_REFUSED_AMT_APPLICATION_MEDIAN' 'PREV_REFUSED_AMT_CREDIT_MIN'\n",
            " 'PREV_REFUSED_AMT_CREDIT_MAX' 'PREV_REFUSED_AMT_CREDIT_MEAN'\n",
            " 'PREV_REFUSED_AMT_CREDIT_MEDIAN' 'PREV_REFUSED_AMT_DOWN_PAYMENT_MIN'\n",
            " 'PREV_REFUSED_AMT_DOWN_PAYMENT_MAX' 'PREV_REFUSED_AMT_DOWN_PAYMENT_MEAN'\n",
            " 'PREV_REFUSED_AMT_DOWN_PAYMENT_MEDIAN' 'PREV_REFUSED_AMT_GOODS_PRICE_MIN'\n",
            " 'PREV_REFUSED_AMT_GOODS_PRICE_MAX' 'PREV_REFUSED_AMT_GOODS_PRICE_MEAN'\n",
            " 'PREV_REFUSED_AMT_GOODS_PRICE_MEDIAN'\n",
            " 'PREV_REFUSED_RATE_DOWN_PAYMENT_MIN' 'PREV_REFUSED_RATE_DOWN_PAYMENT_MAX'\n",
            " 'PREV_REFUSED_RATE_DOWN_PAYMENT_MEAN'\n",
            " 'PREV_REFUSED_RATE_DOWN_PAYMENT_MEDIAN' 'PREV_REFUSED_DAYS_DECISION_MIN'\n",
            " 'PREV_REFUSED_DAYS_DECISION_MAX' 'PREV_REFUSED_DAYS_DECISION_MEAN'\n",
            " 'PREV_REFUSED_DAYS_DECISION_MEDIAN' 'PREV_REFUSED_CNT_PAYMENT_MIN'\n",
            " 'PREV_REFUSED_CNT_PAYMENT_MAX' 'PREV_REFUSED_CNT_PAYMENT_MEAN'\n",
            " 'PREV_REFUSED_CNT_PAYMENT_MEDIAN' 'PREV_REFUSED_NEW_APP_CREDIT_RATIO_MIN'\n",
            " 'PREV_REFUSED_NEW_APP_CREDIT_RATIO_MAX'\n",
            " 'PREV_REFUSED_NEW_APP_CREDIT_RATIO_MEAN'\n",
            " 'PREV_REFUSED_NEW_APP_CREDIT_RATIO_MEDIAN'\n",
            " 'PREV_REFUSED_NEW_ANNUITY_CREDIT_RATIO_MIN'\n",
            " 'PREV_REFUSED_NEW_ANNUITY_CREDIT_RATIO_MAX'\n",
            " 'PREV_REFUSED_NEW_ANNUITY_CREDIT_RATIO_MEAN'\n",
            " 'PREV_REFUSED_NEW_ANNUITY_CREDIT_RATIO_MEDIAN'\n",
            " 'PREV_REFUSED_NEW_CREDIT_GOODS_RATIO_MIN'\n",
            " 'PREV_REFUSED_NEW_CREDIT_GOODS_RATIO_MAX'\n",
            " 'PREV_REFUSED_NEW_CREDIT_GOODS_RATIO_MEAN'\n",
            " 'PREV_REFUSED_NEW_CREDIT_GOODS_RATIO_MEDIAN'\n",
            " 'PREV_REFUSED_NEW_AMT_INTEREST_MIN' 'PREV_REFUSED_NEW_AMT_INTEREST_MAX'\n",
            " 'PREV_REFUSED_NEW_AMT_INTEREST_MEAN'\n",
            " 'PREV_REFUSED_NEW_AMT_INTEREST_MEDIAN'\n",
            " 'PREV_REFUSED_NEW_INTEREST_RATIO_MIN'\n",
            " 'PREV_REFUSED_NEW_INTEREST_RATIO_MAX'\n",
            " 'PREV_REFUSED_NEW_INTEREST_RATIO_MEAN'\n",
            " 'PREV_REFUSED_NEW_INTEREST_RATIO_MEDIAN'\n",
            " 'PREV_REFUSED_NEW_AMT_NEEDED_CREDIT_RATIO_MIN'\n",
            " 'PREV_REFUSED_NEW_AMT_NEEDED_CREDIT_RATIO_MAX'\n",
            " 'PREV_REFUSED_NEW_AMT_NEEDED_CREDIT_RATIO_MEAN'\n",
            " 'PREV_REFUSED_NEW_AMT_NEEDED_CREDIT_RATIO_MEDIAN'\n",
            " 'PREV_REFUSED_NEW_WEEKDAY_SIN_MIN' 'PREV_REFUSED_NEW_WEEKDAY_SIN_MAX'\n",
            " 'PREV_REFUSED_NEW_WEEKDAY_SIN_MEAN' 'PREV_REFUSED_NEW_WEEKDAY_SIN_MEDIAN'\n",
            " 'PREV_REFUSED_NEW_WEEKDAY_COS_MIN' 'PREV_REFUSED_NEW_WEEKDAY_COS_MAX'\n",
            " 'PREV_REFUSED_NEW_WEEKDAY_COS_MEAN' 'PREV_REFUSED_NEW_WEEKDAY_COS_MEDIAN'\n",
            " 'POS_MONTHS_BALANCE_MAX' 'POS_MONTHS_BALANCE_MEAN'\n",
            " 'POS_MONTHS_BALANCE_SIZE' 'POS_SK_DPD_MAX' 'POS_SK_DPD_MEAN'\n",
            " 'POS_SK_DPD_DEF_MAX' 'POS_SK_DPD_DEF_MEAN'\n",
            " 'POS_NAME_CONTRACT_STATUS_Active_MEAN'\n",
            " 'POS_NAME_CONTRACT_STATUS_Amortized debt_MEAN'\n",
            " 'POS_NAME_CONTRACT_STATUS_Approved_MEAN'\n",
            " 'POS_NAME_CONTRACT_STATUS_Canceled_MEAN'\n",
            " 'POS_NAME_CONTRACT_STATUS_Completed_MEAN'\n",
            " 'POS_NAME_CONTRACT_STATUS_Demand_MEAN'\n",
            " 'POS_NAME_CONTRACT_STATUS_Returned to the store_MEAN'\n",
            " 'POS_NAME_CONTRACT_STATUS_Signed_MEAN'\n",
            " 'POS_NAME_CONTRACT_STATUS_XNA_MEAN' 'POS_NAME_CONTRACT_STATUS_nan_MEAN'\n",
            " 'POS_COUNT' 'INSTAL_NUM_INSTALMENT_VERSION_NUNIQUE' 'INSTAL_DPD_MAX'\n",
            " 'INSTAL_DPD_MEAN' 'INSTAL_DPD_SUM' 'INSTAL_DBD_MAX' 'INSTAL_DBD_MEAN'\n",
            " 'INSTAL_DBD_SUM' 'INSTAL_PAYMENT_PERC_MAX' 'INSTAL_PAYMENT_PERC_MEAN'\n",
            " 'INSTAL_PAYMENT_PERC_SUM' 'INSTAL_PAYMENT_PERC_VAR'\n",
            " 'INSTAL_PAYMENT_DIFF_MAX' 'INSTAL_PAYMENT_DIFF_MEAN'\n",
            " 'INSTAL_PAYMENT_DIFF_SUM' 'INSTAL_PAYMENT_DIFF_VAR'\n",
            " 'INSTAL_AMT_INSTALMENT_MAX' 'INSTAL_AMT_INSTALMENT_MEAN'\n",
            " 'INSTAL_AMT_INSTALMENT_SUM' 'INSTAL_AMT_PAYMENT_MIN'\n",
            " 'INSTAL_AMT_PAYMENT_MAX' 'INSTAL_AMT_PAYMENT_MEAN'\n",
            " 'INSTAL_AMT_PAYMENT_SUM' 'INSTAL_DAYS_ENTRY_PAYMENT_MAX'\n",
            " 'INSTAL_DAYS_ENTRY_PAYMENT_MEAN' 'INSTAL_DAYS_ENTRY_PAYMENT_SUM'\n",
            " 'INSTAL_COUNT' 'CC_MONTHS_BALANCE_MIN' 'CC_MONTHS_BALANCE_MAX'\n",
            " 'CC_MONTHS_BALANCE_MEAN' 'CC_MONTHS_BALANCE_SUM' 'CC_MONTHS_BALANCE_VAR'\n",
            " 'CC_AMT_BALANCE_MIN' 'CC_AMT_BALANCE_MAX' 'CC_AMT_BALANCE_MEAN'\n",
            " 'CC_AMT_BALANCE_SUM' 'CC_AMT_BALANCE_VAR'\n",
            " 'CC_AMT_CREDIT_LIMIT_ACTUAL_MIN' 'CC_AMT_CREDIT_LIMIT_ACTUAL_MAX'\n",
            " 'CC_AMT_CREDIT_LIMIT_ACTUAL_MEAN' 'CC_AMT_CREDIT_LIMIT_ACTUAL_SUM'\n",
            " 'CC_AMT_CREDIT_LIMIT_ACTUAL_VAR' 'CC_AMT_DRAWINGS_ATM_CURRENT_MIN'\n",
            " 'CC_AMT_DRAWINGS_ATM_CURRENT_MAX' 'CC_AMT_DRAWINGS_ATM_CURRENT_MEAN'\n",
            " 'CC_AMT_DRAWINGS_ATM_CURRENT_SUM' 'CC_AMT_DRAWINGS_ATM_CURRENT_VAR'\n",
            " 'CC_AMT_DRAWINGS_CURRENT_MIN' 'CC_AMT_DRAWINGS_CURRENT_MAX'\n",
            " 'CC_AMT_DRAWINGS_CURRENT_MEAN' 'CC_AMT_DRAWINGS_CURRENT_SUM'\n",
            " 'CC_AMT_DRAWINGS_CURRENT_VAR' 'CC_AMT_DRAWINGS_OTHER_CURRENT_MIN'\n",
            " 'CC_AMT_DRAWINGS_OTHER_CURRENT_MAX' 'CC_AMT_DRAWINGS_OTHER_CURRENT_MEAN'\n",
            " 'CC_AMT_DRAWINGS_OTHER_CURRENT_SUM' 'CC_AMT_DRAWINGS_OTHER_CURRENT_VAR'\n",
            " 'CC_AMT_DRAWINGS_POS_CURRENT_MIN' 'CC_AMT_DRAWINGS_POS_CURRENT_MAX'\n",
            " 'CC_AMT_DRAWINGS_POS_CURRENT_MEAN' 'CC_AMT_DRAWINGS_POS_CURRENT_SUM'\n",
            " 'CC_AMT_DRAWINGS_POS_CURRENT_VAR' 'CC_AMT_INST_MIN_REGULARITY_MIN'\n",
            " 'CC_AMT_INST_MIN_REGULARITY_MAX' 'CC_AMT_INST_MIN_REGULARITY_MEAN'\n",
            " 'CC_AMT_INST_MIN_REGULARITY_SUM' 'CC_AMT_INST_MIN_REGULARITY_VAR'\n",
            " 'CC_AMT_PAYMENT_CURRENT_MIN' 'CC_AMT_PAYMENT_CURRENT_MAX'\n",
            " 'CC_AMT_PAYMENT_CURRENT_MEAN' 'CC_AMT_PAYMENT_CURRENT_SUM'\n",
            " 'CC_AMT_PAYMENT_CURRENT_VAR' 'CC_AMT_PAYMENT_TOTAL_CURRENT_MIN'\n",
            " 'CC_AMT_PAYMENT_TOTAL_CURRENT_MAX' 'CC_AMT_PAYMENT_TOTAL_CURRENT_MEAN'\n",
            " 'CC_AMT_PAYMENT_TOTAL_CURRENT_SUM' 'CC_AMT_PAYMENT_TOTAL_CURRENT_VAR'\n",
            " 'CC_AMT_RECEIVABLE_PRINCIPAL_MIN' 'CC_AMT_RECEIVABLE_PRINCIPAL_MAX'\n",
            " 'CC_AMT_RECEIVABLE_PRINCIPAL_MEAN' 'CC_AMT_RECEIVABLE_PRINCIPAL_SUM'\n",
            " 'CC_AMT_RECEIVABLE_PRINCIPAL_VAR' 'CC_AMT_RECIVABLE_MIN'\n",
            " 'CC_AMT_RECIVABLE_MAX' 'CC_AMT_RECIVABLE_MEAN' 'CC_AMT_RECIVABLE_SUM'\n",
            " 'CC_AMT_RECIVABLE_VAR' 'CC_AMT_TOTAL_RECEIVABLE_MIN'\n",
            " 'CC_AMT_TOTAL_RECEIVABLE_MAX' 'CC_AMT_TOTAL_RECEIVABLE_MEAN'\n",
            " 'CC_AMT_TOTAL_RECEIVABLE_SUM' 'CC_AMT_TOTAL_RECEIVABLE_VAR'\n",
            " 'CC_CNT_DRAWINGS_ATM_CURRENT_MIN' 'CC_CNT_DRAWINGS_ATM_CURRENT_MAX'\n",
            " 'CC_CNT_DRAWINGS_ATM_CURRENT_MEAN' 'CC_CNT_DRAWINGS_ATM_CURRENT_SUM'\n",
            " 'CC_CNT_DRAWINGS_ATM_CURRENT_VAR' 'CC_CNT_DRAWINGS_CURRENT_MIN'\n",
            " 'CC_CNT_DRAWINGS_CURRENT_MAX' 'CC_CNT_DRAWINGS_CURRENT_MEAN'\n",
            " 'CC_CNT_DRAWINGS_CURRENT_SUM' 'CC_CNT_DRAWINGS_CURRENT_VAR'\n",
            " 'CC_CNT_DRAWINGS_OTHER_CURRENT_MIN' 'CC_CNT_DRAWINGS_OTHER_CURRENT_MAX'\n",
            " 'CC_CNT_DRAWINGS_OTHER_CURRENT_MEAN' 'CC_CNT_DRAWINGS_OTHER_CURRENT_SUM'\n",
            " 'CC_CNT_DRAWINGS_OTHER_CURRENT_VAR' 'CC_CNT_DRAWINGS_POS_CURRENT_MIN'\n",
            " 'CC_CNT_DRAWINGS_POS_CURRENT_MAX' 'CC_CNT_DRAWINGS_POS_CURRENT_MEAN'\n",
            " 'CC_CNT_DRAWINGS_POS_CURRENT_SUM' 'CC_CNT_DRAWINGS_POS_CURRENT_VAR'\n",
            " 'CC_CNT_INSTALMENT_MATURE_CUM_MIN' 'CC_CNT_INSTALMENT_MATURE_CUM_MAX'\n",
            " 'CC_CNT_INSTALMENT_MATURE_CUM_MEAN' 'CC_CNT_INSTALMENT_MATURE_CUM_SUM'\n",
            " 'CC_CNT_INSTALMENT_MATURE_CUM_VAR' 'CC_SK_DPD_MIN' 'CC_SK_DPD_MAX'\n",
            " 'CC_SK_DPD_MEAN' 'CC_SK_DPD_SUM' 'CC_SK_DPD_VAR' 'CC_SK_DPD_DEF_MIN'\n",
            " 'CC_SK_DPD_DEF_MAX' 'CC_SK_DPD_DEF_MEAN' 'CC_SK_DPD_DEF_SUM'\n",
            " 'CC_SK_DPD_DEF_VAR' 'CC_NAME_CONTRACT_STATUS_Active_MIN'\n",
            " 'CC_NAME_CONTRACT_STATUS_Active_MAX'\n",
            " 'CC_NAME_CONTRACT_STATUS_Active_MEAN'\n",
            " 'CC_NAME_CONTRACT_STATUS_Active_SUM' 'CC_NAME_CONTRACT_STATUS_Active_VAR'\n",
            " 'CC_NAME_CONTRACT_STATUS_Approved_MIN'\n",
            " 'CC_NAME_CONTRACT_STATUS_Approved_MAX'\n",
            " 'CC_NAME_CONTRACT_STATUS_Approved_MEAN'\n",
            " 'CC_NAME_CONTRACT_STATUS_Approved_SUM'\n",
            " 'CC_NAME_CONTRACT_STATUS_Approved_VAR'\n",
            " 'CC_NAME_CONTRACT_STATUS_Completed_MIN'\n",
            " 'CC_NAME_CONTRACT_STATUS_Completed_MAX'\n",
            " 'CC_NAME_CONTRACT_STATUS_Completed_MEAN'\n",
            " 'CC_NAME_CONTRACT_STATUS_Completed_SUM'\n",
            " 'CC_NAME_CONTRACT_STATUS_Completed_VAR'\n",
            " 'CC_NAME_CONTRACT_STATUS_Demand_MIN' 'CC_NAME_CONTRACT_STATUS_Demand_MAX'\n",
            " 'CC_NAME_CONTRACT_STATUS_Demand_MEAN'\n",
            " 'CC_NAME_CONTRACT_STATUS_Demand_SUM' 'CC_NAME_CONTRACT_STATUS_Demand_VAR'\n",
            " 'CC_NAME_CONTRACT_STATUS_Refused_MIN'\n",
            " 'CC_NAME_CONTRACT_STATUS_Refused_MAX'\n",
            " 'CC_NAME_CONTRACT_STATUS_Refused_MEAN'\n",
            " 'CC_NAME_CONTRACT_STATUS_Refused_SUM'\n",
            " 'CC_NAME_CONTRACT_STATUS_Refused_VAR'\n",
            " 'CC_NAME_CONTRACT_STATUS_Sent proposal_MIN'\n",
            " 'CC_NAME_CONTRACT_STATUS_Sent proposal_MAX'\n",
            " 'CC_NAME_CONTRACT_STATUS_Sent proposal_MEAN'\n",
            " 'CC_NAME_CONTRACT_STATUS_Sent proposal_SUM'\n",
            " 'CC_NAME_CONTRACT_STATUS_Sent proposal_VAR'\n",
            " 'CC_NAME_CONTRACT_STATUS_Signed_MIN' 'CC_NAME_CONTRACT_STATUS_Signed_MAX'\n",
            " 'CC_NAME_CONTRACT_STATUS_Signed_MEAN'\n",
            " 'CC_NAME_CONTRACT_STATUS_Signed_SUM' 'CC_NAME_CONTRACT_STATUS_Signed_VAR'\n",
            " 'CC_NAME_CONTRACT_STATUS_nan_MIN' 'CC_NAME_CONTRACT_STATUS_nan_MAX'\n",
            " 'CC_NAME_CONTRACT_STATUS_nan_MEAN' 'CC_NAME_CONTRACT_STATUS_nan_SUM'\n",
            " 'CC_NAME_CONTRACT_STATUS_nan_VAR' 'CC_NEW_INSTALLMENTS_PER_LOAN_MIN'\n",
            " 'CC_NEW_INSTALLMENTS_PER_LOAN_MAX' 'CC_NEW_INSTALLMENTS_PER_LOAN_MEAN'\n",
            " 'CC_NEW_INSTALLMENTS_PER_LOAN_SUM' 'CC_NEW_INSTALLMENTS_PER_LOAN_VAR'\n",
            " 'CC_COUNT']\n"
          ]
        }
      ]
    },
    {
      "cell_type": "code",
      "source": [
        "# Sauvegarde de df_voisin_train\n",
        "with open(fic_sav_df_voisin_train, 'wb') as f:\n",
        "    pickle.dump(df_voisin_train, f, pickle.HIGHEST_PROTOCOL)"
      ],
      "metadata": {
        "id": "uMfyBeX-JeZ7"
      },
      "execution_count": null,
      "outputs": []
    },
    {
      "cell_type": "code",
      "source": [
        "for id_cli, row in zip(df2['ID_CLIENT'],\n",
        "                       df2['INDEX_10_VOISINS']):\n",
        "     for index in row:\n",
        "            var_imp = train_set.iloc[index]\n",
        "            info = application_train.iloc[index]\n",
        "            df_voisin_train = df_voisin_train.append(pd.DataFrame({\n",
        "                                           'ID_CLIENT': [id_cli],\n",
        "                                           'INDEX_VOISIN': [index],\n",
        "                                           'AMT_ANNUITY': [var_imp['AMT_ANNUITY']],\n",
        "                                           'BUREAU_CURRENT_CREDIT_DEBT_DIFF_MIN': [var_imp['BUREAU_CURRENT_CREDIT_DEBT_DIFF_MIN']],\n",
        "                                           'BUREAU_CURRENT_CREDIT_DEBT_DIFF_MEAN': [var_imp['BUREAU_CURRENT_CREDIT_DEBT_DIFF_MEAN']],\n",
        "                                           'BUREAU_CURRENT_DEBT_TO_CREDIT_RATIO_MEAN': [var_imp['BUREAU_CURRENT_DEBT_TO_CREDIT_RATIO_MEAN']],\n",
        "                                           'CAR_EMPLOYED_RATIO': [var_imp['CAR_EMPLOYED_RATIO']],\n",
        "                                           'CODE_GENDER': [var_imp['CODE_GENDER']],\n",
        "                                           'CREDIT_ANNUITY_RATIO': [var_imp['CREDIT_ANNUITY_RATIO']],\n",
        "                                           'CREDIT_GOODS_RATIO': [var_imp['CREDIT_GOODS_RATIO']],\n",
        "                                           'DAYS_BIRTH': [var_imp['DAYS_BIRTH']],\n",
        "                                           'DAYS_ID_PUBLISH': [var_imp['DAYS_ID_PUBLISH']],\n",
        "                                           'EXT_SOURCE_1': [var_imp['EXT_SOURCE_1']],\n",
        "                                           'EXT_SOURCE_2': [var_imp['EXT_SOURCE_2']],\n",
        "                                           'EXT_SOURCE_3': [var_imp['EXT_SOURCE_3']],\n",
        "                                           'EXT_SOURCE_MAX': [var_imp['EXT_SOURCE_MAX']],\n",
        "                                           'EXT_SOURCE_SUM': [var_imp['EXT_SOURCE_SUM']],\n",
        "                                           'FLAG_OWN_CAR': [var_imp['FLAG_OWN_CAR']],\n",
        "                                           'INST_PAY_AMT_INSTALMENT_SUM': [var_imp['INST_PAY_AMT_INSTALMENT_SUM']],\n",
        "                                           'INST_PAY_DAYS_PAYMENT_RATIO_MAX': [var_imp['INST_PAY_DAYS_PAYMENT_RATIO_MAX']],\n",
        "                                           'NAME_EDUCATION_TYPE_HIGHER_EDUCATION': [var_imp['NAME_EDUCATION_TYPE_HIGHER_EDUCATION']],\n",
        "                                           'NAME_FAMILY_STATUS_MARRIED ': [var_imp['NAME_FAMILY_STATUS_MARRIED']],\n",
        "                                           'POS_CASH_NAME_CONTRACT_STATUS_ACTIVE_SUM': [var_imp['POS_CASH_NAME_CONTRACT_STATUS_ACTIVE_SUM']],\n",
        "                                           'PREV_APP_INTEREST_SHARE_MAX': [var_imp['PREV_APP_INTEREST_SHARE_MAX']],\n",
        "                                           'AMT_INCOME_TOTAL': [info['AMT_INCOME_TOTAL']],\n",
        "                                           'AMT_CREDIT': [info['AMT_CREDIT']],\n",
        "                                           'NAME_FAMILY_STATUS': [info['NAME_FAMILY_STATUS']],\n",
        "                                           'DAYS_EMPLOYED': [info['DAYS_EMPLOYED']],\n",
        "                                           'AMT_GOODS_PRICE': [info['AMT_GOODS_PRICE']],\n",
        "                                           'CNT_CHILDREN': [info['CNT_CHILDREN']],\n",
        "                                           'NAME_CONTRACT_TYPE': [info['NAME_CONTRACT_TYPE']],\n",
        "                                           'NAME_EDUCATION_TYPE': [info['NAME_EDUCATION_TYPE']],\n",
        "                                           'NAME_HOUSING_TYPE': [info['NAME_HOUSING_TYPE']],\n",
        "                                           'NAME_INCOME_TYPE': [info['NAME_INCOME_TYPE']]\n",
        "                                           }), ignore_index=True)         \n",
        "df_voisin_train.head()"
      ],
      "metadata": {
        "id": "Ps6y0KLnJedr"
      },
      "execution_count": null,
      "outputs": []
    }
  ],
  "metadata": {
    "colab": {
      "collapsed_sections": [],
      "name": "Dashboard.ipynb",
      "provenance": [],
      "authorship_tag": "ABX9TyPtL+W7UVifwCqyszStJ9JG",
      "include_colab_link": true
    },
    "kernelspec": {
      "display_name": "Python 3",
      "name": "python3"
    },
    "language_info": {
      "name": "python"
    },
    "accelerator": "GPU"
  },
  "nbformat": 4,
  "nbformat_minor": 0
}