{
  "nbformat": 4,
  "nbformat_minor": 0,
  "metadata": {
    "colab": {
      "name": "Untitled4.ipynb",
      "provenance": [],
      "authorship_tag": "ABX9TyNZfcXXCS+Gze0e/JV9z/mh",
      "include_colab_link": true
    },
    "kernelspec": {
      "name": "python3",
      "display_name": "Python 3"
    },
    "language_info": {
      "name": "python"
    }
  },
  "cells": [
    {
      "cell_type": "markdown",
      "metadata": {
        "id": "view-in-github",
        "colab_type": "text"
      },
      "source": [
        "<a href=\"https://colab.research.google.com/github/Azimoj/Home-Credit-Default-Risk/blob/main/Untitled4.ipynb\" target=\"_parent\"><img src=\"https://colab.research.google.com/assets/colab-badge.svg\" alt=\"Open In Colab\"/></a>"
      ]
    },
    {
      "cell_type": "code",
      "execution_count": null,
      "metadata": {
        "id": "GrxDLHwvroMk",
        "colab": {
          "base_uri": "https://localhost:8080/"
        },
        "outputId": "510a1ce1-b4bb-42a9-e4f6-4c6795509c28"
      },
      "outputs": [
        {
          "output_type": "stream",
          "name": "stdout",
          "text": [
            "Mounted at /content/drive\n"
          ]
        }
      ],
      "source": [
        "from google.colab import drive\n",
        "drive.mount(\"/content/drive\", force_remount=True)"
      ]
    },
    {
      "cell_type": "code",
      "source": [
        ""
      ],
      "metadata": {
        "id": "4GRfne8l5sZ1"
      },
      "execution_count": null,
      "outputs": []
    },
    {
      "cell_type": "code",
      "execution_count": null,
      "metadata": {
        "id": "rT58aLKvrdiL"
      },
      "outputs": [],
      "source": [
        "# pandas and numpy for data manipulation\n",
        "import pandas as pd\n",
        "import numpy as np\n",
        "import seaborn as sns\n",
        "\n",
        "# matplotlit and seaborn for visualizations\n",
        "import matplotlib.pyplot as plt\n",
        "plt.rcParams['font.size'] = 22\n",
        "\n",
        "# Suppress warnings from pandas\n",
        "import warnings\n",
        "warnings.filterwarnings('ignore')\n",
        "\n",
        "from sklearn.model_selection import train_test_split\n",
        "\n",
        "# memory management\n",
        "import gc\n",
        "import re\n",
        "\n",
        "#permet de stocker notre modéle\n",
        "from sklearn.ensemble import RandomForestClassifier\n",
        "from sklearn.ensemble import GradientBoostingClassifier\n",
        "from xgboost import XGBClassifier\n",
        "# modeling \n",
        "import lightgbm as lgb\n",
        "import sklearn.metrics as me\n",
        "from sklearn import metrics\n",
        "from sklearn.metrics import roc_auc_score\n",
        "from sklearn.metrics import roc_curve,auc\n",
        "from sklearn.metrics import f1_score\n",
        "from sklearn.tree import DecisionTreeClassifier\n",
        "from sklearn.tree import plot_tree\n",
        "from sklearn.metrics import confusion_matrix\n",
        "from sklearn.metrics import plot_confusion_matrix\n",
        "from sklearn.metrics import precision_recall_curve\n",
        "from sklearn.metrics import recall_score\n",
        "from sklearn.preprocessing import RobustScaler\n",
        "from sklearn.model_selection import GridSearchCV \n",
        "#pour avoir le tableau f1,precision\n",
        "from sklearn.dummy import DummyClassifier\n",
        "from sklearn.metrics import make_scorer\n",
        "from sklearn.model_selection import RepeatedStratifiedKFold, StratifiedKFold"
      ]
    },
    {
      "cell_type": "code",
      "source": [
        ""
      ],
      "metadata": {
        "id": "bXmeJaN0_LVY"
      },
      "execution_count": null,
      "outputs": []
    },
    {
      "cell_type": "code",
      "source": [
        ""
      ],
      "metadata": {
        "id": "LLfQ2MUy_LZ3"
      },
      "execution_count": null,
      "outputs": []
    },
    {
      "cell_type": "code",
      "execution_count": null,
      "metadata": {
        "id": "Lh9WxtOCd8XE"
      },
      "outputs": [],
      "source": [
        "from sklearn.feature_selection import VarianceThreshold\n",
        "from sklearn.feature_selection import SelectKBest, f_regression,chi2\n",
        "from sklearn.preprocessing import PolynomialFeatures\n",
        "from sklearn.impute import SimpleImputer\n",
        "from sklearn.feature_selection import RFE, RFECV, SelectFromModel\n",
        "from sklearn.linear_model import SGDClassifier, SGDRegressor\n",
        "from sklearn.linear_model import LogisticRegression\n",
        "from imblearn.over_sampling import RandomOverSampler\n",
        "#pour faire le rééchatillonnage\n",
        "from imblearn.under_sampling import RandomUnderSampler\n",
        "#pour faire le rééchatillonnage \n",
        "\n",
        "#pour la stratification car nous avons des classes pas équilibrés\n",
        "from sklearn.model_selection import train_test_split\n",
        "\n",
        "\n",
        "from sklearn.linear_model import LogisticRegression\n",
        "import timeit #pour mesurer le temps déxécution\n",
        "import sklearn.metrics as me\n",
        "from sklearn.metrics import precision_score,recall_score,accuracy_score\n",
        "from sklearn.metrics import classification_report\n",
        "\n",
        "from sklearn.preprocessing import PolynomialFeatures\n",
        "from sklearn.metrics import fbeta_score\n",
        "\n",
        "import pickle\n",
        "#permet de stocker notre modéle\n",
        "from sklearn.ensemble import RandomForestClassifier\n",
        "from sklearn.ensemble import GradientBoostingClassifier\n",
        "from xgboost import XGBClassifier"
      ]
    },
    {
      "cell_type": "code",
      "source": [
        "def Histo(colonne,base,bines):\n",
        "  sns.displot(x=colonne,data=base, kde=False, bins=bines,color=\"darkblue\")\n",
        "  plt.grid()"
      ],
      "metadata": {
        "id": "DRToxCBF_TrC"
      },
      "execution_count": null,
      "outputs": []
    },
    {
      "cell_type": "code",
      "source": [
        "def conf_mat_transform(y_test,y_pred) :\n",
        "    conf_mat = me.confusion_matrix(y_test,y_pred)\n",
        "    \n",
        "    corresp = np.argmax(conf_mat,axis=0) \n",
        "    #vu quon a un numero de colonne de\n",
        "    #la valeur max les meme pour deux lignes on le fait manuellement\n",
        "    #on na pas des accuracy proche de 1 on pouvait utiliser le argmax\n",
        "    #corresp = [0, 3, 6, 4, 2, 1, 5]\n",
        "    #print (\"Correspondance des clusters : \", corresp)\n",
        "    # y_pred_transform = np.apply_along_axis(correspond_fct, 1, y_pred)\n",
        "    labels = pd.Series(y_test, name=\"y_true\").to_frame()\n",
        "    labels['y_pred'] = y_pred\n",
        "    labels['y_pred_transform'] = labels['y_pred'].apply(lambda x : corresp[x]) \n",
        "    \n",
        "    return labels['y_pred_transform']"
      ],
      "metadata": {
        "id": "OptNEdP1AJt6"
      },
      "execution_count": null,
      "outputs": []
    },
    {
      "cell_type": "code",
      "source": [
        "#https://www.youtube.com/watch?v=zPEaC_yvL_k\n",
        "#make_scorer\n",
        "#https://machinelearningmastery.com/imbalanced-classification-of-good-and-bad-credit/\n",
        "#https://scikit-learn.org/stable/modules/generated/sklearn.metrics.fbeta_score.html\n",
        "#beta poids du rappel=recall, si beta = 2 il favorise le recall\n",
        "#si beta <1 donne plus de poids à la précision\n",
        "def customScore(y_test, y_pred):\n",
        "  #beta a choisir entre 0 et 1 on prend 0.7\n",
        "  beta=0.7 #le poids beta qui donnera plus de poids au FN \n",
        "  #et 1-beta moins de poids au FP \n",
        "  logi_confusion = me.confusion_matrix(y_test, y_pred) \n",
        "  tn, fp, fn, tp = logi_confusion.ravel()\n",
        "  alpha=beta*fn+(1-beta)*fp\n",
        "  return  alpha\n",
        " #moyenne harmonique pondérée"
      ],
      "metadata": {
        "id": "rmnm4bVnAJw7"
      },
      "execution_count": null,
      "outputs": []
    },
    {
      "cell_type": "code",
      "source": [
        ""
      ],
      "metadata": {
        "id": "143r5m8pAJ0e"
      },
      "execution_count": null,
      "outputs": []
    },
    {
      "cell_type": "code",
      "source": [
        ""
      ],
      "metadata": {
        "id": "725I0BbN_Tv_"
      },
      "execution_count": null,
      "outputs": []
    },
    {
      "cell_type": "code",
      "execution_count": null,
      "metadata": {
        "id": "HwTHfN77GTDQ"
      },
      "outputs": [],
      "source": [
        "df= pd.read_csv('/content/drive/MyDrive/p7/data/NEW_data.csv')"
      ]
    },
    {
      "cell_type": "code",
      "execution_count": null,
      "metadata": {
        "id": "KsotA_L6GTM2"
      },
      "outputs": [],
      "source": [
        "data = df[df['TARGET'].notnull()]\n",
        "del df\n",
        "gc.collect()"
      ]
    },
    {
      "cell_type": "code",
      "execution_count": null,
      "metadata": {
        "id": "lddFJhf2OkfC"
      },
      "outputs": [],
      "source": [
        "# data missing values (in percent)\n",
        "data_missing = (data.isnull().sum() / len(data)).sort_values(ascending = False)\n",
        "data_missing.head()"
      ]
    },
    {
      "cell_type": "code",
      "execution_count": null,
      "metadata": {
        "id": "nrxNoLiCO2q5"
      },
      "outputs": [],
      "source": [
        "# Identify missing values above threshold\n",
        "data_missing = data_missing.index[data_missing > 0.75]\n",
        "\n",
        "print('There are %d columns with more than 75%% missing values' % len(data_missing))"
      ]
    },
    {
      "cell_type": "code",
      "execution_count": null,
      "metadata": {
        "id": "YAXVi2m3O5rw"
      },
      "outputs": [],
      "source": [
        "data = data.drop(columns = data_missing)\n",
        "\n",
        "print('data set full shape: ', data.shape)"
      ]
    },
    {
      "cell_type": "code",
      "execution_count": null,
      "metadata": {
        "id": "8LY5xjGqV1Iu"
      },
      "outputs": [],
      "source": [
        "data.to_csv('/content/drive/MyDrive/p7/data/NEW_data_data.csv', index=False)"
      ]
    },
    {
      "cell_type": "markdown",
      "metadata": {
        "id": "ceXegg43ZBPd"
      },
      "source": [
        "## **LightGBM model** "
      ]
    },
    {
      "cell_type": "markdown",
      "metadata": {
        "id": "RSVyxQqJvOhl"
      },
      "source": [
        "https://www.kaggle.com/willkoehrsen/introduction-to-feature-selection"
      ]
    },
    {
      "cell_type": "code",
      "execution_count": null,
      "metadata": {
        "id": "qMNgv06NPGyP"
      },
      "outputs": [],
      "source": [
        "data=pd.read_csv('/content/drive/MyDrive/p7/data/NEW_data_data.csv')"
      ]
    },
    {
      "cell_type": "code",
      "execution_count": null,
      "metadata": {
        "id": "sVUlJ24cPGph"
      },
      "outputs": [],
      "source": [
        "data= data.drop(columns = ['SK_ID_CURR'])"
      ]
    },
    {
      "cell_type": "code",
      "execution_count": null,
      "metadata": {
        "id": "0KWPXJwDNKoK"
      },
      "outputs": [],
      "source": [
        "X = data.drop(['TARGET'],axis=1).copy()\n",
        "y = data['TARGET'].copy()\n",
        "\n",
        "X_train, X_test, y_train, y_test = train_test_split(X, y,test_size = 0.3, random_state=0)"
      ]
    },
    {
      "cell_type": "code",
      "execution_count": null,
      "metadata": {
        "id": "57RcngiWk6lu",
        "colab": {
          "base_uri": "https://localhost:8080/"
        },
        "outputId": "dbbd4feb-67ef-4444-9536-6edc1bcaec74"
      },
      "outputs": [
        {
          "output_type": "execute_result",
          "data": {
            "text/plain": [
              "88"
            ]
          },
          "metadata": {},
          "execution_count": 6
        }
      ],
      "source": [
        "gc.enable()\n",
        "\n",
        "gc.collect()"
      ]
    },
    {
      "cell_type": "code",
      "execution_count": null,
      "metadata": {
        "id": "Bn2OkFjjjIcN",
        "colab": {
          "base_uri": "https://localhost:8080/"
        },
        "outputId": "81c7b329-3c0f-4889-d2b9-77c4823d95de"
      },
      "outputs": [
        {
          "output_type": "stream",
          "name": "stdout",
          "text": [
            " X_train shape is : (215253, 638)\n",
            "y_train shape is:  (92252, 638)\n"
          ]
        }
      ],
      "source": [
        "print(' X_train shape is :',X_train.shape)\n",
        "print('y_train shape is: ', X_test.shape)"
      ]
    },
    {
      "cell_type": "code",
      "execution_count": null,
      "metadata": {
        "id": "L4oc8Pii6Wj2"
      },
      "outputs": [],
      "source": [
        "# Initialize an empty array to hold feature importances\n",
        "feature_importances = np.zeros(X_train.shape[1])\n",
        "\n",
        "# Create the model with several hyperparameters\n",
        "model = lgb.LGBMClassifier(objective='binary', boosting_type = 'goss', n_estimators = 10000, class_weight = 'balanced')"
      ]
    },
    {
      "cell_type": "code",
      "execution_count": null,
      "metadata": {
        "id": "F67w0qMF8yTA",
        "colab": {
          "base_uri": "https://localhost:8080/"
        },
        "outputId": "5c783cac-6462-48b7-cf5e-cbabfc61c984"
      },
      "outputs": [
        {
          "output_type": "stream",
          "name": "stdout",
          "text": [
            "Training until validation scores don't improve for 100 rounds.\n",
            "Early stopping, best iteration is:\n",
            "[96]\tvalid_0's auc: 0.75991\tvalid_0's binary_logloss: 0.557103\n",
            "Training until validation scores don't improve for 100 rounds.\n",
            "Early stopping, best iteration is:\n",
            "[96]\tvalid_0's auc: 0.75991\tvalid_0's binary_logloss: 0.557103\n"
          ]
        }
      ],
      "source": [
        "# Fit the model twice to avoid overfitting\n",
        "for i in range(2):\n",
        "    \n",
        "    # Train using early stopping\n",
        "    model.fit(X_train, y_train, early_stopping_rounds=100, eval_set = [(X_test, y_test)], \n",
        "              eval_metric = 'auc', verbose = 200)\n",
        "    \n",
        "    # Record the feature importances\n",
        "    feature_importances += model.feature_importances_"
      ]
    },
    {
      "cell_type": "code",
      "execution_count": null,
      "metadata": {
        "id": "r8MzkrA58yY4"
      },
      "outputs": [],
      "source": [
        ""
      ]
    },
    {
      "cell_type": "code",
      "execution_count": null,
      "metadata": {
        "id": "6csJ7o7f66Uu",
        "colab": {
          "base_uri": "https://localhost:8080/",
          "height": 363
        },
        "outputId": "c7b251d9-89ff-4f5e-b3c4-92292edb95f8"
      },
      "outputs": [
        {
          "output_type": "execute_result",
          "data": {
            "text/html": [
              "\n",
              "  <div id=\"df-aae05341-2a6d-48eb-84af-df7f6e46ad62\">\n",
              "    <div class=\"colab-df-container\">\n",
              "      <div>\n",
              "<style scoped>\n",
              "    .dataframe tbody tr th:only-of-type {\n",
              "        vertical-align: middle;\n",
              "    }\n",
              "\n",
              "    .dataframe tbody tr th {\n",
              "        vertical-align: top;\n",
              "    }\n",
              "\n",
              "    .dataframe thead th {\n",
              "        text-align: right;\n",
              "    }\n",
              "</style>\n",
              "<table border=\"1\" class=\"dataframe\">\n",
              "  <thead>\n",
              "    <tr style=\"text-align: right;\">\n",
              "      <th></th>\n",
              "      <th>feature</th>\n",
              "      <th>importance</th>\n",
              "    </tr>\n",
              "  </thead>\n",
              "  <tbody>\n",
              "    <tr>\n",
              "      <th>95</th>\n",
              "      <td>NEW_ANNUITY_CREDIT_RATIO</td>\n",
              "      <td>264.0</td>\n",
              "    </tr>\n",
              "    <tr>\n",
              "      <th>96</th>\n",
              "      <td>NEW_EXT_MEAN</td>\n",
              "      <td>103.0</td>\n",
              "    </tr>\n",
              "    <tr>\n",
              "      <th>30</th>\n",
              "      <td>EXT_SOURCE_3</td>\n",
              "      <td>91.0</td>\n",
              "    </tr>\n",
              "    <tr>\n",
              "      <th>7</th>\n",
              "      <td>AMT_ANNUITY</td>\n",
              "      <td>64.0</td>\n",
              "    </tr>\n",
              "    <tr>\n",
              "      <th>28</th>\n",
              "      <td>EXT_SOURCE_1</td>\n",
              "      <td>61.0</td>\n",
              "    </tr>\n",
              "    <tr>\n",
              "      <th>10</th>\n",
              "      <td>DAYS_EMPLOYED</td>\n",
              "      <td>60.0</td>\n",
              "    </tr>\n",
              "    <tr>\n",
              "      <th>9</th>\n",
              "      <td>DAYS_BIRTH</td>\n",
              "      <td>54.0</td>\n",
              "    </tr>\n",
              "    <tr>\n",
              "      <th>29</th>\n",
              "      <td>EXT_SOURCE_2</td>\n",
              "      <td>48.0</td>\n",
              "    </tr>\n",
              "    <tr>\n",
              "      <th>13</th>\n",
              "      <td>OWN_CAR_AGE</td>\n",
              "      <td>47.0</td>\n",
              "    </tr>\n",
              "    <tr>\n",
              "      <th>98</th>\n",
              "      <td>NEW_AGE</td>\n",
              "      <td>43.0</td>\n",
              "    </tr>\n",
              "  </tbody>\n",
              "</table>\n",
              "</div>\n",
              "      <button class=\"colab-df-convert\" onclick=\"convertToInteractive('df-aae05341-2a6d-48eb-84af-df7f6e46ad62')\"\n",
              "              title=\"Convert this dataframe to an interactive table.\"\n",
              "              style=\"display:none;\">\n",
              "        \n",
              "  <svg xmlns=\"http://www.w3.org/2000/svg\" height=\"24px\"viewBox=\"0 0 24 24\"\n",
              "       width=\"24px\">\n",
              "    <path d=\"M0 0h24v24H0V0z\" fill=\"none\"/>\n",
              "    <path d=\"M18.56 5.44l.94 2.06.94-2.06 2.06-.94-2.06-.94-.94-2.06-.94 2.06-2.06.94zm-11 1L8.5 8.5l.94-2.06 2.06-.94-2.06-.94L8.5 2.5l-.94 2.06-2.06.94zm10 10l.94 2.06.94-2.06 2.06-.94-2.06-.94-.94-2.06-.94 2.06-2.06.94z\"/><path d=\"M17.41 7.96l-1.37-1.37c-.4-.4-.92-.59-1.43-.59-.52 0-1.04.2-1.43.59L10.3 9.45l-7.72 7.72c-.78.78-.78 2.05 0 2.83L4 21.41c.39.39.9.59 1.41.59.51 0 1.02-.2 1.41-.59l7.78-7.78 2.81-2.81c.8-.78.8-2.07 0-2.86zM5.41 20L4 18.59l7.72-7.72 1.47 1.35L5.41 20z\"/>\n",
              "  </svg>\n",
              "      </button>\n",
              "      \n",
              "  <style>\n",
              "    .colab-df-container {\n",
              "      display:flex;\n",
              "      flex-wrap:wrap;\n",
              "      gap: 12px;\n",
              "    }\n",
              "\n",
              "    .colab-df-convert {\n",
              "      background-color: #E8F0FE;\n",
              "      border: none;\n",
              "      border-radius: 50%;\n",
              "      cursor: pointer;\n",
              "      display: none;\n",
              "      fill: #1967D2;\n",
              "      height: 32px;\n",
              "      padding: 0 0 0 0;\n",
              "      width: 32px;\n",
              "    }\n",
              "\n",
              "    .colab-df-convert:hover {\n",
              "      background-color: #E2EBFA;\n",
              "      box-shadow: 0px 1px 2px rgba(60, 64, 67, 0.3), 0px 1px 3px 1px rgba(60, 64, 67, 0.15);\n",
              "      fill: #174EA6;\n",
              "    }\n",
              "\n",
              "    [theme=dark] .colab-df-convert {\n",
              "      background-color: #3B4455;\n",
              "      fill: #D2E3FC;\n",
              "    }\n",
              "\n",
              "    [theme=dark] .colab-df-convert:hover {\n",
              "      background-color: #434B5C;\n",
              "      box-shadow: 0px 1px 3px 1px rgba(0, 0, 0, 0.15);\n",
              "      filter: drop-shadow(0px 1px 2px rgba(0, 0, 0, 0.3));\n",
              "      fill: #FFFFFF;\n",
              "    }\n",
              "  </style>\n",
              "\n",
              "      <script>\n",
              "        const buttonEl =\n",
              "          document.querySelector('#df-aae05341-2a6d-48eb-84af-df7f6e46ad62 button.colab-df-convert');\n",
              "        buttonEl.style.display =\n",
              "          google.colab.kernel.accessAllowed ? 'block' : 'none';\n",
              "\n",
              "        async function convertToInteractive(key) {\n",
              "          const element = document.querySelector('#df-aae05341-2a6d-48eb-84af-df7f6e46ad62');\n",
              "          const dataTable =\n",
              "            await google.colab.kernel.invokeFunction('convertToInteractive',\n",
              "                                                     [key], {});\n",
              "          if (!dataTable) return;\n",
              "\n",
              "          const docLinkHtml = 'Like what you see? Visit the ' +\n",
              "            '<a target=\"_blank\" href=https://colab.research.google.com/notebooks/data_table.ipynb>data table notebook</a>'\n",
              "            + ' to learn more about interactive tables.';\n",
              "          element.innerHTML = '';\n",
              "          dataTable['output_type'] = 'display_data';\n",
              "          await google.colab.output.renderOutput(dataTable, element);\n",
              "          const docLink = document.createElement('div');\n",
              "          docLink.innerHTML = docLinkHtml;\n",
              "          element.appendChild(docLink);\n",
              "        }\n",
              "      </script>\n",
              "    </div>\n",
              "  </div>\n",
              "  "
            ],
            "text/plain": [
              "                     feature  importance\n",
              "95  NEW_ANNUITY_CREDIT_RATIO       264.0\n",
              "96              NEW_EXT_MEAN       103.0\n",
              "30              EXT_SOURCE_3        91.0\n",
              "7                AMT_ANNUITY        64.0\n",
              "28              EXT_SOURCE_1        61.0\n",
              "10             DAYS_EMPLOYED        60.0\n",
              "9                 DAYS_BIRTH        54.0\n",
              "29              EXT_SOURCE_2        48.0\n",
              "13               OWN_CAR_AGE        47.0\n",
              "98                   NEW_AGE        43.0"
            ]
          },
          "metadata": {},
          "execution_count": 10
        }
      ],
      "source": [
        "# Make sure to average feature importances! \n",
        "feature_importances = feature_importances / 2\n",
        "feature_importances = pd.DataFrame({'feature': list(X_train.columns), 'importance': feature_importances}).sort_values('importance', ascending = False)\n",
        "\n",
        "feature_importances.head(10)"
      ]
    },
    {
      "cell_type": "code",
      "execution_count": null,
      "metadata": {
        "id": "_8R2ZDXy66Y-",
        "colab": {
          "base_uri": "https://localhost:8080/",
          "height": 380
        },
        "outputId": "d8ae62f0-00e5-42cb-a935-08be079123d2"
      },
      "outputs": [
        {
          "output_type": "stream",
          "name": "stdout",
          "text": [
            "There are 220 features with 0.0 importance\n"
          ]
        },
        {
          "output_type": "execute_result",
          "data": {
            "text/html": [
              "\n",
              "  <div id=\"df-f559dd39-b75b-4178-9ea9-2f1410fea140\">\n",
              "    <div class=\"colab-df-container\">\n",
              "      <div>\n",
              "<style scoped>\n",
              "    .dataframe tbody tr th:only-of-type {\n",
              "        vertical-align: middle;\n",
              "    }\n",
              "\n",
              "    .dataframe tbody tr th {\n",
              "        vertical-align: top;\n",
              "    }\n",
              "\n",
              "    .dataframe thead th {\n",
              "        text-align: right;\n",
              "    }\n",
              "</style>\n",
              "<table border=\"1\" class=\"dataframe\">\n",
              "  <thead>\n",
              "    <tr style=\"text-align: right;\">\n",
              "      <th></th>\n",
              "      <th>feature</th>\n",
              "      <th>importance</th>\n",
              "    </tr>\n",
              "  </thead>\n",
              "  <tbody>\n",
              "    <tr>\n",
              "      <th>331</th>\n",
              "      <td>ACTIVE_CREDIT_ACTIVE_Active_Count_MEAN</td>\n",
              "      <td>0.0</td>\n",
              "    </tr>\n",
              "    <tr>\n",
              "      <th>308</th>\n",
              "      <td>BURO_NEWS_DAYS_CREDIT_UPDATE_old_MEAN</td>\n",
              "      <td>0.0</td>\n",
              "    </tr>\n",
              "    <tr>\n",
              "      <th>329</th>\n",
              "      <td>ACTIVE_CNT_CREDIT_PROLONG_SUM</td>\n",
              "      <td>0.0</td>\n",
              "    </tr>\n",
              "    <tr>\n",
              "      <th>135</th>\n",
              "      <td>NAME_HOUSING_TYPE_nan</td>\n",
              "      <td>0.0</td>\n",
              "    </tr>\n",
              "    <tr>\n",
              "      <th>318</th>\n",
              "      <td>ACTIVE_CREDIT_DAY_OVERDUE_MAX</td>\n",
              "      <td>0.0</td>\n",
              "    </tr>\n",
              "    <tr>\n",
              "      <th>137</th>\n",
              "      <td>OCCUPATION_TYPE_Cleaning staff</td>\n",
              "      <td>0.0</td>\n",
              "    </tr>\n",
              "    <tr>\n",
              "      <th>138</th>\n",
              "      <td>OCCUPATION_TYPE_Cooking staff</td>\n",
              "      <td>0.0</td>\n",
              "    </tr>\n",
              "    <tr>\n",
              "      <th>141</th>\n",
              "      <td>OCCUPATION_TYPE_HR staff</td>\n",
              "      <td>0.0</td>\n",
              "    </tr>\n",
              "    <tr>\n",
              "      <th>309</th>\n",
              "      <td>BURO_NEWS_DAYS_CREDIT_UPDATE_nan_MEAN</td>\n",
              "      <td>0.0</td>\n",
              "    </tr>\n",
              "    <tr>\n",
              "      <th>319</th>\n",
              "      <td>ACTIVE_CREDIT_DAY_OVERDUE_MEAN</td>\n",
              "      <td>0.0</td>\n",
              "    </tr>\n",
              "  </tbody>\n",
              "</table>\n",
              "</div>\n",
              "      <button class=\"colab-df-convert\" onclick=\"convertToInteractive('df-f559dd39-b75b-4178-9ea9-2f1410fea140')\"\n",
              "              title=\"Convert this dataframe to an interactive table.\"\n",
              "              style=\"display:none;\">\n",
              "        \n",
              "  <svg xmlns=\"http://www.w3.org/2000/svg\" height=\"24px\"viewBox=\"0 0 24 24\"\n",
              "       width=\"24px\">\n",
              "    <path d=\"M0 0h24v24H0V0z\" fill=\"none\"/>\n",
              "    <path d=\"M18.56 5.44l.94 2.06.94-2.06 2.06-.94-2.06-.94-.94-2.06-.94 2.06-2.06.94zm-11 1L8.5 8.5l.94-2.06 2.06-.94-2.06-.94L8.5 2.5l-.94 2.06-2.06.94zm10 10l.94 2.06.94-2.06 2.06-.94-2.06-.94-.94-2.06-.94 2.06-2.06.94z\"/><path d=\"M17.41 7.96l-1.37-1.37c-.4-.4-.92-.59-1.43-.59-.52 0-1.04.2-1.43.59L10.3 9.45l-7.72 7.72c-.78.78-.78 2.05 0 2.83L4 21.41c.39.39.9.59 1.41.59.51 0 1.02-.2 1.41-.59l7.78-7.78 2.81-2.81c.8-.78.8-2.07 0-2.86zM5.41 20L4 18.59l7.72-7.72 1.47 1.35L5.41 20z\"/>\n",
              "  </svg>\n",
              "      </button>\n",
              "      \n",
              "  <style>\n",
              "    .colab-df-container {\n",
              "      display:flex;\n",
              "      flex-wrap:wrap;\n",
              "      gap: 12px;\n",
              "    }\n",
              "\n",
              "    .colab-df-convert {\n",
              "      background-color: #E8F0FE;\n",
              "      border: none;\n",
              "      border-radius: 50%;\n",
              "      cursor: pointer;\n",
              "      display: none;\n",
              "      fill: #1967D2;\n",
              "      height: 32px;\n",
              "      padding: 0 0 0 0;\n",
              "      width: 32px;\n",
              "    }\n",
              "\n",
              "    .colab-df-convert:hover {\n",
              "      background-color: #E2EBFA;\n",
              "      box-shadow: 0px 1px 2px rgba(60, 64, 67, 0.3), 0px 1px 3px 1px rgba(60, 64, 67, 0.15);\n",
              "      fill: #174EA6;\n",
              "    }\n",
              "\n",
              "    [theme=dark] .colab-df-convert {\n",
              "      background-color: #3B4455;\n",
              "      fill: #D2E3FC;\n",
              "    }\n",
              "\n",
              "    [theme=dark] .colab-df-convert:hover {\n",
              "      background-color: #434B5C;\n",
              "      box-shadow: 0px 1px 3px 1px rgba(0, 0, 0, 0.15);\n",
              "      filter: drop-shadow(0px 1px 2px rgba(0, 0, 0, 0.3));\n",
              "      fill: #FFFFFF;\n",
              "    }\n",
              "  </style>\n",
              "\n",
              "      <script>\n",
              "        const buttonEl =\n",
              "          document.querySelector('#df-f559dd39-b75b-4178-9ea9-2f1410fea140 button.colab-df-convert');\n",
              "        buttonEl.style.display =\n",
              "          google.colab.kernel.accessAllowed ? 'block' : 'none';\n",
              "\n",
              "        async function convertToInteractive(key) {\n",
              "          const element = document.querySelector('#df-f559dd39-b75b-4178-9ea9-2f1410fea140');\n",
              "          const dataTable =\n",
              "            await google.colab.kernel.invokeFunction('convertToInteractive',\n",
              "                                                     [key], {});\n",
              "          if (!dataTable) return;\n",
              "\n",
              "          const docLinkHtml = 'Like what you see? Visit the ' +\n",
              "            '<a target=\"_blank\" href=https://colab.research.google.com/notebooks/data_table.ipynb>data table notebook</a>'\n",
              "            + ' to learn more about interactive tables.';\n",
              "          element.innerHTML = '';\n",
              "          dataTable['output_type'] = 'display_data';\n",
              "          await google.colab.output.renderOutput(dataTable, element);\n",
              "          const docLink = document.createElement('div');\n",
              "          docLink.innerHTML = docLinkHtml;\n",
              "          element.appendChild(docLink);\n",
              "        }\n",
              "      </script>\n",
              "    </div>\n",
              "  </div>\n",
              "  "
            ],
            "text/plain": [
              "                                    feature  importance\n",
              "331  ACTIVE_CREDIT_ACTIVE_Active_Count_MEAN         0.0\n",
              "308   BURO_NEWS_DAYS_CREDIT_UPDATE_old_MEAN         0.0\n",
              "329           ACTIVE_CNT_CREDIT_PROLONG_SUM         0.0\n",
              "135                   NAME_HOUSING_TYPE_nan         0.0\n",
              "318           ACTIVE_CREDIT_DAY_OVERDUE_MAX         0.0\n",
              "137          OCCUPATION_TYPE_Cleaning staff         0.0\n",
              "138           OCCUPATION_TYPE_Cooking staff         0.0\n",
              "141                OCCUPATION_TYPE_HR staff         0.0\n",
              "309   BURO_NEWS_DAYS_CREDIT_UPDATE_nan_MEAN         0.0\n",
              "319          ACTIVE_CREDIT_DAY_OVERDUE_MEAN         0.0"
            ]
          },
          "metadata": {},
          "execution_count": 11
        }
      ],
      "source": [
        "# Find the features with zero importance\n",
        "zero_features = list(feature_importances[feature_importances['importance'] == 0.0]['feature'])\n",
        "print('There are %d features with 0.0 importance' % len(zero_features))\n",
        "feature_importances.tail(10)"
      ]
    },
    {
      "cell_type": "markdown",
      "metadata": {
        "id": "28mGGK9bSGHG"
      },
      "source": [
        "We see that one of our features made it into the top 10 most important! That's a good sign for all of our hard work making the features. It also looks like many of the features we made have literally 0 importance. For the gradient boosting machine, features with 0 importance are not used at all to make any splits. Therefore, we can remove these features from the model with no effect on performance (except for faster training)."
      ]
    },
    {
      "cell_type": "code",
      "execution_count": null,
      "metadata": {
        "id": "ZAIeiGhc66dS"
      },
      "outputs": [],
      "source": [
        ""
      ]
    },
    {
      "cell_type": "code",
      "execution_count": null,
      "metadata": {
        "id": "bm1B9jzLR_8m"
      },
      "outputs": [],
      "source": [
        "def plot_feature_importances(df, threshold = 0.9):\n",
        "    \"\"\"\n",
        "    Plots 15 most important features and the cumulative importance of features.\n",
        "    Prints the number of features needed to reach threshold cumulative importance.\n",
        "    \n",
        "    Parameters\n",
        "    --------\n",
        "    df : dataframe\n",
        "        Dataframe of feature importances. Columns must be feature and importance\n",
        "    threshold : float, default = 0.9\n",
        "        Threshold for prining information about cumulative importances\n",
        "        \n",
        "    Return\n",
        "    --------\n",
        "    df : dataframe\n",
        "        Dataframe ordered by feature importances with a normalized column (sums to 1)\n",
        "        and a cumulative importance column\n",
        "    \n",
        "    \"\"\"\n",
        "\n",
        "    plt.rcParams['font.size'] = 18\n",
        "    \n",
        "    # Sort features according to importance\n",
        "    df = df.sort_values('importance', ascending = False).reset_index()\n",
        "    \n",
        "    # Normalize the feature importances to add up to one\n",
        "    df['importance_normalized'] = df['importance'] / df['importance'].sum()\n",
        "    df['cumulative_importance'] = np.cumsum(df['importance_normalized'])\n",
        "\n",
        "    # Make a horizontal bar chart of feature importances\n",
        "    plt.figure(figsize = (10, 6))\n",
        "    ax = plt.subplot()\n",
        "    \n",
        "    # Need to reverse the index to plot most important on top\n",
        "    ax.barh(list(reversed(list(df.index[:15]))), \n",
        "            df['importance_normalized'].head(15), \n",
        "            align = 'center', edgecolor = 'k')\n",
        "        # Set the yticks and labels\n",
        "    ax.set_yticks(list(reversed(list(df.index[:15]))))\n",
        "    ax.set_yticklabels(df['feature'].head(15))\n",
        "    \n",
        "    # Plot labeling\n",
        "    plt.xlabel('Normalized Importance'); plt.title('Feature Importances')\n",
        "    plt.show()\n",
        "    \n",
        "    # Cumulative importance plot\n",
        "    plt.figure(figsize = (8, 6))\n",
        "    plt.plot(list(range(len(df))), df['cumulative_importance'], 'r-')\n",
        "    plt.xlabel('Number of Features'); plt.ylabel('Cumulative Importance'); \n",
        "    plt.title('Cumulative Feature Importance');\n",
        "    plt.show();\n",
        "    \n",
        "    importance_index = np.min(np.where(df['cumulative_importance'] > threshold))\n",
        "    print('%d features required for %0.2f of cumulative importance' % (importance_index + 1, threshold))\n",
        "    \n",
        "    return df"
      ]
    },
    {
      "cell_type": "code",
      "execution_count": null,
      "metadata": {
        "id": "NFnYOzBWSAJd",
        "colab": {
          "base_uri": "https://localhost:8080/",
          "height": 852
        },
        "outputId": "cf90a245-754f-4992-e057-a6eadde7ad94"
      },
      "outputs": [
        {
          "output_type": "display_data",
          "data": {
            "image/png": "[encoded data removed]",
            "text/plain": [
              "<Figure size 720x432 with 1 Axes>"
            ]
          },
          "metadata": {
            "needs_background": "light"
          }
        },
        {
          "output_type": "display_data",
          "data": {
            "image/png": "[encoded data removed]",
            "text/plain": [
              "<Figure size 576x432 with 1 Axes>"
            ]
          },
          "metadata": {
            "needs_background": "light"
          }
        },
        {
          "output_type": "stream",
          "name": "stdout",
          "text": [
            "239 features required for 0.90 of cumulative importance\n"
          ]
        }
      ],
      "source": [
        "norm_feature_importances = plot_feature_importances(feature_importances)"
      ]
    },
    {
      "cell_type": "markdown",
      "metadata": {
        "id": "xh3VZ4k-SdUm"
      },
      "source": [
        "Let's remove the features that have zero importance."
      ]
    },
    {
      "cell_type": "code",
      "execution_count": null,
      "metadata": {
        "id": "G7gr6-EkSAMc",
        "colab": {
          "base_uri": "https://localhost:8080/"
        },
        "outputId": "bccbd1dc-6043-41a6-c1da-e5f8e1754d7c"
      },
      "outputs": [
        {
          "output_type": "stream",
          "name": "stdout",
          "text": [
            "Training shape:  (215253, 418)\n",
            "Testing shape:  (92252, 418)\n"
          ]
        }
      ],
      "source": [
        "X_train = X_train.drop(columns = zero_features)\n",
        "X_test = X_test.drop(columns = zero_features)\n",
        "\n",
        "print('Training shape: ', X_train.shape)\n",
        "print('Testing shape: ', X_test.shape)"
      ]
    },
    {
      "cell_type": "markdown",
      "metadata": {
        "id": "Hzy0Yl0mS7jM"
      },
      "source": [
        "At this point, we can re-run the model to see if it identifies any more features with zero importance. In a way, we are implementing our own form of recursive feature elimination. Since we are repeating work, we should probably put the zero feature importance identification code in a function."
      ]
    },
    {
      "cell_type": "code",
      "execution_count": null,
      "metadata": {
        "id": "_vjUPPfbSAP0"
      },
      "outputs": [],
      "source": [
        "def identify_zero_importance_features(X, y, iterations = 2):\n",
        "    \"\"\"\n",
        "    Identify zero importance features in a training dataset based on the \n",
        "    feature importances from a gradient boosting model. \n",
        "    \n",
        "    Parameters\n",
        "    --------\n",
        "    x_train : dataframe\n",
        "        Training features\n",
        "        \n",
        "    x_test : np.array\n",
        "        Labels for training data\n",
        "        \n",
        "    iterations : integer, default = 2\n",
        "        Number of cross validation splits to use for determining feature importances\n",
        "    \"\"\"\n",
        "    # Initialize an empty array to hold feature importances\n",
        "    feature_importances = np.zeros(X_train.shape[1])\n",
        "\n",
        "    # Create the model with several hyperparameters\n",
        "    model = lgb.LGBMClassifier(objective='binary', boosting_type = 'goss', n_estimators = 10000, class_weight = 'balanced')\n",
        "    \n",
        "    # Fit the model multiple times to avoid overfitting\n",
        "    for i in range(iterations):\n",
        "\n",
        "        # Train using early stopping\n",
        "        model.fit(X_train, y_train, early_stopping_rounds=100, eval_set = [(X_test, y_test)], \n",
        "              eval_metric = 'auc', verbose = 200)\n",
        "        # Record the feature importances\n",
        "        feature_importances += model.feature_importances_ / iterations\n",
        "\n",
        "            \n",
        "    feature_importances = pd.DataFrame({'feature': list(X_train.columns), 'importance': feature_importances}).sort_values('importance', ascending = False)\n",
        "    \n",
        "    # Find the features with zero importance\n",
        "    zero_features = list(feature_importances[feature_importances['importance'] == 0.0]['feature'])\n",
        "    print('\\nThere are %d features with 0.0 importance' % len(zero_features))\n",
        "    \n",
        "    return zero_features, feature_importances"
      ]
    },
    {
      "cell_type": "code",
      "source": [
        ""
      ],
      "metadata": {
        "id": "d7ql33N18LRj"
      },
      "execution_count": null,
      "outputs": []
    },
    {
      "cell_type": "code",
      "source": [
        ""
      ],
      "metadata": {
        "id": "t6lCIdDB8LVJ"
      },
      "execution_count": null,
      "outputs": []
    },
    {
      "cell_type": "code",
      "execution_count": null,
      "metadata": {
        "id": "7CPs9oykTGzW",
        "colab": {
          "base_uri": "https://localhost:8080/"
        },
        "outputId": "2cddfdcd-769c-4dbf-8244-837fd89dcb44"
      },
      "outputs": [
        {
          "output_type": "stream",
          "name": "stdout",
          "text": [
            "Training until validation scores don't improve for 100 rounds.\n",
            "Early stopping, best iteration is:\n",
            "[96]\tvalid_0's auc: 0.75991\tvalid_0's binary_logloss: 0.557103\n",
            "Training until validation scores don't improve for 100 rounds.\n",
            "Early stopping, best iteration is:\n",
            "[96]\tvalid_0's auc: 0.75991\tvalid_0's binary_logloss: 0.557103\n",
            "\n",
            "There are 0 features with 0.0 importance\n"
          ]
        }
      ],
      "source": [
        "second_round_zero_features, feature_importances = identify_zero_importance_features(X, y)"
      ]
    },
    {
      "cell_type": "markdown",
      "metadata": {
        "id": "5re2WKH-TLCF"
      },
      "source": [
        "There are now no 0 importance features left (I guess we should have expected this). If we want to remove more features, we will have to start with features that have a non-zero importance. One way we could do this is by retaining enough features to account for a threshold percentage of importance, such as 95%. At this point, let's keep enough features to account for 95% of the importance. Again, this is an arbitrary decision!"
      ]
    },
    {
      "cell_type": "code",
      "execution_count": null,
      "metadata": {
        "id": "nv2bc2xjTG2c",
        "colab": {
          "base_uri": "https://localhost:8080/",
          "height": 852
        },
        "outputId": "d06863fa-e234-4a23-e353-6d61db0ad959"
      },
      "outputs": [
        {
          "output_type": "display_data",
          "data": {
            "image/png": "[encoded data removed]",
            "text/plain": [
              "<Figure size 720x432 with 1 Axes>"
            ]
          },
          "metadata": {
            "needs_background": "light"
          }
        },
        {
          "output_type": "display_data",
          "data": {
            "image/png": "[encoded data removed]",
            "text/plain": [
              "<Figure size 576x432 with 1 Axes>"
            ]
          },
          "metadata": {
            "needs_background": "light"
          }
        },
        {
          "output_type": "stream",
          "name": "stdout",
          "text": [
            "300 features required for 0.95 of cumulative importance\n"
          ]
        }
      ],
      "source": [
        "norm_feature_importances = plot_feature_importances(feature_importances, threshold = 0.95)"
      ]
    },
    {
      "cell_type": "markdown",
      "metadata": {
        "id": "zVr3GFRITRRN"
      },
      "source": [
        "We can keep only the features needed for 95% importance. This step seems to me to have the greatest chance of harming the model's learning ability, so rather than changing the original dataset, we will make smaller copies. Then, we can test both versions of the data to see if the extra feature removal step is worthwhile."
      ]
    },
    {
      "cell_type": "code",
      "execution_count": null,
      "metadata": {
        "id": "X5vaHLUAyXKT"
      },
      "outputs": [],
      "source": [
        ""
      ]
    },
    {
      "cell_type": "code",
      "execution_count": null,
      "metadata": {
        "id": "H7E2KUFEyXSL"
      },
      "outputs": [],
      "source": [
        ""
      ]
    },
    {
      "cell_type": "markdown",
      "metadata": {
        "id": "MkuB1wQgyYfC"
      },
      "source": [
        "https://www.kaggle.com/prashant111/lightgbm-classifier-in-python"
      ]
    },
    {
      "cell_type": "markdown",
      "metadata": {
        "id": "b9igDsqGy8fH"
      },
      "source": [
        "**Model Prediction**"
      ]
    },
    {
      "cell_type": "code",
      "source": [
        "clf_LGBM = lgb.LGBMClassifier(objective='binary', boosting_type = 'goss', n_estimators = 10000, class_weight = 'balanced')"
      ],
      "metadata": {
        "id": "ILEFSfNV-p7R"
      },
      "execution_count": null,
      "outputs": []
    },
    {
      "cell_type": "code",
      "source": [
        "clf_LGBM.fit(X_train, y_train, early_stopping_rounds=100, eval_set = [(X_test, y_test)], \n",
        "              eval_metric = 'auc', verbose = 200)"
      ],
      "metadata": {
        "colab": {
          "base_uri": "https://localhost:8080/"
        },
        "id": "vM4GvpNn-p-X",
        "outputId": "57fbade4-948f-4aad-aa46-0caa21c405a2"
      },
      "execution_count": null,
      "outputs": [
        {
          "output_type": "stream",
          "name": "stdout",
          "text": [
            "Training until validation scores don't improve for 100 rounds.\n",
            "Early stopping, best iteration is:\n",
            "[96]\tvalid_0's auc: 0.75991\tvalid_0's binary_logloss: 0.557103\n"
          ]
        },
        {
          "output_type": "execute_result",
          "data": {
            "text/plain": [
              "LGBMClassifier(boosting_type='goss', class_weight='balanced',\n",
              "               n_estimators=10000, objective='binary')"
            ]
          },
          "metadata": {},
          "execution_count": 23
        }
      ]
    },
    {
      "cell_type": "code",
      "source": [
        "df1=pd.DataFrame()\n",
        "df1['predict']=clf_LGBM.predict_proba(X_test)[:,1]"
      ],
      "metadata": {
        "id": "bJoW_yls-Vhi"
      },
      "execution_count": null,
      "outputs": []
    },
    {
      "cell_type": "code",
      "source": [
        "plt.figure()\n",
        "Histo('predict', df1, 50)\n",
        "plt.title('Graphique des probabibilités d\\'affectation')"
      ],
      "metadata": {
        "colab": {
          "base_uri": "https://localhost:8080/",
          "height": 405
        },
        "id": "ChRq9KWr-VoU",
        "outputId": "f27f4ec0-d561-4c6f-e55b-56388a52add6"
      },
      "execution_count": null,
      "outputs": [
        {
          "output_type": "execute_result",
          "data": {
            "text/plain": [
              "Text(0.5, 1.0, \"Graphique des probabibilités d'affectation\")"
            ]
          },
          "metadata": {},
          "execution_count": 26
        },
        {
          "output_type": "display_data",
          "data": {
            "text/plain": [
              "<Figure size 432x288 with 0 Axes>"
            ]
          },
          "metadata": {}
        },
        {
          "output_type": "display_data",
          "data": {
            "image/png": "[encoded data removed]",
            "text/plain": [
              "<Figure size 360x360 with 1 Axes>"
            ]
          },
          "metadata": {
            "needs_background": "light"
          }
        }
      ]
    },
    {
      "cell_type": "code",
      "source": [
        "#prédiction\n",
        "#y_pred = model_best.predict(X_scale_test)\n",
        "#on va prendre la deuxieme colonne qui est le score de présence \n",
        "#model_best.predict_proba(X_scale_test)[:,1]>0.5\n",
        "r=clf_LGBM.predict_proba(X_test)[:,1]\n",
        "y_predr=np.array(r>0.5,dtype=int)"
      ],
      "metadata": {
        "id": "V7YpisD9_k8Y"
      },
      "execution_count": null,
      "outputs": []
    },
    {
      "cell_type": "code",
      "source": [
        "plt.figure()\n",
        "Histo('predict', df1, 50)\n",
        "plt.axvline(x=0.5, color='red')\n",
        "plt.annotate('Le Client  ne Rembourse pas',xy=(0.7,1500),xytext=(0.8,2000),arrowprops=\n",
        "             {'facecolor':'#5930F2'})\n",
        "plt.title('Graphique des probabibilités d\\'affectation LightGBM')"
      ],
      "metadata": {
        "colab": {
          "base_uri": "https://localhost:8080/",
          "height": 406
        },
        "id": "cD5lz0YY_k_f",
        "outputId": "55d93810-e24f-4f17-e98c-21f542837130"
      },
      "execution_count": null,
      "outputs": [
        {
          "output_type": "execute_result",
          "data": {
            "text/plain": [
              "Text(0.5, 1.0, \"Graphique des probabibilités d'affectation LightGBM\")"
            ]
          },
          "metadata": {},
          "execution_count": 62
        },
        {
          "output_type": "display_data",
          "data": {
            "text/plain": [
              "<Figure size 432x288 with 0 Axes>"
            ]
          },
          "metadata": {}
        },
        {
          "output_type": "display_data",
          "data": {
            "image/png": "[encoded data removed]",
            "text/plain": [
              "<Figure size 360x360 with 1 Axes>"
            ]
          },
          "metadata": {
            "needs_background": "light"
          }
        }
      ]
    },
    {
      "cell_type": "code",
      "source": [
        "logi_confusion = me.confusion_matrix(y_test, y_predr)"
      ],
      "metadata": {
        "id": "0Ka_N2G6_lCa"
      },
      "execution_count": null,
      "outputs": []
    },
    {
      "cell_type": "code",
      "source": [
        "print(logi_confusion)"
      ],
      "metadata": {
        "colab": {
          "base_uri": "https://localhost:8080/"
        },
        "id": "Cz_S00n3Qb4o",
        "outputId": "c9319671-3537-4a5a-c59c-5a9e2e749346"
      },
      "execution_count": null,
      "outputs": [
        {
          "output_type": "stream",
          "name": "stdout",
          "text": [
            "[[61088 23788]\n",
            " [ 2470  4906]]\n"
          ]
        }
      ]
    },
    {
      "cell_type": "code",
      "source": [
        ""
      ],
      "metadata": {
        "id": "X9GTBy0zQb8U"
      },
      "execution_count": null,
      "outputs": []
    },
    {
      "cell_type": "code",
      "source": [
        "score_LGBM = customScore(y_test, y_predr)\n",
        "score_LGBM"
      ],
      "metadata": {
        "colab": {
          "base_uri": "https://localhost:8080/"
        },
        "id": "KOA39hz-Qlp-",
        "outputId": "83481cfd-2b0a-44db-f85f-66e3c69c0f09"
      },
      "execution_count": null,
      "outputs": [
        {
          "output_type": "execute_result",
          "data": {
            "text/plain": [
              "8865.400000000001"
            ]
          },
          "metadata": {},
          "execution_count": 64
        }
      ]
    },
    {
      "cell_type": "code",
      "source": [
        "precision_LGBM = accuracy_score(y_test, y_predr)\n",
        "precision_LGBM"
      ],
      "metadata": {
        "colab": {
          "base_uri": "https://localhost:8080/"
        },
        "id": "7IaNG23nRFYV",
        "outputId": "45df9dff-0672-46b6-fcfc-e09ac7795895"
      },
      "execution_count": null,
      "outputs": [
        {
          "output_type": "execute_result",
          "data": {
            "text/plain": [
              "0.7153666045180592"
            ]
          },
          "metadata": {},
          "execution_count": 65
        }
      ]
    },
    {
      "cell_type": "code",
      "source": [
        "rappel_LGBM = recall_score(y_test, y_predr)\n",
        "rappel_LGBM"
      ],
      "metadata": {
        "colab": {
          "base_uri": "https://localhost:8080/"
        },
        "id": "j0FciT0sRFcU",
        "outputId": "81411c36-0b6a-41d5-f326-f8c5c3ce008d"
      },
      "execution_count": null,
      "outputs": [
        {
          "output_type": "execute_result",
          "data": {
            "text/plain": [
              "0.6651301518438177"
            ]
          },
          "metadata": {},
          "execution_count": 66
        }
      ]
    },
    {
      "cell_type": "code",
      "source": [
        "cls_labels_transform = conf_mat_transform(y_test, y_predr)\n",
        "conf_mat = me.confusion_matrix(y_test, y_predr)\n",
        "print(conf_mat)\n",
        "print()\n",
        "print(me.classification_report(y_test, y_predr))\n",
        "#accuracy =precision la plus part sont prédits positifs et le sont effectivement\n",
        "#recall=sensibilte taux de vrais positifs \n",
        "#specifite =taux de varais negatifs"
      ],
      "metadata": {
        "colab": {
          "base_uri": "https://localhost:8080/"
        },
        "id": "YJnGdDos_lFx",
        "outputId": "71ef96b3-e39e-4ded-e948-da86ff6627c6"
      },
      "execution_count": null,
      "outputs": [
        {
          "output_type": "stream",
          "name": "stdout",
          "text": [
            "[[61088 23788]\n",
            " [ 2470  4906]]\n",
            "\n",
            "              precision    recall  f1-score   support\n",
            "\n",
            "         0.0       0.96      0.72      0.82     84876\n",
            "         1.0       0.17      0.67      0.27      7376\n",
            "\n",
            "    accuracy                           0.72     92252\n",
            "   macro avg       0.57      0.69      0.55     92252\n",
            "weighted avg       0.90      0.72      0.78     92252\n",
            "\n"
          ]
        }
      ]
    },
    {
      "cell_type": "code",
      "source": [
        ""
      ],
      "metadata": {
        "id": "xPpLD8llRFgb"
      },
      "execution_count": null,
      "outputs": []
    },
    {
      "cell_type": "code",
      "source": [
        "df_cm = pd.DataFrame(conf_mat/y_test.shape[0], index = [label for label in data['TARGET'].value_counts().index ],\n",
        "                  columns = [i for i in data['TARGET'].value_counts().index ])\n",
        "plt.figure(figsize = (5,5))\n",
        "sns.heatmap(df_cm, annot=True, cmap=\"Blues\")\n",
        "plt.xlabel('Actual',fontsize = 20, fontweight = 'bold')\n",
        "plt.ylabel('Predict',fontsize = 20, fontweight = 'bold')"
      ],
      "metadata": {
        "colab": {
          "base_uri": "https://localhost:8080/",
          "height": 370
        },
        "id": "E-aK82TsAqxH",
        "outputId": "58ed3b5b-92eb-4f50-945a-356ec242934e"
      },
      "execution_count": null,
      "outputs": [
        {
          "output_type": "execute_result",
          "data": {
            "text/plain": [
              "Text(13.999999999999996, 0.5, 'Predict')"
            ]
          },
          "metadata": {},
          "execution_count": 39
        },
        {
          "output_type": "display_data",
          "data": {
            "image/png": "[encoded data removed]",
            "text/plain": [
              "<Figure size 360x360 with 2 Axes>"
            ]
          },
          "metadata": {
            "needs_background": "light"
          }
        }
      ]
    },
    {
      "cell_type": "code",
      "source": [
        "from sklearn.metrics import roc_auc_score\n",
        "[fpr, tpr, thr]  = me.roc_curve(y_test, clf_LGBM.predict_proba(X_test)[:, 1])\n",
        "#1-fpr correspond a la antispecifite pour la vrais specifite 1-valeur\n",
        "#tpr le rappel , sensibilité\n",
        "#thr le seuil \n",
        "\n",
        "df_roc = pd.DataFrame({'thr': thr, 'tpr': tpr, 'fpr': fpr})\n",
        "plt.plot(fpr, tpr, marker='o')\n",
        "plt.xlabel('1 - specificite')\n",
        "plt.ylabel('Sensibilite-Rappel')\n",
        "plt.grid()\n",
        "display(df_roc)\n",
        "#ceci est notre AUROC qui permet de comparer \n",
        "AUROCRandom=roc_auc_score(y_test, clf_LGBM.predict_proba(X_test)[:, 1])\n",
        "\n",
        "print('AUC : {}'.format(roc_auc_score(y_test, clf_LGBM.predict_proba(X_test)[:, 1])))"
      ],
      "metadata": {
        "colab": {
          "base_uri": "https://localhost:8080/",
          "height": 723
        },
        "id": "tOvjheBWAq1y",
        "outputId": "dba09ada-ebc6-435f-895d-7ca1db24f330"
      },
      "execution_count": null,
      "outputs": [
        {
          "output_type": "display_data",
          "data": {
            "text/html": [
              "\n",
              "  <div id=\"df-afb7c73e-df36-4903-8d29-803e9b5412c6\">\n",
              "    <div class=\"colab-df-container\">\n",
              "      <div>\n",
              "<style scoped>\n",
              "    .dataframe tbody tr th:only-of-type {\n",
              "        vertical-align: middle;\n",
              "    }\n",
              "\n",
              "    .dataframe tbody tr th {\n",
              "        vertical-align: top;\n",
              "    }\n",
              "\n",
              "    .dataframe thead th {\n",
              "        text-align: right;\n",
              "    }\n",
              "</style>\n",
              "<table border=\"1\" class=\"dataframe\">\n",
              "  <thead>\n",
              "    <tr style=\"text-align: right;\">\n",
              "      <th></th>\n",
              "      <th>thr</th>\n",
              "      <th>tpr</th>\n",
              "      <th>fpr</th>\n",
              "    </tr>\n",
              "  </thead>\n",
              "  <tbody>\n",
              "    <tr>\n",
              "      <th>0</th>\n",
              "      <td>1.940902</td>\n",
              "      <td>0.000000</td>\n",
              "      <td>0.000000</td>\n",
              "    </tr>\n",
              "    <tr>\n",
              "      <th>1</th>\n",
              "      <td>0.940902</td>\n",
              "      <td>0.000000</td>\n",
              "      <td>0.000012</td>\n",
              "    </tr>\n",
              "    <tr>\n",
              "      <th>2</th>\n",
              "      <td>0.940112</td>\n",
              "      <td>0.000136</td>\n",
              "      <td>0.000012</td>\n",
              "    </tr>\n",
              "    <tr>\n",
              "      <th>3</th>\n",
              "      <td>0.934094</td>\n",
              "      <td>0.000136</td>\n",
              "      <td>0.000035</td>\n",
              "    </tr>\n",
              "    <tr>\n",
              "      <th>4</th>\n",
              "      <td>0.931429</td>\n",
              "      <td>0.000271</td>\n",
              "      <td>0.000035</td>\n",
              "    </tr>\n",
              "    <tr>\n",
              "      <th>...</th>\n",
              "      <td>...</td>\n",
              "      <td>...</td>\n",
              "      <td>...</td>\n",
              "    </tr>\n",
              "    <tr>\n",
              "      <th>12443</th>\n",
              "      <td>0.061860</td>\n",
              "      <td>0.999729</td>\n",
              "      <td>0.995193</td>\n",
              "    </tr>\n",
              "    <tr>\n",
              "      <th>12444</th>\n",
              "      <td>0.061824</td>\n",
              "      <td>0.999864</td>\n",
              "      <td>0.995193</td>\n",
              "    </tr>\n",
              "    <tr>\n",
              "      <th>12445</th>\n",
              "      <td>0.057155</td>\n",
              "      <td>0.999864</td>\n",
              "      <td>0.996595</td>\n",
              "    </tr>\n",
              "    <tr>\n",
              "      <th>12446</th>\n",
              "      <td>0.057103</td>\n",
              "      <td>1.000000</td>\n",
              "      <td>0.996595</td>\n",
              "    </tr>\n",
              "    <tr>\n",
              "      <th>12447</th>\n",
              "      <td>0.027532</td>\n",
              "      <td>1.000000</td>\n",
              "      <td>1.000000</td>\n",
              "    </tr>\n",
              "  </tbody>\n",
              "</table>\n",
              "<p>12448 rows × 3 columns</p>\n",
              "</div>\n",
              "      <button class=\"colab-df-convert\" onclick=\"convertToInteractive('df-afb7c73e-df36-4903-8d29-803e9b5412c6')\"\n",
              "              title=\"Convert this dataframe to an interactive table.\"\n",
              "              style=\"display:none;\">\n",
              "        \n",
              "  <svg xmlns=\"http://www.w3.org/2000/svg\" height=\"24px\"viewBox=\"0 0 24 24\"\n",
              "       width=\"24px\">\n",
              "    <path d=\"M0 0h24v24H0V0z\" fill=\"none\"/>\n",
              "    <path d=\"M18.56 5.44l.94 2.06.94-2.06 2.06-.94-2.06-.94-.94-2.06-.94 2.06-2.06.94zm-11 1L8.5 8.5l.94-2.06 2.06-.94-2.06-.94L8.5 2.5l-.94 2.06-2.06.94zm10 10l.94 2.06.94-2.06 2.06-.94-2.06-.94-.94-2.06-.94 2.06-2.06.94z\"/><path d=\"M17.41 7.96l-1.37-1.37c-.4-.4-.92-.59-1.43-.59-.52 0-1.04.2-1.43.59L10.3 9.45l-7.72 7.72c-.78.78-.78 2.05 0 2.83L4 21.41c.39.39.9.59 1.41.59.51 0 1.02-.2 1.41-.59l7.78-7.78 2.81-2.81c.8-.78.8-2.07 0-2.86zM5.41 20L4 18.59l7.72-7.72 1.47 1.35L5.41 20z\"/>\n",
              "  </svg>\n",
              "      </button>\n",
              "      \n",
              "  <style>\n",
              "    .colab-df-container {\n",
              "      display:flex;\n",
              "      flex-wrap:wrap;\n",
              "      gap: 12px;\n",
              "    }\n",
              "\n",
              "    .colab-df-convert {\n",
              "      background-color: #E8F0FE;\n",
              "      border: none;\n",
              "      border-radius: 50%;\n",
              "      cursor: pointer;\n",
              "      display: none;\n",
              "      fill: #1967D2;\n",
              "      height: 32px;\n",
              "      padding: 0 0 0 0;\n",
              "      width: 32px;\n",
              "    }\n",
              "\n",
              "    .colab-df-convert:hover {\n",
              "      background-color: #E2EBFA;\n",
              "      box-shadow: 0px 1px 2px rgba(60, 64, 67, 0.3), 0px 1px 3px 1px rgba(60, 64, 67, 0.15);\n",
              "      fill: #174EA6;\n",
              "    }\n",
              "\n",
              "    [theme=dark] .colab-df-convert {\n",
              "      background-color: #3B4455;\n",
              "      fill: #D2E3FC;\n",
              "    }\n",
              "\n",
              "    [theme=dark] .colab-df-convert:hover {\n",
              "      background-color: #434B5C;\n",
              "      box-shadow: 0px 1px 3px 1px rgba(0, 0, 0, 0.15);\n",
              "      filter: drop-shadow(0px 1px 2px rgba(0, 0, 0, 0.3));\n",
              "      fill: #FFFFFF;\n",
              "    }\n",
              "  </style>\n",
              "\n",
              "      <script>\n",
              "        const buttonEl =\n",
              "          document.querySelector('#df-afb7c73e-df36-4903-8d29-803e9b5412c6 button.colab-df-convert');\n",
              "        buttonEl.style.display =\n",
              "          google.colab.kernel.accessAllowed ? 'block' : 'none';\n",
              "\n",
              "        async function convertToInteractive(key) {\n",
              "          const element = document.querySelector('#df-afb7c73e-df36-4903-8d29-803e9b5412c6');\n",
              "          const dataTable =\n",
              "            await google.colab.kernel.invokeFunction('convertToInteractive',\n",
              "                                                     [key], {});\n",
              "          if (!dataTable) return;\n",
              "\n",
              "          const docLinkHtml = 'Like what you see? Visit the ' +\n",
              "            '<a target=\"_blank\" href=https://colab.research.google.com/notebooks/data_table.ipynb>data table notebook</a>'\n",
              "            + ' to learn more about interactive tables.';\n",
              "          element.innerHTML = '';\n",
              "          dataTable['output_type'] = 'display_data';\n",
              "          await google.colab.output.renderOutput(dataTable, element);\n",
              "          const docLink = document.createElement('div');\n",
              "          docLink.innerHTML = docLinkHtml;\n",
              "          element.appendChild(docLink);\n",
              "        }\n",
              "      </script>\n",
              "    </div>\n",
              "  </div>\n",
              "  "
            ],
            "text/plain": [
              "            thr       tpr       fpr\n",
              "0      1.940902  0.000000  0.000000\n",
              "1      0.940902  0.000000  0.000012\n",
              "2      0.940112  0.000136  0.000012\n",
              "3      0.934094  0.000136  0.000035\n",
              "4      0.931429  0.000271  0.000035\n",
              "...         ...       ...       ...\n",
              "12443  0.061860  0.999729  0.995193\n",
              "12444  0.061824  0.999864  0.995193\n",
              "12445  0.057155  0.999864  0.996595\n",
              "12446  0.057103  1.000000  0.996595\n",
              "12447  0.027532  1.000000  1.000000\n",
              "\n",
              "[12448 rows x 3 columns]"
            ]
          },
          "metadata": {}
        },
        {
          "output_type": "stream",
          "name": "stdout",
          "text": [
            "AUC : 0.7599104270039365\n"
          ]
        },
        {
          "output_type": "display_data",
          "data": {
            "image/png": "[encoded data removed]",
            "text/plain": [
              "<Figure size 432x288 with 1 Axes>"
            ]
          },
          "metadata": {
            "needs_background": "light"
          }
        }
      ]
    },
    {
      "cell_type": "code",
      "source": [
        ""
      ],
      "metadata": {
        "id": "t7y738JRAq5e"
      },
      "execution_count": null,
      "outputs": []
    },
    {
      "cell_type": "code",
      "source": [
        "# indice du premier seuil pour lequel\n",
        "#Taux de faux négatifs + taux de vrais positifs (sensibilité=rappel)=1\n",
        "#on pose taux de faux negatifs =0.05 (5%)\n",
        "# la sensibilité est supérieure à 0.95\n",
        "idx = np.min(np.where(tpr > 0.95)) \n",
        "\n",
        "print(\"Sensitivity : {:.2f}\".format(tpr[idx]))\n",
        "print(\"Specificity : {:.2f}\".format(1-fpr[idx]))\n",
        "print(\"Threshold : {:.2f}\".format(thr[idx]))"
      ],
      "metadata": {
        "colab": {
          "base_uri": "https://localhost:8080/"
        },
        "id": "LQTu2dGSAq9n",
        "outputId": "ae678589-d621-4e36-fee6-43738b5195e3"
      },
      "execution_count": null,
      "outputs": [
        {
          "output_type": "stream",
          "name": "stdout",
          "text": [
            "Sensitivity : 0.95\n",
            "Specificity : 0.25\n",
            "Threshold : 0.22\n"
          ]
        }
      ]
    },
    {
      "cell_type": "code",
      "source": [
        ""
      ],
      "metadata": {
        "id": "gWFf7XosArCF"
      },
      "execution_count": null,
      "outputs": []
    },
    {
      "cell_type": "markdown",
      "source": [
        "**Bayesian comparison**"
      ],
      "metadata": {
        "id": "W9K-AHstH-vJ"
      }
    },
    {
      "cell_type": "markdown",
      "source": [
        "We have an AUROC equal to 0.76 we don't know if it's good we're going to compare it with Bayesian classifications, so it's important to define points of comparison that will give us the type of performance that we can expect. These Bayesian comparisons will allow us to compare our models"
      ],
      "metadata": {
        "id": "nNdU3-IXF7sk"
      }
    },
    {
      "cell_type": "markdown",
      "source": [
        "DummyClassifier is a classifier that makes predictions using simple rules.\n",
        "\n",
        "This classifier is useful as a simple baseline to compare with other (real) classifiers"
      ],
      "metadata": {
        "id": "w13sKXFlE2Ba"
      }
    },
    {
      "cell_type": "code",
      "source": [
        ""
      ],
      "metadata": {
        "id": "7b_UjyUTF-Bu"
      },
      "execution_count": null,
      "outputs": []
    },
    {
      "cell_type": "code",
      "source": [
        "dummy_clf = DummyClassifier(strategy=\"most_frequent\")\n",
        "dummy_clf.fit(X_train,y_train)"
      ],
      "metadata": {
        "colab": {
          "base_uri": "https://localhost:8080/"
        },
        "id": "PvuQP1h9EGLI",
        "outputId": "e1d89a8d-c7ee-4598-e721-caf3843a0d08"
      },
      "execution_count": null,
      "outputs": [
        {
          "output_type": "execute_result",
          "data": {
            "text/plain": [
              "DummyClassifier(strategy='most_frequent')"
            ]
          },
          "metadata": {},
          "execution_count": 44
        }
      ]
    },
    {
      "cell_type": "code",
      "source": [
        "r=dummy_clf.predict_proba(X_test)[:,1]\n",
        "y_pred_dum=np.array(r>0.5,dtype=int)"
      ],
      "metadata": {
        "id": "_0_EuzpsEGWn"
      },
      "execution_count": null,
      "outputs": []
    },
    {
      "cell_type": "code",
      "source": [
        "# alpha= beta*fn +(1-beta)*fp\n",
        "print('Alpha is equal to: ' ,customScore(y_test,y_pred_dum))"
      ],
      "metadata": {
        "colab": {
          "base_uri": "https://localhost:8080/"
        },
        "id": "1MwWe7cZEGeR",
        "outputId": "15a695fd-b05f-4d9e-c515-7c8041cee794"
      },
      "execution_count": null,
      "outputs": [
        {
          "output_type": "stream",
          "name": "stdout",
          "text": [
            "Alpha is equal to:  5163.2\n"
          ]
        }
      ]
    },
    {
      "cell_type": "code",
      "source": [
        "print('AUC : {}'.format(roc_auc_score(y_test, dummy_clf.predict_proba(X_test)[:, 1])))"
      ],
      "metadata": {
        "colab": {
          "base_uri": "https://localhost:8080/"
        },
        "id": "MRAyB950IEgw",
        "outputId": "599f57db-db26-448c-9ee1-417f836b70e9"
      },
      "execution_count": null,
      "outputs": [
        {
          "output_type": "stream",
          "name": "stdout",
          "text": [
            "AUC : 0.5\n"
          ]
        }
      ]
    },
    {
      "cell_type": "code",
      "source": [
        ""
      ],
      "metadata": {
        "id": "oCsD-hPHIEuG"
      },
      "execution_count": null,
      "outputs": []
    },
    {
      "cell_type": "code",
      "execution_count": null,
      "metadata": {
        "id": "z4I_J-UoB415",
        "colab": {
          "base_uri": "https://localhost:8080/"
        },
        "outputId": "c9bafeb9-88cd-44c7-a30b-e4bb47e66e3c"
      },
      "outputs": [
        {
          "output_type": "execute_result",
          "data": {
            "text/plain": [
              "88"
            ]
          },
          "metadata": {},
          "execution_count": 57
        }
      ],
      "source": [
        "gc.enable()\n",
        "del data\n",
        "gc.collect()"
      ]
    },
    {
      "cell_type": "code",
      "source": [
        ""
      ],
      "metadata": {
        "id": "YC-MoXw3IExp"
      },
      "execution_count": null,
      "outputs": []
    },
    {
      "cell_type": "code",
      "source": [
        ""
      ],
      "metadata": {
        "id": "GA0Eg9eiIE1S"
      },
      "execution_count": null,
      "outputs": []
    },
    {
      "cell_type": "code",
      "source": [
        ""
      ],
      "metadata": {
        "id": "yLVzYODE8LYj"
      },
      "execution_count": null,
      "outputs": []
    },
    {
      "cell_type": "markdown",
      "metadata": {
        "id": "WYPvjSOeT53-"
      },
      "source": [
        "## **Random Forest**"
      ]
    },
    {
      "cell_type": "markdown",
      "metadata": {
        "id": "KJMBmrK7eoO7"
      },
      "source": [
        " http://scikit-learn.org/stable/modules/generated/sklearn.feature_selection.SelectKBest.html#sklearn.feature_selection.SelectKBest"
      ]
    },
    {
      "cell_type": "markdown",
      "metadata": {
        "id": "G_jokfFpiSOl"
      },
      "source": [
        "https://www.kaggle.com/kanncaa1/feature-selection-and-data-visualization"
      ]
    },
    {
      "cell_type": "code",
      "source": [
        ""
      ],
      "metadata": {
        "id": "2Ld2PSidO6PM"
      },
      "execution_count": null,
      "outputs": []
    },
    {
      "cell_type": "code",
      "execution_count": null,
      "metadata": {
        "id": "lgsYsu9mMdJn"
      },
      "outputs": [],
      "source": [
        "data= pd.read_csv('/content/drive/MyDrive/p7/data/NEW_data_data.csv')"
      ]
    },
    {
      "cell_type": "code",
      "execution_count": null,
      "metadata": {
        "id": "NyYI0PU6Bs7m"
      },
      "outputs": [],
      "source": [
        "data.drop('Unnamed: 0', axis=1,inplace=True)"
      ]
    },
    {
      "cell_type": "markdown",
      "metadata": {
        "id": "6FGOCx5nAcLQ"
      },
      "source": [
        "## **Imputation**"
      ]
    },
    {
      "cell_type": "code",
      "execution_count": null,
      "metadata": {
        "id": "G3b3CYHL_2EF",
        "colab": {
          "base_uri": "https://localhost:8080/"
        },
        "outputId": "034c2e8b-d9e9-4a37-c855-7c578b97d5cb"
      },
      "outputs": [
        {
          "output_type": "execute_result",
          "data": {
            "text/plain": [
              "BURO_NEW_FLAG_nan_MEAN_MEAN    0.749487\n",
              "BURO_MONTHS_BALANCE_MIN_MIN    0.749487\n",
              "BURO_STATUS_2_MEAN_MEAN        0.749487\n",
              "BURO_STATUS_1_MEAN_MEAN        0.749487\n",
              "BURO_STATUS_0_MEAN_MEAN        0.749487\n",
              "dtype: float64"
            ]
          },
          "metadata": {},
          "execution_count": 69
        }
      ],
      "source": [
        "# data missing values (in percent)\n",
        "data_missing = (data.isnull().sum() / len(data)).sort_values(ascending = False)\n",
        "data_missing.head()"
      ]
    },
    {
      "cell_type": "code",
      "execution_count": null,
      "metadata": {
        "id": "ZIdMB-sf_2EG",
        "colab": {
          "base_uri": "https://localhost:8080/"
        },
        "outputId": "0e63462b-8086-4fe0-e100-1f0c7f18eb26"
      },
      "outputs": [
        {
          "output_type": "stream",
          "name": "stdout",
          "text": [
            "There are 78 columns with more than 50% missing values\n"
          ]
        }
      ],
      "source": [
        "# Identify missing values above threshold\n",
        "data_missing = data_missing.index[data_missing > 0.5]\n",
        "\n",
        "print('There are %d columns with more than 50%% missing values' % len(data_missing))"
      ]
    },
    {
      "cell_type": "code",
      "execution_count": null,
      "metadata": {
        "id": "6QUGQFDv_2EG",
        "colab": {
          "base_uri": "https://localhost:8080/"
        },
        "outputId": "c4de5cd7-d57e-4808-9a82-f3fac9d13b45"
      },
      "outputs": [
        {
          "output_type": "stream",
          "name": "stdout",
          "text": [
            "data_clean set full shape:  (307505, 561)\n"
          ]
        }
      ],
      "source": [
        "data_clean = data.drop(columns = data_missing)\n",
        "\n",
        "print('data_clean set full shape: ', data_clean.shape)"
      ]
    },
    {
      "cell_type": "code",
      "execution_count": null,
      "metadata": {
        "id": "m839bg9e_2EG"
      },
      "outputs": [],
      "source": [
        "data_clean.isnull().sum().sort_values(ascending=False)"
      ]
    },
    {
      "cell_type": "code",
      "execution_count": null,
      "metadata": {
        "id": "chATvWk9CV8q"
      },
      "outputs": [],
      "source": [
        "data_clean[data_clean==np.inf]=np.nan"
      ]
    },
    {
      "cell_type": "code",
      "execution_count": null,
      "metadata": {
        "id": "t5Z9MjHbAGso"
      },
      "outputs": [],
      "source": [
        "# Imputaion with mod & median\n",
        "def filling_nan_value(df):\n",
        "  column_with_nan = df.columns[df.isnull().any()]\n",
        "  for column in column_with_nan:\n",
        "    df[column]= df[column].fillna(df[column].median())\n",
        "  return (df)"
      ]
    },
    {
      "cell_type": "code",
      "execution_count": null,
      "metadata": {
        "id": "2xxqCBKJBzh7"
      },
      "outputs": [],
      "source": [
        "data_clean = filling_nan_value(data_clean)"
      ]
    },
    {
      "cell_type": "code",
      "execution_count": null,
      "metadata": {
        "id": "8Yw-3QVdCxst",
        "colab": {
          "base_uri": "https://localhost:8080/"
        },
        "outputId": "da445d95-f20b-44a0-da1a-33827cf4b8ea"
      },
      "outputs": [
        {
          "output_type": "execute_result",
          "data": {
            "text/plain": [
              "SK_ID_CURR                                              0\n",
              "PREV_NAME_GOODS_CATEGORY_Construction Materials_MEAN    0\n",
              "PREV_NAME_CLIENT_TYPE_Refreshed_MEAN                    0\n",
              "PREV_NAME_CLIENT_TYPE_Repeater_MEAN                     0\n",
              "PREV_NAME_CLIENT_TYPE_nan_MEAN                          0\n",
              "dtype: int64"
            ]
          },
          "metadata": {},
          "execution_count": 76
        }
      ],
      "source": [
        "data_clean.isnull().sum().sort_values(ascending=False).head()"
      ]
    },
    {
      "cell_type": "code",
      "execution_count": null,
      "metadata": {
        "id": "mQRFVevIxzz8",
        "colab": {
          "base_uri": "https://localhost:8080/"
        },
        "outputId": "c75e3070-0f83-4264-bc9c-89986c888c17"
      },
      "outputs": [
        {
          "output_type": "execute_result",
          "data": {
            "text/plain": [
              "786"
            ]
          },
          "metadata": {},
          "execution_count": 77
        }
      ],
      "source": [
        "gc.enable()\n",
        "del data \n",
        "gc.collect()"
      ]
    },
    {
      "cell_type": "code",
      "execution_count": null,
      "metadata": {
        "id": "-6MG7tmsCTUd"
      },
      "outputs": [],
      "source": [
        ""
      ]
    },
    {
      "cell_type": "markdown",
      "metadata": {
        "id": "7WEMeTkxDSnq"
      },
      "source": [
        "**Spliting**"
      ]
    },
    {
      "cell_type": "code",
      "execution_count": null,
      "metadata": {
        "id": "iuFN6Tp4_2EH",
        "colab": {
          "base_uri": "https://localhost:8080/"
        },
        "outputId": "b6da914d-8fc8-4475-f728-6d43a206f9d0"
      },
      "outputs": [
        {
          "output_type": "stream",
          "name": "stdout",
          "text": [
            "The shape of X_train is (215253, 560)\n",
            "The shape of X_test is (92252, 560)\n",
            "The shape of y_train is (215253,)\n",
            "The shape of y_test is (92252,)\n"
          ]
        }
      ],
      "source": [
        "X= data_clean.drop(['TARGET'],axis=1).copy()\n",
        "y = data_clean['TARGET'].copy()\n",
        "\n",
        "X_train, X_test, y_train, y_test = train_test_split(X ,y,test_size = 0.3,random_state=0)\n",
        "print('The shape of X_train is', X_train.shape)\n",
        "print('The shape of X_test is', X_test.shape)\n",
        "print('The shape of y_train is', y_train.shape)\n",
        "print('The shape of y_test is', y_test.shape)"
      ]
    },
    {
      "cell_type": "code",
      "execution_count": null,
      "metadata": {
        "id": "qg5uI9uK_2EH"
      },
      "outputs": [],
      "source": [
        "X_train.head()"
      ]
    },
    {
      "cell_type": "code",
      "execution_count": null,
      "metadata": {
        "id": "djhP34BHwdWc"
      },
      "outputs": [],
      "source": [
        ""
      ]
    },
    {
      "cell_type": "markdown",
      "metadata": {
        "id": "IKRa8ZGbD1tu"
      },
      "source": [
        "**standard scaler**"
      ]
    },
    {
      "cell_type": "code",
      "execution_count": null,
      "metadata": {
        "id": "dDj05NqMDx74"
      },
      "outputs": [],
      "source": [
        "std_scale=RobustScaler().fit(X_train)\n",
        "#entrainement sur le train\n",
        "\n"
      ]
    },
    {
      "cell_type": "code",
      "execution_count": null,
      "metadata": {
        "id": "mYNCR74sEULP"
      },
      "outputs": [],
      "source": [
        "X_scale_train=std_scale.transform(X_train)\n",
        "#transformation du train\n",
        "X_scale_test=std_scale.transform(X_test)\n",
        "#transformation du test"
      ]
    },
    {
      "cell_type": "code",
      "execution_count": null,
      "metadata": {
        "id": "BnL8NrcVgPsj"
      },
      "outputs": [],
      "source": [
        "scorer = make_scorer(customScore ,greater_is_better = True)\n",
        "#création de notre propre score grace à make_scorer"
      ]
    },
    {
      "cell_type": "code",
      "execution_count": null,
      "metadata": {
        "id": "E9ZThaWhgBed"
      },
      "outputs": [],
      "source": [
        "model=RandomForestClassifier()\n",
        "\n",
        "#la fonction pour mesurer la qualite d'un split est gini\n",
        "#n_estimators= le nombre d'arbre\n",
        "#min_sample split Le nombre minimum d'échantillons requis pour diviser un nœud interne\n",
        "#max_depth est la profondeur de l'arbre\n",
        "params = {'n_estimators':[100,150],\n",
        "          'max_depth':[6,8]}\n",
        "\n",
        "cv=StratifiedKFold(n_splits=5)\n",
        "grid1= GridSearchCV(model, param_grid=params, cv=cv, return_train_score=True, scoring=scorer)"
      ]
    },
    {
      "cell_type": "code",
      "execution_count": null,
      "metadata": {
        "id": "u-1H3sRXgYmM",
        "colab": {
          "base_uri": "https://localhost:8080/"
        },
        "outputId": "8deae2ff-9e2a-49eb-96ed-5ae50eacd153"
      },
      "outputs": [
        {
          "output_type": "execute_result",
          "data": {
            "text/plain": [
              "GridSearchCV(cv=StratifiedKFold(n_splits=5, random_state=None, shuffle=False),\n",
              "             estimator=RandomForestClassifier(),\n",
              "             param_grid={'max_depth': [6, 8], 'n_estimators': [100, 150]},\n",
              "             return_train_score=True, scoring=make_scorer(customScore))"
            ]
          },
          "metadata": {},
          "execution_count": 83
        }
      ],
      "source": [
        "start_timerf=timeit.default_timer()\n",
        "grid1.fit(X_scale_train,y_train)"
      ]
    },
    {
      "cell_type": "code",
      "execution_count": null,
      "metadata": {
        "id": "jkbmaGlCgYpw",
        "colab": {
          "base_uri": "https://localhost:8080/"
        },
        "outputId": "744da1d5-cf2b-428e-f9ff-d272c36bad15"
      },
      "outputs": [
        {
          "output_type": "stream",
          "name": "stdout",
          "text": [
            "Temps éxécution logisque en minutes 6864.616450497\n"
          ]
        }
      ],
      "source": [
        "temps_random=start_timerf\n",
        "print('Temps éxécution logisque en minutes',temps_random)"
      ]
    },
    {
      "cell_type": "code",
      "execution_count": null,
      "metadata": {
        "id": "f9n3ORaFgYsw",
        "colab": {
          "base_uri": "https://localhost:8080/"
        },
        "outputId": "b2475aa5-402e-41e3-c3a0-0b2d660d537d"
      },
      "outputs": [
        {
          "output_type": "execute_result",
          "data": {
            "text/plain": [
              "{'max_depth': 6, 'n_estimators': 100}"
            ]
          },
          "metadata": {},
          "execution_count": 85
        }
      ],
      "source": [
        "#le meilleur parametre \n",
        "grid1.best_params_"
      ]
    },
    {
      "cell_type": "code",
      "execution_count": null,
      "metadata": {
        "id": "3qY35OaJgYvd",
        "colab": {
          "base_uri": "https://localhost:8080/"
        },
        "outputId": "a0c659b1-6057-4293-e86c-5ccb0cebc509"
      },
      "outputs": [
        {
          "output_type": "execute_result",
          "data": {
            "text/plain": [
              "RandomForestClassifier(max_depth=6)"
            ]
          },
          "metadata": {},
          "execution_count": 86
        }
      ],
      "source": [
        "#le meilleur estimateur\n",
        "grid1.best_estimator_"
      ]
    },
    {
      "cell_type": "code",
      "source": [
        "grid1.best_score_#f_betascore"
      ],
      "metadata": {
        "colab": {
          "base_uri": "https://localhost:8080/"
        },
        "id": "M8lAVAvFh8yO",
        "outputId": "db248d8b-0f5a-4b6c-d014-c9784704b1d9"
      },
      "execution_count": null,
      "outputs": [
        {
          "output_type": "execute_result",
          "data": {
            "text/plain": [
              "2442.8599999999997"
            ]
          },
          "metadata": {},
          "execution_count": 87
        }
      ]
    },
    {
      "cell_type": "code",
      "source": [
        "model_random=grid1.best_estimator_"
      ],
      "metadata": {
        "id": "KqXxM60Ah9HC"
      },
      "execution_count": null,
      "outputs": []
    },
    {
      "cell_type": "code",
      "source": [
        ""
      ],
      "metadata": {
        "id": "5k_xs54Fh9QC"
      },
      "execution_count": null,
      "outputs": []
    },
    {
      "cell_type": "code",
      "execution_count": null,
      "metadata": {
        "id": "OHfOUdhCyAUk"
      },
      "outputs": [],
      "source": [
        "rf_feature_imp = model_random.feature_importances_"
      ]
    },
    {
      "cell_type": "code",
      "execution_count": null,
      "metadata": {
        "id": "rO46FnKZyAuz",
        "colab": {
          "base_uri": "https://localhost:8080/",
          "height": 363
        },
        "outputId": "5a3cf367-755a-4ea7-b4d7-fc90dcb23a11"
      },
      "outputs": [
        {
          "output_type": "execute_result",
          "data": {
            "text/html": [
              "\n",
              "  <div id=\"df-ef7a6897-8136-4768-8ee9-33a6766d1b4b\">\n",
              "    <div class=\"colab-df-container\">\n",
              "      <div>\n",
              "<style scoped>\n",
              "    .dataframe tbody tr th:only-of-type {\n",
              "        vertical-align: middle;\n",
              "    }\n",
              "\n",
              "    .dataframe tbody tr th {\n",
              "        vertical-align: top;\n",
              "    }\n",
              "\n",
              "    .dataframe thead th {\n",
              "        text-align: right;\n",
              "    }\n",
              "</style>\n",
              "<table border=\"1\" class=\"dataframe\">\n",
              "  <thead>\n",
              "    <tr style=\"text-align: right;\">\n",
              "      <th></th>\n",
              "      <th>feature</th>\n",
              "      <th>importance</th>\n",
              "    </tr>\n",
              "  </thead>\n",
              "  <tbody>\n",
              "    <tr>\n",
              "      <th>72</th>\n",
              "      <td>NEW_EXT_MEAN</td>\n",
              "      <td>0.226343</td>\n",
              "    </tr>\n",
              "    <tr>\n",
              "      <th>28</th>\n",
              "      <td>EXT_SOURCE_3</td>\n",
              "      <td>0.147715</td>\n",
              "    </tr>\n",
              "    <tr>\n",
              "      <th>27</th>\n",
              "      <td>EXT_SOURCE_2</td>\n",
              "      <td>0.099040</td>\n",
              "    </tr>\n",
              "    <tr>\n",
              "      <th>219</th>\n",
              "      <td>NEW_LABORERS_0.0</td>\n",
              "      <td>0.036068</td>\n",
              "    </tr>\n",
              "    <tr>\n",
              "      <th>9</th>\n",
              "      <td>DAYS_BIRTH</td>\n",
              "      <td>0.026911</td>\n",
              "    </tr>\n",
              "    <tr>\n",
              "      <th>220</th>\n",
              "      <td>NEW_LABORERS_1.0</td>\n",
              "      <td>0.025035</td>\n",
              "    </tr>\n",
              "    <tr>\n",
              "      <th>10</th>\n",
              "      <td>DAYS_EMPLOYED</td>\n",
              "      <td>0.024244</td>\n",
              "    </tr>\n",
              "    <tr>\n",
              "      <th>71</th>\n",
              "      <td>NEW_ANNUITY_CREDIT_RATIO</td>\n",
              "      <td>0.023479</td>\n",
              "    </tr>\n",
              "    <tr>\n",
              "      <th>67</th>\n",
              "      <td>NEW_DAYS_EMPLOYED_PERC</td>\n",
              "      <td>0.022278</td>\n",
              "    </tr>\n",
              "    <tr>\n",
              "      <th>73</th>\n",
              "      <td>NEW_AGE</td>\n",
              "      <td>0.021571</td>\n",
              "    </tr>\n",
              "  </tbody>\n",
              "</table>\n",
              "</div>\n",
              "      <button class=\"colab-df-convert\" onclick=\"convertToInteractive('df-ef7a6897-8136-4768-8ee9-33a6766d1b4b')\"\n",
              "              title=\"Convert this dataframe to an interactive table.\"\n",
              "              style=\"display:none;\">\n",
              "        \n",
              "  <svg xmlns=\"http://www.w3.org/2000/svg\" height=\"24px\"viewBox=\"0 0 24 24\"\n",
              "       width=\"24px\">\n",
              "    <path d=\"M0 0h24v24H0V0z\" fill=\"none\"/>\n",
              "    <path d=\"M18.56 5.44l.94 2.06.94-2.06 2.06-.94-2.06-.94-.94-2.06-.94 2.06-2.06.94zm-11 1L8.5 8.5l.94-2.06 2.06-.94-2.06-.94L8.5 2.5l-.94 2.06-2.06.94zm10 10l.94 2.06.94-2.06 2.06-.94-2.06-.94-.94-2.06-.94 2.06-2.06.94z\"/><path d=\"M17.41 7.96l-1.37-1.37c-.4-.4-.92-.59-1.43-.59-.52 0-1.04.2-1.43.59L10.3 9.45l-7.72 7.72c-.78.78-.78 2.05 0 2.83L4 21.41c.39.39.9.59 1.41.59.51 0 1.02-.2 1.41-.59l7.78-7.78 2.81-2.81c.8-.78.8-2.07 0-2.86zM5.41 20L4 18.59l7.72-7.72 1.47 1.35L5.41 20z\"/>\n",
              "  </svg>\n",
              "      </button>\n",
              "      \n",
              "  <style>\n",
              "    .colab-df-container {\n",
              "      display:flex;\n",
              "      flex-wrap:wrap;\n",
              "      gap: 12px;\n",
              "    }\n",
              "\n",
              "    .colab-df-convert {\n",
              "      background-color: #E8F0FE;\n",
              "      border: none;\n",
              "      border-radius: 50%;\n",
              "      cursor: pointer;\n",
              "      display: none;\n",
              "      fill: #1967D2;\n",
              "      height: 32px;\n",
              "      padding: 0 0 0 0;\n",
              "      width: 32px;\n",
              "    }\n",
              "\n",
              "    .colab-df-convert:hover {\n",
              "      background-color: #E2EBFA;\n",
              "      box-shadow: 0px 1px 2px rgba(60, 64, 67, 0.3), 0px 1px 3px 1px rgba(60, 64, 67, 0.15);\n",
              "      fill: #174EA6;\n",
              "    }\n",
              "\n",
              "    [theme=dark] .colab-df-convert {\n",
              "      background-color: #3B4455;\n",
              "      fill: #D2E3FC;\n",
              "    }\n",
              "\n",
              "    [theme=dark] .colab-df-convert:hover {\n",
              "      background-color: #434B5C;\n",
              "      box-shadow: 0px 1px 3px 1px rgba(0, 0, 0, 0.15);\n",
              "      filter: drop-shadow(0px 1px 2px rgba(0, 0, 0, 0.3));\n",
              "      fill: #FFFFFF;\n",
              "    }\n",
              "  </style>\n",
              "\n",
              "      <script>\n",
              "        const buttonEl =\n",
              "          document.querySelector('#df-ef7a6897-8136-4768-8ee9-33a6766d1b4b button.colab-df-convert');\n",
              "        buttonEl.style.display =\n",
              "          google.colab.kernel.accessAllowed ? 'block' : 'none';\n",
              "\n",
              "        async function convertToInteractive(key) {\n",
              "          const element = document.querySelector('#df-ef7a6897-8136-4768-8ee9-33a6766d1b4b');\n",
              "          const dataTable =\n",
              "            await google.colab.kernel.invokeFunction('convertToInteractive',\n",
              "                                                     [key], {});\n",
              "          if (!dataTable) return;\n",
              "\n",
              "          const docLinkHtml = 'Like what you see? Visit the ' +\n",
              "            '<a target=\"_blank\" href=https://colab.research.google.com/notebooks/data_table.ipynb>data table notebook</a>'\n",
              "            + ' to learn more about interactive tables.';\n",
              "          element.innerHTML = '';\n",
              "          dataTable['output_type'] = 'display_data';\n",
              "          await google.colab.output.renderOutput(dataTable, element);\n",
              "          const docLink = document.createElement('div');\n",
              "          docLink.innerHTML = docLinkHtml;\n",
              "          element.appendChild(docLink);\n",
              "        }\n",
              "      </script>\n",
              "    </div>\n",
              "  </div>\n",
              "  "
            ],
            "text/plain": [
              "                      feature  importance\n",
              "72               NEW_EXT_MEAN    0.226343\n",
              "28               EXT_SOURCE_3    0.147715\n",
              "27               EXT_SOURCE_2    0.099040\n",
              "219          NEW_LABORERS_0.0    0.036068\n",
              "9                  DAYS_BIRTH    0.026911\n",
              "220          NEW_LABORERS_1.0    0.025035\n",
              "10              DAYS_EMPLOYED    0.024244\n",
              "71   NEW_ANNUITY_CREDIT_RATIO    0.023479\n",
              "67     NEW_DAYS_EMPLOYED_PERC    0.022278\n",
              "73                    NEW_AGE    0.021571"
            ]
          },
          "metadata": {},
          "execution_count": 90
        }
      ],
      "source": [
        "feature_importances = pd.DataFrame({'feature': list(X_train.columns), 'importance': rf_feature_imp}).sort_values('importance', ascending = False)\n",
        "\n",
        "feature_importances.head(10)"
      ]
    },
    {
      "cell_type": "code",
      "execution_count": null,
      "metadata": {
        "id": "52OHasKfyAxm"
      },
      "outputs": [],
      "source": [
        "def plot_feature_importances(df, threshold = 0.9):\n",
        "    \"\"\"\n",
        "    Plots 15 most important features and the cumulative importance of features.\n",
        "    Prints the number of features needed to reach threshold cumulative importance.\n",
        "    \n",
        "    Parameters\n",
        "    --------\n",
        "    df : dataframe\n",
        "        Dataframe of feature importances. Columns must be feature and importance\n",
        "    threshold : float, default = 0.9\n",
        "        Threshold for prining information about cumulative importances\n",
        "        \n",
        "    Return\n",
        "    --------\n",
        "    df : dataframe\n",
        "        Dataframe ordered by feature importances with a normalized column (sums to 1)\n",
        "        and a cumulative importance column\n",
        "    \n",
        "    \"\"\"\n",
        "\n",
        "    plt.rcParams['font.size'] = 18\n",
        "    \n",
        "    # Sort features according to importance\n",
        "    df = df.sort_values('importance', ascending = False).reset_index()\n",
        "    \n",
        "    # Normalize the feature importances to add up to one\n",
        "    df['importance_normalized'] = df['importance'] / df['importance'].sum()\n",
        "    df['cumulative_importance'] = np.cumsum(df['importance_normalized'])\n",
        "\n",
        "    # Make a horizontal bar chart of feature importances\n",
        "    plt.figure(figsize = (10, 6))\n",
        "    ax = plt.subplot()\n",
        "    \n",
        "    # Need to reverse the index to plot most important on top\n",
        "    ax.barh(list(reversed(list(df.index[:15]))), \n",
        "            df['importance_normalized'].head(15), \n",
        "            align = 'center', edgecolor = 'k')\n",
        "        # Set the yticks and labels\n",
        "    ax.set_yticks(list(reversed(list(df.index[:15]))))\n",
        "    ax.set_yticklabels(df['feature'].head(15))\n",
        "    \n",
        "    # Plot labeling\n",
        "    plt.xlabel('Normalized Importance'); plt.title('Feature Importances')\n",
        "    plt.show()\n",
        "    \n",
        "    # Cumulative importance plot\n",
        "    plt.figure(figsize = (8, 6))\n",
        "    plt.plot(list(range(len(df))), df['cumulative_importance'], 'r-')\n",
        "    plt.xlabel('Number of Features'); plt.ylabel('Cumulative Importance'); \n",
        "    plt.title('Cumulative Feature Importance');\n",
        "    plt.show();\n",
        "    \n",
        "    importance_index = np.min(np.where(df['cumulative_importance'] > threshold))\n",
        "    print('%d features required for %0.2f of cumulative importance' % (importance_index + 1, threshold))\n",
        "    \n",
        "    return df"
      ]
    },
    {
      "cell_type": "code",
      "execution_count": null,
      "metadata": {
        "id": "ePGb1uA7yy96",
        "colab": {
          "base_uri": "https://localhost:8080/",
          "height": 852
        },
        "outputId": "8ecc4f0f-2283-41cf-a432-cec72ed6e08e"
      },
      "outputs": [
        {
          "output_type": "display_data",
          "data": {
            "image/png": "[encoded data removed]",
            "text/plain": [
              "<Figure size 720x432 with 1 Axes>"
            ]
          },
          "metadata": {
            "needs_background": "light"
          }
        },
        {
          "output_type": "display_data",
          "data": {
            "image/png": "[encoded data removed]",
            "text/plain": [
              "<Figure size 576x432 with 1 Axes>"
            ]
          },
          "metadata": {
            "needs_background": "light"
          }
        },
        {
          "output_type": "stream",
          "name": "stdout",
          "text": [
            "96 features required for 0.90 of cumulative importance\n"
          ]
        }
      ],
      "source": [
        "norm_feature_importances = plot_feature_importances(feature_importances)"
      ]
    },
    {
      "cell_type": "code",
      "execution_count": null,
      "metadata": {
        "id": "PRi1a1Q4yzBJ",
        "colab": {
          "base_uri": "https://localhost:8080/",
          "height": 380
        },
        "outputId": "534df003-2b82-4266-b5bb-682e40d3e117"
      },
      "outputs": [
        {
          "output_type": "stream",
          "name": "stdout",
          "text": [
            "There are 109 features with 0.0 importance\n"
          ]
        },
        {
          "output_type": "execute_result",
          "data": {
            "text/html": [
              "\n",
              "  <div id=\"df-f07d1e88-f426-44d0-8ebf-9eebd4a070d9\">\n",
              "    <div class=\"colab-df-container\">\n",
              "      <div>\n",
              "<style scoped>\n",
              "    .dataframe tbody tr th:only-of-type {\n",
              "        vertical-align: middle;\n",
              "    }\n",
              "\n",
              "    .dataframe tbody tr th {\n",
              "        vertical-align: top;\n",
              "    }\n",
              "\n",
              "    .dataframe thead th {\n",
              "        text-align: right;\n",
              "    }\n",
              "</style>\n",
              "<table border=\"1\" class=\"dataframe\">\n",
              "  <thead>\n",
              "    <tr style=\"text-align: right;\">\n",
              "      <th></th>\n",
              "      <th>feature</th>\n",
              "      <th>importance</th>\n",
              "    </tr>\n",
              "  </thead>\n",
              "  <tbody>\n",
              "    <tr>\n",
              "      <th>212</th>\n",
              "      <td>NEW_HAS_CAR_nan</td>\n",
              "      <td>0.0</td>\n",
              "    </tr>\n",
              "    <tr>\n",
              "      <th>213</th>\n",
              "      <td>NEW_RENT_EXPENSE_0.0</td>\n",
              "      <td>0.0</td>\n",
              "    </tr>\n",
              "    <tr>\n",
              "      <th>215</th>\n",
              "      <td>NEW_RENT_EXPENSE_nan</td>\n",
              "      <td>0.0</td>\n",
              "    </tr>\n",
              "    <tr>\n",
              "      <th>218</th>\n",
              "      <td>NEW_HAS_COMPANY_nan</td>\n",
              "      <td>0.0</td>\n",
              "    </tr>\n",
              "    <tr>\n",
              "      <th>54</th>\n",
              "      <td>FLAG_DOCUMENT_19</td>\n",
              "      <td>0.0</td>\n",
              "    </tr>\n",
              "    <tr>\n",
              "      <th>221</th>\n",
              "      <td>NEW_LABORERS_nan</td>\n",
              "      <td>0.0</td>\n",
              "    </tr>\n",
              "    <tr>\n",
              "      <th>53</th>\n",
              "      <td>FLAG_DOCUMENT_18</td>\n",
              "      <td>0.0</td>\n",
              "    </tr>\n",
              "    <tr>\n",
              "      <th>52</th>\n",
              "      <td>FLAG_DOCUMENT_17</td>\n",
              "      <td>0.0</td>\n",
              "    </tr>\n",
              "    <tr>\n",
              "      <th>225</th>\n",
              "      <td>NEW_AGE_SEGMENT_nan</td>\n",
              "      <td>0.0</td>\n",
              "    </tr>\n",
              "    <tr>\n",
              "      <th>280</th>\n",
              "      <td>CLOSED_AMT_CREDIT_SUM_OVERDUE_MEAN</td>\n",
              "      <td>0.0</td>\n",
              "    </tr>\n",
              "  </tbody>\n",
              "</table>\n",
              "</div>\n",
              "      <button class=\"colab-df-convert\" onclick=\"convertToInteractive('df-f07d1e88-f426-44d0-8ebf-9eebd4a070d9')\"\n",
              "              title=\"Convert this dataframe to an interactive table.\"\n",
              "              style=\"display:none;\">\n",
              "        \n",
              "  <svg xmlns=\"http://www.w3.org/2000/svg\" height=\"24px\"viewBox=\"0 0 24 24\"\n",
              "       width=\"24px\">\n",
              "    <path d=\"M0 0h24v24H0V0z\" fill=\"none\"/>\n",
              "    <path d=\"M18.56 5.44l.94 2.06.94-2.06 2.06-.94-2.06-.94-.94-2.06-.94 2.06-2.06.94zm-11 1L8.5 8.5l.94-2.06 2.06-.94-2.06-.94L8.5 2.5l-.94 2.06-2.06.94zm10 10l.94 2.06.94-2.06 2.06-.94-2.06-.94-.94-2.06-.94 2.06-2.06.94z\"/><path d=\"M17.41 7.96l-1.37-1.37c-.4-.4-.92-.59-1.43-.59-.52 0-1.04.2-1.43.59L10.3 9.45l-7.72 7.72c-.78.78-.78 2.05 0 2.83L4 21.41c.39.39.9.59 1.41.59.51 0 1.02-.2 1.41-.59l7.78-7.78 2.81-2.81c.8-.78.8-2.07 0-2.86zM5.41 20L4 18.59l7.72-7.72 1.47 1.35L5.41 20z\"/>\n",
              "  </svg>\n",
              "      </button>\n",
              "      \n",
              "  <style>\n",
              "    .colab-df-container {\n",
              "      display:flex;\n",
              "      flex-wrap:wrap;\n",
              "      gap: 12px;\n",
              "    }\n",
              "\n",
              "    .colab-df-convert {\n",
              "      background-color: #E8F0FE;\n",
              "      border: none;\n",
              "      border-radius: 50%;\n",
              "      cursor: pointer;\n",
              "      display: none;\n",
              "      fill: #1967D2;\n",
              "      height: 32px;\n",
              "      padding: 0 0 0 0;\n",
              "      width: 32px;\n",
              "    }\n",
              "\n",
              "    .colab-df-convert:hover {\n",
              "      background-color: #E2EBFA;\n",
              "      box-shadow: 0px 1px 2px rgba(60, 64, 67, 0.3), 0px 1px 3px 1px rgba(60, 64, 67, 0.15);\n",
              "      fill: #174EA6;\n",
              "    }\n",
              "\n",
              "    [theme=dark] .colab-df-convert {\n",
              "      background-color: #3B4455;\n",
              "      fill: #D2E3FC;\n",
              "    }\n",
              "\n",
              "    [theme=dark] .colab-df-convert:hover {\n",
              "      background-color: #434B5C;\n",
              "      box-shadow: 0px 1px 3px 1px rgba(0, 0, 0, 0.15);\n",
              "      filter: drop-shadow(0px 1px 2px rgba(0, 0, 0, 0.3));\n",
              "      fill: #FFFFFF;\n",
              "    }\n",
              "  </style>\n",
              "\n",
              "      <script>\n",
              "        const buttonEl =\n",
              "          document.querySelector('#df-f07d1e88-f426-44d0-8ebf-9eebd4a070d9 button.colab-df-convert');\n",
              "        buttonEl.style.display =\n",
              "          google.colab.kernel.accessAllowed ? 'block' : 'none';\n",
              "\n",
              "        async function convertToInteractive(key) {\n",
              "          const element = document.querySelector('#df-f07d1e88-f426-44d0-8ebf-9eebd4a070d9');\n",
              "          const dataTable =\n",
              "            await google.colab.kernel.invokeFunction('convertToInteractive',\n",
              "                                                     [key], {});\n",
              "          if (!dataTable) return;\n",
              "\n",
              "          const docLinkHtml = 'Like what you see? Visit the ' +\n",
              "            '<a target=\"_blank\" href=https://colab.research.google.com/notebooks/data_table.ipynb>data table notebook</a>'\n",
              "            + ' to learn more about interactive tables.';\n",
              "          element.innerHTML = '';\n",
              "          dataTable['output_type'] = 'display_data';\n",
              "          await google.colab.output.renderOutput(dataTable, element);\n",
              "          const docLink = document.createElement('div');\n",
              "          docLink.innerHTML = docLinkHtml;\n",
              "          element.appendChild(docLink);\n",
              "        }\n",
              "      </script>\n",
              "    </div>\n",
              "  </div>\n",
              "  "
            ],
            "text/plain": [
              "                                feature  importance\n",
              "212                     NEW_HAS_CAR_nan         0.0\n",
              "213                NEW_RENT_EXPENSE_0.0         0.0\n",
              "215                NEW_RENT_EXPENSE_nan         0.0\n",
              "218                 NEW_HAS_COMPANY_nan         0.0\n",
              "54                     FLAG_DOCUMENT_19         0.0\n",
              "221                    NEW_LABORERS_nan         0.0\n",
              "53                     FLAG_DOCUMENT_18         0.0\n",
              "52                     FLAG_DOCUMENT_17         0.0\n",
              "225                 NEW_AGE_SEGMENT_nan         0.0\n",
              "280  CLOSED_AMT_CREDIT_SUM_OVERDUE_MEAN         0.0"
            ]
          },
          "metadata": {},
          "execution_count": 93
        }
      ],
      "source": [
        "# Find the features with zero importance\n",
        "zero_features = list(feature_importances[feature_importances['importance'] == 0.0]['feature'])\n",
        "print('There are %d features with 0.0 importance' % len(zero_features))\n",
        "feature_importances.tail(10)"
      ]
    },
    {
      "cell_type": "code",
      "execution_count": null,
      "metadata": {
        "id": "CBqOiVd4yzEL",
        "colab": {
          "base_uri": "https://localhost:8080/"
        },
        "outputId": "40f942f0-ae0d-44f0-b791-14fb41d43904"
      },
      "outputs": [
        {
          "output_type": "stream",
          "name": "stdout",
          "text": [
            "Training shape:  (215253, 451)\n",
            "Testing shape:  (92252, 451)\n"
          ]
        }
      ],
      "source": [
        "X_train = X_train.drop(columns = zero_features)\n",
        "X_test = X_test.drop(columns = zero_features)\n",
        "\n",
        "print('Training shape: ', X_train.shape)\n",
        "print('Testing shape: ', X_test.shape)"
      ]
    },
    {
      "cell_type": "code",
      "execution_count": null,
      "metadata": {
        "id": "MQiIBbLwinxF"
      },
      "outputs": [],
      "source": [
        ""
      ]
    },
    {
      "cell_type": "code",
      "execution_count": null,
      "metadata": {
        "id": "c-POigfcyzHi"
      },
      "outputs": [],
      "source": [
        "def identify_zero_importance_features(X, y, iterations = 2):\n",
        "    \"\"\"\n",
        "    Identify zero importance features in a training dataset based on the \n",
        "    feature importances from a gradient boosting model. \n",
        "    \n",
        "    Parameters\n",
        "    --------\n",
        "    x_train : dataframe\n",
        "        Training features\n",
        "        \n",
        "    x_test : np.array\n",
        "        Labels for training data\n",
        "        \n",
        "    iterations : integer, default = 2\n",
        "        Number of cross validation splits to use for determining feature importances\n",
        "    \"\"\"\n",
        "    # Initialize an empty array to hold feature importances\n",
        "    feature_importances = np.zeros(X_train.shape[1])\n",
        "\n",
        "    # Create the model with several hyperparameters\n",
        "    clf_rf = RandomForestClassifier(n_jobs=-1,\n",
        "                            class_weight='balanced',\n",
        "                            max_depth=6,\n",
        "                            random_state=43)      \n",
        "\n",
        "    \n",
        "    \n",
        "    # Fit the model multiple times to avoid overfitting\n",
        "    for i in range(iterations):\n",
        "\n",
        "        # Train using early stopping\n",
        "        clf_rf.fit(X_train,y_train)\n",
        "\n",
        "        # Record the feature importances\n",
        "        feature_importances += clf_rf.feature_importances_ / iterations\n",
        "\n",
        "            \n",
        "    feature_importances = pd.DataFrame({'feature': list(X_train.columns), 'importance': feature_importances}).sort_values('importance', ascending = False)\n",
        "    \n",
        "    # Find the features with zero importance\n",
        "    zero_features = list(feature_importances[feature_importances['importance'] == 0.0]['feature'])\n",
        "    print('\\nThere are %d features with 0.0 importance' % len(zero_features))\n",
        "    \n",
        "    return zero_features, feature_importances"
      ]
    },
    {
      "cell_type": "code",
      "execution_count": null,
      "metadata": {
        "id": "bv_Q5FqH38_1",
        "colab": {
          "base_uri": "https://localhost:8080/"
        },
        "outputId": "2bc3f89a-72f4-4fe9-d764-f5ea7426cee6"
      },
      "outputs": [
        {
          "output_type": "stream",
          "name": "stdout",
          "text": [
            "\n",
            "There are 40 features with 0.0 importance\n"
          ]
        }
      ],
      "source": [
        "second_round_zero_features, feature_importances = identify_zero_importance_features(X_train, y_train)"
      ]
    },
    {
      "cell_type": "code",
      "execution_count": null,
      "metadata": {
        "id": "c6Q1HKioyPmG",
        "colab": {
          "base_uri": "https://localhost:8080/"
        },
        "outputId": "6fcdbae4-78cb-4969-c613-d3c5694804c4"
      },
      "outputs": [
        {
          "output_type": "stream",
          "name": "stdout",
          "text": [
            "Training shape:  (215253, 411)\n",
            "Testing shape:  (92252, 411)\n"
          ]
        }
      ],
      "source": [
        "X_train = X_train.drop(columns = second_round_zero_features)\n",
        "X_test = X_test.drop(columns = second_round_zero_features)\n",
        "\n",
        "print('Training shape: ', X_train.shape)\n",
        "print('Testing shape: ', X_test.shape)"
      ]
    },
    {
      "cell_type": "code",
      "execution_count": null,
      "metadata": {
        "id": "0CdUVtwkiiok",
        "colab": {
          "base_uri": "https://localhost:8080/"
        },
        "outputId": "c455d0f1-2d48-4dc2-ea79-71ddeb99cb4d"
      },
      "outputs": [
        {
          "output_type": "stream",
          "name": "stdout",
          "text": [
            "\n",
            "There are 18 features with 0.0 importance\n"
          ]
        }
      ],
      "source": [
        "second_round_zero_features, feature_importances = identify_zero_importance_features(X_train, y_train)"
      ]
    },
    {
      "cell_type": "code",
      "execution_count": null,
      "metadata": {
        "id": "vrb1ax8qiiuP",
        "colab": {
          "base_uri": "https://localhost:8080/"
        },
        "outputId": "fb53dcb8-a8b8-49a2-b0aa-ee839dab3030"
      },
      "outputs": [
        {
          "output_type": "stream",
          "name": "stdout",
          "text": [
            "Training shape:  (215253, 393)\n",
            "Testing shape:  (92252, 393)\n"
          ]
        }
      ],
      "source": [
        "X_train = X_train.drop(columns = second_round_zero_features)\n",
        "X_test = X_test.drop(columns = second_round_zero_features)\n",
        "\n",
        "print('Training shape: ', X_train.shape)\n",
        "print('Testing shape: ', X_test.shape)"
      ]
    },
    {
      "cell_type": "code",
      "execution_count": null,
      "metadata": {
        "id": "E1somn_8jR1M",
        "colab": {
          "base_uri": "https://localhost:8080/"
        },
        "outputId": "c0872866-64dc-428d-bd19-4b27a257891d"
      },
      "outputs": [
        {
          "output_type": "stream",
          "name": "stdout",
          "text": [
            "\n",
            "There are 8 features with 0.0 importance\n"
          ]
        }
      ],
      "source": [
        "second_round_zero_features, feature_importances = identify_zero_importance_features(X_train, y_train)"
      ]
    },
    {
      "cell_type": "code",
      "execution_count": null,
      "metadata": {
        "id": "2V7KDJvhjR5A",
        "colab": {
          "base_uri": "https://localhost:8080/"
        },
        "outputId": "679c0f41-d7df-4d5d-d72d-377db7042107"
      },
      "outputs": [
        {
          "output_type": "stream",
          "name": "stdout",
          "text": [
            "Training shape:  (215253, 385)\n",
            "Testing shape:  (92252, 385)\n"
          ]
        }
      ],
      "source": [
        "X_train = X_train.drop(columns = second_round_zero_features)\n",
        "X_test = X_test.drop(columns = second_round_zero_features)\n",
        "\n",
        "print('Training shape: ', X_train.shape)\n",
        "print('Testing shape: ', X_test.shape)"
      ]
    },
    {
      "cell_type": "code",
      "execution_count": null,
      "metadata": {
        "id": "XqwIMdSJj-kD"
      },
      "outputs": [],
      "source": [
        ""
      ]
    },
    {
      "cell_type": "code",
      "execution_count": null,
      "metadata": {
        "id": "iifPbKE439Ef",
        "colab": {
          "base_uri": "https://localhost:8080/",
          "height": 852
        },
        "outputId": "f3feb872-bba4-43dc-8d0d-e5d73552c03e"
      },
      "outputs": [
        {
          "output_type": "display_data",
          "data": {
            "image/png": "[encoded data removed]",
            "text/plain": [
              "<Figure size 720x432 with 1 Axes>"
            ]
          },
          "metadata": {
            "needs_background": "light"
          }
        },
        {
          "output_type": "display_data",
          "data": {
            "image/png": "[encoded data removed]",
            "text/plain": [
              "<Figure size 576x432 with 1 Axes>"
            ]
          },
          "metadata": {
            "needs_background": "light"
          }
        },
        {
          "output_type": "stream",
          "name": "stdout",
          "text": [
            "124 features required for 0.95 of cumulative importance\n"
          ]
        }
      ],
      "source": [
        "norm_feature_importances = plot_feature_importances(feature_importances, threshold = 0.95)"
      ]
    },
    {
      "cell_type": "code",
      "execution_count": null,
      "metadata": {
        "id": "aHP-RKhp0Hyn"
      },
      "outputs": [],
      "source": [
        ""
      ]
    },
    {
      "cell_type": "code",
      "execution_count": null,
      "metadata": {
        "id": "cel0JslP4he2"
      },
      "outputs": [],
      "source": [
        "# Threshold for cumulative importance\n",
        "threshold = 0.95\n",
        "\n",
        "# Extract the features to keep\n",
        "features_to_keep = list(norm_feature_importances[norm_feature_importances['cumulative_importance'] < threshold]['feature'])\n",
        "\n",
        "# Create new datasets with smaller features\n",
        "train_small = X_train[features_to_keep]\n",
        "test_small = X_test[features_to_keep]"
      ]
    },
    {
      "cell_type": "code",
      "execution_count": null,
      "metadata": {
        "id": "aATtXofJ4hpc",
        "colab": {
          "base_uri": "https://localhost:8080/"
        },
        "outputId": "df68fb70-2160-4d11-8a8c-549db747a3c7"
      },
      "outputs": [
        {
          "output_type": "execute_result",
          "data": {
            "text/plain": [
              "(215253, 123)"
            ]
          },
          "metadata": {},
          "execution_count": 104
        }
      ],
      "source": [
        "train_small.shape"
      ]
    },
    {
      "cell_type": "code",
      "execution_count": null,
      "metadata": {
        "id": "HZLyR6HV-YV6"
      },
      "outputs": [],
      "source": [
        ""
      ]
    },
    {
      "cell_type": "code",
      "source": [
        "df2=pd.DataFrame()\n",
        "df2['predict']= model_random.predict_proba(X_scale_test)[:,1]"
      ],
      "metadata": {
        "id": "FqvMLaAmogS-"
      },
      "execution_count": null,
      "outputs": []
    },
    {
      "cell_type": "code",
      "source": [
        "plt.figure()\n",
        "Histo('predict',df2,50)\n",
        "plt.title('Graphique des probabibilités d\\'affectation')"
      ],
      "metadata": {
        "colab": {
          "base_uri": "https://localhost:8080/",
          "height": 410
        },
        "id": "0pB7NcxVogW9",
        "outputId": "0533cc99-6af8-4eb4-b80c-ba7c48b0b715"
      },
      "execution_count": null,
      "outputs": [
        {
          "output_type": "execute_result",
          "data": {
            "text/plain": [
              "Text(0.5, 1.0, \"Graphique des probabibilités d'affectation\")"
            ]
          },
          "metadata": {},
          "execution_count": 106
        },
        {
          "output_type": "display_data",
          "data": {
            "text/plain": [
              "<Figure size 432x288 with 0 Axes>"
            ]
          },
          "metadata": {}
        },
        {
          "output_type": "display_data",
          "data": {
            "image/png": "[encoded data removed]",
            "text/plain": [
              "<Figure size 360x360 with 1 Axes>"
            ]
          },
          "metadata": {
            "needs_background": "light"
          }
        }
      ]
    },
    {
      "cell_type": "code",
      "source": [
        ""
      ],
      "metadata": {
        "id": "0m_dG8Hloga5"
      },
      "execution_count": null,
      "outputs": []
    },
    {
      "cell_type": "code",
      "source": [
        "#prédiction\n",
        "#y_pred = model_best.predict(X_scale_test)\n",
        "#on va prendre la deuxieme colonne qui est le score de présence \n",
        "#model_best.predict_proba(X_scale_test)[:,1]>0.5\n",
        "r= model_random.predict_proba(X_scale_test)[:,1]\n",
        "y_predr= np.array(r>0.12,dtype=int)"
      ],
      "metadata": {
        "id": "rxoGhZoHogdR"
      },
      "execution_count": null,
      "outputs": []
    },
    {
      "cell_type": "code",
      "execution_count": null,
      "metadata": {
        "colab": {
          "base_uri": "https://localhost:8080/",
          "height": 410
        },
        "id": "OBzF_9p0i-Rf",
        "outputId": "5e640a78-aca7-4e1f-e93b-1e58833cf067"
      },
      "outputs": [
        {
          "output_type": "execute_result",
          "data": {
            "text/plain": [
              "Text(0.5, 1.0, \"Graphique des probabibilités d'affectation Random Forest\")"
            ]
          },
          "metadata": {},
          "execution_count": 110
        },
        {
          "output_type": "display_data",
          "data": {
            "text/plain": [
              "<Figure size 432x288 with 0 Axes>"
            ]
          },
          "metadata": {}
        },
        {
          "output_type": "display_data",
          "data": {
            "image/png": "[encoded data removed]",
            "text/plain": [
              "<Figure size 360x360 with 1 Axes>"
            ]
          },
          "metadata": {
            "needs_background": "light"
          }
        }
      ],
      "source": [
        "plt.figure()\n",
        "Histo('predict',df2,50)\n",
        "plt.axvline(x=0.12, color='red')\n",
        "plt.annotate('Le Client  ne Rembourse pas',xy=(0.65,1500),xytext=(0.7,2000),arrowprops=\n",
        "             {'facecolor':'#5930F2'})\n",
        "plt.title('Graphique des probabibilités d\\'affectation Random Forest')"
      ]
    },
    {
      "cell_type": "code",
      "source": [
        "logi_confusion = me.confusion_matrix(y_test, y_predr)"
      ],
      "metadata": {
        "id": "7lwK6ky38LeS"
      },
      "execution_count": null,
      "outputs": []
    },
    {
      "cell_type": "code",
      "source": [
        "print(logi_confusion)"
      ],
      "metadata": {
        "colab": {
          "base_uri": "https://localhost:8080/"
        },
        "id": "U5g5W43m8LhQ",
        "outputId": "0584dd47-1658-47a2-8e21-dd14252b16eb"
      },
      "execution_count": null,
      "outputs": [
        {
          "output_type": "stream",
          "name": "stdout",
          "text": [
            "[[76111  8765]\n",
            " [ 4782  2594]]\n"
          ]
        }
      ]
    },
    {
      "cell_type": "code",
      "execution_count": null,
      "metadata": {
        "id": "zP8lPRRVCtFA",
        "colab": {
          "base_uri": "https://localhost:8080/"
        },
        "outputId": "da8d85f7-ea12-4685-fd57-b819055a2ea2"
      },
      "outputs": [
        {
          "output_type": "stream",
          "name": "stdout",
          "text": [
            "              precision    recall  f1-score   support\n",
            "\n",
            "         0.0       0.94      0.90      0.92     84876\n",
            "         1.0       0.23      0.35      0.28      7376\n",
            "\n",
            "    accuracy                           0.85     92252\n",
            "   macro avg       0.58      0.62      0.60     92252\n",
            "weighted avg       0.88      0.85      0.87     92252\n",
            "\n"
          ]
        }
      ],
      "source": [
        "print(classification_report(y_test, y_predr))"
      ]
    },
    {
      "cell_type": "code",
      "source": [
        "score_random=customScore(y_test, y_predr)\n",
        "#notre scorer"
      ],
      "metadata": {
        "id": "PZUzzJC8pwT0"
      },
      "execution_count": null,
      "outputs": []
    },
    {
      "cell_type": "code",
      "source": [
        "score_LGBM ,score_random"
      ],
      "metadata": {
        "colab": {
          "base_uri": "https://localhost:8080/"
        },
        "id": "gVE4bANLpwYC",
        "outputId": "51a74702-161f-4ef3-9ff7-2d8798925ed0"
      },
      "execution_count": null,
      "outputs": [
        {
          "output_type": "execute_result",
          "data": {
            "text/plain": [
              "(8865.400000000001, 5976.9)"
            ]
          },
          "metadata": {},
          "execution_count": 116
        }
      ]
    },
    {
      "cell_type": "code",
      "source": [
        "precisionRandom= accuracy_score(y_test, y_predr)\n",
        "precisionRandom"
      ],
      "metadata": {
        "colab": {
          "base_uri": "https://localhost:8080/"
        },
        "id": "QBA1oLqJpwbC",
        "outputId": "2743938e-88a7-4ccb-f517-d90a9c782c29"
      },
      "execution_count": null,
      "outputs": [
        {
          "output_type": "execute_result",
          "data": {
            "text/plain": [
              "0.8531522351818931"
            ]
          },
          "metadata": {},
          "execution_count": 117
        }
      ]
    },
    {
      "cell_type": "code",
      "source": [
        "rappel_random=recall_score(y_test, y_predr)\n",
        "rappel_random"
      ],
      "metadata": {
        "colab": {
          "base_uri": "https://localhost:8080/"
        },
        "id": "rcT0_5Nwpwd8",
        "outputId": "a7010215-56de-46a4-c0d7-3e1217a0f3ad"
      },
      "execution_count": null,
      "outputs": [
        {
          "output_type": "execute_result",
          "data": {
            "text/plain": [
              "0.35168112798264645"
            ]
          },
          "metadata": {},
          "execution_count": 118
        }
      ]
    },
    {
      "cell_type": "code",
      "source": [
        ""
      ],
      "metadata": {
        "id": "B5w4mQnppwj9"
      },
      "execution_count": null,
      "outputs": []
    },
    {
      "cell_type": "code",
      "execution_count": null,
      "metadata": {
        "id": "OQNW0VJWC9_5",
        "colab": {
          "base_uri": "https://localhost:8080/"
        },
        "outputId": "c818533c-6790-4f96-cf4b-0a64f43a6a91"
      },
      "outputs": [
        {
          "output_type": "stream",
          "name": "stdout",
          "text": [
            "[[76111  8765]\n",
            " [ 4782  2594]]\n",
            "\n",
            "              precision    recall  f1-score   support\n",
            "\n",
            "         0.0       0.94      0.90      0.92     84876\n",
            "         1.0       0.23      0.35      0.28      7376\n",
            "\n",
            "    accuracy                           0.85     92252\n",
            "   macro avg       0.58      0.62      0.60     92252\n",
            "weighted avg       0.88      0.85      0.87     92252\n",
            "\n"
          ]
        }
      ],
      "source": [
        "cls_labels_transform = conf_mat_transform(y_test, y_predr)\n",
        "conf_mat = me.confusion_matrix(y_test, y_predr)\n",
        "print(conf_mat)\n",
        "print()\n",
        "print(me.classification_report(y_test, y_predr))\n",
        "#accuracy =precision la plus part sont prédits positifs et le sont effectivement\n",
        "#recall=sensibilte taux de vrais positifs \n",
        "#specifite =taux de varais negatifs"
      ]
    },
    {
      "cell_type": "code",
      "execution_count": null,
      "metadata": {
        "id": "mkj1pXX_Eip_",
        "colab": {
          "base_uri": "https://localhost:8080/",
          "height": 368
        },
        "outputId": "8864c3c7-4115-46ae-9228-a3924b389c32"
      },
      "outputs": [
        {
          "output_type": "execute_result",
          "data": {
            "text/plain": [
              "Text(16.0, 0.5, 'Predict')"
            ]
          },
          "metadata": {},
          "execution_count": 121
        },
        {
          "output_type": "display_data",
          "data": {
            "image/png": "[encoded data removed]",
            "text/plain": [
              "<Figure size 360x360 with 2 Axes>"
            ]
          },
          "metadata": {
            "needs_background": "light"
          }
        }
      ],
      "source": [
        "df_cm = pd.DataFrame(conf_mat/y_test.shape[0], index = [label for label in data_clean['TARGET'].value_counts().index ],\n",
        "                  columns = [i for i in data_clean['TARGET'].value_counts().index ])\n",
        "plt.figure(figsize = (5,5))\n",
        "sns.heatmap(df_cm, annot=True, cmap=\"Blues\")\n",
        "plt.xlabel('Actual',fontsize = 20, fontweight = 'bold')\n",
        "plt.ylabel('Predict',fontsize = 20, fontweight = 'bold')"
      ]
    },
    {
      "cell_type": "code",
      "execution_count": null,
      "metadata": {
        "id": "4G47eY3UC-Fx"
      },
      "outputs": [],
      "source": [
        ""
      ]
    },
    {
      "cell_type": "code",
      "source": [
        "from sklearn.metrics import roc_auc_score\n",
        "[fpr, tpr, thr]  = me.roc_curve(y_test, model_random.predict_proba(X_scale_test)[:, 1])\n",
        "#1-fpr correspond a la antispecifite pour la vrais specifite 1-valeur\n",
        "#tpr le rappel , sensibilité\n",
        "#thr le seuil \n",
        "\n",
        "df_roc = pd.DataFrame({'thr': thr, 'tpr': tpr, 'fpr': fpr})\n",
        "plt.plot(fpr, tpr, marker='o')\n",
        "plt.xlabel('1 - specificite')\n",
        "plt.ylabel('Sensibilite-Rappel')\n",
        "plt.grid()\n",
        "display(df_roc)\n",
        "#ceci est notre AUROC qui permet de comparer \n",
        "AUROCRandom=roc_auc_score(y_test, model_random.predict_proba(X_scale_test)[:, 1])\n",
        "\n",
        "print('AUC : {}'.format(roc_auc_score(y_test, model_random.predict_proba(X_scale_test)[:, 1])))"
      ],
      "metadata": {
        "colab": {
          "base_uri": "https://localhost:8080/",
          "height": 719
        },
        "id": "kC1IidjMr7Qg",
        "outputId": "093f48f1-65e1-423b-cbb3-d7148c3e4b53"
      },
      "execution_count": null,
      "outputs": [
        {
          "output_type": "display_data",
          "data": {
            "text/html": [
              "\n",
              "  <div id=\"df-d319c2d6-56eb-4761-a34b-0b9ec3c59b28\">\n",
              "    <div class=\"colab-df-container\">\n",
              "      <div>\n",
              "<style scoped>\n",
              "    .dataframe tbody tr th:only-of-type {\n",
              "        vertical-align: middle;\n",
              "    }\n",
              "\n",
              "    .dataframe tbody tr th {\n",
              "        vertical-align: top;\n",
              "    }\n",
              "\n",
              "    .dataframe thead th {\n",
              "        text-align: right;\n",
              "    }\n",
              "</style>\n",
              "<table border=\"1\" class=\"dataframe\">\n",
              "  <thead>\n",
              "    <tr style=\"text-align: right;\">\n",
              "      <th></th>\n",
              "      <th>thr</th>\n",
              "      <th>tpr</th>\n",
              "      <th>fpr</th>\n",
              "    </tr>\n",
              "  </thead>\n",
              "  <tbody>\n",
              "    <tr>\n",
              "      <th>0</th>\n",
              "      <td>1.231740</td>\n",
              "      <td>0.000000</td>\n",
              "      <td>0.000000</td>\n",
              "    </tr>\n",
              "    <tr>\n",
              "      <th>1</th>\n",
              "      <td>0.231740</td>\n",
              "      <td>0.000000</td>\n",
              "      <td>0.000012</td>\n",
              "    </tr>\n",
              "    <tr>\n",
              "      <th>2</th>\n",
              "      <td>0.229541</td>\n",
              "      <td>0.000000</td>\n",
              "      <td>0.000024</td>\n",
              "    </tr>\n",
              "    <tr>\n",
              "      <th>3</th>\n",
              "      <td>0.223850</td>\n",
              "      <td>0.000271</td>\n",
              "      <td>0.000024</td>\n",
              "    </tr>\n",
              "    <tr>\n",
              "      <th>4</th>\n",
              "      <td>0.222758</td>\n",
              "      <td>0.000271</td>\n",
              "      <td>0.000035</td>\n",
              "    </tr>\n",
              "    <tr>\n",
              "      <th>...</th>\n",
              "      <td>...</td>\n",
              "      <td>...</td>\n",
              "      <td>...</td>\n",
              "    </tr>\n",
              "    <tr>\n",
              "      <th>12720</th>\n",
              "      <td>0.041238</td>\n",
              "      <td>0.999729</td>\n",
              "      <td>0.995806</td>\n",
              "    </tr>\n",
              "    <tr>\n",
              "      <th>12721</th>\n",
              "      <td>0.041238</td>\n",
              "      <td>0.999864</td>\n",
              "      <td>0.995806</td>\n",
              "    </tr>\n",
              "    <tr>\n",
              "      <th>12722</th>\n",
              "      <td>0.040913</td>\n",
              "      <td>0.999864</td>\n",
              "      <td>0.996560</td>\n",
              "    </tr>\n",
              "    <tr>\n",
              "      <th>12723</th>\n",
              "      <td>0.040912</td>\n",
              "      <td>1.000000</td>\n",
              "      <td>0.996560</td>\n",
              "    </tr>\n",
              "    <tr>\n",
              "      <th>12724</th>\n",
              "      <td>0.034192</td>\n",
              "      <td>1.000000</td>\n",
              "      <td>1.000000</td>\n",
              "    </tr>\n",
              "  </tbody>\n",
              "</table>\n",
              "<p>12725 rows × 3 columns</p>\n",
              "</div>\n",
              "      <button class=\"colab-df-convert\" onclick=\"convertToInteractive('df-d319c2d6-56eb-4761-a34b-0b9ec3c59b28')\"\n",
              "              title=\"Convert this dataframe to an interactive table.\"\n",
              "              style=\"display:none;\">\n",
              "        \n",
              "  <svg xmlns=\"http://www.w3.org/2000/svg\" height=\"24px\"viewBox=\"0 0 24 24\"\n",
              "       width=\"24px\">\n",
              "    <path d=\"M0 0h24v24H0V0z\" fill=\"none\"/>\n",
              "    <path d=\"M18.56 5.44l.94 2.06.94-2.06 2.06-.94-2.06-.94-.94-2.06-.94 2.06-2.06.94zm-11 1L8.5 8.5l.94-2.06 2.06-.94-2.06-.94L8.5 2.5l-.94 2.06-2.06.94zm10 10l.94 2.06.94-2.06 2.06-.94-2.06-.94-.94-2.06-.94 2.06-2.06.94z\"/><path d=\"M17.41 7.96l-1.37-1.37c-.4-.4-.92-.59-1.43-.59-.52 0-1.04.2-1.43.59L10.3 9.45l-7.72 7.72c-.78.78-.78 2.05 0 2.83L4 21.41c.39.39.9.59 1.41.59.51 0 1.02-.2 1.41-.59l7.78-7.78 2.81-2.81c.8-.78.8-2.07 0-2.86zM5.41 20L4 18.59l7.72-7.72 1.47 1.35L5.41 20z\"/>\n",
              "  </svg>\n",
              "      </button>\n",
              "      \n",
              "  <style>\n",
              "    .colab-df-container {\n",
              "      display:flex;\n",
              "      flex-wrap:wrap;\n",
              "      gap: 12px;\n",
              "    }\n",
              "\n",
              "    .colab-df-convert {\n",
              "      background-color: #E8F0FE;\n",
              "      border: none;\n",
              "      border-radius: 50%;\n",
              "      cursor: pointer;\n",
              "      display: none;\n",
              "      fill: #1967D2;\n",
              "      height: 32px;\n",
              "      padding: 0 0 0 0;\n",
              "      width: 32px;\n",
              "    }\n",
              "\n",
              "    .colab-df-convert:hover {\n",
              "      background-color: #E2EBFA;\n",
              "      box-shadow: 0px 1px 2px rgba(60, 64, 67, 0.3), 0px 1px 3px 1px rgba(60, 64, 67, 0.15);\n",
              "      fill: #174EA6;\n",
              "    }\n",
              "\n",
              "    [theme=dark] .colab-df-convert {\n",
              "      background-color: #3B4455;\n",
              "      fill: #D2E3FC;\n",
              "    }\n",
              "\n",
              "    [theme=dark] .colab-df-convert:hover {\n",
              "      background-color: #434B5C;\n",
              "      box-shadow: 0px 1px 3px 1px rgba(0, 0, 0, 0.15);\n",
              "      filter: drop-shadow(0px 1px 2px rgba(0, 0, 0, 0.3));\n",
              "      fill: #FFFFFF;\n",
              "    }\n",
              "  </style>\n",
              "\n",
              "      <script>\n",
              "        const buttonEl =\n",
              "          document.querySelector('#df-d319c2d6-56eb-4761-a34b-0b9ec3c59b28 button.colab-df-convert');\n",
              "        buttonEl.style.display =\n",
              "          google.colab.kernel.accessAllowed ? 'block' : 'none';\n",
              "\n",
              "        async function convertToInteractive(key) {\n",
              "          const element = document.querySelector('#df-d319c2d6-56eb-4761-a34b-0b9ec3c59b28');\n",
              "          const dataTable =\n",
              "            await google.colab.kernel.invokeFunction('convertToInteractive',\n",
              "                                                     [key], {});\n",
              "          if (!dataTable) return;\n",
              "\n",
              "          const docLinkHtml = 'Like what you see? Visit the ' +\n",
              "            '<a target=\"_blank\" href=https://colab.research.google.com/notebooks/data_table.ipynb>data table notebook</a>'\n",
              "            + ' to learn more about interactive tables.';\n",
              "          element.innerHTML = '';\n",
              "          dataTable['output_type'] = 'display_data';\n",
              "          await google.colab.output.renderOutput(dataTable, element);\n",
              "          const docLink = document.createElement('div');\n",
              "          docLink.innerHTML = docLinkHtml;\n",
              "          element.appendChild(docLink);\n",
              "        }\n",
              "      </script>\n",
              "    </div>\n",
              "  </div>\n",
              "  "
            ],
            "text/plain": [
              "            thr       tpr       fpr\n",
              "0      1.231740  0.000000  0.000000\n",
              "1      0.231740  0.000000  0.000012\n",
              "2      0.229541  0.000000  0.000024\n",
              "3      0.223850  0.000271  0.000024\n",
              "4      0.222758  0.000271  0.000035\n",
              "...         ...       ...       ...\n",
              "12720  0.041238  0.999729  0.995806\n",
              "12721  0.041238  0.999864  0.995806\n",
              "12722  0.040913  0.999864  0.996560\n",
              "12723  0.040912  1.000000  0.996560\n",
              "12724  0.034192  1.000000  1.000000\n",
              "\n",
              "[12725 rows x 3 columns]"
            ]
          },
          "metadata": {}
        },
        {
          "output_type": "stream",
          "name": "stdout",
          "text": [
            "AUC : 0.7258752710602242\n"
          ]
        },
        {
          "output_type": "display_data",
          "data": {
            "image/png": "[encoded data removed]",
            "text/plain": [
              "<Figure size 432x288 with 1 Axes>"
            ]
          },
          "metadata": {
            "needs_background": "light"
          }
        }
      ]
    },
    {
      "cell_type": "code",
      "source": [
        ""
      ],
      "metadata": {
        "id": "bKiM5Pr2r7Ta"
      },
      "execution_count": null,
      "outputs": []
    },
    {
      "cell_type": "code",
      "source": [
        "# indice du premier seuil pour lequel\n",
        "#Taux de faux négatifs + taux de vrais positifs (sensibilité=rappel)=1\n",
        "#on pose taux de faux negatifs =0.05 (5%)\n",
        "# la sensibilité est supérieure à 0.95\n",
        "idx = np.min(np.where(tpr > 0.95)) \n",
        "\n",
        "print(\"Sensibilité : {:.2f}\".format(tpr[idx]))\n",
        "print(\"Spécificité : {:.2f}\".format(1-fpr[idx]))\n",
        "print(\"Seuil : {:.2f}\".format(thr[idx]))"
      ],
      "metadata": {
        "colab": {
          "base_uri": "https://localhost:8080/"
        },
        "id": "RUotzccur7WL",
        "outputId": "49cfd905-1923-4650-ebac-b8afa34ae1ef"
      },
      "execution_count": null,
      "outputs": [
        {
          "output_type": "stream",
          "name": "stdout",
          "text": [
            "Sensibilité : 0.95\n",
            "Spécificité : 0.18\n",
            "Seuil : 0.05\n"
          ]
        }
      ]
    },
    {
      "cell_type": "code",
      "source": [
        ""
      ],
      "metadata": {
        "id": "K-DL-l8br7Y_"
      },
      "execution_count": null,
      "outputs": []
    },
    {
      "cell_type": "code",
      "execution_count": null,
      "metadata": {
        "id": "hHoHlkmdIvrF",
        "colab": {
          "base_uri": "https://localhost:8080/"
        },
        "outputId": "ce4ce454-565b-434b-f3bd-dc6679672167"
      },
      "outputs": [
        {
          "output_type": "execute_result",
          "data": {
            "text/plain": [
              "DummyClassifier(strategy='most_frequent')"
            ]
          },
          "metadata": {},
          "execution_count": 124
        }
      ],
      "source": [
        "dummy_clf = DummyClassifier(strategy=\"most_frequent\")\n",
        "dummy_clf.fit(X_train,y_train)"
      ]
    },
    {
      "cell_type": "code",
      "execution_count": null,
      "metadata": {
        "id": "mVCx25k-IvuV"
      },
      "outputs": [],
      "source": [
        "r=dummy_clf.predict_proba(X_scale_test)[:,1]\n",
        "y_pred_dum=np.array(r>0.12,dtype=int)"
      ]
    },
    {
      "cell_type": "code",
      "execution_count": null,
      "metadata": {
        "id": "MHEieW40Ivy4"
      },
      "outputs": [],
      "source": [
        "AUROC_BA=roc_auc_score(y_test, dummy_clf.predict_proba(X_scale_test)[:, 1])"
      ]
    },
    {
      "cell_type": "code",
      "execution_count": null,
      "metadata": {
        "id": "tN27ea0UIv06",
        "colab": {
          "base_uri": "https://localhost:8080/"
        },
        "outputId": "f5be109f-2fbc-445b-ca17-b1415cb01d0f"
      },
      "outputs": [
        {
          "output_type": "stream",
          "name": "stdout",
          "text": [
            "0.5\n"
          ]
        }
      ],
      "source": [
        "print(AUROC_BA)"
      ]
    },
    {
      "cell_type": "code",
      "execution_count": null,
      "metadata": {
        "id": "xCN2XQezIv5L",
        "colab": {
          "base_uri": "https://localhost:8080/"
        },
        "outputId": "6c8d736f-4832-4e6d-a155-1d4843fa4feb"
      },
      "outputs": [
        {
          "output_type": "execute_result",
          "data": {
            "text/plain": [
              "5163.2"
            ]
          },
          "metadata": {},
          "execution_count": 128
        }
      ],
      "source": [
        "customScore(y_test,y_pred_dum)"
      ]
    },
    {
      "cell_type": "code",
      "source": [
        ""
      ],
      "metadata": {
        "id": "8v8njQd68Lkg"
      },
      "execution_count": null,
      "outputs": []
    },
    {
      "cell_type": "code",
      "source": [
        ""
      ],
      "metadata": {
        "id": "5XfUHc2h8LnS"
      },
      "execution_count": null,
      "outputs": []
    },
    {
      "cell_type": "markdown",
      "metadata": {
        "id": "mqCJrH_dvbGZ"
      },
      "source": [
        "**GRadient Boosting Classifier**"
      ]
    },
    {
      "cell_type": "code",
      "source": [
        ""
      ],
      "metadata": {
        "id": "P-bqs1bpuIPv"
      },
      "execution_count": null,
      "outputs": []
    },
    {
      "cell_type": "code",
      "source": [
        "del data_clean"
      ],
      "metadata": {
        "id": "_LQO3GNtuIaT"
      },
      "execution_count": null,
      "outputs": []
    },
    {
      "cell_type": "code",
      "execution_count": null,
      "metadata": {
        "id": "9oEtJDLtulLr"
      },
      "outputs": [],
      "source": [
        "data= pd.read_csv('/content/drive/MyDrive/p7/data/NEW_data_data.csv')"
      ]
    },
    {
      "cell_type": "code",
      "execution_count": null,
      "metadata": {
        "id": "Hne1umh2ulLs"
      },
      "outputs": [],
      "source": [
        "data.drop('Unnamed: 0', axis=1,inplace=True)"
      ]
    },
    {
      "cell_type": "markdown",
      "metadata": {
        "id": "hvhOmPrQulLt"
      },
      "source": [
        "## **Imputation**"
      ]
    },
    {
      "cell_type": "code",
      "execution_count": null,
      "metadata": {
        "colab": {
          "base_uri": "https://localhost:8080/"
        },
        "outputId": "0d5e6e67-4614-4650-e60c-722359a60587",
        "id": "ujeMQiUmulLt"
      },
      "outputs": [
        {
          "output_type": "execute_result",
          "data": {
            "text/plain": [
              "BURO_NEW_FLAG_nan_MEAN_MEAN    0.749487\n",
              "BURO_MONTHS_BALANCE_MIN_MIN    0.749487\n",
              "BURO_STATUS_2_MEAN_MEAN        0.749487\n",
              "BURO_STATUS_1_MEAN_MEAN        0.749487\n",
              "BURO_STATUS_0_MEAN_MEAN        0.749487\n",
              "dtype: float64"
            ]
          },
          "metadata": {},
          "execution_count": 8
        }
      ],
      "source": [
        "# data missing values (in percent)\n",
        "data_missing = (data.isnull().sum() / len(data)).sort_values(ascending = False)\n",
        "data_missing.head()"
      ]
    },
    {
      "cell_type": "code",
      "execution_count": null,
      "metadata": {
        "colab": {
          "base_uri": "https://localhost:8080/"
        },
        "outputId": "feab86b9-6230-4b81-9355-701b49cac0c8",
        "id": "OkAOkvITulLv"
      },
      "outputs": [
        {
          "output_type": "stream",
          "name": "stdout",
          "text": [
            "There are 78 columns with more than 50% missing values\n"
          ]
        }
      ],
      "source": [
        "# Identify missing values above threshold\n",
        "data_missing = data_missing.index[data_missing > 0.5]\n",
        "\n",
        "print('There are %d columns with more than 50%% missing values' % len(data_missing))"
      ]
    },
    {
      "cell_type": "code",
      "execution_count": null,
      "metadata": {
        "colab": {
          "base_uri": "https://localhost:8080/"
        },
        "outputId": "0de19555-cc27-4441-9ba9-c9cd98352758",
        "id": "_m2xLSS7ulLv"
      },
      "outputs": [
        {
          "output_type": "stream",
          "name": "stdout",
          "text": [
            "data_clean set full shape:  (307505, 561)\n"
          ]
        }
      ],
      "source": [
        "data_clean = data.drop(columns = data_missing)\n",
        "\n",
        "print('data_clean set full shape: ', data_clean.shape)"
      ]
    },
    {
      "cell_type": "code",
      "execution_count": null,
      "metadata": {
        "colab": {
          "base_uri": "https://localhost:8080/"
        },
        "id": "WiFaCEnPulLv",
        "outputId": "a6c75318-9faa-408b-9683-4546e9b5d6f3"
      },
      "outputs": [
        {
          "output_type": "execute_result",
          "data": {
            "text/plain": [
              "CLOSED_AMT_CREDIT_SUM_DEBT_SUM         153541\n",
              "CLOSED_AMT_CREDIT_SUM_MEAN             153541\n",
              "CLOSED_DAYS_CREDIT_MIN                 153541\n",
              "CLOSED_DAYS_CREDIT_MAX                 153541\n",
              "CLOSED_DAYS_CREDIT_MEAN                153541\n",
              "                                        ...  \n",
              "ORGANIZATION_TYPE_Industry: type 13         0\n",
              "ORGANIZATION_TYPE_Industry: type 12         0\n",
              "ORGANIZATION_TYPE_Industry: type 11         0\n",
              "ORGANIZATION_TYPE_Industry: type 10         0\n",
              "SK_ID_CURR                                  0\n",
              "Length: 561, dtype: int64"
            ]
          },
          "metadata": {},
          "execution_count": 11
        }
      ],
      "source": [
        "data_clean.isnull().sum().sort_values(ascending=False)"
      ]
    },
    {
      "cell_type": "code",
      "execution_count": null,
      "metadata": {
        "id": "DuhzorliulLv"
      },
      "outputs": [],
      "source": [
        "data_clean[data_clean==np.inf]=np.nan"
      ]
    },
    {
      "cell_type": "code",
      "execution_count": null,
      "metadata": {
        "id": "FI8kxWgZulLw"
      },
      "outputs": [],
      "source": [
        "# Imputaion with mod & median\n",
        "def filling_nan_value(df):\n",
        "  column_with_nan = df.columns[df.isnull().any()]\n",
        "  for column in column_with_nan:\n",
        "    df[column]= df[column].fillna(df[column].median())\n",
        "  return (df)"
      ]
    },
    {
      "cell_type": "code",
      "execution_count": null,
      "metadata": {
        "id": "IY1fO9Q-ulLw"
      },
      "outputs": [],
      "source": [
        "data_clean = filling_nan_value(data_clean)"
      ]
    },
    {
      "cell_type": "code",
      "execution_count": null,
      "metadata": {
        "colab": {
          "base_uri": "https://localhost:8080/"
        },
        "outputId": "ea7d75e5-d387-4895-94d9-dadc5bc1192b",
        "id": "eecRw-gVulLw"
      },
      "outputs": [
        {
          "output_type": "execute_result",
          "data": {
            "text/plain": [
              "SK_ID_CURR                                              0\n",
              "PREV_NAME_GOODS_CATEGORY_Construction Materials_MEAN    0\n",
              "PREV_NAME_CLIENT_TYPE_Refreshed_MEAN                    0\n",
              "PREV_NAME_CLIENT_TYPE_Repeater_MEAN                     0\n",
              "PREV_NAME_CLIENT_TYPE_nan_MEAN                          0\n",
              "dtype: int64"
            ]
          },
          "metadata": {},
          "execution_count": 15
        }
      ],
      "source": [
        "data_clean.isnull().sum().sort_values(ascending=False).head()"
      ]
    },
    {
      "cell_type": "code",
      "execution_count": null,
      "metadata": {
        "colab": {
          "base_uri": "https://localhost:8080/"
        },
        "outputId": "5ea3ac4c-fed6-41bf-e3ee-bfaebb5b8a76",
        "id": "sTYh3oL0ulLw"
      },
      "outputs": [
        {
          "output_type": "execute_result",
          "data": {
            "text/plain": [
              "141"
            ]
          },
          "metadata": {},
          "execution_count": 16
        }
      ],
      "source": [
        "gc.enable()\n",
        "del data \n",
        "gc.collect()"
      ]
    },
    {
      "cell_type": "code",
      "execution_count": null,
      "metadata": {
        "id": "X0O56_yVulLw"
      },
      "outputs": [],
      "source": [
        ""
      ]
    },
    {
      "cell_type": "markdown",
      "metadata": {
        "id": "ZtpHsZnyulLw"
      },
      "source": [
        "**Spliting**"
      ]
    },
    {
      "cell_type": "code",
      "execution_count": null,
      "metadata": {
        "colab": {
          "base_uri": "https://localhost:8080/"
        },
        "outputId": "94dfc410-582c-4e55-9b6e-e06308a162c5",
        "id": "sXbEM_UBulLw"
      },
      "outputs": [
        {
          "output_type": "stream",
          "name": "stdout",
          "text": [
            "The shape of X_train is (215253, 560)\n",
            "The shape of X_test is (92252, 560)\n",
            "The shape of y_train is (215253,)\n",
            "The shape of y_test is (92252,)\n"
          ]
        }
      ],
      "source": [
        "X= data_clean.drop(['TARGET'],axis=1).copy()\n",
        "y = data_clean['TARGET'].copy()\n",
        "\n",
        "X_train, X_test, y_train, y_test = train_test_split(X ,y,test_size = 0.3,random_state=0)\n",
        "print('The shape of X_train is', X_train.shape)\n",
        "print('The shape of X_test is', X_test.shape)\n",
        "print('The shape of y_train is', y_train.shape)\n",
        "print('The shape of y_test is', y_test.shape)"
      ]
    },
    {
      "cell_type": "code",
      "execution_count": null,
      "metadata": {
        "colab": {
          "base_uri": "https://localhost:8080/",
          "height": 317
        },
        "id": "CWz0B1EfulLw",
        "outputId": "2f01afbc-7584-4f85-d465-5f36395e2a31"
      },
      "outputs": [
        {
          "output_type": "execute_result",
          "data": {
            "text/html": [
              "\n",
              "  <div id=\"df-87d93383-7626-4489-963c-6becfdad88c5\">\n",
              "    <div class=\"colab-df-container\">\n",
              "      <div>\n",
              "<style scoped>\n",
              "    .dataframe tbody tr th:only-of-type {\n",
              "        vertical-align: middle;\n",
              "    }\n",
              "\n",
              "    .dataframe tbody tr th {\n",
              "        vertical-align: top;\n",
              "    }\n",
              "\n",
              "    .dataframe thead th {\n",
              "        text-align: right;\n",
              "    }\n",
              "</style>\n",
              "<table border=\"1\" class=\"dataframe\">\n",
              "  <thead>\n",
              "    <tr style=\"text-align: right;\">\n",
              "      <th></th>\n",
              "      <th>SK_ID_CURR</th>\n",
              "      <th>CODE_GENDER</th>\n",
              "      <th>FLAG_OWN_CAR</th>\n",
              "      <th>FLAG_OWN_REALTY</th>\n",
              "      <th>CNT_CHILDREN</th>\n",
              "      <th>AMT_INCOME_TOTAL</th>\n",
              "      <th>AMT_CREDIT</th>\n",
              "      <th>AMT_ANNUITY</th>\n",
              "      <th>REGION_POPULATION_RELATIVE</th>\n",
              "      <th>DAYS_BIRTH</th>\n",
              "      <th>DAYS_EMPLOYED</th>\n",
              "      <th>DAYS_REGISTRATION</th>\n",
              "      <th>DAYS_ID_PUBLISH</th>\n",
              "      <th>FLAG_MOBIL</th>\n",
              "      <th>FLAG_WORK_PHONE</th>\n",
              "      <th>FLAG_CONT_MOBILE</th>\n",
              "      <th>FLAG_PHONE</th>\n",
              "      <th>FLAG_EMAIL</th>\n",
              "      <th>CNT_FAM_MEMBERS</th>\n",
              "      <th>REGION_RATING_CLIENT</th>\n",
              "      <th>REGION_RATING_CLIENT_W_CITY</th>\n",
              "      <th>REG_REGION_NOT_LIVE_REGION</th>\n",
              "      <th>REG_REGION_NOT_WORK_REGION</th>\n",
              "      <th>LIVE_REGION_NOT_WORK_REGION</th>\n",
              "      <th>REG_CITY_NOT_LIVE_CITY</th>\n",
              "      <th>REG_CITY_NOT_WORK_CITY</th>\n",
              "      <th>LIVE_CITY_NOT_WORK_CITY</th>\n",
              "      <th>EXT_SOURCE_2</th>\n",
              "      <th>EXT_SOURCE_3</th>\n",
              "      <th>YEARS_BEGINEXPLUATATION_AVG</th>\n",
              "      <th>FLOORSMAX_AVG</th>\n",
              "      <th>YEARS_BEGINEXPLUATATION_MODE</th>\n",
              "      <th>TOTALAREA_MODE</th>\n",
              "      <th>OBS_30_CNT_SOCIAL_CIRCLE</th>\n",
              "      <th>DEF_30_CNT_SOCIAL_CIRCLE</th>\n",
              "      <th>DEF_60_CNT_SOCIAL_CIRCLE</th>\n",
              "      <th>DAYS_LAST_PHONE_CHANGE</th>\n",
              "      <th>FLAG_DOCUMENT_2</th>\n",
              "      <th>FLAG_DOCUMENT_3</th>\n",
              "      <th>FLAG_DOCUMENT_4</th>\n",
              "      <th>...</th>\n",
              "      <th>POS_SK_DPD_MEAN</th>\n",
              "      <th>POS_SK_DPD_DEF_MAX</th>\n",
              "      <th>POS_SK_DPD_DEF_MEAN</th>\n",
              "      <th>POS_NAME_CONTRACT_STATUS_Active_MEAN</th>\n",
              "      <th>POS_NAME_CONTRACT_STATUS_Amortized debt_MEAN</th>\n",
              "      <th>POS_NAME_CONTRACT_STATUS_Approved_MEAN</th>\n",
              "      <th>POS_NAME_CONTRACT_STATUS_Canceled_MEAN</th>\n",
              "      <th>POS_NAME_CONTRACT_STATUS_Completed_MEAN</th>\n",
              "      <th>POS_NAME_CONTRACT_STATUS_Demand_MEAN</th>\n",
              "      <th>POS_NAME_CONTRACT_STATUS_Returned to the store_MEAN</th>\n",
              "      <th>POS_NAME_CONTRACT_STATUS_Signed_MEAN</th>\n",
              "      <th>POS_NAME_CONTRACT_STATUS_XNA_MEAN</th>\n",
              "      <th>POS_NAME_CONTRACT_STATUS_nan_MEAN</th>\n",
              "      <th>POS_COUNT</th>\n",
              "      <th>INSTAL_NUM_INSTALMENT_VERSION_NUNIQUE</th>\n",
              "      <th>INSTAL_DPD_MAX</th>\n",
              "      <th>INSTAL_DPD_MEAN</th>\n",
              "      <th>INSTAL_DPD_SUM</th>\n",
              "      <th>INSTAL_DBD_MAX</th>\n",
              "      <th>INSTAL_DBD_MEAN</th>\n",
              "      <th>INSTAL_DBD_SUM</th>\n",
              "      <th>INSTAL_PAYMENT_PERC_MAX</th>\n",
              "      <th>INSTAL_PAYMENT_PERC_MEAN</th>\n",
              "      <th>INSTAL_PAYMENT_PERC_SUM</th>\n",
              "      <th>INSTAL_PAYMENT_PERC_VAR</th>\n",
              "      <th>INSTAL_PAYMENT_DIFF_MAX</th>\n",
              "      <th>INSTAL_PAYMENT_DIFF_MEAN</th>\n",
              "      <th>INSTAL_PAYMENT_DIFF_SUM</th>\n",
              "      <th>INSTAL_PAYMENT_DIFF_VAR</th>\n",
              "      <th>INSTAL_AMT_INSTALMENT_MAX</th>\n",
              "      <th>INSTAL_AMT_INSTALMENT_MEAN</th>\n",
              "      <th>INSTAL_AMT_INSTALMENT_SUM</th>\n",
              "      <th>INSTAL_AMT_PAYMENT_MIN</th>\n",
              "      <th>INSTAL_AMT_PAYMENT_MAX</th>\n",
              "      <th>INSTAL_AMT_PAYMENT_MEAN</th>\n",
              "      <th>INSTAL_AMT_PAYMENT_SUM</th>\n",
              "      <th>INSTAL_DAYS_ENTRY_PAYMENT_MAX</th>\n",
              "      <th>INSTAL_DAYS_ENTRY_PAYMENT_MEAN</th>\n",
              "      <th>INSTAL_DAYS_ENTRY_PAYMENT_SUM</th>\n",
              "      <th>INSTAL_COUNT</th>\n",
              "    </tr>\n",
              "  </thead>\n",
              "  <tbody>\n",
              "    <tr>\n",
              "      <th>115232</th>\n",
              "      <td>233633</td>\n",
              "      <td>1</td>\n",
              "      <td>1</td>\n",
              "      <td>0</td>\n",
              "      <td>0</td>\n",
              "      <td>180000.0</td>\n",
              "      <td>312840.0</td>\n",
              "      <td>8964.0</td>\n",
              "      <td>0.016612</td>\n",
              "      <td>-13424</td>\n",
              "      <td>-5143.0</td>\n",
              "      <td>-593.0</td>\n",
              "      <td>-3478</td>\n",
              "      <td>1</td>\n",
              "      <td>1</td>\n",
              "      <td>1</td>\n",
              "      <td>0</td>\n",
              "      <td>0</td>\n",
              "      <td>2.0</td>\n",
              "      <td>2</td>\n",
              "      <td>2</td>\n",
              "      <td>0</td>\n",
              "      <td>0</td>\n",
              "      <td>0</td>\n",
              "      <td>1</td>\n",
              "      <td>1</td>\n",
              "      <td>0</td>\n",
              "      <td>0.531640</td>\n",
              "      <td>0.511892</td>\n",
              "      <td>0.9816</td>\n",
              "      <td>0.1667</td>\n",
              "      <td>0.9816</td>\n",
              "      <td>0.0688</td>\n",
              "      <td>1.0</td>\n",
              "      <td>1.0</td>\n",
              "      <td>1.0</td>\n",
              "      <td>-2.0</td>\n",
              "      <td>0</td>\n",
              "      <td>1</td>\n",
              "      <td>0</td>\n",
              "      <td>...</td>\n",
              "      <td>0.00000</td>\n",
              "      <td>0.0</td>\n",
              "      <td>0.00000</td>\n",
              "      <td>0.918367</td>\n",
              "      <td>0.0</td>\n",
              "      <td>0.0</td>\n",
              "      <td>0.0</td>\n",
              "      <td>0.081633</td>\n",
              "      <td>0.0</td>\n",
              "      <td>0.0</td>\n",
              "      <td>0.000000</td>\n",
              "      <td>0.0</td>\n",
              "      <td>0.0</td>\n",
              "      <td>49.0</td>\n",
              "      <td>6.0</td>\n",
              "      <td>1.0</td>\n",
              "      <td>0.017857</td>\n",
              "      <td>1.0</td>\n",
              "      <td>39.0</td>\n",
              "      <td>6.821429</td>\n",
              "      <td>382.0</td>\n",
              "      <td>5.429636</td>\n",
              "      <td>1.121761</td>\n",
              "      <td>62.818632</td>\n",
              "      <td>0.391309</td>\n",
              "      <td>0.000</td>\n",
              "      <td>-3115.398214</td>\n",
              "      <td>-174462.30</td>\n",
              "      <td>2.491643e+08</td>\n",
              "      <td>1.138083e+05</td>\n",
              "      <td>14395.347321</td>\n",
              "      <td>806139.450</td>\n",
              "      <td>4808.880</td>\n",
              "      <td>139500.810</td>\n",
              "      <td>17510.745536</td>\n",
              "      <td>9.806018e+05</td>\n",
              "      <td>-576.0</td>\n",
              "      <td>-1590.732143</td>\n",
              "      <td>-89081.0</td>\n",
              "      <td>56.0</td>\n",
              "    </tr>\n",
              "    <tr>\n",
              "      <th>113005</th>\n",
              "      <td>231071</td>\n",
              "      <td>0</td>\n",
              "      <td>1</td>\n",
              "      <td>1</td>\n",
              "      <td>0</td>\n",
              "      <td>126000.0</td>\n",
              "      <td>49752.0</td>\n",
              "      <td>5355.0</td>\n",
              "      <td>0.019689</td>\n",
              "      <td>-8842</td>\n",
              "      <td>-1130.0</td>\n",
              "      <td>-3723.0</td>\n",
              "      <td>-1508</td>\n",
              "      <td>1</td>\n",
              "      <td>1</td>\n",
              "      <td>1</td>\n",
              "      <td>1</td>\n",
              "      <td>0</td>\n",
              "      <td>1.0</td>\n",
              "      <td>2</td>\n",
              "      <td>2</td>\n",
              "      <td>0</td>\n",
              "      <td>0</td>\n",
              "      <td>0</td>\n",
              "      <td>0</td>\n",
              "      <td>0</td>\n",
              "      <td>0</td>\n",
              "      <td>0.478072</td>\n",
              "      <td>0.095693</td>\n",
              "      <td>0.9712</td>\n",
              "      <td>0.0833</td>\n",
              "      <td>0.9712</td>\n",
              "      <td>0.0418</td>\n",
              "      <td>1.0</td>\n",
              "      <td>0.0</td>\n",
              "      <td>0.0</td>\n",
              "      <td>-561.0</td>\n",
              "      <td>0</td>\n",
              "      <td>1</td>\n",
              "      <td>0</td>\n",
              "      <td>...</td>\n",
              "      <td>0.00000</td>\n",
              "      <td>0.0</td>\n",
              "      <td>0.00000</td>\n",
              "      <td>0.918367</td>\n",
              "      <td>0.0</td>\n",
              "      <td>0.0</td>\n",
              "      <td>0.0</td>\n",
              "      <td>0.081633</td>\n",
              "      <td>0.0</td>\n",
              "      <td>0.0</td>\n",
              "      <td>0.000000</td>\n",
              "      <td>0.0</td>\n",
              "      <td>0.0</td>\n",
              "      <td>49.0</td>\n",
              "      <td>2.0</td>\n",
              "      <td>1.0</td>\n",
              "      <td>0.250000</td>\n",
              "      <td>1.0</td>\n",
              "      <td>5.0</td>\n",
              "      <td>1.500000</td>\n",
              "      <td>6.0</td>\n",
              "      <td>1.000000</td>\n",
              "      <td>1.000000</td>\n",
              "      <td>4.000000</td>\n",
              "      <td>0.000000</td>\n",
              "      <td>0.000</td>\n",
              "      <td>0.000000</td>\n",
              "      <td>0.00</td>\n",
              "      <td>0.000000e+00</td>\n",
              "      <td>1.774643e+06</td>\n",
              "      <td>479283.817500</td>\n",
              "      <td>1917135.270</td>\n",
              "      <td>47497.545</td>\n",
              "      <td>1774642.635</td>\n",
              "      <td>479283.817500</td>\n",
              "      <td>1.917135e+06</td>\n",
              "      <td>-976.0</td>\n",
              "      <td>-1017.250000</td>\n",
              "      <td>-4069.0</td>\n",
              "      <td>4.0</td>\n",
              "    </tr>\n",
              "    <tr>\n",
              "      <th>132492</th>\n",
              "      <td>253675</td>\n",
              "      <td>0</td>\n",
              "      <td>0</td>\n",
              "      <td>1</td>\n",
              "      <td>1</td>\n",
              "      <td>157500.0</td>\n",
              "      <td>150948.0</td>\n",
              "      <td>13972.5</td>\n",
              "      <td>0.025164</td>\n",
              "      <td>-11194</td>\n",
              "      <td>-1441.0</td>\n",
              "      <td>-3626.0</td>\n",
              "      <td>-3837</td>\n",
              "      <td>1</td>\n",
              "      <td>0</td>\n",
              "      <td>1</td>\n",
              "      <td>0</td>\n",
              "      <td>0</td>\n",
              "      <td>3.0</td>\n",
              "      <td>2</td>\n",
              "      <td>2</td>\n",
              "      <td>0</td>\n",
              "      <td>0</td>\n",
              "      <td>0</td>\n",
              "      <td>0</td>\n",
              "      <td>0</td>\n",
              "      <td>0</td>\n",
              "      <td>0.566461</td>\n",
              "      <td>0.689479</td>\n",
              "      <td>0.9816</td>\n",
              "      <td>0.1667</td>\n",
              "      <td>0.9816</td>\n",
              "      <td>0.0688</td>\n",
              "      <td>2.0</td>\n",
              "      <td>0.0</td>\n",
              "      <td>0.0</td>\n",
              "      <td>-7.0</td>\n",
              "      <td>0</td>\n",
              "      <td>1</td>\n",
              "      <td>0</td>\n",
              "      <td>...</td>\n",
              "      <td>0.00000</td>\n",
              "      <td>0.0</td>\n",
              "      <td>0.00000</td>\n",
              "      <td>0.833333</td>\n",
              "      <td>0.0</td>\n",
              "      <td>0.0</td>\n",
              "      <td>0.0</td>\n",
              "      <td>0.166667</td>\n",
              "      <td>0.0</td>\n",
              "      <td>0.0</td>\n",
              "      <td>0.000000</td>\n",
              "      <td>0.0</td>\n",
              "      <td>0.0</td>\n",
              "      <td>6.0</td>\n",
              "      <td>1.0</td>\n",
              "      <td>0.0</td>\n",
              "      <td>0.000000</td>\n",
              "      <td>0.0</td>\n",
              "      <td>29.0</td>\n",
              "      <td>10.000000</td>\n",
              "      <td>60.0</td>\n",
              "      <td>1.000000</td>\n",
              "      <td>1.000000</td>\n",
              "      <td>6.000000</td>\n",
              "      <td>0.000000</td>\n",
              "      <td>0.000</td>\n",
              "      <td>0.000000</td>\n",
              "      <td>0.00</td>\n",
              "      <td>0.000000e+00</td>\n",
              "      <td>1.889379e+04</td>\n",
              "      <td>18874.792500</td>\n",
              "      <td>113248.755</td>\n",
              "      <td>18779.805</td>\n",
              "      <td>18893.790</td>\n",
              "      <td>18874.792500</td>\n",
              "      <td>1.132488e+05</td>\n",
              "      <td>-674.0</td>\n",
              "      <td>-730.000000</td>\n",
              "      <td>-4380.0</td>\n",
              "      <td>6.0</td>\n",
              "    </tr>\n",
              "    <tr>\n",
              "      <th>18531</th>\n",
              "      <td>121615</td>\n",
              "      <td>1</td>\n",
              "      <td>1</td>\n",
              "      <td>1</td>\n",
              "      <td>0</td>\n",
              "      <td>112500.0</td>\n",
              "      <td>319500.0</td>\n",
              "      <td>16312.5</td>\n",
              "      <td>0.035792</td>\n",
              "      <td>-15764</td>\n",
              "      <td>-4899.0</td>\n",
              "      <td>-7791.0</td>\n",
              "      <td>-4917</td>\n",
              "      <td>1</td>\n",
              "      <td>1</td>\n",
              "      <td>1</td>\n",
              "      <td>0</td>\n",
              "      <td>0</td>\n",
              "      <td>2.0</td>\n",
              "      <td>2</td>\n",
              "      <td>2</td>\n",
              "      <td>0</td>\n",
              "      <td>0</td>\n",
              "      <td>0</td>\n",
              "      <td>0</td>\n",
              "      <td>1</td>\n",
              "      <td>1</td>\n",
              "      <td>0.663261</td>\n",
              "      <td>0.710674</td>\n",
              "      <td>0.9816</td>\n",
              "      <td>0.1667</td>\n",
              "      <td>0.9816</td>\n",
              "      <td>0.0688</td>\n",
              "      <td>0.0</td>\n",
              "      <td>0.0</td>\n",
              "      <td>0.0</td>\n",
              "      <td>-420.0</td>\n",
              "      <td>0</td>\n",
              "      <td>1</td>\n",
              "      <td>0</td>\n",
              "      <td>...</td>\n",
              "      <td>1.04717</td>\n",
              "      <td>13.0</td>\n",
              "      <td>1.04717</td>\n",
              "      <td>0.933962</td>\n",
              "      <td>0.0</td>\n",
              "      <td>0.0</td>\n",
              "      <td>0.0</td>\n",
              "      <td>0.056604</td>\n",
              "      <td>0.0</td>\n",
              "      <td>0.0</td>\n",
              "      <td>0.009434</td>\n",
              "      <td>0.0</td>\n",
              "      <td>0.0</td>\n",
              "      <td>106.0</td>\n",
              "      <td>1.0</td>\n",
              "      <td>771.0</td>\n",
              "      <td>33.521739</td>\n",
              "      <td>771.0</td>\n",
              "      <td>19.0</td>\n",
              "      <td>7.434783</td>\n",
              "      <td>171.0</td>\n",
              "      <td>1.000000</td>\n",
              "      <td>0.956522</td>\n",
              "      <td>22.000000</td>\n",
              "      <td>0.043453</td>\n",
              "      <td>5063.175</td>\n",
              "      <td>220.198696</td>\n",
              "      <td>5064.57</td>\n",
              "      <td>1.114570e+06</td>\n",
              "      <td>6.710805e+03</td>\n",
              "      <td>4994.757391</td>\n",
              "      <td>114879.420</td>\n",
              "      <td>1.395</td>\n",
              "      <td>6710.805</td>\n",
              "      <td>4774.558696</td>\n",
              "      <td>1.098149e+05</td>\n",
              "      <td>-81.0</td>\n",
              "      <td>-1521.304348</td>\n",
              "      <td>-34990.0</td>\n",
              "      <td>23.0</td>\n",
              "    </tr>\n",
              "    <tr>\n",
              "      <th>234349</th>\n",
              "      <td>371468</td>\n",
              "      <td>1</td>\n",
              "      <td>0</td>\n",
              "      <td>0</td>\n",
              "      <td>0</td>\n",
              "      <td>225000.0</td>\n",
              "      <td>387000.0</td>\n",
              "      <td>14031.0</td>\n",
              "      <td>0.026392</td>\n",
              "      <td>-21481</td>\n",
              "      <td>-1648.0</td>\n",
              "      <td>-7445.0</td>\n",
              "      <td>-4147</td>\n",
              "      <td>1</td>\n",
              "      <td>0</td>\n",
              "      <td>1</td>\n",
              "      <td>0</td>\n",
              "      <td>0</td>\n",
              "      <td>1.0</td>\n",
              "      <td>2</td>\n",
              "      <td>2</td>\n",
              "      <td>0</td>\n",
              "      <td>0</td>\n",
              "      <td>0</td>\n",
              "      <td>0</td>\n",
              "      <td>0</td>\n",
              "      <td>0</td>\n",
              "      <td>0.481521</td>\n",
              "      <td>0.782608</td>\n",
              "      <td>0.9901</td>\n",
              "      <td>0.3750</td>\n",
              "      <td>0.9901</td>\n",
              "      <td>0.1114</td>\n",
              "      <td>6.0</td>\n",
              "      <td>0.0</td>\n",
              "      <td>0.0</td>\n",
              "      <td>0.0</td>\n",
              "      <td>0</td>\n",
              "      <td>1</td>\n",
              "      <td>0</td>\n",
              "      <td>...</td>\n",
              "      <td>0.00000</td>\n",
              "      <td>0.0</td>\n",
              "      <td>0.00000</td>\n",
              "      <td>0.916667</td>\n",
              "      <td>0.0</td>\n",
              "      <td>0.0</td>\n",
              "      <td>0.0</td>\n",
              "      <td>0.076923</td>\n",
              "      <td>0.0</td>\n",
              "      <td>0.0</td>\n",
              "      <td>0.000000</td>\n",
              "      <td>0.0</td>\n",
              "      <td>0.0</td>\n",
              "      <td>22.0</td>\n",
              "      <td>2.0</td>\n",
              "      <td>1.0</td>\n",
              "      <td>0.037290</td>\n",
              "      <td>1.0</td>\n",
              "      <td>31.0</td>\n",
              "      <td>10.125000</td>\n",
              "      <td>267.0</td>\n",
              "      <td>1.000000</td>\n",
              "      <td>1.000000</td>\n",
              "      <td>25.000000</td>\n",
              "      <td>0.000000</td>\n",
              "      <td>0.000</td>\n",
              "      <td>0.000000</td>\n",
              "      <td>0.00</td>\n",
              "      <td>0.000000e+00</td>\n",
              "      <td>3.648539e+04</td>\n",
              "      <td>12741.831250</td>\n",
              "      <td>335915.370</td>\n",
              "      <td>2290.950</td>\n",
              "      <td>37258.380</td>\n",
              "      <td>12419.656714</td>\n",
              "      <td>3.262008e+05</td>\n",
              "      <td>-65.0</td>\n",
              "      <td>-805.692308</td>\n",
              "      <td>-21295.0</td>\n",
              "      <td>25.0</td>\n",
              "    </tr>\n",
              "  </tbody>\n",
              "</table>\n",
              "<p>5 rows × 560 columns</p>\n",
              "</div>\n",
              "      <button class=\"colab-df-convert\" onclick=\"convertToInteractive('df-87d93383-7626-4489-963c-6becfdad88c5')\"\n",
              "              title=\"Convert this dataframe to an interactive table.\"\n",
              "              style=\"display:none;\">\n",
              "        \n",
              "  <svg xmlns=\"http://www.w3.org/2000/svg\" height=\"24px\"viewBox=\"0 0 24 24\"\n",
              "       width=\"24px\">\n",
              "    <path d=\"M0 0h24v24H0V0z\" fill=\"none\"/>\n",
              "    <path d=\"M18.56 5.44l.94 2.06.94-2.06 2.06-.94-2.06-.94-.94-2.06-.94 2.06-2.06.94zm-11 1L8.5 8.5l.94-2.06 2.06-.94-2.06-.94L8.5 2.5l-.94 2.06-2.06.94zm10 10l.94 2.06.94-2.06 2.06-.94-2.06-.94-.94-2.06-.94 2.06-2.06.94z\"/><path d=\"M17.41 7.96l-1.37-1.37c-.4-.4-.92-.59-1.43-.59-.52 0-1.04.2-1.43.59L10.3 9.45l-7.72 7.72c-.78.78-.78 2.05 0 2.83L4 21.41c.39.39.9.59 1.41.59.51 0 1.02-.2 1.41-.59l7.78-7.78 2.81-2.81c.8-.78.8-2.07 0-2.86zM5.41 20L4 18.59l7.72-7.72 1.47 1.35L5.41 20z\"/>\n",
              "  </svg>\n",
              "      </button>\n",
              "      \n",
              "  <style>\n",
              "    .colab-df-container {\n",
              "      display:flex;\n",
              "      flex-wrap:wrap;\n",
              "      gap: 12px;\n",
              "    }\n",
              "\n",
              "    .colab-df-convert {\n",
              "      background-color: #E8F0FE;\n",
              "      border: none;\n",
              "      border-radius: 50%;\n",
              "      cursor: pointer;\n",
              "      display: none;\n",
              "      fill: #1967D2;\n",
              "      height: 32px;\n",
              "      padding: 0 0 0 0;\n",
              "      width: 32px;\n",
              "    }\n",
              "\n",
              "    .colab-df-convert:hover {\n",
              "      background-color: #E2EBFA;\n",
              "      box-shadow: 0px 1px 2px rgba(60, 64, 67, 0.3), 0px 1px 3px 1px rgba(60, 64, 67, 0.15);\n",
              "      fill: #174EA6;\n",
              "    }\n",
              "\n",
              "    [theme=dark] .colab-df-convert {\n",
              "      background-color: #3B4455;\n",
              "      fill: #D2E3FC;\n",
              "    }\n",
              "\n",
              "    [theme=dark] .colab-df-convert:hover {\n",
              "      background-color: #434B5C;\n",
              "      box-shadow: 0px 1px 3px 1px rgba(0, 0, 0, 0.15);\n",
              "      filter: drop-shadow(0px 1px 2px rgba(0, 0, 0, 0.3));\n",
              "      fill: #FFFFFF;\n",
              "    }\n",
              "  </style>\n",
              "\n",
              "      <script>\n",
              "        const buttonEl =\n",
              "          document.querySelector('#df-87d93383-7626-4489-963c-6becfdad88c5 button.colab-df-convert');\n",
              "        buttonEl.style.display =\n",
              "          google.colab.kernel.accessAllowed ? 'block' : 'none';\n",
              "\n",
              "        async function convertToInteractive(key) {\n",
              "          const element = document.querySelector('#df-87d93383-7626-4489-963c-6becfdad88c5');\n",
              "          const dataTable =\n",
              "            await google.colab.kernel.invokeFunction('convertToInteractive',\n",
              "                                                     [key], {});\n",
              "          if (!dataTable) return;\n",
              "\n",
              "          const docLinkHtml = 'Like what you see? Visit the ' +\n",
              "            '<a target=\"_blank\" href=https://colab.research.google.com/notebooks/data_table.ipynb>data table notebook</a>'\n",
              "            + ' to learn more about interactive tables.';\n",
              "          element.innerHTML = '';\n",
              "          dataTable['output_type'] = 'display_data';\n",
              "          await google.colab.output.renderOutput(dataTable, element);\n",
              "          const docLink = document.createElement('div');\n",
              "          docLink.innerHTML = docLinkHtml;\n",
              "          element.appendChild(docLink);\n",
              "        }\n",
              "      </script>\n",
              "    </div>\n",
              "  </div>\n",
              "  "
            ],
            "text/plain": [
              "        SK_ID_CURR  CODE_GENDER  ...  INSTAL_DAYS_ENTRY_PAYMENT_SUM  INSTAL_COUNT\n",
              "115232      233633            1  ...                       -89081.0          56.0\n",
              "113005      231071            0  ...                        -4069.0           4.0\n",
              "132492      253675            0  ...                        -4380.0           6.0\n",
              "18531       121615            1  ...                       -34990.0          23.0\n",
              "234349      371468            1  ...                       -21295.0          25.0\n",
              "\n",
              "[5 rows x 560 columns]"
            ]
          },
          "metadata": {},
          "execution_count": 18
        }
      ],
      "source": [
        "X_train.head()"
      ]
    },
    {
      "cell_type": "code",
      "execution_count": null,
      "metadata": {
        "id": "hR6fP2TJulLw"
      },
      "outputs": [],
      "source": [
        ""
      ]
    },
    {
      "cell_type": "markdown",
      "metadata": {
        "id": "wRbmOtg3ulLx"
      },
      "source": [
        "**standard scaler**"
      ]
    },
    {
      "cell_type": "code",
      "execution_count": null,
      "metadata": {
        "id": "dFT0noHAulLx"
      },
      "outputs": [],
      "source": [
        "std_scale=RobustScaler().fit(X_train)\n",
        "#entrainement sur le train\n",
        "\n"
      ]
    },
    {
      "cell_type": "code",
      "execution_count": null,
      "metadata": {
        "id": "QHSZ3ovSulLx"
      },
      "outputs": [],
      "source": [
        "X_scale_train=std_scale.transform(X_train)\n",
        "#transformation du train\n",
        "X_scale_test=std_scale.transform(X_test)\n",
        "#transformation du test"
      ]
    },
    {
      "cell_type": "code",
      "execution_count": null,
      "metadata": {
        "id": "NOVCQgsnulLx"
      },
      "outputs": [],
      "source": [
        "scorer = make_scorer(customScore ,greater_is_better = True)\n",
        "#création de notre propre score grace à make_scorer"
      ]
    },
    {
      "cell_type": "code",
      "execution_count": null,
      "metadata": {
        "id": "zktvs9CI5S8w"
      },
      "outputs": [],
      "source": [
        "import xgboost as xgb\n",
        "model= xgb.XGBClassifier()\n",
        "\n",
        "#la fonction pour mesurer la qualite d'un split est gini\n",
        "#n_estimators= le nombre de tour de boost\n",
        "#min_sample split Le nombre minimum d'échantillons requis pour diviser un nœud interne\n",
        "#max_depth est la profondeur de l'arbre\n",
        "\n",
        "params = {'n_estimators':[120,150],\n",
        "          'max_depth':[6,8]}\n",
        "cv= StratifiedKFold(n_splits=5)\n",
        "grid2= GridSearchCV(model, param_grid=params, cv=cv, return_train_score=True , scoring=scorer)"
      ]
    },
    {
      "cell_type": "code",
      "execution_count": null,
      "metadata": {
        "id": "rPkmAa_Q5TAg",
        "colab": {
          "base_uri": "https://localhost:8080/",
          "height": 182
        },
        "outputId": "cd74a6e8-2ebe-4bd1-a496-426ecf33e54c"
      },
      "outputs": [
        {
          "output_type": "error",
          "ename": "NameError",
          "evalue": "ignored",
          "traceback": [
            "\u001b[0;31m---------------------------------------------------------------------------\u001b[0m",
            "\u001b[0;31mNameError\u001b[0m                                 Traceback (most recent call last)",
            "\u001b[0;32m<ipython-input-2-19a2805bf8d3>\u001b[0m in \u001b[0;36m<module>\u001b[0;34m()\u001b[0m\n\u001b[0;32m----> 1\u001b[0;31m \u001b[0mstart_timeXG\u001b[0m \u001b[0;34m=\u001b[0m \u001b[0mtimeit\u001b[0m\u001b[0;34m.\u001b[0m\u001b[0mdefault_timer\u001b[0m\u001b[0;34m(\u001b[0m\u001b[0;34m)\u001b[0m\u001b[0;34m\u001b[0m\u001b[0;34m\u001b[0m\u001b[0m\n\u001b[0m\u001b[1;32m      2\u001b[0m \u001b[0mgrid2\u001b[0m\u001b[0;34m.\u001b[0m\u001b[0mfit\u001b[0m\u001b[0;34m(\u001b[0m\u001b[0mX_scale_train\u001b[0m\u001b[0;34m,\u001b[0m \u001b[0my_train\u001b[0m\u001b[0;34m)\u001b[0m\u001b[0;34m\u001b[0m\u001b[0;34m\u001b[0m\u001b[0m\n",
            "\u001b[0;31mNameError\u001b[0m: name 'timeit' is not defined"
          ]
        }
      ],
      "source": [
        "start_timeXG = timeit.default_timer()\n",
        "grid2.fit(X_scale_train, y_train)"
      ]
    },
    {
      "cell_type": "code",
      "execution_count": null,
      "metadata": {
        "id": "W9x-VZN85F3x"
      },
      "outputs": [],
      "source": [
        "start_timeXG"
      ]
    },
    {
      "cell_type": "code",
      "execution_count": null,
      "metadata": {
        "id": "L3UEN6Z-5F8L"
      },
      "outputs": [],
      "source": [
        "#le meilleur parametre \n",
        "grid2.best_params_"
      ]
    },
    {
      "cell_type": "code",
      "execution_count": null,
      "metadata": {
        "id": "VwXGT6949jeV"
      },
      "outputs": [],
      "source": [
        "#le meilleur estimateur\n",
        "grid2.best_estimator_"
      ]
    },
    {
      "cell_type": "code",
      "execution_count": null,
      "metadata": {
        "id": "KDoMFrHG9jhc"
      },
      "outputs": [],
      "source": [
        "grid2.best_score_#f_betascore"
      ]
    },
    {
      "cell_type": "code",
      "execution_count": null,
      "metadata": {
        "id": "U1eZImoj9jkf"
      },
      "outputs": [],
      "source": [
        "model_XG=grid2.best_estimator_\n",
        "#c'est notre meilleur estimateur"
      ]
    },
    {
      "cell_type": "code",
      "execution_count": null,
      "metadata": {
        "id": "-vWdwY639jnh"
      },
      "outputs": [],
      "source": [
        ""
      ]
    },
    {
      "cell_type": "code",
      "source": [
        ""
      ],
      "metadata": {
        "id": "eK3oajGrIF4-"
      },
      "execution_count": null,
      "outputs": []
    },
    {
      "cell_type": "code",
      "source": [
        ""
      ],
      "metadata": {
        "id": "HPi661eMIF8g"
      },
      "execution_count": null,
      "outputs": []
    },
    {
      "cell_type": "code",
      "source": [
        ""
      ],
      "metadata": {
        "id": "y_jBIAqJIF_x"
      },
      "execution_count": null,
      "outputs": []
    },
    {
      "cell_type": "code",
      "source": [
        ""
      ],
      "metadata": {
        "id": "A7Nm_HEIIGDI"
      },
      "execution_count": null,
      "outputs": []
    },
    {
      "cell_type": "code",
      "source": [
        ""
      ],
      "metadata": {
        "id": "46qRq0mlIGH_"
      },
      "execution_count": null,
      "outputs": []
    },
    {
      "cell_type": "code",
      "source": [
        ""
      ],
      "metadata": {
        "id": "S4FERko8IGKO"
      },
      "execution_count": null,
      "outputs": []
    },
    {
      "cell_type": "code",
      "source": [
        ""
      ],
      "metadata": {
        "id": "TBj6tAsLIGNM"
      },
      "execution_count": null,
      "outputs": []
    },
    {
      "cell_type": "code",
      "source": [
        ""
      ],
      "metadata": {
        "id": "0JbNTWL-IGSz"
      },
      "execution_count": null,
      "outputs": []
    },
    {
      "cell_type": "code",
      "source": [
        ""
      ],
      "metadata": {
        "id": "r6q4BLNpIGYi"
      },
      "execution_count": null,
      "outputs": []
    },
    {
      "cell_type": "code",
      "execution_count": null,
      "metadata": {
        "id": "rxo1E48E0Jfg"
      },
      "outputs": [],
      "source": [
        "scorer = make_scorer(customScore ,greater_is_better = True)\n",
        "#création de notre propre score grace à make_scorer"
      ]
    },
    {
      "cell_type": "code",
      "execution_count": null,
      "metadata": {
        "id": "-L8s8v7O0AS9"
      },
      "outputs": [],
      "source": [
        "resultat"
      ]
    },
    {
      "cell_type": "code",
      "execution_count": null,
      "metadata": {
        "id": "SuFB3WZg0AWN"
      },
      "outputs": [],
      "source": [
        "comparaison_score_melt = pd.melt(resultat.reset_index(), id_vars = ['Modéle'], value_name = 'Comparaison',value_vars=['Score','AUROC','Précision','Rappel'])\n",
        "#Annulez le pivotement d'un DataFrame du format large au format long, \n",
        "#en laissant éventuellement les identifiants définis."
      ]
    },
    {
      "cell_type": "code",
      "execution_count": null,
      "metadata": {
        "id": "FYNVJbjI0AZm"
      },
      "outputs": [],
      "source": [
        "comparaison_score_melt"
      ]
    },
    {
      "cell_type": "code",
      "execution_count": null,
      "metadata": {
        "id": "BbpY1K8twKis"
      },
      "outputs": [],
      "source": [
        "plt.figure(figsize=(20,10))\n",
        "sns.barplot(x = comparaison_score_melt['Modéle'],\n",
        "            y = comparaison_score_melt['Comparaison'], hue = comparaison_score_melt['variable'],palette=['firebrick','gold','olive','yellow']);\n",
        "plt.xlabel('Modéles utilisés',fontsize = 30, fontweight = 'bold')  \n",
        "plt.ylabel('Les différents scores',fontsize = 30, fontweight = 'bold')          \n",
        "plt.title('Comparaison des performances des modèles',fontsize = 30, pad = 35, fontweight = 'bold');"
      ]
    },
    {
      "cell_type": "code",
      "source": [
        ""
      ],
      "metadata": {
        "id": "RqSqbr4eG-ku"
      },
      "execution_count": null,
      "outputs": []
    },
    {
      "cell_type": "code",
      "source": [
        ""
      ],
      "metadata": {
        "id": "cpROr4etG-qP"
      },
      "execution_count": null,
      "outputs": []
    },
    {
      "cell_type": "code",
      "source": [
        ""
      ],
      "metadata": {
        "id": "mtS3Fd6GG-tM"
      },
      "execution_count": null,
      "outputs": []
    },
    {
      "cell_type": "code",
      "source": [
        ""
      ],
      "metadata": {
        "id": "geVitNUrG-2H"
      },
      "execution_count": null,
      "outputs": []
    }
  ]
}