{
  "cells": [
    {
      "cell_type": "markdown",
      "metadata": {
        "id": "view-in-github",
        "colab_type": "text"
      },
      "source": [
        "<a href=\"https://colab.research.google.com/github/Azimoj/Home-Credit-Default-Risk/blob/main/Credit__scoring_Modeling.ipynb\" target=\"_parent\"><img src=\"https://colab.research.google.com/assets/colab-badge.svg\" alt=\"Open In Colab\"/></a>"
      ]
    },
    {
      "cell_type": "markdown",
      "metadata": {
        "id": "ZcsezZggrbGw"
      },
      "source": [
        "The data contains several number of relational tables. We'll process each one of them separately, and then finally in the end, merge all of them together."
      ]
    },
    {
      "cell_type": "code",
      "source": [
        ""
      ],
      "metadata": {
        "id": "vbMGYwqnUoBB"
      },
      "execution_count": null,
      "outputs": []
    },
    {
      "cell_type": "markdown",
      "metadata": {
        "id": "6zFXgiPGrSp7"
      },
      "source": [
        "## **Preprocessing Tables**"
      ]
    },
    {
      "cell_type": "code",
      "execution_count": 3,
      "metadata": {
        "id": "6itS5mslHxCW",
        "colab": {
          "base_uri": "https://localhost:8080/"
        },
        "outputId": "801ef306-7139-445c-a1cb-98725cf398f5"
      },
      "outputs": [
        {
          "output_type": "stream",
          "name": "stdout",
          "text": [
            "Mounted at /content/drive\n"
          ]
        }
      ],
      "source": [
        "from google.colab import drive\n",
        "drive.mount(\"/content/drive\", force_remount=True)"
      ]
    },
    {
      "cell_type": "code",
      "execution_count": 4,
      "metadata": {
        "id": "rT58aLKvrdiL"
      },
      "outputs": [],
      "source": [
        "# Data Structures\n",
        "import pandas as pd\n",
        "import numpy as np\n",
        "import matplotlib.pyplot as plt\n",
        "import seaborn as sns\n",
        "import matplotlib\n",
        "\n",
        "import warnings\n",
        "warnings.filterwarnings('ignore')\n",
        "from sklearn.preprocessing import StandardScaler\n",
        "from sklearn.impute import KNNImputer\n",
        "from sklearn.preprocessing import LabelEncoder\n",
        "from sklearn.manifold import TSNE\n",
        "from sklearn.decomposition import PCA\n",
        "\n",
        "import pickle\n",
        "from sklearn.neighbors import KNeighborsClassifier"
      ]
    },
    {
      "cell_type": "code",
      "execution_count": 30,
      "metadata": {
        "id": "q2zJ8oWdrdlA"
      },
      "outputs": [],
      "source": [
        "#Download databases\n",
        "app_test= pd.read_csv('/content/drive/MyDrive/p7/data/application_test.csv', encoding='utf-8', low_memory=False)\n",
        "app_train= pd.read_csv('/content/drive/MyDrive/p7/data/application_train.csv',low_memory=False)"
      ]
    },
    {
      "cell_type": "code",
      "execution_count": 5,
      "metadata": {
        "id": "nCsJmH3Srdna"
      },
      "outputs": [],
      "source": [
        "bureau= pd.read_csv('/content/drive/MyDrive/p7/data/bureau.csv',sep=',', encoding='utf-8', low_memory=False)\n",
        "bureau_balance= pd.read_csv('/content/drive/MyDrive/p7/data/bureau_balance.csv',sep=',' , encoding='utf-8', low_memory=False)\n",
        "cc_balance= pd.read_csv('/content/drive/MyDrive/p7/data/credit_card_balance.csv',sep=',', encoding='utf-8', low_memory=False)"
      ]
    },
    {
      "cell_type": "code",
      "execution_count": null,
      "metadata": {
        "id": "0N1gNsOTrdsw"
      },
      "outputs": [],
      "source": [
        "install_pay= pd.read_csv('/content/drive/MyDrive/p7/data/installments_payments.csv',sep=',', encoding='utf-8', low_memory=False)\n",
        "pos_cash_bal= pd.read_csv('/content/drive/MyDrive/p7/data/POS_CASH_balance.csv',sep=',', encoding='utf-8', low_memory=False)\n",
        "previous_application= pd.read_csv('/content/drive/MyDrive/p7/data/previous_application.csv', encoding='utf-8',low_memory=False)"
      ]
    },
    {
      "cell_type": "code",
      "execution_count": null,
      "metadata": {
        "id": "629wY3U0s2FM"
      },
      "outputs": [],
      "source": [
        ""
      ]
    },
    {
      "cell_type": "markdown",
      "metadata": {
        "id": "6Xmwgg0DBg2G"
      },
      "source": [
        "## **application_train and application_test**"
      ]
    },
    {
      "cell_type": "markdown",
      "metadata": {
        "id": "WUH0NW7TNehb"
      },
      "source": [
        "### **Data cleaning**"
      ]
    },
    {
      "cell_type": "code",
      "execution_count": 31,
      "metadata": {
        "id": "VYPxnikgGUQi"
      },
      "outputs": [],
      "source": [
        "#there are some FLAG_DOCUMENT features having just one category for almost all data, we will remove those\n",
        "flag_cols_to_drop = ['FLAG_DOCUMENT_2','FLAG_DOCUMENT_4','FLAG_DOCUMENT_10','FLAG_DOCUMENT_12', 'FLAG_DOCUMENT_20']\n",
        "app_train.drop(flag_cols_to_drop, axis = 1, inplace = True)\n",
        "app_test.drop(flag_cols_to_drop, axis = 1, inplace= True)\n",
        "\n",
        "#converting age from days to years\n",
        "app_train['AGE'] = app_train['DAYS_BIRTH'] * -1 / 365\n",
        "app_test['AGE'] = app_test['DAYS_BIRTH'] * -1 / 365\n",
        "\n",
        "# Outliers\n",
        "#From the EDA we saw some erroneous values in DAYS_EMPLOYED field\n",
        "app_train['DAYS_EMPLOYED'][app_train['DAYS_EMPLOYED'] == 365243] = np.nan\n",
        "app_test['DAYS_EMPLOYED'][app_test['DAYS_EMPLOYED'] == 365243] = np.nan\n",
        "\n",
        "#there were also 4 rows with 'XNA' as Gender, removing these rows\n",
        "app_train = app_train[app_train['CODE_GENDER'] != 'XNA']\n",
        "\n",
        "#converting columns of REGION_RATING_CLIENT to object type, as we saw some complex impact on TARGET variable during EDA\n",
        "app_train['REGION_RATING_CLIENT'] = app_train['REGION_RATING_CLIENT'].astype('object')\n",
        "app_train['REGION_RATING_CLIENT_W_CITY'] = app_train['REGION_RATING_CLIENT_W_CITY'].astype('object')\n",
        "\n",
        "app_test['REGION_RATING_CLIENT'] = app_test['REGION_RATING_CLIENT'].astype('object')\n",
        "app_test['REGION_RATING_CLIENT_W_CITY'] = app_test['REGION_RATING_CLIENT_W_CITY'].astype('object')\n"
      ]
    },
    {
      "cell_type": "code",
      "source": [
        "app_train.shape"
      ],
      "metadata": {
        "colab": {
          "base_uri": "https://localhost:8080/"
        },
        "id": "W4VVmWbUsjRF",
        "outputId": "f5e66018-79bd-4218-f60d-a1be6d14a124"
      },
      "execution_count": null,
      "outputs": [
        {
          "output_type": "execute_result",
          "data": {
            "text/plain": [
              "(307507, 118)"
            ]
          },
          "metadata": {},
          "execution_count": 52
        }
      ]
    },
    {
      "cell_type": "markdown",
      "metadata": {
        "id": "jwDRSdUjQuKM"
      },
      "source": [
        "### Suppression des lignes qui ont un taux de remplissage inférieur à une limite"
      ]
    },
    {
      "cell_type": "code",
      "execution_count": 32,
      "metadata": {
        "colab": {
          "base_uri": "https://localhost:8080/",
          "height": 394
        },
        "id": "B4ZcnuarQIkC",
        "outputId": "a6de3eb5-a99b-410d-93f9-182b26dd4cae"
      },
      "outputs": [
        {
          "output_type": "execute_result",
          "data": {
            "text/html": [
              "\n",
              "  <div id=\"df-d11e8c2b-2756-4944-bbb6-3c0284f8b87c\">\n",
              "    <div class=\"colab-df-container\">\n",
              "      <div>\n",
              "<style scoped>\n",
              "    .dataframe tbody tr th:only-of-type {\n",
              "        vertical-align: middle;\n",
              "    }\n",
              "\n",
              "    .dataframe tbody tr th {\n",
              "        vertical-align: top;\n",
              "    }\n",
              "\n",
              "    .dataframe thead th {\n",
              "        text-align: right;\n",
              "    }\n",
              "</style>\n",
              "<table border=\"1\" class=\"dataframe\">\n",
              "  <thead>\n",
              "    <tr style=\"text-align: right;\">\n",
              "      <th></th>\n",
              "      <th>filling_rate</th>\n",
              "      <th>remove_lines</th>\n",
              "    </tr>\n",
              "  </thead>\n",
              "  <tbody>\n",
              "    <tr>\n",
              "      <th>0</th>\n",
              "      <td>0.0</td>\n",
              "      <td>0</td>\n",
              "    </tr>\n",
              "    <tr>\n",
              "      <th>1</th>\n",
              "      <td>10.0</td>\n",
              "      <td>0</td>\n",
              "    </tr>\n",
              "    <tr>\n",
              "      <th>2</th>\n",
              "      <td>20.0</td>\n",
              "      <td>0</td>\n",
              "    </tr>\n",
              "    <tr>\n",
              "      <th>3</th>\n",
              "      <td>30.0</td>\n",
              "      <td>0</td>\n",
              "    </tr>\n",
              "    <tr>\n",
              "      <th>4</th>\n",
              "      <td>40.0</td>\n",
              "      <td>0</td>\n",
              "    </tr>\n",
              "    <tr>\n",
              "      <th>5</th>\n",
              "      <td>50.0</td>\n",
              "      <td>70</td>\n",
              "    </tr>\n",
              "    <tr>\n",
              "      <th>6</th>\n",
              "      <td>60.0</td>\n",
              "      <td>132473</td>\n",
              "    </tr>\n",
              "    <tr>\n",
              "      <th>7</th>\n",
              "      <td>70.0</td>\n",
              "      <td>154439</td>\n",
              "    </tr>\n",
              "    <tr>\n",
              "      <th>8</th>\n",
              "      <td>80.0</td>\n",
              "      <td>175672</td>\n",
              "    </tr>\n",
              "    <tr>\n",
              "      <th>9</th>\n",
              "      <td>90.0</td>\n",
              "      <td>211526</td>\n",
              "    </tr>\n",
              "    <tr>\n",
              "      <th>10</th>\n",
              "      <td>100.0</td>\n",
              "      <td>307507</td>\n",
              "    </tr>\n",
              "  </tbody>\n",
              "</table>\n",
              "</div>\n",
              "      <button class=\"colab-df-convert\" onclick=\"convertToInteractive('df-d11e8c2b-2756-4944-bbb6-3c0284f8b87c')\"\n",
              "              title=\"Convert this dataframe to an interactive table.\"\n",
              "              style=\"display:none;\">\n",
              "        \n",
              "  <svg xmlns=\"http://www.w3.org/2000/svg\" height=\"24px\"viewBox=\"0 0 24 24\"\n",
              "       width=\"24px\">\n",
              "    <path d=\"M0 0h24v24H0V0z\" fill=\"none\"/>\n",
              "    <path d=\"M18.56 5.44l.94 2.06.94-2.06 2.06-.94-2.06-.94-.94-2.06-.94 2.06-2.06.94zm-11 1L8.5 8.5l.94-2.06 2.06-.94-2.06-.94L8.5 2.5l-.94 2.06-2.06.94zm10 10l.94 2.06.94-2.06 2.06-.94-2.06-.94-.94-2.06-.94 2.06-2.06.94z\"/><path d=\"M17.41 7.96l-1.37-1.37c-.4-.4-.92-.59-1.43-.59-.52 0-1.04.2-1.43.59L10.3 9.45l-7.72 7.72c-.78.78-.78 2.05 0 2.83L4 21.41c.39.39.9.59 1.41.59.51 0 1.02-.2 1.41-.59l7.78-7.78 2.81-2.81c.8-.78.8-2.07 0-2.86zM5.41 20L4 18.59l7.72-7.72 1.47 1.35L5.41 20z\"/>\n",
              "  </svg>\n",
              "      </button>\n",
              "      \n",
              "  <style>\n",
              "    .colab-df-container {\n",
              "      display:flex;\n",
              "      flex-wrap:wrap;\n",
              "      gap: 12px;\n",
              "    }\n",
              "\n",
              "    .colab-df-convert {\n",
              "      background-color: #E8F0FE;\n",
              "      border: none;\n",
              "      border-radius: 50%;\n",
              "      cursor: pointer;\n",
              "      display: none;\n",
              "      fill: #1967D2;\n",
              "      height: 32px;\n",
              "      padding: 0 0 0 0;\n",
              "      width: 32px;\n",
              "    }\n",
              "\n",
              "    .colab-df-convert:hover {\n",
              "      background-color: #E2EBFA;\n",
              "      box-shadow: 0px 1px 2px rgba(60, 64, 67, 0.3), 0px 1px 3px 1px rgba(60, 64, 67, 0.15);\n",
              "      fill: #174EA6;\n",
              "    }\n",
              "\n",
              "    [theme=dark] .colab-df-convert {\n",
              "      background-color: #3B4455;\n",
              "      fill: #D2E3FC;\n",
              "    }\n",
              "\n",
              "    [theme=dark] .colab-df-convert:hover {\n",
              "      background-color: #434B5C;\n",
              "      box-shadow: 0px 1px 3px 1px rgba(0, 0, 0, 0.15);\n",
              "      filter: drop-shadow(0px 1px 2px rgba(0, 0, 0, 0.3));\n",
              "      fill: #FFFFFF;\n",
              "    }\n",
              "  </style>\n",
              "\n",
              "      <script>\n",
              "        const buttonEl =\n",
              "          document.querySelector('#df-d11e8c2b-2756-4944-bbb6-3c0284f8b87c button.colab-df-convert');\n",
              "        buttonEl.style.display =\n",
              "          google.colab.kernel.accessAllowed ? 'block' : 'none';\n",
              "\n",
              "        async function convertToInteractive(key) {\n",
              "          const element = document.querySelector('#df-d11e8c2b-2756-4944-bbb6-3c0284f8b87c');\n",
              "          const dataTable =\n",
              "            await google.colab.kernel.invokeFunction('convertToInteractive',\n",
              "                                                     [key], {});\n",
              "          if (!dataTable) return;\n",
              "\n",
              "          const docLinkHtml = 'Like what you see? Visit the ' +\n",
              "            '<a target=\"_blank\" href=https://colab.research.google.com/notebooks/data_table.ipynb>data table notebook</a>'\n",
              "            + ' to learn more about interactive tables.';\n",
              "          element.innerHTML = '';\n",
              "          dataTable['output_type'] = 'display_data';\n",
              "          await google.colab.output.renderOutput(dataTable, element);\n",
              "          const docLink = document.createElement('div');\n",
              "          docLink.innerHTML = docLinkHtml;\n",
              "          element.appendChild(docLink);\n",
              "        }\n",
              "      </script>\n",
              "    </div>\n",
              "  </div>\n",
              "  "
            ],
            "text/plain": [
              "    filling_rate  remove_lines\n",
              "0            0.0             0\n",
              "1           10.0             0\n",
              "2           20.0             0\n",
              "3           30.0             0\n",
              "4           40.0             0\n",
              "5           50.0            70\n",
              "6           60.0        132473\n",
              "7           70.0        154439\n",
              "8           80.0        175672\n",
              "9           90.0        211526\n",
              "10         100.0        307507"
            ]
          },
          "metadata": {},
          "execution_count": 32
        }
      ],
      "source": [
        "find_rate =  app_train.copy()\n",
        "find_rate = find_rate.replace(to_replace = '^nan$', value = np.nan, regex=True)\n",
        "nb_lines = find_rate.shape[0]\n",
        "nb_columns = find_rate.shape[1]\n",
        "                \n",
        "find_rate['taux_remplissage_lines'] = (app_train.apply(lambda x: x.count(), axis=1)/nb_columns)\n",
        "    \n",
        "filling_rate = []\n",
        "remove_line = []\n",
        "\n",
        "for i in range(0, 11, 1):\n",
        "    taux_remplissage = i/10.0\n",
        "    \n",
        "    filling_rate.append(taux_remplissage*100)\n",
        "    df_2 = find_rate[find_rate['taux_remplissage_lines'] > taux_remplissage]\n",
        "              \n",
        "    #number of lines in the end\n",
        "    nb_lines_supp = nb_lines - df_2.shape[0]\n",
        "    remove_line.append(nb_lines_supp)\n",
        "  \n",
        "    del df_2['taux_remplissage_lines']\n",
        "    \n",
        "find_rate = pd.DataFrame(\n",
        "    {'filling_rate': filling_rate,\n",
        "     'remove_lines': remove_line})\n",
        "find_rate"
      ]
    },
    {
      "cell_type": "code",
      "execution_count": null,
      "metadata": {
        "colab": {
          "base_uri": "https://localhost:8080/",
          "height": 298
        },
        "id": "TdrXP2iJTWFV",
        "outputId": "b130f666-55dc-4f58-8819-981233a307a0"
      },
      "outputs": [
        {
          "output_type": "execute_result",
          "data": {
            "text/plain": [
              "<matplotlib.axes._subplots.AxesSubplot at 0x7fa729cb0150>"
            ]
          },
          "metadata": {},
          "execution_count": 8
        },
        {
          "output_type": "display_data",
          "data": {
            "image/png": "[encoded data removed]",
            "text/plain": [
              "<Figure size 432x288 with 1 Axes>"
            ]
          },
          "metadata": {
            "needs_background": "light"
          }
        }
      ],
      "source": [
        "sns.lineplot(data=find_rate, x=\"filling_rate\", y=\"remove_lines\")"
      ]
    },
    {
      "cell_type": "code",
      "execution_count": 33,
      "metadata": {
        "id": "1MXgpNzRQ95k"
      },
      "outputs": [],
      "source": [
        "find_rate =  app_train.copy()\n",
        "def filtration_line(dataframe, taux_remplissage):\n",
        "    df = dataframe.copy()\n",
        "\n",
        "    nb_lines = find_rate.shape[0]\n",
        "    nb_columns = find_rate.shape[1]\n",
        "\n",
        "    dataframe = dataframe.replace(to_replace = '^nan$', value = np.nan, regex=True)\n",
        "    #number of line at origin\n",
        "    nb_lines = dataframe.shape[0]\n",
        "                \n",
        "    df['taux_remplissage_lines'] = (dataframe.apply(lambda x: x.count(), axis=1)/nb_columns)\n",
        "\n",
        "    df_2 = df[df['taux_remplissage_lines'] > taux_remplissage]\n",
        "  \n",
        "            \n",
        "    #number of lines in the end\n",
        "    nb_lines_supp = nb_lines - df_2.shape[0]\n",
        "\n",
        "    print(\"Number of lines with a fill rate higher than {:.2%} : {} lines.\".format(taux_remplissage, df_2.shape[0]))\n",
        "    print(\"Number of lines deleted :\",nb_lines_supp)\n",
        "    print(\"Shape of data:\",df_2.shape)\n",
        "    \n",
        "    del df_2['taux_remplissage_lines']\n",
        "\n",
        "    return df_2"
      ]
    },
    {
      "cell_type": "code",
      "execution_count": null,
      "metadata": {
        "colab": {
          "base_uri": "https://localhost:8080/"
        },
        "id": "Q__Tg_xlQ98O",
        "outputId": "79549567-9eac-48de-897e-114f4354fc56"
      },
      "outputs": [
        {
          "output_type": "stream",
          "name": "stdout",
          "text": [
            "Number of lines with a fill rate higher than 60.00% : 175034 lines.\n",
            "Number of lines deleted : 132473\n",
            "Shape of data: (175034, 119)\n"
          ]
        }
      ],
      "source": [
        "app_train_clean_lines = filtration_line(app_train, 0.6)"
      ]
    },
    {
      "cell_type": "code",
      "execution_count": null,
      "metadata": {
        "colab": {
          "base_uri": "https://localhost:8080/"
        },
        "id": "PfuqK2HSQIn5",
        "outputId": "c71f7c86-be7f-4dae-adeb-bde8d995d49e"
      },
      "outputs": [
        {
          "output_type": "stream",
          "name": "stdout",
          "text": [
            "Number of lines with a fill rate higher than 60.00% : 26115 lines.\n",
            "Number of lines deleted : 22629\n",
            "Shape of data: (26115, 118)\n"
          ]
        }
      ],
      "source": [
        "app_test_clean_lines = filtration_line(app_test, 0.6)"
      ]
    },
    {
      "cell_type": "code",
      "execution_count": null,
      "metadata": {
        "id": "cAY_x-eiRmv2"
      },
      "outputs": [],
      "source": [
        ""
      ]
    },
    {
      "cell_type": "markdown",
      "metadata": {
        "id": "uMvLzjO0RuDz"
      },
      "source": [
        "### Suppression des colonnes qui ont un taux de remplissage inférieur à une limite"
      ]
    },
    {
      "cell_type": "code",
      "execution_count": 34,
      "metadata": {
        "colab": {
          "base_uri": "https://localhost:8080/",
          "height": 394
        },
        "id": "-Tttgtq4Pu7z",
        "outputId": "ef35ccff-bb1d-4b68-cfec-8587734cb1eb"
      },
      "outputs": [
        {
          "output_type": "execute_result",
          "data": {
            "text/html": [
              "\n",
              "  <div id=\"df-5ab5e4f0-4d5c-4139-8a11-17bbf317f9db\">\n",
              "    <div class=\"colab-df-container\">\n",
              "      <div>\n",
              "<style scoped>\n",
              "    .dataframe tbody tr th:only-of-type {\n",
              "        vertical-align: middle;\n",
              "    }\n",
              "\n",
              "    .dataframe tbody tr th {\n",
              "        vertical-align: top;\n",
              "    }\n",
              "\n",
              "    .dataframe thead th {\n",
              "        text-align: right;\n",
              "    }\n",
              "</style>\n",
              "<table border=\"1\" class=\"dataframe\">\n",
              "  <thead>\n",
              "    <tr style=\"text-align: right;\">\n",
              "      <th></th>\n",
              "      <th>filling_rate</th>\n",
              "      <th>remove_columns</th>\n",
              "    </tr>\n",
              "  </thead>\n",
              "  <tbody>\n",
              "    <tr>\n",
              "      <th>0</th>\n",
              "      <td>0.0</td>\n",
              "      <td>0</td>\n",
              "    </tr>\n",
              "    <tr>\n",
              "      <th>1</th>\n",
              "      <td>10.0</td>\n",
              "      <td>0</td>\n",
              "    </tr>\n",
              "    <tr>\n",
              "      <th>2</th>\n",
              "      <td>20.0</td>\n",
              "      <td>0</td>\n",
              "    </tr>\n",
              "    <tr>\n",
              "      <th>3</th>\n",
              "      <td>30.0</td>\n",
              "      <td>0</td>\n",
              "    </tr>\n",
              "    <tr>\n",
              "      <th>4</th>\n",
              "      <td>40.0</td>\n",
              "      <td>1</td>\n",
              "    </tr>\n",
              "    <tr>\n",
              "      <th>5</th>\n",
              "      <td>50.0</td>\n",
              "      <td>1</td>\n",
              "    </tr>\n",
              "    <tr>\n",
              "      <th>6</th>\n",
              "      <td>60.0</td>\n",
              "      <td>18</td>\n",
              "    </tr>\n",
              "    <tr>\n",
              "      <th>7</th>\n",
              "      <td>70.0</td>\n",
              "      <td>18</td>\n",
              "    </tr>\n",
              "    <tr>\n",
              "      <th>8</th>\n",
              "      <td>80.0</td>\n",
              "      <td>28</td>\n",
              "    </tr>\n",
              "    <tr>\n",
              "      <th>9</th>\n",
              "      <td>90.0</td>\n",
              "      <td>56</td>\n",
              "    </tr>\n",
              "    <tr>\n",
              "      <th>10</th>\n",
              "      <td>100.0</td>\n",
              "      <td>118</td>\n",
              "    </tr>\n",
              "  </tbody>\n",
              "</table>\n",
              "</div>\n",
              "      <button class=\"colab-df-convert\" onclick=\"convertToInteractive('df-5ab5e4f0-4d5c-4139-8a11-17bbf317f9db')\"\n",
              "              title=\"Convert this dataframe to an interactive table.\"\n",
              "              style=\"display:none;\">\n",
              "        \n",
              "  <svg xmlns=\"http://www.w3.org/2000/svg\" height=\"24px\"viewBox=\"0 0 24 24\"\n",
              "       width=\"24px\">\n",
              "    <path d=\"M0 0h24v24H0V0z\" fill=\"none\"/>\n",
              "    <path d=\"M18.56 5.44l.94 2.06.94-2.06 2.06-.94-2.06-.94-.94-2.06-.94 2.06-2.06.94zm-11 1L8.5 8.5l.94-2.06 2.06-.94-2.06-.94L8.5 2.5l-.94 2.06-2.06.94zm10 10l.94 2.06.94-2.06 2.06-.94-2.06-.94-.94-2.06-.94 2.06-2.06.94z\"/><path d=\"M17.41 7.96l-1.37-1.37c-.4-.4-.92-.59-1.43-.59-.52 0-1.04.2-1.43.59L10.3 9.45l-7.72 7.72c-.78.78-.78 2.05 0 2.83L4 21.41c.39.39.9.59 1.41.59.51 0 1.02-.2 1.41-.59l7.78-7.78 2.81-2.81c.8-.78.8-2.07 0-2.86zM5.41 20L4 18.59l7.72-7.72 1.47 1.35L5.41 20z\"/>\n",
              "  </svg>\n",
              "      </button>\n",
              "      \n",
              "  <style>\n",
              "    .colab-df-container {\n",
              "      display:flex;\n",
              "      flex-wrap:wrap;\n",
              "      gap: 12px;\n",
              "    }\n",
              "\n",
              "    .colab-df-convert {\n",
              "      background-color: #E8F0FE;\n",
              "      border: none;\n",
              "      border-radius: 50%;\n",
              "      cursor: pointer;\n",
              "      display: none;\n",
              "      fill: #1967D2;\n",
              "      height: 32px;\n",
              "      padding: 0 0 0 0;\n",
              "      width: 32px;\n",
              "    }\n",
              "\n",
              "    .colab-df-convert:hover {\n",
              "      background-color: #E2EBFA;\n",
              "      box-shadow: 0px 1px 2px rgba(60, 64, 67, 0.3), 0px 1px 3px 1px rgba(60, 64, 67, 0.15);\n",
              "      fill: #174EA6;\n",
              "    }\n",
              "\n",
              "    [theme=dark] .colab-df-convert {\n",
              "      background-color: #3B4455;\n",
              "      fill: #D2E3FC;\n",
              "    }\n",
              "\n",
              "    [theme=dark] .colab-df-convert:hover {\n",
              "      background-color: #434B5C;\n",
              "      box-shadow: 0px 1px 3px 1px rgba(0, 0, 0, 0.15);\n",
              "      filter: drop-shadow(0px 1px 2px rgba(0, 0, 0, 0.3));\n",
              "      fill: #FFFFFF;\n",
              "    }\n",
              "  </style>\n",
              "\n",
              "      <script>\n",
              "        const buttonEl =\n",
              "          document.querySelector('#df-5ab5e4f0-4d5c-4139-8a11-17bbf317f9db button.colab-df-convert');\n",
              "        buttonEl.style.display =\n",
              "          google.colab.kernel.accessAllowed ? 'block' : 'none';\n",
              "\n",
              "        async function convertToInteractive(key) {\n",
              "          const element = document.querySelector('#df-5ab5e4f0-4d5c-4139-8a11-17bbf317f9db');\n",
              "          const dataTable =\n",
              "            await google.colab.kernel.invokeFunction('convertToInteractive',\n",
              "                                                     [key], {});\n",
              "          if (!dataTable) return;\n",
              "\n",
              "          const docLinkHtml = 'Like what you see? Visit the ' +\n",
              "            '<a target=\"_blank\" href=https://colab.research.google.com/notebooks/data_table.ipynb>data table notebook</a>'\n",
              "            + ' to learn more about interactive tables.';\n",
              "          element.innerHTML = '';\n",
              "          dataTable['output_type'] = 'display_data';\n",
              "          await google.colab.output.renderOutput(dataTable, element);\n",
              "          const docLink = document.createElement('div');\n",
              "          docLink.innerHTML = docLinkHtml;\n",
              "          element.appendChild(docLink);\n",
              "        }\n",
              "      </script>\n",
              "    </div>\n",
              "  </div>\n",
              "  "
            ],
            "text/plain": [
              "    filling_rate  remove_columns\n",
              "0            0.0               0\n",
              "1           10.0               0\n",
              "2           20.0               0\n",
              "3           30.0               0\n",
              "4           40.0               1\n",
              "5           50.0               1\n",
              "6           60.0              18\n",
              "7           70.0              18\n",
              "8           80.0              28\n",
              "9           90.0              56\n",
              "10         100.0             118"
            ]
          },
          "metadata": {},
          "execution_count": 34
        }
      ],
      "source": [
        "find_rate = app_train_clean_lines.copy()\n",
        "find_rate = find_rate.replace(to_replace = '^nan$', value = np.nan, regex=True)\n",
        "nb_colonne = find_rate.shape[1]\n",
        "\n",
        "filling_rate = []\n",
        "remove_col = []\n",
        "\n",
        "for i in range(0, 11, 1):\n",
        "    taux_remplissage = i/10.0\n",
        "    \n",
        "    filling_rate.append(taux_remplissage*100)\n",
        "\n",
        "    df = find_rate[find_rate.columns[1-find_rate.isnull().mean() > taux_remplissage]]\n",
        "    \n",
        "    #number of columns at the end\n",
        "    nb_colonne_supp = nb_colonne - df.shape[1]\n",
        "    \n",
        "    remove_col.append(nb_colonne_supp)\n",
        "  \n",
        "    \n",
        "find_rate = pd.DataFrame(\n",
        "    {'filling_rate': filling_rate,\n",
        "     'remove_columns': remove_col\n",
        "    })\n",
        "find_rate \n"
      ]
    },
    {
      "cell_type": "code",
      "execution_count": null,
      "metadata": {
        "colab": {
          "base_uri": "https://localhost:8080/",
          "height": 298
        },
        "id": "LB1HMQY0TLRN",
        "outputId": "55febb28-5011-4791-ae99-13fa24a94cc7"
      },
      "outputs": [
        {
          "output_type": "execute_result",
          "data": {
            "text/plain": [
              "<matplotlib.axes._subplots.AxesSubplot at 0x7fa7000134d0>"
            ]
          },
          "metadata": {},
          "execution_count": 13
        },
        {
          "output_type": "display_data",
          "data": {
            "image/png": "[encoded data removed]",
            "text/plain": [
              "<Figure size 432x288 with 1 Axes>"
            ]
          },
          "metadata": {
            "needs_background": "light"
          }
        }
      ],
      "source": [
        "sns.lineplot(data=find_rate, x=\"filling_rate\", y=\"remove_columns\")"
      ]
    },
    {
      "cell_type": "code",
      "execution_count": null,
      "metadata": {
        "id": "URZc67HxS284"
      },
      "outputs": [],
      "source": [
        "def filtration_columns(dataframe, taux_remplissage):\n",
        "    dataframe = dataframe.replace(to_replace = '^nan$', value = np.nan, regex=True)\n",
        "    #number of columns at origin\n",
        "    nb_colonne = dataframe.shape[1]\n",
        "    \n",
        "    df = dataframe[dataframe.columns[1-dataframe.isnull().mean() > taux_remplissage]]\n",
        "\n",
        "    #number of columns at the end\n",
        "    nb_colonne_supp = nb_colonne - df.shape[1]\n",
        "\n",
        "    print(\"Nombre de colonnes avec un taux de remplissage supérieur à {:.2%} : {} colonnes.\".format(taux_remplissage, df.shape[1]))\n",
        "    print(\"Nombre de colonnes supprimées : {} colonnes\".format(nb_colonne_supp))\n",
        "\n",
        "    return df"
      ]
    },
    {
      "cell_type": "code",
      "execution_count": 37,
      "metadata": {
        "colab": {
          "base_uri": "https://localhost:8080/"
        },
        "id": "EwJYQN-SS3BJ",
        "outputId": "28768ec3-fb84-49b4-d8f2-f5ce45c4e757"
      },
      "outputs": [
        {
          "output_type": "stream",
          "name": "stdout",
          "text": [
            "Nombre de colonnes avec un taux de remplissage supérieur à 60.00% : 100 colonnes.\n",
            "Nombre de colonnes supprimées : 18 colonnes\n"
          ]
        }
      ],
      "source": [
        "app_train_reduced = filtration_columns(app_train_clean_lines, 0.6)\n"
      ]
    },
    {
      "cell_type": "code",
      "source": [
        "app_test_reduced = filtration_columns(app_test_clean_lines, 0.6)"
      ],
      "metadata": {
        "colab": {
          "base_uri": "https://localhost:8080/"
        },
        "id": "mEeyc9kfiZaO",
        "outputId": "d9e089a5-d55a-497b-eb14-3c5eab044777"
      },
      "execution_count": 38,
      "outputs": [
        {
          "output_type": "stream",
          "name": "stdout",
          "text": [
            "Nombre de colonnes avec un taux de remplissage supérieur à 60.00% : 109 colonnes.\n",
            "Nombre de colonnes supprimées : 8 colonnes\n"
          ]
        }
      ]
    },
    {
      "cell_type": "code",
      "execution_count": null,
      "metadata": {
        "colab": {
          "base_uri": "https://localhost:8080/",
          "height": 369
        },
        "id": "q3GRrsSITiNf",
        "outputId": "e6a43cca-b491-4d63-cc6e-1c5cf2c1b431"
      },
      "outputs": [
        {
          "output_type": "execute_result",
          "data": {
            "text/html": [
              "\n",
              "  <div id=\"df-a8820c13-0715-4d0c-a844-837f706e3609\">\n",
              "    <div class=\"colab-df-container\">\n",
              "      <div>\n",
              "<style scoped>\n",
              "    .dataframe tbody tr th:only-of-type {\n",
              "        vertical-align: middle;\n",
              "    }\n",
              "\n",
              "    .dataframe tbody tr th {\n",
              "        vertical-align: top;\n",
              "    }\n",
              "\n",
              "    .dataframe thead th {\n",
              "        text-align: right;\n",
              "    }\n",
              "</style>\n",
              "<table border=\"1\" class=\"dataframe\">\n",
              "  <thead>\n",
              "    <tr style=\"text-align: right;\">\n",
              "      <th></th>\n",
              "      <th>SK_ID_CURR</th>\n",
              "      <th>TARGET</th>\n",
              "      <th>NAME_CONTRACT_TYPE</th>\n",
              "      <th>CODE_GENDER</th>\n",
              "      <th>FLAG_OWN_CAR</th>\n",
              "      <th>FLAG_OWN_REALTY</th>\n",
              "      <th>CNT_CHILDREN</th>\n",
              "      <th>AMT_INCOME_TOTAL</th>\n",
              "      <th>AMT_CREDIT</th>\n",
              "      <th>AMT_ANNUITY</th>\n",
              "      <th>AMT_GOODS_PRICE</th>\n",
              "      <th>NAME_TYPE_SUITE</th>\n",
              "      <th>NAME_INCOME_TYPE</th>\n",
              "      <th>NAME_EDUCATION_TYPE</th>\n",
              "      <th>NAME_FAMILY_STATUS</th>\n",
              "      <th>NAME_HOUSING_TYPE</th>\n",
              "      <th>REGION_POPULATION_RELATIVE</th>\n",
              "      <th>DAYS_BIRTH</th>\n",
              "      <th>DAYS_EMPLOYED</th>\n",
              "      <th>DAYS_REGISTRATION</th>\n",
              "      <th>DAYS_ID_PUBLISH</th>\n",
              "      <th>FLAG_MOBIL</th>\n",
              "      <th>FLAG_EMP_PHONE</th>\n",
              "      <th>FLAG_WORK_PHONE</th>\n",
              "      <th>FLAG_CONT_MOBILE</th>\n",
              "      <th>FLAG_PHONE</th>\n",
              "      <th>FLAG_EMAIL</th>\n",
              "      <th>OCCUPATION_TYPE</th>\n",
              "      <th>CNT_FAM_MEMBERS</th>\n",
              "      <th>REGION_RATING_CLIENT</th>\n",
              "      <th>REGION_RATING_CLIENT_W_CITY</th>\n",
              "      <th>WEEKDAY_APPR_PROCESS_START</th>\n",
              "      <th>HOUR_APPR_PROCESS_START</th>\n",
              "      <th>REG_REGION_NOT_LIVE_REGION</th>\n",
              "      <th>REG_REGION_NOT_WORK_REGION</th>\n",
              "      <th>LIVE_REGION_NOT_WORK_REGION</th>\n",
              "      <th>REG_CITY_NOT_LIVE_CITY</th>\n",
              "      <th>REG_CITY_NOT_WORK_CITY</th>\n",
              "      <th>LIVE_CITY_NOT_WORK_CITY</th>\n",
              "      <th>ORGANIZATION_TYPE</th>\n",
              "      <th>...</th>\n",
              "      <th>APARTMENTS_MEDI</th>\n",
              "      <th>BASEMENTAREA_MEDI</th>\n",
              "      <th>YEARS_BEGINEXPLUATATION_MEDI</th>\n",
              "      <th>ELEVATORS_MEDI</th>\n",
              "      <th>ENTRANCES_MEDI</th>\n",
              "      <th>FLOORSMAX_MEDI</th>\n",
              "      <th>LANDAREA_MEDI</th>\n",
              "      <th>LIVINGAREA_MEDI</th>\n",
              "      <th>NONLIVINGAREA_MEDI</th>\n",
              "      <th>HOUSETYPE_MODE</th>\n",
              "      <th>TOTALAREA_MODE</th>\n",
              "      <th>WALLSMATERIAL_MODE</th>\n",
              "      <th>EMERGENCYSTATE_MODE</th>\n",
              "      <th>OBS_30_CNT_SOCIAL_CIRCLE</th>\n",
              "      <th>DEF_30_CNT_SOCIAL_CIRCLE</th>\n",
              "      <th>OBS_60_CNT_SOCIAL_CIRCLE</th>\n",
              "      <th>DEF_60_CNT_SOCIAL_CIRCLE</th>\n",
              "      <th>DAYS_LAST_PHONE_CHANGE</th>\n",
              "      <th>FLAG_DOCUMENT_3</th>\n",
              "      <th>FLAG_DOCUMENT_5</th>\n",
              "      <th>FLAG_DOCUMENT_6</th>\n",
              "      <th>FLAG_DOCUMENT_7</th>\n",
              "      <th>FLAG_DOCUMENT_8</th>\n",
              "      <th>FLAG_DOCUMENT_9</th>\n",
              "      <th>FLAG_DOCUMENT_11</th>\n",
              "      <th>FLAG_DOCUMENT_13</th>\n",
              "      <th>FLAG_DOCUMENT_14</th>\n",
              "      <th>FLAG_DOCUMENT_15</th>\n",
              "      <th>FLAG_DOCUMENT_16</th>\n",
              "      <th>FLAG_DOCUMENT_17</th>\n",
              "      <th>FLAG_DOCUMENT_18</th>\n",
              "      <th>FLAG_DOCUMENT_19</th>\n",
              "      <th>FLAG_DOCUMENT_21</th>\n",
              "      <th>AMT_REQ_CREDIT_BUREAU_HOUR</th>\n",
              "      <th>AMT_REQ_CREDIT_BUREAU_DAY</th>\n",
              "      <th>AMT_REQ_CREDIT_BUREAU_WEEK</th>\n",
              "      <th>AMT_REQ_CREDIT_BUREAU_MON</th>\n",
              "      <th>AMT_REQ_CREDIT_BUREAU_QRT</th>\n",
              "      <th>AMT_REQ_CREDIT_BUREAU_YEAR</th>\n",
              "      <th>AGE</th>\n",
              "    </tr>\n",
              "  </thead>\n",
              "  <tbody>\n",
              "    <tr>\n",
              "      <th>0</th>\n",
              "      <td>100002</td>\n",
              "      <td>1</td>\n",
              "      <td>Cash loans</td>\n",
              "      <td>M</td>\n",
              "      <td>N</td>\n",
              "      <td>Y</td>\n",
              "      <td>0</td>\n",
              "      <td>202500.0</td>\n",
              "      <td>406597.5</td>\n",
              "      <td>24700.5</td>\n",
              "      <td>351000.0</td>\n",
              "      <td>Unaccompanied</td>\n",
              "      <td>Working</td>\n",
              "      <td>Secondary / secondary special</td>\n",
              "      <td>Single / not married</td>\n",
              "      <td>House / apartment</td>\n",
              "      <td>0.018801</td>\n",
              "      <td>-9461</td>\n",
              "      <td>-637.0</td>\n",
              "      <td>-3648.0</td>\n",
              "      <td>-2120</td>\n",
              "      <td>1</td>\n",
              "      <td>1</td>\n",
              "      <td>0</td>\n",
              "      <td>1</td>\n",
              "      <td>1</td>\n",
              "      <td>0</td>\n",
              "      <td>Laborers</td>\n",
              "      <td>1.0</td>\n",
              "      <td>2</td>\n",
              "      <td>2</td>\n",
              "      <td>WEDNESDAY</td>\n",
              "      <td>10</td>\n",
              "      <td>0</td>\n",
              "      <td>0</td>\n",
              "      <td>0</td>\n",
              "      <td>0</td>\n",
              "      <td>0</td>\n",
              "      <td>0</td>\n",
              "      <td>Business Entity Type 3</td>\n",
              "      <td>...</td>\n",
              "      <td>0.0250</td>\n",
              "      <td>0.0369</td>\n",
              "      <td>0.9722</td>\n",
              "      <td>0.00</td>\n",
              "      <td>0.0690</td>\n",
              "      <td>0.0833</td>\n",
              "      <td>0.0375</td>\n",
              "      <td>0.0193</td>\n",
              "      <td>0.00</td>\n",
              "      <td>block of flats</td>\n",
              "      <td>0.0149</td>\n",
              "      <td>Stone, brick</td>\n",
              "      <td>No</td>\n",
              "      <td>2.0</td>\n",
              "      <td>2.0</td>\n",
              "      <td>2.0</td>\n",
              "      <td>2.0</td>\n",
              "      <td>-1134.0</td>\n",
              "      <td>1</td>\n",
              "      <td>0</td>\n",
              "      <td>0</td>\n",
              "      <td>0</td>\n",
              "      <td>0</td>\n",
              "      <td>0</td>\n",
              "      <td>0</td>\n",
              "      <td>0</td>\n",
              "      <td>0</td>\n",
              "      <td>0</td>\n",
              "      <td>0</td>\n",
              "      <td>0</td>\n",
              "      <td>0</td>\n",
              "      <td>0</td>\n",
              "      <td>0</td>\n",
              "      <td>0.0</td>\n",
              "      <td>0.0</td>\n",
              "      <td>0.0</td>\n",
              "      <td>0.0</td>\n",
              "      <td>0.0</td>\n",
              "      <td>1.0</td>\n",
              "      <td>25.920548</td>\n",
              "    </tr>\n",
              "    <tr>\n",
              "      <th>1</th>\n",
              "      <td>100003</td>\n",
              "      <td>0</td>\n",
              "      <td>Cash loans</td>\n",
              "      <td>F</td>\n",
              "      <td>N</td>\n",
              "      <td>N</td>\n",
              "      <td>0</td>\n",
              "      <td>270000.0</td>\n",
              "      <td>1293502.5</td>\n",
              "      <td>35698.5</td>\n",
              "      <td>1129500.0</td>\n",
              "      <td>Family</td>\n",
              "      <td>State servant</td>\n",
              "      <td>Higher education</td>\n",
              "      <td>Married</td>\n",
              "      <td>House / apartment</td>\n",
              "      <td>0.003541</td>\n",
              "      <td>-16765</td>\n",
              "      <td>-1188.0</td>\n",
              "      <td>-1186.0</td>\n",
              "      <td>-291</td>\n",
              "      <td>1</td>\n",
              "      <td>1</td>\n",
              "      <td>0</td>\n",
              "      <td>1</td>\n",
              "      <td>1</td>\n",
              "      <td>0</td>\n",
              "      <td>Core staff</td>\n",
              "      <td>2.0</td>\n",
              "      <td>1</td>\n",
              "      <td>1</td>\n",
              "      <td>MONDAY</td>\n",
              "      <td>11</td>\n",
              "      <td>0</td>\n",
              "      <td>0</td>\n",
              "      <td>0</td>\n",
              "      <td>0</td>\n",
              "      <td>0</td>\n",
              "      <td>0</td>\n",
              "      <td>School</td>\n",
              "      <td>...</td>\n",
              "      <td>0.0968</td>\n",
              "      <td>0.0529</td>\n",
              "      <td>0.9851</td>\n",
              "      <td>0.08</td>\n",
              "      <td>0.0345</td>\n",
              "      <td>0.2917</td>\n",
              "      <td>0.0132</td>\n",
              "      <td>0.0558</td>\n",
              "      <td>0.01</td>\n",
              "      <td>block of flats</td>\n",
              "      <td>0.0714</td>\n",
              "      <td>Block</td>\n",
              "      <td>No</td>\n",
              "      <td>1.0</td>\n",
              "      <td>0.0</td>\n",
              "      <td>1.0</td>\n",
              "      <td>0.0</td>\n",
              "      <td>-828.0</td>\n",
              "      <td>1</td>\n",
              "      <td>0</td>\n",
              "      <td>0</td>\n",
              "      <td>0</td>\n",
              "      <td>0</td>\n",
              "      <td>0</td>\n",
              "      <td>0</td>\n",
              "      <td>0</td>\n",
              "      <td>0</td>\n",
              "      <td>0</td>\n",
              "      <td>0</td>\n",
              "      <td>0</td>\n",
              "      <td>0</td>\n",
              "      <td>0</td>\n",
              "      <td>0</td>\n",
              "      <td>0.0</td>\n",
              "      <td>0.0</td>\n",
              "      <td>0.0</td>\n",
              "      <td>0.0</td>\n",
              "      <td>0.0</td>\n",
              "      <td>0.0</td>\n",
              "      <td>45.931507</td>\n",
              "    </tr>\n",
              "    <tr>\n",
              "      <th>6</th>\n",
              "      <td>100009</td>\n",
              "      <td>0</td>\n",
              "      <td>Cash loans</td>\n",
              "      <td>F</td>\n",
              "      <td>Y</td>\n",
              "      <td>Y</td>\n",
              "      <td>1</td>\n",
              "      <td>171000.0</td>\n",
              "      <td>1560726.0</td>\n",
              "      <td>41301.0</td>\n",
              "      <td>1395000.0</td>\n",
              "      <td>Unaccompanied</td>\n",
              "      <td>Commercial associate</td>\n",
              "      <td>Higher education</td>\n",
              "      <td>Married</td>\n",
              "      <td>House / apartment</td>\n",
              "      <td>0.035792</td>\n",
              "      <td>-13778</td>\n",
              "      <td>-3130.0</td>\n",
              "      <td>-1213.0</td>\n",
              "      <td>-619</td>\n",
              "      <td>1</td>\n",
              "      <td>1</td>\n",
              "      <td>0</td>\n",
              "      <td>1</td>\n",
              "      <td>1</td>\n",
              "      <td>0</td>\n",
              "      <td>Accountants</td>\n",
              "      <td>3.0</td>\n",
              "      <td>2</td>\n",
              "      <td>2</td>\n",
              "      <td>SUNDAY</td>\n",
              "      <td>16</td>\n",
              "      <td>0</td>\n",
              "      <td>0</td>\n",
              "      <td>0</td>\n",
              "      <td>0</td>\n",
              "      <td>0</td>\n",
              "      <td>0</td>\n",
              "      <td>Business Entity Type 3</td>\n",
              "      <td>...</td>\n",
              "      <td>NaN</td>\n",
              "      <td>NaN</td>\n",
              "      <td>NaN</td>\n",
              "      <td>NaN</td>\n",
              "      <td>NaN</td>\n",
              "      <td>NaN</td>\n",
              "      <td>NaN</td>\n",
              "      <td>NaN</td>\n",
              "      <td>NaN</td>\n",
              "      <td>NaN</td>\n",
              "      <td>NaN</td>\n",
              "      <td>NaN</td>\n",
              "      <td>NaN</td>\n",
              "      <td>1.0</td>\n",
              "      <td>0.0</td>\n",
              "      <td>1.0</td>\n",
              "      <td>0.0</td>\n",
              "      <td>-1562.0</td>\n",
              "      <td>0</td>\n",
              "      <td>0</td>\n",
              "      <td>0</td>\n",
              "      <td>0</td>\n",
              "      <td>1</td>\n",
              "      <td>0</td>\n",
              "      <td>0</td>\n",
              "      <td>0</td>\n",
              "      <td>1</td>\n",
              "      <td>0</td>\n",
              "      <td>0</td>\n",
              "      <td>0</td>\n",
              "      <td>0</td>\n",
              "      <td>0</td>\n",
              "      <td>0</td>\n",
              "      <td>0.0</td>\n",
              "      <td>0.0</td>\n",
              "      <td>0.0</td>\n",
              "      <td>1.0</td>\n",
              "      <td>1.0</td>\n",
              "      <td>2.0</td>\n",
              "      <td>37.747945</td>\n",
              "    </tr>\n",
              "    <tr>\n",
              "      <th>12</th>\n",
              "      <td>100016</td>\n",
              "      <td>0</td>\n",
              "      <td>Cash loans</td>\n",
              "      <td>F</td>\n",
              "      <td>N</td>\n",
              "      <td>Y</td>\n",
              "      <td>0</td>\n",
              "      <td>67500.0</td>\n",
              "      <td>80865.0</td>\n",
              "      <td>5881.5</td>\n",
              "      <td>67500.0</td>\n",
              "      <td>Unaccompanied</td>\n",
              "      <td>Working</td>\n",
              "      <td>Secondary / secondary special</td>\n",
              "      <td>Married</td>\n",
              "      <td>House / apartment</td>\n",
              "      <td>0.031329</td>\n",
              "      <td>-13439</td>\n",
              "      <td>-2717.0</td>\n",
              "      <td>-311.0</td>\n",
              "      <td>-3227</td>\n",
              "      <td>1</td>\n",
              "      <td>1</td>\n",
              "      <td>1</td>\n",
              "      <td>1</td>\n",
              "      <td>1</td>\n",
              "      <td>0</td>\n",
              "      <td>Laborers</td>\n",
              "      <td>2.0</td>\n",
              "      <td>2</td>\n",
              "      <td>2</td>\n",
              "      <td>FRIDAY</td>\n",
              "      <td>10</td>\n",
              "      <td>0</td>\n",
              "      <td>0</td>\n",
              "      <td>0</td>\n",
              "      <td>0</td>\n",
              "      <td>0</td>\n",
              "      <td>0</td>\n",
              "      <td>Business Entity Type 2</td>\n",
              "      <td>...</td>\n",
              "      <td>0.0833</td>\n",
              "      <td>NaN</td>\n",
              "      <td>0.9811</td>\n",
              "      <td>0.00</td>\n",
              "      <td>0.2069</td>\n",
              "      <td>0.1667</td>\n",
              "      <td>0.0137</td>\n",
              "      <td>0.0792</td>\n",
              "      <td>0.00</td>\n",
              "      <td>block of flats</td>\n",
              "      <td>0.0612</td>\n",
              "      <td>NaN</td>\n",
              "      <td>No</td>\n",
              "      <td>0.0</td>\n",
              "      <td>0.0</td>\n",
              "      <td>0.0</td>\n",
              "      <td>0.0</td>\n",
              "      <td>-2370.0</td>\n",
              "      <td>1</td>\n",
              "      <td>0</td>\n",
              "      <td>0</td>\n",
              "      <td>0</td>\n",
              "      <td>0</td>\n",
              "      <td>0</td>\n",
              "      <td>0</td>\n",
              "      <td>0</td>\n",
              "      <td>0</td>\n",
              "      <td>0</td>\n",
              "      <td>0</td>\n",
              "      <td>0</td>\n",
              "      <td>0</td>\n",
              "      <td>0</td>\n",
              "      <td>0</td>\n",
              "      <td>0.0</td>\n",
              "      <td>0.0</td>\n",
              "      <td>0.0</td>\n",
              "      <td>1.0</td>\n",
              "      <td>0.0</td>\n",
              "      <td>0.0</td>\n",
              "      <td>36.819178</td>\n",
              "    </tr>\n",
              "    <tr>\n",
              "      <th>13</th>\n",
              "      <td>100017</td>\n",
              "      <td>0</td>\n",
              "      <td>Cash loans</td>\n",
              "      <td>M</td>\n",
              "      <td>Y</td>\n",
              "      <td>N</td>\n",
              "      <td>1</td>\n",
              "      <td>225000.0</td>\n",
              "      <td>918468.0</td>\n",
              "      <td>28966.5</td>\n",
              "      <td>697500.0</td>\n",
              "      <td>Unaccompanied</td>\n",
              "      <td>Working</td>\n",
              "      <td>Secondary / secondary special</td>\n",
              "      <td>Married</td>\n",
              "      <td>House / apartment</td>\n",
              "      <td>0.016612</td>\n",
              "      <td>-14086</td>\n",
              "      <td>-3028.0</td>\n",
              "      <td>-643.0</td>\n",
              "      <td>-4911</td>\n",
              "      <td>1</td>\n",
              "      <td>1</td>\n",
              "      <td>0</td>\n",
              "      <td>1</td>\n",
              "      <td>0</td>\n",
              "      <td>0</td>\n",
              "      <td>Drivers</td>\n",
              "      <td>3.0</td>\n",
              "      <td>2</td>\n",
              "      <td>2</td>\n",
              "      <td>THURSDAY</td>\n",
              "      <td>13</td>\n",
              "      <td>0</td>\n",
              "      <td>0</td>\n",
              "      <td>0</td>\n",
              "      <td>0</td>\n",
              "      <td>0</td>\n",
              "      <td>0</td>\n",
              "      <td>Self-employed</td>\n",
              "      <td>...</td>\n",
              "      <td>0.1489</td>\n",
              "      <td>0.0973</td>\n",
              "      <td>0.9806</td>\n",
              "      <td>0.16</td>\n",
              "      <td>0.1379</td>\n",
              "      <td>0.3333</td>\n",
              "      <td>0.0947</td>\n",
              "      <td>0.1422</td>\n",
              "      <td>0.00</td>\n",
              "      <td>block of flats</td>\n",
              "      <td>0.1417</td>\n",
              "      <td>Panel</td>\n",
              "      <td>No</td>\n",
              "      <td>0.0</td>\n",
              "      <td>0.0</td>\n",
              "      <td>0.0</td>\n",
              "      <td>0.0</td>\n",
              "      <td>-4.0</td>\n",
              "      <td>1</td>\n",
              "      <td>0</td>\n",
              "      <td>0</td>\n",
              "      <td>0</td>\n",
              "      <td>0</td>\n",
              "      <td>0</td>\n",
              "      <td>0</td>\n",
              "      <td>0</td>\n",
              "      <td>0</td>\n",
              "      <td>0</td>\n",
              "      <td>0</td>\n",
              "      <td>0</td>\n",
              "      <td>0</td>\n",
              "      <td>0</td>\n",
              "      <td>0</td>\n",
              "      <td>0.0</td>\n",
              "      <td>0.0</td>\n",
              "      <td>0.0</td>\n",
              "      <td>0.0</td>\n",
              "      <td>0.0</td>\n",
              "      <td>1.0</td>\n",
              "      <td>38.591781</td>\n",
              "    </tr>\n",
              "  </tbody>\n",
              "</table>\n",
              "<p>5 rows × 100 columns</p>\n",
              "</div>\n",
              "      <button class=\"colab-df-convert\" onclick=\"convertToInteractive('df-a8820c13-0715-4d0c-a844-837f706e3609')\"\n",
              "              title=\"Convert this dataframe to an interactive table.\"\n",
              "              style=\"display:none;\">\n",
              "        \n",
              "  <svg xmlns=\"http://www.w3.org/2000/svg\" height=\"24px\"viewBox=\"0 0 24 24\"\n",
              "       width=\"24px\">\n",
              "    <path d=\"M0 0h24v24H0V0z\" fill=\"none\"/>\n",
              "    <path d=\"M18.56 5.44l.94 2.06.94-2.06 2.06-.94-2.06-.94-.94-2.06-.94 2.06-2.06.94zm-11 1L8.5 8.5l.94-2.06 2.06-.94-2.06-.94L8.5 2.5l-.94 2.06-2.06.94zm10 10l.94 2.06.94-2.06 2.06-.94-2.06-.94-.94-2.06-.94 2.06-2.06.94z\"/><path d=\"M17.41 7.96l-1.37-1.37c-.4-.4-.92-.59-1.43-.59-.52 0-1.04.2-1.43.59L10.3 9.45l-7.72 7.72c-.78.78-.78 2.05 0 2.83L4 21.41c.39.39.9.59 1.41.59.51 0 1.02-.2 1.41-.59l7.78-7.78 2.81-2.81c.8-.78.8-2.07 0-2.86zM5.41 20L4 18.59l7.72-7.72 1.47 1.35L5.41 20z\"/>\n",
              "  </svg>\n",
              "      </button>\n",
              "      \n",
              "  <style>\n",
              "    .colab-df-container {\n",
              "      display:flex;\n",
              "      flex-wrap:wrap;\n",
              "      gap: 12px;\n",
              "    }\n",
              "\n",
              "    .colab-df-convert {\n",
              "      background-color: #E8F0FE;\n",
              "      border: none;\n",
              "      border-radius: 50%;\n",
              "      cursor: pointer;\n",
              "      display: none;\n",
              "      fill: #1967D2;\n",
              "      height: 32px;\n",
              "      padding: 0 0 0 0;\n",
              "      width: 32px;\n",
              "    }\n",
              "\n",
              "    .colab-df-convert:hover {\n",
              "      background-color: #E2EBFA;\n",
              "      box-shadow: 0px 1px 2px rgba(60, 64, 67, 0.3), 0px 1px 3px 1px rgba(60, 64, 67, 0.15);\n",
              "      fill: #174EA6;\n",
              "    }\n",
              "\n",
              "    [theme=dark] .colab-df-convert {\n",
              "      background-color: #3B4455;\n",
              "      fill: #D2E3FC;\n",
              "    }\n",
              "\n",
              "    [theme=dark] .colab-df-convert:hover {\n",
              "      background-color: #434B5C;\n",
              "      box-shadow: 0px 1px 3px 1px rgba(0, 0, 0, 0.15);\n",
              "      filter: drop-shadow(0px 1px 2px rgba(0, 0, 0, 0.3));\n",
              "      fill: #FFFFFF;\n",
              "    }\n",
              "  </style>\n",
              "\n",
              "      <script>\n",
              "        const buttonEl =\n",
              "          document.querySelector('#df-a8820c13-0715-4d0c-a844-837f706e3609 button.colab-df-convert');\n",
              "        buttonEl.style.display =\n",
              "          google.colab.kernel.accessAllowed ? 'block' : 'none';\n",
              "\n",
              "        async function convertToInteractive(key) {\n",
              "          const element = document.querySelector('#df-a8820c13-0715-4d0c-a844-837f706e3609');\n",
              "          const dataTable =\n",
              "            await google.colab.kernel.invokeFunction('convertToInteractive',\n",
              "                                                     [key], {});\n",
              "          if (!dataTable) return;\n",
              "\n",
              "          const docLinkHtml = 'Like what you see? Visit the ' +\n",
              "            '<a target=\"_blank\" href=https://colab.research.google.com/notebooks/data_table.ipynb>data table notebook</a>'\n",
              "            + ' to learn more about interactive tables.';\n",
              "          element.innerHTML = '';\n",
              "          dataTable['output_type'] = 'display_data';\n",
              "          await google.colab.output.renderOutput(dataTable, element);\n",
              "          const docLink = document.createElement('div');\n",
              "          docLink.innerHTML = docLinkHtml;\n",
              "          element.appendChild(docLink);\n",
              "        }\n",
              "      </script>\n",
              "    </div>\n",
              "  </div>\n",
              "  "
            ],
            "text/plain": [
              "    SK_ID_CURR  TARGET  ... AMT_REQ_CREDIT_BUREAU_YEAR        AGE\n",
              "0       100002       1  ...                        1.0  25.920548\n",
              "1       100003       0  ...                        0.0  45.931507\n",
              "6       100009       0  ...                        2.0  37.747945\n",
              "12      100016       0  ...                        0.0  36.819178\n",
              "13      100017       0  ...                        1.0  38.591781\n",
              "\n",
              "[5 rows x 100 columns]"
            ]
          },
          "metadata": {},
          "execution_count": 23
        }
      ],
      "source": [
        "app_train_reduced.head()"
      ]
    },
    {
      "cell_type": "code",
      "execution_count": 39,
      "metadata": {
        "colab": {
          "base_uri": "https://localhost:8080/"
        },
        "id": "Ym_xtxWfUEWo",
        "outputId": "931c9f85-7128-4fa1-ece2-544159926066"
      },
      "outputs": [
        {
          "output_type": "execute_result",
          "data": {
            "text/plain": [
              "(175034, 100)"
            ]
          },
          "metadata": {},
          "execution_count": 39
        }
      ],
      "source": [
        "app_train_reduced.shape"
      ]
    },
    {
      "cell_type": "code",
      "execution_count": 35,
      "metadata": {
        "colab": {
          "base_uri": "https://localhost:8080/"
        },
        "id": "4URv-SDKTiQi",
        "outputId": "1f0d1b29-0270-4732-a23e-c6fa22624bc6"
      },
      "outputs": [
        {
          "output_type": "stream",
          "name": "stdout",
          "text": [
            "The column EXT_SOURCE_1 has been added to the dataset.\n",
            "The column EXT_SOURCE_2 is in the datatset.\n",
            "The column EXT_SOURCE_3 is in the datatset.\n",
            "The column DAYS_EMPLOYED is in the datatset.\n",
            "The column DAYS_BIRTH is in the datatset.\n",
            "The column AGE is in the datatset.\n"
          ]
        }
      ],
      "source": [
        "#Keeping the importanr columns\n",
        "\n",
        "# Normalized score from external data source.\n",
        "if 'EXT_SOURCE_1' in app_train_reduced.columns:\n",
        "    print(\"The column EXT_SOURCE_1 is in the datatset.\")\n",
        "else :\n",
        "    app_train_reduced['EXT_SOURCE_1'] = app_train_clean_lines['EXT_SOURCE_1']\n",
        "    print(\"The column EXT_SOURCE_1 has been added to the dataset.\")\n",
        "\n",
        "if 'EXT_SOURCE_2' in app_train_reduced.columns:\n",
        "    print(\"The column EXT_SOURCE_2 is in the datatset.\")\n",
        "else :\n",
        "    app_train_reduced['EXT_SOURCE_2'] = app_train_clean_lines['EXT_SOURCE_2']\n",
        "    print(\"The column EXT_SOURCE_2 has been added to the dataset.\")\n",
        "    \n",
        "if 'EXT_SOURCE_3' in app_train_reduced.columns:\n",
        "    print(\"The column EXT_SOURCE_3 is in the datatset.\")\n",
        "else :\n",
        "    app_train_reduced['EXT_SOURCE_3'] = app_train_clean_lines['EXT_SOURCE_3']\n",
        "    print(\"The column EXT_SOURCE_3 has been added to the dataset.\")\n",
        "#----------------------------------------------------------------------------    \n",
        "\n",
        "if 'DAYS_EMPLOYED' in app_train_reduced.columns:\n",
        "    print(\"The column DAYS_EMPLOYED is in the datatset.\")\n",
        "else :\n",
        "    app_train_reduced['DAYS_EMPLOYED'] = app_train_clean_lines['DAYS_EMPLOYED']\n",
        "    print(\"The column DAYS_EMPLOYED has been added to the dataset.\")\n",
        "#----------------------------------------------------------------------------    \n",
        "    \n",
        "if 'DAYS_BIRTH' in app_train_reduced.columns:\n",
        "    print(\"The column DAYS_BIRTH is in the datatset.\")\n",
        "else :\n",
        "    app_train_reduced['DAYS_BIRTH'] = app_train_clean_lines['DAYS_BIRTH']\n",
        "    print(\"The column DAYS_BIRTH has been added to the dataset.\")\n",
        "    \n",
        "#----------------------------------------------------------------------------    \n",
        "\n",
        "if 'AGE' in app_train_reduced.columns:\n",
        "    print(\"The column AGE is in the datatset.\")\n",
        "else :\n",
        "    app_train_reduced['AGE'] = app_train_clean_lines['AGE']\n",
        "    print(\"The column AGE has been added to the dataset.\")"
      ]
    },
    {
      "cell_type": "code",
      "execution_count": 40,
      "metadata": {
        "colab": {
          "base_uri": "https://localhost:8080/"
        },
        "id": "VSQlszesTiT0",
        "outputId": "6846a14d-1460-433f-fe9c-ee9b7f6bcfa1"
      },
      "outputs": [
        {
          "output_type": "execute_result",
          "data": {
            "text/plain": [
              "(175034, 100)"
            ]
          },
          "metadata": {},
          "execution_count": 40
        }
      ],
      "source": [
        "app_train_reduced.shape"
      ]
    },
    {
      "cell_type": "code",
      "source": [
        "app_test_reduced.shape"
      ],
      "metadata": {
        "colab": {
          "base_uri": "https://localhost:8080/"
        },
        "id": "6-szao1fB_DA",
        "outputId": "48e4976f-ba38-41fa-d69a-24ffa95a0bbf"
      },
      "execution_count": 41,
      "outputs": [
        {
          "output_type": "execute_result",
          "data": {
            "text/plain": [
              "(26115, 109)"
            ]
          },
          "metadata": {},
          "execution_count": 41
        }
      ]
    },
    {
      "cell_type": "code",
      "execution_count": null,
      "metadata": {
        "id": "m7Fojvy5EtVx"
      },
      "outputs": [],
      "source": [
        "\"\"\"# Remove columns with more than 60% of null values\n",
        "def remove_column(df):\n",
        "   column_with_nan = df.columns[df.isnull().any()]\n",
        "   for column in column_with_nan:\n",
        "     if df[column].isnull().sum()*100.0/df.shape[0] > 60:\n",
        "       df.drop(column,1, inplace=True)\n",
        "   return (df)\"\"\""
      ]
    },
    {
      "cell_type": "code",
      "source": [
        ""
      ],
      "metadata": {
        "id": "_lx0WCBJi8ff"
      },
      "execution_count": null,
      "outputs": []
    },
    {
      "cell_type": "code",
      "execution_count": 42,
      "metadata": {
        "id": "Q14cy6h8XnI4"
      },
      "outputs": [],
      "source": [
        "# remove all the columns which are not in app_train\n",
        "filter_columns = list(app_train_reduced.columns)\n",
        "\n",
        "def remove_columns(dataframe, filter_columns):\n",
        "    \"\"\"dataframe : dataframe to filter\n",
        "    filter_columns : columns to keep\"\"\"\n",
        "    new = pd.DataFrame()\n",
        "\n",
        "    for column in filter_columns:\n",
        "        try:\n",
        "            new[column] = dataframe[column]\n",
        "        except:\n",
        "            print('...colonne non présente : ', column)\n",
        "            print('\\n')\n",
        "    print(\"All selected columns have been kept from the dataset\")\n",
        "    return new"
      ]
    },
    {
      "cell_type": "code",
      "execution_count": 43,
      "metadata": {
        "colab": {
          "base_uri": "https://localhost:8080/"
        },
        "id": "yXZHa4cIXnLi",
        "outputId": "5b9f9329-a4ce-4745-9b67-d5e2331bcb09"
      },
      "outputs": [
        {
          "output_type": "stream",
          "name": "stdout",
          "text": [
            "...colonne non présente :  TARGET\n",
            "\n",
            "\n",
            "All selected columns have been kept from the dataset\n"
          ]
        }
      ],
      "source": [
        "app_test_reduced = remove_columns(app_test_clean_lines, filter_columns)"
      ]
    },
    {
      "cell_type": "code",
      "execution_count": 44,
      "metadata": {
        "colab": {
          "base_uri": "https://localhost:8080/"
        },
        "id": "WsC1pkiwhHV9",
        "outputId": "c04eb077-bef8-4223-ec4d-f4f5c699a712"
      },
      "outputs": [
        {
          "output_type": "execute_result",
          "data": {
            "text/plain": [
              "set()"
            ]
          },
          "metadata": {},
          "execution_count": 44
        }
      ],
      "source": [
        "set(app_test_reduced.columns).difference(set(app_train_reduced.columns))"
      ]
    },
    {
      "cell_type": "code",
      "execution_count": 45,
      "metadata": {
        "id": "2HyYyWsdL-d9",
        "colab": {
          "base_uri": "https://localhost:8080/"
        },
        "outputId": "14f7316c-7300-4d36-c98e-21d0ad5dbed9"
      },
      "outputs": [
        {
          "output_type": "execute_result",
          "data": {
            "text/plain": [
              "{'TARGET'}"
            ]
          },
          "metadata": {},
          "execution_count": 45
        }
      ],
      "source": [
        "set(app_train_reduced.columns).difference(set(app_test_reduced.columns))"
      ]
    },
    {
      "cell_type": "code",
      "source": [
        "app_test_reduced.shape"
      ],
      "metadata": {
        "id": "nlDcraDZxPve",
        "colab": {
          "base_uri": "https://localhost:8080/"
        },
        "outputId": "ab1b5583-586c-4350-bd4a-541ed377c3a6"
      },
      "execution_count": 46,
      "outputs": [
        {
          "output_type": "execute_result",
          "data": {
            "text/plain": [
              "(26115, 99)"
            ]
          },
          "metadata": {},
          "execution_count": 46
        }
      ]
    },
    {
      "cell_type": "markdown",
      "metadata": {
        "id": "9vEmWYYUHSpi"
      },
      "source": [
        "### **Feature Engineering**"
      ]
    },
    {
      "cell_type": "code",
      "execution_count": null,
      "metadata": {
        "colab": {
          "base_uri": "https://localhost:8080/"
        },
        "id": "Aw9VFsgjyzkt",
        "outputId": "233c7af8-96c1-429e-c87c-d89e7721b82b"
      },
      "outputs": [
        {
          "output_type": "execute_result",
          "data": {
            "text/plain": [
              "0         202500.0\n",
              "1         270000.0\n",
              "2          67500.0\n",
              "3         135000.0\n",
              "4         121500.0\n",
              "            ...   \n",
              "307506    157500.0\n",
              "307507     72000.0\n",
              "307508    153000.0\n",
              "307509    171000.0\n",
              "307510    157500.0\n",
              "Name: AMT_INCOME_TOTAL, Length: 307507, dtype: float64"
            ]
          },
          "metadata": {},
          "execution_count": 85
        }
      ],
      "source": [
        "app_train['AMT_INCOME_TOTAL']"
      ]
    },
    {
      "cell_type": "code",
      "source": [
        "app_train['AMT_CREDIT']"
      ],
      "metadata": {
        "colab": {
          "base_uri": "https://localhost:8080/"
        },
        "id": "DN3jnlOS4oq8",
        "outputId": "40f93ad7-03ab-4c7e-e75a-5729856680da"
      },
      "execution_count": null,
      "outputs": [
        {
          "output_type": "execute_result",
          "data": {
            "text/plain": [
              "0          406597.5\n",
              "1         1293502.5\n",
              "2          135000.0\n",
              "3          312682.5\n",
              "4          513000.0\n",
              "            ...    \n",
              "307506     254700.0\n",
              "307507     269550.0\n",
              "307508     677664.0\n",
              "307509     370107.0\n",
              "307510     675000.0\n",
              "Name: AMT_CREDIT, Length: 307507, dtype: float64"
            ]
          },
          "metadata": {},
          "execution_count": 91
        }
      ]
    },
    {
      "cell_type": "code",
      "source": [
        "app_train['AMT_ANNUITY']"
      ],
      "metadata": {
        "colab": {
          "base_uri": "https://localhost:8080/"
        },
        "id": "Fp2w0ngf48Y_",
        "outputId": "9bc581ea-b4aa-4d36-ce36-6e76c2a89fe4"
      },
      "execution_count": null,
      "outputs": [
        {
          "output_type": "execute_result",
          "data": {
            "text/plain": [
              "0         24700.5\n",
              "1         35698.5\n",
              "2          6750.0\n",
              "3         29686.5\n",
              "4         21865.5\n",
              "           ...   \n",
              "307506    27558.0\n",
              "307507    12001.5\n",
              "307508    29979.0\n",
              "307509    20205.0\n",
              "307510    49117.5\n",
              "Name: AMT_ANNUITY, Length: 307507, dtype: float64"
            ]
          },
          "metadata": {},
          "execution_count": 92
        }
      ]
    },
    {
      "cell_type": "code",
      "execution_count": 47,
      "metadata": {
        "colab": {
          "base_uri": "https://localhost:8080/"
        },
        "id": "UFv_ndlAzl1R",
        "outputId": "6ce449a6-665c-4348-ce5e-6fa38da9444a"
      },
      "outputs": [
        {
          "output_type": "execute_result",
          "data": {
            "text/plain": [
              "0.8960095494948396"
            ]
          },
          "metadata": {},
          "execution_count": 47
        }
      ],
      "source": [
        "app_train['EXT_SOURCE_3'].max()\n"
      ]
    },
    {
      "cell_type": "code",
      "source": [
        "app_train['EXT_SOURCE_3'].min()"
      ],
      "metadata": {
        "colab": {
          "base_uri": "https://localhost:8080/"
        },
        "id": "6BpfpBCQ4PCI",
        "outputId": "04343673-d388-4c50-de3a-85bee36c56f7"
      },
      "execution_count": null,
      "outputs": [
        {
          "output_type": "execute_result",
          "data": {
            "text/plain": [
              "0.0005272652387098"
            ]
          },
          "metadata": {},
          "execution_count": 90
        }
      ]
    },
    {
      "cell_type": "code",
      "execution_count": 49,
      "metadata": {
        "id": "86o7B6CJCCCf"
      },
      "outputs": [],
      "source": [
        "def feature_engineering(data):\n",
        "        \n",
        "  #income and credit features\n",
        "  data['CREDIT_INCOME_RATIO'] = data['AMT_CREDIT'] / (data['AMT_INCOME_TOTAL'] )\n",
        "  data['ANNUITY_CREDIT_RATIO'] = data['AMT_ANNUITY'] / (data['AMT_CREDIT'] )       #   Credit amount of the loan\n",
        "  data['ANNUITY_INCOME_RATIO'] = data['AMT_ANNUITY'] / data['AMT_INCOME_TOTAL']    #  loan annuity/ income total\n",
        "\n",
        "  data['CREDIT_EXT_RATIO'] = data['AMT_CREDIT'] / (data['EXT_SOURCE_3'] )\n",
        "\n",
        "  #age ratios and diffs\n",
        "  data['EMPLOYED_TO_AGE_RATIO'] = data['DAYS_EMPLOYED'] / (data['DAYS_BIRTH'])\n",
        "\n",
        "  #family members\n",
        "  data['CHILDREN_INCOME_RATIO'] = data['CNT_CHILDREN'] / (data['AMT_INCOME_TOTAL'])   \n",
        "  data['PER_CAPITA_INCOME'] = data['AMT_INCOME_TOTAL'] / (data['CNT_FAM_MEMBERS'])   # Capital income of family\n",
        "\n",
        "  #details change\n",
        "  data['DAYS_DETAILS_CHANGE_MUL'] = data['DAYS_LAST_PHONE_CHANGE'] * data['DAYS_REGISTRATION'] * data['DAYS_ID_PUBLISH']\n",
        "  data['DAYS_DETAILS_CHANGE_SUM'] = data['DAYS_LAST_PHONE_CHANGE'] + data['DAYS_REGISTRATION'] + data['DAYS_ID_PUBLISH']\n",
        "              \n",
        "  return data"
      ]
    },
    {
      "cell_type": "code",
      "execution_count": 50,
      "metadata": {
        "id": "HPb4YdE5qxsR"
      },
      "outputs": [],
      "source": [
        "#Creating Numeric features based on domain knowledge\n",
        "app_train_reduced = feature_engineering(app_train_reduced)\n",
        "app_test_reduced = feature_engineering(app_test_reduced)"
      ]
    },
    {
      "cell_type": "code",
      "source": [
        "app_train_reduced.shape"
      ],
      "metadata": {
        "colab": {
          "base_uri": "https://localhost:8080/"
        },
        "id": "uSzC6nzyC-wq",
        "outputId": "943dbfb2-e300-4334-87c2-0611774d0b02"
      },
      "execution_count": 51,
      "outputs": [
        {
          "output_type": "execute_result",
          "data": {
            "text/plain": [
              "(175034, 109)"
            ]
          },
          "metadata": {},
          "execution_count": 51
        }
      ]
    },
    {
      "cell_type": "code",
      "source": [
        "app_test_reduced.shape"
      ],
      "metadata": {
        "colab": {
          "base_uri": "https://localhost:8080/"
        },
        "id": "nxG6ZRVBC-3g",
        "outputId": "62c0c882-b467-4dea-fd10-634db5cf4652"
      },
      "execution_count": 52,
      "outputs": [
        {
          "output_type": "execute_result",
          "data": {
            "text/plain": [
              "(26115, 108)"
            ]
          },
          "metadata": {},
          "execution_count": 52
        }
      ]
    },
    {
      "cell_type": "markdown",
      "metadata": {
        "id": "TSB8eUnDX1no"
      },
      "source": [
        "### **Imputation**"
      ]
    },
    {
      "cell_type": "markdown",
      "metadata": {
        "id": "bUCdGu70da2d"
      },
      "source": [
        "* **Train**"
      ]
    },
    {
      "cell_type": "code",
      "execution_count": null,
      "metadata": {
        "id": "aLfaF00XXnOk"
      },
      "outputs": [],
      "source": [
        "\"\"\"#Imputation with pandas \n",
        "def imputation_pandas(dataframe):\n",
        "  short_cleaned_impute = dataframe.copy()\n",
        "  for col_name in dataframe:\n",
        "    short_cleaned_impute[col_name] = dataframe[col_name].interpolate(method='linear', inplace=False, limit_direction=\"both\").ffill().bfill()\n",
        "    \n",
        "  return short_cleaned_impute\"\"\""
      ]
    },
    {
      "cell_type": "code",
      "execution_count": 53,
      "metadata": {
        "id": "vmAOBJQTK4r7"
      },
      "outputs": [],
      "source": [
        "# Imputaion with mod & median\n",
        "def filling_nan_value(df):\n",
        "  column_with_nan = df.columns[df.isnull().any()]\n",
        "  for column in column_with_nan:\n",
        "    if df[column].dtypes=='O':\n",
        "      df[column]= df[column].fillna(df[column].mode()[0])\n",
        "    else:\n",
        "      df[column]= df[column].fillna(df[column].median())\n",
        "  return (df)"
      ]
    },
    {
      "cell_type": "code",
      "execution_count": null,
      "metadata": {
        "colab": {
          "base_uri": "https://localhost:8080/"
        },
        "id": "MOmaK6PeXnRf",
        "outputId": "98032ab7-a749-4f28-fec9-3a1a6fec3395"
      },
      "outputs": [
        {
          "data": {
            "text/plain": [
              "array([dtype('int64'), dtype('O'), dtype('float64')], dtype=object)"
            ]
          },
          "execution_count": 92,
          "metadata": {},
          "output_type": "execute_result"
        }
      ],
      "source": [
        "app_train_reduced.dtypes.unique()"
      ]
    },
    {
      "cell_type": "code",
      "execution_count": 54,
      "metadata": {
        "id": "AqJreRIpS1T7"
      },
      "outputs": [],
      "source": [
        "app_train_final = filling_nan_value(app_train_reduced)\n",
        "app_test_final = filling_nan_value(app_test_reduced)"
      ]
    },
    {
      "cell_type": "code",
      "execution_count": 58,
      "metadata": {
        "colab": {
          "base_uri": "https://localhost:8080/"
        },
        "id": "hrUVbBVbS1Zw",
        "outputId": "ba8f356d-05e0-4f74-e311-df5eb7b334c9"
      },
      "outputs": [
        {
          "output_type": "execute_result",
          "data": {
            "text/plain": [
              "SK_ID_CURR                     0\n",
              "HOUSETYPE_MODE                 0\n",
              "FLAG_DOCUMENT_6                0\n",
              "FLAG_DOCUMENT_5                0\n",
              "FLAG_DOCUMENT_3                0\n",
              "                              ..\n",
              "REG_REGION_NOT_LIVE_REGION     0\n",
              "HOUR_APPR_PROCESS_START        0\n",
              "WEEKDAY_APPR_PROCESS_START     0\n",
              "REGION_RATING_CLIENT_W_CITY    0\n",
              "DAYS_DETAILS_CHANGE_SUM        0\n",
              "Length: 109, dtype: int64"
            ]
          },
          "metadata": {},
          "execution_count": 58
        }
      ],
      "source": [
        "app_train_final.isnull().sum().sort_values(ascending=False)"
      ]
    },
    {
      "cell_type": "code",
      "execution_count": null,
      "metadata": {
        "id": "k1AoZMZkS155",
        "colab": {
          "base_uri": "https://localhost:8080/"
        },
        "outputId": "aee15415-ba44-46fa-ff3f-a7d8b4f2d1ac"
      },
      "outputs": [
        {
          "output_type": "execute_result",
          "data": {
            "text/plain": [
              "SK_ID_CURR                    0\n",
              "TOTALAREA_MODE                0\n",
              "FLAG_DOCUMENT_7               0\n",
              "FLAG_DOCUMENT_6               0\n",
              "FLAG_DOCUMENT_5               0\n",
              "                             ..\n",
              "REG_REGION_NOT_WORK_REGION    0\n",
              "REG_REGION_NOT_LIVE_REGION    0\n",
              "HOUR_APPR_PROCESS_START       0\n",
              "WEEKDAY_APPR_PROCESS_START    0\n",
              "DAYS_DETAILS_CHANGE_SUM       0\n",
              "Length: 109, dtype: int64"
            ]
          },
          "metadata": {},
          "execution_count": 134
        }
      ],
      "source": [
        "app_test_final.isnull().sum().sort_values(ascending=False)"
      ]
    },
    {
      "cell_type": "markdown",
      "metadata": {
        "id": "SEvEgmpdeJ26"
      },
      "source": [
        "### **Standardisation (Train + Test)**"
      ]
    },
    {
      "cell_type": "code",
      "execution_count": 59,
      "metadata": {
        "id": "Nku4w2PZXnZm"
      },
      "outputs": [],
      "source": [
        "df_num_train = app_train_final.select_dtypes(['number']).reset_index(drop = True)  # numerical part\n",
        "df_categ_train = app_train_final.select_dtypes('object').reset_index(drop = True)   # categorical part\n",
        "\n",
        "df_num_test = app_test_final.select_dtypes(['number']).reset_index(drop = True)   # numerical part\n",
        "df_categ_test = app_test_final.select_dtypes('object').reset_index(drop = True)   # categorical part"
      ]
    },
    {
      "cell_type": "code",
      "execution_count": 60,
      "metadata": {
        "id": "1Jin22kCS3HZ"
      },
      "outputs": [],
      "source": [
        "# for numerical part using standardScaler _TRAIN\n",
        "scaler = StandardScaler()\n",
        "scaler.fit(df_num_train)\n",
        "\n",
        "df_num_train_train = pd.DataFrame(scaler.transform(df_num_train), index= df_num_train.index, columns=df_num_train.columns)"
      ]
    },
    {
      "cell_type": "code",
      "source": [
        "# for numerical part using standardScaler _TEST\n",
        "scaler = StandardScaler()\n",
        "scaler.fit(df_num_test)\n",
        "\n",
        "df_num_test_test = pd.DataFrame(scaler.transform(df_num_test), index= df_num_test.index, columns=df_num_test.columns)"
      ],
      "metadata": {
        "id": "wyasy3RYDpMO"
      },
      "execution_count": 61,
      "outputs": []
    },
    {
      "cell_type": "code",
      "execution_count": 62,
      "metadata": {
        "id": "gla0I1cLekRC"
      },
      "outputs": [],
      "source": [
        "# concate normalization data with categorical one\n",
        "df_app_train = pd.concat([df_categ_train, df_num_train_train], axis=1)\n",
        "df_app_test = pd.concat([df_categ_test, df_num_test_test], axis=1)"
      ]
    },
    {
      "cell_type": "code",
      "execution_count": 63,
      "metadata": {
        "colab": {
          "base_uri": "https://localhost:8080/"
        },
        "id": "PO09zRVoekUd",
        "outputId": "e6bf9079-8b05-4760-86f8-a09b8232dc37"
      },
      "outputs": [
        {
          "output_type": "execute_result",
          "data": {
            "text/plain": [
              "(175034, 109)"
            ]
          },
          "metadata": {},
          "execution_count": 63
        }
      ],
      "source": [
        "df_app_train.shape"
      ]
    },
    {
      "cell_type": "code",
      "execution_count": 64,
      "metadata": {
        "colab": {
          "base_uri": "https://localhost:8080/"
        },
        "id": "O2vDUMSJekXp",
        "outputId": "02eb3b52-e2ec-4930-bc4f-5dbfefebf4e7"
      },
      "outputs": [
        {
          "output_type": "execute_result",
          "data": {
            "text/plain": [
              "(26115, 108)"
            ]
          },
          "metadata": {},
          "execution_count": 64
        }
      ],
      "source": [
        "df_app_test.shape"
      ]
    },
    {
      "cell_type": "code",
      "execution_count": null,
      "metadata": {
        "id": "b_q1M4LQe2ws"
      },
      "outputs": [],
      "source": [
        ""
      ]
    },
    {
      "cell_type": "markdown",
      "metadata": {
        "id": "WuFi1WAoe3rx"
      },
      "source": [
        "### **Encoding (Train + Test)**"
      ]
    },
    {
      "cell_type": "markdown",
      "metadata": {
        "id": "7p-ni0NmfvUs"
      },
      "source": [
        "for any categorical variable (dtype == object) with 2 unique categories, we will use label encoding, and for any categorical variable with more than 2 unique categories, we will use one-hot."
      ]
    },
    {
      "cell_type": "code",
      "execution_count": 66,
      "metadata": {
        "colab": {
          "base_uri": "https://localhost:8080/"
        },
        "id": "RhxmEpuXe23v",
        "outputId": "d7732282-df7c-4d8f-f046-a7960c26f181"
      },
      "outputs": [
        {
          "output_type": "stream",
          "name": "stdout",
          "text": [
            "0 columns were label encoded.\n",
            "Training Features shape:  (175034, 228)\n",
            "Testing Features shape:  (26115, 223)\n",
            "0 columns were one hot encoded.\n"
          ]
        }
      ],
      "source": [
        "# Create a label encoder object\n",
        "le = LabelEncoder()\n",
        "le_count = 0\n",
        "ohe_count = 0\n",
        "\n",
        "# Iterate through the columns\n",
        "for col in df_app_train:\n",
        "    if col == 'TARGET' or col == 'SK_ID_CURR':\n",
        "        pass\n",
        "    else :\n",
        "        if df_app_train[col].dtype == 'object':        \n",
        "        # If 2 or fewer unique categories\n",
        "            if len(list(df_app_train[col].unique())) <= 2:\n",
        "                # Train on the training data\n",
        "                le.fit(df_app_train[col])\n",
        "                # Transform both training and testing data\n",
        "                df_app_train[col] = le.transform(df_app_train[col])\n",
        "                df_app_test[col] = le.transform(df_app_test[col])\n",
        "            \n",
        "            # Keep track of how many columns were label encoded\n",
        "                le_count += 1\n",
        "                \n",
        "            else :\n",
        "                #else : one hot encoding\n",
        "                df_app_train = pd.get_dummies(df_app_train, prefix=[col], columns=[col])\n",
        "                df_app_test = pd.get_dummies(df_app_test, prefix=[col], columns=[col])\n",
        "                ohe_count += 1\n",
        "                \n",
        "print('%d columns were label encoded.' % le_count)\n",
        "print('Training Features shape: ', df_app_train.shape)\n",
        "print('Testing Features shape: ', df_app_test.shape)\n",
        "print('%d columns were one hot encoded.' % ohe_count)"
      ]
    },
    {
      "cell_type": "markdown",
      "metadata": {
        "id": "1cdKf8uKgvap"
      },
      "source": [
        "There must be the same characteristics (columns) in the training and test data. The encoding created more columns in the training data because some categorical variables had more unrepresented categories than in the test data. To remove the columns in the training data that are not in the test data, we need to align the dataframes. First, we extract the target column from the training data (because it is not in the test data but we need to keep this information). When we do the alignment, we need to make sure to set axis=1 to align the dataframes to the columns and not the rows."
      ]
    },
    {
      "cell_type": "code",
      "execution_count": 67,
      "metadata": {
        "colab": {
          "base_uri": "https://localhost:8080/"
        },
        "id": "epvD9EBoe26Z",
        "outputId": "e91105f0-25cc-4e50-adc6-07b70841c2e1"
      },
      "outputs": [
        {
          "output_type": "stream",
          "name": "stdout",
          "text": [
            "Training Features shape:  (175034, 224)\n",
            "Testing Features shape:  (26115, 223)\n"
          ]
        }
      ],
      "source": [
        "train_labels = df_app_train['TARGET']\n",
        "\n",
        "# Align the training and testing data, keep only columns present in both dataframes\n",
        "df_app_train, df_app_test = df_app_train.align(df_app_test, join = 'inner', axis = 1)\n",
        "\n",
        "# Add the target back in\n",
        "df_app_train['TARGET'] = train_labels\n",
        "\n",
        "print('Training Features shape: ', df_app_train.shape)\n",
        "print('Testing Features shape: ', df_app_test.shape)"
      ]
    },
    {
      "cell_type": "code",
      "execution_count": null,
      "metadata": {
        "id": "sa0o5H6he29y"
      },
      "outputs": [],
      "source": [
        ""
      ]
    },
    {
      "cell_type": "code",
      "execution_count": 68,
      "metadata": {
        "id": "L27ggKkZe2_n"
      },
      "outputs": [],
      "source": [
        "app_train_final.to_csv(\"/content/drive/MyDrive/p7/data/train_imputed_with_standardisation.csv\", index=False)\n",
        "app_test_final.to_csv(\"/content/drive/MyDrive/p7/data/test_imputed_with_standardisation.csv\", index=False)"
      ]
    },
    {
      "cell_type": "code",
      "execution_count": null,
      "metadata": {
        "id": "Gq_AZfnje3DW"
      },
      "outputs": [],
      "source": [
        ""
      ]
    },
    {
      "cell_type": "markdown",
      "metadata": {
        "id": "tN4N8mwthQBb"
      },
      "source": [
        "**Backup CSVs**"
      ]
    },
    {
      "cell_type": "code",
      "execution_count": 69,
      "metadata": {
        "id": "PaPDGW0weka6"
      },
      "outputs": [],
      "source": [
        "df_app_train.to_csv(\"/content/drive/MyDrive/p7/data/df_train_imputed.csv\", index=False)\n",
        "df_app_test.to_csv(\"/content/drive/MyDrive/p7/data/df_test_imputed.csv\", index=False)"
      ]
    },
    {
      "cell_type": "code",
      "execution_count": null,
      "metadata": {
        "id": "BI9ZleDehPMP"
      },
      "outputs": [],
      "source": [
        ""
      ]
    },
    {
      "cell_type": "code",
      "execution_count": null,
      "metadata": {
        "id": "_8N3TauKhPPz"
      },
      "outputs": [],
      "source": [
        ""
      ]
    },
    {
      "cell_type": "markdown",
      "source": [
        "## **bureau_balance.csv and bureau.csv**"
      ],
      "metadata": {
        "id": "yjScaksS5fAr"
      }
    },
    {
      "cell_type": "markdown",
      "source": [
        "**bureau_balance Preprocessing**\n",
        "\n",
        "This table consists of Monthly balance of each credit for each of the previous credit that the client had with financial institutions other than Home Credit"
      ],
      "metadata": {
        "id": "Y9y1tXz7qo5k"
      }
    },
    {
      "cell_type": "code",
      "source": [
        "bureau_balance.isnull().sum().sort_values(ascending=False)"
      ],
      "metadata": {
        "colab": {
          "base_uri": "https://localhost:8080/"
        },
        "id": "fYWgsL2BvtMc",
        "outputId": "86da8bdd-f257-44fc-9d1a-97c1e3a14bf6"
      },
      "execution_count": 70,
      "outputs": [
        {
          "output_type": "execute_result",
          "data": {
            "text/plain": [
              "SK_ID_BUREAU      0\n",
              "MONTHS_BALANCE    0\n",
              "STATUS            0\n",
              "dtype: int64"
            ]
          },
          "metadata": {},
          "execution_count": 70
        }
      ]
    },
    {
      "cell_type": "code",
      "source": [
        "bureau_balance.head()"
      ],
      "metadata": {
        "colab": {
          "base_uri": "https://localhost:8080/",
          "height": 206
        },
        "id": "V2TVDVWlfd5j",
        "outputId": "f9377077-ca44-4b8f-c999-33df54307f63"
      },
      "execution_count": 75,
      "outputs": [
        {
          "output_type": "execute_result",
          "data": {
            "text/html": [
              "\n",
              "  <div id=\"df-5235ad7a-23e1-40c4-96e8-2650ae81aaa9\">\n",
              "    <div class=\"colab-df-container\">\n",
              "      <div>\n",
              "<style scoped>\n",
              "    .dataframe tbody tr th:only-of-type {\n",
              "        vertical-align: middle;\n",
              "    }\n",
              "\n",
              "    .dataframe tbody tr th {\n",
              "        vertical-align: top;\n",
              "    }\n",
              "\n",
              "    .dataframe thead th {\n",
              "        text-align: right;\n",
              "    }\n",
              "</style>\n",
              "<table border=\"1\" class=\"dataframe\">\n",
              "  <thead>\n",
              "    <tr style=\"text-align: right;\">\n",
              "      <th></th>\n",
              "      <th>SK_ID_BUREAU</th>\n",
              "      <th>MONTHS_BALANCE</th>\n",
              "      <th>STATUS</th>\n",
              "    </tr>\n",
              "  </thead>\n",
              "  <tbody>\n",
              "    <tr>\n",
              "      <th>0</th>\n",
              "      <td>5715448</td>\n",
              "      <td>0</td>\n",
              "      <td>C</td>\n",
              "    </tr>\n",
              "    <tr>\n",
              "      <th>1</th>\n",
              "      <td>5715448</td>\n",
              "      <td>-1</td>\n",
              "      <td>C</td>\n",
              "    </tr>\n",
              "    <tr>\n",
              "      <th>2</th>\n",
              "      <td>5715448</td>\n",
              "      <td>-2</td>\n",
              "      <td>C</td>\n",
              "    </tr>\n",
              "    <tr>\n",
              "      <th>3</th>\n",
              "      <td>5715448</td>\n",
              "      <td>-3</td>\n",
              "      <td>C</td>\n",
              "    </tr>\n",
              "    <tr>\n",
              "      <th>4</th>\n",
              "      <td>5715448</td>\n",
              "      <td>-4</td>\n",
              "      <td>C</td>\n",
              "    </tr>\n",
              "  </tbody>\n",
              "</table>\n",
              "</div>\n",
              "      <button class=\"colab-df-convert\" onclick=\"convertToInteractive('df-5235ad7a-23e1-40c4-96e8-2650ae81aaa9')\"\n",
              "              title=\"Convert this dataframe to an interactive table.\"\n",
              "              style=\"display:none;\">\n",
              "        \n",
              "  <svg xmlns=\"http://www.w3.org/2000/svg\" height=\"24px\"viewBox=\"0 0 24 24\"\n",
              "       width=\"24px\">\n",
              "    <path d=\"M0 0h24v24H0V0z\" fill=\"none\"/>\n",
              "    <path d=\"M18.56 5.44l.94 2.06.94-2.06 2.06-.94-2.06-.94-.94-2.06-.94 2.06-2.06.94zm-11 1L8.5 8.5l.94-2.06 2.06-.94-2.06-.94L8.5 2.5l-.94 2.06-2.06.94zm10 10l.94 2.06.94-2.06 2.06-.94-2.06-.94-.94-2.06-.94 2.06-2.06.94z\"/><path d=\"M17.41 7.96l-1.37-1.37c-.4-.4-.92-.59-1.43-.59-.52 0-1.04.2-1.43.59L10.3 9.45l-7.72 7.72c-.78.78-.78 2.05 0 2.83L4 21.41c.39.39.9.59 1.41.59.51 0 1.02-.2 1.41-.59l7.78-7.78 2.81-2.81c.8-.78.8-2.07 0-2.86zM5.41 20L4 18.59l7.72-7.72 1.47 1.35L5.41 20z\"/>\n",
              "  </svg>\n",
              "      </button>\n",
              "      \n",
              "  <style>\n",
              "    .colab-df-container {\n",
              "      display:flex;\n",
              "      flex-wrap:wrap;\n",
              "      gap: 12px;\n",
              "    }\n",
              "\n",
              "    .colab-df-convert {\n",
              "      background-color: #E8F0FE;\n",
              "      border: none;\n",
              "      border-radius: 50%;\n",
              "      cursor: pointer;\n",
              "      display: none;\n",
              "      fill: #1967D2;\n",
              "      height: 32px;\n",
              "      padding: 0 0 0 0;\n",
              "      width: 32px;\n",
              "    }\n",
              "\n",
              "    .colab-df-convert:hover {\n",
              "      background-color: #E2EBFA;\n",
              "      box-shadow: 0px 1px 2px rgba(60, 64, 67, 0.3), 0px 1px 3px 1px rgba(60, 64, 67, 0.15);\n",
              "      fill: #174EA6;\n",
              "    }\n",
              "\n",
              "    [theme=dark] .colab-df-convert {\n",
              "      background-color: #3B4455;\n",
              "      fill: #D2E3FC;\n",
              "    }\n",
              "\n",
              "    [theme=dark] .colab-df-convert:hover {\n",
              "      background-color: #434B5C;\n",
              "      box-shadow: 0px 1px 3px 1px rgba(0, 0, 0, 0.15);\n",
              "      filter: drop-shadow(0px 1px 2px rgba(0, 0, 0, 0.3));\n",
              "      fill: #FFFFFF;\n",
              "    }\n",
              "  </style>\n",
              "\n",
              "      <script>\n",
              "        const buttonEl =\n",
              "          document.querySelector('#df-5235ad7a-23e1-40c4-96e8-2650ae81aaa9 button.colab-df-convert');\n",
              "        buttonEl.style.display =\n",
              "          google.colab.kernel.accessAllowed ? 'block' : 'none';\n",
              "\n",
              "        async function convertToInteractive(key) {\n",
              "          const element = document.querySelector('#df-5235ad7a-23e1-40c4-96e8-2650ae81aaa9');\n",
              "          const dataTable =\n",
              "            await google.colab.kernel.invokeFunction('convertToInteractive',\n",
              "                                                     [key], {});\n",
              "          if (!dataTable) return;\n",
              "\n",
              "          const docLinkHtml = 'Like what you see? Visit the ' +\n",
              "            '<a target=\"_blank\" href=https://colab.research.google.com/notebooks/data_table.ipynb>data table notebook</a>'\n",
              "            + ' to learn more about interactive tables.';\n",
              "          element.innerHTML = '';\n",
              "          dataTable['output_type'] = 'display_data';\n",
              "          await google.colab.output.renderOutput(dataTable, element);\n",
              "          const docLink = document.createElement('div');\n",
              "          docLink.innerHTML = docLinkHtml;\n",
              "          element.appendChild(docLink);\n",
              "        }\n",
              "      </script>\n",
              "    </div>\n",
              "  </div>\n",
              "  "
            ],
            "text/plain": [
              "   SK_ID_BUREAU  MONTHS_BALANCE STATUS\n",
              "0       5715448               0      C\n",
              "1       5715448              -1      C\n",
              "2       5715448              -2      C\n",
              "3       5715448              -3      C\n",
              "4       5715448              -4      C"
            ]
          },
          "metadata": {},
          "execution_count": 75
        }
      ]
    },
    {
      "cell_type": "code",
      "source": [
        "# Month of balance relative to application date (-1 means the freshest balance date)\n",
        "bureau_balance.MONTHS_BALANCE.unique()"
      ],
      "metadata": {
        "colab": {
          "base_uri": "https://localhost:8080/"
        },
        "id": "-A3bKaN8fnQX",
        "outputId": "eac75096-e3c0-4d06-af56-d12c1402bb55"
      },
      "execution_count": 76,
      "outputs": [
        {
          "output_type": "execute_result",
          "data": {
            "text/plain": [
              "array([  0,  -1,  -2,  -3,  -4,  -5,  -6,  -7,  -8,  -9, -10, -11, -12,\n",
              "       -13, -14, -15, -16, -17, -18, -19, -20, -21, -22, -23, -24, -25,\n",
              "       -26, -27, -28, -29, -30, -31, -32, -33, -34, -35, -36, -37, -38,\n",
              "       -39, -40, -41, -42, -43, -44, -45, -46, -47, -48, -49, -50, -51,\n",
              "       -52, -53, -54, -55, -56, -57, -58, -59, -60, -61, -62, -63, -64,\n",
              "       -65, -66, -67, -68, -69, -70, -71, -72, -73, -74, -75, -76, -77,\n",
              "       -78, -79, -80, -81, -82, -83, -84, -85, -86, -87, -88, -89, -90,\n",
              "       -91, -92, -93, -94, -95, -96])"
            ]
          },
          "metadata": {},
          "execution_count": 76
        }
      ]
    },
    {
      "cell_type": "markdown",
      "source": [
        "C means closed, X means status unknown, 0 means no DPD, 1 means maximal did during month between 1-30, 2 means DPD 31-60,… 5 means DPD 120+ or sold or written off."
      ],
      "metadata": {
        "id": "Vq--do1ogeB8"
      }
    },
    {
      "cell_type": "markdown",
      "metadata": {
        "id": "V40i8eSgrkqS"
      },
      "source": [
        "\n",
        "* bureau_balance table contains three fields, i.e. SK_ID_BUREAU, MONTHS_BALANCE and STATUS.\n",
        "Since the **Status** follows somewhat ordinal behaviour, we start by **label encoding** it.\n",
        "* Next, some features are created such as weighted status, which is obtained by dividing the status by the MONTHS_BALANCE.\n",
        "* Since the data contains the timeseries, we also calculate the Exponential Weighted Moving Average of the Status and Weighted Status fields.\n",
        "* Finally, we aggregate the data over SK_ID_BUREAU, in such a way that we first aggregate it over all the data, and after that we also aggregate over the last 2 years. These 2 years would depict the more recent behaviour of the clients.\n",
        "* The aggregations performed are based on Domain Knowledge, such as mean, min, max, sum, count, etc. For EDA features, we only take the last/most recent values, as they somewhat contain the trend of all the previous values.\n",
        "\n"
      ]
    },
    {
      "cell_type": "code",
      "source": [
        ""
      ],
      "metadata": {
        "id": "_Css5oY4EhzV"
      },
      "execution_count": null,
      "outputs": []
    },
    {
      "cell_type": "code",
      "source": [
        "#as we saw from EDA, bureau_balance has a variable called STATUS, which describes about the status of loan.\n",
        "#it has 7 labels, we will label encode them\n",
        "#so we give C as 0, and rest increasing\n",
        "#also we will give X the benefit of doubt and keep it as middle value\n",
        "dict_for_status = { 'C': 0, '0': 1, '1': 2, '2': 3, 'X': 4, '3': 5, '4': 6, '5': 7}\n",
        "bureau_balance['STATUS'] = bureau_balance['STATUS'].map(dict_for_status)\n",
        "\n",
        "#weighing the status with the months_balance\n",
        "#converting months to positive\n",
        "bureau_balance['MONTHS_BALANCE'] = np.abs(bureau_balance['MONTHS_BALANCE'])\n",
        "bureau_balance['WEIGHTED_STATUS'] = bureau_balance.STATUS / (bureau_balance.MONTHS_BALANCE + 1)"
      ],
      "metadata": {
        "id": "w8u0wY-h5eI_"
      },
      "execution_count": 6,
      "outputs": []
    },
    {
      "cell_type": "code",
      "source": [
        "#sorting the bureau_balance in ascending order of month and by the bureau SK_ID\n",
        "#this is done so as to make the rolling exponential average easily for previous months till current month\n",
        "bureau_balance = bureau_balance.sort_values(by=['SK_ID_BUREAU', 'MONTHS_BALANCE'], ascending=[0, 0])\n"
      ],
      "metadata": {
        "id": "-adDeCS35eLo"
      },
      "execution_count": 7,
      "outputs": []
    },
    {
      "cell_type": "code",
      "source": [
        "bureau_balance"
      ],
      "metadata": {
        "colab": {
          "base_uri": "https://localhost:8080/",
          "height": 423
        },
        "id": "4UBAxWAjTjFT",
        "outputId": "7c763c48-6b77-424f-f90f-67740fc0e389"
      },
      "execution_count": 8,
      "outputs": [
        {
          "output_type": "execute_result",
          "data": {
            "text/html": [
              "\n",
              "  <div id=\"df-c180cd04-670a-4107-b44f-b8db5fee7746\">\n",
              "    <div class=\"colab-df-container\">\n",
              "      <div>\n",
              "<style scoped>\n",
              "    .dataframe tbody tr th:only-of-type {\n",
              "        vertical-align: middle;\n",
              "    }\n",
              "\n",
              "    .dataframe tbody tr th {\n",
              "        vertical-align: top;\n",
              "    }\n",
              "\n",
              "    .dataframe thead th {\n",
              "        text-align: right;\n",
              "    }\n",
              "</style>\n",
              "<table border=\"1\" class=\"dataframe\">\n",
              "  <thead>\n",
              "    <tr style=\"text-align: right;\">\n",
              "      <th></th>\n",
              "      <th>SK_ID_BUREAU</th>\n",
              "      <th>MONTHS_BALANCE</th>\n",
              "      <th>STATUS</th>\n",
              "      <th>WEIGHTED_STATUS</th>\n",
              "    </tr>\n",
              "  </thead>\n",
              "  <tbody>\n",
              "    <tr>\n",
              "      <th>23544064</th>\n",
              "      <td>6842888</td>\n",
              "      <td>61</td>\n",
              "      <td>1</td>\n",
              "      <td>0.016129</td>\n",
              "    </tr>\n",
              "    <tr>\n",
              "      <th>23544063</th>\n",
              "      <td>6842888</td>\n",
              "      <td>60</td>\n",
              "      <td>1</td>\n",
              "      <td>0.016393</td>\n",
              "    </tr>\n",
              "    <tr>\n",
              "      <th>23544062</th>\n",
              "      <td>6842888</td>\n",
              "      <td>59</td>\n",
              "      <td>1</td>\n",
              "      <td>0.016667</td>\n",
              "    </tr>\n",
              "    <tr>\n",
              "      <th>23544061</th>\n",
              "      <td>6842888</td>\n",
              "      <td>58</td>\n",
              "      <td>2</td>\n",
              "      <td>0.033898</td>\n",
              "    </tr>\n",
              "    <tr>\n",
              "      <th>23544060</th>\n",
              "      <td>6842888</td>\n",
              "      <td>57</td>\n",
              "      <td>1</td>\n",
              "      <td>0.017241</td>\n",
              "    </tr>\n",
              "    <tr>\n",
              "      <th>...</th>\n",
              "      <td>...</td>\n",
              "      <td>...</td>\n",
              "      <td>...</td>\n",
              "      <td>...</td>\n",
              "    </tr>\n",
              "    <tr>\n",
              "      <th>26079757</th>\n",
              "      <td>5001709</td>\n",
              "      <td>4</td>\n",
              "      <td>0</td>\n",
              "      <td>0.000000</td>\n",
              "    </tr>\n",
              "    <tr>\n",
              "      <th>26079756</th>\n",
              "      <td>5001709</td>\n",
              "      <td>3</td>\n",
              "      <td>0</td>\n",
              "      <td>0.000000</td>\n",
              "    </tr>\n",
              "    <tr>\n",
              "      <th>26079755</th>\n",
              "      <td>5001709</td>\n",
              "      <td>2</td>\n",
              "      <td>0</td>\n",
              "      <td>0.000000</td>\n",
              "    </tr>\n",
              "    <tr>\n",
              "      <th>26079754</th>\n",
              "      <td>5001709</td>\n",
              "      <td>1</td>\n",
              "      <td>0</td>\n",
              "      <td>0.000000</td>\n",
              "    </tr>\n",
              "    <tr>\n",
              "      <th>26079753</th>\n",
              "      <td>5001709</td>\n",
              "      <td>0</td>\n",
              "      <td>0</td>\n",
              "      <td>0.000000</td>\n",
              "    </tr>\n",
              "  </tbody>\n",
              "</table>\n",
              "<p>27299925 rows × 4 columns</p>\n",
              "</div>\n",
              "      <button class=\"colab-df-convert\" onclick=\"convertToInteractive('df-c180cd04-670a-4107-b44f-b8db5fee7746')\"\n",
              "              title=\"Convert this dataframe to an interactive table.\"\n",
              "              style=\"display:none;\">\n",
              "        \n",
              "  <svg xmlns=\"http://www.w3.org/2000/svg\" height=\"24px\"viewBox=\"0 0 24 24\"\n",
              "       width=\"24px\">\n",
              "    <path d=\"M0 0h24v24H0V0z\" fill=\"none\"/>\n",
              "    <path d=\"M18.56 5.44l.94 2.06.94-2.06 2.06-.94-2.06-.94-.94-2.06-.94 2.06-2.06.94zm-11 1L8.5 8.5l.94-2.06 2.06-.94-2.06-.94L8.5 2.5l-.94 2.06-2.06.94zm10 10l.94 2.06.94-2.06 2.06-.94-2.06-.94-.94-2.06-.94 2.06-2.06.94z\"/><path d=\"M17.41 7.96l-1.37-1.37c-.4-.4-.92-.59-1.43-.59-.52 0-1.04.2-1.43.59L10.3 9.45l-7.72 7.72c-.78.78-.78 2.05 0 2.83L4 21.41c.39.39.9.59 1.41.59.51 0 1.02-.2 1.41-.59l7.78-7.78 2.81-2.81c.8-.78.8-2.07 0-2.86zM5.41 20L4 18.59l7.72-7.72 1.47 1.35L5.41 20z\"/>\n",
              "  </svg>\n",
              "      </button>\n",
              "      \n",
              "  <style>\n",
              "    .colab-df-container {\n",
              "      display:flex;\n",
              "      flex-wrap:wrap;\n",
              "      gap: 12px;\n",
              "    }\n",
              "\n",
              "    .colab-df-convert {\n",
              "      background-color: #E8F0FE;\n",
              "      border: none;\n",
              "      border-radius: 50%;\n",
              "      cursor: pointer;\n",
              "      display: none;\n",
              "      fill: #1967D2;\n",
              "      height: 32px;\n",
              "      padding: 0 0 0 0;\n",
              "      width: 32px;\n",
              "    }\n",
              "\n",
              "    .colab-df-convert:hover {\n",
              "      background-color: #E2EBFA;\n",
              "      box-shadow: 0px 1px 2px rgba(60, 64, 67, 0.3), 0px 1px 3px 1px rgba(60, 64, 67, 0.15);\n",
              "      fill: #174EA6;\n",
              "    }\n",
              "\n",
              "    [theme=dark] .colab-df-convert {\n",
              "      background-color: #3B4455;\n",
              "      fill: #D2E3FC;\n",
              "    }\n",
              "\n",
              "    [theme=dark] .colab-df-convert:hover {\n",
              "      background-color: #434B5C;\n",
              "      box-shadow: 0px 1px 3px 1px rgba(0, 0, 0, 0.15);\n",
              "      filter: drop-shadow(0px 1px 2px rgba(0, 0, 0, 0.3));\n",
              "      fill: #FFFFFF;\n",
              "    }\n",
              "  </style>\n",
              "\n",
              "      <script>\n",
              "        const buttonEl =\n",
              "          document.querySelector('#df-c180cd04-670a-4107-b44f-b8db5fee7746 button.colab-df-convert');\n",
              "        buttonEl.style.display =\n",
              "          google.colab.kernel.accessAllowed ? 'block' : 'none';\n",
              "\n",
              "        async function convertToInteractive(key) {\n",
              "          const element = document.querySelector('#df-c180cd04-670a-4107-b44f-b8db5fee7746');\n",
              "          const dataTable =\n",
              "            await google.colab.kernel.invokeFunction('convertToInteractive',\n",
              "                                                     [key], {});\n",
              "          if (!dataTable) return;\n",
              "\n",
              "          const docLinkHtml = 'Like what you see? Visit the ' +\n",
              "            '<a target=\"_blank\" href=https://colab.research.google.com/notebooks/data_table.ipynb>data table notebook</a>'\n",
              "            + ' to learn more about interactive tables.';\n",
              "          element.innerHTML = '';\n",
              "          dataTable['output_type'] = 'display_data';\n",
              "          await google.colab.output.renderOutput(dataTable, element);\n",
              "          const docLink = document.createElement('div');\n",
              "          docLink.innerHTML = docLinkHtml;\n",
              "          element.appendChild(docLink);\n",
              "        }\n",
              "      </script>\n",
              "    </div>\n",
              "  </div>\n",
              "  "
            ],
            "text/plain": [
              "          SK_ID_BUREAU  MONTHS_BALANCE  STATUS  WEIGHTED_STATUS\n",
              "23544064       6842888              61       1         0.016129\n",
              "23544063       6842888              60       1         0.016393\n",
              "23544062       6842888              59       1         0.016667\n",
              "23544061       6842888              58       2         0.033898\n",
              "23544060       6842888              57       1         0.017241\n",
              "...                ...             ...     ...              ...\n",
              "26079757       5001709               4       0         0.000000\n",
              "26079756       5001709               3       0         0.000000\n",
              "26079755       5001709               2       0         0.000000\n",
              "26079754       5001709               1       0         0.000000\n",
              "26079753       5001709               0       0         0.000000\n",
              "\n",
              "[27299925 rows x 4 columns]"
            ]
          },
          "metadata": {},
          "execution_count": 8
        }
      ]
    },
    {
      "cell_type": "markdown",
      "source": [
        "**exponential weighted average**"
      ],
      "metadata": {
        "id": "RFsi4RbaWp6b"
      }
    },
    {
      "cell_type": "code",
      "source": [
        "#we will do exponential weighted average on the encoded status\n",
        "#this is because if a person had a bad status 2 years ago, it should be given less weightage today\n",
        "# we keep the latent variable alpha = 0.8 \n",
        "#doing this for both weighted status and the status itself\n",
        "bureau_balance['EXP_WEIGHTED_STATUS'] = bureau_balance.groupby('SK_ID_BUREAU')['WEIGHTED_STATUS'].transform(lambda x: x.ewm(alpha = 0.8).mean())\n",
        "bureau_balance['EXP_ENCODED_STATUS'] = bureau_balance.groupby('SK_ID_BUREAU')['STATUS'].transform(lambda x: x.ewm(alpha = 0.8).mean())"
      ],
      "metadata": {
        "id": "0HHK7TLyTa4r"
      },
      "execution_count": 9,
      "outputs": []
    },
    {
      "cell_type": "code",
      "source": [
        "bureau_balance['EXP_WEIGHTED_STATUS']"
      ],
      "metadata": {
        "colab": {
          "base_uri": "https://localhost:8080/"
        },
        "id": "CNHsWcJ4iKaO",
        "outputId": "f96ad2fd-7c8a-46e0-b774-6a31eba7a170"
      },
      "execution_count": 12,
      "outputs": [
        {
          "output_type": "execute_result",
          "data": {
            "text/plain": [
              "23544064    1.612903e-02\n",
              "23544063    1.634937e-02\n",
              "23544062    1.660526e-02\n",
              "23544061    3.046187e-02\n",
              "23544060    1.988209e-02\n",
              "                ...     \n",
              "26079757    2.217031e-59\n",
              "26079756    4.434062e-60\n",
              "26079755    8.868123e-61\n",
              "26079754    1.773625e-61\n",
              "26079753    3.547249e-62\n",
              "Name: EXP_WEIGHTED_STATUS, Length: 27299925, dtype: float64"
            ]
          },
          "metadata": {},
          "execution_count": 12
        }
      ]
    },
    {
      "cell_type": "code",
      "source": [
        "#we can see that these datapoints are for 96 months i.e. 8 years.\n",
        "#so we will extract the means, and exponential averages for each year separately\n",
        "#first we convert month to year\n",
        "bureau_balance['YEAR_BALANCE'] = bureau_balance['MONTHS_BALANCE'] // 12\n",
        "\n",
        "#defining our aggregations\n",
        "aggregations_basic = {'YEAR_BALANCE' : ['mean','max'],\n",
        "                      'STATUS' : ['mean','max','first'],\n",
        "                      'WEIGHTED_STATUS' : ['mean','sum','first'],\n",
        "                      'EXP_ENCODED_STATUS' : ['last'],\n",
        "                      'EXP_WEIGHTED_STATUS' : ['last']}\n",
        "\n",
        "#we will be finding aggregates for each year too\n",
        "aggregations_for_year = {'STATUS' : ['mean','max','last','first'],\n",
        "                        'WEIGHTED_STATUS' : ['mean','max', 'first','last'],\n",
        "                        'EXP_WEIGHTED_STATUS' : ['last'],\n",
        "                        'EXP_ENCODED_STATUS' : ['last'] }\n",
        "\n",
        "#aggregating over whole dataset first\n",
        "aggregated_bureau_balance = bureau_balance.groupby(['SK_ID_BUREAU']).agg(aggregations_basic)\n",
        "aggregated_bureau_balance.columns = ['_'.join(ele).upper() for ele in aggregated_bureau_balance.columns]\n",
        "\n",
        "#aggregating some of the features separately for latest 2 years\n",
        "aggregated_bureau_years = pd.DataFrame()\n",
        "for year in range(2):\n",
        "    year_group = bureau_balance[bureau_balance['YEAR_BALANCE'] == year].groupby('SK_ID_BUREAU').agg(aggregations_for_year)\n",
        "    year_group.columns = ['_'.join(ele).upper() + '_YEAR_' + str(year) for ele in year_group.columns]\n",
        "\n",
        "    if year == 0:\n",
        "        aggregated_bureau_years = year_group\n",
        "    else:\n",
        "        aggregated_bureau_years = aggregated_bureau_years.merge(year_group, on = 'SK_ID_BUREAU', how = 'outer')\n",
        "\n",
        "#aggregating for rest of the years\n",
        "aggregated_bureau_rest_years = bureau_balance[bureau_balance.MONTHS_BALANCE > year].groupby(['SK_ID_BUREAU']).agg(aggregations_for_year)\n",
        "aggregated_bureau_rest_years.columns = ['_'.join(ele).upper() + '_YEAR_REST' for ele in aggregated_bureau_rest_years.columns]\n"
      ],
      "metadata": {
        "id": "0c0Pyljk5eRb"
      },
      "execution_count": 13,
      "outputs": []
    },
    {
      "cell_type": "code",
      "source": [
        "aggregated_bureau_balance.columns"
      ],
      "metadata": {
        "id": "SqKQPHm9iy5G",
        "colab": {
          "base_uri": "https://localhost:8080/"
        },
        "outputId": "a856cc05-2f4e-40e0-8fc3-72f9a65687de"
      },
      "execution_count": 14,
      "outputs": [
        {
          "output_type": "execute_result",
          "data": {
            "text/plain": [
              "Index(['YEAR_BALANCE_MEAN', 'YEAR_BALANCE_MAX', 'STATUS_MEAN', 'STATUS_MAX',\n",
              "       'STATUS_FIRST', 'WEIGHTED_STATUS_MEAN', 'WEIGHTED_STATUS_SUM',\n",
              "       'WEIGHTED_STATUS_FIRST', 'EXP_ENCODED_STATUS_LAST',\n",
              "       'EXP_WEIGHTED_STATUS_LAST'],\n",
              "      dtype='object')"
            ]
          },
          "metadata": {},
          "execution_count": 14
        }
      ]
    },
    {
      "cell_type": "code",
      "source": [
        "aggregated_bureau_rest_years.head()"
      ],
      "metadata": {
        "id": "i4f88WMXiy8m",
        "colab": {
          "base_uri": "https://localhost:8080/",
          "height": 302
        },
        "outputId": "d4c1271e-0c05-4f3c-e9b0-6ec85bb7e01e"
      },
      "execution_count": 15,
      "outputs": [
        {
          "output_type": "execute_result",
          "data": {
            "text/html": [
              "\n",
              "  <div id=\"df-b02b309d-2425-4d65-8ac3-ee27ed5be13b\">\n",
              "    <div class=\"colab-df-container\">\n",
              "      <div>\n",
              "<style scoped>\n",
              "    .dataframe tbody tr th:only-of-type {\n",
              "        vertical-align: middle;\n",
              "    }\n",
              "\n",
              "    .dataframe tbody tr th {\n",
              "        vertical-align: top;\n",
              "    }\n",
              "\n",
              "    .dataframe thead th {\n",
              "        text-align: right;\n",
              "    }\n",
              "</style>\n",
              "<table border=\"1\" class=\"dataframe\">\n",
              "  <thead>\n",
              "    <tr style=\"text-align: right;\">\n",
              "      <th></th>\n",
              "      <th>STATUS_MEAN_YEAR_REST</th>\n",
              "      <th>STATUS_MAX_YEAR_REST</th>\n",
              "      <th>STATUS_LAST_YEAR_REST</th>\n",
              "      <th>STATUS_FIRST_YEAR_REST</th>\n",
              "      <th>WEIGHTED_STATUS_MEAN_YEAR_REST</th>\n",
              "      <th>WEIGHTED_STATUS_MAX_YEAR_REST</th>\n",
              "      <th>WEIGHTED_STATUS_FIRST_YEAR_REST</th>\n",
              "      <th>WEIGHTED_STATUS_LAST_YEAR_REST</th>\n",
              "      <th>EXP_WEIGHTED_STATUS_LAST_YEAR_REST</th>\n",
              "      <th>EXP_ENCODED_STATUS_LAST_YEAR_REST</th>\n",
              "    </tr>\n",
              "    <tr>\n",
              "      <th>SK_ID_BUREAU</th>\n",
              "      <th></th>\n",
              "      <th></th>\n",
              "      <th></th>\n",
              "      <th></th>\n",
              "      <th></th>\n",
              "      <th></th>\n",
              "      <th></th>\n",
              "      <th></th>\n",
              "      <th></th>\n",
              "      <th></th>\n",
              "    </tr>\n",
              "  </thead>\n",
              "  <tbody>\n",
              "    <tr>\n",
              "      <th>5001709</th>\n",
              "      <td>0.463158</td>\n",
              "      <td>4</td>\n",
              "      <td>0</td>\n",
              "      <td>4</td>\n",
              "      <td>0.005040</td>\n",
              "      <td>0.045977</td>\n",
              "      <td>0.041237</td>\n",
              "      <td>0.000000</td>\n",
              "      <td>8.868123e-61</td>\n",
              "      <td>7.737125e-59</td>\n",
              "    </tr>\n",
              "    <tr>\n",
              "      <th>5001710</th>\n",
              "      <td>1.543210</td>\n",
              "      <td>4</td>\n",
              "      <td>0</td>\n",
              "      <td>4</td>\n",
              "      <td>0.023249</td>\n",
              "      <td>0.080000</td>\n",
              "      <td>0.048193</td>\n",
              "      <td>0.000000</td>\n",
              "      <td>2.104770e-34</td>\n",
              "      <td>1.041593e-32</td>\n",
              "    </tr>\n",
              "    <tr>\n",
              "      <th>5001711</th>\n",
              "      <td>1.000000</td>\n",
              "      <td>1</td>\n",
              "      <td>1</td>\n",
              "      <td>1</td>\n",
              "      <td>0.291667</td>\n",
              "      <td>0.333333</td>\n",
              "      <td>0.250000</td>\n",
              "      <td>0.333333</td>\n",
              "      <td>3.194444e-01</td>\n",
              "      <td>1.000000e+00</td>\n",
              "    </tr>\n",
              "    <tr>\n",
              "      <th>5001712</th>\n",
              "      <td>0.588235</td>\n",
              "      <td>1</td>\n",
              "      <td>0</td>\n",
              "      <td>1</td>\n",
              "      <td>0.042281</td>\n",
              "      <td>0.100000</td>\n",
              "      <td>0.052632</td>\n",
              "      <td>0.000000</td>\n",
              "      <td>1.252056e-06</td>\n",
              "      <td>1.280000e-05</td>\n",
              "    </tr>\n",
              "    <tr>\n",
              "      <th>5001713</th>\n",
              "      <td>4.000000</td>\n",
              "      <td>4</td>\n",
              "      <td>4</td>\n",
              "      <td>4</td>\n",
              "      <td>0.438163</td>\n",
              "      <td>1.333333</td>\n",
              "      <td>0.181818</td>\n",
              "      <td>1.333333</td>\n",
              "      <td>1.257421e+00</td>\n",
              "      <td>4.000000e+00</td>\n",
              "    </tr>\n",
              "  </tbody>\n",
              "</table>\n",
              "</div>\n",
              "      <button class=\"colab-df-convert\" onclick=\"convertToInteractive('df-b02b309d-2425-4d65-8ac3-ee27ed5be13b')\"\n",
              "              title=\"Convert this dataframe to an interactive table.\"\n",
              "              style=\"display:none;\">\n",
              "        \n",
              "  <svg xmlns=\"http://www.w3.org/2000/svg\" height=\"24px\"viewBox=\"0 0 24 24\"\n",
              "       width=\"24px\">\n",
              "    <path d=\"M0 0h24v24H0V0z\" fill=\"none\"/>\n",
              "    <path d=\"M18.56 5.44l.94 2.06.94-2.06 2.06-.94-2.06-.94-.94-2.06-.94 2.06-2.06.94zm-11 1L8.5 8.5l.94-2.06 2.06-.94-2.06-.94L8.5 2.5l-.94 2.06-2.06.94zm10 10l.94 2.06.94-2.06 2.06-.94-2.06-.94-.94-2.06-.94 2.06-2.06.94z\"/><path d=\"M17.41 7.96l-1.37-1.37c-.4-.4-.92-.59-1.43-.59-.52 0-1.04.2-1.43.59L10.3 9.45l-7.72 7.72c-.78.78-.78 2.05 0 2.83L4 21.41c.39.39.9.59 1.41.59.51 0 1.02-.2 1.41-.59l7.78-7.78 2.81-2.81c.8-.78.8-2.07 0-2.86zM5.41 20L4 18.59l7.72-7.72 1.47 1.35L5.41 20z\"/>\n",
              "  </svg>\n",
              "      </button>\n",
              "      \n",
              "  <style>\n",
              "    .colab-df-container {\n",
              "      display:flex;\n",
              "      flex-wrap:wrap;\n",
              "      gap: 12px;\n",
              "    }\n",
              "\n",
              "    .colab-df-convert {\n",
              "      background-color: #E8F0FE;\n",
              "      border: none;\n",
              "      border-radius: 50%;\n",
              "      cursor: pointer;\n",
              "      display: none;\n",
              "      fill: #1967D2;\n",
              "      height: 32px;\n",
              "      padding: 0 0 0 0;\n",
              "      width: 32px;\n",
              "    }\n",
              "\n",
              "    .colab-df-convert:hover {\n",
              "      background-color: #E2EBFA;\n",
              "      box-shadow: 0px 1px 2px rgba(60, 64, 67, 0.3), 0px 1px 3px 1px rgba(60, 64, 67, 0.15);\n",
              "      fill: #174EA6;\n",
              "    }\n",
              "\n",
              "    [theme=dark] .colab-df-convert {\n",
              "      background-color: #3B4455;\n",
              "      fill: #D2E3FC;\n",
              "    }\n",
              "\n",
              "    [theme=dark] .colab-df-convert:hover {\n",
              "      background-color: #434B5C;\n",
              "      box-shadow: 0px 1px 3px 1px rgba(0, 0, 0, 0.15);\n",
              "      filter: drop-shadow(0px 1px 2px rgba(0, 0, 0, 0.3));\n",
              "      fill: #FFFFFF;\n",
              "    }\n",
              "  </style>\n",
              "\n",
              "      <script>\n",
              "        const buttonEl =\n",
              "          document.querySelector('#df-b02b309d-2425-4d65-8ac3-ee27ed5be13b button.colab-df-convert');\n",
              "        buttonEl.style.display =\n",
              "          google.colab.kernel.accessAllowed ? 'block' : 'none';\n",
              "\n",
              "        async function convertToInteractive(key) {\n",
              "          const element = document.querySelector('#df-b02b309d-2425-4d65-8ac3-ee27ed5be13b');\n",
              "          const dataTable =\n",
              "            await google.colab.kernel.invokeFunction('convertToInteractive',\n",
              "                                                     [key], {});\n",
              "          if (!dataTable) return;\n",
              "\n",
              "          const docLinkHtml = 'Like what you see? Visit the ' +\n",
              "            '<a target=\"_blank\" href=https://colab.research.google.com/notebooks/data_table.ipynb>data table notebook</a>'\n",
              "            + ' to learn more about interactive tables.';\n",
              "          element.innerHTML = '';\n",
              "          dataTable['output_type'] = 'display_data';\n",
              "          await google.colab.output.renderOutput(dataTable, element);\n",
              "          const docLink = document.createElement('div');\n",
              "          docLink.innerHTML = docLinkHtml;\n",
              "          element.appendChild(docLink);\n",
              "        }\n",
              "      </script>\n",
              "    </div>\n",
              "  </div>\n",
              "  "
            ],
            "text/plain": [
              "              STATUS_MEAN_YEAR_REST  ...  EXP_ENCODED_STATUS_LAST_YEAR_REST\n",
              "SK_ID_BUREAU                         ...                                   \n",
              "5001709                    0.463158  ...                       7.737125e-59\n",
              "5001710                    1.543210  ...                       1.041593e-32\n",
              "5001711                    1.000000  ...                       1.000000e+00\n",
              "5001712                    0.588235  ...                       1.280000e-05\n",
              "5001713                    4.000000  ...                       4.000000e+00\n",
              "\n",
              "[5 rows x 10 columns]"
            ]
          },
          "metadata": {},
          "execution_count": 15
        }
      ]
    },
    {
      "cell_type": "code",
      "source": [
        "aggregated_bureau_rest_years.shape"
      ],
      "metadata": {
        "colab": {
          "base_uri": "https://localhost:8080/"
        },
        "id": "_dQzUEg16KOO",
        "outputId": "8e0ca18a-d82a-458f-8d8d-a2adf97eab9d"
      },
      "execution_count": 16,
      "outputs": [
        {
          "output_type": "execute_result",
          "data": {
            "text/plain": [
              "(803466, 10)"
            ]
          },
          "metadata": {},
          "execution_count": 16
        }
      ]
    },
    {
      "cell_type": "code",
      "source": [
        "aggregated_bureau_rest_years.isnull().sum()"
      ],
      "metadata": {
        "colab": {
          "base_uri": "https://localhost:8080/"
        },
        "id": "qfelF_v56Qto",
        "outputId": "c63ca75b-d306-4c76-eaf4-8f71483c5735"
      },
      "execution_count": 18,
      "outputs": [
        {
          "output_type": "execute_result",
          "data": {
            "text/plain": [
              "STATUS_MEAN_YEAR_REST                 0\n",
              "STATUS_MAX_YEAR_REST                  0\n",
              "STATUS_LAST_YEAR_REST                 0\n",
              "STATUS_FIRST_YEAR_REST                0\n",
              "WEIGHTED_STATUS_MEAN_YEAR_REST        0\n",
              "WEIGHTED_STATUS_MAX_YEAR_REST         0\n",
              "WEIGHTED_STATUS_FIRST_YEAR_REST       0\n",
              "WEIGHTED_STATUS_LAST_YEAR_REST        0\n",
              "EXP_WEIGHTED_STATUS_LAST_YEAR_REST    0\n",
              "EXP_ENCODED_STATUS_LAST_YEAR_REST     0\n",
              "dtype: int64"
            ]
          },
          "metadata": {},
          "execution_count": 18
        }
      ]
    },
    {
      "cell_type": "code",
      "source": [
        ""
      ],
      "metadata": {
        "id": "eZwrGu0W0mi0"
      },
      "execution_count": null,
      "outputs": []
    },
    {
      "cell_type": "code",
      "source": [
        ""
      ],
      "metadata": {
        "id": "qDqWAsiu0mmu"
      },
      "execution_count": null,
      "outputs": []
    },
    {
      "cell_type": "markdown",
      "source": [
        "## **bureau**\n",
        "* Firstly, we merge the bureau table with the aggregated bureau_balance table from previous step, on SK_ID_BUREAU.\n",
        "* We replace some erroneous values with NaN values. We saw some loans dating back to as long as 100 years ago. We believe they wouldn't really tell much about client's recent behaviour, so we remove them and only keep the loans in the period of 50 years.\n",
        "* We create some features by multiplications, divisions, subtractions of raw features, based on domain knowledge, such as Credit duration, annutiy to credit ratio, etc.\n",
        "* The categorical features are one-hot encoded.\n",
        "* To merge these to main table, i.e. application_train, we aggregate this table over SK_ID_CURR. We perform the aggregations again in two ways. We aggregate the credits based on the CREDIT_ACTIVE category, where we aggregate for two most popular categories separately, i.e. Active, and Closed. Later we aggregate for the remaining categories too, and merge these. We aggregated the whole data overall too. The aggregations performed are sum, mean, min, max, last, etc."
      ],
      "metadata": {
        "id": "1VNA-Sv4hcV5"
      }
    },
    {
      "cell_type": "code",
      "source": [
        "bureau"
      ],
      "metadata": {
        "id": "6pQn-W07611D"
      },
      "execution_count": null,
      "outputs": []
    },
    {
      "cell_type": "code",
      "source": [
        ""
      ],
      "metadata": {
        "id": "ukrDNLFD615K"
      },
      "execution_count": null,
      "outputs": []
    },
    {
      "cell_type": "code",
      "source": [
        ""
      ],
      "metadata": {
        "id": "vn6KU0WO619V"
      },
      "execution_count": null,
      "outputs": []
    },
    {
      "cell_type": "code",
      "source": [
        ""
      ],
      "metadata": {
        "id": "6EA4Vh7n62C9"
      },
      "execution_count": null,
      "outputs": []
    },
    {
      "cell_type": "code",
      "source": [
        " #merging it with aggregated bureau_balance on 'SK_ID_BUREAU'\n",
        "bureau_merged = bureau.merge(aggregated_bureau_balance, on = 'SK_ID_BUREAU', how = 'left')\n"
      ],
      "metadata": {
        "id": "lFQmcWvL5eUD"
      },
      "execution_count": 19,
      "outputs": []
    },
    {
      "cell_type": "code",
      "source": [
        "bureau_merged.isnull().sum()"
      ],
      "metadata": {
        "colab": {
          "base_uri": "https://localhost:8080/"
        },
        "id": "8Z-jtqnh6nd0",
        "outputId": "fa2b8d93-9c5c-4315-8213-7bfb86c01c54"
      },
      "execution_count": 20,
      "outputs": [
        {
          "output_type": "execute_result",
          "data": {
            "text/plain": [
              "SK_ID_CURR                        0\n",
              "SK_ID_BUREAU                      0\n",
              "CREDIT_ACTIVE                     0\n",
              "CREDIT_CURRENCY                   0\n",
              "DAYS_CREDIT                       0\n",
              "CREDIT_DAY_OVERDUE                0\n",
              "DAYS_CREDIT_ENDDATE          105553\n",
              "DAYS_ENDDATE_FACT            633653\n",
              "AMT_CREDIT_MAX_OVERDUE      1124488\n",
              "CNT_CREDIT_PROLONG                0\n",
              "AMT_CREDIT_SUM                   13\n",
              "AMT_CREDIT_SUM_DEBT          257669\n",
              "AMT_CREDIT_SUM_LIMIT         591780\n",
              "AMT_CREDIT_SUM_OVERDUE            0\n",
              "CREDIT_TYPE                       0\n",
              "DAYS_CREDIT_UPDATE                0\n",
              "AMT_ANNUITY                 1226791\n",
              "YEAR_BALANCE_MEAN            942074\n",
              "YEAR_BALANCE_MAX             942074\n",
              "STATUS_MEAN                  942074\n",
              "STATUS_MAX                   942074\n",
              "STATUS_FIRST                 942074\n",
              "WEIGHTED_STATUS_MEAN         942074\n",
              "WEIGHTED_STATUS_SUM          942074\n",
              "WEIGHTED_STATUS_FIRST        942074\n",
              "EXP_ENCODED_STATUS_LAST      942074\n",
              "EXP_WEIGHTED_STATUS_LAST     942074\n",
              "dtype: int64"
            ]
          },
          "metadata": {},
          "execution_count": 20
        }
      ]
    },
    {
      "cell_type": "code",
      "source": [
        "\n",
        "#from the EDA we saw some erroneous values in DAYS Fields, we will remove those\n",
        "#there are some loans which ended about very long ago, around 100 years ago.\n",
        "#Thus we will only keep those loans which have ended in past 50 years.\n",
        "bureau_merged['DAYS_CREDIT_ENDDATE'][bureau_merged['DAYS_CREDIT_ENDDATE'] > -50*365] = np.nan\n",
        "bureau_merged['DAYS_ENDDATE_FACT'][bureau_merged['DAYS_ENDDATE_FACT'] > -50*365] = np.nan\n",
        "\n",
        "#there is also a feature which tells about the number of days ago the Credit Report Came\n",
        "bureau_merged['DAYS_CREDIT_UPDATE'][bureau_merged['DAYS_CREDIT_UPDATE'] > -50*365] = np.nan\n",
        "\n",
        "#engineering some features based on domain knowledge\n",
        "bureau_merged['CREDIT_DURATION'] = np.abs(bureau_merged['DAYS_CREDIT'] - bureau_merged['DAYS_CREDIT_ENDDATE'])\n",
        "\n",
        "bureau_merged['CURRENT_AMT_OVERDUE_DURATION_RATIO'] = bureau_merged['AMT_CREDIT_SUM_OVERDUE'] / (bureau_merged['CREDIT_DURATION'])\n",
        "\n",
        "bureau_merged['AMT_ANNUITY_CREDIT_RATIO'] = bureau_merged['AMT_ANNUITY'] / (bureau_merged['AMT_CREDIT_SUM'] )"
      ],
      "metadata": {
        "id": "aBSL3r0t6dy9"
      },
      "execution_count": null,
      "outputs": []
    },
    {
      "cell_type": "code",
      "source": [
        "bureau_merged.head()"
      ],
      "metadata": {
        "id": "ba-xKFB4W7xD",
        "outputId": "75073dc7-0ac2-40be-b522-d67c5dedef75",
        "colab": {
          "base_uri": "https://localhost:8080/",
          "height": 322
        }
      },
      "execution_count": null,
      "outputs": [
        {
          "output_type": "execute_result",
          "data": {
            "text/html": [
              "\n",
              "  <div id=\"df-f5d8e25d-016f-4d74-b45c-014a27fee864\">\n",
              "    <div class=\"colab-df-container\">\n",
              "      <div>\n",
              "<style scoped>\n",
              "    .dataframe tbody tr th:only-of-type {\n",
              "        vertical-align: middle;\n",
              "    }\n",
              "\n",
              "    .dataframe tbody tr th {\n",
              "        vertical-align: top;\n",
              "    }\n",
              "\n",
              "    .dataframe thead th {\n",
              "        text-align: right;\n",
              "    }\n",
              "</style>\n",
              "<table border=\"1\" class=\"dataframe\">\n",
              "  <thead>\n",
              "    <tr style=\"text-align: right;\">\n",
              "      <th></th>\n",
              "      <th>SK_ID_CURR</th>\n",
              "      <th>SK_ID_BUREAU</th>\n",
              "      <th>DAYS_CREDIT</th>\n",
              "      <th>CREDIT_DAY_OVERDUE</th>\n",
              "      <th>DAYS_CREDIT_ENDDATE</th>\n",
              "      <th>DAYS_ENDDATE_FACT</th>\n",
              "      <th>AMT_CREDIT_MAX_OVERDUE</th>\n",
              "      <th>CNT_CREDIT_PROLONG</th>\n",
              "      <th>AMT_CREDIT_SUM</th>\n",
              "      <th>AMT_CREDIT_SUM_DEBT</th>\n",
              "      <th>AMT_CREDIT_SUM_LIMIT</th>\n",
              "      <th>AMT_CREDIT_SUM_OVERDUE</th>\n",
              "      <th>DAYS_CREDIT_UPDATE</th>\n",
              "      <th>AMT_ANNUITY</th>\n",
              "      <th>YEAR_BALANCE_MEAN</th>\n",
              "      <th>YEAR_BALANCE_MAX</th>\n",
              "      <th>STATUS_MEAN</th>\n",
              "      <th>STATUS_MAX</th>\n",
              "      <th>STATUS_FIRST</th>\n",
              "      <th>WEIGHTED_STATUS_MEAN</th>\n",
              "      <th>WEIGHTED_STATUS_SUM</th>\n",
              "      <th>WEIGHTED_STATUS_FIRST</th>\n",
              "      <th>EXP_ENCODED_STATUS_LAST</th>\n",
              "      <th>EXP_WEIGHTED_STATUS_LAST</th>\n",
              "      <th>CREDIT_DURATION</th>\n",
              "      <th>FLAG_OVERDUE_RECENT</th>\n",
              "      <th>MAX_AMT_OVERDUE_DURATION_RATIO</th>\n",
              "      <th>CURRENT_AMT_OVERDUE_DURATION_RATIO</th>\n",
              "      <th>AMT_OVERDUE_DURATION_LEFT_RATIO</th>\n",
              "      <th>CNT_PROLONGED_MAX_OVERDUE_MUL</th>\n",
              "      <th>CNT_PROLONGED_DURATION_RATIO</th>\n",
              "      <th>CURRENT_DEBT_TO_CREDIT_RATIO</th>\n",
              "      <th>CURRENT_CREDIT_DEBT_DIFF</th>\n",
              "      <th>AMT_ANNUITY_CREDIT_RATIO</th>\n",
              "      <th>CREDIT_ENDDATE_UPDATE_DIFF</th>\n",
              "      <th>CURRENCY_currency 1</th>\n",
              "      <th>CURRENCY_currency 2</th>\n",
              "      <th>CURRENCY_currency 3</th>\n",
              "      <th>CURRENCY_currency 4</th>\n",
              "      <th>CREDIT_ACTIVE_Active</th>\n",
              "      <th>CREDIT_ACTIVE_Bad debt</th>\n",
              "      <th>CREDIT_ACTIVE_Closed</th>\n",
              "      <th>CREDIT_ACTIVE_Sold</th>\n",
              "      <th>CREDIT_TYPE_Another type of loan</th>\n",
              "      <th>CREDIT_TYPE_Car loan</th>\n",
              "      <th>CREDIT_TYPE_Cash loan (non-earmarked)</th>\n",
              "      <th>CREDIT_TYPE_Consumer credit</th>\n",
              "      <th>CREDIT_TYPE_Credit card</th>\n",
              "      <th>CREDIT_TYPE_Interbank credit</th>\n",
              "      <th>CREDIT_TYPE_Loan for business development</th>\n",
              "      <th>CREDIT_TYPE_Loan for purchase of shares (margin lending)</th>\n",
              "      <th>CREDIT_TYPE_Loan for the purchase of equipment</th>\n",
              "      <th>CREDIT_TYPE_Loan for working capital replenishment</th>\n",
              "      <th>CREDIT_TYPE_Microloan</th>\n",
              "      <th>CREDIT_TYPE_Mobile operator loan</th>\n",
              "      <th>CREDIT_TYPE_Mortgage</th>\n",
              "      <th>CREDIT_TYPE_Real estate loan</th>\n",
              "      <th>CREDIT_TYPE_Unknown type of loan</th>\n",
              "    </tr>\n",
              "  </thead>\n",
              "  <tbody>\n",
              "    <tr>\n",
              "      <th>0</th>\n",
              "      <td>215354</td>\n",
              "      <td>5714462</td>\n",
              "      <td>-497</td>\n",
              "      <td>0</td>\n",
              "      <td>NaN</td>\n",
              "      <td>NaN</td>\n",
              "      <td>NaN</td>\n",
              "      <td>0</td>\n",
              "      <td>91323.0</td>\n",
              "      <td>0.0</td>\n",
              "      <td>NaN</td>\n",
              "      <td>0.0</td>\n",
              "      <td>NaN</td>\n",
              "      <td>NaN</td>\n",
              "      <td>NaN</td>\n",
              "      <td>NaN</td>\n",
              "      <td>NaN</td>\n",
              "      <td>NaN</td>\n",
              "      <td>NaN</td>\n",
              "      <td>NaN</td>\n",
              "      <td>NaN</td>\n",
              "      <td>NaN</td>\n",
              "      <td>NaN</td>\n",
              "      <td>NaN</td>\n",
              "      <td>NaN</td>\n",
              "      <td>0</td>\n",
              "      <td>NaN</td>\n",
              "      <td>NaN</td>\n",
              "      <td>NaN</td>\n",
              "      <td>NaN</td>\n",
              "      <td>NaN</td>\n",
              "      <td>0.00000</td>\n",
              "      <td>91323.0</td>\n",
              "      <td>NaN</td>\n",
              "      <td>NaN</td>\n",
              "      <td>1</td>\n",
              "      <td>0</td>\n",
              "      <td>0</td>\n",
              "      <td>0</td>\n",
              "      <td>0</td>\n",
              "      <td>0</td>\n",
              "      <td>1</td>\n",
              "      <td>0</td>\n",
              "      <td>0</td>\n",
              "      <td>0</td>\n",
              "      <td>0</td>\n",
              "      <td>1</td>\n",
              "      <td>0</td>\n",
              "      <td>0</td>\n",
              "      <td>0</td>\n",
              "      <td>0</td>\n",
              "      <td>0</td>\n",
              "      <td>0</td>\n",
              "      <td>0</td>\n",
              "      <td>0</td>\n",
              "      <td>0</td>\n",
              "      <td>0</td>\n",
              "      <td>0</td>\n",
              "    </tr>\n",
              "    <tr>\n",
              "      <th>1</th>\n",
              "      <td>215354</td>\n",
              "      <td>5714463</td>\n",
              "      <td>-208</td>\n",
              "      <td>0</td>\n",
              "      <td>NaN</td>\n",
              "      <td>NaN</td>\n",
              "      <td>NaN</td>\n",
              "      <td>0</td>\n",
              "      <td>225000.0</td>\n",
              "      <td>171342.0</td>\n",
              "      <td>NaN</td>\n",
              "      <td>0.0</td>\n",
              "      <td>NaN</td>\n",
              "      <td>NaN</td>\n",
              "      <td>NaN</td>\n",
              "      <td>NaN</td>\n",
              "      <td>NaN</td>\n",
              "      <td>NaN</td>\n",
              "      <td>NaN</td>\n",
              "      <td>NaN</td>\n",
              "      <td>NaN</td>\n",
              "      <td>NaN</td>\n",
              "      <td>NaN</td>\n",
              "      <td>NaN</td>\n",
              "      <td>NaN</td>\n",
              "      <td>0</td>\n",
              "      <td>NaN</td>\n",
              "      <td>NaN</td>\n",
              "      <td>NaN</td>\n",
              "      <td>NaN</td>\n",
              "      <td>NaN</td>\n",
              "      <td>0.76152</td>\n",
              "      <td>53658.0</td>\n",
              "      <td>NaN</td>\n",
              "      <td>NaN</td>\n",
              "      <td>1</td>\n",
              "      <td>0</td>\n",
              "      <td>0</td>\n",
              "      <td>0</td>\n",
              "      <td>1</td>\n",
              "      <td>0</td>\n",
              "      <td>0</td>\n",
              "      <td>0</td>\n",
              "      <td>0</td>\n",
              "      <td>0</td>\n",
              "      <td>0</td>\n",
              "      <td>0</td>\n",
              "      <td>1</td>\n",
              "      <td>0</td>\n",
              "      <td>0</td>\n",
              "      <td>0</td>\n",
              "      <td>0</td>\n",
              "      <td>0</td>\n",
              "      <td>0</td>\n",
              "      <td>0</td>\n",
              "      <td>0</td>\n",
              "      <td>0</td>\n",
              "      <td>0</td>\n",
              "    </tr>\n",
              "    <tr>\n",
              "      <th>2</th>\n",
              "      <td>215354</td>\n",
              "      <td>5714464</td>\n",
              "      <td>-203</td>\n",
              "      <td>0</td>\n",
              "      <td>NaN</td>\n",
              "      <td>NaN</td>\n",
              "      <td>NaN</td>\n",
              "      <td>0</td>\n",
              "      <td>464323.5</td>\n",
              "      <td>NaN</td>\n",
              "      <td>NaN</td>\n",
              "      <td>0.0</td>\n",
              "      <td>NaN</td>\n",
              "      <td>NaN</td>\n",
              "      <td>NaN</td>\n",
              "      <td>NaN</td>\n",
              "      <td>NaN</td>\n",
              "      <td>NaN</td>\n",
              "      <td>NaN</td>\n",
              "      <td>NaN</td>\n",
              "      <td>NaN</td>\n",
              "      <td>NaN</td>\n",
              "      <td>NaN</td>\n",
              "      <td>NaN</td>\n",
              "      <td>NaN</td>\n",
              "      <td>0</td>\n",
              "      <td>NaN</td>\n",
              "      <td>NaN</td>\n",
              "      <td>NaN</td>\n",
              "      <td>NaN</td>\n",
              "      <td>NaN</td>\n",
              "      <td>NaN</td>\n",
              "      <td>NaN</td>\n",
              "      <td>NaN</td>\n",
              "      <td>NaN</td>\n",
              "      <td>1</td>\n",
              "      <td>0</td>\n",
              "      <td>0</td>\n",
              "      <td>0</td>\n",
              "      <td>1</td>\n",
              "      <td>0</td>\n",
              "      <td>0</td>\n",
              "      <td>0</td>\n",
              "      <td>0</td>\n",
              "      <td>0</td>\n",
              "      <td>0</td>\n",
              "      <td>1</td>\n",
              "      <td>0</td>\n",
              "      <td>0</td>\n",
              "      <td>0</td>\n",
              "      <td>0</td>\n",
              "      <td>0</td>\n",
              "      <td>0</td>\n",
              "      <td>0</td>\n",
              "      <td>0</td>\n",
              "      <td>0</td>\n",
              "      <td>0</td>\n",
              "      <td>0</td>\n",
              "    </tr>\n",
              "    <tr>\n",
              "      <th>3</th>\n",
              "      <td>215354</td>\n",
              "      <td>5714465</td>\n",
              "      <td>-203</td>\n",
              "      <td>0</td>\n",
              "      <td>NaN</td>\n",
              "      <td>NaN</td>\n",
              "      <td>NaN</td>\n",
              "      <td>0</td>\n",
              "      <td>90000.0</td>\n",
              "      <td>NaN</td>\n",
              "      <td>NaN</td>\n",
              "      <td>0.0</td>\n",
              "      <td>NaN</td>\n",
              "      <td>NaN</td>\n",
              "      <td>NaN</td>\n",
              "      <td>NaN</td>\n",
              "      <td>NaN</td>\n",
              "      <td>NaN</td>\n",
              "      <td>NaN</td>\n",
              "      <td>NaN</td>\n",
              "      <td>NaN</td>\n",
              "      <td>NaN</td>\n",
              "      <td>NaN</td>\n",
              "      <td>NaN</td>\n",
              "      <td>NaN</td>\n",
              "      <td>0</td>\n",
              "      <td>NaN</td>\n",
              "      <td>NaN</td>\n",
              "      <td>NaN</td>\n",
              "      <td>NaN</td>\n",
              "      <td>NaN</td>\n",
              "      <td>NaN</td>\n",
              "      <td>NaN</td>\n",
              "      <td>NaN</td>\n",
              "      <td>NaN</td>\n",
              "      <td>1</td>\n",
              "      <td>0</td>\n",
              "      <td>0</td>\n",
              "      <td>0</td>\n",
              "      <td>1</td>\n",
              "      <td>0</td>\n",
              "      <td>0</td>\n",
              "      <td>0</td>\n",
              "      <td>0</td>\n",
              "      <td>0</td>\n",
              "      <td>0</td>\n",
              "      <td>0</td>\n",
              "      <td>1</td>\n",
              "      <td>0</td>\n",
              "      <td>0</td>\n",
              "      <td>0</td>\n",
              "      <td>0</td>\n",
              "      <td>0</td>\n",
              "      <td>0</td>\n",
              "      <td>0</td>\n",
              "      <td>0</td>\n",
              "      <td>0</td>\n",
              "      <td>0</td>\n",
              "    </tr>\n",
              "    <tr>\n",
              "      <th>4</th>\n",
              "      <td>215354</td>\n",
              "      <td>5714466</td>\n",
              "      <td>-629</td>\n",
              "      <td>0</td>\n",
              "      <td>NaN</td>\n",
              "      <td>NaN</td>\n",
              "      <td>77674.5</td>\n",
              "      <td>0</td>\n",
              "      <td>2700000.0</td>\n",
              "      <td>NaN</td>\n",
              "      <td>NaN</td>\n",
              "      <td>0.0</td>\n",
              "      <td>NaN</td>\n",
              "      <td>NaN</td>\n",
              "      <td>NaN</td>\n",
              "      <td>NaN</td>\n",
              "      <td>NaN</td>\n",
              "      <td>NaN</td>\n",
              "      <td>NaN</td>\n",
              "      <td>NaN</td>\n",
              "      <td>NaN</td>\n",
              "      <td>NaN</td>\n",
              "      <td>NaN</td>\n",
              "      <td>NaN</td>\n",
              "      <td>NaN</td>\n",
              "      <td>0</td>\n",
              "      <td>NaN</td>\n",
              "      <td>NaN</td>\n",
              "      <td>NaN</td>\n",
              "      <td>0.0</td>\n",
              "      <td>NaN</td>\n",
              "      <td>NaN</td>\n",
              "      <td>NaN</td>\n",
              "      <td>NaN</td>\n",
              "      <td>NaN</td>\n",
              "      <td>1</td>\n",
              "      <td>0</td>\n",
              "      <td>0</td>\n",
              "      <td>0</td>\n",
              "      <td>1</td>\n",
              "      <td>0</td>\n",
              "      <td>0</td>\n",
              "      <td>0</td>\n",
              "      <td>0</td>\n",
              "      <td>0</td>\n",
              "      <td>0</td>\n",
              "      <td>1</td>\n",
              "      <td>0</td>\n",
              "      <td>0</td>\n",
              "      <td>0</td>\n",
              "      <td>0</td>\n",
              "      <td>0</td>\n",
              "      <td>0</td>\n",
              "      <td>0</td>\n",
              "      <td>0</td>\n",
              "      <td>0</td>\n",
              "      <td>0</td>\n",
              "      <td>0</td>\n",
              "    </tr>\n",
              "  </tbody>\n",
              "</table>\n",
              "</div>\n",
              "      <button class=\"colab-df-convert\" onclick=\"convertToInteractive('df-f5d8e25d-016f-4d74-b45c-014a27fee864')\"\n",
              "              title=\"Convert this dataframe to an interactive table.\"\n",
              "              style=\"display:none;\">\n",
              "        \n",
              "  <svg xmlns=\"http://www.w3.org/2000/svg\" height=\"24px\"viewBox=\"0 0 24 24\"\n",
              "       width=\"24px\">\n",
              "    <path d=\"M0 0h24v24H0V0z\" fill=\"none\"/>\n",
              "    <path d=\"M18.56 5.44l.94 2.06.94-2.06 2.06-.94-2.06-.94-.94-2.06-.94 2.06-2.06.94zm-11 1L8.5 8.5l.94-2.06 2.06-.94-2.06-.94L8.5 2.5l-.94 2.06-2.06.94zm10 10l.94 2.06.94-2.06 2.06-.94-2.06-.94-.94-2.06-.94 2.06-2.06.94z\"/><path d=\"M17.41 7.96l-1.37-1.37c-.4-.4-.92-.59-1.43-.59-.52 0-1.04.2-1.43.59L10.3 9.45l-7.72 7.72c-.78.78-.78 2.05 0 2.83L4 21.41c.39.39.9.59 1.41.59.51 0 1.02-.2 1.41-.59l7.78-7.78 2.81-2.81c.8-.78.8-2.07 0-2.86zM5.41 20L4 18.59l7.72-7.72 1.47 1.35L5.41 20z\"/>\n",
              "  </svg>\n",
              "      </button>\n",
              "      \n",
              "  <style>\n",
              "    .colab-df-container {\n",
              "      display:flex;\n",
              "      flex-wrap:wrap;\n",
              "      gap: 12px;\n",
              "    }\n",
              "\n",
              "    .colab-df-convert {\n",
              "      background-color: #E8F0FE;\n",
              "      border: none;\n",
              "      border-radius: 50%;\n",
              "      cursor: pointer;\n",
              "      display: none;\n",
              "      fill: #1967D2;\n",
              "      height: 32px;\n",
              "      padding: 0 0 0 0;\n",
              "      width: 32px;\n",
              "    }\n",
              "\n",
              "    .colab-df-convert:hover {\n",
              "      background-color: #E2EBFA;\n",
              "      box-shadow: 0px 1px 2px rgba(60, 64, 67, 0.3), 0px 1px 3px 1px rgba(60, 64, 67, 0.15);\n",
              "      fill: #174EA6;\n",
              "    }\n",
              "\n",
              "    [theme=dark] .colab-df-convert {\n",
              "      background-color: #3B4455;\n",
              "      fill: #D2E3FC;\n",
              "    }\n",
              "\n",
              "    [theme=dark] .colab-df-convert:hover {\n",
              "      background-color: #434B5C;\n",
              "      box-shadow: 0px 1px 3px 1px rgba(0, 0, 0, 0.15);\n",
              "      filter: drop-shadow(0px 1px 2px rgba(0, 0, 0, 0.3));\n",
              "      fill: #FFFFFF;\n",
              "    }\n",
              "  </style>\n",
              "\n",
              "      <script>\n",
              "        const buttonEl =\n",
              "          document.querySelector('#df-f5d8e25d-016f-4d74-b45c-014a27fee864 button.colab-df-convert');\n",
              "        buttonEl.style.display =\n",
              "          google.colab.kernel.accessAllowed ? 'block' : 'none';\n",
              "\n",
              "        async function convertToInteractive(key) {\n",
              "          const element = document.querySelector('#df-f5d8e25d-016f-4d74-b45c-014a27fee864');\n",
              "          const dataTable =\n",
              "            await google.colab.kernel.invokeFunction('convertToInteractive',\n",
              "                                                     [key], {});\n",
              "          if (!dataTable) return;\n",
              "\n",
              "          const docLinkHtml = 'Like what you see? Visit the ' +\n",
              "            '<a target=\"_blank\" href=https://colab.research.google.com/notebooks/data_table.ipynb>data table notebook</a>'\n",
              "            + ' to learn more about interactive tables.';\n",
              "          element.innerHTML = '';\n",
              "          dataTable['output_type'] = 'display_data';\n",
              "          await google.colab.output.renderOutput(dataTable, element);\n",
              "          const docLink = document.createElement('div');\n",
              "          docLink.innerHTML = docLinkHtml;\n",
              "          element.appendChild(docLink);\n",
              "        }\n",
              "      </script>\n",
              "    </div>\n",
              "  </div>\n",
              "  "
            ],
            "text/plain": [
              "   SK_ID_CURR  ...  CREDIT_TYPE_Unknown type of loan\n",
              "0      215354  ...                                 0\n",
              "1      215354  ...                                 0\n",
              "2      215354  ...                                 0\n",
              "3      215354  ...                                 0\n",
              "4      215354  ...                                 0\n",
              "\n",
              "[5 rows x 58 columns]"
            ]
          },
          "metadata": {},
          "execution_count": 16
        }
      ]
    },
    {
      "cell_type": "code",
      "source": [
        "#now we will be aggregating the bureau_merged df with respect to 'SK_ID_CURR' so as to merge it with application_train later    \n",
        "#firstly we will aggregate the columns based on the category of CREDIT_ACTIVE\n",
        "aggregations_CREDIT_ACTIVE = {\n",
        "                'DAYS_CREDIT' : ['mean','min','max','last'],\n",
        "                'CREDIT_DAY_OVERDUE' : ['mean','max'],\n",
        "                'DAYS_CREDIT_ENDDATE' : ['mean','max'],\n",
        "                'DAYS_ENDDATE_FACT' : ['mean','min'],\n",
        "                'AMT_CREDIT_MAX_OVERDUE': ['max','sum'],\n",
        "                'CNT_CREDIT_PROLONG': ['max','sum'],\n",
        "                'AMT_CREDIT_SUM' : ['sum','max'],\n",
        "                'AMT_CREDIT_SUM_DEBT': ['sum'],\n",
        "                'AMT_CREDIT_SUM_LIMIT': ['max','sum'],\n",
        "                'AMT_CREDIT_SUM_OVERDUE': ['max','sum'],\n",
        "                \n",
        "                'AMT_ANNUITY' : ['mean','sum','max'],\n",
        "                'CREDIT_DURATION' : ['max','mean'],\n",
        "                \n",
        "                'MAX_AMT_OVERDUE_DURATION_RATIO' : ['max','sum'],\n",
        "                'CURRENT_AMT_OVERDUE_DURATION_RATIO' : ['max','sum'],\n",
        "                'AMT_OVERDUE_DURATION_LEFT_RATIO' : ['max', 'mean'],\n",
        "                'CURRENT_DEBT_TO_CREDIT_RATIO' : ['mean', 'min'],\n",
        "                'CURRENT_CREDIT_DEBT_DIFF' : ['mean','min'],\n",
        "                'AMT_ANNUITY_CREDIT_RATIO' : ['mean','max','min'],\n",
        "                \n",
        "                'STATUS_MEAN' : ['mean', 'max'],\n",
        "                'WEIGHTED_STATUS_MEAN' : ['mean', 'max']\n",
        "                  }"
      ],
      "metadata": {
        "id": "48yq2_QqUWiU"
      },
      "execution_count": null,
      "outputs": []
    },
    {
      "cell_type": "code",
      "source": [
        "#we saw from EDA that the two most common type of CREDIT ACTIVE were 'Closed' and 'Active'.\n",
        "#So we will aggregate them two separately and the remaining categories separately.\n",
        "categories_to_aggregate_on = ['Closed','Active']\n",
        "bureau_merged_aggregated_credit = pd.DataFrame()\n",
        "for i, status in enumerate(categories_to_aggregate_on):\n",
        "    group = bureau_merged[bureau_merged['CREDIT_ACTIVE'] == status].groupby('SK_ID_CURR').agg(aggregations_CREDIT_ACTIVE)\n",
        "    group.columns = ['_'.join(ele).upper() + '_CREDITACTIVE_' + status.upper() for ele in group.columns]\n",
        "\n",
        "    if i==0:\n",
        "        bureau_merged_aggregated_credit = group\n",
        "    else:\n",
        "        bureau_merged_aggregated_credit = bureau_merged_aggregated_credit.merge(group, on = 'SK_ID_CURR', how = 'outer')\n",
        "#aggregating for remaining categories\n",
        "bureau_merged_aggregated_credit_rest = bureau_merged[(bureau_merged['CREDIT_ACTIVE'] != 'Active') & \n",
        "                                                      (bureau_merged['CREDIT_ACTIVE'] != 'Closed')].groupby('SK_ID_CURR').agg(aggregations_CREDIT_ACTIVE)\n",
        "bureau_merged_aggregated_credit_rest.columns = ['_'.join(ele).upper() + 'CREDIT_ACTIVE_REST' for ele in bureau_merged_aggregated_credit_rest.columns]\n",
        "\n",
        "#merging with other categories\n",
        "bureau_merged_aggregated_credit = bureau_merged_aggregated_credit.merge(bureau_merged_aggregated_credit_rest, on = 'SK_ID_CURR', how = 'outer')\n",
        "\n",
        "#Encoding the categorical columns in one-hot form\n",
        "currency_ohe = pd.get_dummies(bureau_merged['CREDIT_CURRENCY'], prefix = 'CURRENCY')\n",
        "credit_active_ohe = pd.get_dummies(bureau_merged['CREDIT_ACTIVE'], prefix = 'CREDIT_ACTIVE')\n",
        "credit_type_ohe = pd.get_dummies(bureau_merged['CREDIT_TYPE'], prefix = 'CREDIT_TYPE')\n",
        "\n",
        "#merging the one-hot encoded columns\n",
        "bureau_merged = pd.concat([bureau_merged.drop(['CREDIT_CURRENCY','CREDIT_ACTIVE','CREDIT_TYPE'], axis = 1), \n",
        "                            currency_ohe, credit_active_ohe, credit_type_ohe], axis = 1)\n",
        "\n",
        "#aggregating the bureau_merged over all the columns\n",
        "bureau_merged_aggregated = bureau_merged.drop('SK_ID_BUREAU', axis = 1).groupby('SK_ID_CURR').agg('mean')\n",
        "bureau_merged_aggregated.columns = [ele + '_MEAN_OVERALL' for ele in bureau_merged_aggregated.columns]\n",
        "#merging it with aggregates over categories\n",
        "bureau_merged_aggregated = bureau_merged_aggregated.merge(bureau_merged_aggregated_credit, on = 'SK_ID_CURR', how = 'outer')"
      ],
      "metadata": {
        "id": "wdSTCRFMUWmx"
      },
      "execution_count": null,
      "outputs": []
    },
    {
      "cell_type": "code",
      "source": [
        "bureau_merged_aggregated.head()"
      ],
      "metadata": {
        "id": "ekZx47u-UWov",
        "colab": {
          "base_uri": "https://localhost:8080/",
          "height": 348
        },
        "outputId": "4d2010f9-b134-498e-e408-64bf261eaee5"
      },
      "execution_count": null,
      "outputs": [
        {
          "output_type": "execute_result",
          "data": {
            "text/html": [
              "\n",
              "  <div id=\"df-7ea56d08-5a34-40b8-98af-f31def8e1bc4\">\n",
              "    <div class=\"colab-df-container\">\n",
              "      <div>\n",
              "<style scoped>\n",
              "    .dataframe tbody tr th:only-of-type {\n",
              "        vertical-align: middle;\n",
              "    }\n",
              "\n",
              "    .dataframe tbody tr th {\n",
              "        vertical-align: top;\n",
              "    }\n",
              "\n",
              "    .dataframe thead th {\n",
              "        text-align: right;\n",
              "    }\n",
              "</style>\n",
              "<table border=\"1\" class=\"dataframe\">\n",
              "  <thead>\n",
              "    <tr style=\"text-align: right;\">\n",
              "      <th></th>\n",
              "      <th>DAYS_CREDIT_MEAN_OVERALL</th>\n",
              "      <th>CREDIT_DAY_OVERDUE_MEAN_OVERALL</th>\n",
              "      <th>DAYS_CREDIT_ENDDATE_MEAN_OVERALL</th>\n",
              "      <th>DAYS_ENDDATE_FACT_MEAN_OVERALL</th>\n",
              "      <th>AMT_CREDIT_MAX_OVERDUE_MEAN_OVERALL</th>\n",
              "      <th>CNT_CREDIT_PROLONG_MEAN_OVERALL</th>\n",
              "      <th>AMT_CREDIT_SUM_MEAN_OVERALL</th>\n",
              "      <th>AMT_CREDIT_SUM_DEBT_MEAN_OVERALL</th>\n",
              "      <th>AMT_CREDIT_SUM_LIMIT_MEAN_OVERALL</th>\n",
              "      <th>AMT_CREDIT_SUM_OVERDUE_MEAN_OVERALL</th>\n",
              "      <th>DAYS_CREDIT_UPDATE_MEAN_OVERALL</th>\n",
              "      <th>AMT_ANNUITY_MEAN_OVERALL</th>\n",
              "      <th>YEAR_BALANCE_MEAN_MEAN_OVERALL</th>\n",
              "      <th>YEAR_BALANCE_MAX_MEAN_OVERALL</th>\n",
              "      <th>STATUS_MEAN_MEAN_OVERALL</th>\n",
              "      <th>STATUS_MAX_MEAN_OVERALL</th>\n",
              "      <th>STATUS_FIRST_MEAN_OVERALL</th>\n",
              "      <th>WEIGHTED_STATUS_MEAN_MEAN_OVERALL</th>\n",
              "      <th>WEIGHTED_STATUS_SUM_MEAN_OVERALL</th>\n",
              "      <th>WEIGHTED_STATUS_FIRST_MEAN_OVERALL</th>\n",
              "      <th>EXP_ENCODED_STATUS_LAST_MEAN_OVERALL</th>\n",
              "      <th>EXP_WEIGHTED_STATUS_LAST_MEAN_OVERALL</th>\n",
              "      <th>CREDIT_DURATION_MEAN_OVERALL</th>\n",
              "      <th>FLAG_OVERDUE_RECENT_MEAN_OVERALL</th>\n",
              "      <th>MAX_AMT_OVERDUE_DURATION_RATIO_MEAN_OVERALL</th>\n",
              "      <th>CURRENT_AMT_OVERDUE_DURATION_RATIO_MEAN_OVERALL</th>\n",
              "      <th>AMT_OVERDUE_DURATION_LEFT_RATIO_MEAN_OVERALL</th>\n",
              "      <th>CNT_PROLONGED_MAX_OVERDUE_MUL_MEAN_OVERALL</th>\n",
              "      <th>CNT_PROLONGED_DURATION_RATIO_MEAN_OVERALL</th>\n",
              "      <th>CURRENT_DEBT_TO_CREDIT_RATIO_MEAN_OVERALL</th>\n",
              "      <th>CURRENT_CREDIT_DEBT_DIFF_MEAN_OVERALL</th>\n",
              "      <th>AMT_ANNUITY_CREDIT_RATIO_MEAN_OVERALL</th>\n",
              "      <th>CREDIT_ENDDATE_UPDATE_DIFF_MEAN_OVERALL</th>\n",
              "      <th>CURRENCY_currency 1_MEAN_OVERALL</th>\n",
              "      <th>CURRENCY_currency 2_MEAN_OVERALL</th>\n",
              "      <th>CURRENCY_currency 3_MEAN_OVERALL</th>\n",
              "      <th>CURRENCY_currency 4_MEAN_OVERALL</th>\n",
              "      <th>CREDIT_ACTIVE_Active_MEAN_OVERALL</th>\n",
              "      <th>CREDIT_ACTIVE_Bad debt_MEAN_OVERALL</th>\n",
              "      <th>CREDIT_ACTIVE_Closed_MEAN_OVERALL</th>\n",
              "      <th>...</th>\n",
              "      <th>CNT_CREDIT_PROLONG_MAXCREDIT_ACTIVE_REST</th>\n",
              "      <th>CNT_CREDIT_PROLONG_SUMCREDIT_ACTIVE_REST</th>\n",
              "      <th>AMT_CREDIT_SUM_SUMCREDIT_ACTIVE_REST</th>\n",
              "      <th>AMT_CREDIT_SUM_MAXCREDIT_ACTIVE_REST</th>\n",
              "      <th>AMT_CREDIT_SUM_DEBT_SUMCREDIT_ACTIVE_REST</th>\n",
              "      <th>AMT_CREDIT_SUM_LIMIT_MAXCREDIT_ACTIVE_REST</th>\n",
              "      <th>AMT_CREDIT_SUM_LIMIT_SUMCREDIT_ACTIVE_REST</th>\n",
              "      <th>AMT_CREDIT_SUM_OVERDUE_MAXCREDIT_ACTIVE_REST</th>\n",
              "      <th>AMT_CREDIT_SUM_OVERDUE_SUMCREDIT_ACTIVE_REST</th>\n",
              "      <th>DAYS_CREDIT_UPDATE_MEANCREDIT_ACTIVE_REST</th>\n",
              "      <th>DAYS_CREDIT_UPDATE_MINCREDIT_ACTIVE_REST</th>\n",
              "      <th>AMT_ANNUITY_MEANCREDIT_ACTIVE_REST</th>\n",
              "      <th>AMT_ANNUITY_SUMCREDIT_ACTIVE_REST</th>\n",
              "      <th>AMT_ANNUITY_MAXCREDIT_ACTIVE_REST</th>\n",
              "      <th>CREDIT_DURATION_MAXCREDIT_ACTIVE_REST</th>\n",
              "      <th>CREDIT_DURATION_MEANCREDIT_ACTIVE_REST</th>\n",
              "      <th>FLAG_OVERDUE_RECENT_SUMCREDIT_ACTIVE_REST</th>\n",
              "      <th>MAX_AMT_OVERDUE_DURATION_RATIO_MAXCREDIT_ACTIVE_REST</th>\n",
              "      <th>MAX_AMT_OVERDUE_DURATION_RATIO_SUMCREDIT_ACTIVE_REST</th>\n",
              "      <th>CURRENT_AMT_OVERDUE_DURATION_RATIO_MAXCREDIT_ACTIVE_REST</th>\n",
              "      <th>CURRENT_AMT_OVERDUE_DURATION_RATIO_SUMCREDIT_ACTIVE_REST</th>\n",
              "      <th>AMT_OVERDUE_DURATION_LEFT_RATIO_MAXCREDIT_ACTIVE_REST</th>\n",
              "      <th>AMT_OVERDUE_DURATION_LEFT_RATIO_MEANCREDIT_ACTIVE_REST</th>\n",
              "      <th>CNT_PROLONGED_MAX_OVERDUE_MUL_MEANCREDIT_ACTIVE_REST</th>\n",
              "      <th>CNT_PROLONGED_MAX_OVERDUE_MUL_MAXCREDIT_ACTIVE_REST</th>\n",
              "      <th>CNT_PROLONGED_DURATION_RATIO_MEANCREDIT_ACTIVE_REST</th>\n",
              "      <th>CNT_PROLONGED_DURATION_RATIO_MAXCREDIT_ACTIVE_REST</th>\n",
              "      <th>CURRENT_DEBT_TO_CREDIT_RATIO_MEANCREDIT_ACTIVE_REST</th>\n",
              "      <th>CURRENT_DEBT_TO_CREDIT_RATIO_MINCREDIT_ACTIVE_REST</th>\n",
              "      <th>CURRENT_CREDIT_DEBT_DIFF_MEANCREDIT_ACTIVE_REST</th>\n",
              "      <th>CURRENT_CREDIT_DEBT_DIFF_MINCREDIT_ACTIVE_REST</th>\n",
              "      <th>AMT_ANNUITY_CREDIT_RATIO_MEANCREDIT_ACTIVE_REST</th>\n",
              "      <th>AMT_ANNUITY_CREDIT_RATIO_MAXCREDIT_ACTIVE_REST</th>\n",
              "      <th>AMT_ANNUITY_CREDIT_RATIO_MINCREDIT_ACTIVE_REST</th>\n",
              "      <th>CREDIT_ENDDATE_UPDATE_DIFF_MAXCREDIT_ACTIVE_REST</th>\n",
              "      <th>CREDIT_ENDDATE_UPDATE_DIFF_MINCREDIT_ACTIVE_REST</th>\n",
              "      <th>STATUS_MEAN_MEANCREDIT_ACTIVE_REST</th>\n",
              "      <th>STATUS_MEAN_MAXCREDIT_ACTIVE_REST</th>\n",
              "      <th>WEIGHTED_STATUS_MEAN_MEANCREDIT_ACTIVE_REST</th>\n",
              "      <th>WEIGHTED_STATUS_MEAN_MAXCREDIT_ACTIVE_REST</th>\n",
              "    </tr>\n",
              "    <tr>\n",
              "      <th>SK_ID_CURR</th>\n",
              "      <th></th>\n",
              "      <th></th>\n",
              "      <th></th>\n",
              "      <th></th>\n",
              "      <th></th>\n",
              "      <th></th>\n",
              "      <th></th>\n",
              "      <th></th>\n",
              "      <th></th>\n",
              "      <th></th>\n",
              "      <th></th>\n",
              "      <th></th>\n",
              "      <th></th>\n",
              "      <th></th>\n",
              "      <th></th>\n",
              "      <th></th>\n",
              "      <th></th>\n",
              "      <th></th>\n",
              "      <th></th>\n",
              "      <th></th>\n",
              "      <th></th>\n",
              "      <th></th>\n",
              "      <th></th>\n",
              "      <th></th>\n",
              "      <th></th>\n",
              "      <th></th>\n",
              "      <th></th>\n",
              "      <th></th>\n",
              "      <th></th>\n",
              "      <th></th>\n",
              "      <th></th>\n",
              "      <th></th>\n",
              "      <th></th>\n",
              "      <th></th>\n",
              "      <th></th>\n",
              "      <th></th>\n",
              "      <th></th>\n",
              "      <th></th>\n",
              "      <th></th>\n",
              "      <th></th>\n",
              "      <th></th>\n",
              "      <th></th>\n",
              "      <th></th>\n",
              "      <th></th>\n",
              "      <th></th>\n",
              "      <th></th>\n",
              "      <th></th>\n",
              "      <th></th>\n",
              "      <th></th>\n",
              "      <th></th>\n",
              "      <th></th>\n",
              "      <th></th>\n",
              "      <th></th>\n",
              "      <th></th>\n",
              "      <th></th>\n",
              "      <th></th>\n",
              "      <th></th>\n",
              "      <th></th>\n",
              "      <th></th>\n",
              "      <th></th>\n",
              "      <th></th>\n",
              "      <th></th>\n",
              "      <th></th>\n",
              "      <th></th>\n",
              "      <th></th>\n",
              "      <th></th>\n",
              "      <th></th>\n",
              "      <th></th>\n",
              "      <th></th>\n",
              "      <th></th>\n",
              "      <th></th>\n",
              "      <th></th>\n",
              "      <th></th>\n",
              "      <th></th>\n",
              "      <th></th>\n",
              "      <th></th>\n",
              "      <th></th>\n",
              "      <th></th>\n",
              "      <th></th>\n",
              "      <th></th>\n",
              "      <th></th>\n",
              "    </tr>\n",
              "  </thead>\n",
              "  <tbody>\n",
              "    <tr>\n",
              "      <th>100001</th>\n",
              "      <td>-735.000000</td>\n",
              "      <td>0.0</td>\n",
              "      <td>NaN</td>\n",
              "      <td>NaN</td>\n",
              "      <td>NaN</td>\n",
              "      <td>0.0</td>\n",
              "      <td>207623.571429</td>\n",
              "      <td>85240.928571</td>\n",
              "      <td>0.00000</td>\n",
              "      <td>0.0</td>\n",
              "      <td>NaN</td>\n",
              "      <td>3545.357143</td>\n",
              "      <td>0.625424</td>\n",
              "      <td>1.571429</td>\n",
              "      <td>1.210048</td>\n",
              "      <td>3.142857</td>\n",
              "      <td>2.714286</td>\n",
              "      <td>0.316086</td>\n",
              "      <td>2.246056</td>\n",
              "      <td>0.361380</td>\n",
              "      <td>0.614309</td>\n",
              "      <td>0.535977</td>\n",
              "      <td>NaN</td>\n",
              "      <td>0.0</td>\n",
              "      <td>NaN</td>\n",
              "      <td>NaN</td>\n",
              "      <td>NaN</td>\n",
              "      <td>NaN</td>\n",
              "      <td>NaN</td>\n",
              "      <td>0.282518</td>\n",
              "      <td>122382.642857</td>\n",
              "      <td>0.013996</td>\n",
              "      <td>NaN</td>\n",
              "      <td>1.0</td>\n",
              "      <td>0.0</td>\n",
              "      <td>0.0</td>\n",
              "      <td>0.0</td>\n",
              "      <td>0.428571</td>\n",
              "      <td>0.0</td>\n",
              "      <td>0.571429</td>\n",
              "      <td>...</td>\n",
              "      <td>NaN</td>\n",
              "      <td>NaN</td>\n",
              "      <td>NaN</td>\n",
              "      <td>NaN</td>\n",
              "      <td>NaN</td>\n",
              "      <td>NaN</td>\n",
              "      <td>NaN</td>\n",
              "      <td>NaN</td>\n",
              "      <td>NaN</td>\n",
              "      <td>NaN</td>\n",
              "      <td>NaN</td>\n",
              "      <td>NaN</td>\n",
              "      <td>NaN</td>\n",
              "      <td>NaN</td>\n",
              "      <td>NaN</td>\n",
              "      <td>NaN</td>\n",
              "      <td>NaN</td>\n",
              "      <td>NaN</td>\n",
              "      <td>NaN</td>\n",
              "      <td>NaN</td>\n",
              "      <td>NaN</td>\n",
              "      <td>NaN</td>\n",
              "      <td>NaN</td>\n",
              "      <td>NaN</td>\n",
              "      <td>NaN</td>\n",
              "      <td>NaN</td>\n",
              "      <td>NaN</td>\n",
              "      <td>NaN</td>\n",
              "      <td>NaN</td>\n",
              "      <td>NaN</td>\n",
              "      <td>NaN</td>\n",
              "      <td>NaN</td>\n",
              "      <td>NaN</td>\n",
              "      <td>NaN</td>\n",
              "      <td>NaN</td>\n",
              "      <td>NaN</td>\n",
              "      <td>NaN</td>\n",
              "      <td>NaN</td>\n",
              "      <td>NaN</td>\n",
              "      <td>NaN</td>\n",
              "    </tr>\n",
              "    <tr>\n",
              "      <th>100002</th>\n",
              "      <td>-874.000000</td>\n",
              "      <td>0.0</td>\n",
              "      <td>NaN</td>\n",
              "      <td>NaN</td>\n",
              "      <td>1681.029</td>\n",
              "      <td>0.0</td>\n",
              "      <td>108131.945625</td>\n",
              "      <td>49156.200000</td>\n",
              "      <td>7997.14125</td>\n",
              "      <td>0.0</td>\n",
              "      <td>NaN</td>\n",
              "      <td>0.000000</td>\n",
              "      <td>1.360795</td>\n",
              "      <td>1.875000</td>\n",
              "      <td>1.566051</td>\n",
              "      <td>3.375000</td>\n",
              "      <td>3.250000</td>\n",
              "      <td>0.164506</td>\n",
              "      <td>1.114966</td>\n",
              "      <td>0.204509</td>\n",
              "      <td>0.332864</td>\n",
              "      <td>0.125860</td>\n",
              "      <td>NaN</td>\n",
              "      <td>0.0</td>\n",
              "      <td>NaN</td>\n",
              "      <td>NaN</td>\n",
              "      <td>NaN</td>\n",
              "      <td>0.0</td>\n",
              "      <td>NaN</td>\n",
              "      <td>0.109236</td>\n",
              "      <td>98388.513000</td>\n",
              "      <td>0.000000</td>\n",
              "      <td>NaN</td>\n",
              "      <td>1.0</td>\n",
              "      <td>0.0</td>\n",
              "      <td>0.0</td>\n",
              "      <td>0.0</td>\n",
              "      <td>0.250000</td>\n",
              "      <td>0.0</td>\n",
              "      <td>0.750000</td>\n",
              "      <td>...</td>\n",
              "      <td>NaN</td>\n",
              "      <td>NaN</td>\n",
              "      <td>NaN</td>\n",
              "      <td>NaN</td>\n",
              "      <td>NaN</td>\n",
              "      <td>NaN</td>\n",
              "      <td>NaN</td>\n",
              "      <td>NaN</td>\n",
              "      <td>NaN</td>\n",
              "      <td>NaN</td>\n",
              "      <td>NaN</td>\n",
              "      <td>NaN</td>\n",
              "      <td>NaN</td>\n",
              "      <td>NaN</td>\n",
              "      <td>NaN</td>\n",
              "      <td>NaN</td>\n",
              "      <td>NaN</td>\n",
              "      <td>NaN</td>\n",
              "      <td>NaN</td>\n",
              "      <td>NaN</td>\n",
              "      <td>NaN</td>\n",
              "      <td>NaN</td>\n",
              "      <td>NaN</td>\n",
              "      <td>NaN</td>\n",
              "      <td>NaN</td>\n",
              "      <td>NaN</td>\n",
              "      <td>NaN</td>\n",
              "      <td>NaN</td>\n",
              "      <td>NaN</td>\n",
              "      <td>NaN</td>\n",
              "      <td>NaN</td>\n",
              "      <td>NaN</td>\n",
              "      <td>NaN</td>\n",
              "      <td>NaN</td>\n",
              "      <td>NaN</td>\n",
              "      <td>NaN</td>\n",
              "      <td>NaN</td>\n",
              "      <td>NaN</td>\n",
              "      <td>NaN</td>\n",
              "      <td>NaN</td>\n",
              "    </tr>\n",
              "    <tr>\n",
              "      <th>100003</th>\n",
              "      <td>-1400.750000</td>\n",
              "      <td>0.0</td>\n",
              "      <td>NaN</td>\n",
              "      <td>NaN</td>\n",
              "      <td>0.000</td>\n",
              "      <td>0.0</td>\n",
              "      <td>254350.125000</td>\n",
              "      <td>0.000000</td>\n",
              "      <td>202500.00000</td>\n",
              "      <td>0.0</td>\n",
              "      <td>NaN</td>\n",
              "      <td>NaN</td>\n",
              "      <td>NaN</td>\n",
              "      <td>NaN</td>\n",
              "      <td>NaN</td>\n",
              "      <td>NaN</td>\n",
              "      <td>NaN</td>\n",
              "      <td>NaN</td>\n",
              "      <td>NaN</td>\n",
              "      <td>NaN</td>\n",
              "      <td>NaN</td>\n",
              "      <td>NaN</td>\n",
              "      <td>NaN</td>\n",
              "      <td>0.0</td>\n",
              "      <td>NaN</td>\n",
              "      <td>NaN</td>\n",
              "      <td>NaN</td>\n",
              "      <td>0.0</td>\n",
              "      <td>NaN</td>\n",
              "      <td>0.000000</td>\n",
              "      <td>254350.125000</td>\n",
              "      <td>NaN</td>\n",
              "      <td>NaN</td>\n",
              "      <td>1.0</td>\n",
              "      <td>0.0</td>\n",
              "      <td>0.0</td>\n",
              "      <td>0.0</td>\n",
              "      <td>0.250000</td>\n",
              "      <td>0.0</td>\n",
              "      <td>0.750000</td>\n",
              "      <td>...</td>\n",
              "      <td>NaN</td>\n",
              "      <td>NaN</td>\n",
              "      <td>NaN</td>\n",
              "      <td>NaN</td>\n",
              "      <td>NaN</td>\n",
              "      <td>NaN</td>\n",
              "      <td>NaN</td>\n",
              "      <td>NaN</td>\n",
              "      <td>NaN</td>\n",
              "      <td>NaN</td>\n",
              "      <td>NaN</td>\n",
              "      <td>NaN</td>\n",
              "      <td>NaN</td>\n",
              "      <td>NaN</td>\n",
              "      <td>NaN</td>\n",
              "      <td>NaN</td>\n",
              "      <td>NaN</td>\n",
              "      <td>NaN</td>\n",
              "      <td>NaN</td>\n",
              "      <td>NaN</td>\n",
              "      <td>NaN</td>\n",
              "      <td>NaN</td>\n",
              "      <td>NaN</td>\n",
              "      <td>NaN</td>\n",
              "      <td>NaN</td>\n",
              "      <td>NaN</td>\n",
              "      <td>NaN</td>\n",
              "      <td>NaN</td>\n",
              "      <td>NaN</td>\n",
              "      <td>NaN</td>\n",
              "      <td>NaN</td>\n",
              "      <td>NaN</td>\n",
              "      <td>NaN</td>\n",
              "      <td>NaN</td>\n",
              "      <td>NaN</td>\n",
              "      <td>NaN</td>\n",
              "      <td>NaN</td>\n",
              "      <td>NaN</td>\n",
              "      <td>NaN</td>\n",
              "      <td>NaN</td>\n",
              "    </tr>\n",
              "    <tr>\n",
              "      <th>100004</th>\n",
              "      <td>-867.000000</td>\n",
              "      <td>0.0</td>\n",
              "      <td>NaN</td>\n",
              "      <td>NaN</td>\n",
              "      <td>0.000</td>\n",
              "      <td>0.0</td>\n",
              "      <td>94518.900000</td>\n",
              "      <td>0.000000</td>\n",
              "      <td>0.00000</td>\n",
              "      <td>0.0</td>\n",
              "      <td>NaN</td>\n",
              "      <td>NaN</td>\n",
              "      <td>NaN</td>\n",
              "      <td>NaN</td>\n",
              "      <td>NaN</td>\n",
              "      <td>NaN</td>\n",
              "      <td>NaN</td>\n",
              "      <td>NaN</td>\n",
              "      <td>NaN</td>\n",
              "      <td>NaN</td>\n",
              "      <td>NaN</td>\n",
              "      <td>NaN</td>\n",
              "      <td>NaN</td>\n",
              "      <td>0.0</td>\n",
              "      <td>NaN</td>\n",
              "      <td>NaN</td>\n",
              "      <td>NaN</td>\n",
              "      <td>0.0</td>\n",
              "      <td>NaN</td>\n",
              "      <td>0.000000</td>\n",
              "      <td>94518.900000</td>\n",
              "      <td>NaN</td>\n",
              "      <td>NaN</td>\n",
              "      <td>1.0</td>\n",
              "      <td>0.0</td>\n",
              "      <td>0.0</td>\n",
              "      <td>0.0</td>\n",
              "      <td>0.000000</td>\n",
              "      <td>0.0</td>\n",
              "      <td>1.000000</td>\n",
              "      <td>...</td>\n",
              "      <td>NaN</td>\n",
              "      <td>NaN</td>\n",
              "      <td>NaN</td>\n",
              "      <td>NaN</td>\n",
              "      <td>NaN</td>\n",
              "      <td>NaN</td>\n",
              "      <td>NaN</td>\n",
              "      <td>NaN</td>\n",
              "      <td>NaN</td>\n",
              "      <td>NaN</td>\n",
              "      <td>NaN</td>\n",
              "      <td>NaN</td>\n",
              "      <td>NaN</td>\n",
              "      <td>NaN</td>\n",
              "      <td>NaN</td>\n",
              "      <td>NaN</td>\n",
              "      <td>NaN</td>\n",
              "      <td>NaN</td>\n",
              "      <td>NaN</td>\n",
              "      <td>NaN</td>\n",
              "      <td>NaN</td>\n",
              "      <td>NaN</td>\n",
              "      <td>NaN</td>\n",
              "      <td>NaN</td>\n",
              "      <td>NaN</td>\n",
              "      <td>NaN</td>\n",
              "      <td>NaN</td>\n",
              "      <td>NaN</td>\n",
              "      <td>NaN</td>\n",
              "      <td>NaN</td>\n",
              "      <td>NaN</td>\n",
              "      <td>NaN</td>\n",
              "      <td>NaN</td>\n",
              "      <td>NaN</td>\n",
              "      <td>NaN</td>\n",
              "      <td>NaN</td>\n",
              "      <td>NaN</td>\n",
              "      <td>NaN</td>\n",
              "      <td>NaN</td>\n",
              "      <td>NaN</td>\n",
              "    </tr>\n",
              "    <tr>\n",
              "      <th>100005</th>\n",
              "      <td>-190.666667</td>\n",
              "      <td>0.0</td>\n",
              "      <td>NaN</td>\n",
              "      <td>NaN</td>\n",
              "      <td>0.000</td>\n",
              "      <td>0.0</td>\n",
              "      <td>219042.000000</td>\n",
              "      <td>189469.500000</td>\n",
              "      <td>0.00000</td>\n",
              "      <td>0.0</td>\n",
              "      <td>NaN</td>\n",
              "      <td>1420.500000</td>\n",
              "      <td>0.025641</td>\n",
              "      <td>0.333333</td>\n",
              "      <td>1.282051</td>\n",
              "      <td>3.000000</td>\n",
              "      <td>2.000000</td>\n",
              "      <td>0.718171</td>\n",
              "      <td>2.748079</td>\n",
              "      <td>0.280342</td>\n",
              "      <td>1.473225</td>\n",
              "      <td>1.403355</td>\n",
              "      <td>NaN</td>\n",
              "      <td>0.0</td>\n",
              "      <td>NaN</td>\n",
              "      <td>NaN</td>\n",
              "      <td>NaN</td>\n",
              "      <td>0.0</td>\n",
              "      <td>NaN</td>\n",
              "      <td>0.601256</td>\n",
              "      <td>29572.500000</td>\n",
              "      <td>0.047626</td>\n",
              "      <td>NaN</td>\n",
              "      <td>1.0</td>\n",
              "      <td>0.0</td>\n",
              "      <td>0.0</td>\n",
              "      <td>0.0</td>\n",
              "      <td>0.666667</td>\n",
              "      <td>0.0</td>\n",
              "      <td>0.333333</td>\n",
              "      <td>...</td>\n",
              "      <td>NaN</td>\n",
              "      <td>NaN</td>\n",
              "      <td>NaN</td>\n",
              "      <td>NaN</td>\n",
              "      <td>NaN</td>\n",
              "      <td>NaN</td>\n",
              "      <td>NaN</td>\n",
              "      <td>NaN</td>\n",
              "      <td>NaN</td>\n",
              "      <td>NaN</td>\n",
              "      <td>NaN</td>\n",
              "      <td>NaN</td>\n",
              "      <td>NaN</td>\n",
              "      <td>NaN</td>\n",
              "      <td>NaN</td>\n",
              "      <td>NaN</td>\n",
              "      <td>NaN</td>\n",
              "      <td>NaN</td>\n",
              "      <td>NaN</td>\n",
              "      <td>NaN</td>\n",
              "      <td>NaN</td>\n",
              "      <td>NaN</td>\n",
              "      <td>NaN</td>\n",
              "      <td>NaN</td>\n",
              "      <td>NaN</td>\n",
              "      <td>NaN</td>\n",
              "      <td>NaN</td>\n",
              "      <td>NaN</td>\n",
              "      <td>NaN</td>\n",
              "      <td>NaN</td>\n",
              "      <td>NaN</td>\n",
              "      <td>NaN</td>\n",
              "      <td>NaN</td>\n",
              "      <td>NaN</td>\n",
              "      <td>NaN</td>\n",
              "      <td>NaN</td>\n",
              "      <td>NaN</td>\n",
              "      <td>NaN</td>\n",
              "      <td>NaN</td>\n",
              "      <td>NaN</td>\n",
              "    </tr>\n",
              "  </tbody>\n",
              "</table>\n",
              "<p>5 rows × 212 columns</p>\n",
              "</div>\n",
              "      <button class=\"colab-df-convert\" onclick=\"convertToInteractive('df-7ea56d08-5a34-40b8-98af-f31def8e1bc4')\"\n",
              "              title=\"Convert this dataframe to an interactive table.\"\n",
              "              style=\"display:none;\">\n",
              "        \n",
              "  <svg xmlns=\"http://www.w3.org/2000/svg\" height=\"24px\"viewBox=\"0 0 24 24\"\n",
              "       width=\"24px\">\n",
              "    <path d=\"M0 0h24v24H0V0z\" fill=\"none\"/>\n",
              "    <path d=\"M18.56 5.44l.94 2.06.94-2.06 2.06-.94-2.06-.94-.94-2.06-.94 2.06-2.06.94zm-11 1L8.5 8.5l.94-2.06 2.06-.94-2.06-.94L8.5 2.5l-.94 2.06-2.06.94zm10 10l.94 2.06.94-2.06 2.06-.94-2.06-.94-.94-2.06-.94 2.06-2.06.94z\"/><path d=\"M17.41 7.96l-1.37-1.37c-.4-.4-.92-.59-1.43-.59-.52 0-1.04.2-1.43.59L10.3 9.45l-7.72 7.72c-.78.78-.78 2.05 0 2.83L4 21.41c.39.39.9.59 1.41.59.51 0 1.02-.2 1.41-.59l7.78-7.78 2.81-2.81c.8-.78.8-2.07 0-2.86zM5.41 20L4 18.59l7.72-7.72 1.47 1.35L5.41 20z\"/>\n",
              "  </svg>\n",
              "      </button>\n",
              "      \n",
              "  <style>\n",
              "    .colab-df-container {\n",
              "      display:flex;\n",
              "      flex-wrap:wrap;\n",
              "      gap: 12px;\n",
              "    }\n",
              "\n",
              "    .colab-df-convert {\n",
              "      background-color: #E8F0FE;\n",
              "      border: none;\n",
              "      border-radius: 50%;\n",
              "      cursor: pointer;\n",
              "      display: none;\n",
              "      fill: #1967D2;\n",
              "      height: 32px;\n",
              "      padding: 0 0 0 0;\n",
              "      width: 32px;\n",
              "    }\n",
              "\n",
              "    .colab-df-convert:hover {\n",
              "      background-color: #E2EBFA;\n",
              "      box-shadow: 0px 1px 2px rgba(60, 64, 67, 0.3), 0px 1px 3px 1px rgba(60, 64, 67, 0.15);\n",
              "      fill: #174EA6;\n",
              "    }\n",
              "\n",
              "    [theme=dark] .colab-df-convert {\n",
              "      background-color: #3B4455;\n",
              "      fill: #D2E3FC;\n",
              "    }\n",
              "\n",
              "    [theme=dark] .colab-df-convert:hover {\n",
              "      background-color: #434B5C;\n",
              "      box-shadow: 0px 1px 3px 1px rgba(0, 0, 0, 0.15);\n",
              "      filter: drop-shadow(0px 1px 2px rgba(0, 0, 0, 0.3));\n",
              "      fill: #FFFFFF;\n",
              "    }\n",
              "  </style>\n",
              "\n",
              "      <script>\n",
              "        const buttonEl =\n",
              "          document.querySelector('#df-7ea56d08-5a34-40b8-98af-f31def8e1bc4 button.colab-df-convert');\n",
              "        buttonEl.style.display =\n",
              "          google.colab.kernel.accessAllowed ? 'block' : 'none';\n",
              "\n",
              "        async function convertToInteractive(key) {\n",
              "          const element = document.querySelector('#df-7ea56d08-5a34-40b8-98af-f31def8e1bc4');\n",
              "          const dataTable =\n",
              "            await google.colab.kernel.invokeFunction('convertToInteractive',\n",
              "                                                     [key], {});\n",
              "          if (!dataTable) return;\n",
              "\n",
              "          const docLinkHtml = 'Like what you see? Visit the ' +\n",
              "            '<a target=\"_blank\" href=https://colab.research.google.com/notebooks/data_table.ipynb>data table notebook</a>'\n",
              "            + ' to learn more about interactive tables.';\n",
              "          element.innerHTML = '';\n",
              "          dataTable['output_type'] = 'display_data';\n",
              "          await google.colab.output.renderOutput(dataTable, element);\n",
              "          const docLink = document.createElement('div');\n",
              "          docLink.innerHTML = docLinkHtml;\n",
              "          element.appendChild(docLink);\n",
              "        }\n",
              "      </script>\n",
              "    </div>\n",
              "  </div>\n",
              "  "
            ],
            "text/plain": [
              "            DAYS_CREDIT_MEAN_OVERALL  ...  WEIGHTED_STATUS_MEAN_MAXCREDIT_ACTIVE_REST\n",
              "SK_ID_CURR                            ...                                            \n",
              "100001                   -735.000000  ...                                         NaN\n",
              "100002                   -874.000000  ...                                         NaN\n",
              "100003                  -1400.750000  ...                                         NaN\n",
              "100004                   -867.000000  ...                                         NaN\n",
              "100005                   -190.666667  ...                                         NaN\n",
              "\n",
              "[5 rows x 212 columns]"
            ]
          },
          "metadata": {},
          "execution_count": 23
        }
      ]
    },
    {
      "cell_type": "code",
      "source": [
        "bureau_merged_aggregated.shape"
      ],
      "metadata": {
        "id": "fIiLwkvSUWsI",
        "colab": {
          "base_uri": "https://localhost:8080/"
        },
        "outputId": "fb5c623b-17ad-42e6-b51b-45ac354c2934"
      },
      "execution_count": null,
      "outputs": [
        {
          "output_type": "execute_result",
          "data": {
            "text/plain": [
              "(305811, 212)"
            ]
          },
          "metadata": {},
          "execution_count": 24
        }
      ]
    },
    {
      "cell_type": "code",
      "source": [
        ""
      ],
      "metadata": {
        "id": "IbDAxrv-5eYm"
      },
      "execution_count": null,
      "outputs": []
    },
    {
      "cell_type": "code",
      "source": [
        "def filling_line_rate(df):\n",
        "  find_rate_l =  df.copy()\n",
        "  find_rate_l = find_rate_l.replace(to_replace = '^nan$', value = np.nan, regex=True)\n",
        "  nb_lines = find_rate_l.shape[0]\n",
        "  nb_columns = find_rate_l.shape[1]\n",
        "                  \n",
        "  find_rate_l['taux_remplissage_lines'] = (df.apply(lambda x: x.count(), axis=1)/nb_columns)\n",
        "      \n",
        "  filling_rate = []\n",
        "  remove_line = []\n",
        "\n",
        "  for i in range(0, 11, 1):\n",
        "      taux_remplissage = i/10.0\n",
        "      \n",
        "      filling_rate.append(taux_remplissage*100)\n",
        "      df_2 = find_rate_l[find_rate_l['taux_remplissage_lines'] > taux_remplissage]\n",
        "                \n",
        "      #number of lines in the end\n",
        "      nb_lines_supp = nb_lines - df_2.shape[0]\n",
        "      remove_line.append(nb_lines_supp)\n",
        "    \n",
        "      del df_2['taux_remplissage_lines']\n",
        "      \n",
        "  find_rate_l = pd.DataFrame(\n",
        "      {'filling_rate': filling_rate,\n",
        "      'remove_lines': remove_line})\n",
        "  find_rate_l\n",
        "  print('==================================================================')\n",
        "\n",
        "  sns.lineplot(data=find_rate_l, x=\"filling_rate\", y=\"remove_columns\")"
      ],
      "metadata": {
        "id": "dONYcgX9rfTz"
      },
      "execution_count": null,
      "outputs": []
    },
    {
      "cell_type": "code",
      "source": [
        "filling_line_rate(bureau_balance)"
      ],
      "metadata": {
        "colab": {
          "base_uri": "https://localhost:8080/",
          "height": 310
        },
        "id": "z1REckcQthz-",
        "outputId": "1c2f3e50-bbce-4286-9b2a-027824614b55"
      },
      "execution_count": null,
      "outputs": [
        {
          "output_type": "error",
          "ename": "KeyboardInterrupt",
          "evalue": "ignored",
          "traceback": [
            "\u001b[0;31m---------------------------------------------------------------------------\u001b[0m",
            "\u001b[0;31mKeyboardInterrupt\u001b[0m                         Traceback (most recent call last)",
            "\u001b[0;32m<ipython-input-23-15399129e0e9>\u001b[0m in \u001b[0;36m<module>\u001b[0;34m()\u001b[0m\n\u001b[0;32m----> 1\u001b[0;31m \u001b[0mfilling_line_rate\u001b[0m\u001b[0;34m(\u001b[0m\u001b[0mbureau_balance\u001b[0m\u001b[0;34m)\u001b[0m\u001b[0;34m\u001b[0m\u001b[0;34m\u001b[0m\u001b[0m\n\u001b[0m",
            "\u001b[0;32m<ipython-input-22-5f7ee39c7b03>\u001b[0m in \u001b[0;36mfilling_line_rate\u001b[0;34m(df)\u001b[0m\n\u001b[1;32m      5\u001b[0m   \u001b[0mnb_columns\u001b[0m \u001b[0;34m=\u001b[0m \u001b[0mfind_rate_l\u001b[0m\u001b[0;34m.\u001b[0m\u001b[0mshape\u001b[0m\u001b[0;34m[\u001b[0m\u001b[0;36m1\u001b[0m\u001b[0;34m]\u001b[0m\u001b[0;34m\u001b[0m\u001b[0;34m\u001b[0m\u001b[0m\n\u001b[1;32m      6\u001b[0m \u001b[0;34m\u001b[0m\u001b[0m\n\u001b[0;32m----> 7\u001b[0;31m   \u001b[0mfind_rate_l\u001b[0m\u001b[0;34m[\u001b[0m\u001b[0;34m'taux_remplissage_lines'\u001b[0m\u001b[0;34m]\u001b[0m \u001b[0;34m=\u001b[0m \u001b[0;34m(\u001b[0m\u001b[0mdf\u001b[0m\u001b[0;34m.\u001b[0m\u001b[0mapply\u001b[0m\u001b[0;34m(\u001b[0m\u001b[0;32mlambda\u001b[0m \u001b[0mx\u001b[0m\u001b[0;34m:\u001b[0m \u001b[0mx\u001b[0m\u001b[0;34m.\u001b[0m\u001b[0mcount\u001b[0m\u001b[0;34m(\u001b[0m\u001b[0;34m)\u001b[0m\u001b[0;34m,\u001b[0m \u001b[0maxis\u001b[0m\u001b[0;34m=\u001b[0m\u001b[0;36m1\u001b[0m\u001b[0;34m)\u001b[0m\u001b[0;34m/\u001b[0m\u001b[0mnb_columns\u001b[0m\u001b[0;34m)\u001b[0m\u001b[0;34m\u001b[0m\u001b[0;34m\u001b[0m\u001b[0m\n\u001b[0m\u001b[1;32m      8\u001b[0m \u001b[0;34m\u001b[0m\u001b[0m\n\u001b[1;32m      9\u001b[0m   \u001b[0mfilling_rate\u001b[0m \u001b[0;34m=\u001b[0m \u001b[0;34m[\u001b[0m\u001b[0;34m]\u001b[0m\u001b[0;34m\u001b[0m\u001b[0;34m\u001b[0m\u001b[0m\n",
            "\u001b[0;32m/usr/local/lib/python3.7/dist-packages/pandas/core/frame.py\u001b[0m in \u001b[0;36mapply\u001b[0;34m(self, func, axis, raw, result_type, args, **kwargs)\u001b[0m\n\u001b[1;32m   8738\u001b[0m             \u001b[0mkwargs\u001b[0m\u001b[0;34m=\u001b[0m\u001b[0mkwargs\u001b[0m\u001b[0;34m,\u001b[0m\u001b[0;34m\u001b[0m\u001b[0;34m\u001b[0m\u001b[0m\n\u001b[1;32m   8739\u001b[0m         )\n\u001b[0;32m-> 8740\u001b[0;31m         \u001b[0;32mreturn\u001b[0m \u001b[0mop\u001b[0m\u001b[0;34m.\u001b[0m\u001b[0mapply\u001b[0m\u001b[0;34m(\u001b[0m\u001b[0;34m)\u001b[0m\u001b[0;34m\u001b[0m\u001b[0;34m\u001b[0m\u001b[0m\n\u001b[0m\u001b[1;32m   8741\u001b[0m \u001b[0;34m\u001b[0m\u001b[0m\n\u001b[1;32m   8742\u001b[0m     def applymap(\n",
            "\u001b[0;32m/usr/local/lib/python3.7/dist-packages/pandas/core/apply.py\u001b[0m in \u001b[0;36mapply\u001b[0;34m(self)\u001b[0m\n\u001b[1;32m    686\u001b[0m             \u001b[0;32mreturn\u001b[0m \u001b[0mself\u001b[0m\u001b[0;34m.\u001b[0m\u001b[0mapply_raw\u001b[0m\u001b[0;34m(\u001b[0m\u001b[0;34m)\u001b[0m\u001b[0;34m\u001b[0m\u001b[0;34m\u001b[0m\u001b[0m\n\u001b[1;32m    687\u001b[0m \u001b[0;34m\u001b[0m\u001b[0m\n\u001b[0;32m--> 688\u001b[0;31m         \u001b[0;32mreturn\u001b[0m \u001b[0mself\u001b[0m\u001b[0;34m.\u001b[0m\u001b[0mapply_standard\u001b[0m\u001b[0;34m(\u001b[0m\u001b[0;34m)\u001b[0m\u001b[0;34m\u001b[0m\u001b[0;34m\u001b[0m\u001b[0m\n\u001b[0m\u001b[1;32m    689\u001b[0m \u001b[0;34m\u001b[0m\u001b[0m\n\u001b[1;32m    690\u001b[0m     \u001b[0;32mdef\u001b[0m \u001b[0magg\u001b[0m\u001b[0;34m(\u001b[0m\u001b[0mself\u001b[0m\u001b[0;34m)\u001b[0m\u001b[0;34m:\u001b[0m\u001b[0;34m\u001b[0m\u001b[0;34m\u001b[0m\u001b[0m\n",
            "\u001b[0;32m/usr/local/lib/python3.7/dist-packages/pandas/core/apply.py\u001b[0m in \u001b[0;36mapply_standard\u001b[0;34m(self)\u001b[0m\n\u001b[1;32m    810\u001b[0m \u001b[0;34m\u001b[0m\u001b[0m\n\u001b[1;32m    811\u001b[0m     \u001b[0;32mdef\u001b[0m \u001b[0mapply_standard\u001b[0m\u001b[0;34m(\u001b[0m\u001b[0mself\u001b[0m\u001b[0;34m)\u001b[0m\u001b[0;34m:\u001b[0m\u001b[0;34m\u001b[0m\u001b[0;34m\u001b[0m\u001b[0m\n\u001b[0;32m--> 812\u001b[0;31m         \u001b[0mresults\u001b[0m\u001b[0;34m,\u001b[0m \u001b[0mres_index\u001b[0m \u001b[0;34m=\u001b[0m \u001b[0mself\u001b[0m\u001b[0;34m.\u001b[0m\u001b[0mapply_series_generator\u001b[0m\u001b[0;34m(\u001b[0m\u001b[0;34m)\u001b[0m\u001b[0;34m\u001b[0m\u001b[0;34m\u001b[0m\u001b[0m\n\u001b[0m\u001b[1;32m    813\u001b[0m \u001b[0;34m\u001b[0m\u001b[0m\n\u001b[1;32m    814\u001b[0m         \u001b[0;31m# wrap results\u001b[0m\u001b[0;34m\u001b[0m\u001b[0;34m\u001b[0m\u001b[0;34m\u001b[0m\u001b[0m\n",
            "\u001b[0;32m/usr/local/lib/python3.7/dist-packages/pandas/core/apply.py\u001b[0m in \u001b[0;36mapply_series_generator\u001b[0;34m(self)\u001b[0m\n\u001b[1;32m    826\u001b[0m             \u001b[0;32mfor\u001b[0m \u001b[0mi\u001b[0m\u001b[0;34m,\u001b[0m \u001b[0mv\u001b[0m \u001b[0;32min\u001b[0m \u001b[0menumerate\u001b[0m\u001b[0;34m(\u001b[0m\u001b[0mseries_gen\u001b[0m\u001b[0;34m)\u001b[0m\u001b[0;34m:\u001b[0m\u001b[0;34m\u001b[0m\u001b[0;34m\u001b[0m\u001b[0m\n\u001b[1;32m    827\u001b[0m                 \u001b[0;31m# ignore SettingWithCopy here in case the user mutates\u001b[0m\u001b[0;34m\u001b[0m\u001b[0;34m\u001b[0m\u001b[0;34m\u001b[0m\u001b[0m\n\u001b[0;32m--> 828\u001b[0;31m                 \u001b[0mresults\u001b[0m\u001b[0;34m[\u001b[0m\u001b[0mi\u001b[0m\u001b[0;34m]\u001b[0m \u001b[0;34m=\u001b[0m \u001b[0mself\u001b[0m\u001b[0;34m.\u001b[0m\u001b[0mf\u001b[0m\u001b[0;34m(\u001b[0m\u001b[0mv\u001b[0m\u001b[0;34m)\u001b[0m\u001b[0;34m\u001b[0m\u001b[0;34m\u001b[0m\u001b[0m\n\u001b[0m\u001b[1;32m    829\u001b[0m                 \u001b[0;32mif\u001b[0m \u001b[0misinstance\u001b[0m\u001b[0;34m(\u001b[0m\u001b[0mresults\u001b[0m\u001b[0;34m[\u001b[0m\u001b[0mi\u001b[0m\u001b[0;34m]\u001b[0m\u001b[0;34m,\u001b[0m \u001b[0mABCSeries\u001b[0m\u001b[0;34m)\u001b[0m\u001b[0;34m:\u001b[0m\u001b[0;34m\u001b[0m\u001b[0;34m\u001b[0m\u001b[0m\n\u001b[1;32m    830\u001b[0m                     \u001b[0;31m# If we have a view on v, we need to make a copy because\u001b[0m\u001b[0;34m\u001b[0m\u001b[0;34m\u001b[0m\u001b[0;34m\u001b[0m\u001b[0m\n",
            "\u001b[0;32m<ipython-input-22-5f7ee39c7b03>\u001b[0m in \u001b[0;36m<lambda>\u001b[0;34m(x)\u001b[0m\n\u001b[1;32m      5\u001b[0m   \u001b[0mnb_columns\u001b[0m \u001b[0;34m=\u001b[0m \u001b[0mfind_rate_l\u001b[0m\u001b[0;34m.\u001b[0m\u001b[0mshape\u001b[0m\u001b[0;34m[\u001b[0m\u001b[0;36m1\u001b[0m\u001b[0;34m]\u001b[0m\u001b[0;34m\u001b[0m\u001b[0;34m\u001b[0m\u001b[0m\n\u001b[1;32m      6\u001b[0m \u001b[0;34m\u001b[0m\u001b[0m\n\u001b[0;32m----> 7\u001b[0;31m   \u001b[0mfind_rate_l\u001b[0m\u001b[0;34m[\u001b[0m\u001b[0;34m'taux_remplissage_lines'\u001b[0m\u001b[0;34m]\u001b[0m \u001b[0;34m=\u001b[0m \u001b[0;34m(\u001b[0m\u001b[0mdf\u001b[0m\u001b[0;34m.\u001b[0m\u001b[0mapply\u001b[0m\u001b[0;34m(\u001b[0m\u001b[0;32mlambda\u001b[0m \u001b[0mx\u001b[0m\u001b[0;34m:\u001b[0m \u001b[0mx\u001b[0m\u001b[0;34m.\u001b[0m\u001b[0mcount\u001b[0m\u001b[0;34m(\u001b[0m\u001b[0;34m)\u001b[0m\u001b[0;34m,\u001b[0m \u001b[0maxis\u001b[0m\u001b[0;34m=\u001b[0m\u001b[0;36m1\u001b[0m\u001b[0;34m)\u001b[0m\u001b[0;34m/\u001b[0m\u001b[0mnb_columns\u001b[0m\u001b[0;34m)\u001b[0m\u001b[0;34m\u001b[0m\u001b[0;34m\u001b[0m\u001b[0m\n\u001b[0m\u001b[1;32m      8\u001b[0m \u001b[0;34m\u001b[0m\u001b[0m\n\u001b[1;32m      9\u001b[0m   \u001b[0mfilling_rate\u001b[0m \u001b[0;34m=\u001b[0m \u001b[0;34m[\u001b[0m\u001b[0;34m]\u001b[0m\u001b[0;34m\u001b[0m\u001b[0;34m\u001b[0m\u001b[0m\n",
            "\u001b[0;32m/usr/local/lib/python3.7/dist-packages/pandas/core/series.py\u001b[0m in \u001b[0;36mcount\u001b[0;34m(self, level)\u001b[0m\n\u001b[1;32m   1926\u001b[0m         \"\"\"\n\u001b[1;32m   1927\u001b[0m         \u001b[0;32mif\u001b[0m \u001b[0mlevel\u001b[0m \u001b[0;32mis\u001b[0m \u001b[0;32mNone\u001b[0m\u001b[0;34m:\u001b[0m\u001b[0;34m\u001b[0m\u001b[0;34m\u001b[0m\u001b[0m\n\u001b[0;32m-> 1928\u001b[0;31m             \u001b[0;32mreturn\u001b[0m \u001b[0mnotna\u001b[0m\u001b[0;34m(\u001b[0m\u001b[0mself\u001b[0m\u001b[0;34m.\u001b[0m\u001b[0m_values\u001b[0m\u001b[0;34m)\u001b[0m\u001b[0;34m.\u001b[0m\u001b[0msum\u001b[0m\u001b[0;34m(\u001b[0m\u001b[0;34m)\u001b[0m\u001b[0;34m.\u001b[0m\u001b[0mastype\u001b[0m\u001b[0;34m(\u001b[0m\u001b[0;34m\"int64\"\u001b[0m\u001b[0;34m)\u001b[0m\u001b[0;34m\u001b[0m\u001b[0;34m\u001b[0m\u001b[0m\n\u001b[0m\u001b[1;32m   1929\u001b[0m         \u001b[0;32melse\u001b[0m\u001b[0;34m:\u001b[0m\u001b[0;34m\u001b[0m\u001b[0;34m\u001b[0m\u001b[0m\n\u001b[1;32m   1930\u001b[0m             warnings.warn(\n",
            "\u001b[0;32m/usr/local/lib/python3.7/dist-packages/pandas/core/dtypes/missing.py\u001b[0m in \u001b[0;36mnotna\u001b[0;34m(obj)\u001b[0m\n\u001b[1;32m    356\u001b[0m     \u001b[0;32mif\u001b[0m \u001b[0mis_scalar\u001b[0m\u001b[0;34m(\u001b[0m\u001b[0mres\u001b[0m\u001b[0;34m)\u001b[0m\u001b[0;34m:\u001b[0m\u001b[0;34m\u001b[0m\u001b[0;34m\u001b[0m\u001b[0m\n\u001b[1;32m    357\u001b[0m         \u001b[0;32mreturn\u001b[0m \u001b[0;32mnot\u001b[0m \u001b[0mres\u001b[0m\u001b[0;34m\u001b[0m\u001b[0;34m\u001b[0m\u001b[0m\n\u001b[0;32m--> 358\u001b[0;31m     \u001b[0;32mreturn\u001b[0m \u001b[0;34m~\u001b[0m\u001b[0mres\u001b[0m\u001b[0;34m\u001b[0m\u001b[0;34m\u001b[0m\u001b[0m\n\u001b[0m\u001b[1;32m    359\u001b[0m \u001b[0;34m\u001b[0m\u001b[0m\n\u001b[1;32m    360\u001b[0m \u001b[0;34m\u001b[0m\u001b[0m\n",
            "\u001b[0;31mKeyboardInterrupt\u001b[0m: "
          ]
        }
      ]
    },
    {
      "cell_type": "code",
      "source": [
        ""
      ],
      "metadata": {
        "id": "ec8ikHjtth-o"
      },
      "execution_count": null,
      "outputs": []
    },
    {
      "cell_type": "code",
      "source": [
        "def filling_col_rate(df):\n",
        "\n",
        "    find_rate_c = df.copy()\n",
        "    find_rate_c = find_rate_c.replace(to_replace = '^nan$', value = np.nan, regex=True)\n",
        "    nb_colonne = find_rate_c.shape[1]\n",
        "\n",
        "    filling_rate = []\n",
        "    remove_col = []\n",
        "\n",
        "    for i in range(0, 11, 1):\n",
        "        taux_remplissage = i/10.0\n",
        "        \n",
        "        filling_rate.append(taux_remplissage*100)\n",
        "\n",
        "        df = find_rate_c[find_rate_c.columns[1-find_rate_c.isnull().mean() > taux_remplissage]]\n",
        "        \n",
        "        #number of columns at the end\n",
        "        nb_colonne_supp = nb_colonne - df.shape[1]\n",
        "        \n",
        "        remove_col.append(nb_colonne_supp)\n",
        "      \n",
        "        \n",
        "    find_rate_c = pd.DataFrame(\n",
        "        {'filling_rate': filling_rate,\n",
        "          'remove_columns': remove_col\n",
        "        })\n",
        "    print(find_rate_c )\n",
        "    print('===================================================================')\n",
        "\n",
        "    sns.lineplot(data=find_rate_c, x=\"filling_rate\", y=\"remove_columns\")"
      ],
      "metadata": {
        "id": "QBqfjIEYEmts"
      },
      "execution_count": null,
      "outputs": []
    },
    {
      "cell_type": "code",
      "source": [
        "filling_col_rate(bureau_balance)"
      ],
      "metadata": {
        "colab": {
          "base_uri": "https://localhost:8080/",
          "height": 506
        },
        "id": "au3yUNi6tVMO",
        "outputId": "ed3b1130-63c5-4d72-b315-72519ab6e215"
      },
      "execution_count": null,
      "outputs": [
        {
          "output_type": "stream",
          "name": "stdout",
          "text": [
            "    filling_rate  remove_columns\n",
            "0            0.0               0\n",
            "1           10.0               0\n",
            "2           20.0               0\n",
            "3           30.0               0\n",
            "4           40.0               0\n",
            "5           50.0               0\n",
            "6           60.0               0\n",
            "7           70.0               0\n",
            "8           80.0               0\n",
            "9           90.0               0\n",
            "10         100.0               3\n",
            "_____________________________________________________\n"
          ]
        },
        {
          "output_type": "display_data",
          "data": {
            "image/png": "[encoded data removed]",
            "text/plain": [
              "<Figure size 432x288 with 1 Axes>"
            ]
          },
          "metadata": {
            "needs_background": "light"
          }
        }
      ]
    },
    {
      "cell_type": "code",
      "source": [
        "app_train_reduced = filtration_columns(app_train_clean_lines, 0.9)"
      ],
      "metadata": {
        "id": "T4gq7iw-Em9l"
      },
      "execution_count": null,
      "outputs": []
    },
    {
      "cell_type": "code",
      "source": [
        "sns.lineplot(data=find_rate_c, x=\"filling_rate\", y=\"remove_columns\")"
      ],
      "metadata": {
        "colab": {
          "base_uri": "https://localhost:8080/",
          "height": 165
        },
        "id": "vG4j2GKPF1WP",
        "outputId": "2036c231-7bac-4047-8b72-d6ddc6fc69a4"
      },
      "execution_count": null,
      "outputs": [
        {
          "output_type": "error",
          "ename": "NameError",
          "evalue": "ignored",
          "traceback": [
            "\u001b[0;31m---------------------------------------------------------------------------\u001b[0m",
            "\u001b[0;31mNameError\u001b[0m                                 Traceback (most recent call last)",
            "\u001b[0;32m<ipython-input-17-62f2aeec4dd0>\u001b[0m in \u001b[0;36m<module>\u001b[0;34m()\u001b[0m\n\u001b[0;32m----> 1\u001b[0;31m \u001b[0msns\u001b[0m\u001b[0;34m.\u001b[0m\u001b[0mlineplot\u001b[0m\u001b[0;34m(\u001b[0m\u001b[0mdata\u001b[0m\u001b[0;34m=\u001b[0m\u001b[0mfind_rate_c\u001b[0m\u001b[0;34m,\u001b[0m \u001b[0mx\u001b[0m\u001b[0;34m=\u001b[0m\u001b[0;34m\"filling_rate\"\u001b[0m\u001b[0;34m,\u001b[0m \u001b[0my\u001b[0m\u001b[0;34m=\u001b[0m\u001b[0;34m\"remove_columns\"\u001b[0m\u001b[0;34m)\u001b[0m\u001b[0;34m\u001b[0m\u001b[0;34m\u001b[0m\u001b[0m\n\u001b[0m",
            "\u001b[0;31mNameError\u001b[0m: name 'find_rate_c' is not defined"
          ]
        }
      ]
    },
    {
      "cell_type": "markdown",
      "metadata": {
        "id": "aQbme4SB6xZD"
      },
      "source": [
        "## $\\color{red}{\\text{T.B.C}}$"
      ]
    },
    {
      "cell_type": "code",
      "source": [
        ""
      ],
      "metadata": {
        "id": "bajE_Hr-oaQ9"
      },
      "execution_count": null,
      "outputs": []
    },
    {
      "cell_type": "markdown",
      "source": [
        "### **previous_application.csv**\n",
        "\n",
        "* application of client's previous loan in home credit\n",
        "* Info about the previous loan parameters and client info at time of previous app\n",
        "* one row per perivoius app "
      ],
      "metadata": {
        "id": "fqRw0H1IobXq"
      }
    },
    {
      "cell_type": "markdown",
      "source": [
        "1- Cleaning outliers. From the EDA we saw some DAYS fields with a value equal to 365243.0, they look erroneous, and so we will be replacing them with NaN values.\n",
        "\n",
        "2-We replace the NaN values for categories with an 'XNA' category.\n",
        "Next, we proceed to feature engineering, where we create some domain based features, such as Credit-Downpayment Ratio, Amount not approved, Credit to Goods ratio, etc.\n",
        "\n",
        "3-We also try to predict the interest rate, inspired by one of the writeups of winners.\n",
        "\n",
        "4-To be able to merge it with main table, we need to aggregate the rows of previous_application over SK_ID_CURR. We perform domain based aggregations, over all the previous credits for each customer, such as mean, max, min, etc. \n",
        "\n",
        "5-Here again we aggregate in three ways. First we perform overall aggregation, next we aggregate for first 2 applications and latest 5 applications. The First and Last are decided by the DAYS_FIRST_DUE of applications. In the end, we merge all these aggregations together."
      ],
      "metadata": {
        "id": "UBaqVwiWojSx"
      }
    },
    {
      "cell_type": "code",
      "source": [
        "previous_application.shape"
      ],
      "metadata": {
        "colab": {
          "base_uri": "https://localhost:8080/"
        },
        "id": "q8rQe6rGJJxJ",
        "outputId": "faf83098-5fd6-4155-c69a-27ffd3d56d1b"
      },
      "execution_count": null,
      "outputs": [
        {
          "output_type": "execute_result",
          "data": {
            "text/plain": [
              "(1670214, 37)"
            ]
          },
          "metadata": {},
          "execution_count": 16
        }
      ]
    },
    {
      "cell_type": "code",
      "source": [
        "#sorting the applications from oldest to most recent previous loans for each user\n",
        "previous_application = previous_application.sort_values(by = ['SK_ID_CURR','DAYS_FIRST_DUE'])\n",
        "\n",
        "#in the EDA we found some erroneous values in DAYS columns, so we will replace them with NaN values\n",
        "previous_application['DAYS_FIRST_DRAWING'][previous_application['DAYS_FIRST_DRAWING'] == 365243.0] = np.nan\n",
        "previous_application['DAYS_FIRST_DUE'][previous_application['DAYS_FIRST_DUE'] == 365243.0] = np.nan\n",
        "previous_application['DAYS_LAST_DUE_1ST_VERSION'][previous_application['DAYS_LAST_DUE_1ST_VERSION'] == 365243.0] = np.nan\n",
        "previous_application['DAYS_LAST_DUE'][previous_application['DAYS_LAST_DUE'] == 365243.0] = np.nan\n",
        "previous_application['DAYS_TERMINATION'][previous_application['DAYS_TERMINATION'] == 365243.0] = np.nan\n",
        "\n",
        "#we also see abruptly large value for SELLERPLACE_AREA\n",
        "previous_application['SELLERPLACE_AREA'][previous_application['SELLERPLACE_AREA'] == 4000000] = np.nan\n"
      ],
      "metadata": {
        "id": "-BZV5UTuoaZj"
      },
      "execution_count": null,
      "outputs": []
    },
    {
      "cell_type": "code",
      "source": [
        "previous_application.head()"
      ],
      "metadata": {
        "colab": {
          "base_uri": "https://localhost:8080/",
          "height": 339
        },
        "id": "5vINce2U2N_1",
        "outputId": "921c066b-3098-4d7c-9012-e15340fe9824"
      },
      "execution_count": null,
      "outputs": [
        {
          "output_type": "execute_result",
          "data": {
            "text/html": [
              "\n",
              "  <div id=\"df-4e7ad570-2e4f-4b0d-9caf-022aaba82239\">\n",
              "    <div class=\"colab-df-container\">\n",
              "      <div>\n",
              "<style scoped>\n",
              "    .dataframe tbody tr th:only-of-type {\n",
              "        vertical-align: middle;\n",
              "    }\n",
              "\n",
              "    .dataframe tbody tr th {\n",
              "        vertical-align: top;\n",
              "    }\n",
              "\n",
              "    .dataframe thead th {\n",
              "        text-align: right;\n",
              "    }\n",
              "</style>\n",
              "<table border=\"1\" class=\"dataframe\">\n",
              "  <thead>\n",
              "    <tr style=\"text-align: right;\">\n",
              "      <th></th>\n",
              "      <th>SK_ID_PREV</th>\n",
              "      <th>SK_ID_CURR</th>\n",
              "      <th>NAME_CONTRACT_TYPE</th>\n",
              "      <th>AMT_ANNUITY</th>\n",
              "      <th>AMT_APPLICATION</th>\n",
              "      <th>AMT_CREDIT</th>\n",
              "      <th>AMT_DOWN_PAYMENT</th>\n",
              "      <th>AMT_GOODS_PRICE</th>\n",
              "      <th>WEEKDAY_APPR_PROCESS_START</th>\n",
              "      <th>HOUR_APPR_PROCESS_START</th>\n",
              "      <th>FLAG_LAST_APPL_PER_CONTRACT</th>\n",
              "      <th>NFLAG_LAST_APPL_IN_DAY</th>\n",
              "      <th>RATE_DOWN_PAYMENT</th>\n",
              "      <th>RATE_INTEREST_PRIMARY</th>\n",
              "      <th>RATE_INTEREST_PRIVILEGED</th>\n",
              "      <th>NAME_CASH_LOAN_PURPOSE</th>\n",
              "      <th>NAME_CONTRACT_STATUS</th>\n",
              "      <th>DAYS_DECISION</th>\n",
              "      <th>NAME_PAYMENT_TYPE</th>\n",
              "      <th>CODE_REJECT_REASON</th>\n",
              "      <th>NAME_TYPE_SUITE</th>\n",
              "      <th>NAME_CLIENT_TYPE</th>\n",
              "      <th>NAME_GOODS_CATEGORY</th>\n",
              "      <th>NAME_PORTFOLIO</th>\n",
              "      <th>NAME_PRODUCT_TYPE</th>\n",
              "      <th>CHANNEL_TYPE</th>\n",
              "      <th>SELLERPLACE_AREA</th>\n",
              "      <th>NAME_SELLER_INDUSTRY</th>\n",
              "      <th>CNT_PAYMENT</th>\n",
              "      <th>NAME_YIELD_GROUP</th>\n",
              "      <th>PRODUCT_COMBINATION</th>\n",
              "      <th>DAYS_FIRST_DRAWING</th>\n",
              "      <th>DAYS_FIRST_DUE</th>\n",
              "      <th>DAYS_LAST_DUE_1ST_VERSION</th>\n",
              "      <th>DAYS_LAST_DUE</th>\n",
              "      <th>DAYS_TERMINATION</th>\n",
              "      <th>NFLAG_INSURED_ON_APPROVAL</th>\n",
              "    </tr>\n",
              "  </thead>\n",
              "  <tbody>\n",
              "    <tr>\n",
              "      <th>201668</th>\n",
              "      <td>1369693</td>\n",
              "      <td>100001</td>\n",
              "      <td>Consumer loans</td>\n",
              "      <td>3951.000</td>\n",
              "      <td>24835.5</td>\n",
              "      <td>23787.0</td>\n",
              "      <td>2520.0</td>\n",
              "      <td>24835.5</td>\n",
              "      <td>FRIDAY</td>\n",
              "      <td>13</td>\n",
              "      <td>Y</td>\n",
              "      <td>1</td>\n",
              "      <td>0.104326</td>\n",
              "      <td>NaN</td>\n",
              "      <td>NaN</td>\n",
              "      <td>XAP</td>\n",
              "      <td>Approved</td>\n",
              "      <td>-1740</td>\n",
              "      <td>Cash through the bank</td>\n",
              "      <td>XAP</td>\n",
              "      <td>Family</td>\n",
              "      <td>Refreshed</td>\n",
              "      <td>Mobile</td>\n",
              "      <td>POS</td>\n",
              "      <td>XNA</td>\n",
              "      <td>Country-wide</td>\n",
              "      <td>23.0</td>\n",
              "      <td>Connectivity</td>\n",
              "      <td>8.0</td>\n",
              "      <td>high</td>\n",
              "      <td>POS mobile with interest</td>\n",
              "      <td>NaN</td>\n",
              "      <td>-1709.0</td>\n",
              "      <td>-1499.0</td>\n",
              "      <td>-1619.0</td>\n",
              "      <td>-1612.0</td>\n",
              "      <td>0.0</td>\n",
              "    </tr>\n",
              "    <tr>\n",
              "      <th>892077</th>\n",
              "      <td>1038818</td>\n",
              "      <td>100002</td>\n",
              "      <td>Consumer loans</td>\n",
              "      <td>9251.775</td>\n",
              "      <td>179055.0</td>\n",
              "      <td>179055.0</td>\n",
              "      <td>0.0</td>\n",
              "      <td>179055.0</td>\n",
              "      <td>SATURDAY</td>\n",
              "      <td>9</td>\n",
              "      <td>Y</td>\n",
              "      <td>1</td>\n",
              "      <td>0.000000</td>\n",
              "      <td>NaN</td>\n",
              "      <td>NaN</td>\n",
              "      <td>XAP</td>\n",
              "      <td>Approved</td>\n",
              "      <td>-606</td>\n",
              "      <td>XNA</td>\n",
              "      <td>XAP</td>\n",
              "      <td>XNA</td>\n",
              "      <td>New</td>\n",
              "      <td>Vehicles</td>\n",
              "      <td>POS</td>\n",
              "      <td>XNA</td>\n",
              "      <td>Stone</td>\n",
              "      <td>500.0</td>\n",
              "      <td>Auto technology</td>\n",
              "      <td>24.0</td>\n",
              "      <td>low_normal</td>\n",
              "      <td>POS other with interest</td>\n",
              "      <td>NaN</td>\n",
              "      <td>-565.0</td>\n",
              "      <td>125.0</td>\n",
              "      <td>-25.0</td>\n",
              "      <td>-17.0</td>\n",
              "      <td>0.0</td>\n",
              "    </tr>\n",
              "    <tr>\n",
              "      <th>1223745</th>\n",
              "      <td>2396755</td>\n",
              "      <td>100003</td>\n",
              "      <td>Consumer loans</td>\n",
              "      <td>6737.310</td>\n",
              "      <td>68809.5</td>\n",
              "      <td>68053.5</td>\n",
              "      <td>6885.0</td>\n",
              "      <td>68809.5</td>\n",
              "      <td>SATURDAY</td>\n",
              "      <td>15</td>\n",
              "      <td>Y</td>\n",
              "      <td>1</td>\n",
              "      <td>0.100061</td>\n",
              "      <td>NaN</td>\n",
              "      <td>NaN</td>\n",
              "      <td>XAP</td>\n",
              "      <td>Approved</td>\n",
              "      <td>-2341</td>\n",
              "      <td>Cash through the bank</td>\n",
              "      <td>XAP</td>\n",
              "      <td>Family</td>\n",
              "      <td>Refreshed</td>\n",
              "      <td>Consumer Electronics</td>\n",
              "      <td>POS</td>\n",
              "      <td>XNA</td>\n",
              "      <td>Country-wide</td>\n",
              "      <td>200.0</td>\n",
              "      <td>Consumer electronics</td>\n",
              "      <td>12.0</td>\n",
              "      <td>middle</td>\n",
              "      <td>POS household with interest</td>\n",
              "      <td>NaN</td>\n",
              "      <td>-2310.0</td>\n",
              "      <td>-1980.0</td>\n",
              "      <td>-1980.0</td>\n",
              "      <td>-1976.0</td>\n",
              "      <td>1.0</td>\n",
              "    </tr>\n",
              "    <tr>\n",
              "      <th>1021650</th>\n",
              "      <td>2636178</td>\n",
              "      <td>100003</td>\n",
              "      <td>Consumer loans</td>\n",
              "      <td>64567.665</td>\n",
              "      <td>337500.0</td>\n",
              "      <td>348637.5</td>\n",
              "      <td>0.0</td>\n",
              "      <td>337500.0</td>\n",
              "      <td>SUNDAY</td>\n",
              "      <td>17</td>\n",
              "      <td>Y</td>\n",
              "      <td>1</td>\n",
              "      <td>0.000000</td>\n",
              "      <td>NaN</td>\n",
              "      <td>NaN</td>\n",
              "      <td>XAP</td>\n",
              "      <td>Approved</td>\n",
              "      <td>-828</td>\n",
              "      <td>Cash through the bank</td>\n",
              "      <td>XAP</td>\n",
              "      <td>Family</td>\n",
              "      <td>Refreshed</td>\n",
              "      <td>Furniture</td>\n",
              "      <td>POS</td>\n",
              "      <td>XNA</td>\n",
              "      <td>Stone</td>\n",
              "      <td>1400.0</td>\n",
              "      <td>Furniture</td>\n",
              "      <td>6.0</td>\n",
              "      <td>middle</td>\n",
              "      <td>POS industry with interest</td>\n",
              "      <td>NaN</td>\n",
              "      <td>-797.0</td>\n",
              "      <td>-647.0</td>\n",
              "      <td>-647.0</td>\n",
              "      <td>-639.0</td>\n",
              "      <td>0.0</td>\n",
              "    </tr>\n",
              "    <tr>\n",
              "      <th>575941</th>\n",
              "      <td>1810518</td>\n",
              "      <td>100003</td>\n",
              "      <td>Cash loans</td>\n",
              "      <td>98356.995</td>\n",
              "      <td>900000.0</td>\n",
              "      <td>1035882.0</td>\n",
              "      <td>NaN</td>\n",
              "      <td>900000.0</td>\n",
              "      <td>FRIDAY</td>\n",
              "      <td>12</td>\n",
              "      <td>Y</td>\n",
              "      <td>1</td>\n",
              "      <td>NaN</td>\n",
              "      <td>NaN</td>\n",
              "      <td>NaN</td>\n",
              "      <td>XNA</td>\n",
              "      <td>Approved</td>\n",
              "      <td>-746</td>\n",
              "      <td>XNA</td>\n",
              "      <td>XAP</td>\n",
              "      <td>Unaccompanied</td>\n",
              "      <td>Repeater</td>\n",
              "      <td>XNA</td>\n",
              "      <td>Cash</td>\n",
              "      <td>x-sell</td>\n",
              "      <td>Credit and cash offices</td>\n",
              "      <td>-1.0</td>\n",
              "      <td>XNA</td>\n",
              "      <td>12.0</td>\n",
              "      <td>low_normal</td>\n",
              "      <td>Cash X-Sell: low</td>\n",
              "      <td>NaN</td>\n",
              "      <td>-716.0</td>\n",
              "      <td>-386.0</td>\n",
              "      <td>-536.0</td>\n",
              "      <td>-527.0</td>\n",
              "      <td>1.0</td>\n",
              "    </tr>\n",
              "  </tbody>\n",
              "</table>\n",
              "</div>\n",
              "      <button class=\"colab-df-convert\" onclick=\"convertToInteractive('df-4e7ad570-2e4f-4b0d-9caf-022aaba82239')\"\n",
              "              title=\"Convert this dataframe to an interactive table.\"\n",
              "              style=\"display:none;\">\n",
              "        \n",
              "  <svg xmlns=\"http://www.w3.org/2000/svg\" height=\"24px\"viewBox=\"0 0 24 24\"\n",
              "       width=\"24px\">\n",
              "    <path d=\"M0 0h24v24H0V0z\" fill=\"none\"/>\n",
              "    <path d=\"M18.56 5.44l.94 2.06.94-2.06 2.06-.94-2.06-.94-.94-2.06-.94 2.06-2.06.94zm-11 1L8.5 8.5l.94-2.06 2.06-.94-2.06-.94L8.5 2.5l-.94 2.06-2.06.94zm10 10l.94 2.06.94-2.06 2.06-.94-2.06-.94-.94-2.06-.94 2.06-2.06.94z\"/><path d=\"M17.41 7.96l-1.37-1.37c-.4-.4-.92-.59-1.43-.59-.52 0-1.04.2-1.43.59L10.3 9.45l-7.72 7.72c-.78.78-.78 2.05 0 2.83L4 21.41c.39.39.9.59 1.41.59.51 0 1.02-.2 1.41-.59l7.78-7.78 2.81-2.81c.8-.78.8-2.07 0-2.86zM5.41 20L4 18.59l7.72-7.72 1.47 1.35L5.41 20z\"/>\n",
              "  </svg>\n",
              "      </button>\n",
              "      \n",
              "  <style>\n",
              "    .colab-df-container {\n",
              "      display:flex;\n",
              "      flex-wrap:wrap;\n",
              "      gap: 12px;\n",
              "    }\n",
              "\n",
              "    .colab-df-convert {\n",
              "      background-color: #E8F0FE;\n",
              "      border: none;\n",
              "      border-radius: 50%;\n",
              "      cursor: pointer;\n",
              "      display: none;\n",
              "      fill: #1967D2;\n",
              "      height: 32px;\n",
              "      padding: 0 0 0 0;\n",
              "      width: 32px;\n",
              "    }\n",
              "\n",
              "    .colab-df-convert:hover {\n",
              "      background-color: #E2EBFA;\n",
              "      box-shadow: 0px 1px 2px rgba(60, 64, 67, 0.3), 0px 1px 3px 1px rgba(60, 64, 67, 0.15);\n",
              "      fill: #174EA6;\n",
              "    }\n",
              "\n",
              "    [theme=dark] .colab-df-convert {\n",
              "      background-color: #3B4455;\n",
              "      fill: #D2E3FC;\n",
              "    }\n",
              "\n",
              "    [theme=dark] .colab-df-convert:hover {\n",
              "      background-color: #434B5C;\n",
              "      box-shadow: 0px 1px 3px 1px rgba(0, 0, 0, 0.15);\n",
              "      filter: drop-shadow(0px 1px 2px rgba(0, 0, 0, 0.3));\n",
              "      fill: #FFFFFF;\n",
              "    }\n",
              "  </style>\n",
              "\n",
              "      <script>\n",
              "        const buttonEl =\n",
              "          document.querySelector('#df-4e7ad570-2e4f-4b0d-9caf-022aaba82239 button.colab-df-convert');\n",
              "        buttonEl.style.display =\n",
              "          google.colab.kernel.accessAllowed ? 'block' : 'none';\n",
              "\n",
              "        async function convertToInteractive(key) {\n",
              "          const element = document.querySelector('#df-4e7ad570-2e4f-4b0d-9caf-022aaba82239');\n",
              "          const dataTable =\n",
              "            await google.colab.kernel.invokeFunction('convertToInteractive',\n",
              "                                                     [key], {});\n",
              "          if (!dataTable) return;\n",
              "\n",
              "          const docLinkHtml = 'Like what you see? Visit the ' +\n",
              "            '<a target=\"_blank\" href=https://colab.research.google.com/notebooks/data_table.ipynb>data table notebook</a>'\n",
              "            + ' to learn more about interactive tables.';\n",
              "          element.innerHTML = '';\n",
              "          dataTable['output_type'] = 'display_data';\n",
              "          await google.colab.output.renderOutput(dataTable, element);\n",
              "          const docLink = document.createElement('div');\n",
              "          docLink.innerHTML = docLinkHtml;\n",
              "          element.appendChild(docLink);\n",
              "        }\n",
              "      </script>\n",
              "    </div>\n",
              "  </div>\n",
              "  "
            ],
            "text/plain": [
              "         SK_ID_PREV  SK_ID_CURR  ... DAYS_TERMINATION  NFLAG_INSURED_ON_APPROVAL\n",
              "201668      1369693      100001  ...          -1612.0                        0.0\n",
              "892077      1038818      100002  ...            -17.0                        0.0\n",
              "1223745     2396755      100003  ...          -1976.0                        1.0\n",
              "1021650     2636178      100003  ...           -639.0                        0.0\n",
              "575941      1810518      100003  ...           -527.0                        1.0\n",
              "\n",
              "[5 rows x 37 columns]"
            ]
          },
          "metadata": {},
          "execution_count": 36
        }
      ]
    },
    {
      "cell_type": "code",
      "source": [
        "\n",
        "previous_application = remove_column(previous_application)\n",
        "\n",
        "previous_application_final = filling_nan_value(previous_application)"
      ],
      "metadata": {
        "id": "JvtANFjnouSH"
      },
      "execution_count": null,
      "outputs": []
    },
    {
      "cell_type": "code",
      "source": [
        "previous_application.shape"
      ],
      "metadata": {
        "colab": {
          "base_uri": "https://localhost:8080/"
        },
        "id": "a_8hiLNAL9ph",
        "outputId": "0c583a72-d687-4d4d-eff2-ef3c49a82dd8"
      },
      "execution_count": null,
      "outputs": [
        {
          "output_type": "execute_result",
          "data": {
            "text/plain": [
              "(1670214, 34)"
            ]
          },
          "metadata": {},
          "execution_count": 22
        }
      ]
    },
    {
      "cell_type": "code",
      "source": [
        "features_obj =[feature for feature in previous_application.columns if previous_application[feature].dtypes=='O']\n",
        "features_obj"
      ],
      "metadata": {
        "colab": {
          "base_uri": "https://localhost:8080/"
        },
        "id": "dyKov0B-DKHY",
        "outputId": "3253e917-d600-45a4-dec7-483afb59095c"
      },
      "execution_count": null,
      "outputs": [
        {
          "output_type": "execute_result",
          "data": {
            "text/plain": [
              "['NAME_CONTRACT_TYPE',\n",
              " 'WEEKDAY_APPR_PROCESS_START',\n",
              " 'FLAG_LAST_APPL_PER_CONTRACT',\n",
              " 'NAME_CASH_LOAN_PURPOSE',\n",
              " 'NAME_CONTRACT_STATUS',\n",
              " 'NAME_PAYMENT_TYPE',\n",
              " 'CODE_REJECT_REASON',\n",
              " 'NAME_TYPE_SUITE',\n",
              " 'NAME_CLIENT_TYPE',\n",
              " 'NAME_GOODS_CATEGORY',\n",
              " 'NAME_PORTFOLIO',\n",
              " 'NAME_PRODUCT_TYPE',\n",
              " 'CHANNEL_TYPE',\n",
              " 'NAME_SELLER_INDUSTRY',\n",
              " 'NAME_YIELD_GROUP',\n",
              " 'PRODUCT_COMBINATION']"
            ]
          },
          "metadata": {},
          "execution_count": 35
        }
      ]
    },
    {
      "cell_type": "code",
      "source": [
        "previous_application['NAME_CONTRACT_STATUS'].unique()"
      ],
      "metadata": {
        "colab": {
          "base_uri": "https://localhost:8080/"
        },
        "id": "DCOytPcWCx3N",
        "outputId": "b59b362c-4950-4be3-c605-450436feed66"
      },
      "execution_count": null,
      "outputs": [
        {
          "output_type": "execute_result",
          "data": {
            "text/plain": [
              "array(['Approved', 'Canceled', 'Refused', 'Unused offer'], dtype=object)"
            ]
          },
          "metadata": {},
          "execution_count": 20
        }
      ]
    },
    {
      "cell_type": "code",
      "source": [
        "# Grouped interest rate into small medium and high of the previous application\n",
        "previous_application['NAME_YIELD_GROUP'].unique()"
      ],
      "metadata": {
        "colab": {
          "base_uri": "https://localhost:8080/"
        },
        "id": "HR6NBvrFDKBM",
        "outputId": "05b29101-ebad-4a6a-e3c4-56a74ead30c1"
      },
      "execution_count": null,
      "outputs": [
        {
          "output_type": "execute_result",
          "data": {
            "text/plain": [
              "array(['high', 'low_normal', 'middle', 'XNA', 'low_action'], dtype=object)"
            ]
          },
          "metadata": {},
          "execution_count": 23
        }
      ]
    },
    {
      "cell_type": "code",
      "source": [
        "#label encoding the categorical variables\n",
        "name_contract_dict = {'Approved': 0, 'Refused' : 3, 'Canceled' : 2, 'Unused offer' : 1}\n",
        "previous_application['NAME_CONTRACT_STATUS'] = previous_application['NAME_CONTRACT_STATUS'].map(name_contract_dict)\n",
        "\n",
        "yield_group_dict = {'XNA': 0, 'low_action': 1, 'low_normal': 2,'middle': 3, 'high': 4}\n",
        "previous_application['NAME_YIELD_GROUP'] = previous_application['NAME_YIELD_GROUP'].map(yield_group_dict)\n",
        "\n",
        "appl_per_contract_last_dict = {'Y':1, 'N':0}\n",
        "previous_application['FLAG_LAST_APPL_PER_CONTRACT'] = previous_application['FLAG_LAST_APPL_PER_CONTRACT'].map(appl_per_contract_last_dict)\n",
        "\n",
        "remaining_categorical_columns = previous_application.dtypes[previous_application.dtypes == 'object'].index.tolist()\n",
        "for col in remaining_categorical_columns:\n",
        "    encoding_dict = dict([(j,i) for i,j in enumerate(previous_application[col].unique(),1)])\n",
        "    previous_application[col] = previous_application[col].map(encoding_dict)    \n",
        "\n",
        "        "
      ],
      "metadata": {
        "id": "dK42V01doadi"
      },
      "execution_count": null,
      "outputs": []
    },
    {
      "cell_type": "code",
      "source": [
        "previous_application.head()"
      ],
      "metadata": {
        "colab": {
          "base_uri": "https://localhost:8080/",
          "height": 270
        },
        "id": "tcI3FUm-DzoY",
        "outputId": "50e00e13-eb31-4c87-ee6e-cfec42055234"
      },
      "execution_count": null,
      "outputs": [
        {
          "output_type": "execute_result",
          "data": {
            "text/html": [
              "\n",
              "  <div id=\"df-6b65d8d8-6921-4150-b076-1b35f5d66b97\">\n",
              "    <div class=\"colab-df-container\">\n",
              "      <div>\n",
              "<style scoped>\n",
              "    .dataframe tbody tr th:only-of-type {\n",
              "        vertical-align: middle;\n",
              "    }\n",
              "\n",
              "    .dataframe tbody tr th {\n",
              "        vertical-align: top;\n",
              "    }\n",
              "\n",
              "    .dataframe thead th {\n",
              "        text-align: right;\n",
              "    }\n",
              "</style>\n",
              "<table border=\"1\" class=\"dataframe\">\n",
              "  <thead>\n",
              "    <tr style=\"text-align: right;\">\n",
              "      <th></th>\n",
              "      <th>SK_ID_PREV</th>\n",
              "      <th>SK_ID_CURR</th>\n",
              "      <th>NAME_CONTRACT_TYPE</th>\n",
              "      <th>AMT_ANNUITY</th>\n",
              "      <th>AMT_APPLICATION</th>\n",
              "      <th>AMT_CREDIT</th>\n",
              "      <th>AMT_DOWN_PAYMENT</th>\n",
              "      <th>AMT_GOODS_PRICE</th>\n",
              "      <th>WEEKDAY_APPR_PROCESS_START</th>\n",
              "      <th>HOUR_APPR_PROCESS_START</th>\n",
              "      <th>FLAG_LAST_APPL_PER_CONTRACT</th>\n",
              "      <th>NFLAG_LAST_APPL_IN_DAY</th>\n",
              "      <th>RATE_DOWN_PAYMENT</th>\n",
              "      <th>NAME_CASH_LOAN_PURPOSE</th>\n",
              "      <th>NAME_CONTRACT_STATUS</th>\n",
              "      <th>DAYS_DECISION</th>\n",
              "      <th>NAME_PAYMENT_TYPE</th>\n",
              "      <th>CODE_REJECT_REASON</th>\n",
              "      <th>NAME_TYPE_SUITE</th>\n",
              "      <th>NAME_CLIENT_TYPE</th>\n",
              "      <th>NAME_GOODS_CATEGORY</th>\n",
              "      <th>NAME_PORTFOLIO</th>\n",
              "      <th>NAME_PRODUCT_TYPE</th>\n",
              "      <th>CHANNEL_TYPE</th>\n",
              "      <th>SELLERPLACE_AREA</th>\n",
              "      <th>NAME_SELLER_INDUSTRY</th>\n",
              "      <th>CNT_PAYMENT</th>\n",
              "      <th>NAME_YIELD_GROUP</th>\n",
              "      <th>PRODUCT_COMBINATION</th>\n",
              "      <th>DAYS_FIRST_DUE</th>\n",
              "      <th>DAYS_LAST_DUE_1ST_VERSION</th>\n",
              "      <th>DAYS_LAST_DUE</th>\n",
              "      <th>DAYS_TERMINATION</th>\n",
              "      <th>NFLAG_INSURED_ON_APPROVAL</th>\n",
              "    </tr>\n",
              "  </thead>\n",
              "  <tbody>\n",
              "    <tr>\n",
              "      <th>201668</th>\n",
              "      <td>1369693</td>\n",
              "      <td>100001</td>\n",
              "      <td>1</td>\n",
              "      <td>3951.000</td>\n",
              "      <td>24835.5</td>\n",
              "      <td>23787.0</td>\n",
              "      <td>2520.0</td>\n",
              "      <td>24835.5</td>\n",
              "      <td>1</td>\n",
              "      <td>13</td>\n",
              "      <td>1</td>\n",
              "      <td>1</td>\n",
              "      <td>0.104326</td>\n",
              "      <td>1</td>\n",
              "      <td>0</td>\n",
              "      <td>-1740</td>\n",
              "      <td>1</td>\n",
              "      <td>1</td>\n",
              "      <td>1</td>\n",
              "      <td>1</td>\n",
              "      <td>1</td>\n",
              "      <td>1</td>\n",
              "      <td>1</td>\n",
              "      <td>1</td>\n",
              "      <td>23.0</td>\n",
              "      <td>1</td>\n",
              "      <td>8.0</td>\n",
              "      <td>4</td>\n",
              "      <td>1</td>\n",
              "      <td>-1709.0</td>\n",
              "      <td>-1499.0</td>\n",
              "      <td>-1619.0</td>\n",
              "      <td>-1612.0</td>\n",
              "      <td>0.0</td>\n",
              "    </tr>\n",
              "    <tr>\n",
              "      <th>892077</th>\n",
              "      <td>1038818</td>\n",
              "      <td>100002</td>\n",
              "      <td>1</td>\n",
              "      <td>9251.775</td>\n",
              "      <td>179055.0</td>\n",
              "      <td>179055.0</td>\n",
              "      <td>0.0</td>\n",
              "      <td>179055.0</td>\n",
              "      <td>2</td>\n",
              "      <td>9</td>\n",
              "      <td>1</td>\n",
              "      <td>1</td>\n",
              "      <td>0.000000</td>\n",
              "      <td>1</td>\n",
              "      <td>0</td>\n",
              "      <td>-606</td>\n",
              "      <td>2</td>\n",
              "      <td>1</td>\n",
              "      <td>2</td>\n",
              "      <td>2</td>\n",
              "      <td>2</td>\n",
              "      <td>1</td>\n",
              "      <td>1</td>\n",
              "      <td>2</td>\n",
              "      <td>500.0</td>\n",
              "      <td>2</td>\n",
              "      <td>24.0</td>\n",
              "      <td>2</td>\n",
              "      <td>2</td>\n",
              "      <td>-565.0</td>\n",
              "      <td>125.0</td>\n",
              "      <td>-25.0</td>\n",
              "      <td>-17.0</td>\n",
              "      <td>0.0</td>\n",
              "    </tr>\n",
              "    <tr>\n",
              "      <th>1223745</th>\n",
              "      <td>2396755</td>\n",
              "      <td>100003</td>\n",
              "      <td>1</td>\n",
              "      <td>6737.310</td>\n",
              "      <td>68809.5</td>\n",
              "      <td>68053.5</td>\n",
              "      <td>6885.0</td>\n",
              "      <td>68809.5</td>\n",
              "      <td>2</td>\n",
              "      <td>15</td>\n",
              "      <td>1</td>\n",
              "      <td>1</td>\n",
              "      <td>0.100061</td>\n",
              "      <td>1</td>\n",
              "      <td>0</td>\n",
              "      <td>-2341</td>\n",
              "      <td>1</td>\n",
              "      <td>1</td>\n",
              "      <td>1</td>\n",
              "      <td>1</td>\n",
              "      <td>3</td>\n",
              "      <td>1</td>\n",
              "      <td>1</td>\n",
              "      <td>1</td>\n",
              "      <td>200.0</td>\n",
              "      <td>3</td>\n",
              "      <td>12.0</td>\n",
              "      <td>3</td>\n",
              "      <td>3</td>\n",
              "      <td>-2310.0</td>\n",
              "      <td>-1980.0</td>\n",
              "      <td>-1980.0</td>\n",
              "      <td>-1976.0</td>\n",
              "      <td>1.0</td>\n",
              "    </tr>\n",
              "    <tr>\n",
              "      <th>1021650</th>\n",
              "      <td>2636178</td>\n",
              "      <td>100003</td>\n",
              "      <td>1</td>\n",
              "      <td>64567.665</td>\n",
              "      <td>337500.0</td>\n",
              "      <td>348637.5</td>\n",
              "      <td>0.0</td>\n",
              "      <td>337500.0</td>\n",
              "      <td>3</td>\n",
              "      <td>17</td>\n",
              "      <td>1</td>\n",
              "      <td>1</td>\n",
              "      <td>0.000000</td>\n",
              "      <td>1</td>\n",
              "      <td>0</td>\n",
              "      <td>-828</td>\n",
              "      <td>1</td>\n",
              "      <td>1</td>\n",
              "      <td>1</td>\n",
              "      <td>1</td>\n",
              "      <td>4</td>\n",
              "      <td>1</td>\n",
              "      <td>1</td>\n",
              "      <td>2</td>\n",
              "      <td>1400.0</td>\n",
              "      <td>4</td>\n",
              "      <td>6.0</td>\n",
              "      <td>3</td>\n",
              "      <td>4</td>\n",
              "      <td>-797.0</td>\n",
              "      <td>-647.0</td>\n",
              "      <td>-647.0</td>\n",
              "      <td>-639.0</td>\n",
              "      <td>0.0</td>\n",
              "    </tr>\n",
              "    <tr>\n",
              "      <th>575941</th>\n",
              "      <td>1810518</td>\n",
              "      <td>100003</td>\n",
              "      <td>2</td>\n",
              "      <td>98356.995</td>\n",
              "      <td>900000.0</td>\n",
              "      <td>1035882.0</td>\n",
              "      <td>1638.0</td>\n",
              "      <td>900000.0</td>\n",
              "      <td>1</td>\n",
              "      <td>12</td>\n",
              "      <td>1</td>\n",
              "      <td>1</td>\n",
              "      <td>0.051605</td>\n",
              "      <td>2</td>\n",
              "      <td>0</td>\n",
              "      <td>-746</td>\n",
              "      <td>2</td>\n",
              "      <td>1</td>\n",
              "      <td>2</td>\n",
              "      <td>3</td>\n",
              "      <td>5</td>\n",
              "      <td>2</td>\n",
              "      <td>2</td>\n",
              "      <td>3</td>\n",
              "      <td>-1.0</td>\n",
              "      <td>5</td>\n",
              "      <td>12.0</td>\n",
              "      <td>2</td>\n",
              "      <td>5</td>\n",
              "      <td>-716.0</td>\n",
              "      <td>-386.0</td>\n",
              "      <td>-536.0</td>\n",
              "      <td>-527.0</td>\n",
              "      <td>1.0</td>\n",
              "    </tr>\n",
              "  </tbody>\n",
              "</table>\n",
              "</div>\n",
              "      <button class=\"colab-df-convert\" onclick=\"convertToInteractive('df-6b65d8d8-6921-4150-b076-1b35f5d66b97')\"\n",
              "              title=\"Convert this dataframe to an interactive table.\"\n",
              "              style=\"display:none;\">\n",
              "        \n",
              "  <svg xmlns=\"http://www.w3.org/2000/svg\" height=\"24px\"viewBox=\"0 0 24 24\"\n",
              "       width=\"24px\">\n",
              "    <path d=\"M0 0h24v24H0V0z\" fill=\"none\"/>\n",
              "    <path d=\"M18.56 5.44l.94 2.06.94-2.06 2.06-.94-2.06-.94-.94-2.06-.94 2.06-2.06.94zm-11 1L8.5 8.5l.94-2.06 2.06-.94-2.06-.94L8.5 2.5l-.94 2.06-2.06.94zm10 10l.94 2.06.94-2.06 2.06-.94-2.06-.94-.94-2.06-.94 2.06-2.06.94z\"/><path d=\"M17.41 7.96l-1.37-1.37c-.4-.4-.92-.59-1.43-.59-.52 0-1.04.2-1.43.59L10.3 9.45l-7.72 7.72c-.78.78-.78 2.05 0 2.83L4 21.41c.39.39.9.59 1.41.59.51 0 1.02-.2 1.41-.59l7.78-7.78 2.81-2.81c.8-.78.8-2.07 0-2.86zM5.41 20L4 18.59l7.72-7.72 1.47 1.35L5.41 20z\"/>\n",
              "  </svg>\n",
              "      </button>\n",
              "      \n",
              "  <style>\n",
              "    .colab-df-container {\n",
              "      display:flex;\n",
              "      flex-wrap:wrap;\n",
              "      gap: 12px;\n",
              "    }\n",
              "\n",
              "    .colab-df-convert {\n",
              "      background-color: #E8F0FE;\n",
              "      border: none;\n",
              "      border-radius: 50%;\n",
              "      cursor: pointer;\n",
              "      display: none;\n",
              "      fill: #1967D2;\n",
              "      height: 32px;\n",
              "      padding: 0 0 0 0;\n",
              "      width: 32px;\n",
              "    }\n",
              "\n",
              "    .colab-df-convert:hover {\n",
              "      background-color: #E2EBFA;\n",
              "      box-shadow: 0px 1px 2px rgba(60, 64, 67, 0.3), 0px 1px 3px 1px rgba(60, 64, 67, 0.15);\n",
              "      fill: #174EA6;\n",
              "    }\n",
              "\n",
              "    [theme=dark] .colab-df-convert {\n",
              "      background-color: #3B4455;\n",
              "      fill: #D2E3FC;\n",
              "    }\n",
              "\n",
              "    [theme=dark] .colab-df-convert:hover {\n",
              "      background-color: #434B5C;\n",
              "      box-shadow: 0px 1px 3px 1px rgba(0, 0, 0, 0.15);\n",
              "      filter: drop-shadow(0px 1px 2px rgba(0, 0, 0, 0.3));\n",
              "      fill: #FFFFFF;\n",
              "    }\n",
              "  </style>\n",
              "\n",
              "      <script>\n",
              "        const buttonEl =\n",
              "          document.querySelector('#df-6b65d8d8-6921-4150-b076-1b35f5d66b97 button.colab-df-convert');\n",
              "        buttonEl.style.display =\n",
              "          google.colab.kernel.accessAllowed ? 'block' : 'none';\n",
              "\n",
              "        async function convertToInteractive(key) {\n",
              "          const element = document.querySelector('#df-6b65d8d8-6921-4150-b076-1b35f5d66b97');\n",
              "          const dataTable =\n",
              "            await google.colab.kernel.invokeFunction('convertToInteractive',\n",
              "                                                     [key], {});\n",
              "          if (!dataTable) return;\n",
              "\n",
              "          const docLinkHtml = 'Like what you see? Visit the ' +\n",
              "            '<a target=\"_blank\" href=https://colab.research.google.com/notebooks/data_table.ipynb>data table notebook</a>'\n",
              "            + ' to learn more about interactive tables.';\n",
              "          element.innerHTML = '';\n",
              "          dataTable['output_type'] = 'display_data';\n",
              "          await google.colab.output.renderOutput(dataTable, element);\n",
              "          const docLink = document.createElement('div');\n",
              "          docLink.innerHTML = docLinkHtml;\n",
              "          element.appendChild(docLink);\n",
              "        }\n",
              "      </script>\n",
              "    </div>\n",
              "  </div>\n",
              "  "
            ],
            "text/plain": [
              "         SK_ID_PREV  SK_ID_CURR  ...  DAYS_TERMINATION  NFLAG_INSURED_ON_APPROVAL\n",
              "201668      1369693      100001  ...           -1612.0                        0.0\n",
              "892077      1038818      100002  ...             -17.0                        0.0\n",
              "1223745     2396755      100003  ...           -1976.0                        1.0\n",
              "1021650     2636178      100003  ...            -639.0                        0.0\n",
              "575941      1810518      100003  ...            -527.0                        1.0\n",
              "\n",
              "[5 rows x 34 columns]"
            ]
          },
          "metadata": {},
          "execution_count": 13
        }
      ]
    },
    {
      "cell_type": "code",
      "source": [
        "previous_application.shape"
      ],
      "metadata": {
        "colab": {
          "base_uri": "https://localhost:8080/"
        },
        "id": "JBwy2I6LFhx-",
        "outputId": "856e2d31-c07d-4899-c5e1-f6c1fedee3f0"
      },
      "execution_count": null,
      "outputs": [
        {
          "output_type": "execute_result",
          "data": {
            "text/plain": [
              "(1670214, 34)"
            ]
          },
          "metadata": {},
          "execution_count": 14
        }
      ]
    },
    {
      "cell_type": "code",
      "source": [
        "#engineering some features on domain knowledge\n",
        "\n",
        "self.previous_application['AMT_DECLINED'] = self.previous_application['AMT_APPLICATION'] - self.previous_application['AMT_CREDIT']\n",
        "\n",
        "self.previous_application['AMT_CREDIT_GOODS_RATIO'] = self.previous_application['AMT_CREDIT'] / (self.previous_application['AMT_GOODS_PRICE'] + 0.00001)\n",
        "self.previous_application['AMT_CREDIT_GOODS_DIFF'] = self.previous_application['AMT_CREDIT'] - self.previous_application['AMT_GOODS_PRICE']\n",
        "self.previous_application['AMT_CREDIT_APPLICATION_RATIO'] = self.previous_application['AMT_APPLICATION'] / (self.previous_application['AMT_CREDIT'] + 0.00001)\n",
        "self.previous_application['CREDIT_DOWNPAYMENT_RATIO'] = self.previous_application['AMT_DOWN_PAYMENT'] / (self.previous_application['AMT_CREDIT'] + 0.00001)\n",
        "self.previous_application['GOOD_DOWNPAYMET_RATIO'] = self.previous_application['AMT_DOWN_PAYMENT'] / (self.previous_application['AMT_GOODS_PRICE'] + 0.00001)\n",
        "self.previous_application['INTEREST_DOWNPAYMENT'] = self.previous_application['RATE_DOWN_PAYMENT'] * self.previous_application['AMT_DOWN_PAYMENT']\n",
        "self.previous_application['INTEREST_CREDIT'] = self.previous_application['AMT_CREDIT'] * self.previous_application['RATE_INTEREST_PRIMARY']\n",
        "self.previous_application['INTEREST_CREDIT_PRIVILEGED'] = self.previous_application['AMT_CREDIT'] * self.previous_application['RATE_INTEREST_PRIVILEGED']\n",
        "self.previous_application['APPLICATION_AMT_TO_DECISION_RATIO'] = self.previous_application['AMT_APPLICATION'] / (self.previous_application['DAYS_DECISION'] + 0.00001) * -1\n",
        "self.previous_application['AMT_APPLICATION_TO_SELLERPLACE_AREA'] = self.previous_application['AMT_APPLICATION'] / (self.previous_application['SELLERPLACE_AREA'] + 0.00001)\n",
        "self.previous_application['ANNUITY'] = self.previous_application['AMT_CREDIT'] / (self.previous_application['CNT_PAYMENT'] + 0.00001)\n",
        "self.previous_application['ANNUITY_GOODS'] = self.previous_application['AMT_GOODS_PRICE'] / (self.previous_application['CNT_PAYMENT'] + 0.00001)\n",
        "self.previous_application['DAYS_FIRST_LAST_DUE_DIFF' ] = self.previous_application['DAYS_LAST_DUE'] - self.previous_application['DAYS_FIRST_DUE']\n",
        "self.previous_application['AMT_CREDIT_HOUR_PROCESS_START'] = self.previous_application['AMT_CREDIT'] * self.previous_application['HOUR_APPR_PROCESS_START']\n",
        "self.previous_application['AMT_CREDIT_NFLAG_LAST_APPL_DAY'] = self.previous_application['AMT_CREDIT'] * self.previous_application['NFLAG_LAST_APPL_IN_DAY']\n",
        "self.previous_application['AMT_CREDIT_YIELD_GROUP'] = self.previous_application['AMT_CREDIT'] * self.previous_application['NAME_YIELD_GROUP']\n",
        "\n",
        "#https://www.kaggle.com/c/home-credit-default-risk/discussion/64598\n",
        "self.previous_application['AMT_INTEREST'] = self.previous_application['CNT_PAYMENT'] * self.previous_application[\n",
        "                                        'AMT_ANNUITY'] - self.previous_application['AMT_CREDIT'] \n",
        "self.previous_application['INTEREST_SHARE'] = self.previous_application['AMT_INTEREST'] / (self.previous_application[\n",
        "                                                                                        'AMT_CREDIT'] + 0.00001)\n",
        "self.previous_application['INTEREST_RATE'] = 2 * 12 * self.previous_application['AMT_INTEREST'] / (self.previous_application[\n",
        "                                            'AMT_CREDIT'] * (self.previous_application['CNT_PAYMENT'] + 1))"
      ],
      "metadata": {
        "id": "Yneuzkg420vP"
      },
      "execution_count": null,
      "outputs": []
    },
    {
      "cell_type": "code",
      "source": [
        ""
      ],
      "metadata": {
        "id": "WLMCx6M_20ze"
      },
      "execution_count": null,
      "outputs": []
    },
    {
      "cell_type": "code",
      "source": [
        ""
      ],
      "metadata": {
        "id": "i_rhHv_k204F"
      },
      "execution_count": null,
      "outputs": []
    },
    {
      "cell_type": "code",
      "source": [
        ""
      ],
      "metadata": {
        "id": "HrGp5-XFoahw"
      },
      "execution_count": null,
      "outputs": []
    },
    {
      "cell_type": "markdown",
      "source": [
        "## **credit_card_balance.csv**\n",
        "\n",
        "This table consists of the monthly data related to any or multiple Credit Cards that the applicant had with the Home Credit Group. The table contains fields like balance, the credit limit, amount of drawings, etc. for each month of the credit card."
      ],
      "metadata": {
        "id": "k78r4CnosoKC"
      }
    },
    {
      "cell_type": "code",
      "source": [
        "cc_balance.shape"
      ],
      "metadata": {
        "id": "rYLL1_RifdbC"
      },
      "execution_count": null,
      "outputs": []
    },
    {
      "cell_type": "code",
      "source": [
        " #there is one abruptly large value for AMT_PAYMENT_CURRENT\n",
        "cc_balance['AMT_PAYMENT_CURRENT'][cc_balance['AMT_PAYMENT_CURRENT'] > 4000000] = np.nan\n",
        "\n",
        "#calculating the total missing values for each previous credit card\n",
        "cc_balance['MISSING_VALS_TOTAL_CC'] = cc_balance.isna().sum(axis = 1)\n",
        "\n",
        "#making the MONTHS_BALANCE Positive\n",
        "cc_balance['MONTHS_BALANCE'] = np.abs(cc_balance['MONTHS_BALANCE'])\n",
        "\n",
        "#sorting the DataFrame according to the month of status from oldest to latest, for rolling computations\n",
        "cc_balance = cc_balance.sort_values(by = ['SK_ID_PREV','MONTHS_BALANCE'], ascending = [1,0])"
      ],
      "metadata": {
        "colab": {
          "base_uri": "https://localhost:8080/",
          "height": 234
        },
        "id": "N5IIHw37oaUt",
        "outputId": "cfa8f339-be25-4ae7-a2cf-b3e12f7e107a"
      },
      "execution_count": null,
      "outputs": [
        {
          "output_type": "error",
          "ename": "NameError",
          "evalue": "ignored",
          "traceback": [
            "\u001b[0;31m---------------------------------------------------------------------------\u001b[0m",
            "\u001b[0;31mNameError\u001b[0m                                 Traceback (most recent call last)",
            "\u001b[0;32m<ipython-input-36-70664bdc6fca>\u001b[0m in \u001b[0;36m<module>\u001b[0;34m()\u001b[0m\n\u001b[1;32m      1\u001b[0m \u001b[0;31m#there is one abruptly large value for AMT_PAYMENT_CURRENT\u001b[0m\u001b[0;34m\u001b[0m\u001b[0;34m\u001b[0m\u001b[0;34m\u001b[0m\u001b[0m\n\u001b[0;32m----> 2\u001b[0;31m \u001b[0mcc_balance\u001b[0m\u001b[0;34m[\u001b[0m\u001b[0;34m'AMT_PAYMENT_CURRENT'\u001b[0m\u001b[0;34m]\u001b[0m\u001b[0;34m[\u001b[0m\u001b[0mcc_balance\u001b[0m\u001b[0;34m[\u001b[0m\u001b[0;34m'AMT_PAYMENT_CURRENT'\u001b[0m\u001b[0;34m]\u001b[0m \u001b[0;34m>\u001b[0m \u001b[0;36m4000000\u001b[0m\u001b[0;34m]\u001b[0m \u001b[0;34m=\u001b[0m \u001b[0mnp\u001b[0m\u001b[0;34m.\u001b[0m\u001b[0mnan\u001b[0m\u001b[0;34m\u001b[0m\u001b[0;34m\u001b[0m\u001b[0m\n\u001b[0m\u001b[1;32m      3\u001b[0m \u001b[0;34m\u001b[0m\u001b[0m\n\u001b[1;32m      4\u001b[0m \u001b[0;31m#calculating the total missing values for each previous credit card\u001b[0m\u001b[0;34m\u001b[0m\u001b[0;34m\u001b[0m\u001b[0;34m\u001b[0m\u001b[0m\n\u001b[1;32m      5\u001b[0m \u001b[0mcc_balance\u001b[0m\u001b[0;34m[\u001b[0m\u001b[0;34m'MISSING_VALS_TOTAL_CC'\u001b[0m\u001b[0;34m]\u001b[0m \u001b[0;34m=\u001b[0m \u001b[0mcc_balance\u001b[0m\u001b[0;34m.\u001b[0m\u001b[0misna\u001b[0m\u001b[0;34m(\u001b[0m\u001b[0;34m)\u001b[0m\u001b[0;34m.\u001b[0m\u001b[0msum\u001b[0m\u001b[0;34m(\u001b[0m\u001b[0maxis\u001b[0m \u001b[0;34m=\u001b[0m \u001b[0;36m1\u001b[0m\u001b[0;34m)\u001b[0m\u001b[0;34m\u001b[0m\u001b[0;34m\u001b[0m\u001b[0m\n",
            "\u001b[0;31mNameError\u001b[0m: name 'cc_balance' is not defined"
          ]
        }
      ]
    },
    {
      "cell_type": "code",
      "source": [
        "cc_balance = remove_column(cc_balance)\n",
        "\n",
        "cc_balance = filling_nan_value(cc_balance)"
      ],
      "metadata": {
        "id": "p2g-yW0tfeUY"
      },
      "execution_count": null,
      "outputs": []
    },
    {
      "cell_type": "code",
      "source": [
        "cc_balance.shape"
      ],
      "metadata": {
        "id": "uCMhl0_nfeZQ"
      },
      "execution_count": null,
      "outputs": []
    },
    {
      "cell_type": "code",
      "source": [
        ""
      ],
      "metadata": {
        "id": "QBNj9t1IoalB"
      },
      "execution_count": null,
      "outputs": []
    },
    {
      "cell_type": "code",
      "source": [
        "#Creating new features\n",
        "cc_balance['AMT_DRAWING_SUM'] = cc_balance['AMT_DRAWINGS_ATM_CURRENT'] + cc_balance['AMT_DRAWINGS_CURRENT'] + cc_balance[\n",
        "                            'AMT_DRAWINGS_OTHER_CURRENT'] + cc_balance['AMT_DRAWINGS_POS_CURRENT']\n",
        "\n",
        "cc_balance['BALANCE_LIMIT_RATIO'] = self.cc_balance['AMT_BALANCE'] / (self.cc_balance['AMT_CREDIT_LIMIT_ACTUAL'] + 0.00001)\n",
        "self.cc_balance['CNT_DRAWING_SUM'] = self.cc_balance['CNT_DRAWINGS_ATM_CURRENT'] + self.cc_balance['CNT_DRAWINGS_CURRENT'] + self.cc_balance[\n",
        "                                    'CNT_DRAWINGS_OTHER_CURRENT'] + self.cc_balance['CNT_DRAWINGS_POS_CURRENT'] + self.cc_balance['CNT_INSTALMENT_MATURE_CUM']\n",
        "self.cc_balance['MIN_PAYMENT_RATIO'] = self.cc_balance['AMT_PAYMENT_CURRENT'] / (self.cc_balance['AMT_INST_MIN_REGULARITY'] + 0.0001)\n",
        "self.cc_balance['PAYMENT_MIN_DIFF'] = self.cc_balance['AMT_PAYMENT_CURRENT'] - self.cc_balance['AMT_INST_MIN_REGULARITY']\n",
        "self.cc_balance['MIN_PAYMENT_TOTAL_RATIO'] = self.cc_balance['AMT_PAYMENT_TOTAL_CURRENT'] / (self.cc_balance['AMT_INST_MIN_REGULARITY'] +0.00001)\n",
        "self.cc_balance['PAYMENT_MIN_DIFF'] = self.cc_balance['AMT_PAYMENT_TOTAL_CURRENT'] - self.cc_balance['AMT_INST_MIN_REGULARITY']\n",
        "self.cc_balance['AMT_INTEREST_RECEIVABLE'] = self.cc_balance['AMT_TOTAL_RECEIVABLE'] - self.cc_balance['AMT_RECEIVABLE_PRINCIPAL']\n",
        "self.cc_balance['SK_DPD_RATIO'] = self.cc_balance['SK_DPD'] / (self.cc_balance['SK_DPD_DEF'] + 0.00001)"
      ],
      "metadata": {
        "id": "uDsPzHhloaox"
      },
      "execution_count": null,
      "outputs": []
    },
    {
      "cell_type": "code",
      "source": [
        "#calculating the rolling Exponential Weighted Moving Average over months for certain features\n",
        "        rolling_columns = [\n",
        "            'AMT_BALANCE',\n",
        "            'AMT_CREDIT_LIMIT_ACTUAL',\n",
        "            'AMT_RECEIVABLE_PRINCIPAL',\n",
        "            'AMT_RECIVABLE',\n",
        "            'AMT_TOTAL_RECEIVABLE',\n",
        "            'AMT_DRAWING_SUM',\n",
        "            'BALANCE_LIMIT_RATIO',\n",
        "            'CNT_DRAWING_SUM',\n",
        "            'MIN_PAYMENT_RATIO',\n",
        "            'PAYMENT_MIN_DIFF',\n",
        "            'MIN_PAYMENT_TOTAL_RATIO',\n",
        "            'AMT_INTEREST_RECEIVABLE',\n",
        "            'SK_DPD_RATIO' ]\n",
        "        exp_weighted_columns = ['EXP_' + ele for ele in rolling_columns]\n",
        "        self.cc_balance[exp_weighted_columns] = self.cc_balance.groupby(['SK_ID_CURR','SK_ID_PREV'])[rolling_columns].transform(lambda x: x.ewm(alpha = 0.7).mean())\n",
        "        "
      ],
      "metadata": {
        "id": "QrqCMmnMgHvp"
      },
      "execution_count": null,
      "outputs": []
    },
    {
      "cell_type": "code",
      "source": [
        "#performing aggregations over SK_ID_PREV\n",
        "overall_aggregations = {\n",
        "    'SK_ID_CURR' : ['first'],\n",
        "    'MONTHS_BALANCE': ['max'],\n",
        "    'AMT_BALANCE' : ['sum','mean','max'],\n",
        "    'AMT_CREDIT_LIMIT_ACTUAL' : ['sum','mean','max'],\n",
        "    'AMT_DRAWINGS_ATM_CURRENT' : ['sum','max'],\n",
        "    'AMT_DRAWINGS_CURRENT' : ['sum','max'],\n",
        "    'AMT_DRAWINGS_OTHER_CURRENT' : ['sum','max'],\n",
        "    'AMT_DRAWINGS_POS_CURRENT' : ['sum','max'],\n",
        "    'AMT_INST_MIN_REGULARITY' : ['mean','min','max'],\n",
        "    'AMT_PAYMENT_CURRENT' : ['mean','min','max'],\n",
        "    'AMT_PAYMENT_TOTAL_CURRENT' : ['mean','min','max'],\n",
        "    'AMT_RECEIVABLE_PRINCIPAL' : ['sum','mean','max'],\n",
        "    'AMT_RECIVABLE' : ['sum','mean','max'],\n",
        "    'AMT_TOTAL_RECEIVABLE' : ['sum','mean','max'],\n",
        "    'CNT_DRAWINGS_ATM_CURRENT' : ['sum','max'],\n",
        "    'CNT_DRAWINGS_CURRENT' : ['sum','max'],\n",
        "    'CNT_DRAWINGS_OTHER_CURRENT' : ['sum','max'],\n",
        "    'CNT_DRAWINGS_POS_CURRENT' : ['sum','max'],\n",
        "    'CNT_INSTALMENT_MATURE_CUM' : ['sum','max','min'],\n",
        "    'SK_DPD' : ['sum','max'],\n",
        "    'SK_DPD_DEF' : ['sum','max'],\n",
        "\n",
        "    'AMT_DRAWING_SUM' : ['sum','max'],\n",
        "    'BALANCE_LIMIT_RATIO' : ['mean','max','min'],\n",
        "    'CNT_DRAWING_SUM' : ['sum','max'],\n",
        "    'MIN_PAYMENT_RATIO': ['min','mean'],\n",
        "    'PAYMENT_MIN_DIFF' : ['min','mean'],\n",
        "    'MIN_PAYMENT_TOTAL_RATIO' : ['min','mean'], \n",
        "    'AMT_INTEREST_RECEIVABLE' : ['min','mean'],\n",
        "    'SK_DPD_RATIO' : ['max','mean'],\n",
        "\n",
        "    'EXP_AMT_BALANCE' : ['last'],\n",
        "    'EXP_AMT_CREDIT_LIMIT_ACTUAL' : ['last'],\n",
        "    'EXP_AMT_RECEIVABLE_PRINCIPAL' : ['last'],\n",
        "    'EXP_AMT_RECIVABLE' : ['last'],\n",
        "    'EXP_AMT_TOTAL_RECEIVABLE' : ['last'],\n",
        "    'EXP_AMT_DRAWING_SUM' : ['last'],\n",
        "    'EXP_BALANCE_LIMIT_RATIO' : ['last'],\n",
        "    'EXP_CNT_DRAWING_SUM' : ['last'],\n",
        "    'EXP_MIN_PAYMENT_RATIO' : ['last'],\n",
        "    'EXP_PAYMENT_MIN_DIFF' : ['last'],\n",
        "    'EXP_MIN_PAYMENT_TOTAL_RATIO' : ['last'],\n",
        "    'EXP_AMT_INTEREST_RECEIVABLE' : ['last'],\n",
        "    'EXP_SK_DPD_RATIO' : ['last'],\n",
        "    'MISSING_VALS_TOTAL_CC' : ['sum']\n",
        "}\n",
        "aggregations_for_categories = {\n",
        "    'SK_DPD' : ['sum','max'],\n",
        "    'SK_DPD_DEF' : ['sum','max'],\n",
        "    'BALANCE_LIMIT_RATIO' : ['mean','max','min'],\n",
        "    'CNT_DRAWING_SUM' : ['sum','max'],\n",
        "    'MIN_PAYMENT_RATIO': ['min','mean'],\n",
        "    'PAYMENT_MIN_DIFF' : ['min','mean'],\n",
        "    'MIN_PAYMENT_TOTAL_RATIO' : ['min','mean'], \n",
        "    'AMT_INTEREST_RECEIVABLE' : ['min','mean'],\n",
        "    'SK_DPD_RATIO' : ['max','mean'],\n",
        "    'EXP_AMT_DRAWING_SUM' : ['last'],\n",
        "    'EXP_BALANCE_LIMIT_RATIO' : ['last'],\n",
        "    'EXP_CNT_DRAWING_SUM' : ['last'],\n",
        "    'EXP_MIN_PAYMENT_RATIO' : ['last'],\n",
        "    'EXP_PAYMENT_MIN_DIFF' : ['last'],\n",
        "    'EXP_MIN_PAYMENT_TOTAL_RATIO' : ['last'],\n",
        "    'EXP_AMT_INTEREST_RECEIVABLE' : ['last'],\n",
        "    'EXP_SK_DPD_RATIO' : ['last']\n",
        "}\n",
        "aggregations_for_year = {\n",
        "    'SK_DPD' : ['sum','max'],\n",
        "    'SK_DPD_DEF' : ['sum','max'],\n",
        "    'BALANCE_LIMIT_RATIO' : ['mean','max','min'],\n",
        "    'CNT_DRAWING_SUM' : ['sum','max'],\n",
        "    'MIN_PAYMENT_RATIO': ['min','mean'],\n",
        "    'PAYMENT_MIN_DIFF' : ['min','mean'],\n",
        "    'MIN_PAYMENT_TOTAL_RATIO' : ['min','mean'], \n",
        "    'AMT_INTEREST_RECEIVABLE' : ['min','mean'],\n",
        "    'SK_DPD_RATIO' : ['max','mean'],\n",
        "    'EXP_AMT_DRAWING_SUM' : ['last'],\n",
        "    'EXP_BALANCE_LIMIT_RATIO' : ['last'],\n",
        "    'EXP_CNT_DRAWING_SUM' : ['last'],\n",
        "    'EXP_MIN_PAYMENT_RATIO' : ['last'],\n",
        "    'EXP_PAYMENT_MIN_DIFF' : ['last'],\n",
        "    'EXP_MIN_PAYMENT_TOTAL_RATIO' : ['last'],\n",
        "    'EXP_AMT_INTEREST_RECEIVABLE' : ['last'],\n",
        "    'EXP_SK_DPD_RATIO' : ['last']\n",
        "}\n",
        "#performing overall aggregations over SK_ID_PREV for all features\n",
        "cc_balance_aggregated_overall = self.cc_balance.groupby('SK_ID_PREV').agg(overall_aggregations)\n",
        "cc_balance_aggregated_overall.columns = ['_'.join(ele).upper() for ele in cc_balance_aggregated_overall.columns]\n",
        "cc_balance_aggregated_overall.rename(columns = {'SK_ID_CURR_FIRST' : 'SK_ID_CURR'}, inplace = True)\n"
      ],
      "metadata": {
        "id": "-F42hXvsgH1a"
      },
      "execution_count": null,
      "outputs": []
    },
    {
      "cell_type": "code",
      "source": [
        "#aggregating over SK_ID_PREV for different categories\n",
        "contract_status_categories = ['Active','Completed']\n",
        "cc_balance_aggregated_categories = pd.DataFrame()\n",
        "for i, contract_type in enumerate(contract_status_categories):\n",
        "    group = self.cc_balance[self.cc_balance['NAME_CONTRACT_STATUS'] == contract_type].groupby('SK_ID_PREV').agg(aggregations_for_categories)\n",
        "    group.columns = ['_'.join(ele).upper() + '_' + contract_type.upper() for ele in group.columns]\n",
        "    if i == 0:\n",
        "        cc_balance_aggregated_categories = group\n",
        "    else:\n",
        "        cc_balance_aggregated_categories = cc_balance_aggregated_categories.merge(group, on = 'SK_ID_PREV', how = 'outer')\n",
        "#aggregating over SK_ID_PREV for rest of the categories\n",
        "cc_balance_aggregated_categories_rest = self.cc_balance[(self.cc_balance['NAME_CONTRACT_STATUS'] != 'Active') & \n",
        "                                (self.cc_balance.NAME_CONTRACT_STATUS != 'Completed')].groupby('SK_ID_PREV').agg(aggregations_for_categories)\n",
        "cc_balance_aggregated_categories_rest.columns = ['_'.join(ele).upper() + '_REST' for ele in cc_balance_aggregated_categories_rest.columns]\n",
        "#merging all the categorical aggregations\n",
        "cc_balance_aggregated_categories = cc_balance_aggregated_categories.merge(cc_balance_aggregated_categories_rest, on = 'SK_ID_PREV', how = 'outer')\n",
        "\n",
        "#aggregating over SK_ID_PREV for different years\n",
        "self.cc_balance['YEAR_BALANCE'] = self.cc_balance['MONTHS_BALANCE'] //12\n",
        "cc_balance_aggregated_year = pd.DataFrame()\n",
        "for year in range(2):\n",
        "    group = self.cc_balance[self.cc_balance['YEAR_BALANCE'] == year].groupby('SK_ID_PREV').agg(aggregations_for_year)\n",
        "    group.columns = ['_'.join(ele).upper() + '_YEAR_' + str(year) for ele in group.columns]\n",
        "    if year == 0:\n",
        "        cc_balance_aggregated_year = group\n",
        "    else:\n",
        "        cc_balance_aggregated_year = cc_balance_aggregated_year.merge(group, on = 'SK_ID_PREV', how = 'outer')\n",
        "#aggregating over SK_ID_PREV for rest of years\n",
        "cc_balance_aggregated_year_rest = self.cc_balance[self.cc_balance['YEAR_BALANCE'] >= 2].groupby('SK_ID_PREV').agg(aggregations_for_year)\n",
        "cc_balance_aggregated_year_rest.columns = ['_'.join(ele).upper() + '_YEAR_REST' for ele in cc_balance_aggregated_year_rest.columns]\n",
        "#merging all the yearwise aggregations\n",
        "cc_balance_aggregated_year = cc_balance_aggregated_year.merge(cc_balance_aggregated_year_rest, on = 'SK_ID_PREV', how = 'outer')\n",
        "self.cc_balance = self.cc_balance.drop('YEAR_BALANCE', axis = 1)\n"
      ],
      "metadata": {
        "id": "NOBlcmPmgH4p"
      },
      "execution_count": null,
      "outputs": []
    },
    {
      "cell_type": "code",
      "source": [
        "\n",
        "#merging all the aggregations\n",
        "cc_aggregated = cc_balance_aggregated_overall.merge(cc_balance_aggregated_categories, on = 'SK_ID_PREV', how = 'outer')\n",
        "cc_aggregated = cc_aggregated.merge(cc_balance_aggregated_year, on = 'SK_ID_PREV', how = 'outer')\n"
      ],
      "metadata": {
        "id": "DcS2CpXPgz-H"
      },
      "execution_count": null,
      "outputs": []
    },
    {
      "cell_type": "markdown",
      "source": [
        "## **installments_payments.csv**"
      ],
      "metadata": {
        "id": "qsvKM8Y8ha9E"
      }
    },
    {
      "cell_type": "markdown",
      "source": [
        "This table contains the details about each installment of client's previous credits with Home Credit Group.\n",
        "\n",
        "We start by sorting the data first by SK_ID_CURR and SK_ID_PREV, and then by NUM_INSTALMENT_NUMBER. This brings the latest installments in the end.\n",
        "We create some features, such as the number of days the payment was delayed, the difference in amount of payment required vs paid, etc.\n",
        "Next we aggregate these rows over SK_ID_PREV, such that each client's previous loan gets one row. These aggregations are done in three ways, first overall aggregations, second we aggregate only those installments which were in the last 365 days, and lastly, we aggregate the first 5 installments of every loan. This will help us to capture the starting behaviour, the latest behaviour and the overall behaviour of the client's installments payments.\n",
        "Now to merge this table with main table, we aggregate the data over SK_ID_CURR."
      ],
      "metadata": {
        "id": "49FtLkW_hk6j"
      }
    },
    {
      "cell_type": "code",
      "source": [
        "instal_pay.shape"
      ],
      "metadata": {
        "colab": {
          "base_uri": "https://localhost:8080/"
        },
        "id": "-Lxv42XPg0Az",
        "outputId": "b4307d93-fb36-4b04-e6b1-04a2ccbbb4e1"
      },
      "execution_count": null,
      "outputs": [
        {
          "output_type": "execute_result",
          "data": {
            "text/plain": [
              "(13605401, 8)"
            ]
          },
          "metadata": {},
          "execution_count": 37
        }
      ]
    },
    {
      "cell_type": "code",
      "source": [
        "instal_pay.head()"
      ],
      "metadata": {
        "colab": {
          "base_uri": "https://localhost:8080/",
          "height": 206
        },
        "id": "SGuqPySeg0Di",
        "outputId": "e1464170-76cb-4f0f-9c78-abd78fe0235b"
      },
      "execution_count": null,
      "outputs": [
        {
          "output_type": "execute_result",
          "data": {
            "text/html": [
              "\n",
              "  <div id=\"df-fe93ac29-da6f-4473-83f9-97f75e1664cb\">\n",
              "    <div class=\"colab-df-container\">\n",
              "      <div>\n",
              "<style scoped>\n",
              "    .dataframe tbody tr th:only-of-type {\n",
              "        vertical-align: middle;\n",
              "    }\n",
              "\n",
              "    .dataframe tbody tr th {\n",
              "        vertical-align: top;\n",
              "    }\n",
              "\n",
              "    .dataframe thead th {\n",
              "        text-align: right;\n",
              "    }\n",
              "</style>\n",
              "<table border=\"1\" class=\"dataframe\">\n",
              "  <thead>\n",
              "    <tr style=\"text-align: right;\">\n",
              "      <th></th>\n",
              "      <th>SK_ID_PREV</th>\n",
              "      <th>SK_ID_CURR</th>\n",
              "      <th>NUM_INSTALMENT_VERSION</th>\n",
              "      <th>NUM_INSTALMENT_NUMBER</th>\n",
              "      <th>DAYS_INSTALMENT</th>\n",
              "      <th>DAYS_ENTRY_PAYMENT</th>\n",
              "      <th>AMT_INSTALMENT</th>\n",
              "      <th>AMT_PAYMENT</th>\n",
              "    </tr>\n",
              "  </thead>\n",
              "  <tbody>\n",
              "    <tr>\n",
              "      <th>0</th>\n",
              "      <td>1054186</td>\n",
              "      <td>161674</td>\n",
              "      <td>1.0</td>\n",
              "      <td>6</td>\n",
              "      <td>-1180.0</td>\n",
              "      <td>-1187.0</td>\n",
              "      <td>6948.360</td>\n",
              "      <td>6948.360</td>\n",
              "    </tr>\n",
              "    <tr>\n",
              "      <th>1</th>\n",
              "      <td>1330831</td>\n",
              "      <td>151639</td>\n",
              "      <td>0.0</td>\n",
              "      <td>34</td>\n",
              "      <td>-2156.0</td>\n",
              "      <td>-2156.0</td>\n",
              "      <td>1716.525</td>\n",
              "      <td>1716.525</td>\n",
              "    </tr>\n",
              "    <tr>\n",
              "      <th>2</th>\n",
              "      <td>2085231</td>\n",
              "      <td>193053</td>\n",
              "      <td>2.0</td>\n",
              "      <td>1</td>\n",
              "      <td>-63.0</td>\n",
              "      <td>-63.0</td>\n",
              "      <td>25425.000</td>\n",
              "      <td>25425.000</td>\n",
              "    </tr>\n",
              "    <tr>\n",
              "      <th>3</th>\n",
              "      <td>2452527</td>\n",
              "      <td>199697</td>\n",
              "      <td>1.0</td>\n",
              "      <td>3</td>\n",
              "      <td>-2418.0</td>\n",
              "      <td>-2426.0</td>\n",
              "      <td>24350.130</td>\n",
              "      <td>24350.130</td>\n",
              "    </tr>\n",
              "    <tr>\n",
              "      <th>4</th>\n",
              "      <td>2714724</td>\n",
              "      <td>167756</td>\n",
              "      <td>1.0</td>\n",
              "      <td>2</td>\n",
              "      <td>-1383.0</td>\n",
              "      <td>-1366.0</td>\n",
              "      <td>2165.040</td>\n",
              "      <td>2160.585</td>\n",
              "    </tr>\n",
              "  </tbody>\n",
              "</table>\n",
              "</div>\n",
              "      <button class=\"colab-df-convert\" onclick=\"convertToInteractive('df-fe93ac29-da6f-4473-83f9-97f75e1664cb')\"\n",
              "              title=\"Convert this dataframe to an interactive table.\"\n",
              "              style=\"display:none;\">\n",
              "        \n",
              "  <svg xmlns=\"http://www.w3.org/2000/svg\" height=\"24px\"viewBox=\"0 0 24 24\"\n",
              "       width=\"24px\">\n",
              "    <path d=\"M0 0h24v24H0V0z\" fill=\"none\"/>\n",
              "    <path d=\"M18.56 5.44l.94 2.06.94-2.06 2.06-.94-2.06-.94-.94-2.06-.94 2.06-2.06.94zm-11 1L8.5 8.5l.94-2.06 2.06-.94-2.06-.94L8.5 2.5l-.94 2.06-2.06.94zm10 10l.94 2.06.94-2.06 2.06-.94-2.06-.94-.94-2.06-.94 2.06-2.06.94z\"/><path d=\"M17.41 7.96l-1.37-1.37c-.4-.4-.92-.59-1.43-.59-.52 0-1.04.2-1.43.59L10.3 9.45l-7.72 7.72c-.78.78-.78 2.05 0 2.83L4 21.41c.39.39.9.59 1.41.59.51 0 1.02-.2 1.41-.59l7.78-7.78 2.81-2.81c.8-.78.8-2.07 0-2.86zM5.41 20L4 18.59l7.72-7.72 1.47 1.35L5.41 20z\"/>\n",
              "  </svg>\n",
              "      </button>\n",
              "      \n",
              "  <style>\n",
              "    .colab-df-container {\n",
              "      display:flex;\n",
              "      flex-wrap:wrap;\n",
              "      gap: 12px;\n",
              "    }\n",
              "\n",
              "    .colab-df-convert {\n",
              "      background-color: #E8F0FE;\n",
              "      border: none;\n",
              "      border-radius: 50%;\n",
              "      cursor: pointer;\n",
              "      display: none;\n",
              "      fill: #1967D2;\n",
              "      height: 32px;\n",
              "      padding: 0 0 0 0;\n",
              "      width: 32px;\n",
              "    }\n",
              "\n",
              "    .colab-df-convert:hover {\n",
              "      background-color: #E2EBFA;\n",
              "      box-shadow: 0px 1px 2px rgba(60, 64, 67, 0.3), 0px 1px 3px 1px rgba(60, 64, 67, 0.15);\n",
              "      fill: #174EA6;\n",
              "    }\n",
              "\n",
              "    [theme=dark] .colab-df-convert {\n",
              "      background-color: #3B4455;\n",
              "      fill: #D2E3FC;\n",
              "    }\n",
              "\n",
              "    [theme=dark] .colab-df-convert:hover {\n",
              "      background-color: #434B5C;\n",
              "      box-shadow: 0px 1px 3px 1px rgba(0, 0, 0, 0.15);\n",
              "      filter: drop-shadow(0px 1px 2px rgba(0, 0, 0, 0.3));\n",
              "      fill: #FFFFFF;\n",
              "    }\n",
              "  </style>\n",
              "\n",
              "      <script>\n",
              "        const buttonEl =\n",
              "          document.querySelector('#df-fe93ac29-da6f-4473-83f9-97f75e1664cb button.colab-df-convert');\n",
              "        buttonEl.style.display =\n",
              "          google.colab.kernel.accessAllowed ? 'block' : 'none';\n",
              "\n",
              "        async function convertToInteractive(key) {\n",
              "          const element = document.querySelector('#df-fe93ac29-da6f-4473-83f9-97f75e1664cb');\n",
              "          const dataTable =\n",
              "            await google.colab.kernel.invokeFunction('convertToInteractive',\n",
              "                                                     [key], {});\n",
              "          if (!dataTable) return;\n",
              "\n",
              "          const docLinkHtml = 'Like what you see? Visit the ' +\n",
              "            '<a target=\"_blank\" href=https://colab.research.google.com/notebooks/data_table.ipynb>data table notebook</a>'\n",
              "            + ' to learn more about interactive tables.';\n",
              "          element.innerHTML = '';\n",
              "          dataTable['output_type'] = 'display_data';\n",
              "          await google.colab.output.renderOutput(dataTable, element);\n",
              "          const docLink = document.createElement('div');\n",
              "          docLink.innerHTML = docLinkHtml;\n",
              "          element.appendChild(docLink);\n",
              "        }\n",
              "      </script>\n",
              "    </div>\n",
              "  </div>\n",
              "  "
            ],
            "text/plain": [
              "   SK_ID_PREV  SK_ID_CURR  ...  AMT_INSTALMENT  AMT_PAYMENT\n",
              "0     1054186      161674  ...        6948.360     6948.360\n",
              "1     1330831      151639  ...        1716.525     1716.525\n",
              "2     2085231      193053  ...       25425.000    25425.000\n",
              "3     2452527      199697  ...       24350.130    24350.130\n",
              "4     2714724      167756  ...        2165.040     2160.585\n",
              "\n",
              "[5 rows x 8 columns]"
            ]
          },
          "metadata": {},
          "execution_count": 38
        }
      ]
    },
    {
      "cell_type": "code",
      "source": [
        "instal_pay = remove_column(instal_pay)\n",
        "\n",
        "instal_pay = filling_nan_value(instal_pay)"
      ],
      "metadata": {
        "id": "NBbPZBiiiIVK"
      },
      "execution_count": null,
      "outputs": []
    },
    {
      "cell_type": "code",
      "source": [
        "instal_pay.shape"
      ],
      "metadata": {
        "colab": {
          "base_uri": "https://localhost:8080/"
        },
        "id": "O65EpTbUiIZ7",
        "outputId": "c213298c-048b-448e-fd06-d0494a1e8b0e"
      },
      "execution_count": null,
      "outputs": [
        {
          "output_type": "execute_result",
          "data": {
            "text/plain": [
              "(13605401, 8)"
            ]
          },
          "metadata": {},
          "execution_count": 40
        }
      ]
    },
    {
      "cell_type": "code",
      "source": [
        "#engineering new features based on some domain based polynomial operations\n",
        "        self.installments_payments['DAYS_PAYMENT_RATIO'] = self.installments_payments['DAYS_INSTALMENT'] / (self.installments_payments['DAYS_ENTRY_PAYMENT'] + 0.00001)\n",
        "        self.installments_payments['DAYS_PAYMENT_DIFF'] = self.installments_payments['DAYS_INSTALMENT'] - self.installments_payments['DAYS_ENTRY_PAYMENT']\n",
        "        self.installments_payments['AMT_PAYMENT_RATIO'] = self.installments_payments['AMT_PAYMENT'] / (self.installments_payments['AMT_INSTALMENT'] + 0.00001)\n",
        "        self.installments_payments['AMT_PAYMENT_DIFF'] = self.installments_payments['AMT_INSTALMENT'] - self.installments_payments['AMT_PAYMENT']\n",
        "        self.installments_payments['EXP_DAYS_PAYMENT_RATIO'] = self.installments_payments['DAYS_PAYMENT_RATIO'].transform(lambda x: x.ewm(alpha = 0.5).mean())\n",
        "        self.installments_payments['EXP_DAYS_PAYMENT_DIFF'] = self.installments_payments['DAYS_PAYMENT_DIFF'].transform(lambda x: x.ewm(alpha = 0.5).mean())\n",
        "        self.installments_payments['EXP_AMT_PAYMENT_RATIO'] = self.installments_payments['AMT_PAYMENT_RATIO'].transform(lambda x: x.ewm(alpha = 0.5).mean())\n",
        "        self.installments_payments['EXP_AMT_PAYMENT_DIFF'] = self.installments_payments['AMT_PAYMENT_DIFF'].transform(lambda x: x.ewm(alpha = 0.5).mean())\n",
        "     "
      ],
      "metadata": {
        "id": "yPe_RYbtg0GB"
      },
      "execution_count": null,
      "outputs": []
    },
    {
      "cell_type": "code",
      "source": [
        ""
      ],
      "metadata": {
        "id": "5mtZqgcBg0Iv"
      },
      "execution_count": null,
      "outputs": []
    },
    {
      "cell_type": "code",
      "source": [
        "       #aggregating the data over SK_ID_PREV, i.e. for each previous loan\n",
        "        overall_aggregations = {\n",
        "            'MISSING_VALS_TOTAL_INSTAL' : ['sum'],\n",
        "            'NUM_INSTALMENT_VERSION' : ['mean','sum'],\n",
        "            'NUM_INSTALMENT_NUMBER' : ['max'],\n",
        "            'DAYS_INSTALMENT' : ['max','min'],\n",
        "            'DAYS_ENTRY_PAYMENT' : ['max','min'],\n",
        "            'AMT_INSTALMENT' : ['mean', 'sum', 'max'],\n",
        "            'AMT_PAYMENT' : ['mean', 'sum', 'max'],\n",
        "            'DAYS_PAYMENT_RATIO' : ['mean', 'min','max'],\n",
        "            'DAYS_PAYMENT_DIFF' : ['mean','min','max'],\n",
        "            'AMT_PAYMENT_RATIO' : ['mean','min','max'],\n",
        "            'AMT_PAYMENT_DIFF' : ['mean','min','max'],\n",
        "            'EXP_DAYS_PAYMENT_RATIO' : ['last'],\n",
        "            'EXP_DAYS_PAYMENT_DIFF' : ['last'],\n",
        "            'EXP_AMT_PAYMENT_RATIO' : ['last'],\n",
        "            'EXP_AMT_PAYMENT_DIFF' : ['last']\n",
        "        }\n",
        "        limited_period_aggregations = {\n",
        "            'NUM_INSTALMENT_VERSION' : ['mean','sum'],\n",
        "            'AMT_INSTALMENT' : ['mean', 'sum', 'max'],\n",
        "            'AMT_PAYMENT' : ['mean', 'sum', 'max'],\n",
        "            'DAYS_PAYMENT_RATIO' : ['mean', 'min','max'],\n",
        "            'DAYS_PAYMENT_DIFF' : ['mean','min','max'],\n",
        "            'AMT_PAYMENT_RATIO' : ['mean','min','max'],\n",
        "            'AMT_PAYMENT_DIFF' : ['mean','min','max'],\n",
        "            'EXP_DAYS_PAYMENT_RATIO' : ['last'],\n",
        "            'EXP_DAYS_PAYMENT_DIFF' : ['last'],\n",
        "            'EXP_AMT_PAYMENT_RATIO' : ['last'],\n",
        "            'EXP_AMT_PAYMENT_DIFF' : ['last']\n",
        "        }\n",
        "        #aggregating installments_payments over SK_ID_PREV for last 1 year installments\n",
        "        group_last_1_year = self.installments_payments[self.installments_payments['DAYS_INSTALMENT'] > -365].groupby('SK_ID_PREV').agg(limited_period_aggregations)\n",
        "        group_last_1_year.columns = ['_'.join(ele).upper() + '_LAST_1_YEAR' for ele in group_last_1_year.columns]\n",
        "        #aggregating installments_payments over SK_ID_PREV for first 5 installments\n",
        "        group_first_5_instalments = self.installments_payments.groupby('SK_ID_PREV', as_index = False).head(5).groupby('SK_ID_PREV').agg(limited_period_aggregations)\n",
        "        group_first_5_instalments.columns = ['_'.join(ele).upper() + '_FIRST_5_INSTALLMENTS' for ele in group_first_5_instalments.columns]\n",
        "        #overall aggregation of installments_payments over SK_ID_PREV\n",
        "        group_overall = self.installments_payments.groupby(['SK_ID_PREV','SK_ID_CURR'], as_index = False).agg(overall_aggregations)\n",
        "        group_overall.columns = ['_'.join(ele).upper() for ele in group_overall.columns]\n",
        "        group_overall.rename(columns = {'SK_ID_PREV_': 'SK_ID_PREV','SK_ID_CURR_' : 'SK_ID_CURR'}, inplace = True)\n",
        "\n",
        "        #merging all of the above aggregations together\n",
        "        installments_payments_agg_prev = group_overall.merge(group_last_1_year, on = 'SK_ID_PREV', how = 'outer')\n",
        "        installments_payments_agg_prev = installments_payments_agg_prev.merge(group_first_5_instalments, on = 'SK_ID_PREV', how = 'outer')"
      ],
      "metadata": {
        "id": "0--0CgYTg0Oq"
      },
      "execution_count": null,
      "outputs": []
    },
    {
      "cell_type": "code",
      "source": [
        ""
      ],
      "metadata": {
        "id": "FmDdDnB4oatW"
      },
      "execution_count": null,
      "outputs": []
    },
    {
      "cell_type": "code",
      "source": [
        "  #aggregating over SK_ID_CURR\n",
        "        main_features_aggregations = {\n",
        "            'MISSING_VALS_TOTAL_INSTAL_SUM' : ['sum'],\n",
        "            'NUM_INSTALMENT_VERSION_MEAN' : ['mean'],\n",
        "            'NUM_INSTALMENT_VERSION_SUM' : ['mean'],\n",
        "            'NUM_INSTALMENT_NUMBER_MAX' : ['mean','sum','max'],\n",
        "            'AMT_INSTALMENT_MEAN' : ['mean','sum','max'],\n",
        "            'AMT_INSTALMENT_SUM' : ['mean','sum','max'],\n",
        "            'AMT_INSTALMENT_MAX' : ['mean'],\n",
        "            'AMT_PAYMENT_MEAN' : ['mean','sum','max'],\n",
        "            'AMT_PAYMENT_SUM' : ['mean','sum','max'],\n",
        "            'AMT_PAYMENT_MAX' : ['mean'],\n",
        "            'DAYS_PAYMENT_RATIO_MEAN' : ['mean','min','max'],\n",
        "            'DAYS_PAYMENT_RATIO_MIN' : ['mean','min'],\n",
        "            'DAYS_PAYMENT_RATIO_MAX' : ['mean','max'],\n",
        "            'DAYS_PAYMENT_DIFF_MEAN' : ['mean','min','max'],\n",
        "            'DAYS_PAYMENT_DIFF_MIN' : ['mean','min'],\n",
        "            'DAYS_PAYMENT_DIFF_MAX' : ['mean','max'],\n",
        "            'AMT_PAYMENT_RATIO_MEAN' : ['mean', 'min','max'],\n",
        "            'AMT_PAYMENT_RATIO_MIN' : ['mean','min'],\n",
        "            'AMT_PAYMENT_RATIO_MAX' : ['mean','max'],\n",
        "            'AMT_PAYMENT_DIFF_MEAN' : ['mean','min','max'],\n",
        "            'AMT_PAYMENT_DIFF_MIN' : ['mean','min'],\n",
        "            'AMT_PAYMENT_DIFF_MAX' : ['mean','max'],\n",
        "            'EXP_DAYS_PAYMENT_RATIO_LAST' : ['mean'],\n",
        "            'EXP_DAYS_PAYMENT_DIFF_LAST' : ['mean'],\n",
        "            'EXP_AMT_PAYMENT_RATIO_LAST' : ['mean'],\n",
        "            'EXP_AMT_PAYMENT_DIFF_LAST' : ['mean']\n",
        "        }\n",
        "\n",
        "        grouped_main_features = installments_payments_agg_prev.groupby('SK_ID_CURR').agg(main_features_aggregations)\n",
        "        grouped_main_features.columns = ['_'.join(ele).upper() for ele in grouped_main_features.columns]\n",
        "\n",
        "        #group remaining ones\n",
        "        grouped_remaining_features = installments_payments_agg_prev.iloc[:,[1] + list(range(31,len(installments_payments_agg_prev.columns)))].groupby('SK_ID_CURR').mean()\n",
        "\n",
        "        installments_payments_aggregated = grouped_main_features.merge(grouped_remaining_features, on = 'SK_ID_CURR', how = 'inner')"
      ],
      "metadata": {
        "id": "93a2KDEbijHO"
      },
      "execution_count": null,
      "outputs": []
    },
    {
      "cell_type": "code",
      "source": [
        ""
      ],
      "metadata": {
        "id": "z83lZ2a9ijKg"
      },
      "execution_count": null,
      "outputs": []
    },
    {
      "cell_type": "code",
      "source": [
        ""
      ],
      "metadata": {
        "id": "4dt4gFeFijNg"
      },
      "execution_count": null,
      "outputs": []
    },
    {
      "cell_type": "markdown",
      "source": [
        "## **POS_CASH_balance.csv**"
      ],
      "metadata": {
        "id": "KyTzoqJjivzf"
      }
    },
    {
      "cell_type": "markdown",
      "source": [
        "This table contains the Monthly Balance Snapshots of previous Point of Sales and Cash Loans that the applicant had with Home Credit Group. The table contains columns like the status of contract, the number of installments left, etc.\n",
        "\n",
        "Similar to bureau_balance table, this table also has time based features. So we start off by computing the EDAs on CNT_INSTALMENT and CNT_INSTALMENT_FUTURE features.\n",
        "We create some domain based features next.\n",
        "We then aggregate the data over SK_ID_PREV. For this aggregation, we do it in 3 ways. Firstly we aggregate the whole data over SK_ID_PREV. We also aggregate the data for last 2 years separately and rest of the years separately. Finally, we also aggregate the data different Contract types, i.e. Active and Completed.\n",
        "Next, we aggregate the data over SK_ID_CURR, for it to be merged with main table."
      ],
      "metadata": {
        "id": "cMvpteCqizXz"
      }
    },
    {
      "cell_type": "code",
      "source": [
        "pos_cash_bal.head()"
      ],
      "metadata": {
        "colab": {
          "base_uri": "https://localhost:8080/",
          "height": 165
        },
        "id": "deprWqVZijSG",
        "outputId": "9cb0a803-355e-4c29-db51-6b60cda5ee6c"
      },
      "execution_count": null,
      "outputs": [
        {
          "output_type": "error",
          "ename": "NameError",
          "evalue": "ignored",
          "traceback": [
            "\u001b[0;31m---------------------------------------------------------------------------\u001b[0m",
            "\u001b[0;31mNameError\u001b[0m                                 Traceback (most recent call last)",
            "\u001b[0;32m<ipython-input-1-a74c0f2f7854>\u001b[0m in \u001b[0;36m<module>\u001b[0;34m()\u001b[0m\n\u001b[0;32m----> 1\u001b[0;31m \u001b[0mpos_cash_bal\u001b[0m\u001b[0;34m.\u001b[0m\u001b[0mhead\u001b[0m\u001b[0;34m(\u001b[0m\u001b[0;34m)\u001b[0m\u001b[0;34m\u001b[0m\u001b[0;34m\u001b[0m\u001b[0m\n\u001b[0m",
            "\u001b[0;31mNameError\u001b[0m: name 'pos_cash_bal' is not defined"
          ]
        }
      ]
    },
    {
      "cell_type": "code",
      "source": [
        "        #making the MONTHS_BALANCE Positive\n",
        "        self.pos_cash['MONTHS_BALANCE'] = np.abs(self.pos_cash['MONTHS_BALANCE'])\n",
        "        #sorting the DataFrame according to the month of status from oldest to latest, for rolling computations\n",
        "        self.pos_cash = self.pos_cash.sort_values(by=['SK_ID_PREV', 'MONTHS_BALANCE'], ascending=False)\n",
        "\n",
        "        #computing Exponential Moving Average for some features based on MONTHS_BALANCE\n",
        "        columns_for_ema = ['CNT_INSTALMENT', 'CNT_INSTALMENT_FUTURE']\n",
        "        exp_columns = ['EXP_'+ele for ele in columns_for_ema]\n",
        "        self.pos_cash[exp_columns] = self.pos_cash.groupby('SK_ID_PREV')[columns_for_ema].transform(lambda x: x.ewm(alpha = 0.6).mean())\n",
        "\n",
        "        #creating new features based on Domain Knowledge\n",
        "        self.pos_cash['SK_DPD_RATIO'] = self.pos_cash['SK_DPD'] / (self.pos_cash['SK_DPD_DEF'] + 0.00001)\n",
        "        self.pos_cash['TOTAL_TERM'] = self.pos_cash['CNT_INSTALMENT'] + self.pos_cash['CNT_INSTALMENT_FUTURE']\n",
        "        self.pos_cash['EXP_POS_TOTAL_TERM'] = self.pos_cash['EXP_CNT_INSTALMENT'] + self.pos_cash['EXP_CNT_INSTALMENT_FUTURE']"
      ],
      "metadata": {
        "id": "fXg36LsBijUK"
      },
      "execution_count": null,
      "outputs": []
    },
    {
      "cell_type": "code",
      "source": [
        ""
      ],
      "metadata": {
        "id": "aqewCN86ijWA"
      },
      "execution_count": null,
      "outputs": []
    },
    {
      "cell_type": "code",
      "source": [
        " #aggregating over SK_ID_PREV\n",
        "overall_aggregations = { 'MONTHS_BALANCE' : ['max'],\n",
        "                        'CNT_INSTALMENT' : ['mean', 'max','min'],\n",
        "                        'CNT_INSTALMENT_FUTURE' : ['mean','max','min'],\n",
        "                        'SK_DPD' : ['max','sum'],\n",
        "                        'SK_DPD_DEF' : ['max','sum'],\n",
        "\n",
        "                        'SK_DPD_RATIO' : ['mean','max'],\n",
        "                        'TOTAL_TERM' : ['mean','max','last'],}\n",
        "\n",
        "\n",
        "\n",
        "        aggregations_for_year = {\n",
        "            'CNT_INSTALMENT' : ['mean', 'max','min'],\n",
        "            'CNT_INSTALMENT_FUTURE' : ['mean','max','min'],\n",
        "            'SK_DPD' : ['max','sum'],\n",
        "            'SK_DPD_DEF' : ['max','sum'],\n",
        "            'EXP_CNT_INSTALMENT' : ['last'],\n",
        "            'EXP_CNT_INSTALMENT_FUTURE' : ['last'],\n",
        "            'SK_DPD_RATIO' : ['mean','max'],\n",
        "            'TOTAL_TERM' : ['mean','max'],\n",
        "            'EXP_POS_TOTAL_TERM' : ['last'] \n",
        "        }\n",
        "        aggregations_for_categories = {\n",
        "            'CNT_INSTALMENT' : ['mean', 'max','min'],\n",
        "            'CNT_INSTALMENT_FUTURE' : ['mean','max','min'],\n",
        "            'SK_DPD' : ['max','sum'],\n",
        "            'SK_DPD_DEF' : ['max','sum'],\n",
        "            'EXP_CNT_INSTALMENT' : ['last'],\n",
        "            'EXP_CNT_INSTALMENT_FUTURE' : ['last'],\n",
        "            'SK_DPD_RATIO' : ['mean','max'],\n",
        "            'TOTAL_TERM' : ['mean','max'],\n",
        "            'EXP_POS_TOTAL_TERM' : ['last'] }\n",
        "\n",
        "\n",
        "            %pycodestyle_off\n",
        "agg_pos_num = \\\n",
        "    outils_preprocessing.agg_var_num(POS_CASH_balance.drop(columns=['SK_ID_PREV']),\n",
        "                                     'SK_ID_CURR', dico_agg_pos, 'POS_CASH')\n",
        "%pycodestyle_on\n",
        "print(f'{agg_pos_num.shape}')\n",
        "agg_pos_num.head()\n",
        "\n",
        "\n",
        "           #performing overall aggregations over SK_ID_PREV\n",
        "        pos_cash_aggregated_overall = pos_cash.groupby('SK_ID_PREV').agg(overall_aggregations)\n",
        "        pos_cash_aggregated_overall.columns = ['_'.join(ele).upper() for ele in pos_cash_aggregated_overall.columns]\n",
        "        pos_cash_aggregated_overall.rename(columns = {'SK_ID_CURR_FIRST': 'SK_ID_CURR'}, inplace = True)\n",
        "\n",
        "        #yearwise aggregations\n",
        "        self.pos_cash['YEAR_BALANCE'] = self.pos_cash['MONTHS_BALANCE'] //12\n",
        "        #aggregating over SK_ID_PREV for each last 2 years\n",
        "        pos_cash_aggregated_year = pd.DataFrame()\n",
        "        for year in range(2):\n",
        "            group = self.pos_cash[self.pos_cash['YEAR_BALANCE'] == year].groupby('SK_ID_PREV').agg(aggregations_for_year)\n",
        "            group.columns = ['_'.join(ele).upper() + '_YEAR_' + str(year) for ele in group.columns]\n",
        "            if year == 0:\n",
        "                pos_cash_aggregated_year = group\n",
        "            else:\n",
        "                pos_cash_aggregated_year = pos_cash_aggregated_year.merge(group, on = 'SK_ID_PREV', how = 'outer')\n",
        "\n",
        "        #aggregating over SK_ID_PREV for rest of the years\n",
        "        pos_cash_aggregated_rest_years = self.pos_cash[self.pos_cash['YEAR_BALANCE'] >= 2].groupby('SK_ID_PREV').agg(aggregations_for_year)\n",
        "        pos_cash_aggregated_rest_years.columns = ['_'.join(ele).upper() + '_YEAR_REST' for ele in pos_cash_aggregated_rest_years.columns]\n",
        "        #merging all the years aggregations\n",
        "        pos_cash_aggregated_year = pos_cash_aggregated_year.merge(pos_cash_aggregated_rest_years, on = 'SK_ID_PREV', how = 'outer')\n",
        "        self.pos_cash = self.pos_cash.drop(['YEAR_BALANCE'], axis = 1)\n"
      ],
      "metadata": {
        "id": "so2tECybjEIV"
      },
      "execution_count": null,
      "outputs": []
    },
    {
      "cell_type": "code",
      "source": [
        "  #aggregating over SK_ID_PREV for each of NAME_CONTRACT_STATUS categories\n",
        "        contract_type_categories = ['Active', 'Completed']\n",
        "        pos_cash_aggregated_contract = pd.DataFrame()\n",
        "        for i, contract_type in enumerate(contract_type_categories):\n",
        "            group = self.pos_cash[self.pos_cash['NAME_CONTRACT_STATUS'] == contract_type].groupby('SK_ID_PREV').agg(aggregations_for_categories)\n",
        "            group.columns = ['_'.join(ele).upper() + '_' + contract_type.upper() for ele in group.columns]\n",
        "            if i == 0:\n",
        "                pos_cash_aggregated_contract = group\n",
        "            else:\n",
        "                pos_cash_aggregated_contract = pos_cash_aggregated_contract.merge(group, on = 'SK_ID_PREV', how = 'outer')\n",
        "\n",
        "        pos_cash_aggregated_rest_contract = self.pos_cash[(self.pos_cash['NAME_CONTRACT_STATUS'] != 'Active') & \n",
        "                                        (self.pos_cash['NAME_CONTRACT_STATUS'] != 'Completed')].groupby('SK_ID_PREV').agg(aggregations_for_categories)\n",
        "        pos_cash_aggregated_rest_contract.columns = ['_'.join(ele).upper() + '_REST' for ele in pos_cash_aggregated_rest_contract.columns]\n",
        "        #merging the categorical aggregations\n",
        "        pos_cash_aggregated_contract = pos_cash_aggregated_contract.merge(pos_cash_aggregated_rest_contract, on = 'SK_ID_PREV', how = 'outer')    \n",
        "\n",
        "        #merging all the aggregations\n",
        "        pos_cash_aggregated = pos_cash_aggregated_overall.merge(pos_cash_aggregated_year, on = 'SK_ID_PREV', how = 'outer')\n",
        "        pos_cash_aggregated = pos_cash_aggregated.merge(pos_cash_aggregated_contract, on = 'SK_ID_PREV', how = 'outer')\n",
        "\n",
        "        #onehot encoding the categorical feature NAME_CONTRACT_TYPE\n",
        "        name_contract_dummies = pd.get_dummies(self.pos_cash['NAME_CONTRACT_STATUS'], prefix='CONTRACT')\n",
        "        contract_names = name_contract_dummies.columns.tolist()\n",
        "        #concatenating one-hot encoded categories with main table\n",
        "        self.pos_cash = pd.concat([self.pos_cash, name_contract_dummies], axis=1)\n",
        "        #aggregating these over SK_ID_PREV as well\n",
        "        aggregated_cc_contract = self.pos_cash[['SK_ID_PREV'] + contract_names].groupby('SK_ID_PREV').mean()    \n",
        "\n",
        "        #merging with the final aggregations\n",
        "        pos_cash_aggregated = pos_cash_aggregated.merge(aggregated_cc_contract, on = 'SK_ID_PREV', how = 'outer')\n",
        "                "
      ],
      "metadata": {
        "id": "waCz28wXjENz"
      },
      "execution_count": null,
      "outputs": []
    },
    {
      "cell_type": "code",
      "source": [
        "   #aggregating over SK_ID_CURR\n",
        "        columns_to_aggregate = pos_cash_aggregated.columns[1:]\n",
        "        #defining the aggregations to perform\n",
        "        aggregations_final = {}\n",
        "        for col in columns_to_aggregate:\n",
        "            if 'MEAN' in col:\n",
        "                aggregates = ['mean','sum','max']\n",
        "            else:\n",
        "                aggregates = ['mean']\n",
        "            aggregations_final[col] = aggregates\n",
        "        pos_cash_aggregated_final = pos_cash_aggregated.groupby('SK_ID_CURR').agg(aggregations_final)\n",
        "        pos_cash_aggregated_final.columns = ['_'.join(ele).upper() for ele in pos_cash_aggregated_final.columns]\n",
        "        "
      ],
      "metadata": {
        "id": "vLtAPKvVjEQN"
      },
      "execution_count": null,
      "outputs": []
    },
    {
      "cell_type": "code",
      "source": [
        ""
      ],
      "metadata": {
        "id": "0uyqdaYxjESZ"
      },
      "execution_count": null,
      "outputs": []
    },
    {
      "cell_type": "code",
      "source": [
        ""
      ],
      "metadata": {
        "id": "c_RNdSEAija1"
      },
      "execution_count": null,
      "outputs": []
    },
    {
      "cell_type": "code",
      "source": [
        "#merging application_train and application_test with Aggregated bureau table\n",
        "app_train_merged = application_train.merge(bureau_aggregated, on = 'SK_ID_CURR', how = 'left')\n",
        "app_test_merged = application_test.merge(bureau_aggregated, on = 'SK_ID_CURR', how = 'left')\n",
        "#merging with aggregated previous_applications\n",
        "app_train_merged = app_train_merged.merge(previous_aggregated, on = 'SK_ID_CURR', how = 'left')\n",
        "app_test_merged = app_test_merged.merge(previous_aggregated, on = 'SK_ID_CURR', how = 'left')\n",
        "#merging with aggregated installments tables\n",
        "app_train_merged = app_train_merged.merge(installments_aggregated, on = 'SK_ID_CURR', how = 'left')\n",
        "app_test_merged = app_test_merged.merge(installments_aggregated, on = 'SK_ID_CURR', how = 'left')\n",
        "#merging with aggregated POS_Cash balance table\n",
        "app_train_merged = app_train_merged.merge(pos_aggregated, on = 'SK_ID_CURR', how = 'left')\n",
        "app_test_merged = app_test_merged.merge(pos_aggregated, on = 'SK_ID_CURR', how = 'left')\n",
        "#merging with aggregated credit card table\n",
        "app_train_merged = app_train_merged.merge(cc_aggregated, on = 'SK_ID_CURR', how = 'left')\n",
        "app_test_merged = app_test_merged.merge(cc_aggregated, on = 'SK_ID_CURR', how = 'left')"
      ],
      "metadata": {
        "id": "PErnTxWroawh"
      },
      "execution_count": null,
      "outputs": []
    },
    {
      "cell_type": "code",
      "source": [
        ""
      ],
      "metadata": {
        "id": "IGDpaZ5Boa1Z"
      },
      "execution_count": null,
      "outputs": []
    },
    {
      "cell_type": "code",
      "source": [
        ""
      ],
      "metadata": {
        "id": "rMZEBs0KlZd_"
      },
      "execution_count": null,
      "outputs": []
    },
    {
      "cell_type": "code",
      "source": [
        ""
      ],
      "metadata": {
        "id": "W-YaDH2hlZmb"
      },
      "execution_count": null,
      "outputs": []
    },
    {
      "cell_type": "markdown",
      "source": [
        "## **Feature Selection using LightGBM**\n",
        "\n",
        "https://medium.com/@indreshbhattacharyya/feature-selection-categorical-featur"
      ],
      "metadata": {
        "id": "XieVOyoClamV"
      }
    },
    {
      "cell_type": "code",
      "source": [
        "#Download final databases\n",
        "test_set= pd.read_csv('/content/drive/MyDrive/p7/data/test_imputed_with_standardisation.csv')\n",
        "train_set= pd.read_csv('/content/drive/MyDrive/p7/data/train_imputed_with_standardisation.csv',low_memory=False)"
      ],
      "metadata": {
        "id": "LrtDcmLN1XNM"
      },
      "execution_count": null,
      "outputs": []
    },
    {
      "cell_type": "code",
      "source": [
        "import lightgbm as lgb"
      ],
      "metadata": {
        "id": "SDl3WRkGlZqc"
      },
      "execution_count": null,
      "outputs": []
    },
    {
      "cell_type": "code",
      "source": [
        "def description_variables(dataframe, type_var='all'):\n",
        "    \"\"\"\n",
        "    Retourne la description des variables qualitatives/quantitatives\n",
        "    ou toutes les variables du dataframe transmis :\n",
        "    type, nombre de nan, % de nan et desc\n",
        "    Parameters\n",
        "    ----------\n",
        "    @param IN : dataframe : DataFrame, obligatoire\n",
        "                type_var = 'all' ==> tous les types de variables (défaut)\n",
        "                           'cat' ==> variables catégorielles\n",
        "                           'num' ==> variables quantitative\n",
        "                           facultatif\n",
        "    @param OUT : dataframe de description des variables\n",
        "    \"\"\"\n",
        "    df_taille = dataframe.shape[0]\n",
        "\n",
        "    if type_var == 'num':\n",
        "        desc_var = dataframe.describe(datetime_is_numeric=True)\n",
        "    elif type_var == 'cat':\n",
        "        desc_var = dataframe.describe(\n",
        "            exclude=[np.number], datetime_is_numeric=True)\n",
        "    else:\n",
        "        desc_var = dataframe.describe(include='all', datetime_is_numeric=True)\n",
        "\n",
        "    desc_type = pd.DataFrame(\n",
        "        dataframe[desc_var.columns].dtypes, columns=['type']).T\n",
        "    nb_nan = df_taille - desc_var.loc['count'].T\n",
        "    pourcentage_nan = nb_nan * 100 / np.product(dataframe.shape)\n",
        "    desc_nan = pd.DataFrame([nb_nan, pourcentage_nan],\n",
        "                            index=['nb_nan', '%_nan'])\n",
        "    desc_var = pd.concat([desc_type, desc_nan, desc_var])\n",
        "\n",
        "    return desc_var"
      ],
      "metadata": {
        "id": "cUiMMdoalx8p"
      },
      "execution_count": null,
      "outputs": []
    },
    {
      "cell_type": "code",
      "source": [
        "desc_train_set = description_variables(train_set)"
      ],
      "metadata": {
        "id": "gO8RbB8jlx-2"
      },
      "execution_count": null,
      "outputs": []
    },
    {
      "cell_type": "code",
      "source": [
        "desc_train_set.head()"
      ],
      "metadata": {
        "id": "YmtCZ8_llyFw",
        "colab": {
          "base_uri": "https://localhost:8080/",
          "height": 299
        },
        "outputId": "5ec585bd-7120-4ee4-9857-c9d6f59f1171"
      },
      "execution_count": null,
      "outputs": [
        {
          "output_type": "execute_result",
          "data": {
            "text/html": [
              "\n",
              "  <div id=\"df-fcbbf64e-0860-4541-99e9-3580bc989da6\">\n",
              "    <div class=\"colab-df-container\">\n",
              "      <div>\n",
              "<style scoped>\n",
              "    .dataframe tbody tr th:only-of-type {\n",
              "        vertical-align: middle;\n",
              "    }\n",
              "\n",
              "    .dataframe tbody tr th {\n",
              "        vertical-align: top;\n",
              "    }\n",
              "\n",
              "    .dataframe thead th {\n",
              "        text-align: right;\n",
              "    }\n",
              "</style>\n",
              "<table border=\"1\" class=\"dataframe\">\n",
              "  <thead>\n",
              "    <tr style=\"text-align: right;\">\n",
              "      <th></th>\n",
              "      <th>SK_ID_CURR</th>\n",
              "      <th>TARGET</th>\n",
              "      <th>NAME_CONTRACT_TYPE</th>\n",
              "      <th>CODE_GENDER</th>\n",
              "      <th>FLAG_OWN_CAR</th>\n",
              "      <th>FLAG_OWN_REALTY</th>\n",
              "      <th>CNT_CHILDREN</th>\n",
              "      <th>AMT_INCOME_TOTAL</th>\n",
              "      <th>AMT_CREDIT</th>\n",
              "      <th>AMT_ANNUITY</th>\n",
              "      <th>AMT_GOODS_PRICE</th>\n",
              "      <th>NAME_TYPE_SUITE</th>\n",
              "      <th>NAME_INCOME_TYPE</th>\n",
              "      <th>NAME_EDUCATION_TYPE</th>\n",
              "      <th>NAME_FAMILY_STATUS</th>\n",
              "      <th>NAME_HOUSING_TYPE</th>\n",
              "      <th>REGION_POPULATION_RELATIVE</th>\n",
              "      <th>DAYS_BIRTH</th>\n",
              "      <th>DAYS_EMPLOYED</th>\n",
              "      <th>DAYS_REGISTRATION</th>\n",
              "      <th>DAYS_ID_PUBLISH</th>\n",
              "      <th>FLAG_MOBIL</th>\n",
              "      <th>FLAG_EMP_PHONE</th>\n",
              "      <th>FLAG_WORK_PHONE</th>\n",
              "      <th>FLAG_CONT_MOBILE</th>\n",
              "      <th>FLAG_PHONE</th>\n",
              "      <th>FLAG_EMAIL</th>\n",
              "      <th>OCCUPATION_TYPE</th>\n",
              "      <th>CNT_FAM_MEMBERS</th>\n",
              "      <th>REGION_RATING_CLIENT</th>\n",
              "      <th>REGION_RATING_CLIENT_W_CITY</th>\n",
              "      <th>WEEKDAY_APPR_PROCESS_START</th>\n",
              "      <th>HOUR_APPR_PROCESS_START</th>\n",
              "      <th>REG_REGION_NOT_LIVE_REGION</th>\n",
              "      <th>REG_REGION_NOT_WORK_REGION</th>\n",
              "      <th>LIVE_REGION_NOT_WORK_REGION</th>\n",
              "      <th>REG_CITY_NOT_LIVE_CITY</th>\n",
              "      <th>REG_CITY_NOT_WORK_CITY</th>\n",
              "      <th>LIVE_CITY_NOT_WORK_CITY</th>\n",
              "      <th>ORGANIZATION_TYPE</th>\n",
              "      <th>...</th>\n",
              "      <th>TOTALAREA_MODE</th>\n",
              "      <th>WALLSMATERIAL_MODE</th>\n",
              "      <th>EMERGENCYSTATE_MODE</th>\n",
              "      <th>OBS_30_CNT_SOCIAL_CIRCLE</th>\n",
              "      <th>DEF_30_CNT_SOCIAL_CIRCLE</th>\n",
              "      <th>OBS_60_CNT_SOCIAL_CIRCLE</th>\n",
              "      <th>DEF_60_CNT_SOCIAL_CIRCLE</th>\n",
              "      <th>DAYS_LAST_PHONE_CHANGE</th>\n",
              "      <th>FLAG_DOCUMENT_3</th>\n",
              "      <th>FLAG_DOCUMENT_5</th>\n",
              "      <th>FLAG_DOCUMENT_6</th>\n",
              "      <th>FLAG_DOCUMENT_7</th>\n",
              "      <th>FLAG_DOCUMENT_8</th>\n",
              "      <th>FLAG_DOCUMENT_9</th>\n",
              "      <th>FLAG_DOCUMENT_11</th>\n",
              "      <th>FLAG_DOCUMENT_13</th>\n",
              "      <th>FLAG_DOCUMENT_14</th>\n",
              "      <th>FLAG_DOCUMENT_15</th>\n",
              "      <th>FLAG_DOCUMENT_16</th>\n",
              "      <th>FLAG_DOCUMENT_17</th>\n",
              "      <th>FLAG_DOCUMENT_18</th>\n",
              "      <th>FLAG_DOCUMENT_19</th>\n",
              "      <th>FLAG_DOCUMENT_21</th>\n",
              "      <th>AMT_REQ_CREDIT_BUREAU_HOUR</th>\n",
              "      <th>AMT_REQ_CREDIT_BUREAU_DAY</th>\n",
              "      <th>AMT_REQ_CREDIT_BUREAU_WEEK</th>\n",
              "      <th>AMT_REQ_CREDIT_BUREAU_MON</th>\n",
              "      <th>AMT_REQ_CREDIT_BUREAU_QRT</th>\n",
              "      <th>AMT_REQ_CREDIT_BUREAU_YEAR</th>\n",
              "      <th>AGE</th>\n",
              "      <th>EXT_SOURCE_1</th>\n",
              "      <th>CREDIT_INCOME_RATIO</th>\n",
              "      <th>ANNUITY_CREDIT_RATIO</th>\n",
              "      <th>ANNUITY_INCOME_RATIO</th>\n",
              "      <th>CREDIT_EXT_RATIO</th>\n",
              "      <th>EMPLOYED_TO_AGE_RATIO</th>\n",
              "      <th>CHILDREN_INCOME_RATIO</th>\n",
              "      <th>PER_CAPITA_INCOME</th>\n",
              "      <th>DAYS_DETAILS_CHANGE_MUL</th>\n",
              "      <th>DAYS_DETAILS_CHANGE_SUM</th>\n",
              "    </tr>\n",
              "  </thead>\n",
              "  <tbody>\n",
              "    <tr>\n",
              "      <th>type</th>\n",
              "      <td>int64</td>\n",
              "      <td>int64</td>\n",
              "      <td>object</td>\n",
              "      <td>object</td>\n",
              "      <td>object</td>\n",
              "      <td>object</td>\n",
              "      <td>int64</td>\n",
              "      <td>float64</td>\n",
              "      <td>float64</td>\n",
              "      <td>float64</td>\n",
              "      <td>float64</td>\n",
              "      <td>object</td>\n",
              "      <td>object</td>\n",
              "      <td>object</td>\n",
              "      <td>object</td>\n",
              "      <td>object</td>\n",
              "      <td>float64</td>\n",
              "      <td>int64</td>\n",
              "      <td>float64</td>\n",
              "      <td>float64</td>\n",
              "      <td>int64</td>\n",
              "      <td>int64</td>\n",
              "      <td>int64</td>\n",
              "      <td>int64</td>\n",
              "      <td>int64</td>\n",
              "      <td>int64</td>\n",
              "      <td>int64</td>\n",
              "      <td>object</td>\n",
              "      <td>float64</td>\n",
              "      <td>int64</td>\n",
              "      <td>int64</td>\n",
              "      <td>object</td>\n",
              "      <td>int64</td>\n",
              "      <td>int64</td>\n",
              "      <td>int64</td>\n",
              "      <td>int64</td>\n",
              "      <td>int64</td>\n",
              "      <td>int64</td>\n",
              "      <td>int64</td>\n",
              "      <td>object</td>\n",
              "      <td>...</td>\n",
              "      <td>float64</td>\n",
              "      <td>object</td>\n",
              "      <td>object</td>\n",
              "      <td>float64</td>\n",
              "      <td>float64</td>\n",
              "      <td>float64</td>\n",
              "      <td>float64</td>\n",
              "      <td>float64</td>\n",
              "      <td>int64</td>\n",
              "      <td>int64</td>\n",
              "      <td>int64</td>\n",
              "      <td>int64</td>\n",
              "      <td>int64</td>\n",
              "      <td>int64</td>\n",
              "      <td>int64</td>\n",
              "      <td>int64</td>\n",
              "      <td>int64</td>\n",
              "      <td>int64</td>\n",
              "      <td>int64</td>\n",
              "      <td>int64</td>\n",
              "      <td>int64</td>\n",
              "      <td>int64</td>\n",
              "      <td>int64</td>\n",
              "      <td>float64</td>\n",
              "      <td>float64</td>\n",
              "      <td>float64</td>\n",
              "      <td>float64</td>\n",
              "      <td>float64</td>\n",
              "      <td>float64</td>\n",
              "      <td>float64</td>\n",
              "      <td>float64</td>\n",
              "      <td>float64</td>\n",
              "      <td>float64</td>\n",
              "      <td>float64</td>\n",
              "      <td>float64</td>\n",
              "      <td>float64</td>\n",
              "      <td>float64</td>\n",
              "      <td>float64</td>\n",
              "      <td>float64</td>\n",
              "      <td>float64</td>\n",
              "    </tr>\n",
              "    <tr>\n",
              "      <th>nb_nan</th>\n",
              "      <td>0.0</td>\n",
              "      <td>0.0</td>\n",
              "      <td>0.0</td>\n",
              "      <td>0.0</td>\n",
              "      <td>0.0</td>\n",
              "      <td>0.0</td>\n",
              "      <td>0.0</td>\n",
              "      <td>0.0</td>\n",
              "      <td>0.0</td>\n",
              "      <td>0.0</td>\n",
              "      <td>0.0</td>\n",
              "      <td>0.0</td>\n",
              "      <td>0.0</td>\n",
              "      <td>0.0</td>\n",
              "      <td>0.0</td>\n",
              "      <td>0.0</td>\n",
              "      <td>0.0</td>\n",
              "      <td>0.0</td>\n",
              "      <td>0.0</td>\n",
              "      <td>0.0</td>\n",
              "      <td>0.0</td>\n",
              "      <td>0.0</td>\n",
              "      <td>0.0</td>\n",
              "      <td>0.0</td>\n",
              "      <td>0.0</td>\n",
              "      <td>0.0</td>\n",
              "      <td>0.0</td>\n",
              "      <td>0.0</td>\n",
              "      <td>0.0</td>\n",
              "      <td>0.0</td>\n",
              "      <td>0.0</td>\n",
              "      <td>0.0</td>\n",
              "      <td>0.0</td>\n",
              "      <td>0.0</td>\n",
              "      <td>0.0</td>\n",
              "      <td>0.0</td>\n",
              "      <td>0.0</td>\n",
              "      <td>0.0</td>\n",
              "      <td>0.0</td>\n",
              "      <td>0.0</td>\n",
              "      <td>...</td>\n",
              "      <td>0.0</td>\n",
              "      <td>0.0</td>\n",
              "      <td>0.0</td>\n",
              "      <td>0.0</td>\n",
              "      <td>0.0</td>\n",
              "      <td>0.0</td>\n",
              "      <td>0.0</td>\n",
              "      <td>0.0</td>\n",
              "      <td>0.0</td>\n",
              "      <td>0.0</td>\n",
              "      <td>0.0</td>\n",
              "      <td>0.0</td>\n",
              "      <td>0.0</td>\n",
              "      <td>0.0</td>\n",
              "      <td>0.0</td>\n",
              "      <td>0.0</td>\n",
              "      <td>0.0</td>\n",
              "      <td>0.0</td>\n",
              "      <td>0.0</td>\n",
              "      <td>0.0</td>\n",
              "      <td>0.0</td>\n",
              "      <td>0.0</td>\n",
              "      <td>0.0</td>\n",
              "      <td>0.0</td>\n",
              "      <td>0.0</td>\n",
              "      <td>0.0</td>\n",
              "      <td>0.0</td>\n",
              "      <td>0.0</td>\n",
              "      <td>0.0</td>\n",
              "      <td>0.0</td>\n",
              "      <td>0.0</td>\n",
              "      <td>0.0</td>\n",
              "      <td>0.0</td>\n",
              "      <td>0.0</td>\n",
              "      <td>0.0</td>\n",
              "      <td>0.0</td>\n",
              "      <td>0.0</td>\n",
              "      <td>0.0</td>\n",
              "      <td>0.0</td>\n",
              "      <td>0.0</td>\n",
              "    </tr>\n",
              "    <tr>\n",
              "      <th>%_nan</th>\n",
              "      <td>0.0</td>\n",
              "      <td>0.0</td>\n",
              "      <td>0.0</td>\n",
              "      <td>0.0</td>\n",
              "      <td>0.0</td>\n",
              "      <td>0.0</td>\n",
              "      <td>0.0</td>\n",
              "      <td>0.0</td>\n",
              "      <td>0.0</td>\n",
              "      <td>0.0</td>\n",
              "      <td>0.0</td>\n",
              "      <td>0.0</td>\n",
              "      <td>0.0</td>\n",
              "      <td>0.0</td>\n",
              "      <td>0.0</td>\n",
              "      <td>0.0</td>\n",
              "      <td>0.0</td>\n",
              "      <td>0.0</td>\n",
              "      <td>0.0</td>\n",
              "      <td>0.0</td>\n",
              "      <td>0.0</td>\n",
              "      <td>0.0</td>\n",
              "      <td>0.0</td>\n",
              "      <td>0.0</td>\n",
              "      <td>0.0</td>\n",
              "      <td>0.0</td>\n",
              "      <td>0.0</td>\n",
              "      <td>0.0</td>\n",
              "      <td>0.0</td>\n",
              "      <td>0.0</td>\n",
              "      <td>0.0</td>\n",
              "      <td>0.0</td>\n",
              "      <td>0.0</td>\n",
              "      <td>0.0</td>\n",
              "      <td>0.0</td>\n",
              "      <td>0.0</td>\n",
              "      <td>0.0</td>\n",
              "      <td>0.0</td>\n",
              "      <td>0.0</td>\n",
              "      <td>0.0</td>\n",
              "      <td>...</td>\n",
              "      <td>0.0</td>\n",
              "      <td>0.0</td>\n",
              "      <td>0.0</td>\n",
              "      <td>0.0</td>\n",
              "      <td>0.0</td>\n",
              "      <td>0.0</td>\n",
              "      <td>0.0</td>\n",
              "      <td>0.0</td>\n",
              "      <td>0.0</td>\n",
              "      <td>0.0</td>\n",
              "      <td>0.0</td>\n",
              "      <td>0.0</td>\n",
              "      <td>0.0</td>\n",
              "      <td>0.0</td>\n",
              "      <td>0.0</td>\n",
              "      <td>0.0</td>\n",
              "      <td>0.0</td>\n",
              "      <td>0.0</td>\n",
              "      <td>0.0</td>\n",
              "      <td>0.0</td>\n",
              "      <td>0.0</td>\n",
              "      <td>0.0</td>\n",
              "      <td>0.0</td>\n",
              "      <td>0.0</td>\n",
              "      <td>0.0</td>\n",
              "      <td>0.0</td>\n",
              "      <td>0.0</td>\n",
              "      <td>0.0</td>\n",
              "      <td>0.0</td>\n",
              "      <td>0.0</td>\n",
              "      <td>0.0</td>\n",
              "      <td>0.0</td>\n",
              "      <td>0.0</td>\n",
              "      <td>0.0</td>\n",
              "      <td>0.0</td>\n",
              "      <td>0.0</td>\n",
              "      <td>0.0</td>\n",
              "      <td>0.0</td>\n",
              "      <td>0.0</td>\n",
              "      <td>0.0</td>\n",
              "    </tr>\n",
              "    <tr>\n",
              "      <th>count</th>\n",
              "      <td>175034.0</td>\n",
              "      <td>175034.0</td>\n",
              "      <td>175034</td>\n",
              "      <td>175034</td>\n",
              "      <td>175034</td>\n",
              "      <td>175034</td>\n",
              "      <td>175034.0</td>\n",
              "      <td>175034.0</td>\n",
              "      <td>175034.0</td>\n",
              "      <td>175034.0</td>\n",
              "      <td>175034.0</td>\n",
              "      <td>175034</td>\n",
              "      <td>175034</td>\n",
              "      <td>175034</td>\n",
              "      <td>175034</td>\n",
              "      <td>175034</td>\n",
              "      <td>175034.0</td>\n",
              "      <td>175034.0</td>\n",
              "      <td>175034.0</td>\n",
              "      <td>175034.0</td>\n",
              "      <td>175034.0</td>\n",
              "      <td>175034.0</td>\n",
              "      <td>175034.0</td>\n",
              "      <td>175034.0</td>\n",
              "      <td>175034.0</td>\n",
              "      <td>175034.0</td>\n",
              "      <td>175034.0</td>\n",
              "      <td>175034</td>\n",
              "      <td>175034.0</td>\n",
              "      <td>175034.0</td>\n",
              "      <td>175034.0</td>\n",
              "      <td>175034</td>\n",
              "      <td>175034.0</td>\n",
              "      <td>175034.0</td>\n",
              "      <td>175034.0</td>\n",
              "      <td>175034.0</td>\n",
              "      <td>175034.0</td>\n",
              "      <td>175034.0</td>\n",
              "      <td>175034.0</td>\n",
              "      <td>175034</td>\n",
              "      <td>...</td>\n",
              "      <td>175034.0</td>\n",
              "      <td>175034</td>\n",
              "      <td>175034</td>\n",
              "      <td>175034.0</td>\n",
              "      <td>175034.0</td>\n",
              "      <td>175034.0</td>\n",
              "      <td>175034.0</td>\n",
              "      <td>175034.0</td>\n",
              "      <td>175034.0</td>\n",
              "      <td>175034.0</td>\n",
              "      <td>175034.0</td>\n",
              "      <td>175034.0</td>\n",
              "      <td>175034.0</td>\n",
              "      <td>175034.0</td>\n",
              "      <td>175034.0</td>\n",
              "      <td>175034.0</td>\n",
              "      <td>175034.0</td>\n",
              "      <td>175034.0</td>\n",
              "      <td>175034.0</td>\n",
              "      <td>175034.0</td>\n",
              "      <td>175034.0</td>\n",
              "      <td>175034.0</td>\n",
              "      <td>175034.0</td>\n",
              "      <td>175034.0</td>\n",
              "      <td>175034.0</td>\n",
              "      <td>175034.0</td>\n",
              "      <td>175034.0</td>\n",
              "      <td>175034.0</td>\n",
              "      <td>175034.0</td>\n",
              "      <td>175034.0</td>\n",
              "      <td>175034.0</td>\n",
              "      <td>175034.0</td>\n",
              "      <td>175034.0</td>\n",
              "      <td>175034.0</td>\n",
              "      <td>175034.0</td>\n",
              "      <td>175034.0</td>\n",
              "      <td>175034.0</td>\n",
              "      <td>175034.0</td>\n",
              "      <td>175034.0</td>\n",
              "      <td>175034.0</td>\n",
              "    </tr>\n",
              "    <tr>\n",
              "      <th>unique</th>\n",
              "      <td>NaN</td>\n",
              "      <td>NaN</td>\n",
              "      <td>2</td>\n",
              "      <td>2</td>\n",
              "      <td>2</td>\n",
              "      <td>2</td>\n",
              "      <td>NaN</td>\n",
              "      <td>NaN</td>\n",
              "      <td>NaN</td>\n",
              "      <td>NaN</td>\n",
              "      <td>NaN</td>\n",
              "      <td>7</td>\n",
              "      <td>8</td>\n",
              "      <td>5</td>\n",
              "      <td>6</td>\n",
              "      <td>6</td>\n",
              "      <td>NaN</td>\n",
              "      <td>NaN</td>\n",
              "      <td>NaN</td>\n",
              "      <td>NaN</td>\n",
              "      <td>NaN</td>\n",
              "      <td>NaN</td>\n",
              "      <td>NaN</td>\n",
              "      <td>NaN</td>\n",
              "      <td>NaN</td>\n",
              "      <td>NaN</td>\n",
              "      <td>NaN</td>\n",
              "      <td>18</td>\n",
              "      <td>NaN</td>\n",
              "      <td>NaN</td>\n",
              "      <td>NaN</td>\n",
              "      <td>7</td>\n",
              "      <td>NaN</td>\n",
              "      <td>NaN</td>\n",
              "      <td>NaN</td>\n",
              "      <td>NaN</td>\n",
              "      <td>NaN</td>\n",
              "      <td>NaN</td>\n",
              "      <td>NaN</td>\n",
              "      <td>58</td>\n",
              "      <td>...</td>\n",
              "      <td>NaN</td>\n",
              "      <td>7</td>\n",
              "      <td>2</td>\n",
              "      <td>NaN</td>\n",
              "      <td>NaN</td>\n",
              "      <td>NaN</td>\n",
              "      <td>NaN</td>\n",
              "      <td>NaN</td>\n",
              "      <td>NaN</td>\n",
              "      <td>NaN</td>\n",
              "      <td>NaN</td>\n",
              "      <td>NaN</td>\n",
              "      <td>NaN</td>\n",
              "      <td>NaN</td>\n",
              "      <td>NaN</td>\n",
              "      <td>NaN</td>\n",
              "      <td>NaN</td>\n",
              "      <td>NaN</td>\n",
              "      <td>NaN</td>\n",
              "      <td>NaN</td>\n",
              "      <td>NaN</td>\n",
              "      <td>NaN</td>\n",
              "      <td>NaN</td>\n",
              "      <td>NaN</td>\n",
              "      <td>NaN</td>\n",
              "      <td>NaN</td>\n",
              "      <td>NaN</td>\n",
              "      <td>NaN</td>\n",
              "      <td>NaN</td>\n",
              "      <td>NaN</td>\n",
              "      <td>NaN</td>\n",
              "      <td>NaN</td>\n",
              "      <td>NaN</td>\n",
              "      <td>NaN</td>\n",
              "      <td>NaN</td>\n",
              "      <td>NaN</td>\n",
              "      <td>NaN</td>\n",
              "      <td>NaN</td>\n",
              "      <td>NaN</td>\n",
              "      <td>NaN</td>\n",
              "    </tr>\n",
              "  </tbody>\n",
              "</table>\n",
              "<p>5 rows × 110 columns</p>\n",
              "</div>\n",
              "      <button class=\"colab-df-convert\" onclick=\"convertToInteractive('df-fcbbf64e-0860-4541-99e9-3580bc989da6')\"\n",
              "              title=\"Convert this dataframe to an interactive table.\"\n",
              "              style=\"display:none;\">\n",
              "        \n",
              "  <svg xmlns=\"http://www.w3.org/2000/svg\" height=\"24px\"viewBox=\"0 0 24 24\"\n",
              "       width=\"24px\">\n",
              "    <path d=\"M0 0h24v24H0V0z\" fill=\"none\"/>\n",
              "    <path d=\"M18.56 5.44l.94 2.06.94-2.06 2.06-.94-2.06-.94-.94-2.06-.94 2.06-2.06.94zm-11 1L8.5 8.5l.94-2.06 2.06-.94-2.06-.94L8.5 2.5l-.94 2.06-2.06.94zm10 10l.94 2.06.94-2.06 2.06-.94-2.06-.94-.94-2.06-.94 2.06-2.06.94z\"/><path d=\"M17.41 7.96l-1.37-1.37c-.4-.4-.92-.59-1.43-.59-.52 0-1.04.2-1.43.59L10.3 9.45l-7.72 7.72c-.78.78-.78 2.05 0 2.83L4 21.41c.39.39.9.59 1.41.59.51 0 1.02-.2 1.41-.59l7.78-7.78 2.81-2.81c.8-.78.8-2.07 0-2.86zM5.41 20L4 18.59l7.72-7.72 1.47 1.35L5.41 20z\"/>\n",
              "  </svg>\n",
              "      </button>\n",
              "      \n",
              "  <style>\n",
              "    .colab-df-container {\n",
              "      display:flex;\n",
              "      flex-wrap:wrap;\n",
              "      gap: 12px;\n",
              "    }\n",
              "\n",
              "    .colab-df-convert {\n",
              "      background-color: #E8F0FE;\n",
              "      border: none;\n",
              "      border-radius: 50%;\n",
              "      cursor: pointer;\n",
              "      display: none;\n",
              "      fill: #1967D2;\n",
              "      height: 32px;\n",
              "      padding: 0 0 0 0;\n",
              "      width: 32px;\n",
              "    }\n",
              "\n",
              "    .colab-df-convert:hover {\n",
              "      background-color: #E2EBFA;\n",
              "      box-shadow: 0px 1px 2px rgba(60, 64, 67, 0.3), 0px 1px 3px 1px rgba(60, 64, 67, 0.15);\n",
              "      fill: #174EA6;\n",
              "    }\n",
              "\n",
              "    [theme=dark] .colab-df-convert {\n",
              "      background-color: #3B4455;\n",
              "      fill: #D2E3FC;\n",
              "    }\n",
              "\n",
              "    [theme=dark] .colab-df-convert:hover {\n",
              "      background-color: #434B5C;\n",
              "      box-shadow: 0px 1px 3px 1px rgba(0, 0, 0, 0.15);\n",
              "      filter: drop-shadow(0px 1px 2px rgba(0, 0, 0, 0.3));\n",
              "      fill: #FFFFFF;\n",
              "    }\n",
              "  </style>\n",
              "\n",
              "      <script>\n",
              "        const buttonEl =\n",
              "          document.querySelector('#df-fcbbf64e-0860-4541-99e9-3580bc989da6 button.colab-df-convert');\n",
              "        buttonEl.style.display =\n",
              "          google.colab.kernel.accessAllowed ? 'block' : 'none';\n",
              "\n",
              "        async function convertToInteractive(key) {\n",
              "          const element = document.querySelector('#df-fcbbf64e-0860-4541-99e9-3580bc989da6');\n",
              "          const dataTable =\n",
              "            await google.colab.kernel.invokeFunction('convertToInteractive',\n",
              "                                                     [key], {});\n",
              "          if (!dataTable) return;\n",
              "\n",
              "          const docLinkHtml = 'Like what you see? Visit the ' +\n",
              "            '<a target=\"_blank\" href=https://colab.research.google.com/notebooks/data_table.ipynb>data table notebook</a>'\n",
              "            + ' to learn more about interactive tables.';\n",
              "          element.innerHTML = '';\n",
              "          dataTable['output_type'] = 'display_data';\n",
              "          await google.colab.output.renderOutput(dataTable, element);\n",
              "          const docLink = document.createElement('div');\n",
              "          docLink.innerHTML = docLinkHtml;\n",
              "          element.appendChild(docLink);\n",
              "        }\n",
              "      </script>\n",
              "    </div>\n",
              "  </div>\n",
              "  "
            ],
            "text/plain": [
              "       SK_ID_CURR    TARGET  ... DAYS_DETAILS_CHANGE_MUL DAYS_DETAILS_CHANGE_SUM\n",
              "type        int64     int64  ...                 float64                 float64\n",
              "nb_nan        0.0       0.0  ...                     0.0                     0.0\n",
              "%_nan         0.0       0.0  ...                     0.0                     0.0\n",
              "count    175034.0  175034.0  ...                175034.0                175034.0\n",
              "unique        NaN       NaN  ...                     NaN                     NaN\n",
              "\n",
              "[5 rows x 110 columns]"
            ]
          },
          "metadata": {},
          "execution_count": 16
        }
      ]
    },
    {
      "cell_type": "code",
      "source": [
        "train_set.head()"
      ],
      "metadata": {
        "id": "_O68FkzUlZtd",
        "colab": {
          "base_uri": "https://localhost:8080/",
          "height": 369
        },
        "outputId": "64305121-e2e7-4146-b0e6-c240a3b1acfd"
      },
      "execution_count": null,
      "outputs": [
        {
          "output_type": "execute_result",
          "data": {
            "text/html": [
              "\n",
              "  <div id=\"df-a1fa9234-1308-4556-96a4-e62acca327c6\">\n",
              "    <div class=\"colab-df-container\">\n",
              "      <div>\n",
              "<style scoped>\n",
              "    .dataframe tbody tr th:only-of-type {\n",
              "        vertical-align: middle;\n",
              "    }\n",
              "\n",
              "    .dataframe tbody tr th {\n",
              "        vertical-align: top;\n",
              "    }\n",
              "\n",
              "    .dataframe thead th {\n",
              "        text-align: right;\n",
              "    }\n",
              "</style>\n",
              "<table border=\"1\" class=\"dataframe\">\n",
              "  <thead>\n",
              "    <tr style=\"text-align: right;\">\n",
              "      <th></th>\n",
              "      <th>SK_ID_CURR</th>\n",
              "      <th>TARGET</th>\n",
              "      <th>NAME_CONTRACT_TYPE</th>\n",
              "      <th>CODE_GENDER</th>\n",
              "      <th>FLAG_OWN_CAR</th>\n",
              "      <th>FLAG_OWN_REALTY</th>\n",
              "      <th>CNT_CHILDREN</th>\n",
              "      <th>AMT_INCOME_TOTAL</th>\n",
              "      <th>AMT_CREDIT</th>\n",
              "      <th>AMT_ANNUITY</th>\n",
              "      <th>AMT_GOODS_PRICE</th>\n",
              "      <th>NAME_TYPE_SUITE</th>\n",
              "      <th>NAME_INCOME_TYPE</th>\n",
              "      <th>NAME_EDUCATION_TYPE</th>\n",
              "      <th>NAME_FAMILY_STATUS</th>\n",
              "      <th>NAME_HOUSING_TYPE</th>\n",
              "      <th>REGION_POPULATION_RELATIVE</th>\n",
              "      <th>DAYS_BIRTH</th>\n",
              "      <th>DAYS_EMPLOYED</th>\n",
              "      <th>DAYS_REGISTRATION</th>\n",
              "      <th>DAYS_ID_PUBLISH</th>\n",
              "      <th>FLAG_MOBIL</th>\n",
              "      <th>FLAG_EMP_PHONE</th>\n",
              "      <th>FLAG_WORK_PHONE</th>\n",
              "      <th>FLAG_CONT_MOBILE</th>\n",
              "      <th>FLAG_PHONE</th>\n",
              "      <th>FLAG_EMAIL</th>\n",
              "      <th>OCCUPATION_TYPE</th>\n",
              "      <th>CNT_FAM_MEMBERS</th>\n",
              "      <th>REGION_RATING_CLIENT</th>\n",
              "      <th>REGION_RATING_CLIENT_W_CITY</th>\n",
              "      <th>WEEKDAY_APPR_PROCESS_START</th>\n",
              "      <th>HOUR_APPR_PROCESS_START</th>\n",
              "      <th>REG_REGION_NOT_LIVE_REGION</th>\n",
              "      <th>REG_REGION_NOT_WORK_REGION</th>\n",
              "      <th>LIVE_REGION_NOT_WORK_REGION</th>\n",
              "      <th>REG_CITY_NOT_LIVE_CITY</th>\n",
              "      <th>REG_CITY_NOT_WORK_CITY</th>\n",
              "      <th>LIVE_CITY_NOT_WORK_CITY</th>\n",
              "      <th>ORGANIZATION_TYPE</th>\n",
              "      <th>...</th>\n",
              "      <th>TOTALAREA_MODE</th>\n",
              "      <th>WALLSMATERIAL_MODE</th>\n",
              "      <th>EMERGENCYSTATE_MODE</th>\n",
              "      <th>OBS_30_CNT_SOCIAL_CIRCLE</th>\n",
              "      <th>DEF_30_CNT_SOCIAL_CIRCLE</th>\n",
              "      <th>OBS_60_CNT_SOCIAL_CIRCLE</th>\n",
              "      <th>DEF_60_CNT_SOCIAL_CIRCLE</th>\n",
              "      <th>DAYS_LAST_PHONE_CHANGE</th>\n",
              "      <th>FLAG_DOCUMENT_3</th>\n",
              "      <th>FLAG_DOCUMENT_5</th>\n",
              "      <th>FLAG_DOCUMENT_6</th>\n",
              "      <th>FLAG_DOCUMENT_7</th>\n",
              "      <th>FLAG_DOCUMENT_8</th>\n",
              "      <th>FLAG_DOCUMENT_9</th>\n",
              "      <th>FLAG_DOCUMENT_11</th>\n",
              "      <th>FLAG_DOCUMENT_13</th>\n",
              "      <th>FLAG_DOCUMENT_14</th>\n",
              "      <th>FLAG_DOCUMENT_15</th>\n",
              "      <th>FLAG_DOCUMENT_16</th>\n",
              "      <th>FLAG_DOCUMENT_17</th>\n",
              "      <th>FLAG_DOCUMENT_18</th>\n",
              "      <th>FLAG_DOCUMENT_19</th>\n",
              "      <th>FLAG_DOCUMENT_21</th>\n",
              "      <th>AMT_REQ_CREDIT_BUREAU_HOUR</th>\n",
              "      <th>AMT_REQ_CREDIT_BUREAU_DAY</th>\n",
              "      <th>AMT_REQ_CREDIT_BUREAU_WEEK</th>\n",
              "      <th>AMT_REQ_CREDIT_BUREAU_MON</th>\n",
              "      <th>AMT_REQ_CREDIT_BUREAU_QRT</th>\n",
              "      <th>AMT_REQ_CREDIT_BUREAU_YEAR</th>\n",
              "      <th>AGE</th>\n",
              "      <th>EXT_SOURCE_1</th>\n",
              "      <th>CREDIT_INCOME_RATIO</th>\n",
              "      <th>ANNUITY_CREDIT_RATIO</th>\n",
              "      <th>ANNUITY_INCOME_RATIO</th>\n",
              "      <th>CREDIT_EXT_RATIO</th>\n",
              "      <th>EMPLOYED_TO_AGE_RATIO</th>\n",
              "      <th>CHILDREN_INCOME_RATIO</th>\n",
              "      <th>PER_CAPITA_INCOME</th>\n",
              "      <th>DAYS_DETAILS_CHANGE_MUL</th>\n",
              "      <th>DAYS_DETAILS_CHANGE_SUM</th>\n",
              "    </tr>\n",
              "  </thead>\n",
              "  <tbody>\n",
              "    <tr>\n",
              "      <th>0</th>\n",
              "      <td>100002</td>\n",
              "      <td>1</td>\n",
              "      <td>Cash loans</td>\n",
              "      <td>M</td>\n",
              "      <td>N</td>\n",
              "      <td>Y</td>\n",
              "      <td>0</td>\n",
              "      <td>202500.0</td>\n",
              "      <td>406597.5</td>\n",
              "      <td>24700.5</td>\n",
              "      <td>351000.0</td>\n",
              "      <td>Unaccompanied</td>\n",
              "      <td>Working</td>\n",
              "      <td>Secondary / secondary special</td>\n",
              "      <td>Single / not married</td>\n",
              "      <td>House / apartment</td>\n",
              "      <td>0.018801</td>\n",
              "      <td>-9461</td>\n",
              "      <td>-637.0</td>\n",
              "      <td>-3648.0</td>\n",
              "      <td>-2120</td>\n",
              "      <td>1</td>\n",
              "      <td>1</td>\n",
              "      <td>0</td>\n",
              "      <td>1</td>\n",
              "      <td>1</td>\n",
              "      <td>0</td>\n",
              "      <td>Laborers</td>\n",
              "      <td>1.0</td>\n",
              "      <td>2</td>\n",
              "      <td>2</td>\n",
              "      <td>WEDNESDAY</td>\n",
              "      <td>10</td>\n",
              "      <td>0</td>\n",
              "      <td>0</td>\n",
              "      <td>0</td>\n",
              "      <td>0</td>\n",
              "      <td>0</td>\n",
              "      <td>0</td>\n",
              "      <td>Business Entity Type 3</td>\n",
              "      <td>...</td>\n",
              "      <td>0.0149</td>\n",
              "      <td>Stone, brick</td>\n",
              "      <td>No</td>\n",
              "      <td>2.0</td>\n",
              "      <td>2.0</td>\n",
              "      <td>2.0</td>\n",
              "      <td>2.0</td>\n",
              "      <td>-1134.0</td>\n",
              "      <td>1</td>\n",
              "      <td>0</td>\n",
              "      <td>0</td>\n",
              "      <td>0</td>\n",
              "      <td>0</td>\n",
              "      <td>0</td>\n",
              "      <td>0</td>\n",
              "      <td>0</td>\n",
              "      <td>0</td>\n",
              "      <td>0</td>\n",
              "      <td>0</td>\n",
              "      <td>0</td>\n",
              "      <td>0</td>\n",
              "      <td>0</td>\n",
              "      <td>0</td>\n",
              "      <td>0.0</td>\n",
              "      <td>0.0</td>\n",
              "      <td>0.0</td>\n",
              "      <td>0.0</td>\n",
              "      <td>0.0</td>\n",
              "      <td>1.0</td>\n",
              "      <td>25.920548</td>\n",
              "      <td>0.083037</td>\n",
              "      <td>2.007889</td>\n",
              "      <td>0.060749</td>\n",
              "      <td>0.121978</td>\n",
              "      <td>2.917275e+06</td>\n",
              "      <td>0.067329</td>\n",
              "      <td>0.000000</td>\n",
              "      <td>101250.0</td>\n",
              "      <td>-8.770084e+09</td>\n",
              "      <td>-6902.0</td>\n",
              "    </tr>\n",
              "    <tr>\n",
              "      <th>1</th>\n",
              "      <td>100003</td>\n",
              "      <td>0</td>\n",
              "      <td>Cash loans</td>\n",
              "      <td>F</td>\n",
              "      <td>N</td>\n",
              "      <td>N</td>\n",
              "      <td>0</td>\n",
              "      <td>270000.0</td>\n",
              "      <td>1293502.5</td>\n",
              "      <td>35698.5</td>\n",
              "      <td>1129500.0</td>\n",
              "      <td>Family</td>\n",
              "      <td>State servant</td>\n",
              "      <td>Higher education</td>\n",
              "      <td>Married</td>\n",
              "      <td>House / apartment</td>\n",
              "      <td>0.003541</td>\n",
              "      <td>-16765</td>\n",
              "      <td>-1188.0</td>\n",
              "      <td>-1186.0</td>\n",
              "      <td>-291</td>\n",
              "      <td>1</td>\n",
              "      <td>1</td>\n",
              "      <td>0</td>\n",
              "      <td>1</td>\n",
              "      <td>1</td>\n",
              "      <td>0</td>\n",
              "      <td>Core staff</td>\n",
              "      <td>2.0</td>\n",
              "      <td>1</td>\n",
              "      <td>1</td>\n",
              "      <td>MONDAY</td>\n",
              "      <td>11</td>\n",
              "      <td>0</td>\n",
              "      <td>0</td>\n",
              "      <td>0</td>\n",
              "      <td>0</td>\n",
              "      <td>0</td>\n",
              "      <td>0</td>\n",
              "      <td>School</td>\n",
              "      <td>...</td>\n",
              "      <td>0.0714</td>\n",
              "      <td>Block</td>\n",
              "      <td>No</td>\n",
              "      <td>1.0</td>\n",
              "      <td>0.0</td>\n",
              "      <td>1.0</td>\n",
              "      <td>0.0</td>\n",
              "      <td>-828.0</td>\n",
              "      <td>1</td>\n",
              "      <td>0</td>\n",
              "      <td>0</td>\n",
              "      <td>0</td>\n",
              "      <td>0</td>\n",
              "      <td>0</td>\n",
              "      <td>0</td>\n",
              "      <td>0</td>\n",
              "      <td>0</td>\n",
              "      <td>0</td>\n",
              "      <td>0</td>\n",
              "      <td>0</td>\n",
              "      <td>0</td>\n",
              "      <td>0</td>\n",
              "      <td>0</td>\n",
              "      <td>0.0</td>\n",
              "      <td>0.0</td>\n",
              "      <td>0.0</td>\n",
              "      <td>0.0</td>\n",
              "      <td>0.0</td>\n",
              "      <td>0.0</td>\n",
              "      <td>45.931507</td>\n",
              "      <td>0.311267</td>\n",
              "      <td>4.790750</td>\n",
              "      <td>0.027598</td>\n",
              "      <td>0.132217</td>\n",
              "      <td>2.416514e+06</td>\n",
              "      <td>0.070862</td>\n",
              "      <td>0.000000</td>\n",
              "      <td>90000.0</td>\n",
              "      <td>-2.857643e+08</td>\n",
              "      <td>-2305.0</td>\n",
              "    </tr>\n",
              "    <tr>\n",
              "      <th>2</th>\n",
              "      <td>100009</td>\n",
              "      <td>0</td>\n",
              "      <td>Cash loans</td>\n",
              "      <td>F</td>\n",
              "      <td>Y</td>\n",
              "      <td>Y</td>\n",
              "      <td>1</td>\n",
              "      <td>171000.0</td>\n",
              "      <td>1560726.0</td>\n",
              "      <td>41301.0</td>\n",
              "      <td>1395000.0</td>\n",
              "      <td>Unaccompanied</td>\n",
              "      <td>Commercial associate</td>\n",
              "      <td>Higher education</td>\n",
              "      <td>Married</td>\n",
              "      <td>House / apartment</td>\n",
              "      <td>0.035792</td>\n",
              "      <td>-13778</td>\n",
              "      <td>-3130.0</td>\n",
              "      <td>-1213.0</td>\n",
              "      <td>-619</td>\n",
              "      <td>1</td>\n",
              "      <td>1</td>\n",
              "      <td>0</td>\n",
              "      <td>1</td>\n",
              "      <td>1</td>\n",
              "      <td>0</td>\n",
              "      <td>Accountants</td>\n",
              "      <td>3.0</td>\n",
              "      <td>2</td>\n",
              "      <td>2</td>\n",
              "      <td>SUNDAY</td>\n",
              "      <td>16</td>\n",
              "      <td>0</td>\n",
              "      <td>0</td>\n",
              "      <td>0</td>\n",
              "      <td>0</td>\n",
              "      <td>0</td>\n",
              "      <td>0</td>\n",
              "      <td>Business Entity Type 3</td>\n",
              "      <td>...</td>\n",
              "      <td>0.0688</td>\n",
              "      <td>Panel</td>\n",
              "      <td>No</td>\n",
              "      <td>1.0</td>\n",
              "      <td>0.0</td>\n",
              "      <td>1.0</td>\n",
              "      <td>0.0</td>\n",
              "      <td>-1562.0</td>\n",
              "      <td>0</td>\n",
              "      <td>0</td>\n",
              "      <td>0</td>\n",
              "      <td>0</td>\n",
              "      <td>1</td>\n",
              "      <td>0</td>\n",
              "      <td>0</td>\n",
              "      <td>0</td>\n",
              "      <td>1</td>\n",
              "      <td>0</td>\n",
              "      <td>0</td>\n",
              "      <td>0</td>\n",
              "      <td>0</td>\n",
              "      <td>0</td>\n",
              "      <td>0</td>\n",
              "      <td>0.0</td>\n",
              "      <td>0.0</td>\n",
              "      <td>0.0</td>\n",
              "      <td>1.0</td>\n",
              "      <td>1.0</td>\n",
              "      <td>2.0</td>\n",
              "      <td>37.747945</td>\n",
              "      <td>0.774761</td>\n",
              "      <td>9.127053</td>\n",
              "      <td>0.026463</td>\n",
              "      <td>0.241526</td>\n",
              "      <td>3.171820e+06</td>\n",
              "      <td>0.227174</td>\n",
              "      <td>0.000006</td>\n",
              "      <td>42750.0</td>\n",
              "      <td>-1.172823e+09</td>\n",
              "      <td>-3394.0</td>\n",
              "    </tr>\n",
              "    <tr>\n",
              "      <th>3</th>\n",
              "      <td>100016</td>\n",
              "      <td>0</td>\n",
              "      <td>Cash loans</td>\n",
              "      <td>F</td>\n",
              "      <td>N</td>\n",
              "      <td>Y</td>\n",
              "      <td>0</td>\n",
              "      <td>67500.0</td>\n",
              "      <td>80865.0</td>\n",
              "      <td>5881.5</td>\n",
              "      <td>67500.0</td>\n",
              "      <td>Unaccompanied</td>\n",
              "      <td>Working</td>\n",
              "      <td>Secondary / secondary special</td>\n",
              "      <td>Married</td>\n",
              "      <td>House / apartment</td>\n",
              "      <td>0.031329</td>\n",
              "      <td>-13439</td>\n",
              "      <td>-2717.0</td>\n",
              "      <td>-311.0</td>\n",
              "      <td>-3227</td>\n",
              "      <td>1</td>\n",
              "      <td>1</td>\n",
              "      <td>1</td>\n",
              "      <td>1</td>\n",
              "      <td>1</td>\n",
              "      <td>0</td>\n",
              "      <td>Laborers</td>\n",
              "      <td>2.0</td>\n",
              "      <td>2</td>\n",
              "      <td>2</td>\n",
              "      <td>FRIDAY</td>\n",
              "      <td>10</td>\n",
              "      <td>0</td>\n",
              "      <td>0</td>\n",
              "      <td>0</td>\n",
              "      <td>0</td>\n",
              "      <td>0</td>\n",
              "      <td>0</td>\n",
              "      <td>Business Entity Type 2</td>\n",
              "      <td>...</td>\n",
              "      <td>0.0612</td>\n",
              "      <td>Panel</td>\n",
              "      <td>No</td>\n",
              "      <td>0.0</td>\n",
              "      <td>0.0</td>\n",
              "      <td>0.0</td>\n",
              "      <td>0.0</td>\n",
              "      <td>-2370.0</td>\n",
              "      <td>1</td>\n",
              "      <td>0</td>\n",
              "      <td>0</td>\n",
              "      <td>0</td>\n",
              "      <td>0</td>\n",
              "      <td>0</td>\n",
              "      <td>0</td>\n",
              "      <td>0</td>\n",
              "      <td>0</td>\n",
              "      <td>0</td>\n",
              "      <td>0</td>\n",
              "      <td>0</td>\n",
              "      <td>0</td>\n",
              "      <td>0</td>\n",
              "      <td>0</td>\n",
              "      <td>0.0</td>\n",
              "      <td>0.0</td>\n",
              "      <td>0.0</td>\n",
              "      <td>1.0</td>\n",
              "      <td>0.0</td>\n",
              "      <td>0.0</td>\n",
              "      <td>36.819178</td>\n",
              "      <td>0.464831</td>\n",
              "      <td>1.198000</td>\n",
              "      <td>0.072732</td>\n",
              "      <td>0.087133</td>\n",
              "      <td>4.577629e+05</td>\n",
              "      <td>0.202173</td>\n",
              "      <td>0.000000</td>\n",
              "      <td>22500.0</td>\n",
              "      <td>-2.378525e+09</td>\n",
              "      <td>-5908.0</td>\n",
              "    </tr>\n",
              "    <tr>\n",
              "      <th>4</th>\n",
              "      <td>100017</td>\n",
              "      <td>0</td>\n",
              "      <td>Cash loans</td>\n",
              "      <td>M</td>\n",
              "      <td>Y</td>\n",
              "      <td>N</td>\n",
              "      <td>1</td>\n",
              "      <td>225000.0</td>\n",
              "      <td>918468.0</td>\n",
              "      <td>28966.5</td>\n",
              "      <td>697500.0</td>\n",
              "      <td>Unaccompanied</td>\n",
              "      <td>Working</td>\n",
              "      <td>Secondary / secondary special</td>\n",
              "      <td>Married</td>\n",
              "      <td>House / apartment</td>\n",
              "      <td>0.016612</td>\n",
              "      <td>-14086</td>\n",
              "      <td>-3028.0</td>\n",
              "      <td>-643.0</td>\n",
              "      <td>-4911</td>\n",
              "      <td>1</td>\n",
              "      <td>1</td>\n",
              "      <td>0</td>\n",
              "      <td>1</td>\n",
              "      <td>0</td>\n",
              "      <td>0</td>\n",
              "      <td>Drivers</td>\n",
              "      <td>3.0</td>\n",
              "      <td>2</td>\n",
              "      <td>2</td>\n",
              "      <td>THURSDAY</td>\n",
              "      <td>13</td>\n",
              "      <td>0</td>\n",
              "      <td>0</td>\n",
              "      <td>0</td>\n",
              "      <td>0</td>\n",
              "      <td>0</td>\n",
              "      <td>0</td>\n",
              "      <td>Self-employed</td>\n",
              "      <td>...</td>\n",
              "      <td>0.1417</td>\n",
              "      <td>Panel</td>\n",
              "      <td>No</td>\n",
              "      <td>0.0</td>\n",
              "      <td>0.0</td>\n",
              "      <td>0.0</td>\n",
              "      <td>0.0</td>\n",
              "      <td>-4.0</td>\n",
              "      <td>1</td>\n",
              "      <td>0</td>\n",
              "      <td>0</td>\n",
              "      <td>0</td>\n",
              "      <td>0</td>\n",
              "      <td>0</td>\n",
              "      <td>0</td>\n",
              "      <td>0</td>\n",
              "      <td>0</td>\n",
              "      <td>0</td>\n",
              "      <td>0</td>\n",
              "      <td>0</td>\n",
              "      <td>0</td>\n",
              "      <td>0</td>\n",
              "      <td>0</td>\n",
              "      <td>0.0</td>\n",
              "      <td>0.0</td>\n",
              "      <td>0.0</td>\n",
              "      <td>0.0</td>\n",
              "      <td>0.0</td>\n",
              "      <td>1.0</td>\n",
              "      <td>38.591781</td>\n",
              "      <td>0.514184</td>\n",
              "      <td>4.082080</td>\n",
              "      <td>0.031538</td>\n",
              "      <td>0.128740</td>\n",
              "      <td>1.192681e+06</td>\n",
              "      <td>0.214965</td>\n",
              "      <td>0.000004</td>\n",
              "      <td>56250.0</td>\n",
              "      <td>-1.263109e+07</td>\n",
              "      <td>-5558.0</td>\n",
              "    </tr>\n",
              "  </tbody>\n",
              "</table>\n",
              "<p>5 rows × 110 columns</p>\n",
              "</div>\n",
              "      <button class=\"colab-df-convert\" onclick=\"convertToInteractive('df-a1fa9234-1308-4556-96a4-e62acca327c6')\"\n",
              "              title=\"Convert this dataframe to an interactive table.\"\n",
              "              style=\"display:none;\">\n",
              "        \n",
              "  <svg xmlns=\"http://www.w3.org/2000/svg\" height=\"24px\"viewBox=\"0 0 24 24\"\n",
              "       width=\"24px\">\n",
              "    <path d=\"M0 0h24v24H0V0z\" fill=\"none\"/>\n",
              "    <path d=\"M18.56 5.44l.94 2.06.94-2.06 2.06-.94-2.06-.94-.94-2.06-.94 2.06-2.06.94zm-11 1L8.5 8.5l.94-2.06 2.06-.94-2.06-.94L8.5 2.5l-.94 2.06-2.06.94zm10 10l.94 2.06.94-2.06 2.06-.94-2.06-.94-.94-2.06-.94 2.06-2.06.94z\"/><path d=\"M17.41 7.96l-1.37-1.37c-.4-.4-.92-.59-1.43-.59-.52 0-1.04.2-1.43.59L10.3 9.45l-7.72 7.72c-.78.78-.78 2.05 0 2.83L4 21.41c.39.39.9.59 1.41.59.51 0 1.02-.2 1.41-.59l7.78-7.78 2.81-2.81c.8-.78.8-2.07 0-2.86zM5.41 20L4 18.59l7.72-7.72 1.47 1.35L5.41 20z\"/>\n",
              "  </svg>\n",
              "      </button>\n",
              "      \n",
              "  <style>\n",
              "    .colab-df-container {\n",
              "      display:flex;\n",
              "      flex-wrap:wrap;\n",
              "      gap: 12px;\n",
              "    }\n",
              "\n",
              "    .colab-df-convert {\n",
              "      background-color: #E8F0FE;\n",
              "      border: none;\n",
              "      border-radius: 50%;\n",
              "      cursor: pointer;\n",
              "      display: none;\n",
              "      fill: #1967D2;\n",
              "      height: 32px;\n",
              "      padding: 0 0 0 0;\n",
              "      width: 32px;\n",
              "    }\n",
              "\n",
              "    .colab-df-convert:hover {\n",
              "      background-color: #E2EBFA;\n",
              "      box-shadow: 0px 1px 2px rgba(60, 64, 67, 0.3), 0px 1px 3px 1px rgba(60, 64, 67, 0.15);\n",
              "      fill: #174EA6;\n",
              "    }\n",
              "\n",
              "    [theme=dark] .colab-df-convert {\n",
              "      background-color: #3B4455;\n",
              "      fill: #D2E3FC;\n",
              "    }\n",
              "\n",
              "    [theme=dark] .colab-df-convert:hover {\n",
              "      background-color: #434B5C;\n",
              "      box-shadow: 0px 1px 3px 1px rgba(0, 0, 0, 0.15);\n",
              "      filter: drop-shadow(0px 1px 2px rgba(0, 0, 0, 0.3));\n",
              "      fill: #FFFFFF;\n",
              "    }\n",
              "  </style>\n",
              "\n",
              "      <script>\n",
              "        const buttonEl =\n",
              "          document.querySelector('#df-a1fa9234-1308-4556-96a4-e62acca327c6 button.colab-df-convert');\n",
              "        buttonEl.style.display =\n",
              "          google.colab.kernel.accessAllowed ? 'block' : 'none';\n",
              "\n",
              "        async function convertToInteractive(key) {\n",
              "          const element = document.querySelector('#df-a1fa9234-1308-4556-96a4-e62acca327c6');\n",
              "          const dataTable =\n",
              "            await google.colab.kernel.invokeFunction('convertToInteractive',\n",
              "                                                     [key], {});\n",
              "          if (!dataTable) return;\n",
              "\n",
              "          const docLinkHtml = 'Like what you see? Visit the ' +\n",
              "            '<a target=\"_blank\" href=https://colab.research.google.com/notebooks/data_table.ipynb>data table notebook</a>'\n",
              "            + ' to learn more about interactive tables.';\n",
              "          element.innerHTML = '';\n",
              "          dataTable['output_type'] = 'display_data';\n",
              "          await google.colab.output.renderOutput(dataTable, element);\n",
              "          const docLink = document.createElement('div');\n",
              "          docLink.innerHTML = docLinkHtml;\n",
              "          element.appendChild(docLink);\n",
              "        }\n",
              "      </script>\n",
              "    </div>\n",
              "  </div>\n",
              "  "
            ],
            "text/plain": [
              "   SK_ID_CURR  TARGET  ... DAYS_DETAILS_CHANGE_MUL DAYS_DETAILS_CHANGE_SUM\n",
              "0      100002       1  ...           -8.770084e+09                 -6902.0\n",
              "1      100003       0  ...           -2.857643e+08                 -2305.0\n",
              "2      100009       0  ...           -1.172823e+09                 -3394.0\n",
              "3      100016       0  ...           -2.378525e+09                 -5908.0\n",
              "4      100017       0  ...           -1.263109e+07                 -5558.0\n",
              "\n",
              "[5 rows x 110 columns]"
            ]
          },
          "metadata": {},
          "execution_count": 18
        }
      ]
    },
    {
      "cell_type": "code",
      "source": [
        "train_set.isnull().sort_values(ascending =False, by=).sum()"
      ],
      "metadata": {
        "id": "X5zUrWGXlZzY",
        "colab": {
          "base_uri": "https://localhost:8080/",
          "height": 286
        },
        "outputId": "4c407c8f-af49-4e62-c7cc-d117b17e1298"
      },
      "execution_count": null,
      "outputs": [
        {
          "output_type": "error",
          "ename": "TypeError",
          "evalue": "ignored",
          "traceback": [
            "\u001b[0;31m---------------------------------------------------------------------------\u001b[0m",
            "\u001b[0;31mTypeError\u001b[0m                                 Traceback (most recent call last)",
            "\u001b[0;32m<ipython-input-23-5a447589c916>\u001b[0m in \u001b[0;36m<module>\u001b[0;34m()\u001b[0m\n\u001b[0;32m----> 1\u001b[0;31m \u001b[0mtrain_set\u001b[0m\u001b[0;34m.\u001b[0m\u001b[0misnull\u001b[0m\u001b[0;34m(\u001b[0m\u001b[0;34m)\u001b[0m\u001b[0;34m.\u001b[0m\u001b[0msort_values\u001b[0m\u001b[0;34m(\u001b[0m\u001b[0mascending\u001b[0m \u001b[0;34m=\u001b[0m\u001b[0;32mFalse\u001b[0m\u001b[0;34m,\u001b[0m \u001b[0maxis\u001b[0m\u001b[0;34m=\u001b[0m\u001b[0;36m1\u001b[0m\u001b[0;34m)\u001b[0m\u001b[0;34m.\u001b[0m\u001b[0msum\u001b[0m\u001b[0;34m(\u001b[0m\u001b[0;34m)\u001b[0m\u001b[0;34m\u001b[0m\u001b[0;34m\u001b[0m\u001b[0m\n\u001b[0m",
            "\u001b[0;32m/usr/local/lib/python3.7/dist-packages/pandas/util/_decorators.py\u001b[0m in \u001b[0;36mwrapper\u001b[0;34m(*args, **kwargs)\u001b[0m\n\u001b[1;32m    309\u001b[0m                     \u001b[0mstacklevel\u001b[0m\u001b[0;34m=\u001b[0m\u001b[0mstacklevel\u001b[0m\u001b[0;34m,\u001b[0m\u001b[0;34m\u001b[0m\u001b[0;34m\u001b[0m\u001b[0m\n\u001b[1;32m    310\u001b[0m                 )\n\u001b[0;32m--> 311\u001b[0;31m             \u001b[0;32mreturn\u001b[0m \u001b[0mfunc\u001b[0m\u001b[0;34m(\u001b[0m\u001b[0;34m*\u001b[0m\u001b[0margs\u001b[0m\u001b[0;34m,\u001b[0m \u001b[0;34m**\u001b[0m\u001b[0mkwargs\u001b[0m\u001b[0;34m)\u001b[0m\u001b[0;34m\u001b[0m\u001b[0;34m\u001b[0m\u001b[0m\n\u001b[0m\u001b[1;32m    312\u001b[0m \u001b[0;34m\u001b[0m\u001b[0m\n\u001b[1;32m    313\u001b[0m         \u001b[0;32mreturn\u001b[0m \u001b[0mwrapper\u001b[0m\u001b[0;34m\u001b[0m\u001b[0;34m\u001b[0m\u001b[0m\n",
            "\u001b[0;31mTypeError\u001b[0m: sort_values() missing 1 required positional argument: 'by'"
          ]
        }
      ]
    },
    {
      "cell_type": "code",
      "source": [
        ""
      ],
      "metadata": {
        "id": "yLEnXr2SlZ4R"
      },
      "execution_count": null,
      "outputs": []
    },
    {
      "cell_type": "code",
      "source": [
        ""
      ],
      "metadata": {
        "id": "LKoUJscUlZ-M"
      },
      "execution_count": null,
      "outputs": []
    },
    {
      "cell_type": "markdown",
      "metadata": {
        "id": "Dfopl75fhx_W"
      },
      "source": [
        "## **Modeling**"
      ]
    },
    {
      "cell_type": "code",
      "execution_count": null,
      "metadata": {
        "id": "zyFaG5JvhPUG"
      },
      "outputs": [],
      "source": [
        ""
      ]
    },
    {
      "cell_type": "code",
      "execution_count": null,
      "metadata": {
        "id": "yy26A8NMkH5B"
      },
      "outputs": [],
      "source": [
        ""
      ]
    },
    {
      "cell_type": "code",
      "execution_count": null,
      "metadata": {
        "id": "ER1jNNvHkH9K"
      },
      "outputs": [],
      "source": [
        ""
      ]
    },
    {
      "cell_type": "code",
      "execution_count": null,
      "metadata": {
        "id": "51w3HqE9kH_D"
      },
      "outputs": [],
      "source": [
        ""
      ]
    },
    {
      "cell_type": "code",
      "execution_count": null,
      "metadata": {
        "id": "IwHRj7STkIAv"
      },
      "outputs": [],
      "source": [
        ""
      ]
    },
    {
      "cell_type": "code",
      "execution_count": null,
      "metadata": {
        "id": "eK3Sl4AFkIEo"
      },
      "outputs": [],
      "source": [
        ""
      ]
    },
    {
      "cell_type": "code",
      "execution_count": null,
      "metadata": {
        "id": "4dJPv5eFhPYq"
      },
      "outputs": [],
      "source": [
        ""
      ]
    },
    {
      "cell_type": "code",
      "execution_count": null,
      "metadata": {
        "colab": {
          "base_uri": "https://localhost:8080/"
        },
        "id": "q6Zcdk-lK4hK",
        "outputId": "3c81e2af-f8d0-417d-bad8-a143a6286e51"
      },
      "outputs": [
        {
          "data": {
            "text/plain": [
              "(48744, 104)"
            ]
          },
          "execution_count": 80,
          "metadata": {},
          "output_type": "execute_result"
        }
      ],
      "source": [
        "app_test.shape"
      ]
    },
    {
      "cell_type": "code",
      "execution_count": null,
      "metadata": {
        "colab": {
          "base_uri": "https://localhost:8080/"
        },
        "id": "Q7Fb1VRJK4oi",
        "outputId": "602d7e88-f732-43bd-c07a-12ffee5f87ba"
      },
      "outputs": [
        {
          "data": {
            "text/plain": [
              "(307511, 105)"
            ]
          },
          "execution_count": 81,
          "metadata": {},
          "output_type": "execute_result"
        }
      ],
      "source": [
        "app_train.shape"
      ]
    },
    {
      "cell_type": "code",
      "execution_count": null,
      "metadata": {
        "id": "IUO6iyJ9wtUM"
      },
      "outputs": [],
      "source": [
        "app_train= filling_num_miss_value(app_train)\n",
        "app_test= filling_num_miss_value(app_test)"
      ]
    },
    {
      "cell_type": "markdown",
      "metadata": {
        "id": "frv65_CMraLc"
      },
      "source": [
        "1- First we start with cleaning the data by removing the outliers. We also remove the rows in train data with categories such that those categories do not appear in test data. We also convert the Region Rating features to categorical becuase we saw from the EDA that they don't follow an ordinal beviour when it comes to Defaulting Characteristics.\n",
        "\n",
        "2-Inspired from the winner's writeup for the problem, we also predict the missing values of EXT_SOURCE features by building a regression model on the rest of the numeric features.\n",
        "\n",
        "3-Next we do feature engineering on the numeric features, and generate features based on Domain Knoweldge, such as INCOME TO ANNUITY ratio, EXT_SOURCE means, etc.\n",
        "\n",
        "4-We also try to predict the interest rates by using the data from the previous applications features, and predicting using the data from application_train features. We also create a feature based on the Target values from application_train where we compute the mean of targets of 500 nearest neighbors of each row.\n",
        "\n",
        "5-Next we create some features based on the categorical interactions by grouping the data on several categorical combinations and imputing the aggregates for each group as features.\n",
        "\n",
        "6-We encode the categorical features by response coding, as we didn't want to increase dimensionality by many-folds using OHE."
      ]
    },
    {
      "cell_type": "code",
      "execution_count": null,
      "metadata": {
        "id": "ZVlufWSJNgdq"
      },
      "outputs": [],
      "source": [
        ""
      ]
    },
    {
      "cell_type": "code",
      "execution_count": null,
      "metadata": {
        "id": "F77QHqmKPUSL"
      },
      "outputs": [],
      "source": [
        ""
      ]
    },
    {
      "cell_type": "code",
      "execution_count": null,
      "metadata": {
        "colab": {
          "base_uri": "https://localhost:8080/"
        },
        "id": "baNM8OEtqxvu",
        "outputId": "beb1764a-b3de-4359-969d-4151636b4867"
      },
      "outputs": [
        {
          "data": {
            "text/plain": [
              "(307507, 166)"
            ]
          },
          "execution_count": 12,
          "metadata": {},
          "output_type": "execute_result"
        }
      ],
      "source": [
        "app_train.shape"
      ]
    },
    {
      "cell_type": "code",
      "execution_count": null,
      "metadata": {
        "id": "_MfV0m8HSnA9"
      },
      "outputs": [],
      "source": [
        ""
      ]
    },
    {
      "cell_type": "code",
      "execution_count": null,
      "metadata": {
        "id": "BpBt9fFFE8_f"
      },
      "outputs": [],
      "source": [
        ""
      ]
    },
    {
      "cell_type": "code",
      "execution_count": null,
      "metadata": {
        "id": "lYK_OYy5E9Fv"
      },
      "outputs": [],
      "source": [
        ""
      ]
    },
    {
      "cell_type": "code",
      "execution_count": null,
      "metadata": {
        "id": "IL7mzqOe6jJ-"
      },
      "outputs": [],
      "source": [
        ""
      ]
    },
    {
      "cell_type": "code",
      "execution_count": null,
      "metadata": {
        "id": "sSCuxZhA6jNr"
      },
      "outputs": [],
      "source": [
        ""
      ]
    },
    {
      "cell_type": "code",
      "execution_count": null,
      "metadata": {
        "id": "sRjT4_Ra6jTU"
      },
      "outputs": [],
      "source": [
        ""
      ]
    },
    {
      "cell_type": "code",
      "execution_count": null,
      "metadata": {
        "id": "oltWhAlMG6zx"
      },
      "outputs": [],
      "source": [
        ""
      ]
    },
    {
      "cell_type": "markdown",
      "metadata": {
        "id": "byz0eZEwG2V5"
      },
      "source": [
        "## **previous_application**"
      ]
    },
    {
      "cell_type": "code",
      "execution_count": null,
      "metadata": {
        "id": "tizrB7CZ6jWj"
      },
      "outputs": [],
      "source": [
        "#engineering some features on domain knowledge\n",
        "previous_application['MISSING_VALUES_TOTAL_PREV'] = previous_application.isna().sum(axis = 1)\n",
        "previous_application['AMT_DECLINED'] = previous_application['AMT_APPLICATION'] - previous_application['AMT_CREDIT']\n",
        "previous_application['AMT_CREDIT_GOODS_RATIO'] = previous_application['AMT_CREDIT'] / (previous_application['AMT_GOODS_PRICE'] + 0.00001)\n",
        "previous_application['AMT_CREDIT_GOODS_DIFF'] = previous_application['AMT_CREDIT'] - previous_application['AMT_GOODS_PRICE']\n",
        "previous_application['AMT_CREDIT_APPLICATION_RATIO'] = previous_application['AMT_APPLICATION'] / (previous_application['AMT_CREDIT'] + 0.00001)\n",
        "previous_application['CREDIT_DOWNPAYMENT_RATIO'] = previous_application['AMT_DOWN_PAYMENT'] / (previous_application['AMT_CREDIT'] + 0.00001)\n",
        "previous_application['GOOD_DOWNPAYMET_RATIO'] = previous_application['AMT_DOWN_PAYMENT'] / (previous_application['AMT_GOODS_PRICE'] + 0.00001)\n",
        "previous_application['INTEREST_DOWNPAYMENT'] = previous_application['RATE_DOWN_PAYMENT'] * previous_application['AMT_DOWN_PAYMENT']\n",
        "previous_application['INTEREST_CREDIT'] = previous_application['AMT_CREDIT'] * previous_application['RATE_INTEREST_PRIMARY']\n",
        "previous_application['INTEREST_CREDIT_PRIVILEGED'] = previous_application['AMT_CREDIT'] * previous_application['RATE_INTEREST_PRIVILEGED']\n",
        "previous_application['APPLICATION_AMT_TO_DECISION_RATIO'] = previous_application['AMT_APPLICATION'] / (previous_application['DAYS_DECISION'] + 0.00001) * -1\n",
        "previous_application['AMT_APPLICATION_TO_SELLERPLACE_AREA'] = previous_application['AMT_APPLICATION'] / (previous_application['SELLERPLACE_AREA'] + 0.00001)\n",
        "previous_application['ANNUITY'] = previous_application['AMT_CREDIT'] / (previous_application['CNT_PAYMENT'] + 0.00001)\n",
        "previous_application['ANNUITY_GOODS'] = previous_application['AMT_GOODS_PRICE'] / (previous_application['CNT_PAYMENT'] + 0.00001)\n",
        "previous_application['DAYS_FIRST_LAST_DUE_DIFF' ] = previous_application['DAYS_LAST_DUE'] - previous_application['DAYS_FIRST_DUE']\n",
        "previous_application['AMT_CREDIT_HOUR_PROCESS_START'] = sprevious_application['AMT_CREDIT'] * previous_application['HOUR_APPR_PROCESS_START']\n",
        "previous_application['AMT_CREDIT_NFLAG_LAST_APPL_DAY'] = previous_application['AMT_CREDIT'] * previous_application['NFLAG_LAST_APPL_IN_DAY']\n",
        "previous_application['AMT_CREDIT_YIELD_GROUP'] = previous_application['AMT_CREDIT'] * previous_application['NAME_YIELD_GROUP']\n",
        "\n",
        "#https://www.kaggle.com/c/home-credit-default-risk/discussion/64598\n",
        "self.previous_application['AMT_INTEREST'] = self.previous_application['CNT_PAYMENT'] * self.previous_application[\n",
        "                                        'AMT_ANNUITY'] - self.previous_application['AMT_CREDIT'] \n",
        "self.previous_application['INTEREST_SHARE'] = self.previous_application['AMT_INTEREST'] / (self.previous_application[\n",
        "                                                                                        'AMT_CREDIT'] + 0.00001)\n",
        "self.previous_application['INTEREST_RATE'] = 2 * 12 * self.previous_application['AMT_INTEREST'] / (self.previous_application[\n",
        "                                    'AMT_CREDIT'] * (self.previous_application['CNT_PAYMENT'] + 1))"
      ]
    },
    {
      "cell_type": "code",
      "execution_count": null,
      "metadata": {
        "id": "t6wbq9SC6jZ8"
      },
      "outputs": [],
      "source": [
        ""
      ]
    },
    {
      "cell_type": "markdown",
      "metadata": {
        "id": "ZzvY573UHLs1"
      },
      "source": [
        "## **installments_payments**"
      ]
    },
    {
      "cell_type": "code",
      "execution_count": null,
      "metadata": {
        "id": "ErMsR3i-E9J6"
      },
      "outputs": [],
      "source": [
        " #engineering new features based on some domain based polynomial operations\n",
        "installments_payments['DAYS_PAYMENT_RATIO'] = installments_payments['DAYS_INSTALMENT'] / (installments_payments['DAYS_ENTRY_PAYMENT'] + 0.00001)\n",
        "installments_payments['DAYS_PAYMENT_DIFF'] = installments_payments['DAYS_INSTALMENT'] - installments_payments['DAYS_ENTRY_PAYMENT']\n",
        "installments_payments['AMT_PAYMENT_RATIO'] = installments_payments['AMT_PAYMENT'] / (installments_payments['AMT_INSTALMENT'] + 0.00001)\n",
        "installments_payments['AMT_PAYMENT_DIFF'] = installments_payments['AMT_INSTALMENT'] - installments_payments['AMT_PAYMENT']\n",
        "installments_payments['EXP_DAYS_PAYMENT_RATIO'] = installments_payments['DAYS_PAYMENT_RATIO'].transform(lambda x: x.ewm(alpha = 0.5).mean())\n",
        "installments_payments['EXP_DAYS_PAYMENT_DIFF'] = installments_payments['DAYS_PAYMENT_DIFF'].transform(lambda x: x.ewm(alpha = 0.5).mean())\n",
        "installments_payments['EXP_AMT_PAYMENT_RATIO'] = installments_payments['AMT_PAYMENT_RATIO'].transform(lambda x: x.ewm(alpha = 0.5).mean())\n",
        "installments_payments['EXP_AMT_PAYMENT_DIFF'] = installments_payments['AMT_PAYMENT_DIFF'].transform(lambda x: x.ewm(alpha = 0.5).mean())\n"
      ]
    },
    {
      "cell_type": "code",
      "execution_count": null,
      "metadata": {
        "id": "NE7aFt8HL4uO"
      },
      "outputs": [],
      "source": [
        ""
      ]
    },
    {
      "cell_type": "code",
      "execution_count": null,
      "metadata": {
        "id": "21xwFIwhL42I"
      },
      "outputs": [],
      "source": [
        ""
      ]
    },
    {
      "cell_type": "markdown",
      "metadata": {
        "id": "cKh9hPJIL6q8"
      },
      "source": [
        "## **POS_CASH_balance.csv**"
      ]
    },
    {
      "cell_type": "code",
      "execution_count": null,
      "metadata": {
        "id": "g4fghvj7L47z"
      },
      "outputs": [],
      "source": [
        " #making the MONTHS_BALANCE Positive\n",
        "        self.pos_cash['MONTHS_BALANCE'] = np.abs(self.pos_cash['MONTHS_BALANCE'])\n",
        "        #sorting the DataFrame according to the month of status from oldest to latest, for rolling computations\n",
        "        self.pos_cash = self.pos_cash.sort_values(by=['SK_ID_PREV', 'MONTHS_BALANCE'], ascending=False)\n",
        "\n",
        "        #computing Exponential Moving Average for some features based on MONTHS_BALANCE\n",
        "        columns_for_ema = ['CNT_INSTALMENT', 'CNT_INSTALMENT_FUTURE']\n",
        "        exp_columns = ['EXP_'+ele for ele in columns_for_ema]\n",
        "        self.pos_cash[exp_columns] = self.pos_cash.groupby('SK_ID_PREV')[columns_for_ema].transform(lambda x: x.ewm(alpha = 0.6).mean())\n",
        "\n",
        "        #creating new features based on Domain Knowledge\n",
        "        self.pos_cash['SK_DPD_RATIO'] = self.pos_cash['SK_DPD'] / (self.pos_cash['SK_DPD_DEF'] + 0.00001)\n",
        "        self.pos_cash['TOTAL_TERM'] = self.pos_cash['CNT_INSTALMENT'] + self.pos_cash['CNT_INSTALMENT_FUTURE']\n",
        "        self.pos_cash['EXP_POS_TOTAL_TERM'] = self.pos_cash['EXP_CNT_INSTALMENT'] + self.pos_cash['EXP_CNT_INSTALMENT_FUTURE']\n",
        "        "
      ]
    },
    {
      "cell_type": "code",
      "execution_count": null,
      "metadata": {
        "id": "ukw3tzU3L5A7"
      },
      "outputs": [],
      "source": [
        ""
      ]
    },
    {
      "cell_type": "code",
      "execution_count": null,
      "metadata": {
        "id": "yobxWiGZL5Gq"
      },
      "outputs": [],
      "source": [
        ""
      ]
    },
    {
      "cell_type": "code",
      "execution_count": null,
      "metadata": {
        "id": "Q1s_OjG7E9Qd"
      },
      "outputs": [],
      "source": [
        "def merge_all_tables(application_train, application_test, bureau_aggregated, previous_aggregated, \n",
        "                    installments_aggregated, pos_aggregated, cc_aggregated):\n",
        "    '''\n",
        "    Function to merge all the tables together with the application_train and application_test tables\n",
        "    on SK_ID_CURR.\n",
        "    \n",
        "    Inputs:\n",
        "        All the previously pre-processed Tables.\n",
        "        \n",
        "    Returns:\n",
        "        Single merged tables, one for training data and one for test data\n",
        "    '''\n",
        "\n",
        "    #merging application_train and application_test with Aggregated bureau table\n",
        "    app_train_merged = application_train.merge(bureau_aggregated, on = 'SK_ID_CURR', how = 'left')\n",
        "    app_test_merged = application_test.merge(bureau_aggregated, on = 'SK_ID_CURR', how = 'left')\n",
        "    #merging with aggregated previous_applications\n",
        "    app_train_merged = app_train_merged.merge(previous_aggregated, on = 'SK_ID_CURR', how = 'left')\n",
        "    app_test_merged = app_test_merged.merge(previous_aggregated, on = 'SK_ID_CURR', how = 'left')\n",
        "    #merging with aggregated installments tables\n",
        "    app_train_merged = app_train_merged.merge(installments_aggregated, on = 'SK_ID_CURR', how = 'left')\n",
        "    app_test_merged = app_test_merged.merge(installments_aggregated, on = 'SK_ID_CURR', how = 'left')\n",
        "    #merging with aggregated POS_Cash balance table\n",
        "    app_train_merged = app_train_merged.merge(pos_aggregated, on = 'SK_ID_CURR', how = 'left')\n",
        "    app_test_merged = app_test_merged.merge(pos_aggregated, on = 'SK_ID_CURR', how = 'left')\n",
        "    #merging with aggregated credit card table\n",
        "    app_train_merged = app_train_merged.merge(cc_aggregated, on = 'SK_ID_CURR', how = 'left')\n",
        "    app_test_merged = app_test_merged.merge(cc_aggregated, on = 'SK_ID_CURR', how = 'left')\n",
        "\n",
        "    return reduce_mem_usage(app_train_merged), reduce_mem_usage(app_test_merged)"
      ]
    },
    {
      "cell_type": "code",
      "execution_count": null,
      "metadata": {
        "id": "X8IpOJJYE9Vi"
      },
      "outputs": [],
      "source": [
        ""
      ]
    },
    {
      "cell_type": "code",
      "execution_count": null,
      "metadata": {
        "id": "DeqBR4jLE9ZP"
      },
      "outputs": [],
      "source": [
        ""
      ]
    }
  ],
  "metadata": {
    "colab": {
      "collapsed_sections": [],
      "name": "Credit-_scoring_Modeling.ipynb",
      "provenance": [],
      "authorship_tag": "ABX9TyNYyqD37U5MkRq5hvkkhkPI",
      "include_colab_link": true
    },
    "kernelspec": {
      "display_name": "Python 3",
      "name": "python3"
    },
    "language_info": {
      "name": "python"
    }
  },
  "nbformat": 4,
  "nbformat_minor": 0
}