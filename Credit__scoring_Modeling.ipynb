{
  "nbformat": 4,
  "nbformat_minor": 0,
  "metadata": {
    "colab": {
      "name": "Credit-_scoring_Modeling.ipynb",
      "provenance": [],
      "collapsed_sections": [],
      "authorship_tag": "ABX9TyOCsTYdmM8DDAf4AcsF2V6x",
      "include_colab_link": true
    },
    "kernelspec": {
      "name": "python3",
      "display_name": "Python 3"
    },
    "language_info": {
      "name": "python"
    }
  },
  "cells": [
    {
      "cell_type": "markdown",
      "metadata": {
        "id": "view-in-github",
        "colab_type": "text"
      },
      "source": [
        "<a href=\"https://colab.research.google.com/github/Azimoj/Home-Credit-Default-Risk/blob/main/Credit__scoring_Modeling.ipynb\" target=\"_parent\"><img src=\"https://colab.research.google.com/assets/colab-badge.svg\" alt=\"Open In Colab\"/></a>"
      ]
    },
    {
      "cell_type": "markdown",
      "source": [
        "The data contains several number of relational tables. We'll process each one of them separately, and then finally in the end, merge all of them together."
      ],
      "metadata": {
        "id": "ZcsezZggrbGw"
      }
    },
    {
      "cell_type": "markdown",
      "source": [
        "## **Preprocessing Tables**"
      ],
      "metadata": {
        "id": "6zFXgiPGrSp7"
      }
    },
    {
      "cell_type": "markdown",
      "source": [
        "**bureau_balance**\n",
        "* First off, the bureau_balance table contains three fields, i.e. SK_ID_BUREAU, MONTHS_BALANCE and STATUS.\n",
        "Since the Status follows somewhat ordinal behaviour, we start by label encoding it.\n",
        "* Next, some features are created such as weighted status, which is obtained by dividing the status by the MONTHS_BALANCE.\n",
        "* Since the data contains the timeseries, we also calculate the Exponential Weighted Moving Average of the Status and Weighted Status fields.\n",
        "* Finally, we aggregate the data over SK_ID_BUREAU, in such a way that we first aggregate it over all the data, and after that we also aggregate over the last 2 years. These 2 years would depict the more recent behaviour of the clients.\n",
        "* The aggregations performed are based on Domain Knowledge, such as mean, min, max, sum, count, etc. For EDA features, we only take the last/most recent values, as they somewhat contain the trend of all the previous values.\n",
        "\n",
        "**bureau**\n",
        "* Firstly, we merge the bureau table with the aggregated bureau_balance table from previous step, on SK_ID_BUREAU.\n",
        "* We replace some erroneous values with NaN values. We saw some loans dating back to as long as 100 years ago. We believe they wouldn't really tell much about client's recent behaviour, so we remove them and only keep the loans in the period of 50 years.\n",
        "* We create some features by multiplications, divisions, subtractions of raw features, based on domain knowledge, such as Credit duration, annutiy to credit ratio, etc.\n",
        "* The categorical features are one-hot encoded.\n",
        "* To merge these to main table, i.e. application_train, we aggregate this table over SK_ID_CURR. We perform the aggregations again in two ways. We aggregate the credits based on the CREDIT_ACTIVE category, where we aggregate for two most popular categories separately, i.e. Active, and Closed. Later we aggregate for the remaining categories too, and merge these. We aggregated the whole data overall too. The aggregations performed are sum, mean, min, max, last, etc."
      ],
      "metadata": {
        "id": "V40i8eSgrkqS"
      }
    },
    {
      "cell_type": "code",
      "execution_count": 13,
      "metadata": {
        "id": "6itS5mslHxCW",
        "colab": {
          "base_uri": "https://localhost:8080/"
        },
        "outputId": "acb9ed5a-f96b-4628-9e0a-91e474f55b4b"
      },
      "outputs": [
        {
          "output_type": "stream",
          "name": "stdout",
          "text": [
            "Mounted at /content/drive\n"
          ]
        }
      ],
      "source": [
        "from google.colab import drive\n",
        "drive.mount(\"/content/drive\", force_remount=True)"
      ]
    },
    {
      "cell_type": "code",
      "source": [
        "# Data Structures\n",
        "import pandas as pd\n",
        "import numpy as np\n",
        "import matplotlib.pyplot as plt\n",
        "import seaborn as sns\n",
        "import matplotlib\n",
        "\n",
        "import warnings\n",
        "warnings.filterwarnings('ignore')\n",
        "\n",
        "from sklearn.impute import KNNImputer\n",
        "from sklearn.preprocessing import LabelEncoder\n",
        "from sklearn.manifold import TSNE\n",
        "from sklearn.decomposition import PCA\n",
        "\n",
        "import pickle\n",
        "from sklearn.neighbors import KNeighborsClassifier"
      ],
      "metadata": {
        "id": "rT58aLKvrdiL"
      },
      "execution_count": 14,
      "outputs": []
    },
    {
      "cell_type": "code",
      "source": [
        "#Download databases\n",
        "app_test= pd.read_csv('/content/drive/MyDrive/p7/data/application_test.csv', encoding='utf-8', low_memory=False)\n",
        "app_train= pd.read_csv('/content/drive/MyDrive/p7/data/application_train.csv',low_memory=False)"
      ],
      "metadata": {
        "id": "q2zJ8oWdrdlA"
      },
      "execution_count": 40,
      "outputs": []
    },
    {
      "cell_type": "code",
      "source": [
        "bureau= pd.read_csv('/content/drive/MyDrive/p7/data/bureau.csv',sep=',', encoding='utf-8', low_memory=False)\n",
        "bureau_balance= pd.read_csv('/content/drive/MyDrive/p7/data/bureau_balance.csv',sep=',' , encoding='utf-8', low_memory=False)\n",
        "cc_balance= pd.read_csv('/content/drive/MyDrive/p7/data/credit_card_balance.csv',sep=',', encoding='utf-8', low_memory=False)"
      ],
      "metadata": {
        "id": "nCsJmH3Srdna"
      },
      "execution_count": 20,
      "outputs": []
    },
    {
      "cell_type": "code",
      "source": [
        "instal_pay= pd.read_csv('/content/drive/MyDrive/p7/data/installments_payments.csv',sep=',', encoding='utf-8', low_memory=False)\n",
        "pos_cash_bal= pd.read_csv('/content/drive/MyDrive/p7/data/POS_CASH_balance.csv',sep=',', encoding='utf-8', low_memory=False)\n",
        "previous_app= pd.read_csv('/content/drive/MyDrive/p7/data/previous_application.csv', encoding='utf-8',low_memory=False)\n",
        "sample_submission = pd.read_csv('/content/drive/MyDrive/p7/data/sample_submission.csv', encoding='utf-8',low_memory=False)"
      ],
      "metadata": {
        "id": "0N1gNsOTrdsw"
      },
      "execution_count": 21,
      "outputs": []
    },
    {
      "cell_type": "code",
      "source": [
        "hc_description= pd.read_csv('/content/drive/MyDrive/p7/data/HomeCredit_columns_description.csv', encoding='cp1252', low_memory=False)"
      ],
      "metadata": {
        "id": "Bd6bUEsurdwk"
      },
      "execution_count": 22,
      "outputs": []
    },
    {
      "cell_type": "code",
      "source": [
        ""
      ],
      "metadata": {
        "id": "629wY3U0s2FM"
      },
      "execution_count": null,
      "outputs": []
    },
    {
      "cell_type": "markdown",
      "source": [
        "## **application_train and application_test**"
      ],
      "metadata": {
        "id": "6Xmwgg0DBg2G"
      }
    },
    {
      "cell_type": "markdown",
      "source": [
        "### **Imputation**"
      ],
      "metadata": {
        "id": "XzyBW8nttFrJ"
      }
    },
    {
      "cell_type": "markdown",
      "source": [
        "### **Data cleaning**"
      ],
      "metadata": {
        "id": "WUH0NW7TNehb"
      }
    },
    {
      "cell_type": "code",
      "source": [
        "\n",
        "#there are some FLAG_DOCUMENT features having just one category for almost all data, we will remove those\n",
        "flag_cols_to_drop = ['FLAG_DOCUMENT_2','FLAG_DOCUMENT_4','FLAG_DOCUMENT_10','FLAG_DOCUMENT_12', 'FLAG_DOCUMENT_20']\n",
        "app_train.drop(flag_cols_to_drop, axis = 1, inplace = True)\n",
        "app_test.drop(flag_cols_to_drop, axis = 1, inplace= True)\n",
        "\n",
        "#converting age from days to years\n",
        "app_train['AGE'] = app_train['DAYS_BIRTH'] * -1 / 365\n",
        "app_test['AGE'] = app_test['DAYS_BIRTH'] * -1 / 365\n",
        "\n",
        "# Outliers\n",
        "#From the EDA we saw some erroneous values in DAYS_EMPLOYED field\n",
        "app_train['DAYS_EMPLOYED'][app_train['DAYS_EMPLOYED'] == 365243] = np.nan\n",
        "app_test['DAYS_EMPLOYED'][app_test['DAYS_EMPLOYED'] == 365243] = np.nan\n",
        "\n",
        "#there were also 4 rows with 'XNA' as Gender, removing these rows\n",
        "app_train = app_train[app_train['CODE_GENDER'] != 'XNA']\n",
        "\n",
        "#converting columns of REGION_RATING_CLIENT to object type, as we saw some complex impact on TARGET variable during EDA\n",
        "app_train['REGION_RATING_CLIENT'] = app_train['REGION_RATING_CLIENT'].astype('object')\n",
        "app_train['REGION_RATING_CLIENT_W_CITY'] = app_train['REGION_RATING_CLIENT_W_CITY'].astype('object')\n",
        "\n",
        "app_test['REGION_RATING_CLIENT'] = app_test['REGION_RATING_CLIENT'].astype('object')\n",
        "app_test['REGION_RATING_CLIENT_W_CITY'] = app_test['REGION_RATING_CLIENT_W_CITY'].astype('object')\n"
      ],
      "metadata": {
        "id": "VYPxnikgGUQi"
      },
      "execution_count": 41,
      "outputs": []
    },
    {
      "cell_type": "markdown",
      "source": [
        "### Suppression des lignes qui ont un taux de remplissage inférieur à une limite"
      ],
      "metadata": {
        "id": "jwDRSdUjQuKM"
      }
    },
    {
      "cell_type": "code",
      "source": [
        "find_rate =  app_train.copy()\n",
        "find_rate = find_rate.replace(to_replace = '^nan$', value = np.nan, regex=True)\n",
        "nb_lines = find_rate.shape[0]\n",
        "nb_columns = find_rate.shape[1]\n",
        "                \n",
        "find_rate['taux_remplissage_lines'] = (app_train.apply(lambda x: x.count(), axis=1)/nb_columns)\n",
        "    \n",
        "filling_rate = []\n",
        "remove_line = []\n",
        "\n",
        "for i in range(0, 11, 1):\n",
        "    taux_remplissage = i/10.0\n",
        "    \n",
        "    filling_rate.append(taux_remplissage*100)\n",
        "\n",
        "    df_2 = find_rate[find_rate['taux_remplissage_lines'] > taux_remplissage]\n",
        "  \n",
        "            \n",
        "    #number of lines in the end\n",
        "    nb_lines_supp = nb_lines - df_2.shape[0]\n",
        "    remove_line.append(nb_lines_supp)\n",
        "  \n",
        "    del df_2['taux_remplissage_lines']\n",
        "    \n",
        "find_rate = pd.DataFrame(\n",
        "    {'filling_rate': filling_rate,\n",
        "     'remove_lines': remove_line})\n",
        "find_rate"
      ],
      "metadata": {
        "colab": {
          "base_uri": "https://localhost:8080/",
          "height": 394
        },
        "id": "B4ZcnuarQIkC",
        "outputId": "b45e9623-1672-4173-ddb3-743e3bcbd1b1"
      },
      "execution_count": 42,
      "outputs": [
        {
          "output_type": "execute_result",
          "data": {
            "text/html": [
              "\n",
              "  <div id=\"df-770330d0-fba0-4dda-b291-f4268233d369\">\n",
              "    <div class=\"colab-df-container\">\n",
              "      <div>\n",
              "<style scoped>\n",
              "    .dataframe tbody tr th:only-of-type {\n",
              "        vertical-align: middle;\n",
              "    }\n",
              "\n",
              "    .dataframe tbody tr th {\n",
              "        vertical-align: top;\n",
              "    }\n",
              "\n",
              "    .dataframe thead th {\n",
              "        text-align: right;\n",
              "    }\n",
              "</style>\n",
              "<table border=\"1\" class=\"dataframe\">\n",
              "  <thead>\n",
              "    <tr style=\"text-align: right;\">\n",
              "      <th></th>\n",
              "      <th>filling_rate</th>\n",
              "      <th>remove_lines</th>\n",
              "    </tr>\n",
              "  </thead>\n",
              "  <tbody>\n",
              "    <tr>\n",
              "      <th>0</th>\n",
              "      <td>0.0</td>\n",
              "      <td>0</td>\n",
              "    </tr>\n",
              "    <tr>\n",
              "      <th>1</th>\n",
              "      <td>10.0</td>\n",
              "      <td>0</td>\n",
              "    </tr>\n",
              "    <tr>\n",
              "      <th>2</th>\n",
              "      <td>20.0</td>\n",
              "      <td>0</td>\n",
              "    </tr>\n",
              "    <tr>\n",
              "      <th>3</th>\n",
              "      <td>30.0</td>\n",
              "      <td>0</td>\n",
              "    </tr>\n",
              "    <tr>\n",
              "      <th>4</th>\n",
              "      <td>40.0</td>\n",
              "      <td>0</td>\n",
              "    </tr>\n",
              "    <tr>\n",
              "      <th>5</th>\n",
              "      <td>50.0</td>\n",
              "      <td>70</td>\n",
              "    </tr>\n",
              "    <tr>\n",
              "      <th>6</th>\n",
              "      <td>60.0</td>\n",
              "      <td>132473</td>\n",
              "    </tr>\n",
              "    <tr>\n",
              "      <th>7</th>\n",
              "      <td>70.0</td>\n",
              "      <td>154439</td>\n",
              "    </tr>\n",
              "    <tr>\n",
              "      <th>8</th>\n",
              "      <td>80.0</td>\n",
              "      <td>175672</td>\n",
              "    </tr>\n",
              "    <tr>\n",
              "      <th>9</th>\n",
              "      <td>90.0</td>\n",
              "      <td>211526</td>\n",
              "    </tr>\n",
              "    <tr>\n",
              "      <th>10</th>\n",
              "      <td>100.0</td>\n",
              "      <td>307507</td>\n",
              "    </tr>\n",
              "  </tbody>\n",
              "</table>\n",
              "</div>\n",
              "      <button class=\"colab-df-convert\" onclick=\"convertToInteractive('df-770330d0-fba0-4dda-b291-f4268233d369')\"\n",
              "              title=\"Convert this dataframe to an interactive table.\"\n",
              "              style=\"display:none;\">\n",
              "        \n",
              "  <svg xmlns=\"http://www.w3.org/2000/svg\" height=\"24px\"viewBox=\"0 0 24 24\"\n",
              "       width=\"24px\">\n",
              "    <path d=\"M0 0h24v24H0V0z\" fill=\"none\"/>\n",
              "    <path d=\"M18.56 5.44l.94 2.06.94-2.06 2.06-.94-2.06-.94-.94-2.06-.94 2.06-2.06.94zm-11 1L8.5 8.5l.94-2.06 2.06-.94-2.06-.94L8.5 2.5l-.94 2.06-2.06.94zm10 10l.94 2.06.94-2.06 2.06-.94-2.06-.94-.94-2.06-.94 2.06-2.06.94z\"/><path d=\"M17.41 7.96l-1.37-1.37c-.4-.4-.92-.59-1.43-.59-.52 0-1.04.2-1.43.59L10.3 9.45l-7.72 7.72c-.78.78-.78 2.05 0 2.83L4 21.41c.39.39.9.59 1.41.59.51 0 1.02-.2 1.41-.59l7.78-7.78 2.81-2.81c.8-.78.8-2.07 0-2.86zM5.41 20L4 18.59l7.72-7.72 1.47 1.35L5.41 20z\"/>\n",
              "  </svg>\n",
              "      </button>\n",
              "      \n",
              "  <style>\n",
              "    .colab-df-container {\n",
              "      display:flex;\n",
              "      flex-wrap:wrap;\n",
              "      gap: 12px;\n",
              "    }\n",
              "\n",
              "    .colab-df-convert {\n",
              "      background-color: #E8F0FE;\n",
              "      border: none;\n",
              "      border-radius: 50%;\n",
              "      cursor: pointer;\n",
              "      display: none;\n",
              "      fill: #1967D2;\n",
              "      height: 32px;\n",
              "      padding: 0 0 0 0;\n",
              "      width: 32px;\n",
              "    }\n",
              "\n",
              "    .colab-df-convert:hover {\n",
              "      background-color: #E2EBFA;\n",
              "      box-shadow: 0px 1px 2px rgba(60, 64, 67, 0.3), 0px 1px 3px 1px rgba(60, 64, 67, 0.15);\n",
              "      fill: #174EA6;\n",
              "    }\n",
              "\n",
              "    [theme=dark] .colab-df-convert {\n",
              "      background-color: #3B4455;\n",
              "      fill: #D2E3FC;\n",
              "    }\n",
              "\n",
              "    [theme=dark] .colab-df-convert:hover {\n",
              "      background-color: #434B5C;\n",
              "      box-shadow: 0px 1px 3px 1px rgba(0, 0, 0, 0.15);\n",
              "      filter: drop-shadow(0px 1px 2px rgba(0, 0, 0, 0.3));\n",
              "      fill: #FFFFFF;\n",
              "    }\n",
              "  </style>\n",
              "\n",
              "      <script>\n",
              "        const buttonEl =\n",
              "          document.querySelector('#df-770330d0-fba0-4dda-b291-f4268233d369 button.colab-df-convert');\n",
              "        buttonEl.style.display =\n",
              "          google.colab.kernel.accessAllowed ? 'block' : 'none';\n",
              "\n",
              "        async function convertToInteractive(key) {\n",
              "          const element = document.querySelector('#df-770330d0-fba0-4dda-b291-f4268233d369');\n",
              "          const dataTable =\n",
              "            await google.colab.kernel.invokeFunction('convertToInteractive',\n",
              "                                                     [key], {});\n",
              "          if (!dataTable) return;\n",
              "\n",
              "          const docLinkHtml = 'Like what you see? Visit the ' +\n",
              "            '<a target=\"_blank\" href=https://colab.research.google.com/notebooks/data_table.ipynb>data table notebook</a>'\n",
              "            + ' to learn more about interactive tables.';\n",
              "          element.innerHTML = '';\n",
              "          dataTable['output_type'] = 'display_data';\n",
              "          await google.colab.output.renderOutput(dataTable, element);\n",
              "          const docLink = document.createElement('div');\n",
              "          docLink.innerHTML = docLinkHtml;\n",
              "          element.appendChild(docLink);\n",
              "        }\n",
              "      </script>\n",
              "    </div>\n",
              "  </div>\n",
              "  "
            ],
            "text/plain": [
              "    filling_rate  remove_lines\n",
              "0            0.0             0\n",
              "1           10.0             0\n",
              "2           20.0             0\n",
              "3           30.0             0\n",
              "4           40.0             0\n",
              "5           50.0            70\n",
              "6           60.0        132473\n",
              "7           70.0        154439\n",
              "8           80.0        175672\n",
              "9           90.0        211526\n",
              "10         100.0        307507"
            ]
          },
          "metadata": {},
          "execution_count": 42
        }
      ]
    },
    {
      "cell_type": "code",
      "source": [
        "sns.lineplot(data=find_rate, x=\"filling_rate\", y=\"remove_lines\")"
      ],
      "metadata": {
        "colab": {
          "base_uri": "https://localhost:8080/",
          "height": 298
        },
        "id": "TdrXP2iJTWFV",
        "outputId": "73ac0d05-0531-4345-97f4-4bfc34ebd4bd"
      },
      "execution_count": 43,
      "outputs": [
        {
          "output_type": "execute_result",
          "data": {
            "text/plain": [
              "<matplotlib.axes._subplots.AxesSubplot at 0x7f5221417690>"
            ]
          },
          "metadata": {},
          "execution_count": 43
        },
        {
          "output_type": "display_data",
          "data": {
            "image/png": "[encoded data removed]",
            "text/plain": [
              "<Figure size 432x288 with 1 Axes>"
            ]
          },
          "metadata": {
            "needs_background": "light"
          }
        }
      ]
    },
    {
      "cell_type": "code",
      "source": [
        "def filtration_line(dataframe, taux_remplissage):\n",
        "    df = dataframe.copy()\n",
        "    dataframe = dataframe.replace(to_replace = '^nan$', value = np.nan, regex=True)\n",
        "    #number of line at origin\n",
        "    nb_lines = dataframe.shape[0]\n",
        "                \n",
        "    df['taux_remplissage_lines'] = (dataframe.apply(lambda x: x.count(), axis=1)/nb_columns)\n",
        "\n",
        "    df_2 = df[df['taux_remplissage_lines'] > taux_remplissage]\n",
        "  \n",
        "            \n",
        "    #number of lines in the end\n",
        "    nb_lines_supp = nb_lines - df_2.shape[0]\n",
        "\n",
        "    print(\"Number of lines with a fill rate higher than {:.2%} : {} lines.\".format(taux_remplissage, df_2.shape[0]))\n",
        "    print(\"Number of lines deleted : {} lines\".format(nb_lines_supp))\n",
        "    print(df_2.shape)\n",
        "    \n",
        "    del df_2['taux_remplissage_lines']\n",
        "\n",
        "    return df_2"
      ],
      "metadata": {
        "id": "1MXgpNzRQ95k"
      },
      "execution_count": 44,
      "outputs": []
    },
    {
      "cell_type": "code",
      "source": [
        "app_train_clean_lines = filtration_line(app_train, 0.7)"
      ],
      "metadata": {
        "colab": {
          "base_uri": "https://localhost:8080/"
        },
        "id": "Q__Tg_xlQ98O",
        "outputId": "d8d33552-85f3-45ca-d5d7-1e901594e617"
      },
      "execution_count": 45,
      "outputs": [
        {
          "output_type": "stream",
          "name": "stdout",
          "text": [
            "Number of lines with a fill rate higher than 70.00% : 153068 lines.\n",
            "Number of lines deleted : 154439 lines\n",
            "(153068, 119)\n"
          ]
        }
      ]
    },
    {
      "cell_type": "code",
      "source": [
        "app_train_clean_lines.shape"
      ],
      "metadata": {
        "colab": {
          "base_uri": "https://localhost:8080/"
        },
        "id": "Lqwnk9PBQ9_h",
        "outputId": "46d6d489-2710-4036-942f-2ecf98d99d8b"
      },
      "execution_count": 20,
      "outputs": [
        {
          "output_type": "execute_result",
          "data": {
            "text/plain": [
              "(153068, 117)"
            ]
          },
          "metadata": {},
          "execution_count": 20
        }
      ]
    },
    {
      "cell_type": "code",
      "source": [
        "app_test_clean_lines = filtration_line(app_test, 0.7)"
      ],
      "metadata": {
        "colab": {
          "base_uri": "https://localhost:8080/"
        },
        "id": "PfuqK2HSQIn5",
        "outputId": "501c4ce7-10a3-4b61-b664-1891b5bd67de"
      },
      "execution_count": 21,
      "outputs": [
        {
          "output_type": "stream",
          "name": "stdout",
          "text": [
            "Number of lines with a fill rate higher than 70.00% : 25070 lines.\n",
            "Number of lines deleted : 23674 lines\n",
            "(25070, 117)\n"
          ]
        }
      ]
    },
    {
      "cell_type": "code",
      "source": [
        "app_test_clean_lines.shape"
      ],
      "metadata": {
        "colab": {
          "base_uri": "https://localhost:8080/"
        },
        "id": "ekGuFu89RmqK",
        "outputId": "9e5c00ba-b6b4-49f7-9776-3681ce1483d9"
      },
      "execution_count": 22,
      "outputs": [
        {
          "output_type": "execute_result",
          "data": {
            "text/plain": [
              "(25070, 116)"
            ]
          },
          "metadata": {},
          "execution_count": 22
        }
      ]
    },
    {
      "cell_type": "code",
      "source": [
        ""
      ],
      "metadata": {
        "id": "cAY_x-eiRmv2"
      },
      "execution_count": null,
      "outputs": []
    },
    {
      "cell_type": "markdown",
      "source": [
        "### Suppression des colonnes qui ont un taux de remplissage inférieur à une limite"
      ],
      "metadata": {
        "id": "uMvLzjO0RuDz"
      }
    },
    {
      "cell_type": "code",
      "source": [
        "find_rate = app_train_clean_lines.copy()\n",
        "find_rate = find_rate.replace(to_replace = '^nan$', value = np.nan, regex=True)\n",
        "nb_colonne = find_rate.shape[1]\n",
        "\n",
        "filling_rate = []\n",
        "remove_col = []\n",
        "\n",
        "for i in range(0, 11, 1):\n",
        "    taux_remplissage = i/10.0\n",
        "    \n",
        "    filling_rate.append(taux_remplissage*100)\n",
        "\n",
        "    df = find_rate[find_rate.columns[1-find_rate.isnull().mean() > taux_remplissage]]\n",
        "    \n",
        "    #number of columns at the end\n",
        "    nb_colonne_supp = nb_colonne - df.shape[1]\n",
        "    \n",
        "    remove_col.append(nb_colonne_supp)\n",
        "  \n",
        "    \n",
        "find_rate = pd.DataFrame(\n",
        "    {'filling_rate': filling_rate,\n",
        "     'remove_columns': remove_col\n",
        "    })\n",
        "find_rate "
      ],
      "metadata": {
        "colab": {
          "base_uri": "https://localhost:8080/",
          "height": 394
        },
        "id": "-Tttgtq4Pu7z",
        "outputId": "f6d3e1fb-8c00-4e01-e078-4637ef9cd83d"
      },
      "execution_count": 46,
      "outputs": [
        {
          "output_type": "execute_result",
          "data": {
            "text/html": [
              "\n",
              "  <div id=\"df-14296f6e-6f00-4ac4-9b90-6e6f81cad89b\">\n",
              "    <div class=\"colab-df-container\">\n",
              "      <div>\n",
              "<style scoped>\n",
              "    .dataframe tbody tr th:only-of-type {\n",
              "        vertical-align: middle;\n",
              "    }\n",
              "\n",
              "    .dataframe tbody tr th {\n",
              "        vertical-align: top;\n",
              "    }\n",
              "\n",
              "    .dataframe thead th {\n",
              "        text-align: right;\n",
              "    }\n",
              "</style>\n",
              "<table border=\"1\" class=\"dataframe\">\n",
              "  <thead>\n",
              "    <tr style=\"text-align: right;\">\n",
              "      <th></th>\n",
              "      <th>filling_rate</th>\n",
              "      <th>remove_columns</th>\n",
              "    </tr>\n",
              "  </thead>\n",
              "  <tbody>\n",
              "    <tr>\n",
              "      <th>0</th>\n",
              "      <td>0.0</td>\n",
              "      <td>0</td>\n",
              "    </tr>\n",
              "    <tr>\n",
              "      <th>1</th>\n",
              "      <td>10.0</td>\n",
              "      <td>0</td>\n",
              "    </tr>\n",
              "    <tr>\n",
              "      <th>2</th>\n",
              "      <td>20.0</td>\n",
              "      <td>0</td>\n",
              "    </tr>\n",
              "    <tr>\n",
              "      <th>3</th>\n",
              "      <td>30.0</td>\n",
              "      <td>0</td>\n",
              "    </tr>\n",
              "    <tr>\n",
              "      <th>4</th>\n",
              "      <td>40.0</td>\n",
              "      <td>1</td>\n",
              "    </tr>\n",
              "    <tr>\n",
              "      <th>5</th>\n",
              "      <td>50.0</td>\n",
              "      <td>2</td>\n",
              "    </tr>\n",
              "    <tr>\n",
              "      <th>6</th>\n",
              "      <td>60.0</td>\n",
              "      <td>2</td>\n",
              "    </tr>\n",
              "    <tr>\n",
              "      <th>7</th>\n",
              "      <td>70.0</td>\n",
              "      <td>19</td>\n",
              "    </tr>\n",
              "    <tr>\n",
              "      <th>8</th>\n",
              "      <td>80.0</td>\n",
              "      <td>19</td>\n",
              "    </tr>\n",
              "    <tr>\n",
              "      <th>9</th>\n",
              "      <td>90.0</td>\n",
              "      <td>36</td>\n",
              "    </tr>\n",
              "    <tr>\n",
              "      <th>10</th>\n",
              "      <td>100.0</td>\n",
              "      <td>118</td>\n",
              "    </tr>\n",
              "  </tbody>\n",
              "</table>\n",
              "</div>\n",
              "      <button class=\"colab-df-convert\" onclick=\"convertToInteractive('df-14296f6e-6f00-4ac4-9b90-6e6f81cad89b')\"\n",
              "              title=\"Convert this dataframe to an interactive table.\"\n",
              "              style=\"display:none;\">\n",
              "        \n",
              "  <svg xmlns=\"http://www.w3.org/2000/svg\" height=\"24px\"viewBox=\"0 0 24 24\"\n",
              "       width=\"24px\">\n",
              "    <path d=\"M0 0h24v24H0V0z\" fill=\"none\"/>\n",
              "    <path d=\"M18.56 5.44l.94 2.06.94-2.06 2.06-.94-2.06-.94-.94-2.06-.94 2.06-2.06.94zm-11 1L8.5 8.5l.94-2.06 2.06-.94-2.06-.94L8.5 2.5l-.94 2.06-2.06.94zm10 10l.94 2.06.94-2.06 2.06-.94-2.06-.94-.94-2.06-.94 2.06-2.06.94z\"/><path d=\"M17.41 7.96l-1.37-1.37c-.4-.4-.92-.59-1.43-.59-.52 0-1.04.2-1.43.59L10.3 9.45l-7.72 7.72c-.78.78-.78 2.05 0 2.83L4 21.41c.39.39.9.59 1.41.59.51 0 1.02-.2 1.41-.59l7.78-7.78 2.81-2.81c.8-.78.8-2.07 0-2.86zM5.41 20L4 18.59l7.72-7.72 1.47 1.35L5.41 20z\"/>\n",
              "  </svg>\n",
              "      </button>\n",
              "      \n",
              "  <style>\n",
              "    .colab-df-container {\n",
              "      display:flex;\n",
              "      flex-wrap:wrap;\n",
              "      gap: 12px;\n",
              "    }\n",
              "\n",
              "    .colab-df-convert {\n",
              "      background-color: #E8F0FE;\n",
              "      border: none;\n",
              "      border-radius: 50%;\n",
              "      cursor: pointer;\n",
              "      display: none;\n",
              "      fill: #1967D2;\n",
              "      height: 32px;\n",
              "      padding: 0 0 0 0;\n",
              "      width: 32px;\n",
              "    }\n",
              "\n",
              "    .colab-df-convert:hover {\n",
              "      background-color: #E2EBFA;\n",
              "      box-shadow: 0px 1px 2px rgba(60, 64, 67, 0.3), 0px 1px 3px 1px rgba(60, 64, 67, 0.15);\n",
              "      fill: #174EA6;\n",
              "    }\n",
              "\n",
              "    [theme=dark] .colab-df-convert {\n",
              "      background-color: #3B4455;\n",
              "      fill: #D2E3FC;\n",
              "    }\n",
              "\n",
              "    [theme=dark] .colab-df-convert:hover {\n",
              "      background-color: #434B5C;\n",
              "      box-shadow: 0px 1px 3px 1px rgba(0, 0, 0, 0.15);\n",
              "      filter: drop-shadow(0px 1px 2px rgba(0, 0, 0, 0.3));\n",
              "      fill: #FFFFFF;\n",
              "    }\n",
              "  </style>\n",
              "\n",
              "      <script>\n",
              "        const buttonEl =\n",
              "          document.querySelector('#df-14296f6e-6f00-4ac4-9b90-6e6f81cad89b button.colab-df-convert');\n",
              "        buttonEl.style.display =\n",
              "          google.colab.kernel.accessAllowed ? 'block' : 'none';\n",
              "\n",
              "        async function convertToInteractive(key) {\n",
              "          const element = document.querySelector('#df-14296f6e-6f00-4ac4-9b90-6e6f81cad89b');\n",
              "          const dataTable =\n",
              "            await google.colab.kernel.invokeFunction('convertToInteractive',\n",
              "                                                     [key], {});\n",
              "          if (!dataTable) return;\n",
              "\n",
              "          const docLinkHtml = 'Like what you see? Visit the ' +\n",
              "            '<a target=\"_blank\" href=https://colab.research.google.com/notebooks/data_table.ipynb>data table notebook</a>'\n",
              "            + ' to learn more about interactive tables.';\n",
              "          element.innerHTML = '';\n",
              "          dataTable['output_type'] = 'display_data';\n",
              "          await google.colab.output.renderOutput(dataTable, element);\n",
              "          const docLink = document.createElement('div');\n",
              "          docLink.innerHTML = docLinkHtml;\n",
              "          element.appendChild(docLink);\n",
              "        }\n",
              "      </script>\n",
              "    </div>\n",
              "  </div>\n",
              "  "
            ],
            "text/plain": [
              "    filling_rate  remove_columns\n",
              "0            0.0               0\n",
              "1           10.0               0\n",
              "2           20.0               0\n",
              "3           30.0               0\n",
              "4           40.0               1\n",
              "5           50.0               2\n",
              "6           60.0               2\n",
              "7           70.0              19\n",
              "8           80.0              19\n",
              "9           90.0              36\n",
              "10         100.0             118"
            ]
          },
          "metadata": {},
          "execution_count": 46
        }
      ]
    },
    {
      "cell_type": "code",
      "source": [
        "sns.lineplot(data=find_rate, x=\"filling_rate\", y=\"remove_columns\")"
      ],
      "metadata": {
        "colab": {
          "base_uri": "https://localhost:8080/",
          "height": 298
        },
        "id": "LB1HMQY0TLRN",
        "outputId": "68036461-6991-46d5-aa97-1daae8ee93dd"
      },
      "execution_count": 27,
      "outputs": [
        {
          "output_type": "execute_result",
          "data": {
            "text/plain": [
              "<matplotlib.axes._subplots.AxesSubplot at 0x7f52216622d0>"
            ]
          },
          "metadata": {},
          "execution_count": 27
        },
        {
          "output_type": "display_data",
          "data": {
            "image/png": "[encoded data removed]",
            "text/plain": [
              "<Figure size 432x288 with 1 Axes>"
            ]
          },
          "metadata": {
            "needs_background": "light"
          }
        }
      ]
    },
    {
      "cell_type": "code",
      "source": [
        "def filtration_columns(dataframe, taux_remplissage):\n",
        "    dataframe = dataframe.replace(to_replace = '^nan$', value = np.nan, regex=True)\n",
        "    #number of columns at origin\n",
        "    nb_colonne = dataframe.shape[1]\n",
        "    \n",
        "    df = dataframe[dataframe.columns[1-dataframe.isnull().mean() > taux_remplissage]]\n",
        "\n",
        "    #number of columns at the end\n",
        "    nb_colonne_supp = nb_colonne - df.shape[1]\n",
        "\n",
        "    print(\"Nombre de colonnes avec un taux de remplissage supérieur à {:.2%} : {} colonnes.\".format(taux_remplissage, df.shape[1]))\n",
        "    print(\"Nombre de colonnes supprimées : {} colonnes\".format(nb_colonne_supp))\n",
        "\n",
        "    return df"
      ],
      "metadata": {
        "id": "URZc67HxS284"
      },
      "execution_count": 47,
      "outputs": []
    },
    {
      "cell_type": "code",
      "source": [
        "app_train_reduced = filtration_columns(app_train_clean_lines, 0.8)"
      ],
      "metadata": {
        "colab": {
          "base_uri": "https://localhost:8080/"
        },
        "id": "EwJYQN-SS3BJ",
        "outputId": "cb5dff59-2740-4b7d-ea52-bb3df977f48f"
      },
      "execution_count": 48,
      "outputs": [
        {
          "output_type": "stream",
          "name": "stdout",
          "text": [
            "Nombre de colonnes avec un taux de remplissage supérieur à 80.00% : 99 colonnes.\n",
            "Nombre de colonnes supprimées : 19 colonnes\n"
          ]
        }
      ]
    },
    {
      "cell_type": "code",
      "source": [
        "app_train_reduced.head()"
      ],
      "metadata": {
        "colab": {
          "base_uri": "https://localhost:8080/",
          "height": 369
        },
        "id": "q3GRrsSITiNf",
        "outputId": "b6b9da4e-12f9-4189-f0fa-e266ede72453"
      },
      "execution_count": 84,
      "outputs": [
        {
          "output_type": "execute_result",
          "data": {
            "text/html": [
              "\n",
              "  <div id=\"df-2b18e39a-3364-4815-9514-c2d79fa790d2\">\n",
              "    <div class=\"colab-df-container\">\n",
              "      <div>\n",
              "<style scoped>\n",
              "    .dataframe tbody tr th:only-of-type {\n",
              "        vertical-align: middle;\n",
              "    }\n",
              "\n",
              "    .dataframe tbody tr th {\n",
              "        vertical-align: top;\n",
              "    }\n",
              "\n",
              "    .dataframe thead th {\n",
              "        text-align: right;\n",
              "    }\n",
              "</style>\n",
              "<table border=\"1\" class=\"dataframe\">\n",
              "  <thead>\n",
              "    <tr style=\"text-align: right;\">\n",
              "      <th></th>\n",
              "      <th>SK_ID_CURR</th>\n",
              "      <th>TARGET</th>\n",
              "      <th>NAME_CONTRACT_TYPE</th>\n",
              "      <th>CODE_GENDER</th>\n",
              "      <th>FLAG_OWN_CAR</th>\n",
              "      <th>FLAG_OWN_REALTY</th>\n",
              "      <th>CNT_CHILDREN</th>\n",
              "      <th>AMT_INCOME_TOTAL</th>\n",
              "      <th>AMT_CREDIT</th>\n",
              "      <th>AMT_ANNUITY</th>\n",
              "      <th>AMT_GOODS_PRICE</th>\n",
              "      <th>NAME_TYPE_SUITE</th>\n",
              "      <th>NAME_INCOME_TYPE</th>\n",
              "      <th>NAME_EDUCATION_TYPE</th>\n",
              "      <th>NAME_FAMILY_STATUS</th>\n",
              "      <th>NAME_HOUSING_TYPE</th>\n",
              "      <th>REGION_POPULATION_RELATIVE</th>\n",
              "      <th>DAYS_BIRTH</th>\n",
              "      <th>DAYS_EMPLOYED</th>\n",
              "      <th>DAYS_REGISTRATION</th>\n",
              "      <th>DAYS_ID_PUBLISH</th>\n",
              "      <th>FLAG_MOBIL</th>\n",
              "      <th>FLAG_EMP_PHONE</th>\n",
              "      <th>FLAG_WORK_PHONE</th>\n",
              "      <th>FLAG_CONT_MOBILE</th>\n",
              "      <th>FLAG_PHONE</th>\n",
              "      <th>FLAG_EMAIL</th>\n",
              "      <th>CNT_FAM_MEMBERS</th>\n",
              "      <th>REGION_RATING_CLIENT</th>\n",
              "      <th>REGION_RATING_CLIENT_W_CITY</th>\n",
              "      <th>WEEKDAY_APPR_PROCESS_START</th>\n",
              "      <th>HOUR_APPR_PROCESS_START</th>\n",
              "      <th>REG_REGION_NOT_LIVE_REGION</th>\n",
              "      <th>REG_REGION_NOT_WORK_REGION</th>\n",
              "      <th>LIVE_REGION_NOT_WORK_REGION</th>\n",
              "      <th>REG_CITY_NOT_LIVE_CITY</th>\n",
              "      <th>REG_CITY_NOT_WORK_CITY</th>\n",
              "      <th>LIVE_CITY_NOT_WORK_CITY</th>\n",
              "      <th>ORGANIZATION_TYPE</th>\n",
              "      <th>EXT_SOURCE_2</th>\n",
              "      <th>...</th>\n",
              "      <th>FLOORSMAX_MEDI</th>\n",
              "      <th>LANDAREA_MEDI</th>\n",
              "      <th>LIVINGAREA_MEDI</th>\n",
              "      <th>NONLIVINGAREA_MEDI</th>\n",
              "      <th>HOUSETYPE_MODE</th>\n",
              "      <th>TOTALAREA_MODE</th>\n",
              "      <th>WALLSMATERIAL_MODE</th>\n",
              "      <th>EMERGENCYSTATE_MODE</th>\n",
              "      <th>OBS_30_CNT_SOCIAL_CIRCLE</th>\n",
              "      <th>DEF_30_CNT_SOCIAL_CIRCLE</th>\n",
              "      <th>OBS_60_CNT_SOCIAL_CIRCLE</th>\n",
              "      <th>DEF_60_CNT_SOCIAL_CIRCLE</th>\n",
              "      <th>DAYS_LAST_PHONE_CHANGE</th>\n",
              "      <th>FLAG_DOCUMENT_2</th>\n",
              "      <th>FLAG_DOCUMENT_3</th>\n",
              "      <th>FLAG_DOCUMENT_4</th>\n",
              "      <th>FLAG_DOCUMENT_5</th>\n",
              "      <th>FLAG_DOCUMENT_6</th>\n",
              "      <th>FLAG_DOCUMENT_7</th>\n",
              "      <th>FLAG_DOCUMENT_8</th>\n",
              "      <th>FLAG_DOCUMENT_9</th>\n",
              "      <th>FLAG_DOCUMENT_10</th>\n",
              "      <th>FLAG_DOCUMENT_11</th>\n",
              "      <th>FLAG_DOCUMENT_12</th>\n",
              "      <th>FLAG_DOCUMENT_13</th>\n",
              "      <th>FLAG_DOCUMENT_14</th>\n",
              "      <th>FLAG_DOCUMENT_15</th>\n",
              "      <th>FLAG_DOCUMENT_16</th>\n",
              "      <th>FLAG_DOCUMENT_17</th>\n",
              "      <th>FLAG_DOCUMENT_18</th>\n",
              "      <th>FLAG_DOCUMENT_19</th>\n",
              "      <th>FLAG_DOCUMENT_20</th>\n",
              "      <th>FLAG_DOCUMENT_21</th>\n",
              "      <th>AMT_REQ_CREDIT_BUREAU_HOUR</th>\n",
              "      <th>AMT_REQ_CREDIT_BUREAU_DAY</th>\n",
              "      <th>AMT_REQ_CREDIT_BUREAU_WEEK</th>\n",
              "      <th>AMT_REQ_CREDIT_BUREAU_MON</th>\n",
              "      <th>AMT_REQ_CREDIT_BUREAU_QRT</th>\n",
              "      <th>AMT_REQ_CREDIT_BUREAU_YEAR</th>\n",
              "      <th>AGE</th>\n",
              "    </tr>\n",
              "  </thead>\n",
              "  <tbody>\n",
              "    <tr>\n",
              "      <th>0</th>\n",
              "      <td>100002</td>\n",
              "      <td>1</td>\n",
              "      <td>Cash loans</td>\n",
              "      <td>M</td>\n",
              "      <td>N</td>\n",
              "      <td>Y</td>\n",
              "      <td>0</td>\n",
              "      <td>202500.0</td>\n",
              "      <td>406597.5</td>\n",
              "      <td>24700.5</td>\n",
              "      <td>351000.0</td>\n",
              "      <td>Unaccompanied</td>\n",
              "      <td>Working</td>\n",
              "      <td>Secondary / secondary special</td>\n",
              "      <td>Single / not married</td>\n",
              "      <td>House / apartment</td>\n",
              "      <td>0.018801</td>\n",
              "      <td>-9461</td>\n",
              "      <td>-637</td>\n",
              "      <td>-3648.0</td>\n",
              "      <td>-2120</td>\n",
              "      <td>1</td>\n",
              "      <td>1</td>\n",
              "      <td>0</td>\n",
              "      <td>1</td>\n",
              "      <td>1</td>\n",
              "      <td>0</td>\n",
              "      <td>1.0</td>\n",
              "      <td>2</td>\n",
              "      <td>2</td>\n",
              "      <td>WEDNESDAY</td>\n",
              "      <td>10</td>\n",
              "      <td>0</td>\n",
              "      <td>0</td>\n",
              "      <td>0</td>\n",
              "      <td>0</td>\n",
              "      <td>0</td>\n",
              "      <td>0</td>\n",
              "      <td>Business Entity Type 3</td>\n",
              "      <td>0.262949</td>\n",
              "      <td>...</td>\n",
              "      <td>0.0833</td>\n",
              "      <td>0.0375</td>\n",
              "      <td>0.0193</td>\n",
              "      <td>0.0000</td>\n",
              "      <td>block of flats</td>\n",
              "      <td>0.0149</td>\n",
              "      <td>Stone, brick</td>\n",
              "      <td>No</td>\n",
              "      <td>2.0</td>\n",
              "      <td>2.0</td>\n",
              "      <td>2.0</td>\n",
              "      <td>2.0</td>\n",
              "      <td>-1134.0</td>\n",
              "      <td>0</td>\n",
              "      <td>1</td>\n",
              "      <td>0</td>\n",
              "      <td>0</td>\n",
              "      <td>0</td>\n",
              "      <td>0</td>\n",
              "      <td>0</td>\n",
              "      <td>0</td>\n",
              "      <td>0</td>\n",
              "      <td>0</td>\n",
              "      <td>0</td>\n",
              "      <td>0</td>\n",
              "      <td>0</td>\n",
              "      <td>0</td>\n",
              "      <td>0</td>\n",
              "      <td>0</td>\n",
              "      <td>0</td>\n",
              "      <td>0</td>\n",
              "      <td>0</td>\n",
              "      <td>0</td>\n",
              "      <td>0.0</td>\n",
              "      <td>0.0</td>\n",
              "      <td>0.0</td>\n",
              "      <td>0.0</td>\n",
              "      <td>0.0</td>\n",
              "      <td>1.0</td>\n",
              "      <td>26</td>\n",
              "    </tr>\n",
              "    <tr>\n",
              "      <th>1</th>\n",
              "      <td>100003</td>\n",
              "      <td>0</td>\n",
              "      <td>Cash loans</td>\n",
              "      <td>F</td>\n",
              "      <td>N</td>\n",
              "      <td>N</td>\n",
              "      <td>0</td>\n",
              "      <td>270000.0</td>\n",
              "      <td>1293502.5</td>\n",
              "      <td>35698.5</td>\n",
              "      <td>1129500.0</td>\n",
              "      <td>Family</td>\n",
              "      <td>State servant</td>\n",
              "      <td>Higher education</td>\n",
              "      <td>Married</td>\n",
              "      <td>House / apartment</td>\n",
              "      <td>0.003541</td>\n",
              "      <td>-16765</td>\n",
              "      <td>-1188</td>\n",
              "      <td>-1186.0</td>\n",
              "      <td>-291</td>\n",
              "      <td>1</td>\n",
              "      <td>1</td>\n",
              "      <td>0</td>\n",
              "      <td>1</td>\n",
              "      <td>1</td>\n",
              "      <td>0</td>\n",
              "      <td>2.0</td>\n",
              "      <td>1</td>\n",
              "      <td>1</td>\n",
              "      <td>MONDAY</td>\n",
              "      <td>11</td>\n",
              "      <td>0</td>\n",
              "      <td>0</td>\n",
              "      <td>0</td>\n",
              "      <td>0</td>\n",
              "      <td>0</td>\n",
              "      <td>0</td>\n",
              "      <td>School</td>\n",
              "      <td>0.622246</td>\n",
              "      <td>...</td>\n",
              "      <td>0.2917</td>\n",
              "      <td>0.0132</td>\n",
              "      <td>0.0558</td>\n",
              "      <td>0.0100</td>\n",
              "      <td>block of flats</td>\n",
              "      <td>0.0714</td>\n",
              "      <td>Block</td>\n",
              "      <td>No</td>\n",
              "      <td>1.0</td>\n",
              "      <td>0.0</td>\n",
              "      <td>1.0</td>\n",
              "      <td>0.0</td>\n",
              "      <td>-828.0</td>\n",
              "      <td>0</td>\n",
              "      <td>1</td>\n",
              "      <td>0</td>\n",
              "      <td>0</td>\n",
              "      <td>0</td>\n",
              "      <td>0</td>\n",
              "      <td>0</td>\n",
              "      <td>0</td>\n",
              "      <td>0</td>\n",
              "      <td>0</td>\n",
              "      <td>0</td>\n",
              "      <td>0</td>\n",
              "      <td>0</td>\n",
              "      <td>0</td>\n",
              "      <td>0</td>\n",
              "      <td>0</td>\n",
              "      <td>0</td>\n",
              "      <td>0</td>\n",
              "      <td>0</td>\n",
              "      <td>0</td>\n",
              "      <td>0.0</td>\n",
              "      <td>0.0</td>\n",
              "      <td>0.0</td>\n",
              "      <td>0.0</td>\n",
              "      <td>0.0</td>\n",
              "      <td>0.0</td>\n",
              "      <td>46</td>\n",
              "    </tr>\n",
              "    <tr>\n",
              "      <th>12</th>\n",
              "      <td>100016</td>\n",
              "      <td>0</td>\n",
              "      <td>Cash loans</td>\n",
              "      <td>F</td>\n",
              "      <td>N</td>\n",
              "      <td>Y</td>\n",
              "      <td>0</td>\n",
              "      <td>67500.0</td>\n",
              "      <td>80865.0</td>\n",
              "      <td>5881.5</td>\n",
              "      <td>67500.0</td>\n",
              "      <td>Unaccompanied</td>\n",
              "      <td>Working</td>\n",
              "      <td>Secondary / secondary special</td>\n",
              "      <td>Married</td>\n",
              "      <td>House / apartment</td>\n",
              "      <td>0.031329</td>\n",
              "      <td>-13439</td>\n",
              "      <td>-2717</td>\n",
              "      <td>-311.0</td>\n",
              "      <td>-3227</td>\n",
              "      <td>1</td>\n",
              "      <td>1</td>\n",
              "      <td>1</td>\n",
              "      <td>1</td>\n",
              "      <td>1</td>\n",
              "      <td>0</td>\n",
              "      <td>2.0</td>\n",
              "      <td>2</td>\n",
              "      <td>2</td>\n",
              "      <td>FRIDAY</td>\n",
              "      <td>10</td>\n",
              "      <td>0</td>\n",
              "      <td>0</td>\n",
              "      <td>0</td>\n",
              "      <td>0</td>\n",
              "      <td>0</td>\n",
              "      <td>0</td>\n",
              "      <td>Business Entity Type 2</td>\n",
              "      <td>0.715042</td>\n",
              "      <td>...</td>\n",
              "      <td>0.1667</td>\n",
              "      <td>0.0137</td>\n",
              "      <td>0.0792</td>\n",
              "      <td>0.0000</td>\n",
              "      <td>block of flats</td>\n",
              "      <td>0.0612</td>\n",
              "      <td>NaN</td>\n",
              "      <td>No</td>\n",
              "      <td>0.0</td>\n",
              "      <td>0.0</td>\n",
              "      <td>0.0</td>\n",
              "      <td>0.0</td>\n",
              "      <td>-2370.0</td>\n",
              "      <td>0</td>\n",
              "      <td>1</td>\n",
              "      <td>0</td>\n",
              "      <td>0</td>\n",
              "      <td>0</td>\n",
              "      <td>0</td>\n",
              "      <td>0</td>\n",
              "      <td>0</td>\n",
              "      <td>0</td>\n",
              "      <td>0</td>\n",
              "      <td>0</td>\n",
              "      <td>0</td>\n",
              "      <td>0</td>\n",
              "      <td>0</td>\n",
              "      <td>0</td>\n",
              "      <td>0</td>\n",
              "      <td>0</td>\n",
              "      <td>0</td>\n",
              "      <td>0</td>\n",
              "      <td>0</td>\n",
              "      <td>0.0</td>\n",
              "      <td>0.0</td>\n",
              "      <td>0.0</td>\n",
              "      <td>1.0</td>\n",
              "      <td>0.0</td>\n",
              "      <td>0.0</td>\n",
              "      <td>37</td>\n",
              "    </tr>\n",
              "    <tr>\n",
              "      <th>13</th>\n",
              "      <td>100017</td>\n",
              "      <td>0</td>\n",
              "      <td>Cash loans</td>\n",
              "      <td>M</td>\n",
              "      <td>Y</td>\n",
              "      <td>N</td>\n",
              "      <td>1</td>\n",
              "      <td>225000.0</td>\n",
              "      <td>918468.0</td>\n",
              "      <td>28966.5</td>\n",
              "      <td>697500.0</td>\n",
              "      <td>Unaccompanied</td>\n",
              "      <td>Working</td>\n",
              "      <td>Secondary / secondary special</td>\n",
              "      <td>Married</td>\n",
              "      <td>House / apartment</td>\n",
              "      <td>0.016612</td>\n",
              "      <td>-14086</td>\n",
              "      <td>-3028</td>\n",
              "      <td>-643.0</td>\n",
              "      <td>-4911</td>\n",
              "      <td>1</td>\n",
              "      <td>1</td>\n",
              "      <td>0</td>\n",
              "      <td>1</td>\n",
              "      <td>0</td>\n",
              "      <td>0</td>\n",
              "      <td>3.0</td>\n",
              "      <td>2</td>\n",
              "      <td>2</td>\n",
              "      <td>THURSDAY</td>\n",
              "      <td>13</td>\n",
              "      <td>0</td>\n",
              "      <td>0</td>\n",
              "      <td>0</td>\n",
              "      <td>0</td>\n",
              "      <td>0</td>\n",
              "      <td>0</td>\n",
              "      <td>Self-employed</td>\n",
              "      <td>0.566907</td>\n",
              "      <td>...</td>\n",
              "      <td>0.3333</td>\n",
              "      <td>0.0947</td>\n",
              "      <td>0.1422</td>\n",
              "      <td>0.0000</td>\n",
              "      <td>block of flats</td>\n",
              "      <td>0.1417</td>\n",
              "      <td>Panel</td>\n",
              "      <td>No</td>\n",
              "      <td>0.0</td>\n",
              "      <td>0.0</td>\n",
              "      <td>0.0</td>\n",
              "      <td>0.0</td>\n",
              "      <td>-4.0</td>\n",
              "      <td>0</td>\n",
              "      <td>1</td>\n",
              "      <td>0</td>\n",
              "      <td>0</td>\n",
              "      <td>0</td>\n",
              "      <td>0</td>\n",
              "      <td>0</td>\n",
              "      <td>0</td>\n",
              "      <td>0</td>\n",
              "      <td>0</td>\n",
              "      <td>0</td>\n",
              "      <td>0</td>\n",
              "      <td>0</td>\n",
              "      <td>0</td>\n",
              "      <td>0</td>\n",
              "      <td>0</td>\n",
              "      <td>0</td>\n",
              "      <td>0</td>\n",
              "      <td>0</td>\n",
              "      <td>0</td>\n",
              "      <td>0.0</td>\n",
              "      <td>0.0</td>\n",
              "      <td>0.0</td>\n",
              "      <td>0.0</td>\n",
              "      <td>0.0</td>\n",
              "      <td>1.0</td>\n",
              "      <td>39</td>\n",
              "    </tr>\n",
              "    <tr>\n",
              "      <th>14</th>\n",
              "      <td>100018</td>\n",
              "      <td>0</td>\n",
              "      <td>Cash loans</td>\n",
              "      <td>F</td>\n",
              "      <td>N</td>\n",
              "      <td>Y</td>\n",
              "      <td>0</td>\n",
              "      <td>189000.0</td>\n",
              "      <td>773680.5</td>\n",
              "      <td>32778.0</td>\n",
              "      <td>679500.0</td>\n",
              "      <td>Unaccompanied</td>\n",
              "      <td>Working</td>\n",
              "      <td>Secondary / secondary special</td>\n",
              "      <td>Married</td>\n",
              "      <td>House / apartment</td>\n",
              "      <td>0.010006</td>\n",
              "      <td>-14583</td>\n",
              "      <td>-203</td>\n",
              "      <td>-615.0</td>\n",
              "      <td>-2056</td>\n",
              "      <td>1</td>\n",
              "      <td>1</td>\n",
              "      <td>0</td>\n",
              "      <td>1</td>\n",
              "      <td>0</td>\n",
              "      <td>0</td>\n",
              "      <td>2.0</td>\n",
              "      <td>2</td>\n",
              "      <td>1</td>\n",
              "      <td>MONDAY</td>\n",
              "      <td>9</td>\n",
              "      <td>0</td>\n",
              "      <td>0</td>\n",
              "      <td>0</td>\n",
              "      <td>0</td>\n",
              "      <td>0</td>\n",
              "      <td>0</td>\n",
              "      <td>Transport: type 2</td>\n",
              "      <td>0.642656</td>\n",
              "      <td>...</td>\n",
              "      <td>0.6667</td>\n",
              "      <td>0.1789</td>\n",
              "      <td>0.3842</td>\n",
              "      <td>0.1022</td>\n",
              "      <td>block of flats</td>\n",
              "      <td>0.3811</td>\n",
              "      <td>Panel</td>\n",
              "      <td>No</td>\n",
              "      <td>0.0</td>\n",
              "      <td>0.0</td>\n",
              "      <td>0.0</td>\n",
              "      <td>0.0</td>\n",
              "      <td>-188.0</td>\n",
              "      <td>0</td>\n",
              "      <td>1</td>\n",
              "      <td>0</td>\n",
              "      <td>0</td>\n",
              "      <td>0</td>\n",
              "      <td>0</td>\n",
              "      <td>0</td>\n",
              "      <td>0</td>\n",
              "      <td>0</td>\n",
              "      <td>0</td>\n",
              "      <td>0</td>\n",
              "      <td>0</td>\n",
              "      <td>0</td>\n",
              "      <td>0</td>\n",
              "      <td>0</td>\n",
              "      <td>0</td>\n",
              "      <td>0</td>\n",
              "      <td>0</td>\n",
              "      <td>0</td>\n",
              "      <td>0</td>\n",
              "      <td>NaN</td>\n",
              "      <td>NaN</td>\n",
              "      <td>NaN</td>\n",
              "      <td>NaN</td>\n",
              "      <td>NaN</td>\n",
              "      <td>NaN</td>\n",
              "      <td>40</td>\n",
              "    </tr>\n",
              "  </tbody>\n",
              "</table>\n",
              "<p>5 rows × 104 columns</p>\n",
              "</div>\n",
              "      <button class=\"colab-df-convert\" onclick=\"convertToInteractive('df-2b18e39a-3364-4815-9514-c2d79fa790d2')\"\n",
              "              title=\"Convert this dataframe to an interactive table.\"\n",
              "              style=\"display:none;\">\n",
              "        \n",
              "  <svg xmlns=\"http://www.w3.org/2000/svg\" height=\"24px\"viewBox=\"0 0 24 24\"\n",
              "       width=\"24px\">\n",
              "    <path d=\"M0 0h24v24H0V0z\" fill=\"none\"/>\n",
              "    <path d=\"M18.56 5.44l.94 2.06.94-2.06 2.06-.94-2.06-.94-.94-2.06-.94 2.06-2.06.94zm-11 1L8.5 8.5l.94-2.06 2.06-.94-2.06-.94L8.5 2.5l-.94 2.06-2.06.94zm10 10l.94 2.06.94-2.06 2.06-.94-2.06-.94-.94-2.06-.94 2.06-2.06.94z\"/><path d=\"M17.41 7.96l-1.37-1.37c-.4-.4-.92-.59-1.43-.59-.52 0-1.04.2-1.43.59L10.3 9.45l-7.72 7.72c-.78.78-.78 2.05 0 2.83L4 21.41c.39.39.9.59 1.41.59.51 0 1.02-.2 1.41-.59l7.78-7.78 2.81-2.81c.8-.78.8-2.07 0-2.86zM5.41 20L4 18.59l7.72-7.72 1.47 1.35L5.41 20z\"/>\n",
              "  </svg>\n",
              "      </button>\n",
              "      \n",
              "  <style>\n",
              "    .colab-df-container {\n",
              "      display:flex;\n",
              "      flex-wrap:wrap;\n",
              "      gap: 12px;\n",
              "    }\n",
              "\n",
              "    .colab-df-convert {\n",
              "      background-color: #E8F0FE;\n",
              "      border: none;\n",
              "      border-radius: 50%;\n",
              "      cursor: pointer;\n",
              "      display: none;\n",
              "      fill: #1967D2;\n",
              "      height: 32px;\n",
              "      padding: 0 0 0 0;\n",
              "      width: 32px;\n",
              "    }\n",
              "\n",
              "    .colab-df-convert:hover {\n",
              "      background-color: #E2EBFA;\n",
              "      box-shadow: 0px 1px 2px rgba(60, 64, 67, 0.3), 0px 1px 3px 1px rgba(60, 64, 67, 0.15);\n",
              "      fill: #174EA6;\n",
              "    }\n",
              "\n",
              "    [theme=dark] .colab-df-convert {\n",
              "      background-color: #3B4455;\n",
              "      fill: #D2E3FC;\n",
              "    }\n",
              "\n",
              "    [theme=dark] .colab-df-convert:hover {\n",
              "      background-color: #434B5C;\n",
              "      box-shadow: 0px 1px 3px 1px rgba(0, 0, 0, 0.15);\n",
              "      filter: drop-shadow(0px 1px 2px rgba(0, 0, 0, 0.3));\n",
              "      fill: #FFFFFF;\n",
              "    }\n",
              "  </style>\n",
              "\n",
              "      <script>\n",
              "        const buttonEl =\n",
              "          document.querySelector('#df-2b18e39a-3364-4815-9514-c2d79fa790d2 button.colab-df-convert');\n",
              "        buttonEl.style.display =\n",
              "          google.colab.kernel.accessAllowed ? 'block' : 'none';\n",
              "\n",
              "        async function convertToInteractive(key) {\n",
              "          const element = document.querySelector('#df-2b18e39a-3364-4815-9514-c2d79fa790d2');\n",
              "          const dataTable =\n",
              "            await google.colab.kernel.invokeFunction('convertToInteractive',\n",
              "                                                     [key], {});\n",
              "          if (!dataTable) return;\n",
              "\n",
              "          const docLinkHtml = 'Like what you see? Visit the ' +\n",
              "            '<a target=\"_blank\" href=https://colab.research.google.com/notebooks/data_table.ipynb>data table notebook</a>'\n",
              "            + ' to learn more about interactive tables.';\n",
              "          element.innerHTML = '';\n",
              "          dataTable['output_type'] = 'display_data';\n",
              "          await google.colab.output.renderOutput(dataTable, element);\n",
              "          const docLink = document.createElement('div');\n",
              "          docLink.innerHTML = docLinkHtml;\n",
              "          element.appendChild(docLink);\n",
              "        }\n",
              "      </script>\n",
              "    </div>\n",
              "  </div>\n",
              "  "
            ],
            "text/plain": [
              "    SK_ID_CURR  TARGET  ... AMT_REQ_CREDIT_BUREAU_YEAR AGE\n",
              "0       100002       1  ...                        1.0  26\n",
              "1       100003       0  ...                        0.0  46\n",
              "12      100016       0  ...                        0.0  37\n",
              "13      100017       0  ...                        1.0  39\n",
              "14      100018       0  ...                        NaN  40\n",
              "\n",
              "[5 rows x 104 columns]"
            ]
          },
          "metadata": {},
          "execution_count": 84
        }
      ]
    },
    {
      "cell_type": "code",
      "source": [
        "app_train_reduced.shape"
      ],
      "metadata": {
        "colab": {
          "base_uri": "https://localhost:8080/"
        },
        "id": "Ym_xtxWfUEWo",
        "outputId": "23b0718f-e584-4a89-c299-5c7d91bdf4e5"
      },
      "execution_count": 49,
      "outputs": [
        {
          "output_type": "execute_result",
          "data": {
            "text/plain": [
              "(153068, 99)"
            ]
          },
          "metadata": {},
          "execution_count": 49
        }
      ]
    },
    {
      "cell_type": "code",
      "source": [
        "if 'EXT_SOURCE_1' in app_train_reduced.columns:\n",
        "    print(\"The column EXT_SOURCE_1 is in the datatset.\")\n",
        "else :\n",
        "    app_train_reduced['EXT_SOURCE_1'] = app_train_clean_lines['EXT_SOURCE_1']\n",
        "    print(\"The column EXT_SOURCE_1 has been added to the dataset.\")\n",
        "\n",
        "if 'EXT_SOURCE_2' in app_train_reduced.columns:\n",
        "    print(\"The column EXT_SOURCE_2 is in the datatset.\")\n",
        "else :\n",
        "    app_train_reduced['EXT_SOURCE_2'] = app_train_clean_lines['EXT_SOURCE_2']\n",
        "    print(\"The column EXT_SOURCE_2 has been added to the dataset.\")\n",
        "    \n",
        "if 'EXT_SOURCE_3' in app_train_reduced.columns:\n",
        "    print(\"The column EXT_SOURCE_3 is in the datatset.\")\n",
        "else :\n",
        "    app_train_reduced['EXT_SOURCE_3'] = app_train_clean_lines['EXT_SOURCE_3']\n",
        "    print(\"The column EXT_SOURCE_3 has been added to the dataset.\")\n",
        "#----------------------------------------------------------------------------    \n",
        "\n",
        "if 'DAYS_EMPLOYED' in app_train_reduced.columns:\n",
        "    print(\"The column DAYS_EMPLOYED is in the datatset.\")\n",
        "else :\n",
        "    app_train_reduced['DAYS_EMPLOYED'] = app_train_clean_lines['DAYS_EMPLOYED']\n",
        "    print(\"The column DAYS_EMPLOYED has been added to the dataset.\")\n",
        "#----------------------------------------------------------------------------    \n",
        "    \n",
        "if 'DAYS_BIRTH' in app_train_reduced.columns:\n",
        "    print(\"The column DAYS_BIRTH is in the datatset.\")\n",
        "else :\n",
        "    app_train_reduced['DAYS_BIRTH'] = app_train_clean_lines['DAYS_BIRTH']\n",
        "    print(\"The column DAYS_BIRTH has been added to the dataset.\")\n",
        "    \n",
        "#----------------------------------------------------------------------------    \n",
        "\n",
        "if 'AGE' in app_train_reduced.columns:\n",
        "    print(\"The column AGE is in the datatset.\")\n",
        "else :\n",
        "    app_train_reduced['AGE'] = app_train_clean_lines['AGE']\n",
        "    print(\"The column AGE has been added to the dataset.\")"
      ],
      "metadata": {
        "colab": {
          "base_uri": "https://localhost:8080/"
        },
        "id": "4URv-SDKTiQi",
        "outputId": "e5600da6-187b-4f10-83d8-3b2356b30c3e"
      },
      "execution_count": 50,
      "outputs": [
        {
          "output_type": "stream",
          "name": "stdout",
          "text": [
            "The column EXT_SOURCE_1 has been added to the dataset.\n",
            "The column EXT_SOURCE_2 is in the datatset.\n",
            "The column EXT_SOURCE_3 is in the datatset.\n",
            "The column DAYS_EMPLOYED is in the datatset.\n",
            "The column DAYS_BIRTH is in the datatset.\n",
            "The column AGE is in the datatset.\n"
          ]
        }
      ]
    },
    {
      "cell_type": "code",
      "source": [
        "app_train_reduced.shape"
      ],
      "metadata": {
        "colab": {
          "base_uri": "https://localhost:8080/"
        },
        "id": "VSQlszesTiT0",
        "outputId": "9379f1b1-5286-47c8-d932-c96d4b7df4b4"
      },
      "execution_count": 52,
      "outputs": [
        {
          "output_type": "execute_result",
          "data": {
            "text/plain": [
              "(153068, 100)"
            ]
          },
          "metadata": {},
          "execution_count": 52
        }
      ]
    },
    {
      "cell_type": "code",
      "source": [
        "filter_columns = list(app_train_reduced.columns)\n"
      ],
      "metadata": {
        "id": "gcZL4bVNTiWR"
      },
      "execution_count": 56,
      "outputs": []
    },
    {
      "cell_type": "code",
      "source": [
        "\"\"\"def remove_miss_value(df):\n",
        "   column_with_nan = df.columns[df.isnull().any()]\n",
        "   for column in column_with_nan:\n",
        "     if df[column].isnull().sum()*100.0/df.shape[0] > 60:\n",
        "       df.drop(column,1, inplace=True)\n",
        "   return (df)\"\"\""
      ],
      "metadata": {
        "id": "m7Fojvy5EtVx"
      },
      "execution_count": null,
      "outputs": []
    },
    {
      "cell_type": "code",
      "source": [
        "def remove_columns(dataframe, filter_columns):\n",
        "    \"\"\"dataframe : dataframe to filter\n",
        "    filter_columns : columns to keep\"\"\"\n",
        "    new = pd.DataFrame()\n",
        "\n",
        "    for column in filter_columns:\n",
        "        try:\n",
        "            new[column] = dataframe[column]\n",
        "        except:\n",
        "            print('...colonne non présente : ', column)\n",
        "            print('\\n')\n",
        "    print(\"All selected columns have been kept from the dataset\")\n",
        "    return new"
      ],
      "metadata": {
        "id": "Q14cy6h8XnI4"
      },
      "execution_count": 57,
      "outputs": []
    },
    {
      "cell_type": "code",
      "source": [
        "app_test_reduced = remove_columns(app_test_clean_lines, filter_columns)"
      ],
      "metadata": {
        "colab": {
          "base_uri": "https://localhost:8080/"
        },
        "id": "yXZHa4cIXnLi",
        "outputId": "677c20bd-65b7-421b-a9f6-93c4b1d368fc"
      },
      "execution_count": 58,
      "outputs": [
        {
          "output_type": "stream",
          "name": "stdout",
          "text": [
            "...colonne non présente :  TARGET\n",
            "\n",
            "\n",
            "...colonne non présente :  AGE\n",
            "\n",
            "\n",
            "All selected columns have been kept from the dataset\n"
          ]
        }
      ]
    },
    {
      "cell_type": "code",
      "source": [
        "set(app_test.columns).difference(set(app_train.columns))"
      ],
      "metadata": {
        "colab": {
          "base_uri": "https://localhost:8080/"
        },
        "id": "WsC1pkiwhHV9",
        "outputId": "c1767773-e946-4eab-c99e-cad1df9169cf"
      },
      "execution_count": 59,
      "outputs": [
        {
          "output_type": "execute_result",
          "data": {
            "text/plain": [
              "set()"
            ]
          },
          "metadata": {},
          "execution_count": 59
        }
      ]
    },
    {
      "cell_type": "code",
      "source": [
        "set(app_train.columns).difference(set(app_test.columns))"
      ],
      "metadata": {
        "id": "2HyYyWsdL-d9"
      },
      "execution_count": null,
      "outputs": []
    },
    {
      "cell_type": "markdown",
      "source": [
        "### **Imputation**"
      ],
      "metadata": {
        "id": "TSB8eUnDX1no"
      }
    },
    {
      "cell_type": "markdown",
      "source": [
        "* **Train**"
      ],
      "metadata": {
        "id": "bUCdGu70da2d"
      }
    },
    {
      "cell_type": "code",
      "source": [
        "\"\"\"#Imputation with pandas \n",
        "def imputation_pandas(dataframe):\n",
        "  short_cleaned_impute = dataframe.copy()\n",
        "  for col_name in dataframe:\n",
        "    short_cleaned_impute[col_name] = dataframe[col_name].interpolate(method='linear', inplace=False, limit_direction=\"both\").ffill().bfill()\n",
        "    \n",
        "  return short_cleaned_impute\"\"\""
      ],
      "metadata": {
        "id": "aLfaF00XXnOk"
      },
      "execution_count": 60,
      "outputs": []
    },
    {
      "cell_type": "code",
      "source": [
        "def filling_num_miss_value(df):\n",
        "  column_with_nan = df.columns[df.isnull().any()]\n",
        "  for column in column_with_nan:\n",
        "    if df[column].dtypes=='O':\n",
        "      df[column]= df[column].fillna(df[column].mode()[0])\n",
        "    else:\n",
        "      df[column]= df[column].fillna(df[column].median())\n",
        "  return (df)"
      ],
      "metadata": {
        "id": "vmAOBJQTK4r7"
      },
      "execution_count": 63,
      "outputs": []
    },
    {
      "cell_type": "code",
      "source": [
        "app_train_reduced.dtypes.unique()"
      ],
      "metadata": {
        "colab": {
          "base_uri": "https://localhost:8080/"
        },
        "id": "MOmaK6PeXnRf",
        "outputId": "98032ab7-a749-4f28-fec9-3a1a6fec3395"
      },
      "execution_count": 92,
      "outputs": [
        {
          "output_type": "execute_result",
          "data": {
            "text/plain": [
              "array([dtype('int64'), dtype('O'), dtype('float64')], dtype=object)"
            ]
          },
          "metadata": {},
          "execution_count": 92
        }
      ]
    },
    {
      "cell_type": "code",
      "source": [
        "app_train_fin= filling_num_miss_value(app_train_reduced)\n",
        "app_test_fin= filling_num_miss_value(app_test_reduced)"
      ],
      "metadata": {
        "id": "AqJreRIpS1T7"
      },
      "execution_count": 64,
      "outputs": []
    },
    {
      "cell_type": "code",
      "source": [
        "app_train_fin.isnull().sum().sort_values(ascending=False)"
      ],
      "metadata": {
        "colab": {
          "base_uri": "https://localhost:8080/"
        },
        "id": "hrUVbBVbS1Zw",
        "outputId": "d30e0240-bebc-4875-aea4-7b4cbc6bdf66"
      },
      "execution_count": 66,
      "outputs": [
        {
          "output_type": "execute_result",
          "data": {
            "text/plain": [
              "SK_ID_CURR                     0\n",
              "ENTRANCES_MEDI                 0\n",
              "DEF_30_CNT_SOCIAL_CIRCLE       0\n",
              "OBS_30_CNT_SOCIAL_CIRCLE       0\n",
              "EMERGENCYSTATE_MODE            0\n",
              "                              ..\n",
              "WEEKDAY_APPR_PROCESS_START     0\n",
              "REGION_RATING_CLIENT_W_CITY    0\n",
              "REGION_RATING_CLIENT           0\n",
              "CNT_FAM_MEMBERS                0\n",
              "EXT_SOURCE_1                   0\n",
              "Length: 100, dtype: int64"
            ]
          },
          "metadata": {},
          "execution_count": 66
        }
      ]
    },
    {
      "cell_type": "code",
      "source": [
        ""
      ],
      "metadata": {
        "id": "k1AoZMZkS155"
      },
      "execution_count": null,
      "outputs": []
    },
    {
      "cell_type": "code",
      "source": [
        ""
      ],
      "metadata": {
        "id": "qcTpE5peS17Y"
      },
      "execution_count": null,
      "outputs": []
    },
    {
      "cell_type": "code",
      "source": [
        ""
      ],
      "metadata": {
        "id": "TB6rxxWfS184"
      },
      "execution_count": null,
      "outputs": []
    },
    {
      "cell_type": "markdown",
      "source": [
        "* **Test**"
      ],
      "metadata": {
        "id": "w20hr-WtdsJd"
      }
    },
    {
      "cell_type": "code",
      "source": [
        "# Df des features numériques.\n",
        "df_num_test = app_test_reduced.select_dtypes('number').reset_index(drop = True)\n",
        "\n",
        "# Df des features catégoriques.\n",
        "df_categ_test = app_test_reduced.select_dtypes('object').reset_index(drop = True)"
      ],
      "metadata": {
        "id": "KQM14AsXYbM7"
      },
      "execution_count": 100,
      "outputs": []
    },
    {
      "cell_type": "code",
      "source": [
        "df_num_imputed_test = imputation_pandas(df_num_test)"
      ],
      "metadata": {
        "id": "kewCZicLYbQx"
      },
      "execution_count": 101,
      "outputs": []
    },
    {
      "cell_type": "code",
      "source": [
        "df_categ_test = df_categ_test.apply(lambda x:x.fillna(x.value_counts().index[0]))"
      ],
      "metadata": {
        "id": "lMUkK4ZdYbT3"
      },
      "execution_count": 102,
      "outputs": []
    },
    {
      "cell_type": "code",
      "source": [
        "app_test_final = pd.concat([df_num_imputed_test, df_categ_test], axis=1)"
      ],
      "metadata": {
        "id": "RZvemsFdd2JC"
      },
      "execution_count": 103,
      "outputs": []
    },
    {
      "cell_type": "code",
      "source": [
        "app_test_final = app_test_final.reset_index()\n",
        "del app_test_final['index']"
      ],
      "metadata": {
        "id": "s3z0SoIwd2MQ"
      },
      "execution_count": 104,
      "outputs": []
    },
    {
      "cell_type": "code",
      "source": [
        ""
      ],
      "metadata": {
        "id": "0sXW_xbMd2Pk"
      },
      "execution_count": null,
      "outputs": []
    },
    {
      "cell_type": "code",
      "source": [
        "app_train_final['SK_ID_CURR']=app_train_final['SK_ID_CURR'].astype('object')\n",
        "app_train_final['TARGET']=app_train_final['TARGET'].astype('object')\n",
        "app_test_final['SK_ID_CURR']=app_test_final['SK_ID_CURR'].astype('object')"
      ],
      "metadata": {
        "id": "XFdIlto5d2RZ"
      },
      "execution_count": 105,
      "outputs": []
    },
    {
      "cell_type": "code",
      "source": [
        ""
      ],
      "metadata": {
        "id": "hYcViZG8d2UX"
      },
      "execution_count": null,
      "outputs": []
    },
    {
      "cell_type": "markdown",
      "source": [
        "### **Standardisation (Train + Test)**"
      ],
      "metadata": {
        "id": "SEvEgmpdeJ26"
      }
    },
    {
      "cell_type": "code",
      "source": [
        "df_num_train = app_train_final.select_dtypes(['number']).reset_index(drop = True)\n",
        "df_categ_train = app_train_final.select_dtypes('object').reset_index(drop = True)\n",
        "\n",
        "df_num_test = app_test_final.select_dtypes(['number']).reset_index(drop = True)\n",
        "df_categ_test = app_test_final.select_dtypes('object').reset_index(drop = True)"
      ],
      "metadata": {
        "id": "Nku4w2PZXnZm"
      },
      "execution_count": 106,
      "outputs": []
    },
    {
      "cell_type": "code",
      "source": [
        "from sklearn.preprocessing import StandardScaler\n",
        "\n",
        "scaler = StandardScaler()\n",
        "\n",
        "scaler.fit(df_num_train)\n",
        "\n",
        "\n",
        "df_num_train_train = pd.DataFrame(scaler.transform(df_num_train), index=df_num_train.index, columns=df_num_train.columns)\n",
        "df_num_test_test = pd.DataFrame(scaler.transform(df_num_test), index=df_num_test.index, columns=df_num_test.columns)"
      ],
      "metadata": {
        "id": "1Jin22kCS3HZ"
      },
      "execution_count": 107,
      "outputs": []
    },
    {
      "cell_type": "code",
      "source": [
        "df_app_train = pd.concat([df_categ_train, df_num_train_train], axis=1)\n",
        "df_app_test = pd.concat([df_categ_test, df_num_test_test], axis=1)"
      ],
      "metadata": {
        "id": "gla0I1cLekRC"
      },
      "execution_count": 108,
      "outputs": []
    },
    {
      "cell_type": "code",
      "source": [
        "df_app_train.shape"
      ],
      "metadata": {
        "colab": {
          "base_uri": "https://localhost:8080/"
        },
        "id": "PO09zRVoekUd",
        "outputId": "3bc0e125-b1e9-4fb1-d17d-ffa2e069dae8"
      },
      "execution_count": 109,
      "outputs": [
        {
          "output_type": "execute_result",
          "data": {
            "text/plain": [
              "(153794, 105)"
            ]
          },
          "metadata": {},
          "execution_count": 109
        }
      ]
    },
    {
      "cell_type": "code",
      "source": [
        "df_app_test.shape"
      ],
      "metadata": {
        "colab": {
          "base_uri": "https://localhost:8080/"
        },
        "id": "O2vDUMSJekXp",
        "outputId": "2bd28bc5-3bb8-4e67-f522-e3e29ed1df50"
      },
      "execution_count": 110,
      "outputs": [
        {
          "output_type": "execute_result",
          "data": {
            "text/plain": [
              "(25227, 104)"
            ]
          },
          "metadata": {},
          "execution_count": 110
        }
      ]
    },
    {
      "cell_type": "code",
      "source": [
        ""
      ],
      "metadata": {
        "id": "b_q1M4LQe2ws"
      },
      "execution_count": null,
      "outputs": []
    },
    {
      "cell_type": "markdown",
      "source": [
        "### **Encoding (Train + Test)**"
      ],
      "metadata": {
        "id": "WuFi1WAoe3rx"
      }
    },
    {
      "cell_type": "markdown",
      "source": [
        "for any categorical variable (dtype == object) with 2 unique categories, we will use label encoding, and for any categorical variable with more than 2 unique categories, we will use one-hot."
      ],
      "metadata": {
        "id": "7p-ni0NmfvUs"
      }
    },
    {
      "cell_type": "code",
      "source": [
        "# Create a label encoder object\n",
        "le = LabelEncoder()\n",
        "le_count = 0\n",
        "oh_count = 0\n",
        "\n",
        "# Iterate through the columns\n",
        "for col in df_app_train:\n",
        "    if col == 'TARGET' or col == 'SK_ID_CURR':\n",
        "        pass\n",
        "    else :\n",
        "        if df_app_train[col].dtype == 'object':        \n",
        "        # If 2 or fewer unique categories\n",
        "            if len(list(df_app_train[col].unique())) <= 2:\n",
        "                # Train on the training data\n",
        "                le.fit(df_app_train[col])\n",
        "                # Transform both training and testing data\n",
        "                df_app_train[col] = le.transform(df_app_train[col])\n",
        "                df_app_test[col] = le.transform(df_app_test[col])\n",
        "            \n",
        "            # Keep track of how many columns were label encoded\n",
        "                le_count += 1\n",
        "                \n",
        "            else :\n",
        "                #else : one hot encoding\n",
        "                df_app_train = pd.get_dummies(df_app_train, prefix=[col], columns=[col])\n",
        "                df_app_test = pd.get_dummies(df_app_test, prefix=[col], columns=[col])\n",
        "                oh_count += 1\n",
        "                \n",
        "print('%d columns were label encoded.' % le_count)\n",
        "print('Training Features shape: ', df_app_train.shape)\n",
        "print('Testing Features shape: ', df_app_test.shape)\n",
        "print('%d columns were one hot encoded.' % oh_count)"
      ],
      "metadata": {
        "colab": {
          "base_uri": "https://localhost:8080/"
        },
        "id": "RhxmEpuXe23v",
        "outputId": "6ba4ae2b-b098-4128-c1b4-bc7277ea5466"
      },
      "execution_count": 113,
      "outputs": [
        {
          "output_type": "stream",
          "name": "stdout",
          "text": [
            "4 columns were label encoded.\n",
            "Training Features shape:  (153794, 205)\n",
            "Testing Features shape:  (25227, 198)\n",
            "10 columns were one hot encoded.\n"
          ]
        }
      ]
    },
    {
      "cell_type": "markdown",
      "source": [
        "There must be the same characteristics (columns) in the training and test data. The encoding created more columns in the training data because some categorical variables had more unrepresented categories than in the test data. To remove the columns in the training data that are not in the test data, we need to align the dataframes. First, we extract the target column from the training data (because it is not in the test data but we need to keep this information). When we do the alignment, we need to make sure to set axis=1 to align the dataframes to the columns and not the rows."
      ],
      "metadata": {
        "id": "1cdKf8uKgvap"
      }
    },
    {
      "cell_type": "code",
      "source": [
        "train_labels = df_app_train['TARGET']\n",
        "\n",
        "# Align the training and testing data, keep only columns present in both dataframes\n",
        "df_app_train, df_app_test = df_app_train.align(df_app_test, join = 'inner', axis = 1)\n",
        "\n",
        "# Add the target back in\n",
        "df_app_train['TARGET'] = train_labels\n",
        "\n",
        "print('Training Features shape: ', df_app_train.shape)\n",
        "print('Testing Features shape: ', df_app_test.shape)"
      ],
      "metadata": {
        "colab": {
          "base_uri": "https://localhost:8080/"
        },
        "id": "epvD9EBoe26Z",
        "outputId": "ff4ff2b2-68fb-4b18-ba99-e0012a5e8bb7"
      },
      "execution_count": 114,
      "outputs": [
        {
          "output_type": "stream",
          "name": "stdout",
          "text": [
            "Training Features shape:  (153794, 199)\n",
            "Testing Features shape:  (25227, 198)\n"
          ]
        }
      ]
    },
    {
      "cell_type": "code",
      "source": [
        ""
      ],
      "metadata": {
        "id": "sa0o5H6he29y"
      },
      "execution_count": null,
      "outputs": []
    },
    {
      "cell_type": "code",
      "source": [
        "app_train_final.to_csv(\"train_imputed_without_standardisation.csv\", index=False)\n",
        "app_test_final.to_csv(\"test_imputed_without_standardisation.csv\", index=False)"
      ],
      "metadata": {
        "id": "L27ggKkZe2_n"
      },
      "execution_count": 115,
      "outputs": []
    },
    {
      "cell_type": "code",
      "source": [
        ""
      ],
      "metadata": {
        "id": "Gq_AZfnje3DW"
      },
      "execution_count": null,
      "outputs": []
    },
    {
      "cell_type": "markdown",
      "source": [
        "**Backup CSVs**"
      ],
      "metadata": {
        "id": "tN4N8mwthQBb"
      }
    },
    {
      "cell_type": "code",
      "source": [
        "df_app_train.to_csv(\"df_train_imputed.csv\", index=False)\n",
        "df_app_test.to_csv(\"df_test_imputed.csv\", index=False)"
      ],
      "metadata": {
        "id": "PaPDGW0weka6"
      },
      "execution_count": 116,
      "outputs": []
    },
    {
      "cell_type": "code",
      "source": [
        "app_train_reduced.to_csv(\"real_data_clean_train.csv\", index=False)\n",
        "app_test_reduced.to_csv(\"real_data_clean_test.csv\", index=False)"
      ],
      "metadata": {
        "id": "TbBjQerHJ1VN",
        "colab": {
          "base_uri": "https://localhost:8080/",
          "height": 182
        },
        "outputId": "e91cc41c-a60b-487a-b8b4-ab9194d3c554"
      },
      "execution_count": 1,
      "outputs": [
        {
          "output_type": "error",
          "ename": "NameError",
          "evalue": "ignored",
          "traceback": [
            "\u001b[0;31m---------------------------------------------------------------------------\u001b[0m",
            "\u001b[0;31mNameError\u001b[0m                                 Traceback (most recent call last)",
            "\u001b[0;32m<ipython-input-1-1336d2eef540>\u001b[0m in \u001b[0;36m<module>\u001b[0;34m()\u001b[0m\n\u001b[0;32m----> 1\u001b[0;31m \u001b[0mapp_train_reduced\u001b[0m\u001b[0;34m.\u001b[0m\u001b[0mto_csv\u001b[0m\u001b[0;34m(\u001b[0m\u001b[0;34m\"real_data_clean_train.csv\"\u001b[0m\u001b[0;34m,\u001b[0m \u001b[0mindex\u001b[0m\u001b[0;34m=\u001b[0m\u001b[0;32mFalse\u001b[0m\u001b[0;34m)\u001b[0m\u001b[0;34m\u001b[0m\u001b[0;34m\u001b[0m\u001b[0m\n\u001b[0m\u001b[1;32m      2\u001b[0m \u001b[0mapp_test_reduced\u001b[0m\u001b[0;34m.\u001b[0m\u001b[0mto_csv\u001b[0m\u001b[0;34m(\u001b[0m\u001b[0;34m\"real_data_clean_test.csv\"\u001b[0m\u001b[0;34m,\u001b[0m \u001b[0mindex\u001b[0m\u001b[0;34m=\u001b[0m\u001b[0;32mFalse\u001b[0m\u001b[0;34m)\u001b[0m\u001b[0;34m\u001b[0m\u001b[0;34m\u001b[0m\u001b[0m\n",
            "\u001b[0;31mNameError\u001b[0m: name 'app_train_reduced' is not defined"
          ]
        }
      ]
    },
    {
      "cell_type": "code",
      "source": [
        ""
      ],
      "metadata": {
        "id": "BI9ZleDehPMP"
      },
      "execution_count": null,
      "outputs": []
    },
    {
      "cell_type": "code",
      "source": [
        ""
      ],
      "metadata": {
        "id": "_8N3TauKhPPz"
      },
      "execution_count": null,
      "outputs": []
    },
    {
      "cell_type": "markdown",
      "source": [
        "## **Modeling**"
      ],
      "metadata": {
        "id": "Dfopl75fhx_W"
      }
    },
    {
      "cell_type": "code",
      "source": [
        ""
      ],
      "metadata": {
        "id": "IyPp7pgZhPRs"
      },
      "execution_count": null,
      "outputs": []
    },
    {
      "cell_type": "code",
      "source": [
        ""
      ],
      "metadata": {
        "id": "zyFaG5JvhPUG"
      },
      "execution_count": null,
      "outputs": []
    },
    {
      "cell_type": "code",
      "source": [
        ""
      ],
      "metadata": {
        "id": "yy26A8NMkH5B"
      },
      "execution_count": null,
      "outputs": []
    },
    {
      "cell_type": "code",
      "source": [
        ""
      ],
      "metadata": {
        "id": "ER1jNNvHkH9K"
      },
      "execution_count": null,
      "outputs": []
    },
    {
      "cell_type": "code",
      "source": [
        ""
      ],
      "metadata": {
        "id": "51w3HqE9kH_D"
      },
      "execution_count": null,
      "outputs": []
    },
    {
      "cell_type": "code",
      "source": [
        ""
      ],
      "metadata": {
        "id": "IwHRj7STkIAv"
      },
      "execution_count": null,
      "outputs": []
    },
    {
      "cell_type": "code",
      "source": [
        ""
      ],
      "metadata": {
        "id": "eK3Sl4AFkIEo"
      },
      "execution_count": null,
      "outputs": []
    },
    {
      "cell_type": "code",
      "source": [
        ""
      ],
      "metadata": {
        "id": "4dJPv5eFhPYq"
      },
      "execution_count": null,
      "outputs": []
    },
    {
      "cell_type": "code",
      "source": [
        "app_test.shape"
      ],
      "metadata": {
        "colab": {
          "base_uri": "https://localhost:8080/"
        },
        "id": "q6Zcdk-lK4hK",
        "outputId": "3c81e2af-f8d0-417d-bad8-a143a6286e51"
      },
      "execution_count": null,
      "outputs": [
        {
          "output_type": "execute_result",
          "data": {
            "text/plain": [
              "(48744, 104)"
            ]
          },
          "metadata": {},
          "execution_count": 80
        }
      ]
    },
    {
      "cell_type": "code",
      "source": [
        "app_train.shape"
      ],
      "metadata": {
        "colab": {
          "base_uri": "https://localhost:8080/"
        },
        "id": "Q7Fb1VRJK4oi",
        "outputId": "602d7e88-f732-43bd-c07a-12ffee5f87ba"
      },
      "execution_count": null,
      "outputs": [
        {
          "output_type": "execute_result",
          "data": {
            "text/plain": [
              "(307511, 105)"
            ]
          },
          "metadata": {},
          "execution_count": 81
        }
      ]
    },
    {
      "cell_type": "code",
      "source": [
        "app_train= filling_num_miss_value(app_train)\n",
        "app_test= filling_num_miss_value(app_test)"
      ],
      "metadata": {
        "id": "IUO6iyJ9wtUM"
      },
      "execution_count": null,
      "outputs": []
    },
    {
      "cell_type": "markdown",
      "source": [
        "1- First we start with cleaning the data by removing the outliers. We also remove the rows in train data with categories such that those categories do not appear in test data. We also convert the Region Rating features to categorical becuase we saw from the EDA that they don't follow an ordinal beviour when it comes to Defaulting Characteristics.\n",
        "\n",
        "2-Inspired from the winner's writeup for the problem, we also predict the missing values of EXT_SOURCE features by building a regression model on the rest of the numeric features.\n",
        "\n",
        "3-Next we do feature engineering on the numeric features, and generate features based on Domain Knoweldge, such as INCOME TO ANNUITY ratio, EXT_SOURCE means, etc.\n",
        "\n",
        "4-We also try to predict the interest rates by using the data from the previous applications features, and predicting using the data from application_train features. We also create a feature based on the Target values from application_train where we compute the mean of targets of 500 nearest neighbors of each row.\n",
        "\n",
        "5-Next we create some features based on the categorical interactions by grouping the data on several categorical combinations and imputing the aggregates for each group as features.\n",
        "\n",
        "6-We encode the categorical features by response coding, as we didn't want to increase dimensionality by many-folds using OHE."
      ],
      "metadata": {
        "id": "frv65_CMraLc"
      }
    },
    {
      "cell_type": "code",
      "source": [
        ""
      ],
      "metadata": {
        "id": "ZVlufWSJNgdq"
      },
      "execution_count": null,
      "outputs": []
    },
    {
      "cell_type": "code",
      "source": [
        ""
      ],
      "metadata": {
        "id": "F77QHqmKPUSL"
      },
      "execution_count": null,
      "outputs": []
    },
    {
      "cell_type": "markdown",
      "source": [
        "### **Feature Engineering**"
      ],
      "metadata": {
        "id": "9vEmWYYUHSpi"
      }
    },
    {
      "cell_type": "code",
      "source": [
        "app_train['AMT_INCOME_TOTAL']+0.00001"
      ],
      "metadata": {
        "colab": {
          "base_uri": "https://localhost:8080/"
        },
        "id": "Aw9VFsgjyzkt",
        "outputId": "87004eef-0cf4-4c29-a91b-9404272ebf63"
      },
      "execution_count": null,
      "outputs": [
        {
          "output_type": "execute_result",
          "data": {
            "text/plain": [
              "0         202500.00001\n",
              "1         270000.00001\n",
              "2          67500.00001\n",
              "3         135000.00001\n",
              "4         121500.00001\n",
              "              ...     \n",
              "307506    157500.00001\n",
              "307507     72000.00001\n",
              "307508    153000.00001\n",
              "307509    171000.00001\n",
              "307510    157500.00001\n",
              "Name: AMT_INCOME_TOTAL, Length: 307507, dtype: float64"
            ]
          },
          "metadata": {},
          "execution_count": 17
        }
      ]
    },
    {
      "cell_type": "code",
      "source": [
        "app_train['AMT_CREDIT']"
      ],
      "metadata": {
        "colab": {
          "base_uri": "https://localhost:8080/"
        },
        "id": "UFv_ndlAzl1R",
        "outputId": "59f5380b-b1bf-4dd7-c80c-872907a269bc"
      },
      "execution_count": null,
      "outputs": [
        {
          "output_type": "execute_result",
          "data": {
            "text/plain": [
              "0          406597.5\n",
              "1         1293502.5\n",
              "2          135000.0\n",
              "3          312682.5\n",
              "4          513000.0\n",
              "            ...    \n",
              "307506     254700.0\n",
              "307507     269550.0\n",
              "307508     677664.0\n",
              "307509     370107.0\n",
              "307510     675000.0\n",
              "Name: AMT_CREDIT, Length: 307507, dtype: float64"
            ]
          },
          "metadata": {},
          "execution_count": 16
        }
      ]
    },
    {
      "cell_type": "code",
      "source": [
        "def numeric_feature_engineering(data):\n",
        "        \n",
        "  #income and credit features\n",
        "  data['CREDIT_INCOME_RATIO'] = data['AMT_CREDIT'] / (data['AMT_INCOME_TOTAL'] + 0.00001)\n",
        "  data['CREDIT_ANNUITY_RATIO'] = data['AMT_CREDIT'] / (data['AMT_ANNUITY'] + 0.00001)\n",
        "  data['ANNUITY_INCOME_RATIO'] = data['AMT_ANNUITY'] / (data['AMT_INCOME_TOTAL'] + 0.00001)\n",
        "  data['INCOME_ANNUITY_DIFF'] = data['AMT_INCOME_TOTAL'] - data['AMT_ANNUITY']\n",
        "  data['CREDIT_GOODS_RATIO'] = data['AMT_CREDIT'] / (data['AMT_GOODS_PRICE'] + 0.00001)\n",
        "  data['CREDIT_GOODS_DIFF'] = data['AMT_CREDIT'] - data['AMT_GOODS_PRICE'] + 0.00001\n",
        "  data['GOODS_INCOME_RATIO'] = data['AMT_GOODS_PRICE'] / (data['AMT_INCOME_TOTAL'] + 0.00001)\n",
        "  data['INCOME_EXT_RATIO'] = data['AMT_INCOME_TOTAL'] / (data['EXT_SOURCE_3'] + 0.00001)\n",
        "  data['CREDIT_EXT_RATIO'] = data['AMT_CREDIT'] / (data['EXT_SOURCE_3'] + 0.00001)\n",
        "\n",
        "  #age ratios and diffs\n",
        "  data['AGE_EMPLOYED_DIFF'] = data['DAYS_BIRTH'] - data['DAYS_EMPLOYED']\n",
        "  data['EMPLOYED_TO_AGE_RATIO'] = data['DAYS_EMPLOYED'] / (data['DAYS_BIRTH'] + 0.00001)\n",
        "\n",
        "  #car ratios\n",
        "  data['CAR_EMPLOYED_DIFF'] = data['OWN_CAR_AGE'] - data['DAYS_EMPLOYED']\n",
        "  data['CAR_EMPLOYED_RATIO'] = data['OWN_CAR_AGE'] / (data['DAYS_EMPLOYED']+0.00001)\n",
        "  data['CAR_AGE_DIFF'] = data['DAYS_BIRTH'] - data['OWN_CAR_AGE']\n",
        "  data['CAR_AGE_RATIO'] = data['OWN_CAR_AGE'] / (data['DAYS_BIRTH'] + 0.00001)\n",
        "\n",
        "  #flag contacts sum\n",
        "  data['FLAG_CONTACTS_SUM'] = data['FLAG_MOBIL'] + data['FLAG_EMP_PHONE'] + data['FLAG_WORK_PHONE'] + data[\n",
        "                              'FLAG_CONT_MOBILE'] + data['FLAG_PHONE'] + data['FLAG_EMAIL']\n",
        "  \n",
        "  data['HOUR_PROCESS_CREDIT_MUL'] = data['AMT_CREDIT'] * data['HOUR_APPR_PROCESS_START']\n",
        "\n",
        "  #family members\n",
        "  data['CNT_NON_CHILDREN'] = data['CNT_FAM_MEMBERS'] - data['CNT_CHILDREN']\n",
        "  data['CHILDREN_INCOME_RATIO'] = data['CNT_CHILDREN'] / (data['AMT_INCOME_TOTAL'] + 0.00001)\n",
        "  data['PER_CAPITA_INCOME'] = data['AMT_INCOME_TOTAL'] / (data['CNT_FAM_MEMBERS'] + 1)\n",
        "\n",
        "  #region ratings\n",
        "  data['REGIONS_RATING_INCOME_MUL'] = (data['REGION_RATING_CLIENT'] + data['REGION_RATING_CLIENT_W_CITY']) * data['AMT_INCOME_TOTAL'] / 2\n",
        "  data['REGION_RATING_MAX'] = [max(ele1, ele2) for ele1, ele2 in zip(data['REGION_RATING_CLIENT'], data['REGION_RATING_CLIENT_W_CITY'])]\n",
        "  data['REGION_RATING_MAX'] = [min(ele1, ele2) for ele1, ele2 in zip(data['REGION_RATING_CLIENT'], data['REGION_RATING_CLIENT_W_CITY'])]\n",
        "  data['REGION_RATING_MEAN'] = (data['REGION_RATING_CLIENT'] + data['REGION_RATING_CLIENT_W_CITY']) / 2\n",
        "  data['REGION_RATING_MUL'] = data['REGION_RATING_CLIENT'] * data['REGION_RATING_CLIENT_W_CITY']\n",
        "\n",
        "  #flag regions\n",
        "  data['FLAG_REGIONS'] = data['REG_REGION_NOT_LIVE_REGION'] + data['REG_REGION_NOT_WORK_REGION'] + data['LIVE_REGION_NOT_WORK_REGION']+data[\n",
        "                          'REG_CITY_NOT_LIVE_CITY'] + data['REG_CITY_NOT_WORK_CITY'] + data['LIVE_CITY_NOT_WORK_CITY']   \n",
        "  \n",
        "  #ext_sources,  Normalized score from external data source.\n",
        "  data['EXT_SOURCE_MEAN'] = (data['EXT_SOURCE_1'] + data['EXT_SOURCE_2'] + data['EXT_SOURCE_3'] ) / 3\n",
        "  data['EXT_SOURCE_MUL'] = data['EXT_SOURCE_1'] * data['EXT_SOURCE_2'] * data['EXT_SOURCE_3'] \n",
        "  data['EXT_SOURCE_MAX'] = [max(ele1,ele2,ele3) for ele1, ele2, ele3 in zip(data['EXT_SOURCE_1'], data['EXT_SOURCE_2'], data['EXT_SOURCE_3'])]\n",
        "  data['EXT_SOURCE_MIN'] = [min(ele1,ele2,ele3) for ele1, ele2, ele3 in zip(data['EXT_SOURCE_1'], data['EXT_SOURCE_2'], data['EXT_SOURCE_3'])]\n",
        "  data['EXT_SOURCE_VAR'] = [np.var([ele1,ele2,ele3]) for ele1, ele2, ele3 in zip(data['EXT_SOURCE_1'], data['EXT_SOURCE_2'], data['EXT_SOURCE_3'])]\n",
        "  data['WEIGHTED_EXT_SOURCE'] =  data.EXT_SOURCE_1 * 2 + data.EXT_SOURCE_2 * 3 + data.EXT_SOURCE_3 * 4\n",
        "\n",
        "  #apartment scores\n",
        "  data['APARTMENTS_SUM_AVG'] = data['APARTMENTS_AVG'] + data['BASEMENTAREA_AVG'] + data['YEARS_BEGINEXPLUATATION_AVG'] + data[\n",
        "                              'YEARS_BUILD_AVG'] + data['COMMONAREA_AVG'] + data['ELEVATORS_AVG'] + data['ENTRANCES_AVG'] + data[\n",
        "                              'FLOORSMAX_AVG'] + data['FLOORSMIN_AVG'] + data['LANDAREA_AVG'] + data['LIVINGAPARTMENTS_AVG'] + data[\n",
        "                              'LIVINGAREA_AVG'] + data['NONLIVINGAPARTMENTS_AVG'] + data['NONLIVINGAREA_AVG']\n",
        "\n",
        "  data['APARTMENTS_SUM_MODE'] = data['APARTMENTS_MODE'] + data['BASEMENTAREA_MODE'] + data['YEARS_BEGINEXPLUATATION_MODE'] + data[\n",
        "                              'YEARS_BUILD_MODE'] + data['COMMONAREA_MODE'] + data['ELEVATORS_MODE'] + data['ENTRANCES_MODE'] + data[\n",
        "                              'FLOORSMAX_MODE'] + data['FLOORSMIN_MODE'] + data['LANDAREA_MODE'] + data['LIVINGAPARTMENTS_MODE'] + data[\n",
        "                              'LIVINGAREA_MODE'] + data['NONLIVINGAPARTMENTS_MODE'] + data['NONLIVINGAREA_MODE'] + data['TOTALAREA_MODE']\n",
        "\n",
        "  data['APARTMENTS_SUM_MEDI'] = data['APARTMENTS_MEDI'] + data['BASEMENTAREA_MEDI'] + data['YEARS_BEGINEXPLUATATION_MEDI'] + data[\n",
        "                              'YEARS_BUILD_MEDI'] + data['COMMONAREA_MEDI'] + data['ELEVATORS_MEDI'] + data['ENTRANCES_MEDI'] + data[\n",
        "                              'FLOORSMAX_MEDI'] + data['FLOORSMIN_MEDI'] + data['LANDAREA_MEDI'] + data['LIVINGAPARTMENTS_MEDI'] + data[\n",
        "                              'LIVINGAREA_MEDI'] + data['NONLIVINGAPARTMENTS_MEDI'] + data['NONLIVINGAREA_MEDI']\n",
        "  data['INCOME_APARTMENT_AVG_MUL'] = data['APARTMENTS_SUM_AVG'] * data['AMT_INCOME_TOTAL']\n",
        "  data['INCOME_APARTMENT_MODE_MUL'] = data['APARTMENTS_SUM_MODE'] * data['AMT_INCOME_TOTAL']\n",
        "  data['INCOME_APARTMENT_MEDI_MUL'] = data['APARTMENTS_SUM_MEDI'] * data['AMT_INCOME_TOTAL']\n",
        "  \n",
        "  #OBS And DEF\n",
        "  data['OBS_30_60_SUM'] = data['OBS_30_CNT_SOCIAL_CIRCLE'] + data['OBS_60_CNT_SOCIAL_CIRCLE']\n",
        "  data['DEF_30_60_SUM'] = data['DEF_30_CNT_SOCIAL_CIRCLE'] + data['DEF_60_CNT_SOCIAL_CIRCLE']\n",
        "  data['OBS_DEF_30_MUL'] = data['OBS_30_CNT_SOCIAL_CIRCLE'] *  data['DEF_30_CNT_SOCIAL_CIRCLE']\n",
        "  data['OBS_DEF_60_MUL'] = data['OBS_60_CNT_SOCIAL_CIRCLE'] *  data['DEF_60_CNT_SOCIAL_CIRCLE']\n",
        "  data['SUM_OBS_DEF_ALL'] = data['OBS_30_CNT_SOCIAL_CIRCLE'] + data['DEF_30_CNT_SOCIAL_CIRCLE'] + data[\n",
        "                              'OBS_60_CNT_SOCIAL_CIRCLE'] + data['DEF_60_CNT_SOCIAL_CIRCLE']\n",
        "  data['OBS_30_CREDIT_RATIO'] = data['AMT_CREDIT'] / (data['OBS_30_CNT_SOCIAL_CIRCLE'] + 0.00001)\n",
        "  data['OBS_60_CREDIT_RATIO'] = data['AMT_CREDIT'] / (data['OBS_60_CNT_SOCIAL_CIRCLE'] + 0.00001)\n",
        "  data['DEF_30_CREDIT_RATIO'] = data['AMT_CREDIT'] / (data['DEF_30_CNT_SOCIAL_CIRCLE'] + 0.00001)\n",
        "  data['DEF_60_CREDIT_RATIO'] = data['AMT_CREDIT'] / (data['DEF_60_CNT_SOCIAL_CIRCLE'] + 0.00001)\n",
        "  \n",
        "  #Flag Documents combined\n",
        "  data['SUM_FLAGS_DOCUMENTS'] = data['FLAG_DOCUMENT_3'] + data['FLAG_DOCUMENT_5'] + data['FLAG_DOCUMENT_6']  + data[\n",
        "                              'FLAG_DOCUMENT_7'] + data['FLAG_DOCUMENT_8'] + data['FLAG_DOCUMENT_9'] + data[\n",
        "                              'FLAG_DOCUMENT_11'] + data['FLAG_DOCUMENT_13'] + data['FLAG_DOCUMENT_14'] + data[\n",
        "                              'FLAG_DOCUMENT_15'] + data['FLAG_DOCUMENT_16'] + data['FLAG_DOCUMENT_17'] + data[\n",
        "                              'FLAG_DOCUMENT_18'] + data['FLAG_DOCUMENT_19'] + data['FLAG_DOCUMENT_21']\n",
        "  #details change\n",
        "  data['DAYS_DETAILS_CHANGE_MUL'] = data['DAYS_LAST_PHONE_CHANGE'] * data['DAYS_REGISTRATION'] * data['DAYS_ID_PUBLISH']\n",
        "  data['DAYS_DETAILS_CHANGE_SUM'] = data['DAYS_LAST_PHONE_CHANGE'] + data['DAYS_REGISTRATION'] + data['DAYS_ID_PUBLISH']\n",
        "              \n",
        "  return data"
      ],
      "metadata": {
        "id": "86o7B6CJCCCf"
      },
      "execution_count": 9,
      "outputs": []
    },
    {
      "cell_type": "code",
      "source": [
        "#Creating Numeric features based on domain knowledge\n",
        "app_train = numeric_feature_engineering(app_train)\n",
        "app_test = numeric_feature_engineering(app_test)"
      ],
      "metadata": {
        "id": "HPb4YdE5qxsR"
      },
      "execution_count": 11,
      "outputs": []
    },
    {
      "cell_type": "code",
      "source": [
        "app_train.shape"
      ],
      "metadata": {
        "colab": {
          "base_uri": "https://localhost:8080/"
        },
        "id": "baNM8OEtqxvu",
        "outputId": "beb1764a-b3de-4359-969d-4151636b4867"
      },
      "execution_count": 12,
      "outputs": [
        {
          "output_type": "execute_result",
          "data": {
            "text/plain": [
              "(307507, 166)"
            ]
          },
          "metadata": {},
          "execution_count": 12
        }
      ]
    },
    {
      "cell_type": "code",
      "source": [
        ""
      ],
      "metadata": {
        "id": "_MfV0m8HSnA9"
      },
      "execution_count": null,
      "outputs": []
    },
    {
      "cell_type": "code",
      "source": [
        "# -- FEATURE ENGINEERING : super variable gagnant concours kaggle\n",
        "\n",
        "def feature_engineering_neighbors_EXT_SOURCE(data):\n",
        "    '''\n",
        "     - Imputation de la moyenne des 500 valeurs cibles des voisins les plus\n",
        "       proches pour chaque application du train set ou test set.\n",
        "     - Les voisins sont calculés en utilisant :\n",
        "       - les variables très importantes :\n",
        "       - EXT_SOURCE-1,\n",
        "       - EXT_SOURCE_2\n",
        "       - et EXT_SOURCE_3,\n",
        "     - et CREDIT_ANNUITY_RATIO (ratio du Montant du crédit du prêt / Annuité de prêt).\n",
        "     [Source](https://www.kaggle.com/c/home-credit-default-risk/discussion/64821)\n",
        "     Inputs: dataframe pour lequel on veut ajouter la variable des 500 plus\n",
        "             proches voisins.\n",
        "     Returns:\n",
        "         None\n",
        "     '''\n",
        "\n",
        "    knn = KNeighborsClassifier(500, n_jobs=-1)\n",
        "\n",
        "    train_data_for_neighbors = app_train[['EXT_SOURCE_1', 'EXT_SOURCE_2','EXT_SOURCE_3','CREDIT_ANNUITY_RATIO']].fillna(0)\n",
        "\n",
        "    # saving the training data for neighbors\n",
        "    with open('TARGET_MEAN_500_Neighbors_training_data.pkl', 'wb') as f:\n",
        "         pickle.dump(train_data_for_neighbors, f)\n",
        "    train_target = app_train.TARGET\n",
        "    test_data_for_neighbors = app_test[['EXT_SOURCE_1','EXT_SOURCE_2','EXT_SOURCE_3','CREDIT_ANNUITY_RATIO']].fillna(0)\n",
        "\n",
        "    knn.fit(train_data_for_neighbors, train_target)\n",
        "    # pickling the knn model\n",
        "    with open('KNN_model_TARGET_500_neighbors.pkl', 'wb') as f:\n",
        "         pickle.dump(knn, f)\n",
        "\n",
        "    train_500_neighbors = knn.kneighbors(train_data_for_neighbors)[1]\n",
        "    test_500_neighbors = knn.kneighbors(test_data_for_neighbors)[1]\n",
        "\n",
        "    # adding the means of targets of 500 neighbors to new column\n",
        "    app_train['TARGET_NEIGHBORS_500_MEAN'] = [app_train['TARGET'].iloc[ele].mean() for ele in train_500_neighbors]\n",
        "    app_test['TARGET_NEIGHBORS_500_MEAN'] = [app_test['TARGET'].iloc[ele].mean() for ele in train_500_neighbors]"
      ],
      "metadata": {
        "id": "MGkg0MZZSn0K"
      },
      "execution_count": 13,
      "outputs": []
    },
    {
      "cell_type": "code",
      "source": [
        "app_train = feature_engineering_neighbors_EXT_SOURCE(app_train)\n",
        "app_test = feature_engineering_neighbors_EXT_SOURCE(app_test)"
      ],
      "metadata": {
        "colab": {
          "base_uri": "https://localhost:8080/",
          "height": 304
        },
        "id": "_Q_zR7HA5-yM",
        "outputId": "70d8862f-96ed-42cc-e7ae-abe98f501308"
      },
      "execution_count": 14,
      "outputs": [
        {
          "output_type": "error",
          "ename": "TypeError",
          "evalue": "ignored",
          "traceback": [
            "\u001b[0;31m---------------------------------------------------------------------------\u001b[0m",
            "\u001b[0;31mTypeError\u001b[0m                                 Traceback (most recent call last)",
            "\u001b[0;32m<ipython-input-14-c8ae71eba4c6>\u001b[0m in \u001b[0;36m<module>\u001b[0;34m()\u001b[0m\n\u001b[1;32m      1\u001b[0m \u001b[0mapp_train\u001b[0m \u001b[0;34m=\u001b[0m \u001b[0mfeature_engineering_neighbors_EXT_SOURCE\u001b[0m\u001b[0;34m(\u001b[0m\u001b[0mapp_train\u001b[0m\u001b[0;34m)\u001b[0m\u001b[0;34m\u001b[0m\u001b[0;34m\u001b[0m\u001b[0m\n\u001b[0;32m----> 2\u001b[0;31m \u001b[0mapp_test\u001b[0m \u001b[0;34m=\u001b[0m \u001b[0mfeature_engineering_neighbors_EXT_SOURCE\u001b[0m\u001b[0;34m(\u001b[0m\u001b[0mapp_test\u001b[0m\u001b[0;34m)\u001b[0m\u001b[0;34m\u001b[0m\u001b[0;34m\u001b[0m\u001b[0m\n\u001b[0m",
            "\u001b[0;32m<ipython-input-13-32d2012b4133>\u001b[0m in \u001b[0;36mfeature_engineering_neighbors_EXT_SOURCE\u001b[0;34m(data)\u001b[0m\n\u001b[1;32m     20\u001b[0m     \u001b[0mknn\u001b[0m \u001b[0;34m=\u001b[0m \u001b[0mKNeighborsClassifier\u001b[0m\u001b[0;34m(\u001b[0m\u001b[0;36m500\u001b[0m\u001b[0;34m,\u001b[0m \u001b[0mn_jobs\u001b[0m\u001b[0;34m=\u001b[0m\u001b[0;34m-\u001b[0m\u001b[0;36m1\u001b[0m\u001b[0;34m)\u001b[0m\u001b[0;34m\u001b[0m\u001b[0;34m\u001b[0m\u001b[0m\n\u001b[1;32m     21\u001b[0m \u001b[0;34m\u001b[0m\u001b[0m\n\u001b[0;32m---> 22\u001b[0;31m     \u001b[0mtrain_data_for_neighbors\u001b[0m \u001b[0;34m=\u001b[0m \u001b[0mapp_train\u001b[0m\u001b[0;34m[\u001b[0m\u001b[0;34m[\u001b[0m\u001b[0;34m'EXT_SOURCE_1'\u001b[0m\u001b[0;34m,\u001b[0m \u001b[0;34m'EXT_SOURCE_2'\u001b[0m\u001b[0;34m,\u001b[0m\u001b[0;34m'EXT_SOURCE_3'\u001b[0m\u001b[0;34m,\u001b[0m\u001b[0;34m'CREDIT_ANNUITY_RATIO'\u001b[0m\u001b[0;34m]\u001b[0m\u001b[0;34m]\u001b[0m\u001b[0;34m.\u001b[0m\u001b[0mfillna\u001b[0m\u001b[0;34m(\u001b[0m\u001b[0;36m0\u001b[0m\u001b[0;34m)\u001b[0m\u001b[0;34m\u001b[0m\u001b[0;34m\u001b[0m\u001b[0m\n\u001b[0m\u001b[1;32m     23\u001b[0m \u001b[0;34m\u001b[0m\u001b[0m\n\u001b[1;32m     24\u001b[0m     \u001b[0;31m# saving the training data for neighbors\u001b[0m\u001b[0;34m\u001b[0m\u001b[0;34m\u001b[0m\u001b[0;34m\u001b[0m\u001b[0m\n",
            "\u001b[0;31mTypeError\u001b[0m: 'NoneType' object is not subscriptable"
          ]
        }
      ]
    },
    {
      "cell_type": "code",
      "source": [
        ""
      ],
      "metadata": {
        "id": "LukK06U8B_lG"
      },
      "execution_count": null,
      "outputs": []
    },
    {
      "cell_type": "markdown",
      "source": [
        "## $\\color{red}{\\text{T.B.C}}$"
      ],
      "metadata": {
        "id": "aQbme4SB6xZD"
      }
    },
    {
      "cell_type": "code",
      "source": [
        "def categorical_interaction_features(train_data, test_data):\n",
        "    '''\n",
        "    Function to generate some features based on categorical groupings.\n",
        "    \n",
        "    Inputs:\n",
        "        self\n",
        "        train_data, test_data : DataFrames\n",
        "            train and test dataframes\n",
        "    \n",
        "    Returns:\n",
        "        Train and test datasets, with added categorical interaction features.\n",
        "    '''\n",
        "    \n",
        "    #now we will create features based on categorical interactions\n",
        "    columns_to_aggregate_on = [\n",
        "        ['NAME_CONTRACT_TYPE', 'NAME_INCOME_TYPE', 'OCCUPATION_TYPE'],\n",
        "        ['CODE_GENDER', 'NAME_FAMILY_STATUS', 'NAME_INCOME_TYPE'],\n",
        "        ['FLAG_OWN_CAR', 'FLAG_OWN_REALTY', 'NAME_INCOME_TYPE'],\n",
        "        ['NAME_EDUCATION_TYPE','NAME_INCOME_TYPE','OCCUPATION_TYPE'],\n",
        "        ['OCCUPATION_TYPE','ORGANIZATION_TYPE'],\n",
        "        ['CODE_GENDER','FLAG_OWN_CAR','FLAG_OWN_REALTY']\n",
        "\n",
        "    ]\n",
        "    aggregations = {\n",
        "        'AMT_ANNUITY' : ['mean','max','min'],\n",
        "        'ANNUITY_INCOME_RATIO' : ['mean','max','min'],\n",
        "        'AGE_EMPLOYED_DIFF' : ['mean','min'],\n",
        "        'AMT_INCOME_TOTAL' : ['mean','max','min'],\n",
        "        'APARTMENTS_SUM_AVG' : ['mean','max','min'],\n",
        "        'APARTMENTS_SUM_MEDI' : ['mean','max','min'],\n",
        "        'EXT_SOURCE_MEAN' : ['mean','max','min'],\n",
        "        'EXT_SOURCE_1' : ['mean','max','min'],\n",
        "        'EXT_SOURCE_2' : ['mean','max','min'],\n",
        "        'EXT_SOURCE_3' : ['mean','max','min']\n",
        "    }\n",
        "      #extracting values\n",
        "    for group in columns_to_aggregate_on:\n",
        "        #grouping based on categories\n",
        "        grouped_interactions = train_data.groupby(group).agg(aggregations) \n",
        "        grouped_interactions.columns = ['_'.join(ele).upper() + '_AGG_' + '_'.join(group) for ele in grouped_interactions.columns]\n",
        "        #saving the grouped interactions to pickle file\n",
        "        group_name = '_'.join(group)\n",
        "        with open(f'Application_train_grouped_interactions_{group_name}.pkl', 'wb') as f:\n",
        "            pickle.dump(grouped_interactions, f)\n",
        "        #merging with the original data\n",
        "        train_data = train_data.join(grouped_interactions, on = group)\n",
        "        test_data = test_data.join(grouped_interactions, on = group)\n",
        "\n",
        "    return train_data, test_data\n",
        "    "
      ],
      "metadata": {
        "id": "iOAs9S0C8zFB"
      },
      "execution_count": 16,
      "outputs": []
    },
    {
      "cell_type": "code",
      "source": [
        "categorical_interaction_features(app_train, app_test)\n"
      ],
      "metadata": {
        "colab": {
          "base_uri": "https://localhost:8080/",
          "height": 286
        },
        "id": "j3VC0X2OIX_n",
        "outputId": "cf0a1252-342c-4c0a-aa7c-1d9afb627155"
      },
      "execution_count": 18,
      "outputs": [
        {
          "output_type": "error",
          "ename": "AttributeError",
          "evalue": "ignored",
          "traceback": [
            "\u001b[0;31m---------------------------------------------------------------------------\u001b[0m",
            "\u001b[0;31mAttributeError\u001b[0m                            Traceback (most recent call last)",
            "\u001b[0;32m<ipython-input-18-64a639dc9f8b>\u001b[0m in \u001b[0;36m<module>\u001b[0;34m()\u001b[0m\n\u001b[0;32m----> 1\u001b[0;31m \u001b[0mcategorical_interaction_features\u001b[0m\u001b[0;34m(\u001b[0m\u001b[0mapp_train\u001b[0m\u001b[0;34m,\u001b[0m \u001b[0mapp_test\u001b[0m\u001b[0;34m)\u001b[0m\u001b[0;34m\u001b[0m\u001b[0;34m\u001b[0m\u001b[0m\n\u001b[0m",
            "\u001b[0;32m<ipython-input-16-60e2b35590e7>\u001b[0m in \u001b[0;36mcategorical_interaction_features\u001b[0;34m(train_data, test_data)\u001b[0m\n\u001b[1;32m     37\u001b[0m     \u001b[0;32mfor\u001b[0m \u001b[0mgroup\u001b[0m \u001b[0;32min\u001b[0m \u001b[0mcolumns_to_aggregate_on\u001b[0m\u001b[0;34m:\u001b[0m\u001b[0;34m\u001b[0m\u001b[0;34m\u001b[0m\u001b[0m\n\u001b[1;32m     38\u001b[0m         \u001b[0;31m#grouping based on categories\u001b[0m\u001b[0;34m\u001b[0m\u001b[0;34m\u001b[0m\u001b[0;34m\u001b[0m\u001b[0m\n\u001b[0;32m---> 39\u001b[0;31m         \u001b[0mgrouped_interactions\u001b[0m \u001b[0;34m=\u001b[0m \u001b[0mtrain_data\u001b[0m\u001b[0;34m.\u001b[0m\u001b[0mgroupby\u001b[0m\u001b[0;34m(\u001b[0m\u001b[0mgroup\u001b[0m\u001b[0;34m)\u001b[0m\u001b[0;34m.\u001b[0m\u001b[0magg\u001b[0m\u001b[0;34m(\u001b[0m\u001b[0maggregations\u001b[0m\u001b[0;34m)\u001b[0m\u001b[0;34m\u001b[0m\u001b[0;34m\u001b[0m\u001b[0m\n\u001b[0m\u001b[1;32m     40\u001b[0m         \u001b[0mgrouped_interactions\u001b[0m\u001b[0;34m.\u001b[0m\u001b[0mcolumns\u001b[0m \u001b[0;34m=\u001b[0m \u001b[0;34m[\u001b[0m\u001b[0;34m'_'\u001b[0m\u001b[0;34m.\u001b[0m\u001b[0mjoin\u001b[0m\u001b[0;34m(\u001b[0m\u001b[0mele\u001b[0m\u001b[0;34m)\u001b[0m\u001b[0;34m.\u001b[0m\u001b[0mupper\u001b[0m\u001b[0;34m(\u001b[0m\u001b[0;34m)\u001b[0m \u001b[0;34m+\u001b[0m \u001b[0;34m'_AGG_'\u001b[0m \u001b[0;34m+\u001b[0m \u001b[0;34m'_'\u001b[0m\u001b[0;34m.\u001b[0m\u001b[0mjoin\u001b[0m\u001b[0;34m(\u001b[0m\u001b[0mgroup\u001b[0m\u001b[0;34m)\u001b[0m \u001b[0;32mfor\u001b[0m \u001b[0mele\u001b[0m \u001b[0;32min\u001b[0m \u001b[0mgrouped_interactions\u001b[0m\u001b[0;34m.\u001b[0m\u001b[0mcolumns\u001b[0m\u001b[0;34m]\u001b[0m\u001b[0;34m\u001b[0m\u001b[0;34m\u001b[0m\u001b[0m\n\u001b[1;32m     41\u001b[0m         \u001b[0;31m#saving the grouped interactions to pickle file\u001b[0m\u001b[0;34m\u001b[0m\u001b[0;34m\u001b[0m\u001b[0;34m\u001b[0m\u001b[0m\n",
            "\u001b[0;31mAttributeError\u001b[0m: 'NoneType' object has no attribute 'groupby'"
          ]
        }
      ]
    },
    {
      "cell_type": "code",
      "source": [
        ""
      ],
      "metadata": {
        "id": "9EBK5uuUIYLu"
      },
      "execution_count": null,
      "outputs": []
    },
    {
      "cell_type": "code",
      "source": [
        "def response_fit(self, data, column):\n",
        "    '''\n",
        "    Response Encoding Fit Function\n",
        "    Function to create a vocabulary with the probability of occurrence of each category for categorical features\n",
        "    for a given class label.\n",
        "    \n",
        "    Inputs:\n",
        "        self\n",
        "        data: DataFrame\n",
        "            training Dataset\n",
        "        column: str\n",
        "            the categorical column for which vocab is to be generated\n",
        "    \n",
        "    Returns:\n",
        "        Dictionary of probability of occurrence of each category in a particular class label.\n",
        "    '''\n",
        "    \n",
        "    dict_occurrences = {1: {}, 0: {}}\n",
        "    for label in [0,1]:\n",
        "        dict_occurrences[label] = dict((data[column][data.TARGET == label].value_counts() / data[column].value_counts()).fillna(0))\n",
        "\n",
        "    return dict_occurrences"
      ],
      "metadata": {
        "id": "OGMFO0769Gic"
      },
      "execution_count": null,
      "outputs": []
    },
    {
      "cell_type": "code",
      "source": [
        "def response_transform(self, data, column, dict_mapping):\n",
        "    '''\n",
        "    Response Encoding Transform Function\n",
        "    Function to transform the categorical feature into two features, which contain the probability\n",
        "    of occurrence of that category for each class label.\n",
        "    \n",
        "    Inputs:\n",
        "        self\n",
        "        data: DataFrame\n",
        "            DataFrame whose categorical features are to be encoded\n",
        "        column: str\n",
        "            categorical column whose encoding is to be done\n",
        "        dict_mapping: dict\n",
        "            Dictionary obtained from Response Fit function for that particular column\n",
        "    \n",
        "    Returns:\n",
        "        None\n",
        "    '''\n",
        "    \n",
        "    data[column + '_0'] = data[column].map(dict_mapping[0])\n",
        "    data[column + '_1'] = data[column].map(dict_mapping[1])"
      ],
      "metadata": {
        "id": "fg59w-6K9Gli"
      },
      "execution_count": null,
      "outputs": []
    },
    {
      "cell_type": "code",
      "source": [
        "def cnt_payment_prediction(self, data_to_predict):\n",
        "    '''\n",
        "    Function to predict the Count_payments on Current Loans using data from previous loans.\n",
        "    \n",
        "    Inputs:\n",
        "        self\n",
        "        data_to_predict: DataFrame\n",
        "            the values using which the model would predict the Count_payments on current applications\n",
        "    \n",
        "    Returns:\n",
        "        Predicted Count_payments of the current applications.\n",
        "    '''\n",
        "    \n",
        "    #https://www.kaggle.com/c/home-credit-default-risk/discussion/64598\n",
        "    previous_application = pd.read_csv('previous_application.csv')\n",
        "    train_data = previous_application[['AMT_CREDIT', 'AMT_ANNUITY', 'CNT_PAYMENT']].dropna()\n",
        "    train_data['CREDIT_ANNUITY_RATIO'] = train_data['AMT_CREDIT'] / (train_data['AMT_ANNUITY'] + 1)\n",
        "    #value to predict is our CNT_PAYMENT\n",
        "    train_value = train_data.pop('CNT_PAYMENT')\n",
        "    \n",
        "    #test data would be our application_train data\n",
        "    test_data = data_to_predict[['AMT_CREDIT','AMT_ANNUITY']].fillna(0)\n",
        "    test_data['CREDIT_ANNUITY_RATIO'] = test_data['AMT_CREDIT'] / (test_data['AMT_ANNUITY'] + 1)\n",
        "    \n",
        "    lgbmr = LGBMRegressor(max_depth = 9, n_estimators = 5000, n_jobs = -1, learning_rate = 0.3, \n",
        "                          random_state = 125)\n",
        "    lgbmr.fit(train_data, train_value)\n",
        "    #dumping the model to pickle file\n",
        "    with open('cnt_payment_predictor_lgbmr.pkl', 'wb') as f:\n",
        "        pickle.dump(lgbmr, f)\n",
        "    #predicting the CNT_PAYMENT for test_data\n",
        "    cnt_payment = lgbmr.predict(test_data)\n",
        "    \n",
        "    return cnt_payment\n"
      ],
      "metadata": {
        "id": "yOmlLrzx9RQj"
      },
      "execution_count": null,
      "outputs": []
    },
    {
      "cell_type": "code",
      "source": [
        "def main(self):\n",
        "    '''\n",
        "    Function to be called for complete preprocessing of application_train and application_test tables.\n",
        "    \n",
        "    Inputs:\n",
        "        self\n",
        "        \n",
        "    Returns:\n",
        "        Final pre=processed application_train and application_test tables.\n",
        "    '''\n",
        "\n",
        "    #loading the DataFrames first\n",
        "    self.load_dataframes()\n",
        "    #first doing Data Cleaning\n",
        "    self.data_cleaning()\n",
        "    #predicting the missing values of EXT_SOURCE columns\n",
        "    self.ext_source_values_predictor()\n",
        "    \n",
        "    #doing the feature engineering\n",
        "    if self.verbose:\n",
        "        start = datetime.now()\n",
        "        print(\"\\nStarting Feature Engineering...\")\n",
        "        print(\"\\nCreating Domain Based Features on Numeric Data\")\n",
        "    #Creating Numeric features based on domain knowledge\n",
        "    self.application_train = self.numeric_feature_engineering(self.application_train)\n",
        "    self.application_test = self.numeric_feature_engineering(self.application_test)\n",
        "    #500 Neighbors Target mean\n",
        "    self.neighbors_EXT_SOURCE_feature()\n",
        "    if self.verbose:\n",
        "        print(\"Done.\")\n",
        "        print(f\"Time Taken = {datetime.now() - start}\")\n",
        "\n",
        "    if self.verbose:\n",
        "        start = datetime.now()\n",
        "        print(\"Creating features based on Categorical Interactions on some Numeric Features\")\n",
        "    #creating features based on categorical interactions\n",
        "    self.application_train, self.application_test = self.categorical_interaction_features(self.application_train, self.application_test)   \n",
        "    if self.verbose:\n",
        "        print(\"Done.\")\n",
        "                    print(f\"Time taken = {datetime.now() - start}\")\n",
        "    \n",
        "    #using response coding on categorical features, to keep the dimensionality in check\n",
        "    #categorical columns to perform response coding on\n",
        "    categorical_columns_application = self.application_train.dtypes[self.application_train.dtypes == 'object'].index.tolist()\n",
        "    for col in categorical_columns_application:\n",
        "        #extracting the dictionary with values corresponding to TARGET variable 0 and 1 for each of the categories\n",
        "        mapping_dictionary = self.response_fit(self.application_train, col)\n",
        "        #saving the mapping dictionary to pickle file\n",
        "        with open(f'Response_coding_dict_{col}.pkl', 'wb') as f:\n",
        "            pickle.dump(mapping_dictionary, f)\n",
        "        #mapping this dictionary with our DataFrame\n",
        "        self.response_transform(self.application_train, col, mapping_dictionary)\n",
        "        self.response_transform(self.application_test, col, mapping_dictionary)\n",
        "        #removing the original categorical columns\n",
        "        _ = self.application_train.pop(col)\n",
        "        _ = self.application_test.pop(col)\n",
        "    \n",
        "    if self.verbose:\n",
        "        print('Done preprocessing appplication_train and application_test.')\n",
        "        print(f\"\\nInitial Size of application_train: {self.initial_shape}\")\n",
        "        print(f'Size of application_train after Pre-Processing and Feature Engineering: {self.application_train.shape}')\n",
        "        print(f'\\nTotal Time Taken = {datetime.now() - self.start}')\n",
        "\n",
        "    if self.dump_to_pickle:\n",
        "        if self.verbose:\n",
        "            print('\\nPickling pre-processed application_train and application_test to application_train_preprocessed.pkl and application_test_preprocessed, respectively.')\n",
        "        with open(self.file_directory + 'application_train_preprocessed.pkl', 'wb') as f:\n",
        "            pickle.dump(self.application_train, f)\n",
        "        with open(self.file_directory + 'application_test_preprocessed.pkl', 'wb') as f:\n",
        "            pickle.dump(self.application_test, f)\n",
        "        if self.verbose:\n",
        "            print('Done.')  \n",
        "    if self.verbose:\n",
        "        print('-'*100)\n",
        "    return self.application_train, self.application_test"
      ],
      "metadata": {
        "id": "KhwW8y-29RT7"
      },
      "execution_count": null,
      "outputs": []
    },
    {
      "cell_type": "code",
      "source": [
        "application_train, application_test = preprocess_application_train_test(dump_to_pickle = True).main()"
      ],
      "metadata": {
        "colab": {
          "base_uri": "https://localhost:8080/",
          "height": 165
        },
        "id": "SUoKQTP79RY_",
        "outputId": "f68f8854-b42e-455e-b62a-d83253a996b9"
      },
      "execution_count": null,
      "outputs": [
        {
          "output_type": "error",
          "ename": "NameError",
          "evalue": "ignored",
          "traceback": [
            "\u001b[0;31m---------------------------------------------------------------------------\u001b[0m",
            "\u001b[0;31mNameError\u001b[0m                                 Traceback (most recent call last)",
            "\u001b[0;32m<ipython-input-9-8a284e766642>\u001b[0m in \u001b[0;36m<module>\u001b[0;34m()\u001b[0m\n\u001b[0;32m----> 1\u001b[0;31m \u001b[0mapplication_train\u001b[0m\u001b[0;34m,\u001b[0m \u001b[0mapplication_test\u001b[0m \u001b[0;34m=\u001b[0m \u001b[0mpreprocess_application_train_test\u001b[0m\u001b[0;34m(\u001b[0m\u001b[0mdump_to_pickle\u001b[0m \u001b[0;34m=\u001b[0m \u001b[0;32mTrue\u001b[0m\u001b[0;34m)\u001b[0m\u001b[0;34m.\u001b[0m\u001b[0mmain\u001b[0m\u001b[0;34m(\u001b[0m\u001b[0;34m)\u001b[0m\u001b[0;34m\u001b[0m\u001b[0;34m\u001b[0m\u001b[0m\n\u001b[0m",
            "\u001b[0;31mNameError\u001b[0m: name 'preprocess_application_train_test' is not defined"
          ]
        }
      ]
    },
    {
      "cell_type": "code",
      "source": [
        ""
      ],
      "metadata": {
        "id": "LOUutJ5c9Go6"
      },
      "execution_count": null,
      "outputs": []
    },
    {
      "cell_type": "code",
      "source": [
        "# - AGGREGATION DES VARIABLES STATISTIQUES des VAR QUANTITATIVES\n",
        "\n",
        "def agg_var_num(dataframe, group_var, dict_agg, prefix):\n",
        "    \"\"\"\n",
        "    Aggregates the numeric values in a dataframe.\n",
        "    This can be used to create features for each instance of the grouping variable.\n",
        "    Parameters\n",
        "    --------\n",
        "        dataframe (dataframe): the dataframe to calculate the statistics on\n",
        "        group_var (string): the variable by which to group df\n",
        "        df_name (string): the variable used to rename the columns\n",
        "    Return\n",
        "    --------\n",
        "        agg (dataframe): \n",
        "            a dataframe with the statistics aggregated for \n",
        "            all numeric columns. Each instance of the grouping variable will have \n",
        "            some statistics (mean, min, max, sum ...) calculated. \n",
        "            The columns are also renamed to keep track of features created.\n",
        "    \n",
        "    \"\"\"\n",
        "    # Remove id variables other than grouping variable\n",
        "    for col in dataframe:\n",
        "        if col != group_var and 'SK_ID' in col:\n",
        "            dataframe = dataframe.drop(columns=col)\n",
        "\n",
        "    group_ids = dataframe[group_var]\n",
        "    numeric_df = dataframe.select_dtypes('number')\n",
        "    numeric_df[group_var] = group_ids\n",
        "\n",
        "    # Group by the specified variable and calculate the statistics\n",
        "    agg = numeric_df.groupby(group_var).agg(dict_agg)\n",
        "\n",
        "    # Ajout suffix mean, sum...\n",
        "    agg.columns = ['_'.join(tup).strip().upper()\n",
        "                   for tup in agg.columns.values]\n",
        "\n",
        "    # Ajout du prefix bureau_balance pour avoir une idée du fichier\n",
        "    agg.columns = [prefix + '_' + col\n",
        "                   if col != group_var else col\n",
        "                   for col in agg.columns]\n",
        "\n",
        "    agg.reset_index(inplace=True)\n",
        "\n",
        "    return agg"
      ],
      "metadata": {
        "id": "1RePoFJ1S41C"
      },
      "execution_count": null,
      "outputs": []
    },
    {
      "cell_type": "code",
      "source": [
        "# --------------------------------------------------------------------\n",
        "# -- AGGREGATION DES VARIABLES STATISTIQUES des VAR QUALITATIVES\n",
        "# --------------------------------------------------------------------\n",
        "\n",
        "def agg_var_cat(dataframe, group_var, prefix):\n",
        "    '''\n",
        "        Aggregates the categorical features in a child dataframe\n",
        "        for each observation of the parent variable.\n",
        "        \n",
        "        Parameters\n",
        "        --------\n",
        "        - dataframe        : pandas dataframe\n",
        "                    The dataframe to calculate the value counts for.\n",
        "            \n",
        "        - parent_var : string\n",
        "                    The variable by which to group and aggregate \n",
        "                    the dataframe. For each unique value of this variable, \n",
        "                    the final dataframe will have one row\n",
        "            \n",
        "        - prefix    : string\n",
        "                    Variable added to the front of column names \n",
        "                    to keep track of columns\n",
        "        Return\n",
        "        --------\n",
        "        categorical : pandas dataframe\n",
        "                    A dataframe with aggregated statistics for each observation \n",
        "                    of the parent_var\n",
        "                    The columns are also renamed and columns with duplicate values \n",
        "                    are removed.\n",
        "    '''\n",
        "\n",
        "    # Select the categorical columns\n",
        "    categorical = pd.get_dummies(dataframe.select_dtypes('object'))\n",
        "\n",
        "    # Make sure to put the identifying id on the column\n",
        "    categorical[group_var] = dataframe[group_var]\n",
        "\n",
        "    # Groupby the group var and calculate the sum and mean\n",
        "    categorical = categorical.groupby(group_var).agg(['sum', 'count', 'mean'])\n",
        "    \n",
        "    column_names = []\n",
        "    \n",
        "    # Iterate through the columns in level 0\n",
        "    for var in categorical.columns.levels[0]:\n",
        "        # Iterate through the stats in level 1\n",
        "        for stat in ['sum', 'count', 'mean']:\n",
        "            # Make a new column name\n",
        "            column_names.append('%s_%s_%s' % (prefix, var, stat))\n",
        "    \n",
        "    categorical.columns = column_names\n",
        "    \n",
        "    # Remove duplicate columns by values\n",
        "    # _, idx = np.unique(categorical, axis = 1, return_index = True)\n",
        "    # categorical = categorical.iloc[:, idx]\n",
        "    \n",
        "    return categorical\n"
      ],
      "metadata": {
        "id": "qJscHcW9TKnC"
      },
      "execution_count": null,
      "outputs": []
    },
    {
      "cell_type": "code",
      "source": [
        "# --------------------------------------------------------------------\n",
        "# -- AGGREGATION DES VARIABLES STATISTIQUES des VAR QUANTITATIVES\n",
        "# -- PAR MOYENNE PAR SK_ID_CURR de prêts\n",
        "# --------------------------------------------------------------------\n",
        "\n",
        "def agg_moy_par_pret(dataframe, group_var, prefix):\n",
        "    \"\"\"Aggregates the numeric values in a dataframe. This can\n",
        "    be used to create features for each instance of the grouping variable.\n",
        "    \n",
        "    Parameters\n",
        "    --------\n",
        "        dataframe (dataframe): \n",
        "            the dataframe to calculate the statistics on\n",
        "        group_var (string): \n",
        "            the variable by which to group df\n",
        "        prefix (string): \n",
        "            the variable used to rename the columns\n",
        "        \n",
        "    Return\n",
        "\n",
        "\n",
        "\n",
        "    --------\n",
        "        agg (dataframe): \n",
        "            a dataframe with the statistics aggregated for \n",
        "            all numeric columns. Each instance of the grouping variable will have \n",
        "            the statistics (mean, min, max, sum; currently supported) calculated. \n",
        "            The columns are also renamed to keep track of features created.\n",
        "    \n",
        "    \"\"\"\n",
        "    # Remove id variables other than grouping variable\n",
        "    for col in dataframe:\n",
        "        if col != group_var and 'SK_ID' in col:\n",
        "            dataframe = dataframe.drop(columns = col)\n",
        "            \n",
        "    group_ids = dataframe[group_var]\n",
        "    numeric_df = dataframe.select_dtypes('number')\n",
        "    numeric_df[group_var] = group_ids\n",
        "\n",
        "    # Group by the specified variable and calculate the statistics\n",
        "    agg = numeric_df.groupby(group_var).agg(['mean']).reset_index()\n",
        "\n",
        "    # Need to create new column names\n",
        "    columns = [group_var]\n",
        "\n",
        "    # Iterate through the variables names\n",
        "    for var in agg.columns.levels[0]:\n",
        "        # Skip the grouping variable\n",
        "        if var != group_var:\n",
        "            # Iterate through the stat names\n",
        "            for stat in agg.columns.levels[1][:-1]:\n",
        "                # Make a new column name for the variable and stat\n",
        "                columns.append('%s_%s_%s' % (prefix, var, stat))\n",
        "\n",
        "    agg.columns = columns\n",
        "    \n",
        "    return agg\n"
      ],
      "metadata": {
        "id": "x8LhdrqrTKrH"
      },
      "execution_count": null,
      "outputs": []
    },
    {
      "cell_type": "code",
      "source": [
        ""
      ],
      "metadata": {
        "id": "rBsnibtMTbzw"
      },
      "execution_count": null,
      "outputs": []
    },
    {
      "cell_type": "code",
      "source": [
        ""
      ],
      "metadata": {
        "id": "u0wmKAICTb3n"
      },
      "execution_count": null,
      "outputs": []
    },
    {
      "cell_type": "code",
      "source": [
        ""
      ],
      "metadata": {
        "id": "NugW4vY2qx4I"
      },
      "execution_count": null,
      "outputs": []
    },
    {
      "cell_type": "code",
      "source": [
        ""
      ],
      "metadata": {
        "id": "ozZvyEZhQLA2"
      },
      "execution_count": null,
      "outputs": []
    },
    {
      "cell_type": "code",
      "source": [
        "    #enquires\n",
        "    data['AMT_ENQ_SUM'] = data['AMT_REQ_CREDIT_BUREAU_HOUR'] + data['AMT_REQ_CREDIT_BUREAU_DAY'] + data['AMT_REQ_CREDIT_BUREAU_WEEK'] + data[\n",
        "                        'AMT_REQ_CREDIT_BUREAU_MON'] + data['AMT_REQ_CREDIT_BUREAU_QRT'] + data['AMT_REQ_CREDIT_BUREAU_YEAR']\n",
        "    data['ENQ_CREDIT_RATIO'] = data['AMT_ENQ_SUM'] / (data['AMT_CREDIT'] + 0.00001)\n",
        "    \n",
        "    cnt_payment = cnt_payment_prediction(data)\n",
        "    data['EXPECTED_CNT_PAYMENT'] = cnt_payment\n",
        "    data['EXPECTED_INTEREST'] = data['AMT_ANNUITY'] *  data['EXPECTED_CNT_PAYMENT'] - data['AMT_CREDIT']\n",
        "    data['EXPECTED_INTEREST_SHARE'] = data['EXPECTED_INTEREST'] / (data['AMT_CREDIT'] + 0.00001)\n",
        "    data['EXPECTED_INTEREST_RATE'] = 2 * 12 * data['EXPECTED_INTEREST'] / (data['AMT_CREDIT'] * (data['EXPECTED_CNT_PAYMENT'] + 1))\n",
        "                \n",
        "    return data"
      ],
      "metadata": {
        "id": "PjIhPoYxtjs4"
      },
      "execution_count": null,
      "outputs": []
    },
    {
      "cell_type": "code",
      "source": [
        ""
      ],
      "metadata": {
        "id": "XncQsJwEE87n"
      },
      "execution_count": null,
      "outputs": []
    },
    {
      "cell_type": "code",
      "source": [
        ""
      ],
      "metadata": {
        "id": "BpBt9fFFE8_f"
      },
      "execution_count": null,
      "outputs": []
    },
    {
      "cell_type": "code",
      "source": [
        ""
      ],
      "metadata": {
        "id": "lYK_OYy5E9Fv"
      },
      "execution_count": null,
      "outputs": []
    },
    {
      "cell_type": "code",
      "source": [
        ""
      ],
      "metadata": {
        "id": "IL7mzqOe6jJ-"
      },
      "execution_count": null,
      "outputs": []
    },
    {
      "cell_type": "code",
      "source": [
        ""
      ],
      "metadata": {
        "id": "sSCuxZhA6jNr"
      },
      "execution_count": null,
      "outputs": []
    },
    {
      "cell_type": "code",
      "source": [
        ""
      ],
      "metadata": {
        "id": "sRjT4_Ra6jTU"
      },
      "execution_count": null,
      "outputs": []
    },
    {
      "cell_type": "code",
      "source": [
        ""
      ],
      "metadata": {
        "id": "oltWhAlMG6zx"
      },
      "execution_count": null,
      "outputs": []
    },
    {
      "cell_type": "markdown",
      "source": [
        "## **previous_application**"
      ],
      "metadata": {
        "id": "byz0eZEwG2V5"
      }
    },
    {
      "cell_type": "code",
      "source": [
        "#engineering some features on domain knowledge\n",
        "previous_application['MISSING_VALUES_TOTAL_PREV'] = previous_application.isna().sum(axis = 1)\n",
        "previous_application['AMT_DECLINED'] = previous_application['AMT_APPLICATION'] - previous_application['AMT_CREDIT']\n",
        "previous_application['AMT_CREDIT_GOODS_RATIO'] = previous_application['AMT_CREDIT'] / (previous_application['AMT_GOODS_PRICE'] + 0.00001)\n",
        "previous_application['AMT_CREDIT_GOODS_DIFF'] = previous_application['AMT_CREDIT'] - previous_application['AMT_GOODS_PRICE']\n",
        "previous_application['AMT_CREDIT_APPLICATION_RATIO'] = previous_application['AMT_APPLICATION'] / (previous_application['AMT_CREDIT'] + 0.00001)\n",
        "previous_application['CREDIT_DOWNPAYMENT_RATIO'] = previous_application['AMT_DOWN_PAYMENT'] / (previous_application['AMT_CREDIT'] + 0.00001)\n",
        "previous_application['GOOD_DOWNPAYMET_RATIO'] = previous_application['AMT_DOWN_PAYMENT'] / (previous_application['AMT_GOODS_PRICE'] + 0.00001)\n",
        "previous_application['INTEREST_DOWNPAYMENT'] = previous_application['RATE_DOWN_PAYMENT'] * previous_application['AMT_DOWN_PAYMENT']\n",
        "previous_application['INTEREST_CREDIT'] = previous_application['AMT_CREDIT'] * previous_application['RATE_INTEREST_PRIMARY']\n",
        "previous_application['INTEREST_CREDIT_PRIVILEGED'] = previous_application['AMT_CREDIT'] * previous_application['RATE_INTEREST_PRIVILEGED']\n",
        "previous_application['APPLICATION_AMT_TO_DECISION_RATIO'] = previous_application['AMT_APPLICATION'] / (previous_application['DAYS_DECISION'] + 0.00001) * -1\n",
        "previous_application['AMT_APPLICATION_TO_SELLERPLACE_AREA'] = previous_application['AMT_APPLICATION'] / (previous_application['SELLERPLACE_AREA'] + 0.00001)\n",
        "previous_application['ANNUITY'] = previous_application['AMT_CREDIT'] / (previous_application['CNT_PAYMENT'] + 0.00001)\n",
        "previous_application['ANNUITY_GOODS'] = previous_application['AMT_GOODS_PRICE'] / (previous_application['CNT_PAYMENT'] + 0.00001)\n",
        "previous_application['DAYS_FIRST_LAST_DUE_DIFF' ] = previous_application['DAYS_LAST_DUE'] - previous_application['DAYS_FIRST_DUE']\n",
        "previous_application['AMT_CREDIT_HOUR_PROCESS_START'] = sprevious_application['AMT_CREDIT'] * previous_application['HOUR_APPR_PROCESS_START']\n",
        "previous_application['AMT_CREDIT_NFLAG_LAST_APPL_DAY'] = previous_application['AMT_CREDIT'] * previous_application['NFLAG_LAST_APPL_IN_DAY']\n",
        "previous_application['AMT_CREDIT_YIELD_GROUP'] = previous_application['AMT_CREDIT'] * previous_application['NAME_YIELD_GROUP']\n",
        "\n",
        "#https://www.kaggle.com/c/home-credit-default-risk/discussion/64598\n",
        "self.previous_application['AMT_INTEREST'] = self.previous_application['CNT_PAYMENT'] * self.previous_application[\n",
        "                                        'AMT_ANNUITY'] - self.previous_application['AMT_CREDIT'] \n",
        "self.previous_application['INTEREST_SHARE'] = self.previous_application['AMT_INTEREST'] / (self.previous_application[\n",
        "                                                                                        'AMT_CREDIT'] + 0.00001)\n",
        "self.previous_application['INTEREST_RATE'] = 2 * 12 * self.previous_application['AMT_INTEREST'] / (self.previous_application[\n",
        "                                    'AMT_CREDIT'] * (self.previous_application['CNT_PAYMENT'] + 1))"
      ],
      "metadata": {
        "id": "tizrB7CZ6jWj"
      },
      "execution_count": null,
      "outputs": []
    },
    {
      "cell_type": "code",
      "source": [
        ""
      ],
      "metadata": {
        "id": "t6wbq9SC6jZ8"
      },
      "execution_count": null,
      "outputs": []
    },
    {
      "cell_type": "markdown",
      "source": [
        "## **installments_payments**"
      ],
      "metadata": {
        "id": "ZzvY573UHLs1"
      }
    },
    {
      "cell_type": "code",
      "source": [
        " #engineering new features based on some domain based polynomial operations\n",
        "installments_payments['DAYS_PAYMENT_RATIO'] = installments_payments['DAYS_INSTALMENT'] / (installments_payments['DAYS_ENTRY_PAYMENT'] + 0.00001)\n",
        "installments_payments['DAYS_PAYMENT_DIFF'] = installments_payments['DAYS_INSTALMENT'] - installments_payments['DAYS_ENTRY_PAYMENT']\n",
        "installments_payments['AMT_PAYMENT_RATIO'] = installments_payments['AMT_PAYMENT'] / (installments_payments['AMT_INSTALMENT'] + 0.00001)\n",
        "installments_payments['AMT_PAYMENT_DIFF'] = installments_payments['AMT_INSTALMENT'] - installments_payments['AMT_PAYMENT']\n",
        "installments_payments['EXP_DAYS_PAYMENT_RATIO'] = installments_payments['DAYS_PAYMENT_RATIO'].transform(lambda x: x.ewm(alpha = 0.5).mean())\n",
        "installments_payments['EXP_DAYS_PAYMENT_DIFF'] = installments_payments['DAYS_PAYMENT_DIFF'].transform(lambda x: x.ewm(alpha = 0.5).mean())\n",
        "installments_payments['EXP_AMT_PAYMENT_RATIO'] = installments_payments['AMT_PAYMENT_RATIO'].transform(lambda x: x.ewm(alpha = 0.5).mean())\n",
        "installments_payments['EXP_AMT_PAYMENT_DIFF'] = installments_payments['AMT_PAYMENT_DIFF'].transform(lambda x: x.ewm(alpha = 0.5).mean())\n"
      ],
      "metadata": {
        "id": "ErMsR3i-E9J6"
      },
      "execution_count": null,
      "outputs": []
    },
    {
      "cell_type": "code",
      "source": [
        ""
      ],
      "metadata": {
        "id": "NE7aFt8HL4uO"
      },
      "execution_count": null,
      "outputs": []
    },
    {
      "cell_type": "code",
      "source": [
        ""
      ],
      "metadata": {
        "id": "21xwFIwhL42I"
      },
      "execution_count": null,
      "outputs": []
    },
    {
      "cell_type": "markdown",
      "source": [
        "## **POS_CASH_balance.csv**"
      ],
      "metadata": {
        "id": "cKh9hPJIL6q8"
      }
    },
    {
      "cell_type": "code",
      "source": [
        " #making the MONTHS_BALANCE Positive\n",
        "        self.pos_cash['MONTHS_BALANCE'] = np.abs(self.pos_cash['MONTHS_BALANCE'])\n",
        "        #sorting the DataFrame according to the month of status from oldest to latest, for rolling computations\n",
        "        self.pos_cash = self.pos_cash.sort_values(by=['SK_ID_PREV', 'MONTHS_BALANCE'], ascending=False)\n",
        "\n",
        "        #computing Exponential Moving Average for some features based on MONTHS_BALANCE\n",
        "        columns_for_ema = ['CNT_INSTALMENT', 'CNT_INSTALMENT_FUTURE']\n",
        "        exp_columns = ['EXP_'+ele for ele in columns_for_ema]\n",
        "        self.pos_cash[exp_columns] = self.pos_cash.groupby('SK_ID_PREV')[columns_for_ema].transform(lambda x: x.ewm(alpha = 0.6).mean())\n",
        "\n",
        "        #creating new features based on Domain Knowledge\n",
        "        self.pos_cash['SK_DPD_RATIO'] = self.pos_cash['SK_DPD'] / (self.pos_cash['SK_DPD_DEF'] + 0.00001)\n",
        "        self.pos_cash['TOTAL_TERM'] = self.pos_cash['CNT_INSTALMENT'] + self.pos_cash['CNT_INSTALMENT_FUTURE']\n",
        "        self.pos_cash['EXP_POS_TOTAL_TERM'] = self.pos_cash['EXP_CNT_INSTALMENT'] + self.pos_cash['EXP_CNT_INSTALMENT_FUTURE']\n",
        "        "
      ],
      "metadata": {
        "id": "g4fghvj7L47z"
      },
      "execution_count": null,
      "outputs": []
    },
    {
      "cell_type": "code",
      "source": [
        ""
      ],
      "metadata": {
        "id": "ukw3tzU3L5A7"
      },
      "execution_count": null,
      "outputs": []
    },
    {
      "cell_type": "code",
      "source": [
        ""
      ],
      "metadata": {
        "id": "yobxWiGZL5Gq"
      },
      "execution_count": null,
      "outputs": []
    },
    {
      "cell_type": "code",
      "source": [
        "def merge_all_tables(application_train, application_test, bureau_aggregated, previous_aggregated, \n",
        "                    installments_aggregated, pos_aggregated, cc_aggregated):\n",
        "    '''\n",
        "    Function to merge all the tables together with the application_train and application_test tables\n",
        "    on SK_ID_CURR.\n",
        "    \n",
        "    Inputs:\n",
        "        All the previously pre-processed Tables.\n",
        "        \n",
        "    Returns:\n",
        "        Single merged tables, one for training data and one for test data\n",
        "    '''\n",
        "\n",
        "    #merging application_train and application_test with Aggregated bureau table\n",
        "    app_train_merged = application_train.merge(bureau_aggregated, on = 'SK_ID_CURR', how = 'left')\n",
        "    app_test_merged = application_test.merge(bureau_aggregated, on = 'SK_ID_CURR', how = 'left')\n",
        "    #merging with aggregated previous_applications\n",
        "    app_train_merged = app_train_merged.merge(previous_aggregated, on = 'SK_ID_CURR', how = 'left')\n",
        "    app_test_merged = app_test_merged.merge(previous_aggregated, on = 'SK_ID_CURR', how = 'left')\n",
        "    #merging with aggregated installments tables\n",
        "    app_train_merged = app_train_merged.merge(installments_aggregated, on = 'SK_ID_CURR', how = 'left')\n",
        "    app_test_merged = app_test_merged.merge(installments_aggregated, on = 'SK_ID_CURR', how = 'left')\n",
        "    #merging with aggregated POS_Cash balance table\n",
        "    app_train_merged = app_train_merged.merge(pos_aggregated, on = 'SK_ID_CURR', how = 'left')\n",
        "    app_test_merged = app_test_merged.merge(pos_aggregated, on = 'SK_ID_CURR', how = 'left')\n",
        "    #merging with aggregated credit card table\n",
        "    app_train_merged = app_train_merged.merge(cc_aggregated, on = 'SK_ID_CURR', how = 'left')\n",
        "    app_test_merged = app_test_merged.merge(cc_aggregated, on = 'SK_ID_CURR', how = 'left')\n",
        "\n",
        "    return reduce_mem_usage(app_train_merged), reduce_mem_usage(app_test_merged)"
      ],
      "metadata": {
        "id": "Q1s_OjG7E9Qd"
      },
      "execution_count": null,
      "outputs": []
    },
    {
      "cell_type": "code",
      "source": [
        ""
      ],
      "metadata": {
        "id": "X8IpOJJYE9Vi"
      },
      "execution_count": null,
      "outputs": []
    },
    {
      "cell_type": "code",
      "source": [
        ""
      ],
      "metadata": {
        "id": "DeqBR4jLE9ZP"
      },
      "execution_count": null,
      "outputs": []
    }
  ]
}