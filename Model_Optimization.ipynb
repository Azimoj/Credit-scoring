{
  "cells": [
    {
      "cell_type": "markdown",
      "metadata": {
        "id": "view-in-github",
        "colab_type": "text"
      },
      "source": [
        "<a href=\"https://colab.research.google.com/github/Azimoj/Home-Credit-Default-Risk/blob/main/Model_Optimization.ipynb\" target=\"_parent\"><img src=\"https://colab.research.google.com/assets/colab-badge.svg\" alt=\"Open In Colab\"/></a>"
      ]
    },
    {
      "cell_type": "code",
      "execution_count": 1,
      "metadata": {
        "colab": {
          "base_uri": "https://localhost:8080/"
        },
        "id": "pUsiyVEkuoSi",
        "outputId": "8bf2f963-ad3c-49c2-e000-c0933b66eb74"
      },
      "outputs": [
        {
          "output_type": "stream",
          "name": "stdout",
          "text": [
            "Mounted at /content/drive\n"
          ]
        }
      ],
      "source": [
        "from google.colab import drive\n",
        "drive.mount(\"/content/drive\", force_remount=True)"
      ]
    },
    {
      "cell_type": "code",
      "execution_count": 2,
      "metadata": {
        "id": "3dntO80bu4QR"
      },
      "outputs": [],
      "source": [
        "import numpy as np # linear algebra\n",
        "import pandas as pd # data processing, CSV file I/O (e.g. pd.read_csv)\n",
        "\n",
        "import matplotlib\n",
        "import matplotlib.pyplot as plt\n",
        "import seaborn as sns\n",
        "%matplotlib inline \n",
        "plt.xkcd()\n",
        "\n",
        "import gc\n",
        "import time\n",
        "import warnings\n",
        "warnings.simplefilter(action = 'ignore', category = FutureWarning)\n",
        "from sklearn.model_selection import train_test_split\n",
        "from lightgbm import LGBMClassifier\n",
        "from sklearn.metrics import roc_auc_score, precision_score, recall_score\n",
        "from sklearn.model_selection import KFold, StratifiedKFold"
      ]
    },
    {
      "cell_type": "code",
      "execution_count": 3,
      "metadata": {
        "colab": {
          "base_uri": "https://localhost:8080/"
        },
        "id": "29XmM6x3u4Tx",
        "outputId": "85fbad58-39c8-43da-9856-2ed45d97238c"
      },
      "outputs": [
        {
          "output_type": "stream",
          "name": "stdout",
          "text": [
            "['POS_CASH_balance.csv', 'application_test.csv', 'application_train.csv', 'bureau_balance.csv', 'credit_card_balance.csv', 'installments_payments.csv', 'previous_application.csv', 'bureau.csv', 'bu_agg_final.csv', 'final_prev_df.csv', 'pos_agg_final.csv', 'ins_agg_final.csv', 'cc_agg_final.csv', 'bb_agg_final.csv', 'NEW_data_data.csv', 'X_scale_train.csv', 'X_train.csv', 'X_scale_test.csv', 'X_test.csv', 'result_XGB.csv', 'df_select_rf.csv', 'df_X_train_rf.csv', 'df_X_test_rf.csv', 'result_RF.csv', 'result_LightGBM.csv', 'X_train_final.csv', 'X_test_final.csv', 'y_test.csv', 'y_train.csv', 'LightGBM_impute_without_F0.csv', 'result_LightGBM_with_Feat0.csv', 'result_LightGBM_with_imput_F0.csv', 'result_LightGBM_with_imput_0F.csv', 'LightGBM_w_impute_without_0F.csv', 'result_LightGBM_wout_impute_w_0F.csv', 'result_LightGBM_wout_impute_0F.csv', 'Df_data.csv']\n"
          ]
        }
      ],
      "source": [
        "import os\n",
        "PATH = '/content/drive/MyDrive/p7/data/'\n",
        "print(os.listdir(PATH))"
      ]
    },
    {
      "cell_type": "code",
      "execution_count": null,
      "metadata": {
        "id": "7ywZp8iqwEra"
      },
      "outputs": [],
      "source": [
        ""
      ]
    },
    {
      "cell_type": "code",
      "execution_count": 4,
      "metadata": {
        "id": "nTfeBO8XwEwG"
      },
      "outputs": [],
      "source": [
        "def reduce_mem_usage(df):\n",
        "    \"\"\" iterate through all the columns of a dataframe and modify the data type\n",
        "        to reduce memory usage.        \n",
        "    \"\"\"\n",
        "    start_mem = df.memory_usage().sum() / 1024**2\n",
        "    print('Memory usage of dataframe is {:.2f} MB'.format(start_mem))\n",
        "    \n",
        "    for col in df.columns:\n",
        "        col_type = df[col].dtype\n",
        "        \n",
        "        if col_type != object:\n",
        "            c_min = df[col].min()\n",
        "            c_max = df[col].max()\n",
        "            if str(col_type)[:3] == 'int':\n",
        "                if c_min > np.iinfo(np.int8).min and c_max < np.iinfo(np.int8).max:\n",
        "                    df[col] = df[col].astype(np.int8)\n",
        "                elif c_min > np.iinfo(np.int16).min and c_max < np.iinfo(np.int16).max:\n",
        "                    df[col] = df[col].astype(np.int16)\n",
        "                elif c_min > np.iinfo(np.int32).min and c_max < np.iinfo(np.int32).max:\n",
        "                    df[col] = df[col].astype(np.int32)\n",
        "                elif c_min > np.iinfo(np.int64).min and c_max < np.iinfo(np.int64).max:\n",
        "                    df[col] = df[col].astype(np.int64)  \n",
        "            else:\n",
        "                if c_min > np.finfo(np.float16).min and c_max < np.finfo(np.float16).max:\n",
        "                    df[col] = df[col].astype(np.float16)\n",
        "                elif c_min > np.finfo(np.float32).min and c_max < np.finfo(np.float32).max:\n",
        "                    df[col] = df[col].astype(np.float32)\n",
        "                else:\n",
        "                    df[col] = df[col].astype(np.float64)\n",
        "        else:\n",
        "            df[col] = df[col].astype('category')\n",
        "\n",
        "    end_mem = df.memory_usage().sum() / 1024**2\n",
        "    print('Memory usage after optimization is: {:.2f} MB'.format(end_mem))\n",
        "    print('Decreased by {:.1f}%'.format(100 * (start_mem - end_mem) / start_mem))\n",
        "    \n",
        "    return df"
      ]
    },
    {
      "cell_type": "code",
      "execution_count": 5,
      "metadata": {
        "id": "zthm_Ycfu4Xk"
      },
      "outputs": [],
      "source": [
        "def import_data(file):\n",
        "    \"\"\"create a dataframe and optimize its memory usage\"\"\"\n",
        "    df = pd.read_csv(file, parse_dates=True, keep_date_col=True)\n",
        "    df = reduce_mem_usage(df)\n",
        "    return df"
      ]
    },
    {
      "cell_type": "code",
      "execution_count": 6,
      "metadata": {
        "colab": {
          "base_uri": "https://localhost:8080/"
        },
        "id": "p7FTTj6bvtR_",
        "outputId": "f8dac089-5d63-4798-ceae-f66046655206"
      },
      "outputs": [
        {
          "output_type": "stream",
          "name": "stdout",
          "text": [
            "Memory usage of dataframe is 286.23 MB\n",
            "Memory usage after optimization is: 59.54 MB\n",
            "Decreased by 79.2%\n",
            "Memory usage of dataframe is 45.00 MB\n",
            "Memory usage after optimization is: 9.40 MB\n",
            "Decreased by 79.1%\n"
          ]
        }
      ],
      "source": [
        "application_train = import_data(PATH+'application_train.csv')\n",
        "application_test = import_data(PATH+'application_test.csv')"
      ]
    },
    {
      "cell_type": "code",
      "execution_count": 7,
      "metadata": {
        "colab": {
          "base_uri": "https://localhost:8080/"
        },
        "id": "XjKxeKodz1jF",
        "outputId": "3e719ab8-c850-43a9-f5c5-2ebd00a789ee"
      },
      "outputs": [
        {
          "output_type": "stream",
          "name": "stdout",
          "text": [
            "Memory usage of dataframe is 1501.49 MB\n",
            "Memory usage after optimization is: 384.46 MB\n",
            "Decreased by 74.4%\n"
          ]
        }
      ],
      "source": [
        "data = import_data(PATH+'NEW_data_data.csv')"
      ]
    },
    {
      "cell_type": "code",
      "source": [
        "data.head(3)"
      ],
      "metadata": {
        "colab": {
          "base_uri": "https://localhost:8080/",
          "height": 254
        },
        "id": "lgz8KppGhdc4",
        "outputId": "8048c9d2-72df-49d2-8956-20b652aaf72a"
      },
      "execution_count": 8,
      "outputs": [
        {
          "output_type": "execute_result",
          "data": {
            "text/plain": [
              "   Unnamed: 0  SK_ID_CURR  TARGET  CODE_GENDER  FLAG_OWN_CAR  FLAG_OWN_REALTY  \\\n",
              "0           0      100002     1.0            0             0                0   \n",
              "1           1      100003     0.0            1             0                1   \n",
              "2           2      100004     0.0            0             1                0   \n",
              "\n",
              "   CNT_CHILDREN  AMT_INCOME_TOTAL  AMT_CREDIT  AMT_ANNUITY  ...  \\\n",
              "0             0          202500.0    406597.5      24700.5  ...   \n",
              "1             0          270000.0   1293502.5      35698.5  ...   \n",
              "2             0           67500.0    135000.0       6750.0  ...   \n",
              "\n",
              "   INSTAL_AMT_INSTALMENT_MEAN  INSTAL_AMT_INSTALMENT_SUM  \\\n",
              "0                32428.117188              194568.703125   \n",
              "1                 6493.328613              233759.828125   \n",
              "2                 5244.454102               73422.359375   \n",
              "\n",
              "   INSTAL_AMT_PAYMENT_MIN  INSTAL_AMT_PAYMENT_MAX  INSTAL_AMT_PAYMENT_MEAN  \\\n",
              "0            32426.279297            32428.484375             32428.117188   \n",
              "1             2705.760010            19978.695312              6493.328613   \n",
              "2             1346.400024             5250.509766              4494.381348   \n",
              "\n",
              "   INSTAL_AMT_PAYMENT_SUM  INSTAL_DAYS_ENTRY_PAYMENT_MAX  \\\n",
              "0           194568.703125                          -68.0   \n",
              "1           233759.828125                         -680.0   \n",
              "2            62921.339844                         -597.0   \n",
              "\n",
              "   INSTAL_DAYS_ENTRY_PAYMENT_MEAN  INSTAL_DAYS_ENTRY_PAYMENT_SUM  INSTAL_COUNT  \n",
              "0                       -123.3125                         -740.0           6.0  \n",
              "1                      -1755.0000                       -63182.0          36.0  \n",
              "2                       -742.0000                       -10390.0          14.0  \n",
              "\n",
              "[3 rows x 640 columns]"
            ],
            "text/html": [
              "\n",
              "  <div id=\"df-97f2b937-ae24-477c-830d-d118f057ebad\">\n",
              "    <div class=\"colab-df-container\">\n",
              "      <div>\n",
              "<style scoped>\n",
              "    .dataframe tbody tr th:only-of-type {\n",
              "        vertical-align: middle;\n",
              "    }\n",
              "\n",
              "    .dataframe tbody tr th {\n",
              "        vertical-align: top;\n",
              "    }\n",
              "\n",
              "    .dataframe thead th {\n",
              "        text-align: right;\n",
              "    }\n",
              "</style>\n",
              "<table border=\"1\" class=\"dataframe\">\n",
              "  <thead>\n",
              "    <tr style=\"text-align: right;\">\n",
              "      <th></th>\n",
              "      <th>Unnamed: 0</th>\n",
              "      <th>SK_ID_CURR</th>\n",
              "      <th>TARGET</th>\n",
              "      <th>CODE_GENDER</th>\n",
              "      <th>FLAG_OWN_CAR</th>\n",
              "      <th>FLAG_OWN_REALTY</th>\n",
              "      <th>CNT_CHILDREN</th>\n",
              "      <th>AMT_INCOME_TOTAL</th>\n",
              "      <th>AMT_CREDIT</th>\n",
              "      <th>AMT_ANNUITY</th>\n",
              "      <th>...</th>\n",
              "      <th>INSTAL_AMT_INSTALMENT_MEAN</th>\n",
              "      <th>INSTAL_AMT_INSTALMENT_SUM</th>\n",
              "      <th>INSTAL_AMT_PAYMENT_MIN</th>\n",
              "      <th>INSTAL_AMT_PAYMENT_MAX</th>\n",
              "      <th>INSTAL_AMT_PAYMENT_MEAN</th>\n",
              "      <th>INSTAL_AMT_PAYMENT_SUM</th>\n",
              "      <th>INSTAL_DAYS_ENTRY_PAYMENT_MAX</th>\n",
              "      <th>INSTAL_DAYS_ENTRY_PAYMENT_MEAN</th>\n",
              "      <th>INSTAL_DAYS_ENTRY_PAYMENT_SUM</th>\n",
              "      <th>INSTAL_COUNT</th>\n",
              "    </tr>\n",
              "  </thead>\n",
              "  <tbody>\n",
              "    <tr>\n",
              "      <th>0</th>\n",
              "      <td>0</td>\n",
              "      <td>100002</td>\n",
              "      <td>1.0</td>\n",
              "      <td>0</td>\n",
              "      <td>0</td>\n",
              "      <td>0</td>\n",
              "      <td>0</td>\n",
              "      <td>202500.0</td>\n",
              "      <td>406597.5</td>\n",
              "      <td>24700.5</td>\n",
              "      <td>...</td>\n",
              "      <td>32428.117188</td>\n",
              "      <td>194568.703125</td>\n",
              "      <td>32426.279297</td>\n",
              "      <td>32428.484375</td>\n",
              "      <td>32428.117188</td>\n",
              "      <td>194568.703125</td>\n",
              "      <td>-68.0</td>\n",
              "      <td>-123.3125</td>\n",
              "      <td>-740.0</td>\n",
              "      <td>6.0</td>\n",
              "    </tr>\n",
              "    <tr>\n",
              "      <th>1</th>\n",
              "      <td>1</td>\n",
              "      <td>100003</td>\n",
              "      <td>0.0</td>\n",
              "      <td>1</td>\n",
              "      <td>0</td>\n",
              "      <td>1</td>\n",
              "      <td>0</td>\n",
              "      <td>270000.0</td>\n",
              "      <td>1293502.5</td>\n",
              "      <td>35698.5</td>\n",
              "      <td>...</td>\n",
              "      <td>6493.328613</td>\n",
              "      <td>233759.828125</td>\n",
              "      <td>2705.760010</td>\n",
              "      <td>19978.695312</td>\n",
              "      <td>6493.328613</td>\n",
              "      <td>233759.828125</td>\n",
              "      <td>-680.0</td>\n",
              "      <td>-1755.0000</td>\n",
              "      <td>-63182.0</td>\n",
              "      <td>36.0</td>\n",
              "    </tr>\n",
              "    <tr>\n",
              "      <th>2</th>\n",
              "      <td>2</td>\n",
              "      <td>100004</td>\n",
              "      <td>0.0</td>\n",
              "      <td>0</td>\n",
              "      <td>1</td>\n",
              "      <td>0</td>\n",
              "      <td>0</td>\n",
              "      <td>67500.0</td>\n",
              "      <td>135000.0</td>\n",
              "      <td>6750.0</td>\n",
              "      <td>...</td>\n",
              "      <td>5244.454102</td>\n",
              "      <td>73422.359375</td>\n",
              "      <td>1346.400024</td>\n",
              "      <td>5250.509766</td>\n",
              "      <td>4494.381348</td>\n",
              "      <td>62921.339844</td>\n",
              "      <td>-597.0</td>\n",
              "      <td>-742.0000</td>\n",
              "      <td>-10390.0</td>\n",
              "      <td>14.0</td>\n",
              "    </tr>\n",
              "  </tbody>\n",
              "</table>\n",
              "<p>3 rows × 640 columns</p>\n",
              "</div>\n",
              "      <button class=\"colab-df-convert\" onclick=\"convertToInteractive('df-97f2b937-ae24-477c-830d-d118f057ebad')\"\n",
              "              title=\"Convert this dataframe to an interactive table.\"\n",
              "              style=\"display:none;\">\n",
              "        \n",
              "  <svg xmlns=\"http://www.w3.org/2000/svg\" height=\"24px\"viewBox=\"0 0 24 24\"\n",
              "       width=\"24px\">\n",
              "    <path d=\"M0 0h24v24H0V0z\" fill=\"none\"/>\n",
              "    <path d=\"M18.56 5.44l.94 2.06.94-2.06 2.06-.94-2.06-.94-.94-2.06-.94 2.06-2.06.94zm-11 1L8.5 8.5l.94-2.06 2.06-.94-2.06-.94L8.5 2.5l-.94 2.06-2.06.94zm10 10l.94 2.06.94-2.06 2.06-.94-2.06-.94-.94-2.06-.94 2.06-2.06.94z\"/><path d=\"M17.41 7.96l-1.37-1.37c-.4-.4-.92-.59-1.43-.59-.52 0-1.04.2-1.43.59L10.3 9.45l-7.72 7.72c-.78.78-.78 2.05 0 2.83L4 21.41c.39.39.9.59 1.41.59.51 0 1.02-.2 1.41-.59l7.78-7.78 2.81-2.81c.8-.78.8-2.07 0-2.86zM5.41 20L4 18.59l7.72-7.72 1.47 1.35L5.41 20z\"/>\n",
              "  </svg>\n",
              "      </button>\n",
              "      \n",
              "  <style>\n",
              "    .colab-df-container {\n",
              "      display:flex;\n",
              "      flex-wrap:wrap;\n",
              "      gap: 12px;\n",
              "    }\n",
              "\n",
              "    .colab-df-convert {\n",
              "      background-color: #E8F0FE;\n",
              "      border: none;\n",
              "      border-radius: 50%;\n",
              "      cursor: pointer;\n",
              "      display: none;\n",
              "      fill: #1967D2;\n",
              "      height: 32px;\n",
              "      padding: 0 0 0 0;\n",
              "      width: 32px;\n",
              "    }\n",
              "\n",
              "    .colab-df-convert:hover {\n",
              "      background-color: #E2EBFA;\n",
              "      box-shadow: 0px 1px 2px rgba(60, 64, 67, 0.3), 0px 1px 3px 1px rgba(60, 64, 67, 0.15);\n",
              "      fill: #174EA6;\n",
              "    }\n",
              "\n",
              "    [theme=dark] .colab-df-convert {\n",
              "      background-color: #3B4455;\n",
              "      fill: #D2E3FC;\n",
              "    }\n",
              "\n",
              "    [theme=dark] .colab-df-convert:hover {\n",
              "      background-color: #434B5C;\n",
              "      box-shadow: 0px 1px 3px 1px rgba(0, 0, 0, 0.15);\n",
              "      filter: drop-shadow(0px 1px 2px rgba(0, 0, 0, 0.3));\n",
              "      fill: #FFFFFF;\n",
              "    }\n",
              "  </style>\n",
              "\n",
              "      <script>\n",
              "        const buttonEl =\n",
              "          document.querySelector('#df-97f2b937-ae24-477c-830d-d118f057ebad button.colab-df-convert');\n",
              "        buttonEl.style.display =\n",
              "          google.colab.kernel.accessAllowed ? 'block' : 'none';\n",
              "\n",
              "        async function convertToInteractive(key) {\n",
              "          const element = document.querySelector('#df-97f2b937-ae24-477c-830d-d118f057ebad');\n",
              "          const dataTable =\n",
              "            await google.colab.kernel.invokeFunction('convertToInteractive',\n",
              "                                                     [key], {});\n",
              "          if (!dataTable) return;\n",
              "\n",
              "          const docLinkHtml = 'Like what you see? Visit the ' +\n",
              "            '<a target=\"_blank\" href=https://colab.research.google.com/notebooks/data_table.ipynb>data table notebook</a>'\n",
              "            + ' to learn more about interactive tables.';\n",
              "          element.innerHTML = '';\n",
              "          dataTable['output_type'] = 'display_data';\n",
              "          await google.colab.output.renderOutput(dataTable, element);\n",
              "          const docLink = document.createElement('div');\n",
              "          docLink.innerHTML = docLinkHtml;\n",
              "          element.appendChild(docLink);\n",
              "        }\n",
              "      </script>\n",
              "    </div>\n",
              "  </div>\n",
              "  "
            ]
          },
          "metadata": {},
          "execution_count": 8
        }
      ]
    },
    {
      "cell_type": "code",
      "source": [
        "data.drop('Unnamed: 0',inplace=True, axis=1)"
      ],
      "metadata": {
        "id": "nHQO1xFEhhCW"
      },
      "execution_count": 9,
      "outputs": []
    },
    {
      "cell_type": "markdown",
      "metadata": {
        "id": "6FGOCx5nAcLQ"
      },
      "source": [
        "**Imputation**"
      ]
    },
    {
      "cell_type": "code",
      "execution_count": 10,
      "metadata": {
        "colab": {
          "base_uri": "https://localhost:8080/"
        },
        "id": "G3b3CYHL_2EF",
        "outputId": "b71584d3-fa1a-43d2-c345-467e23a83e39"
      },
      "outputs": [
        {
          "output_type": "execute_result",
          "data": {
            "text/plain": [
              "BURO_NEW_FLAG_nan_MEAN_MEAN    0.749487\n",
              "BURO_MONTHS_BALANCE_MIN_MIN    0.749487\n",
              "BURO_STATUS_2_MEAN_MEAN        0.749487\n",
              "BURO_STATUS_1_MEAN_MEAN        0.749487\n",
              "BURO_STATUS_0_MEAN_MEAN        0.749487\n",
              "dtype: float64"
            ]
          },
          "metadata": {},
          "execution_count": 10
        }
      ],
      "source": [
        "# data missing values (in percent)\n",
        "data_missing = (data.isnull().sum() / len(data)).sort_values(ascending = False)\n",
        "data_missing.head()"
      ]
    },
    {
      "cell_type": "code",
      "execution_count": 11,
      "metadata": {
        "id": "ZIdMB-sf_2EG",
        "colab": {
          "base_uri": "https://localhost:8080/"
        },
        "outputId": "93824308-f3d4-409f-b1ff-727ea1e1800a"
      },
      "outputs": [
        {
          "output_type": "stream",
          "name": "stdout",
          "text": [
            "There are 78 columns with more than 50% missing values\n"
          ]
        }
      ],
      "source": [
        "# Identify missing values above threshold\n",
        "data_missing = data_missing.index[data_missing > 0.5]\n",
        "\n",
        "print('There are %d columns with more than 50%% missing values' % len(data_missing))"
      ]
    },
    {
      "cell_type": "code",
      "execution_count": 12,
      "metadata": {
        "colab": {
          "base_uri": "https://localhost:8080/"
        },
        "id": "6QUGQFDv_2EG",
        "outputId": "f55abba8-66a3-4489-8392-fd786f4201bb"
      },
      "outputs": [
        {
          "output_type": "stream",
          "name": "stdout",
          "text": [
            "data_clean set full shape:  (307505, 561)\n"
          ]
        }
      ],
      "source": [
        "data_clean = data.drop(columns = data_missing)\n",
        "\n",
        "print('data_clean set full shape: ', data_clean.shape)"
      ]
    },
    {
      "cell_type": "code",
      "execution_count": 13,
      "metadata": {
        "colab": {
          "base_uri": "https://localhost:8080/"
        },
        "id": "m839bg9e_2EG",
        "outputId": "aa39d9d3-fb99-48a1-9e1a-6d5c81d81981"
      },
      "outputs": [
        {
          "output_type": "execute_result",
          "data": {
            "text/plain": [
              "CLOSED_AMT_CREDIT_SUM_DEBT_SUM         153541\n",
              "CLOSED_AMT_CREDIT_SUM_MEAN             153541\n",
              "CLOSED_DAYS_CREDIT_MIN                 153541\n",
              "CLOSED_DAYS_CREDIT_MAX                 153541\n",
              "CLOSED_DAYS_CREDIT_MEAN                153541\n",
              "                                        ...  \n",
              "ORGANIZATION_TYPE_Industry: type 13         0\n",
              "ORGANIZATION_TYPE_Industry: type 12         0\n",
              "ORGANIZATION_TYPE_Industry: type 11         0\n",
              "ORGANIZATION_TYPE_Industry: type 10         0\n",
              "SK_ID_CURR                                  0\n",
              "Length: 561, dtype: int64"
            ]
          },
          "metadata": {},
          "execution_count": 13
        }
      ],
      "source": [
        "data_clean.isnull().sum().sort_values(ascending=False)"
      ]
    },
    {
      "cell_type": "code",
      "execution_count": 14,
      "metadata": {
        "id": "chATvWk9CV8q"
      },
      "outputs": [],
      "source": [
        "data_clean[data_clean==np.inf]=np.nan"
      ]
    },
    {
      "cell_type": "code",
      "execution_count": 15,
      "metadata": {
        "id": "t5Z9MjHbAGso"
      },
      "outputs": [],
      "source": [
        "# Imputaion with mod & median\n",
        "def filling_nan_value(df):\n",
        "  column_with_nan = df.columns[df.isnull().any()]\n",
        "  for column in column_with_nan:\n",
        "    df[column]= df[column].fillna(df[column].median())\n",
        "  return (df)"
      ]
    },
    {
      "cell_type": "code",
      "execution_count": 16,
      "metadata": {
        "id": "2xxqCBKJBzh7"
      },
      "outputs": [],
      "source": [
        "data_clean = filling_nan_value(data_clean)"
      ]
    },
    {
      "cell_type": "code",
      "execution_count": 17,
      "metadata": {
        "colab": {
          "base_uri": "https://localhost:8080/"
        },
        "id": "8Yw-3QVdCxst",
        "outputId": "09541567-876d-4659-941c-0af83073a20e"
      },
      "outputs": [
        {
          "output_type": "execute_result",
          "data": {
            "text/plain": [
              "SK_ID_CURR                                              0\n",
              "PREV_NAME_GOODS_CATEGORY_Construction Materials_MEAN    0\n",
              "PREV_NAME_CLIENT_TYPE_Refreshed_MEAN                    0\n",
              "PREV_NAME_CLIENT_TYPE_Repeater_MEAN                     0\n",
              "PREV_NAME_CLIENT_TYPE_nan_MEAN                          0\n",
              "dtype: int64"
            ]
          },
          "metadata": {},
          "execution_count": 17
        }
      ],
      "source": [
        "data_clean.isnull().sum().sort_values(ascending=False).head()"
      ]
    },
    {
      "cell_type": "code",
      "execution_count": 18,
      "metadata": {
        "colab": {
          "base_uri": "https://localhost:8080/"
        },
        "id": "mQRFVevIxzz8",
        "outputId": "37b52730-d228-46fb-fcba-73553a7e99a9"
      },
      "outputs": [
        {
          "output_type": "execute_result",
          "data": {
            "text/plain": [
              "94"
            ]
          },
          "metadata": {},
          "execution_count": 18
        }
      ],
      "source": [
        "gc.enable()\n",
        "del data \n",
        "gc.collect()"
      ]
    },
    {
      "cell_type": "code",
      "execution_count": 38,
      "metadata": {
        "id": "-6MG7tmsCTUd"
      },
      "outputs": [],
      "source": [
        "data_clean.to_csv('/content/drive/MyDrive/p7/data/data_clean.csv')"
      ]
    },
    {
      "cell_type": "markdown",
      "metadata": {
        "id": "7WEMeTkxDSnq"
      },
      "source": [
        "**Spliting**"
      ]
    },
    {
      "cell_type": "code",
      "source": [
        "X = data_clean.drop('TARGET',axis=1)\n",
        "y= data_clean['TARGET']"
      ],
      "metadata": {
        "id": "EY9WD05_IW-F"
      },
      "execution_count": 19,
      "outputs": []
    },
    {
      "cell_type": "code",
      "source": [
        "X_train, y_train, X_test, y_test= train_test_split(X, y, test_size=0.3, random_state=0)"
      ],
      "metadata": {
        "id": "dS8oek1MIwDb"
      },
      "execution_count": 20,
      "outputs": []
    },
    {
      "cell_type": "code",
      "source": [
        "X_train, X_test, y_train, y_test = train_test_split(X ,y,test_size = 0.3,random_state=0)\n",
        "print('The shape of X_train is', X_train.shape)\n",
        "print('The shape of X_test is', X_test.shape)\n",
        "print('The shape of y_train is', y_train.shape)\n",
        "print('The shape of y_test is', y_test.shape)"
      ],
      "metadata": {
        "colab": {
          "base_uri": "https://localhost:8080/"
        },
        "id": "HnAwbjolLKjI",
        "outputId": "fc04976f-14ed-4953-917c-312074852236"
      },
      "execution_count": 21,
      "outputs": [
        {
          "output_type": "stream",
          "name": "stdout",
          "text": [
            "The shape of X_train is (215253, 560)\n",
            "The shape of X_test is (92252, 560)\n",
            "The shape of y_train is (215253,)\n",
            "The shape of y_test is (92252,)\n"
          ]
        }
      ]
    },
    {
      "cell_type": "code",
      "source": [
        ""
      ],
      "metadata": {
        "id": "UebRJRcvLKnE"
      },
      "execution_count": null,
      "outputs": []
    },
    {
      "cell_type": "code",
      "source": [
        "import pickle\n",
        "\n",
        "model = 'drive/MyDrive/p7/LGBM_wout_imput_wout_0F.sav'\n",
        "pickle.load(open(model, 'rb'))"
      ],
      "metadata": {
        "colab": {
          "base_uri": "https://localhost:8080/"
        },
        "id": "SyHhQEa1Vnhf",
        "outputId": "0ffc4607-a7c4-429c-afe1-cd517aec72c2"
      },
      "execution_count": 22,
      "outputs": [
        {
          "output_type": "execute_result",
          "data": {
            "text/plain": [
              "LGBMClassifier(boosting_type='goss', class_weight='balanced',\n",
              "               n_estimators=10000, objective='binary')"
            ]
          },
          "metadata": {},
          "execution_count": 22
        }
      ]
    },
    {
      "cell_type": "code",
      "source": [
        "import lightgbm as lgb\n",
        "from sklearn.model_selection import cross_val_score\n",
        "from hyperopt import fmin, tpe, hp, STATUS_OK, Trials\n",
        "from time import time"
      ],
      "metadata": {
        "id": "FoNybwqYa-M9"
      },
      "execution_count": 44,
      "outputs": []
    },
    {
      "cell_type": "code",
      "source": [
        ""
      ],
      "metadata": {
        "id": "NJ7y1FavdG32"
      },
      "execution_count": null,
      "outputs": []
    },
    {
      "cell_type": "code",
      "source": [
        ""
      ],
      "metadata": {
        "id": "GGHbpQG7izvS"
      },
      "execution_count": null,
      "outputs": []
    },
    {
      "cell_type": "code",
      "source": [
        ""
      ],
      "metadata": {
        "id": "4GEpV6wgqIma"
      },
      "execution_count": null,
      "outputs": []
    },
    {
      "cell_type": "markdown",
      "source": [
        "### **Bayesian Optimization**\n",
        "\n",
        "Bayesian optimization uses probability to find the minimum of a function. The final aim is to find the input value to a function which can gives us the lowest possible output value.It usually performs better than random,grid and manual search providing better performance in the testing phase and reduced optimization time. In Hyperopt, Bayesian Optimization can be implemented giving 3 three main parameters to the function fmin.\n",
        "\n",
        "* Objective Function = defines the loss function to minimize.\n",
        "* Domain Space = defines the range of input values to test (in Bayesian Optimization this space creates a probability distribution for each of the used Hyperparameters).\n",
        "* Optimization Algorithm = defines the search algorithm to use to select the best input values to use in each new iteration."
      ],
      "metadata": {
        "id": "os1U76J_iU5F"
      }
    },
    {
      "cell_type": "markdown",
      "source": [
        "https://github.com/krishnaik06/All-Hyperparamter-Optimization/blob/master/Hyper%20Parameter%20Optimization.ipynb"
      ],
      "metadata": {
        "id": "-vhFE8BtiEdq"
      }
    },
    {
      "cell_type": "code",
      "source": [
        "from hyperopt import hp,fmin,tpe,STATUS_OK,Trials"
      ],
      "metadata": {
        "id": "dbaK7J0yF-tv"
      },
      "execution_count": 23,
      "outputs": []
    },
    {
      "cell_type": "code",
      "source": [
        "space = {'colsample_bytree': hp.uniform('colsample_bytree', 0.8, 1),\n",
        "          'learning_rate': hp.uniform('learning_rate', .01, .02), \n",
        "          'num_leaves': hp.choice('num_leaves', [33, 34, 35]), \n",
        "          'subsample': hp.uniform('subsample', 0.8, 1), \n",
        "          'max_depth': hp.choice('max_depth', [7, 8, 9]), \n",
        "          'reg_alpha': hp.uniform('reg_alpha', .03, .05), \n",
        "          'reg_lambda': hp.uniform('reg_lambda', .06, .08), \n",
        "          'min_split_gain': hp.uniform('min_split_gain', .01, .03),\n",
        "          'min_child_weight': hp.choice('min_child_weight', [38, 39, 40])}"
      ],
      "metadata": {
        "id": "MIvyGL9BF-xL"
      },
      "execution_count": 35,
      "outputs": []
    },
    {
      "cell_type": "code",
      "source": [
        "space"
      ],
      "metadata": {
        "colab": {
          "base_uri": "https://localhost:8080/"
        },
        "id": "DR4Sf5L5RoOU",
        "outputId": "7560141d-b2b3-4879-be70-e16ad01ca70d"
      },
      "execution_count": 25,
      "outputs": [
        {
          "output_type": "execute_result",
          "data": {
            "text/plain": [
              "{'colsample_bytree': <hyperopt.pyll.base.Apply at 0x7f4aa7d2f510>,\n",
              " 'learning_rate': <hyperopt.pyll.base.Apply at 0x7f4aa7d2f690>,\n",
              " 'max_depth': <hyperopt.pyll.base.Apply at 0x7f4aa7d2fb10>,\n",
              " 'min_child_weight': <hyperopt.pyll.base.Apply at 0x7f4aa72a95d0>,\n",
              " 'min_split_gain': <hyperopt.pyll.base.Apply at 0x7f4aa8f54310>,\n",
              " 'num_leaves': <hyperopt.pyll.base.Apply at 0x7f4aa7d2f810>,\n",
              " 'reg_alpha': <hyperopt.pyll.base.Apply at 0x7f4aa7d2fc90>,\n",
              " 'reg_lambda': <hyperopt.pyll.base.Apply at 0x7f4aa7d2fe10>,\n",
              " 'subsample': <hyperopt.pyll.base.Apply at 0x7f4aa7d2f990>}"
            ]
          },
          "metadata": {},
          "execution_count": 25
        }
      ]
    },
    {
      "cell_type": "code",
      "source": [
        ""
      ],
      "metadata": {
        "id": "i8sRIPmxUMfv"
      },
      "execution_count": null,
      "outputs": []
    },
    {
      "cell_type": "code",
      "source": [
        "def objective(space):\n",
        "    model = LGBMClassifier( colsample_bytree = space['colsample_bytree'], \n",
        "                            learning_rate = space['learning_rate'],\n",
        "                            num_leaves = space['num_leaves'],\n",
        "                            subsample = space['subsample'],\n",
        "                            max_depth = space['max_depth'],\n",
        "                            reg_alpha = space['reg_alpha'],\n",
        "                            reg_lambda = space['reg_lambda'],\n",
        "                            min_split_gain = space['min_split_gain'],\n",
        "                            min_child_weight = space['min_child_weight'], \n",
        "                            )\n",
        "    \n",
        "    accuracy = cross_val_score(model, X_train, y_train, cv = 5).mean()\n",
        "\n",
        "    # We aim to maximize accuracy, therefore we return it as a negative value\n",
        "    return {'loss': -accuracy, 'status': STATUS_OK }"
      ],
      "metadata": {
        "id": "bT6EPxfOF-z7"
      },
      "execution_count": 36,
      "outputs": []
    },
    {
      "cell_type": "code",
      "source": [
        "from sklearn.model_selection import cross_val_score\n",
        "trials = Trials()\n",
        "best = fmin(fn= objective,\n",
        "            space= space,\n",
        "            algo= tpe.suggest,\n",
        "            max_evals = 80,\n",
        "            trials= trials)\n",
        "best"
      ],
      "metadata": {
        "colab": {
          "base_uri": "https://localhost:8080/"
        },
        "id": "2gLf6z8lF-2k",
        "outputId": "ccab93f0-ee76-4dd6-e999-f4d6dc07498e"
      },
      "execution_count": 39,
      "outputs": [
        {
          "output_type": "stream",
          "name": "stdout",
          "text": [
            "100%|██████████| 80/80 [5:37:30<00:00, 253.13s/it, best loss: -0.9189372506384468]\n"
          ]
        },
        {
          "output_type": "execute_result",
          "data": {
            "text/plain": [
              "{'colsample_bytree': 0.897205838848013,\n",
              " 'learning_rate': 0.01903391441841755,\n",
              " 'max_depth': 1,\n",
              " 'min_child_weight': 1,\n",
              " 'min_split_gain': 0.023464913960387336,\n",
              " 'num_leaves': 1,\n",
              " 'reg_alpha': 0.03466317212004515,\n",
              " 'reg_lambda': 0.06855724195516467,\n",
              " 'subsample': 0.9904327467948528}"
            ]
          },
          "metadata": {},
          "execution_count": 39
        }
      ]
    },
    {
      "cell_type": "code",
      "source": [
        "num_leav = {0: 33, 1: 34, 2: 35,}\n",
        "max_dep = {0: 7, 1: 8, 2: 9}\n",
        "min_child_weight = {0: 38, 1: 39, 2: 40}\n",
        "\n",
        "\n",
        "print(num_leav[best['num_leaves']])\n",
        "print(max_dep[best['max_depth']])\n",
        "print(min_child_weight[best['min_child_weight']])"
      ],
      "metadata": {
        "id": "4ZV0ALYBF-6c",
        "colab": {
          "base_uri": "https://localhost:8080/"
        },
        "outputId": "e441e9af-9d5a-4aec-9581-b5e0628ae314"
      },
      "execution_count": 41,
      "outputs": [
        {
          "output_type": "stream",
          "name": "stdout",
          "text": [
            "34\n",
            "8\n",
            "39\n"
          ]
        }
      ]
    },
    {
      "cell_type": "code",
      "source": [
        "from sklearn.metrics import confusion_matrix\n",
        "from sklearn.metrics import accuracy_score\n",
        "from sklearn.metrics import classification_report\n",
        "\n",
        "trainedLGBM = LGBMClassifier(colsample_bytree = best['colsample_bytree'], \n",
        "                            learning_rate = best['learning_rate'],\n",
        "                            num_leaves = num_leav[best['num_leaves']],\n",
        "                            subsample = best['subsample'],\n",
        "                            max_depth = max_dep[best['max_depth']],\n",
        "                            reg_alpha = best['reg_alpha'],\n",
        "                            reg_lambda = best['reg_lambda'],\n",
        "                            min_split_gain = best['min_split_gain'],\n",
        "                            min_child_weight = min_child_weight[best['min_child_weight']],\n",
        "                            boosting_type='goss', class_weight='balanced',\n",
        "                            n_estimators=10000, objective='binary').fit(X_train,y_train)\n",
        "\n"
      ],
      "metadata": {
        "id": "aMHZeBU0F--z",
        "colab": {
          "base_uri": "https://localhost:8080/"
        },
        "outputId": "c5dcd669-e409-46c0-972c-914c71739f85"
      },
      "execution_count": 64,
      "outputs": [
        {
          "output_type": "stream",
          "name": "stdout",
          "text": [
            "[[76472  8404]\n",
            " [ 4881  2495]] /\n",
            "0.8559922820101461 /\n",
            "              precision    recall  f1-score   support\n",
            "\n",
            "         0.0       0.94      0.90      0.92     84876\n",
            "         1.0       0.23      0.34      0.27      7376\n",
            "\n",
            "    accuracy                           0.86     92252\n",
            "   macro avg       0.58      0.62      0.60     92252\n",
            "weighted avg       0.88      0.86      0.87     92252\n",
            "\n"
          ]
        }
      ]
    },
    {
      "cell_type": "code",
      "source": [
        "predictionLGBM = trainedLGBM.predict(X_test)\n",
        "print(confusion_matrix(y_test,predictionLGBM),'/n')\n",
        "print(accuracy_score(y_test,predictionLGBM),'/n')\n",
        "print(classification_report(y_test,predictionLGBM))\n",
        "acc5 = accuracy_score(y_test,predictionLGBM)"
      ],
      "metadata": {
        "id": "KtL8Eu66JH6B"
      },
      "execution_count": null,
      "outputs": []
    },
    {
      "cell_type": "code",
      "source": [
        "predictionLGBM = trainedLGBM.predict_proba(X_test)[:,1]"
      ],
      "metadata": {
        "id": "3a9QelV9s7Ak"
      },
      "execution_count": 57,
      "outputs": []
    },
    {
      "cell_type": "code",
      "source": [
        "import sklearn.metrics as me\n",
        "aa=me.confusion_matrix(y_test,predictionLGBM)"
      ],
      "metadata": {
        "colab": {
          "base_uri": "https://localhost:8080/",
          "height": 328
        },
        "id": "g1uLlsrEs7EG",
        "outputId": "8c984a64-1a6d-4a75-8ae6-3858a676e0a1"
      },
      "execution_count": 62,
      "outputs": [
        {
          "output_type": "error",
          "ename": "ValueError",
          "evalue": "ignored",
          "traceback": [
            "\u001b[0;31m---------------------------------------------------------------------------\u001b[0m",
            "\u001b[0;31mValueError\u001b[0m                                Traceback (most recent call last)",
            "\u001b[0;32m<ipython-input-62-d1eef8abbb13>\u001b[0m in \u001b[0;36m<module>\u001b[0;34m()\u001b[0m\n\u001b[1;32m      1\u001b[0m \u001b[0;32mimport\u001b[0m \u001b[0msklearn\u001b[0m\u001b[0;34m.\u001b[0m\u001b[0mmetrics\u001b[0m \u001b[0;32mas\u001b[0m \u001b[0mme\u001b[0m\u001b[0;34m\u001b[0m\u001b[0;34m\u001b[0m\u001b[0m\n\u001b[0;32m----> 2\u001b[0;31m \u001b[0maa\u001b[0m\u001b[0;34m=\u001b[0m\u001b[0mme\u001b[0m\u001b[0;34m.\u001b[0m\u001b[0mconfusion_matrix\u001b[0m\u001b[0;34m(\u001b[0m\u001b[0my_test\u001b[0m\u001b[0;34m,\u001b[0m\u001b[0mpredictionLGBM\u001b[0m\u001b[0;34m)\u001b[0m\u001b[0;34m\u001b[0m\u001b[0;34m\u001b[0m\u001b[0m\n\u001b[0m",
            "\u001b[0;32m/usr/local/lib/python3.7/dist-packages/sklearn/metrics/_classification.py\u001b[0m in \u001b[0;36mconfusion_matrix\u001b[0;34m(y_true, y_pred, labels, sample_weight, normalize)\u001b[0m\n\u001b[1;32m    305\u001b[0m     \u001b[0;34m(\u001b[0m\u001b[0;36m0\u001b[0m\u001b[0;34m,\u001b[0m \u001b[0;36m2\u001b[0m\u001b[0;34m,\u001b[0m \u001b[0;36m1\u001b[0m\u001b[0;34m,\u001b[0m \u001b[0;36m1\u001b[0m\u001b[0;34m)\u001b[0m\u001b[0;34m\u001b[0m\u001b[0;34m\u001b[0m\u001b[0m\n\u001b[1;32m    306\u001b[0m     \"\"\"\n\u001b[0;32m--> 307\u001b[0;31m     \u001b[0my_type\u001b[0m\u001b[0;34m,\u001b[0m \u001b[0my_true\u001b[0m\u001b[0;34m,\u001b[0m \u001b[0my_pred\u001b[0m \u001b[0;34m=\u001b[0m \u001b[0m_check_targets\u001b[0m\u001b[0;34m(\u001b[0m\u001b[0my_true\u001b[0m\u001b[0;34m,\u001b[0m \u001b[0my_pred\u001b[0m\u001b[0;34m)\u001b[0m\u001b[0;34m\u001b[0m\u001b[0;34m\u001b[0m\u001b[0m\n\u001b[0m\u001b[1;32m    308\u001b[0m     \u001b[0;32mif\u001b[0m \u001b[0my_type\u001b[0m \u001b[0;32mnot\u001b[0m \u001b[0;32min\u001b[0m \u001b[0;34m(\u001b[0m\u001b[0;34m\"binary\"\u001b[0m\u001b[0;34m,\u001b[0m \u001b[0;34m\"multiclass\"\u001b[0m\u001b[0;34m)\u001b[0m\u001b[0;34m:\u001b[0m\u001b[0;34m\u001b[0m\u001b[0;34m\u001b[0m\u001b[0m\n\u001b[1;32m    309\u001b[0m         \u001b[0;32mraise\u001b[0m \u001b[0mValueError\u001b[0m\u001b[0;34m(\u001b[0m\u001b[0;34m\"%s is not supported\"\u001b[0m \u001b[0;34m%\u001b[0m \u001b[0my_type\u001b[0m\u001b[0;34m)\u001b[0m\u001b[0;34m\u001b[0m\u001b[0;34m\u001b[0m\u001b[0m\n",
            "\u001b[0;32m/usr/local/lib/python3.7/dist-packages/sklearn/metrics/_classification.py\u001b[0m in \u001b[0;36m_check_targets\u001b[0;34m(y_true, y_pred)\u001b[0m\n\u001b[1;32m     93\u001b[0m         raise ValueError(\n\u001b[1;32m     94\u001b[0m             \"Classification metrics can't handle a mix of {0} and {1} targets\".format(\n\u001b[0;32m---> 95\u001b[0;31m                 \u001b[0mtype_true\u001b[0m\u001b[0;34m,\u001b[0m \u001b[0mtype_pred\u001b[0m\u001b[0;34m\u001b[0m\u001b[0;34m\u001b[0m\u001b[0m\n\u001b[0m\u001b[1;32m     96\u001b[0m             )\n\u001b[1;32m     97\u001b[0m         )\n",
            "\u001b[0;31mValueError\u001b[0m: Classification metrics can't handle a mix of binary and continuous targets"
          ]
        }
      ]
    },
    {
      "cell_type": "code",
      "source": [
        "from sklearn.metrics import roc_auc_score\n",
        "AUROC_LGBM=roc_auc_score(y_test, predictionLGBM)"
      ],
      "metadata": {
        "id": "ET_1Dah6F_CB"
      },
      "execution_count": 68,
      "outputs": []
    },
    {
      "cell_type": "code",
      "source": [
        "AUROC_LGBM"
      ],
      "metadata": {
        "colab": {
          "base_uri": "https://localhost:8080/"
        },
        "id": "k2vY-YeMLgjj",
        "outputId": "51296b91-381a-4b72-8ebc-8e4091b8dc83"
      },
      "execution_count": 69,
      "outputs": [
        {
          "output_type": "execute_result",
          "data": {
            "text/plain": [
              "0.6196220926963607"
            ]
          },
          "metadata": {},
          "execution_count": 69
        }
      ]
    },
    {
      "cell_type": "code",
      "source": [
        "AUROC_LGBM"
      ],
      "metadata": {
        "colab": {
          "base_uri": "https://localhost:8080/"
        },
        "id": "cJernz9pKyHL",
        "outputId": "889e3961-57e8-4e63-b9df-19ea9726ade0"
      },
      "execution_count": 66,
      "outputs": [
        {
          "output_type": "execute_result",
          "data": {
            "text/plain": [
              "0.7282185676585844"
            ]
          },
          "metadata": {},
          "execution_count": 66
        }
      ]
    },
    {
      "cell_type": "code",
      "source": [
        "AUROC_LGBM"
      ],
      "metadata": {
        "colab": {
          "base_uri": "https://localhost:8080/"
        },
        "id": "lR0EY3D5rYSC",
        "outputId": "3aea94d9-4b4f-43cc-83de-1e0053305bb5"
      },
      "execution_count": 56,
      "outputs": [
        {
          "output_type": "execute_result",
          "data": {
            "text/plain": [
              "0.7452782320366504"
            ]
          },
          "metadata": {},
          "execution_count": 56
        }
      ]
    },
    {
      "cell_type": "code",
      "source": [
        "accuracy_score(y_test,predictionLGBM"
      ],
      "metadata": {
        "id": "AUZT5UJla-go",
        "colab": {
          "base_uri": "https://localhost:8080/",
          "height": 130
        },
        "outputId": "d67c1b82-76cb-4513-f101-c9e0a112090f"
      },
      "execution_count": 49,
      "outputs": [
        {
          "output_type": "error",
          "ename": "SyntaxError",
          "evalue": "ignored",
          "traceback": [
            "\u001b[0;36m  File \u001b[0;32m\"<ipython-input-49-5fde3415451f>\"\u001b[0;36m, line \u001b[0;32m1\u001b[0m\n\u001b[0;31m    accuracy_score(y_test,predictionLGBM\u001b[0m\n\u001b[0m                                        ^\u001b[0m\n\u001b[0;31mSyntaxError\u001b[0m\u001b[0;31m:\u001b[0m unexpected EOF while parsing\n"
          ]
        }
      ]
    },
    {
      "cell_type": "code",
      "source": [
        ""
      ],
      "metadata": {
        "id": "aJMISGm0a-lX"
      },
      "execution_count": null,
      "outputs": []
    },
    {
      "cell_type": "code",
      "execution_count": null,
      "metadata": {
        "id": "5MCocvTPvtbV"
      },
      "outputs": [],
      "source": [
        "    loss = [x['result']['loss'] for x in trials.trials]\n",
        "    \n",
        "    best_param_values = [x for x in best_param.values()]\n",
        "    \n",
        "    if best_param_values[0] == 0:\n",
        "        boosting_type = 'gbdt'\n",
        "    else:\n",
        "        boosting_type= 'dart'\n",
        "    \n",
        "    clf_best = lgb.LGBMClassifier(learning_rate=best_param_values[2],\n",
        "                                  num_leaves=int(best_param_values[5]),\n",
        "                                  max_depth=int(best_param_values[3]),\n",
        "                                  n_estimators=int(best_param_values[4]),\n",
        "                                  boosting_type=boosting_type,\n",
        "                                  colsample_bytree=best_param_values[1],\n",
        "                                  reg_lambda=best_param_values[6],\n",
        "                                 )\n",
        "                                  \n",
        "    clf_best.fit(X_train, y_train)\n",
        "    \n",
        "    print(\"\")\n",
        "    print(\"##### Results\")\n",
        "    print(\"Score best parameters: \", min(loss)*-1)\n",
        "    print(\"Best parameters: \", best_param)\n",
        "    print(\"Test Score: \", clf_best.score(X_test, y_test))\n",
        "    print(\"Time elapsed: \", time.time() - start)\n",
        "    print(\"Parameter combinations evaluated: \", num_eval)"
      ]
    }
  ],
  "metadata": {
    "colab": {
      "name": "Model_Optimization.ipynb",
      "provenance": [],
      "collapsed_sections": [],
      "authorship_tag": "ABX9TyP4oTBlvzl0v5zsD6uQpNh6",
      "include_colab_link": true
    },
    "kernelspec": {
      "display_name": "Python 3",
      "name": "python3"
    },
    "language_info": {
      "name": "python"
    }
  },
  "nbformat": 4,
  "nbformat_minor": 0
}