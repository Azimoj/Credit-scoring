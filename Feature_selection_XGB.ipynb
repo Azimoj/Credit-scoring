{
  "cells": [
    {
      "cell_type": "markdown",
      "metadata": {
        "id": "view-in-github",
        "colab_type": "text"
      },
      "source": [
        "<a href=\"https://colab.research.google.com/github/Azimoj/Home-Credit-Default-Risk/blob/main/Feature_selection_XGB.ipynb\" target=\"_parent\"><img src=\"https://colab.research.google.com/assets/colab-badge.svg\" alt=\"Open In Colab\"/></a>"
      ]
    },
    {
      "cell_type": "code",
      "execution_count": 1,
      "metadata": {
        "id": "8rVJd48lxMwU",
        "colab": {
          "base_uri": "https://localhost:8080/"
        },
        "outputId": "d3134c4b-b780-4f7f-86ac-e52540494a42"
      },
      "outputs": [
        {
          "output_type": "stream",
          "name": "stdout",
          "text": [
            "Wed Mar  2 15:15:53 2022       \n",
            "+-----------------------------------------------------------------------------+\n",
            "| NVIDIA-SMI 460.32.03    Driver Version: 460.32.03    CUDA Version: 11.2     |\n",
            "|-------------------------------+----------------------+----------------------+\n",
            "| GPU  Name        Persistence-M| Bus-Id        Disp.A | Volatile Uncorr. ECC |\n",
            "| Fan  Temp  Perf  Pwr:Usage/Cap|         Memory-Usage | GPU-Util  Compute M. |\n",
            "|                               |                      |               MIG M. |\n",
            "|===============================+======================+======================|\n",
            "|   0  Tesla P100-PCIE...  Off  | 00000000:00:04.0 Off |                    0 |\n",
            "| N/A   40C    P0    27W / 250W |      0MiB / 16280MiB |      0%      Default |\n",
            "|                               |                      |                  N/A |\n",
            "+-------------------------------+----------------------+----------------------+\n",
            "                                                                               \n",
            "+-----------------------------------------------------------------------------+\n",
            "| Processes:                                                                  |\n",
            "|  GPU   GI   CI        PID   Type   Process name                  GPU Memory |\n",
            "|        ID   ID                                                   Usage      |\n",
            "|=============================================================================|\n",
            "|  No running processes found                                                 |\n",
            "+-----------------------------------------------------------------------------+\n"
          ]
        }
      ],
      "source": [
        "gpu_info = !nvidia-smi\n",
        "gpu_info = '\\n'.join(gpu_info)\n",
        "if gpu_info.find('failed') >= 0:\n",
        "  print('Not connected to a GPU')\n",
        "else:\n",
        "  print(gpu_info)"
      ]
    },
    {
      "cell_type": "code",
      "execution_count": 1,
      "metadata": {
        "colab": {
          "base_uri": "https://localhost:8080/"
        },
        "id": "TOfbho7Op6us",
        "outputId": "fb6641f3-bba2-45cd-af80-1d6ea5e3e3af"
      },
      "outputs": [
        {
          "output_type": "stream",
          "name": "stdout",
          "text": [
            "Mounted at /content/drive\n"
          ]
        }
      ],
      "source": [
        "from google.colab import drive\n",
        "drive.mount(\"/content/drive\", force_remount=True)"
      ]
    },
    {
      "cell_type": "code",
      "execution_count": null,
      "metadata": {
        "id": "mBUusbNsqMUE"
      },
      "outputs": [],
      "source": [
        ""
      ]
    },
    {
      "cell_type": "code",
      "execution_count": 46,
      "metadata": {
        "id": "rT58aLKvrdiL"
      },
      "outputs": [],
      "source": [
        "# pandas and numpy for data manipulation\n",
        "import pandas as pd\n",
        "import numpy as np\n",
        "import seaborn as sns\n",
        "\n",
        "# matplotlit and seaborn for visualizations\n",
        "import matplotlib.pyplot as plt\n",
        "plt.rcParams['font.size'] = 22\n",
        "\n",
        "# Suppress warnings from pandas\n",
        "import warnings\n",
        "warnings.filterwarnings('ignore')\n",
        "\n",
        "from sklearn.model_selection import train_test_split\n",
        "\n",
        "# memory management\n",
        "import gc\n",
        "import re\n",
        "import timeit #pour mesurer le temps déxécution\n",
        "#permet de stocker notre modéle\n",
        "from sklearn.ensemble import RandomForestClassifier\n",
        "from sklearn.ensemble import GradientBoostingClassifier\n",
        "from xgboost import XGBClassifier\n",
        "# modeling \n",
        "import lightgbm as lgb\n",
        "import sklearn.metrics as me\n",
        "from sklearn import metrics\n",
        "from sklearn.metrics import roc_auc_score\n",
        "from sklearn.metrics import roc_curve,auc\n",
        "from sklearn.metrics import f1_score\n",
        "from sklearn.tree import DecisionTreeClassifier\n",
        "from sklearn.tree import plot_tree\n",
        "from sklearn.metrics import confusion_matrix\n",
        "from sklearn.metrics import plot_confusion_matrix\n",
        "from sklearn.metrics import precision_recall_curve\n",
        "from sklearn.metrics import recall_score\n",
        "from sklearn.preprocessing import RobustScaler\n",
        "from sklearn.model_selection import GridSearchCV \n",
        "#pour avoir le tableau f1,precision\n",
        "from sklearn.dummy import DummyClassifier\n",
        "from sklearn.metrics import make_scorer\n",
        "from sklearn.model_selection import RepeatedStratifiedKFold, StratifiedKFold\n",
        "from sklearn.metrics import precision_score,recall_score,accuracy_score\n",
        "from sklearn.metrics import classification_report"
      ]
    },
    {
      "cell_type": "code",
      "execution_count": null,
      "metadata": {
        "id": "bXmeJaN0_LVY"
      },
      "outputs": [],
      "source": [
        ""
      ]
    },
    {
      "cell_type": "code",
      "execution_count": 3,
      "metadata": {
        "id": "DRToxCBF_TrC"
      },
      "outputs": [],
      "source": [
        "def Histo(colonne,base,bines):\n",
        "  sns.displot(x=colonne,data=base, kde=False, bins=bines,color=\"darkblue\")\n",
        "  plt.grid()"
      ]
    },
    {
      "cell_type": "code",
      "execution_count": 45,
      "metadata": {
        "id": "OptNEdP1AJt6"
      },
      "outputs": [],
      "source": [
        "def conf_mat_transform(y_test,y_pred) :\n",
        "    conf_mat = me.confusion_matrix(y_test,y_pred)\n",
        "    \n",
        "    corresp = np.argmax(conf_mat,axis=0) \n",
        "    #vu quon a un numero de colonne de\n",
        "    #la valeur max les meme pour deux lignes on le fait manuellement\n",
        "    #on na pas des accuracy proche de 1 on pouvait utiliser le argmax\n",
        "    #corresp = [0, 3, 6, 4, 2, 1, 5]\n",
        "    #print (\"Correspondance des clusters : \", corresp)\n",
        "    # y_pred_transform = np.apply_along_axis(correspond_fct, 1, y_pred)\n",
        "    labels = pd.Series(y_test, name=\"y_true\").to_frame()\n",
        "    labels['y_pred'] = y_pred\n",
        "    labels['y_pred_transform'] = labels['y_pred'].apply(lambda x : corresp[x]) \n",
        "    \n",
        "    return labels['y_pred_transform']"
      ]
    },
    {
      "cell_type": "code",
      "source": [
        "#https://www.youtube.com/watch?v=zPEaC_yvL_k\n",
        "#make_scorer\n",
        "#https://machinelearningmastery.com/imbalanced-classification-of-good-and-bad-credit/\n",
        "#https://scikit-learn.org/stable/modules/generated/sklearn.metrics.fbeta_score.html\n",
        "#beta < 1 lends more weight to precision, while beta > 1 favors recall (beta -> 0 considers only precision, beta -> +inf only recall).\n",
        "\n",
        "# Determines the weight of recall in the combined score.\n",
        "\n",
        "def customScore(y_test, y_pred):\n",
        "\n",
        "  beta=0.7 #le poids beta qui donnera plus de poids au FN \n",
        "  #et 1-beta moins de poids au FP \n",
        "  logi_confusion = me.confusion_matrix(y_test, y_pred) \n",
        "  tn, fp, fn, tp = logi_confusion.ravel()\n",
        "  alpha=beta*fn+(1-beta)*fp\n",
        "  return  alpha\n",
        " #moyenne harmonique pondérée"
      ],
      "metadata": {
        "id": "UB2kWRiXNEYC"
      },
      "execution_count": 44,
      "outputs": []
    },
    {
      "cell_type": "code",
      "source": [
        ""
      ],
      "metadata": {
        "id": "f2yIflqWNEfO"
      },
      "execution_count": null,
      "outputs": []
    },
    {
      "cell_type": "markdown",
      "metadata": {
        "id": "mqCJrH_dvbGZ"
      },
      "source": [
        "## **Gradient Boosting Classifier**"
      ]
    },
    {
      "cell_type": "code",
      "execution_count": 5,
      "metadata": {
        "id": "9oEtJDLtulLr"
      },
      "outputs": [],
      "source": [
        "data= pd.read_csv('/content/drive/MyDrive/p7/data/NEW_data_data.csv')"
      ]
    },
    {
      "cell_type": "code",
      "execution_count": 6,
      "metadata": {
        "id": "Hne1umh2ulLs"
      },
      "outputs": [],
      "source": [
        "data= data.drop(columns = ['SK_ID_CURR','Unnamed: 0'])"
      ]
    },
    {
      "cell_type": "markdown",
      "metadata": {
        "id": "hvhOmPrQulLt"
      },
      "source": [
        "**Imputation**"
      ]
    },
    {
      "cell_type": "code",
      "execution_count": 7,
      "metadata": {
        "colab": {
          "base_uri": "https://localhost:8080/"
        },
        "id": "ujeMQiUmulLt",
        "outputId": "4b23e932-c96c-4f92-9572-ca8be1f7e9f1"
      },
      "outputs": [
        {
          "output_type": "execute_result",
          "data": {
            "text/plain": [
              "BURO_STATUS_X_MEAN_MEAN        0.749487\n",
              "BURO_STATUS_3_MEAN_MEAN        0.749487\n",
              "BURO_NEW_FLAG_nan_MEAN_MEAN    0.749487\n",
              "BURO_NEW_FLAG_1_MEAN_MEAN      0.749487\n",
              "BURO_NEW_FLAG_0_MEAN_MEAN      0.749487\n",
              "dtype: float64"
            ]
          },
          "metadata": {},
          "execution_count": 7
        }
      ],
      "source": [
        "# data missing values (in percent)\n",
        "data_missing = (data.isnull().sum() / len(data)).sort_values(ascending = False)\n",
        "data_missing.head()"
      ]
    },
    {
      "cell_type": "code",
      "execution_count": 8,
      "metadata": {
        "colab": {
          "base_uri": "https://localhost:8080/"
        },
        "id": "OkAOkvITulLv",
        "outputId": "39cbb88e-ffe5-4081-d8b9-714f8a2348b6"
      },
      "outputs": [
        {
          "output_type": "stream",
          "name": "stdout",
          "text": [
            "There are 78 columns with more than 50% missing values\n"
          ]
        }
      ],
      "source": [
        "# Identify missing values above threshold\n",
        "data_missing = data_missing.index[data_missing > 0.5]\n",
        "\n",
        "print('There are %d columns with more than 50%% missing values' % len(data_missing))"
      ]
    },
    {
      "cell_type": "code",
      "execution_count": 9,
      "metadata": {
        "colab": {
          "base_uri": "https://localhost:8080/"
        },
        "id": "_m2xLSS7ulLv",
        "outputId": "007c39ce-c041-4e8b-9d1b-62bf0b9434f9"
      },
      "outputs": [
        {
          "output_type": "stream",
          "name": "stdout",
          "text": [
            "data_clean set full shape:  (307505, 560)\n"
          ]
        }
      ],
      "source": [
        "data_clean = data.drop(columns = data_missing)\n",
        "\n",
        "print('data_clean set full shape: ', data_clean.shape)"
      ]
    },
    {
      "cell_type": "code",
      "execution_count": 10,
      "metadata": {
        "colab": {
          "base_uri": "https://localhost:8080/"
        },
        "id": "WiFaCEnPulLv",
        "outputId": "cad1f564-51e8-42ec-d51b-d71decb8e0de"
      },
      "outputs": [
        {
          "output_type": "execute_result",
          "data": {
            "text/plain": [
              "CLOSED_AMT_CREDIT_SUM_OVERDUE_MEAN     153541\n",
              "CLOSED_AMT_CREDIT_SUM_MEAN             153541\n",
              "CLOSED_DAYS_CREDIT_MIN                 153541\n",
              "CLOSED_DAYS_CREDIT_MAX                 153541\n",
              "CLOSED_DAYS_CREDIT_MEAN                153541\n",
              "                                        ...  \n",
              "ORGANIZATION_TYPE_Industry: type 2          0\n",
              "ORGANIZATION_TYPE_Industry: type 13         0\n",
              "ORGANIZATION_TYPE_Industry: type 12         0\n",
              "ORGANIZATION_TYPE_Industry: type 11         0\n",
              "TARGET                                      0\n",
              "Length: 560, dtype: int64"
            ]
          },
          "metadata": {},
          "execution_count": 10
        }
      ],
      "source": [
        "data_clean.isnull().sum().sort_values(ascending=False)"
      ]
    },
    {
      "cell_type": "code",
      "execution_count": 12,
      "metadata": {
        "id": "DuhzorliulLv"
      },
      "outputs": [],
      "source": [
        "data_clean[data_clean==np.inf]=np.nan"
      ]
    },
    {
      "cell_type": "code",
      "execution_count": 13,
      "metadata": {
        "id": "FI8kxWgZulLw"
      },
      "outputs": [],
      "source": [
        "# Imputaion with mod & median\n",
        "def filling_nan_value(df):\n",
        "  column_with_nan = df.columns[df.isnull().any()]\n",
        "  for column in column_with_nan:\n",
        "    df[column]= df[column].fillna(df[column].median())\n",
        "  return (df)"
      ]
    },
    {
      "cell_type": "code",
      "execution_count": 14,
      "metadata": {
        "id": "IY1fO9Q-ulLw"
      },
      "outputs": [],
      "source": [
        "data_clean = filling_nan_value(data_clean)"
      ]
    },
    {
      "cell_type": "code",
      "execution_count": 15,
      "metadata": {
        "colab": {
          "base_uri": "https://localhost:8080/"
        },
        "id": "eecRw-gVulLw",
        "outputId": "8dde2394-c1ef-443d-a08b-731e37f47d01"
      },
      "outputs": [
        {
          "output_type": "execute_result",
          "data": {
            "text/plain": [
              "TARGET                                                  0\n",
              "PREV_NAME_GOODS_CATEGORY_Construction Materials_MEAN    0\n",
              "PREV_NAME_CLIENT_TYPE_Refreshed_MEAN                    0\n",
              "PREV_NAME_CLIENT_TYPE_Repeater_MEAN                     0\n",
              "PREV_NAME_CLIENT_TYPE_nan_MEAN                          0\n",
              "dtype: int64"
            ]
          },
          "metadata": {},
          "execution_count": 15
        }
      ],
      "source": [
        "data_clean.isnull().sum().sort_values(ascending=False).head()"
      ]
    },
    {
      "cell_type": "code",
      "execution_count": 16,
      "metadata": {
        "colab": {
          "base_uri": "https://localhost:8080/"
        },
        "id": "sTYh3oL0ulLw",
        "outputId": "73795012-cbf4-483c-d3b8-671983a2bca3"
      },
      "outputs": [
        {
          "output_type": "execute_result",
          "data": {
            "text/plain": [
              "185"
            ]
          },
          "metadata": {},
          "execution_count": 16
        }
      ],
      "source": [
        "gc.enable()\n",
        "del data \n",
        "gc.collect()"
      ]
    },
    {
      "cell_type": "code",
      "execution_count": null,
      "metadata": {
        "id": "X0O56_yVulLw"
      },
      "outputs": [],
      "source": [
        ""
      ]
    },
    {
      "cell_type": "markdown",
      "metadata": {
        "id": "ZtpHsZnyulLw"
      },
      "source": [
        "**Spliting**"
      ]
    },
    {
      "cell_type": "code",
      "execution_count": 17,
      "metadata": {
        "colab": {
          "base_uri": "https://localhost:8080/"
        },
        "id": "sXbEM_UBulLw",
        "outputId": "9b711208-7033-4788-fbe1-d337048f3b7e"
      },
      "outputs": [
        {
          "output_type": "stream",
          "name": "stdout",
          "text": [
            "The shape of X_train is (215253, 559)\n",
            "The shape of X_test is (92252, 559)\n",
            "The shape of y_train is (215253,)\n",
            "The shape of y_test is (92252,)\n"
          ]
        }
      ],
      "source": [
        "X= data_clean.drop(['TARGET'],axis=1).copy()\n",
        "y = data_clean['TARGET'].copy()\n",
        "\n",
        "X_train, X_test, y_train, y_test = train_test_split(X ,y,test_size = 0.3,random_state=0)\n",
        "print('The shape of X_train is', X_train.shape)\n",
        "print('The shape of X_test is', X_test.shape)\n",
        "print('The shape of y_train is', y_train.shape)\n",
        "print('The shape of y_test is', y_test.shape)"
      ]
    },
    {
      "cell_type": "code",
      "execution_count": null,
      "metadata": {
        "colab": {
          "base_uri": "https://localhost:8080/",
          "height": 317
        },
        "id": "CWz0B1EfulLw",
        "outputId": "a4ea26d0-d2f0-4848-c8f0-5cbcc33b307b"
      },
      "outputs": [
        {
          "data": {
            "text/html": [
              "\n",
              "  <div id=\"df-5d5eebbb-de1b-48d2-b674-3b1333f5166a\">\n",
              "    <div class=\"colab-df-container\">\n",
              "      <div>\n",
              "<style scoped>\n",
              "    .dataframe tbody tr th:only-of-type {\n",
              "        vertical-align: middle;\n",
              "    }\n",
              "\n",
              "    .dataframe tbody tr th {\n",
              "        vertical-align: top;\n",
              "    }\n",
              "\n",
              "    .dataframe thead th {\n",
              "        text-align: right;\n",
              "    }\n",
              "</style>\n",
              "<table border=\"1\" class=\"dataframe\">\n",
              "  <thead>\n",
              "    <tr style=\"text-align: right;\">\n",
              "      <th></th>\n",
              "      <th>SK_ID_CURR</th>\n",
              "      <th>CODE_GENDER</th>\n",
              "      <th>FLAG_OWN_CAR</th>\n",
              "      <th>FLAG_OWN_REALTY</th>\n",
              "      <th>CNT_CHILDREN</th>\n",
              "      <th>AMT_INCOME_TOTAL</th>\n",
              "      <th>AMT_CREDIT</th>\n",
              "      <th>AMT_ANNUITY</th>\n",
              "      <th>REGION_POPULATION_RELATIVE</th>\n",
              "      <th>DAYS_BIRTH</th>\n",
              "      <th>DAYS_EMPLOYED</th>\n",
              "      <th>DAYS_REGISTRATION</th>\n",
              "      <th>DAYS_ID_PUBLISH</th>\n",
              "      <th>FLAG_MOBIL</th>\n",
              "      <th>FLAG_WORK_PHONE</th>\n",
              "      <th>FLAG_CONT_MOBILE</th>\n",
              "      <th>FLAG_PHONE</th>\n",
              "      <th>FLAG_EMAIL</th>\n",
              "      <th>CNT_FAM_MEMBERS</th>\n",
              "      <th>REGION_RATING_CLIENT</th>\n",
              "      <th>REGION_RATING_CLIENT_W_CITY</th>\n",
              "      <th>REG_REGION_NOT_LIVE_REGION</th>\n",
              "      <th>REG_REGION_NOT_WORK_REGION</th>\n",
              "      <th>LIVE_REGION_NOT_WORK_REGION</th>\n",
              "      <th>REG_CITY_NOT_LIVE_CITY</th>\n",
              "      <th>REG_CITY_NOT_WORK_CITY</th>\n",
              "      <th>LIVE_CITY_NOT_WORK_CITY</th>\n",
              "      <th>EXT_SOURCE_2</th>\n",
              "      <th>EXT_SOURCE_3</th>\n",
              "      <th>YEARS_BEGINEXPLUATATION_AVG</th>\n",
              "      <th>FLOORSMAX_AVG</th>\n",
              "      <th>YEARS_BEGINEXPLUATATION_MODE</th>\n",
              "      <th>TOTALAREA_MODE</th>\n",
              "      <th>OBS_30_CNT_SOCIAL_CIRCLE</th>\n",
              "      <th>DEF_30_CNT_SOCIAL_CIRCLE</th>\n",
              "      <th>DEF_60_CNT_SOCIAL_CIRCLE</th>\n",
              "      <th>DAYS_LAST_PHONE_CHANGE</th>\n",
              "      <th>FLAG_DOCUMENT_2</th>\n",
              "      <th>FLAG_DOCUMENT_3</th>\n",
              "      <th>FLAG_DOCUMENT_4</th>\n",
              "      <th>...</th>\n",
              "      <th>POS_SK_DPD_MEAN</th>\n",
              "      <th>POS_SK_DPD_DEF_MAX</th>\n",
              "      <th>POS_SK_DPD_DEF_MEAN</th>\n",
              "      <th>POS_NAME_CONTRACT_STATUS_Active_MEAN</th>\n",
              "      <th>POS_NAME_CONTRACT_STATUS_Amortized debt_MEAN</th>\n",
              "      <th>POS_NAME_CONTRACT_STATUS_Approved_MEAN</th>\n",
              "      <th>POS_NAME_CONTRACT_STATUS_Canceled_MEAN</th>\n",
              "      <th>POS_NAME_CONTRACT_STATUS_Completed_MEAN</th>\n",
              "      <th>POS_NAME_CONTRACT_STATUS_Demand_MEAN</th>\n",
              "      <th>POS_NAME_CONTRACT_STATUS_Returned to the store_MEAN</th>\n",
              "      <th>POS_NAME_CONTRACT_STATUS_Signed_MEAN</th>\n",
              "      <th>POS_NAME_CONTRACT_STATUS_XNA_MEAN</th>\n",
              "      <th>POS_NAME_CONTRACT_STATUS_nan_MEAN</th>\n",
              "      <th>POS_COUNT</th>\n",
              "      <th>INSTAL_NUM_INSTALMENT_VERSION_NUNIQUE</th>\n",
              "      <th>INSTAL_DPD_MAX</th>\n",
              "      <th>INSTAL_DPD_MEAN</th>\n",
              "      <th>INSTAL_DPD_SUM</th>\n",
              "      <th>INSTAL_DBD_MAX</th>\n",
              "      <th>INSTAL_DBD_MEAN</th>\n",
              "      <th>INSTAL_DBD_SUM</th>\n",
              "      <th>INSTAL_PAYMENT_PERC_MAX</th>\n",
              "      <th>INSTAL_PAYMENT_PERC_MEAN</th>\n",
              "      <th>INSTAL_PAYMENT_PERC_SUM</th>\n",
              "      <th>INSTAL_PAYMENT_PERC_VAR</th>\n",
              "      <th>INSTAL_PAYMENT_DIFF_MAX</th>\n",
              "      <th>INSTAL_PAYMENT_DIFF_MEAN</th>\n",
              "      <th>INSTAL_PAYMENT_DIFF_SUM</th>\n",
              "      <th>INSTAL_PAYMENT_DIFF_VAR</th>\n",
              "      <th>INSTAL_AMT_INSTALMENT_MAX</th>\n",
              "      <th>INSTAL_AMT_INSTALMENT_MEAN</th>\n",
              "      <th>INSTAL_AMT_INSTALMENT_SUM</th>\n",
              "      <th>INSTAL_AMT_PAYMENT_MIN</th>\n",
              "      <th>INSTAL_AMT_PAYMENT_MAX</th>\n",
              "      <th>INSTAL_AMT_PAYMENT_MEAN</th>\n",
              "      <th>INSTAL_AMT_PAYMENT_SUM</th>\n",
              "      <th>INSTAL_DAYS_ENTRY_PAYMENT_MAX</th>\n",
              "      <th>INSTAL_DAYS_ENTRY_PAYMENT_MEAN</th>\n",
              "      <th>INSTAL_DAYS_ENTRY_PAYMENT_SUM</th>\n",
              "      <th>INSTAL_COUNT</th>\n",
              "    </tr>\n",
              "  </thead>\n",
              "  <tbody>\n",
              "    <tr>\n",
              "      <th>115232</th>\n",
              "      <td>233633</td>\n",
              "      <td>1</td>\n",
              "      <td>1</td>\n",
              "      <td>0</td>\n",
              "      <td>0</td>\n",
              "      <td>180000.0</td>\n",
              "      <td>312840.0</td>\n",
              "      <td>8964.0</td>\n",
              "      <td>0.016612</td>\n",
              "      <td>-13424</td>\n",
              "      <td>-5143.0</td>\n",
              "      <td>-593.0</td>\n",
              "      <td>-3478</td>\n",
              "      <td>1</td>\n",
              "      <td>1</td>\n",
              "      <td>1</td>\n",
              "      <td>0</td>\n",
              "      <td>0</td>\n",
              "      <td>2.0</td>\n",
              "      <td>2</td>\n",
              "      <td>2</td>\n",
              "      <td>0</td>\n",
              "      <td>0</td>\n",
              "      <td>0</td>\n",
              "      <td>1</td>\n",
              "      <td>1</td>\n",
              "      <td>0</td>\n",
              "      <td>0.531640</td>\n",
              "      <td>0.511892</td>\n",
              "      <td>0.9816</td>\n",
              "      <td>0.1667</td>\n",
              "      <td>0.9816</td>\n",
              "      <td>0.0688</td>\n",
              "      <td>1.0</td>\n",
              "      <td>1.0</td>\n",
              "      <td>1.0</td>\n",
              "      <td>-2.0</td>\n",
              "      <td>0</td>\n",
              "      <td>1</td>\n",
              "      <td>0</td>\n",
              "      <td>...</td>\n",
              "      <td>0.00000</td>\n",
              "      <td>0.0</td>\n",
              "      <td>0.00000</td>\n",
              "      <td>0.918367</td>\n",
              "      <td>0.0</td>\n",
              "      <td>0.0</td>\n",
              "      <td>0.0</td>\n",
              "      <td>0.081633</td>\n",
              "      <td>0.0</td>\n",
              "      <td>0.0</td>\n",
              "      <td>0.000000</td>\n",
              "      <td>0.0</td>\n",
              "      <td>0.0</td>\n",
              "      <td>49.0</td>\n",
              "      <td>6.0</td>\n",
              "      <td>1.0</td>\n",
              "      <td>0.017857</td>\n",
              "      <td>1.0</td>\n",
              "      <td>39.0</td>\n",
              "      <td>6.821429</td>\n",
              "      <td>382.0</td>\n",
              "      <td>5.429636</td>\n",
              "      <td>1.121761</td>\n",
              "      <td>62.818632</td>\n",
              "      <td>0.391309</td>\n",
              "      <td>0.000</td>\n",
              "      <td>-3115.398214</td>\n",
              "      <td>-174462.30</td>\n",
              "      <td>2.491643e+08</td>\n",
              "      <td>1.138083e+05</td>\n",
              "      <td>14395.347321</td>\n",
              "      <td>806139.450</td>\n",
              "      <td>4808.880</td>\n",
              "      <td>139500.810</td>\n",
              "      <td>17510.745536</td>\n",
              "      <td>9.806018e+05</td>\n",
              "      <td>-576.0</td>\n",
              "      <td>-1590.732143</td>\n",
              "      <td>-89081.0</td>\n",
              "      <td>56.0</td>\n",
              "    </tr>\n",
              "    <tr>\n",
              "      <th>113005</th>\n",
              "      <td>231071</td>\n",
              "      <td>0</td>\n",
              "      <td>1</td>\n",
              "      <td>1</td>\n",
              "      <td>0</td>\n",
              "      <td>126000.0</td>\n",
              "      <td>49752.0</td>\n",
              "      <td>5355.0</td>\n",
              "      <td>0.019689</td>\n",
              "      <td>-8842</td>\n",
              "      <td>-1130.0</td>\n",
              "      <td>-3723.0</td>\n",
              "      <td>-1508</td>\n",
              "      <td>1</td>\n",
              "      <td>1</td>\n",
              "      <td>1</td>\n",
              "      <td>1</td>\n",
              "      <td>0</td>\n",
              "      <td>1.0</td>\n",
              "      <td>2</td>\n",
              "      <td>2</td>\n",
              "      <td>0</td>\n",
              "      <td>0</td>\n",
              "      <td>0</td>\n",
              "      <td>0</td>\n",
              "      <td>0</td>\n",
              "      <td>0</td>\n",
              "      <td>0.478072</td>\n",
              "      <td>0.095693</td>\n",
              "      <td>0.9712</td>\n",
              "      <td>0.0833</td>\n",
              "      <td>0.9712</td>\n",
              "      <td>0.0418</td>\n",
              "      <td>1.0</td>\n",
              "      <td>0.0</td>\n",
              "      <td>0.0</td>\n",
              "      <td>-561.0</td>\n",
              "      <td>0</td>\n",
              "      <td>1</td>\n",
              "      <td>0</td>\n",
              "      <td>...</td>\n",
              "      <td>0.00000</td>\n",
              "      <td>0.0</td>\n",
              "      <td>0.00000</td>\n",
              "      <td>0.918367</td>\n",
              "      <td>0.0</td>\n",
              "      <td>0.0</td>\n",
              "      <td>0.0</td>\n",
              "      <td>0.081633</td>\n",
              "      <td>0.0</td>\n",
              "      <td>0.0</td>\n",
              "      <td>0.000000</td>\n",
              "      <td>0.0</td>\n",
              "      <td>0.0</td>\n",
              "      <td>49.0</td>\n",
              "      <td>2.0</td>\n",
              "      <td>1.0</td>\n",
              "      <td>0.250000</td>\n",
              "      <td>1.0</td>\n",
              "      <td>5.0</td>\n",
              "      <td>1.500000</td>\n",
              "      <td>6.0</td>\n",
              "      <td>1.000000</td>\n",
              "      <td>1.000000</td>\n",
              "      <td>4.000000</td>\n",
              "      <td>0.000000</td>\n",
              "      <td>0.000</td>\n",
              "      <td>0.000000</td>\n",
              "      <td>0.00</td>\n",
              "      <td>0.000000e+00</td>\n",
              "      <td>1.774643e+06</td>\n",
              "      <td>479283.817500</td>\n",
              "      <td>1917135.270</td>\n",
              "      <td>47497.545</td>\n",
              "      <td>1774642.635</td>\n",
              "      <td>479283.817500</td>\n",
              "      <td>1.917135e+06</td>\n",
              "      <td>-976.0</td>\n",
              "      <td>-1017.250000</td>\n",
              "      <td>-4069.0</td>\n",
              "      <td>4.0</td>\n",
              "    </tr>\n",
              "    <tr>\n",
              "      <th>132492</th>\n",
              "      <td>253675</td>\n",
              "      <td>0</td>\n",
              "      <td>0</td>\n",
              "      <td>1</td>\n",
              "      <td>1</td>\n",
              "      <td>157500.0</td>\n",
              "      <td>150948.0</td>\n",
              "      <td>13972.5</td>\n",
              "      <td>0.025164</td>\n",
              "      <td>-11194</td>\n",
              "      <td>-1441.0</td>\n",
              "      <td>-3626.0</td>\n",
              "      <td>-3837</td>\n",
              "      <td>1</td>\n",
              "      <td>0</td>\n",
              "      <td>1</td>\n",
              "      <td>0</td>\n",
              "      <td>0</td>\n",
              "      <td>3.0</td>\n",
              "      <td>2</td>\n",
              "      <td>2</td>\n",
              "      <td>0</td>\n",
              "      <td>0</td>\n",
              "      <td>0</td>\n",
              "      <td>0</td>\n",
              "      <td>0</td>\n",
              "      <td>0</td>\n",
              "      <td>0.566461</td>\n",
              "      <td>0.689479</td>\n",
              "      <td>0.9816</td>\n",
              "      <td>0.1667</td>\n",
              "      <td>0.9816</td>\n",
              "      <td>0.0688</td>\n",
              "      <td>2.0</td>\n",
              "      <td>0.0</td>\n",
              "      <td>0.0</td>\n",
              "      <td>-7.0</td>\n",
              "      <td>0</td>\n",
              "      <td>1</td>\n",
              "      <td>0</td>\n",
              "      <td>...</td>\n",
              "      <td>0.00000</td>\n",
              "      <td>0.0</td>\n",
              "      <td>0.00000</td>\n",
              "      <td>0.833333</td>\n",
              "      <td>0.0</td>\n",
              "      <td>0.0</td>\n",
              "      <td>0.0</td>\n",
              "      <td>0.166667</td>\n",
              "      <td>0.0</td>\n",
              "      <td>0.0</td>\n",
              "      <td>0.000000</td>\n",
              "      <td>0.0</td>\n",
              "      <td>0.0</td>\n",
              "      <td>6.0</td>\n",
              "      <td>1.0</td>\n",
              "      <td>0.0</td>\n",
              "      <td>0.000000</td>\n",
              "      <td>0.0</td>\n",
              "      <td>29.0</td>\n",
              "      <td>10.000000</td>\n",
              "      <td>60.0</td>\n",
              "      <td>1.000000</td>\n",
              "      <td>1.000000</td>\n",
              "      <td>6.000000</td>\n",
              "      <td>0.000000</td>\n",
              "      <td>0.000</td>\n",
              "      <td>0.000000</td>\n",
              "      <td>0.00</td>\n",
              "      <td>0.000000e+00</td>\n",
              "      <td>1.889379e+04</td>\n",
              "      <td>18874.792500</td>\n",
              "      <td>113248.755</td>\n",
              "      <td>18779.805</td>\n",
              "      <td>18893.790</td>\n",
              "      <td>18874.792500</td>\n",
              "      <td>1.132488e+05</td>\n",
              "      <td>-674.0</td>\n",
              "      <td>-730.000000</td>\n",
              "      <td>-4380.0</td>\n",
              "      <td>6.0</td>\n",
              "    </tr>\n",
              "    <tr>\n",
              "      <th>18531</th>\n",
              "      <td>121615</td>\n",
              "      <td>1</td>\n",
              "      <td>1</td>\n",
              "      <td>1</td>\n",
              "      <td>0</td>\n",
              "      <td>112500.0</td>\n",
              "      <td>319500.0</td>\n",
              "      <td>16312.5</td>\n",
              "      <td>0.035792</td>\n",
              "      <td>-15764</td>\n",
              "      <td>-4899.0</td>\n",
              "      <td>-7791.0</td>\n",
              "      <td>-4917</td>\n",
              "      <td>1</td>\n",
              "      <td>1</td>\n",
              "      <td>1</td>\n",
              "      <td>0</td>\n",
              "      <td>0</td>\n",
              "      <td>2.0</td>\n",
              "      <td>2</td>\n",
              "      <td>2</td>\n",
              "      <td>0</td>\n",
              "      <td>0</td>\n",
              "      <td>0</td>\n",
              "      <td>0</td>\n",
              "      <td>1</td>\n",
              "      <td>1</td>\n",
              "      <td>0.663261</td>\n",
              "      <td>0.710674</td>\n",
              "      <td>0.9816</td>\n",
              "      <td>0.1667</td>\n",
              "      <td>0.9816</td>\n",
              "      <td>0.0688</td>\n",
              "      <td>0.0</td>\n",
              "      <td>0.0</td>\n",
              "      <td>0.0</td>\n",
              "      <td>-420.0</td>\n",
              "      <td>0</td>\n",
              "      <td>1</td>\n",
              "      <td>0</td>\n",
              "      <td>...</td>\n",
              "      <td>1.04717</td>\n",
              "      <td>13.0</td>\n",
              "      <td>1.04717</td>\n",
              "      <td>0.933962</td>\n",
              "      <td>0.0</td>\n",
              "      <td>0.0</td>\n",
              "      <td>0.0</td>\n",
              "      <td>0.056604</td>\n",
              "      <td>0.0</td>\n",
              "      <td>0.0</td>\n",
              "      <td>0.009434</td>\n",
              "      <td>0.0</td>\n",
              "      <td>0.0</td>\n",
              "      <td>106.0</td>\n",
              "      <td>1.0</td>\n",
              "      <td>771.0</td>\n",
              "      <td>33.521739</td>\n",
              "      <td>771.0</td>\n",
              "      <td>19.0</td>\n",
              "      <td>7.434783</td>\n",
              "      <td>171.0</td>\n",
              "      <td>1.000000</td>\n",
              "      <td>0.956522</td>\n",
              "      <td>22.000000</td>\n",
              "      <td>0.043453</td>\n",
              "      <td>5063.175</td>\n",
              "      <td>220.198696</td>\n",
              "      <td>5064.57</td>\n",
              "      <td>1.114570e+06</td>\n",
              "      <td>6.710805e+03</td>\n",
              "      <td>4994.757391</td>\n",
              "      <td>114879.420</td>\n",
              "      <td>1.395</td>\n",
              "      <td>6710.805</td>\n",
              "      <td>4774.558696</td>\n",
              "      <td>1.098149e+05</td>\n",
              "      <td>-81.0</td>\n",
              "      <td>-1521.304348</td>\n",
              "      <td>-34990.0</td>\n",
              "      <td>23.0</td>\n",
              "    </tr>\n",
              "    <tr>\n",
              "      <th>234349</th>\n",
              "      <td>371468</td>\n",
              "      <td>1</td>\n",
              "      <td>0</td>\n",
              "      <td>0</td>\n",
              "      <td>0</td>\n",
              "      <td>225000.0</td>\n",
              "      <td>387000.0</td>\n",
              "      <td>14031.0</td>\n",
              "      <td>0.026392</td>\n",
              "      <td>-21481</td>\n",
              "      <td>-1648.0</td>\n",
              "      <td>-7445.0</td>\n",
              "      <td>-4147</td>\n",
              "      <td>1</td>\n",
              "      <td>0</td>\n",
              "      <td>1</td>\n",
              "      <td>0</td>\n",
              "      <td>0</td>\n",
              "      <td>1.0</td>\n",
              "      <td>2</td>\n",
              "      <td>2</td>\n",
              "      <td>0</td>\n",
              "      <td>0</td>\n",
              "      <td>0</td>\n",
              "      <td>0</td>\n",
              "      <td>0</td>\n",
              "      <td>0</td>\n",
              "      <td>0.481521</td>\n",
              "      <td>0.782608</td>\n",
              "      <td>0.9901</td>\n",
              "      <td>0.3750</td>\n",
              "      <td>0.9901</td>\n",
              "      <td>0.1114</td>\n",
              "      <td>6.0</td>\n",
              "      <td>0.0</td>\n",
              "      <td>0.0</td>\n",
              "      <td>0.0</td>\n",
              "      <td>0</td>\n",
              "      <td>1</td>\n",
              "      <td>0</td>\n",
              "      <td>...</td>\n",
              "      <td>0.00000</td>\n",
              "      <td>0.0</td>\n",
              "      <td>0.00000</td>\n",
              "      <td>0.916667</td>\n",
              "      <td>0.0</td>\n",
              "      <td>0.0</td>\n",
              "      <td>0.0</td>\n",
              "      <td>0.076923</td>\n",
              "      <td>0.0</td>\n",
              "      <td>0.0</td>\n",
              "      <td>0.000000</td>\n",
              "      <td>0.0</td>\n",
              "      <td>0.0</td>\n",
              "      <td>22.0</td>\n",
              "      <td>2.0</td>\n",
              "      <td>1.0</td>\n",
              "      <td>0.037290</td>\n",
              "      <td>1.0</td>\n",
              "      <td>31.0</td>\n",
              "      <td>10.125000</td>\n",
              "      <td>267.0</td>\n",
              "      <td>1.000000</td>\n",
              "      <td>1.000000</td>\n",
              "      <td>25.000000</td>\n",
              "      <td>0.000000</td>\n",
              "      <td>0.000</td>\n",
              "      <td>0.000000</td>\n",
              "      <td>0.00</td>\n",
              "      <td>0.000000e+00</td>\n",
              "      <td>3.648539e+04</td>\n",
              "      <td>12741.831250</td>\n",
              "      <td>335915.370</td>\n",
              "      <td>2290.950</td>\n",
              "      <td>37258.380</td>\n",
              "      <td>12419.656714</td>\n",
              "      <td>3.262008e+05</td>\n",
              "      <td>-65.0</td>\n",
              "      <td>-805.692308</td>\n",
              "      <td>-21295.0</td>\n",
              "      <td>25.0</td>\n",
              "    </tr>\n",
              "  </tbody>\n",
              "</table>\n",
              "<p>5 rows × 560 columns</p>\n",
              "</div>\n",
              "      <button class=\"colab-df-convert\" onclick=\"convertToInteractive('df-5d5eebbb-de1b-48d2-b674-3b1333f5166a')\"\n",
              "              title=\"Convert this dataframe to an interactive table.\"\n",
              "              style=\"display:none;\">\n",
              "        \n",
              "  <svg xmlns=\"http://www.w3.org/2000/svg\" height=\"24px\"viewBox=\"0 0 24 24\"\n",
              "       width=\"24px\">\n",
              "    <path d=\"M0 0h24v24H0V0z\" fill=\"none\"/>\n",
              "    <path d=\"M18.56 5.44l.94 2.06.94-2.06 2.06-.94-2.06-.94-.94-2.06-.94 2.06-2.06.94zm-11 1L8.5 8.5l.94-2.06 2.06-.94-2.06-.94L8.5 2.5l-.94 2.06-2.06.94zm10 10l.94 2.06.94-2.06 2.06-.94-2.06-.94-.94-2.06-.94 2.06-2.06.94z\"/><path d=\"M17.41 7.96l-1.37-1.37c-.4-.4-.92-.59-1.43-.59-.52 0-1.04.2-1.43.59L10.3 9.45l-7.72 7.72c-.78.78-.78 2.05 0 2.83L4 21.41c.39.39.9.59 1.41.59.51 0 1.02-.2 1.41-.59l7.78-7.78 2.81-2.81c.8-.78.8-2.07 0-2.86zM5.41 20L4 18.59l7.72-7.72 1.47 1.35L5.41 20z\"/>\n",
              "  </svg>\n",
              "      </button>\n",
              "      \n",
              "  <style>\n",
              "    .colab-df-container {\n",
              "      display:flex;\n",
              "      flex-wrap:wrap;\n",
              "      gap: 12px;\n",
              "    }\n",
              "\n",
              "    .colab-df-convert {\n",
              "      background-color: #E8F0FE;\n",
              "      border: none;\n",
              "      border-radius: 50%;\n",
              "      cursor: pointer;\n",
              "      display: none;\n",
              "      fill: #1967D2;\n",
              "      height: 32px;\n",
              "      padding: 0 0 0 0;\n",
              "      width: 32px;\n",
              "    }\n",
              "\n",
              "    .colab-df-convert:hover {\n",
              "      background-color: #E2EBFA;\n",
              "      box-shadow: 0px 1px 2px rgba(60, 64, 67, 0.3), 0px 1px 3px 1px rgba(60, 64, 67, 0.15);\n",
              "      fill: #174EA6;\n",
              "    }\n",
              "\n",
              "    [theme=dark] .colab-df-convert {\n",
              "      background-color: #3B4455;\n",
              "      fill: #D2E3FC;\n",
              "    }\n",
              "\n",
              "    [theme=dark] .colab-df-convert:hover {\n",
              "      background-color: #434B5C;\n",
              "      box-shadow: 0px 1px 3px 1px rgba(0, 0, 0, 0.15);\n",
              "      filter: drop-shadow(0px 1px 2px rgba(0, 0, 0, 0.3));\n",
              "      fill: #FFFFFF;\n",
              "    }\n",
              "  </style>\n",
              "\n",
              "      <script>\n",
              "        const buttonEl =\n",
              "          document.querySelector('#df-5d5eebbb-de1b-48d2-b674-3b1333f5166a button.colab-df-convert');\n",
              "        buttonEl.style.display =\n",
              "          google.colab.kernel.accessAllowed ? 'block' : 'none';\n",
              "\n",
              "        async function convertToInteractive(key) {\n",
              "          const element = document.querySelector('#df-5d5eebbb-de1b-48d2-b674-3b1333f5166a');\n",
              "          const dataTable =\n",
              "            await google.colab.kernel.invokeFunction('convertToInteractive',\n",
              "                                                     [key], {});\n",
              "          if (!dataTable) return;\n",
              "\n",
              "          const docLinkHtml = 'Like what you see? Visit the ' +\n",
              "            '<a target=\"_blank\" href=https://colab.research.google.com/notebooks/data_table.ipynb>data table notebook</a>'\n",
              "            + ' to learn more about interactive tables.';\n",
              "          element.innerHTML = '';\n",
              "          dataTable['output_type'] = 'display_data';\n",
              "          await google.colab.output.renderOutput(dataTable, element);\n",
              "          const docLink = document.createElement('div');\n",
              "          docLink.innerHTML = docLinkHtml;\n",
              "          element.appendChild(docLink);\n",
              "        }\n",
              "      </script>\n",
              "    </div>\n",
              "  </div>\n",
              "  "
            ],
            "text/plain": [
              "        SK_ID_CURR  CODE_GENDER  ...  INSTAL_DAYS_ENTRY_PAYMENT_SUM  INSTAL_COUNT\n",
              "115232      233633            1  ...                       -89081.0          56.0\n",
              "113005      231071            0  ...                        -4069.0           4.0\n",
              "132492      253675            0  ...                        -4380.0           6.0\n",
              "18531       121615            1  ...                       -34990.0          23.0\n",
              "234349      371468            1  ...                       -21295.0          25.0\n",
              "\n",
              "[5 rows x 560 columns]"
            ]
          },
          "execution_count": 20,
          "metadata": {},
          "output_type": "execute_result"
        }
      ],
      "source": [
        "X_train.head()"
      ]
    },
    {
      "cell_type": "code",
      "execution_count": null,
      "metadata": {
        "id": "hR6fP2TJulLw"
      },
      "outputs": [],
      "source": [
        ""
      ]
    },
    {
      "cell_type": "markdown",
      "metadata": {
        "id": "wRbmOtg3ulLx"
      },
      "source": [
        "**standard scaler**"
      ]
    },
    {
      "cell_type": "code",
      "execution_count": 18,
      "metadata": {
        "id": "dFT0noHAulLx"
      },
      "outputs": [],
      "source": [
        "std_scale=RobustScaler().fit(X_train)\n",
        "#entrainement sur le train\n",
        "\n"
      ]
    },
    {
      "cell_type": "code",
      "execution_count": 19,
      "metadata": {
        "id": "QHSZ3ovSulLx"
      },
      "outputs": [],
      "source": [
        "X_scale_train=std_scale.transform(X_train)\n",
        "#transformation du train\n",
        "X_scale_test=std_scale.transform(X_test)\n",
        "#transformation du test"
      ]
    },
    {
      "cell_type": "code",
      "execution_count": null,
      "metadata": {
        "id": "NL7iRM29wqAB"
      },
      "outputs": [],
      "source": [
        ""
      ]
    },
    {
      "cell_type": "code",
      "execution_count": 23,
      "metadata": {
        "id": "zktvs9CI5S8w"
      },
      "outputs": [],
      "source": [
        "import xgboost as xgb\n",
        "model= xgb.XGBClassifier()\n",
        "\n",
        "#la fonction pour mesurer la qualite d'un split est gini\n",
        "#n_estimators= le nombre de tour de boost\n",
        "#min_sample split Le nombre minimum d'échantillons requis pour diviser un nœud interne\n",
        "#max_depth est la profondeur de l'arbre\n",
        "\n",
        "params = {'n_estimators':[120,150],\n",
        "          'max_depth':[6,8]}\n",
        "          \n",
        "cv= StratifiedKFold(n_splits=5)\n",
        "grid2= GridSearchCV(model, param_grid=params, cv=cv, return_train_score=True , scoring='roc_auc')"
      ]
    },
    {
      "cell_type": "code",
      "execution_count": null,
      "metadata": {
        "colab": {
          "base_uri": "https://localhost:8080/"
        },
        "id": "rPkmAa_Q5TAg",
        "outputId": "4a755e6a-3bb4-47cc-e4ba-edcc94fe759c"
      },
      "outputs": [
        {
          "data": {
            "text/plain": [
              "GridSearchCV(cv=StratifiedKFold(n_splits=5, random_state=None, shuffle=False),\n",
              "             estimator=XGBClassifier(),\n",
              "             param_grid={'max_depth': [6, 8], 'n_estimators': [120, 150]},\n",
              "             return_train_score=True, scoring=make_scorer(customScore))"
            ]
          },
          "execution_count": 31,
          "metadata": {},
          "output_type": "execute_result"
        }
      ],
      "source": [
        "start_timeXG = timeit.default_timer()\n",
        "grid2.fit(X_scale_train, y_train)"
      ]
    },
    {
      "cell_type": "code",
      "execution_count": null,
      "metadata": {
        "colab": {
          "base_uri": "https://localhost:8080/"
        },
        "id": "W9x-VZN85F3x",
        "outputId": "5512d546-cbec-4a1e-e2ed-b59d11f56899"
      },
      "outputs": [
        {
          "data": {
            "text/plain": [
              "17852.769894521"
            ]
          },
          "execution_count": 32,
          "metadata": {},
          "output_type": "execute_result"
        }
      ],
      "source": [
        "start_timeXG"
      ]
    },
    {
      "cell_type": "code",
      "execution_count": null,
      "metadata": {
        "colab": {
          "base_uri": "https://localhost:8080/"
        },
        "id": "-vWdwY639jnh",
        "outputId": "fb3e44ee-c23a-4980-8e89-2497d45834b7"
      },
      "outputs": [
        {
          "data": {
            "text/plain": [
              "{'max_depth': 6, 'n_estimators': 120}"
            ]
          },
          "execution_count": 34,
          "metadata": {},
          "output_type": "execute_result"
        }
      ],
      "source": [
        "#le meilleur parametre \n",
        "grid2.best_params_"
      ]
    },
    {
      "cell_type": "code",
      "execution_count": null,
      "metadata": {
        "id": "xLeH0ilDH-Ep"
      },
      "outputs": [],
      "source": [
        ""
      ]
    },
    {
      "cell_type": "code",
      "execution_count": null,
      "metadata": {
        "colab": {
          "base_uri": "https://localhost:8080/"
        },
        "id": "AAY7t9rI75Ev",
        "outputId": "fd4583da-922c-466e-bc3f-10abc9ea5e01"
      },
      "outputs": [
        {
          "data": {
            "text/plain": [
              "XGBClassifier(max_depth=6, n_estimators=120)"
            ]
          },
          "execution_count": 37,
          "metadata": {},
          "output_type": "execute_result"
        }
      ],
      "source": [
        "#le meilleur estimateur\n",
        "grid2.best_estimator_"
      ]
    },
    {
      "cell_type": "code",
      "execution_count": null,
      "metadata": {
        "id": "8Cgze6SBIiyx"
      },
      "outputs": [],
      "source": [
        ""
      ]
    },
    {
      "cell_type": "code",
      "execution_count": 20,
      "metadata": {
        "colab": {
          "base_uri": "https://localhost:8080/"
        },
        "id": "ATmvd1gBH-I_",
        "outputId": "2adbc2c3-2e79-4485-8bca-e1ebd54174b9"
      },
      "outputs": [
        {
          "output_type": "execute_result",
          "data": {
            "text/plain": [
              "XGBClassifier(max_depth=6, n_estimators=120)"
            ]
          },
          "metadata": {},
          "execution_count": 20
        }
      ],
      "source": [
        "XGB_model = XGBClassifier(max_depth=6, n_estimators=120)\n",
        "XGB_model.fit(X_scale_train, y_train)"
      ]
    },
    {
      "cell_type": "code",
      "execution_count": 21,
      "metadata": {
        "id": "nCA83vc49YPp"
      },
      "outputs": [],
      "source": [
        "feature_importances = XGB_model.feature_importances_"
      ]
    },
    {
      "cell_type": "code",
      "execution_count": 22,
      "metadata": {
        "colab": {
          "base_uri": "https://localhost:8080/",
          "height": 363
        },
        "id": "hKToG14-jC4W",
        "outputId": "4e841ff1-c0b5-460b-d7d7-d8074c162765"
      },
      "outputs": [
        {
          "output_type": "execute_result",
          "data": {
            "text/html": [
              "\n",
              "  <div id=\"df-0bae69d9-a32f-4240-9b9e-df9273b2d473\">\n",
              "    <div class=\"colab-df-container\">\n",
              "      <div>\n",
              "<style scoped>\n",
              "    .dataframe tbody tr th:only-of-type {\n",
              "        vertical-align: middle;\n",
              "    }\n",
              "\n",
              "    .dataframe tbody tr th {\n",
              "        vertical-align: top;\n",
              "    }\n",
              "\n",
              "    .dataframe thead th {\n",
              "        text-align: right;\n",
              "    }\n",
              "</style>\n",
              "<table border=\"1\" class=\"dataframe\">\n",
              "  <thead>\n",
              "    <tr style=\"text-align: right;\">\n",
              "      <th></th>\n",
              "      <th>feature</th>\n",
              "      <th>importance</th>\n",
              "    </tr>\n",
              "  </thead>\n",
              "  <tbody>\n",
              "    <tr>\n",
              "      <th>71</th>\n",
              "      <td>NEW_EXT_MEAN</td>\n",
              "      <td>0.040310</td>\n",
              "    </tr>\n",
              "    <tr>\n",
              "      <th>89</th>\n",
              "      <td>NAME_INCOME_TYPE_Working</td>\n",
              "      <td>0.006132</td>\n",
              "    </tr>\n",
              "    <tr>\n",
              "      <th>218</th>\n",
              "      <td>NEW_LABORERS_0.0</td>\n",
              "      <td>0.005808</td>\n",
              "    </tr>\n",
              "    <tr>\n",
              "      <th>70</th>\n",
              "      <td>NEW_ANNUITY_CREDIT_RATIO</td>\n",
              "      <td>0.005618</td>\n",
              "    </tr>\n",
              "    <tr>\n",
              "      <th>92</th>\n",
              "      <td>NAME_EDUCATION_TYPE_Higher education</td>\n",
              "      <td>0.005164</td>\n",
              "    </tr>\n",
              "    <tr>\n",
              "      <th>1</th>\n",
              "      <td>FLAG_OWN_CAR</td>\n",
              "      <td>0.005001</td>\n",
              "    </tr>\n",
              "    <tr>\n",
              "      <th>75</th>\n",
              "      <td>NAME_CONTRACT_TYPE_Cash loans</td>\n",
              "      <td>0.004874</td>\n",
              "    </tr>\n",
              "    <tr>\n",
              "      <th>463</th>\n",
              "      <td>PREV_APPROVED_AMT_DOWN_PAYMENT_MIN</td>\n",
              "      <td>0.004815</td>\n",
              "    </tr>\n",
              "    <tr>\n",
              "      <th>0</th>\n",
              "      <td>CODE_GENDER</td>\n",
              "      <td>0.004717</td>\n",
              "    </tr>\n",
              "    <tr>\n",
              "      <th>37</th>\n",
              "      <td>FLAG_DOCUMENT_3</td>\n",
              "      <td>0.004670</td>\n",
              "    </tr>\n",
              "  </tbody>\n",
              "</table>\n",
              "</div>\n",
              "      <button class=\"colab-df-convert\" onclick=\"convertToInteractive('df-0bae69d9-a32f-4240-9b9e-df9273b2d473')\"\n",
              "              title=\"Convert this dataframe to an interactive table.\"\n",
              "              style=\"display:none;\">\n",
              "        \n",
              "  <svg xmlns=\"http://www.w3.org/2000/svg\" height=\"24px\"viewBox=\"0 0 24 24\"\n",
              "       width=\"24px\">\n",
              "    <path d=\"M0 0h24v24H0V0z\" fill=\"none\"/>\n",
              "    <path d=\"M18.56 5.44l.94 2.06.94-2.06 2.06-.94-2.06-.94-.94-2.06-.94 2.06-2.06.94zm-11 1L8.5 8.5l.94-2.06 2.06-.94-2.06-.94L8.5 2.5l-.94 2.06-2.06.94zm10 10l.94 2.06.94-2.06 2.06-.94-2.06-.94-.94-2.06-.94 2.06-2.06.94z\"/><path d=\"M17.41 7.96l-1.37-1.37c-.4-.4-.92-.59-1.43-.59-.52 0-1.04.2-1.43.59L10.3 9.45l-7.72 7.72c-.78.78-.78 2.05 0 2.83L4 21.41c.39.39.9.59 1.41.59.51 0 1.02-.2 1.41-.59l7.78-7.78 2.81-2.81c.8-.78.8-2.07 0-2.86zM5.41 20L4 18.59l7.72-7.72 1.47 1.35L5.41 20z\"/>\n",
              "  </svg>\n",
              "      </button>\n",
              "      \n",
              "  <style>\n",
              "    .colab-df-container {\n",
              "      display:flex;\n",
              "      flex-wrap:wrap;\n",
              "      gap: 12px;\n",
              "    }\n",
              "\n",
              "    .colab-df-convert {\n",
              "      background-color: #E8F0FE;\n",
              "      border: none;\n",
              "      border-radius: 50%;\n",
              "      cursor: pointer;\n",
              "      display: none;\n",
              "      fill: #1967D2;\n",
              "      height: 32px;\n",
              "      padding: 0 0 0 0;\n",
              "      width: 32px;\n",
              "    }\n",
              "\n",
              "    .colab-df-convert:hover {\n",
              "      background-color: #E2EBFA;\n",
              "      box-shadow: 0px 1px 2px rgba(60, 64, 67, 0.3), 0px 1px 3px 1px rgba(60, 64, 67, 0.15);\n",
              "      fill: #174EA6;\n",
              "    }\n",
              "\n",
              "    [theme=dark] .colab-df-convert {\n",
              "      background-color: #3B4455;\n",
              "      fill: #D2E3FC;\n",
              "    }\n",
              "\n",
              "    [theme=dark] .colab-df-convert:hover {\n",
              "      background-color: #434B5C;\n",
              "      box-shadow: 0px 1px 3px 1px rgba(0, 0, 0, 0.15);\n",
              "      filter: drop-shadow(0px 1px 2px rgba(0, 0, 0, 0.3));\n",
              "      fill: #FFFFFF;\n",
              "    }\n",
              "  </style>\n",
              "\n",
              "      <script>\n",
              "        const buttonEl =\n",
              "          document.querySelector('#df-0bae69d9-a32f-4240-9b9e-df9273b2d473 button.colab-df-convert');\n",
              "        buttonEl.style.display =\n",
              "          google.colab.kernel.accessAllowed ? 'block' : 'none';\n",
              "\n",
              "        async function convertToInteractive(key) {\n",
              "          const element = document.querySelector('#df-0bae69d9-a32f-4240-9b9e-df9273b2d473');\n",
              "          const dataTable =\n",
              "            await google.colab.kernel.invokeFunction('convertToInteractive',\n",
              "                                                     [key], {});\n",
              "          if (!dataTable) return;\n",
              "\n",
              "          const docLinkHtml = 'Like what you see? Visit the ' +\n",
              "            '<a target=\"_blank\" href=https://colab.research.google.com/notebooks/data_table.ipynb>data table notebook</a>'\n",
              "            + ' to learn more about interactive tables.';\n",
              "          element.innerHTML = '';\n",
              "          dataTable['output_type'] = 'display_data';\n",
              "          await google.colab.output.renderOutput(dataTable, element);\n",
              "          const docLink = document.createElement('div');\n",
              "          docLink.innerHTML = docLinkHtml;\n",
              "          element.appendChild(docLink);\n",
              "        }\n",
              "      </script>\n",
              "    </div>\n",
              "  </div>\n",
              "  "
            ],
            "text/plain": [
              "                                  feature  importance\n",
              "71                           NEW_EXT_MEAN    0.040310\n",
              "89               NAME_INCOME_TYPE_Working    0.006132\n",
              "218                      NEW_LABORERS_0.0    0.005808\n",
              "70               NEW_ANNUITY_CREDIT_RATIO    0.005618\n",
              "92   NAME_EDUCATION_TYPE_Higher education    0.005164\n",
              "1                            FLAG_OWN_CAR    0.005001\n",
              "75          NAME_CONTRACT_TYPE_Cash loans    0.004874\n",
              "463    PREV_APPROVED_AMT_DOWN_PAYMENT_MIN    0.004815\n",
              "0                             CODE_GENDER    0.004717\n",
              "37                        FLAG_DOCUMENT_3    0.004670"
            ]
          },
          "metadata": {},
          "execution_count": 22
        }
      ],
      "source": [
        "df4= pd.DataFrame({'feature': list(X_train.columns), 'importance': feature_importances}).sort_values('importance', ascending = False)\n",
        "df4.head(10)"
      ]
    },
    {
      "cell_type": "code",
      "execution_count": 23,
      "metadata": {
        "colab": {
          "base_uri": "https://localhost:8080/",
          "height": 380
        },
        "id": "0Z5VwBA99lmf",
        "outputId": "09721632-4856-4667-ad48-77702d1720df"
      },
      "outputs": [
        {
          "output_type": "stream",
          "name": "stdout",
          "text": [
            "There are 149 features with 0.0 importance\n"
          ]
        },
        {
          "output_type": "execute_result",
          "data": {
            "text/html": [
              "\n",
              "  <div id=\"df-a6f92e4c-2534-42e5-82af-ac90155d419f\">\n",
              "    <div class=\"colab-df-container\">\n",
              "      <div>\n",
              "<style scoped>\n",
              "    .dataframe tbody tr th:only-of-type {\n",
              "        vertical-align: middle;\n",
              "    }\n",
              "\n",
              "    .dataframe tbody tr th {\n",
              "        vertical-align: top;\n",
              "    }\n",
              "\n",
              "    .dataframe thead th {\n",
              "        text-align: right;\n",
              "    }\n",
              "</style>\n",
              "<table border=\"1\" class=\"dataframe\">\n",
              "  <thead>\n",
              "    <tr style=\"text-align: right;\">\n",
              "      <th></th>\n",
              "      <th>feature</th>\n",
              "      <th>importance</th>\n",
              "    </tr>\n",
              "  </thead>\n",
              "  <tbody>\n",
              "    <tr>\n",
              "      <th>207</th>\n",
              "      <td>NEW_REVOLVING_LOANS_1.0</td>\n",
              "      <td>0.0</td>\n",
              "    </tr>\n",
              "    <tr>\n",
              "      <th>208</th>\n",
              "      <td>NEW_REVOLVING_LOANS_nan</td>\n",
              "      <td>0.0</td>\n",
              "    </tr>\n",
              "    <tr>\n",
              "      <th>209</th>\n",
              "      <td>NEW_HAS_CAR_0.0</td>\n",
              "      <td>0.0</td>\n",
              "    </tr>\n",
              "    <tr>\n",
              "      <th>210</th>\n",
              "      <td>NEW_HAS_CAR_1.0</td>\n",
              "      <td>0.0</td>\n",
              "    </tr>\n",
              "    <tr>\n",
              "      <th>211</th>\n",
              "      <td>NEW_HAS_CAR_nan</td>\n",
              "      <td>0.0</td>\n",
              "    </tr>\n",
              "    <tr>\n",
              "      <th>212</th>\n",
              "      <td>NEW_RENT_EXPENSE_0.0</td>\n",
              "      <td>0.0</td>\n",
              "    </tr>\n",
              "    <tr>\n",
              "      <th>213</th>\n",
              "      <td>NEW_RENT_EXPENSE_1.0</td>\n",
              "      <td>0.0</td>\n",
              "    </tr>\n",
              "    <tr>\n",
              "      <th>214</th>\n",
              "      <td>NEW_RENT_EXPENSE_nan</td>\n",
              "      <td>0.0</td>\n",
              "    </tr>\n",
              "    <tr>\n",
              "      <th>215</th>\n",
              "      <td>NEW_HAS_COMPANY_0.0</td>\n",
              "      <td>0.0</td>\n",
              "    </tr>\n",
              "    <tr>\n",
              "      <th>279</th>\n",
              "      <td>CLOSED_AMT_CREDIT_SUM_OVERDUE_MEAN</td>\n",
              "      <td>0.0</td>\n",
              "    </tr>\n",
              "  </tbody>\n",
              "</table>\n",
              "</div>\n",
              "      <button class=\"colab-df-convert\" onclick=\"convertToInteractive('df-a6f92e4c-2534-42e5-82af-ac90155d419f')\"\n",
              "              title=\"Convert this dataframe to an interactive table.\"\n",
              "              style=\"display:none;\">\n",
              "        \n",
              "  <svg xmlns=\"http://www.w3.org/2000/svg\" height=\"24px\"viewBox=\"0 0 24 24\"\n",
              "       width=\"24px\">\n",
              "    <path d=\"M0 0h24v24H0V0z\" fill=\"none\"/>\n",
              "    <path d=\"M18.56 5.44l.94 2.06.94-2.06 2.06-.94-2.06-.94-.94-2.06-.94 2.06-2.06.94zm-11 1L8.5 8.5l.94-2.06 2.06-.94-2.06-.94L8.5 2.5l-.94 2.06-2.06.94zm10 10l.94 2.06.94-2.06 2.06-.94-2.06-.94-.94-2.06-.94 2.06-2.06.94z\"/><path d=\"M17.41 7.96l-1.37-1.37c-.4-.4-.92-.59-1.43-.59-.52 0-1.04.2-1.43.59L10.3 9.45l-7.72 7.72c-.78.78-.78 2.05 0 2.83L4 21.41c.39.39.9.59 1.41.59.51 0 1.02-.2 1.41-.59l7.78-7.78 2.81-2.81c.8-.78.8-2.07 0-2.86zM5.41 20L4 18.59l7.72-7.72 1.47 1.35L5.41 20z\"/>\n",
              "  </svg>\n",
              "      </button>\n",
              "      \n",
              "  <style>\n",
              "    .colab-df-container {\n",
              "      display:flex;\n",
              "      flex-wrap:wrap;\n",
              "      gap: 12px;\n",
              "    }\n",
              "\n",
              "    .colab-df-convert {\n",
              "      background-color: #E8F0FE;\n",
              "      border: none;\n",
              "      border-radius: 50%;\n",
              "      cursor: pointer;\n",
              "      display: none;\n",
              "      fill: #1967D2;\n",
              "      height: 32px;\n",
              "      padding: 0 0 0 0;\n",
              "      width: 32px;\n",
              "    }\n",
              "\n",
              "    .colab-df-convert:hover {\n",
              "      background-color: #E2EBFA;\n",
              "      box-shadow: 0px 1px 2px rgba(60, 64, 67, 0.3), 0px 1px 3px 1px rgba(60, 64, 67, 0.15);\n",
              "      fill: #174EA6;\n",
              "    }\n",
              "\n",
              "    [theme=dark] .colab-df-convert {\n",
              "      background-color: #3B4455;\n",
              "      fill: #D2E3FC;\n",
              "    }\n",
              "\n",
              "    [theme=dark] .colab-df-convert:hover {\n",
              "      background-color: #434B5C;\n",
              "      box-shadow: 0px 1px 3px 1px rgba(0, 0, 0, 0.15);\n",
              "      filter: drop-shadow(0px 1px 2px rgba(0, 0, 0, 0.3));\n",
              "      fill: #FFFFFF;\n",
              "    }\n",
              "  </style>\n",
              "\n",
              "      <script>\n",
              "        const buttonEl =\n",
              "          document.querySelector('#df-a6f92e4c-2534-42e5-82af-ac90155d419f button.colab-df-convert');\n",
              "        buttonEl.style.display =\n",
              "          google.colab.kernel.accessAllowed ? 'block' : 'none';\n",
              "\n",
              "        async function convertToInteractive(key) {\n",
              "          const element = document.querySelector('#df-a6f92e4c-2534-42e5-82af-ac90155d419f');\n",
              "          const dataTable =\n",
              "            await google.colab.kernel.invokeFunction('convertToInteractive',\n",
              "                                                     [key], {});\n",
              "          if (!dataTable) return;\n",
              "\n",
              "          const docLinkHtml = 'Like what you see? Visit the ' +\n",
              "            '<a target=\"_blank\" href=https://colab.research.google.com/notebooks/data_table.ipynb>data table notebook</a>'\n",
              "            + ' to learn more about interactive tables.';\n",
              "          element.innerHTML = '';\n",
              "          dataTable['output_type'] = 'display_data';\n",
              "          await google.colab.output.renderOutput(dataTable, element);\n",
              "          const docLink = document.createElement('div');\n",
              "          docLink.innerHTML = docLinkHtml;\n",
              "          element.appendChild(docLink);\n",
              "        }\n",
              "      </script>\n",
              "    </div>\n",
              "  </div>\n",
              "  "
            ],
            "text/plain": [
              "                                feature  importance\n",
              "207             NEW_REVOLVING_LOANS_1.0         0.0\n",
              "208             NEW_REVOLVING_LOANS_nan         0.0\n",
              "209                     NEW_HAS_CAR_0.0         0.0\n",
              "210                     NEW_HAS_CAR_1.0         0.0\n",
              "211                     NEW_HAS_CAR_nan         0.0\n",
              "212                NEW_RENT_EXPENSE_0.0         0.0\n",
              "213                NEW_RENT_EXPENSE_1.0         0.0\n",
              "214                NEW_RENT_EXPENSE_nan         0.0\n",
              "215                 NEW_HAS_COMPANY_0.0         0.0\n",
              "279  CLOSED_AMT_CREDIT_SUM_OVERDUE_MEAN         0.0"
            ]
          },
          "metadata": {},
          "execution_count": 23
        }
      ],
      "source": [
        "# Find the features with zero importance\n",
        "zero_features = list(df4[df4['importance'] == 0.0]['feature'])\n",
        "print('There are %d features with 0.0 importance' % len(zero_features))\n",
        "df4.tail(10)"
      ]
    },
    {
      "cell_type": "code",
      "execution_count": 24,
      "metadata": {
        "id": "uFXPK0mC9lre"
      },
      "outputs": [],
      "source": [
        "def plot_feature_importances(df, threshold = 0.9):\n",
        "    \"\"\"\n",
        "    Plots 15 most important features and the cumulative importance of features.\n",
        "    Prints the number of features needed to reach threshold cumulative importance.\n",
        "    \n",
        "    Parameters\n",
        "    --------\n",
        "    df : dataframe\n",
        "        Dataframe of feature importances. Columns must be feature and importance\n",
        "    threshold : float, default = 0.9\n",
        "        Threshold for prining information about cumulative importances\n",
        "        \n",
        "    Return\n",
        "    --------\n",
        "    df : dataframe\n",
        "        Dataframe ordered by feature importances with a normalized column (sums to 1)\n",
        "        and a cumulative importance column\n",
        "    \n",
        "    \"\"\"\n",
        "\n",
        "    plt.rcParams['font.size'] = 18\n",
        "    \n",
        "    # Sort features according to importance\n",
        "    df = df.sort_values('importance', ascending = False).reset_index()\n",
        "    \n",
        "    # Normalize the feature importances to add up to one\n",
        "    df['importance_normalized'] = df['importance'] / df['importance'].sum()\n",
        "    df['cumulative_importance'] = np.cumsum(df['importance_normalized'])\n",
        "\n",
        "    # Make a horizontal bar chart of feature importances\n",
        "    plt.figure(figsize = (10, 6))\n",
        "    ax = plt.subplot()\n",
        "    \n",
        "    # Need to reverse the index to plot most important on top\n",
        "    ax.barh(list(reversed(list(df.index[:15]))), \n",
        "            df['importance_normalized'].head(15), \n",
        "            align = 'center', edgecolor = 'k')\n",
        "        # Set the yticks and labels\n",
        "    ax.set_yticks(list(reversed(list(df.index[:15]))))\n",
        "    ax.set_yticklabels(df['feature'].head(15))\n",
        "    \n",
        "    # Plot labeling\n",
        "    plt.xlabel('Normalized Importance'); plt.title('Feature Importances')\n",
        "    plt.show()\n",
        "    \n",
        "    # Cumulative importance plot\n",
        "    plt.figure(figsize = (8, 6))\n",
        "    plt.plot(list(range(len(df))), df['cumulative_importance'], 'r-')\n",
        "    plt.xlabel('Number of Features'); plt.ylabel('Cumulative Importance'); \n",
        "    plt.title('Cumulative Feature Importance');\n",
        "    plt.show();\n",
        "    \n",
        "    importance_index = np.min(np.where(df['cumulative_importance'] > threshold))\n",
        "    print('%d features required for %0.2f of cumulative importance' % (importance_index + 1, threshold))\n",
        "    \n",
        "    return df"
      ]
    },
    {
      "cell_type": "code",
      "execution_count": 25,
      "metadata": {
        "colab": {
          "base_uri": "https://localhost:8080/",
          "height": 852
        },
        "id": "Xs18LCnp9lvo",
        "outputId": "b669034e-fd5a-446a-9ee4-c2f948c1b53e"
      },
      "outputs": [
        {
          "output_type": "display_data",
          "data": {
            "image/png": "[encoded data removed]",
            "text/plain": [
              "<Figure size 720x432 with 1 Axes>"
            ]
          },
          "metadata": {
            "needs_background": "light"
          }
        },
        {
          "output_type": "display_data",
          "data": {
            "image/png": "[encoded data removed]",
            "text/plain": [
              "<Figure size 576x432 with 1 Axes>"
            ]
          },
          "metadata": {
            "needs_background": "light"
          }
        },
        {
          "output_type": "stream",
          "name": "stdout",
          "text": [
            "344 features required for 0.90 of cumulative importance\n"
          ]
        }
      ],
      "source": [
        "norm_feature_importances = plot_feature_importances(df4)"
      ]
    },
    {
      "cell_type": "code",
      "execution_count": 26,
      "metadata": {
        "colab": {
          "base_uri": "https://localhost:8080/"
        },
        "id": "t09--E899lzQ",
        "outputId": "906ed91e-8e57-4c18-87c2-066ca5c9c954"
      },
      "outputs": [
        {
          "output_type": "stream",
          "name": "stdout",
          "text": [
            "Training shape:  (215253, 410)\n",
            "Testing shape:  (92252, 410)\n"
          ]
        }
      ],
      "source": [
        "X_train = X_train.drop(columns = zero_features)\n",
        "X_test = X_test.drop(columns = zero_features)\n",
        "\n",
        "print('Training shape: ', X_train.shape)\n",
        "print('Testing shape: ', X_test.shape)"
      ]
    },
    {
      "cell_type": "code",
      "execution_count": 27,
      "metadata": {
        "id": "DGZEUoNl-c3y"
      },
      "outputs": [],
      "source": [
        "def identify_zero_importance_features(X, y, iterations = 2):\n",
        "    \"\"\"\n",
        "    Identify zero importance features in a training dataset based on the \n",
        "    feature importances from a gradient boosting model. \n",
        "    \n",
        "    Parameters\n",
        "    --------\n",
        "    x_train : dataframe\n",
        "        Training features\n",
        "        \n",
        "    x_test : np.array\n",
        "        Labels for training data\n",
        "        \n",
        "    iterations : integer, default = 2\n",
        "        Number of cross validation splits to use for determining feature importances\n",
        "    \"\"\"\n",
        "    # Initialize an empty array to hold feature importances\n",
        "    feature_importances = np.zeros(X_train.shape[1])\n",
        "\n",
        "    # Create the model with several hyperparameters\n",
        "    model = XGBClassifier(max_depth=6, n_estimators=120)\n",
        "    \n",
        "    # Fit the model multiple times to avoid overfitting\n",
        "    for i in range(iterations):\n",
        "\n",
        "        # Train using early stopping\n",
        "        model.fit(X_train, y_train)\n",
        "        # Record the feature importances\n",
        "        feature_importances += model.feature_importances_ / iterations\n",
        "\n",
        "            \n",
        "    feature_importances = pd.DataFrame({'feature': list(X_train.columns), 'importance': feature_importances}).sort_values('importance', ascending = False)\n",
        "    \n",
        "    # Find the features with zero importance\n",
        "    zero_features = list(feature_importances[feature_importances['importance'] == 0.0]['feature'])\n",
        "    print('\\nThere are %d features with 0.0 importance' % len(zero_features))\n",
        "    \n",
        "    return zero_features, feature_importances"
      ]
    },
    {
      "cell_type": "code",
      "execution_count": 28,
      "metadata": {
        "id": "nSeD0prl-c7I",
        "colab": {
          "base_uri": "https://localhost:8080/"
        },
        "outputId": "63b7ff4a-5725-4dba-97f9-e2af2cb0075f"
      },
      "outputs": [
        {
          "output_type": "stream",
          "name": "stdout",
          "text": [
            "\n",
            "There are 13 features with 0.0 importance\n"
          ]
        }
      ],
      "source": [
        "second_round_zero_features, feature_importances = identify_zero_importance_features(X, y)"
      ]
    },
    {
      "cell_type": "code",
      "source": [
        "X_train = X_train.drop(columns = zero_features)\n",
        "X_test = X_test.drop(columns = zero_features)\n",
        "\n",
        "print('Training shape: ', X_train.shape)\n",
        "print('Testing shape: ', X_test.shape)"
      ],
      "metadata": {
        "id": "oO3bOGPFjND7"
      },
      "execution_count": null,
      "outputs": []
    },
    {
      "cell_type": "code",
      "execution_count": 30,
      "metadata": {
        "id": "GZNbYR0O-dIm",
        "colab": {
          "base_uri": "https://localhost:8080/",
          "height": 852
        },
        "outputId": "f5b00948-3f80-4d17-bf10-e7502106305f"
      },
      "outputs": [
        {
          "output_type": "display_data",
          "data": {
            "image/png": "[encoded data removed]",
            "text/plain": [
              "<Figure size 720x432 with 1 Axes>"
            ]
          },
          "metadata": {
            "needs_background": "light"
          }
        },
        {
          "output_type": "display_data",
          "data": {
            "image/png": "[encoded data removed]",
            "text/plain": [
              "<Figure size 576x432 with 1 Axes>"
            ]
          },
          "metadata": {
            "needs_background": "light"
          }
        },
        {
          "output_type": "stream",
          "name": "stdout",
          "text": [
            "360 features required for 0.95 of cumulative importance\n"
          ]
        }
      ],
      "source": [
        "norm_feature_importances = plot_feature_importances(feature_importances, threshold = 0.95)"
      ]
    },
    {
      "cell_type": "code",
      "source": [
        ""
      ],
      "metadata": {
        "id": "kY0h1Bmcxcu3"
      },
      "execution_count": null,
      "outputs": []
    },
    {
      "cell_type": "code",
      "execution_count": 34,
      "metadata": {
        "id": "rmUMTjXg-dMY"
      },
      "outputs": [],
      "source": [
        "df3 = pd.DataFrame()\n",
        "df3['predict']= XGB_model.predict_proba(X_scale_test)[:,1]"
      ]
    },
    {
      "cell_type": "code",
      "source": [
        "plt.figure()\n",
        "Histo('predict',df3, 50)\n",
        "plt.title('Graphique des probabibilités d\\'affectation')"
      ],
      "metadata": {
        "colab": {
          "base_uri": "https://localhost:8080/",
          "height": 410
        },
        "id": "P5trebHMyFWA",
        "outputId": "44d54b82-229a-41a0-ddcf-72f4fcf39205"
      },
      "execution_count": 36,
      "outputs": [
        {
          "output_type": "execute_result",
          "data": {
            "text/plain": [
              "Text(0.5, 1.0, \"Graphique des probabibilités d'affectation\")"
            ]
          },
          "metadata": {},
          "execution_count": 36
        },
        {
          "output_type": "display_data",
          "data": {
            "text/plain": [
              "<Figure size 432x288 with 0 Axes>"
            ]
          },
          "metadata": {}
        },
        {
          "output_type": "display_data",
          "data": {
            "image/png": "[encoded data removed]",
            "text/plain": [
              "<Figure size 360x360 with 1 Axes>"
            ]
          },
          "metadata": {
            "needs_background": "light"
          }
        }
      ]
    },
    {
      "cell_type": "code",
      "source": [
        "#prédiction\n",
        "#y_pred = model_best.predict(X_scale_test)\n",
        "#on va prendre la deuxieme colonne qui est le score de présence \n",
        "#model_best.predict_proba(X_scale_test)[:,1]>0.5\n",
        "r=XGB_model.predict_proba(X_scale_test)[:,1]\n",
        "y_predX=np.array(r>0.1,dtype=int)"
      ],
      "metadata": {
        "id": "0XxzopHSyFZP"
      },
      "execution_count": 37,
      "outputs": []
    },
    {
      "cell_type": "code",
      "source": [
        "plt.figure()\n",
        "Histo('predict',df3, 50)\n",
        "plt.axvline(x=0.1, color='red')\n",
        "plt.annotate('Le Client ne Rembourse pas',xy=(0.25,2500),xytext=(0.3,4500),arrowprops=\n",
        "             {'facecolor':'#5930F2'})\n",
        "plt.title('Graph probability / XGB')"
      ],
      "metadata": {
        "colab": {
          "base_uri": "https://localhost:8080/",
          "height": 404
        },
        "id": "c6-cR_-myFe-",
        "outputId": "b50cd056-b81f-4863-97fe-fc5bd99cbbe1"
      },
      "execution_count": 88,
      "outputs": [
        {
          "output_type": "execute_result",
          "data": {
            "text/plain": [
              "Text(0.5, 1.0, 'Graph probability / XGB')"
            ]
          },
          "metadata": {},
          "execution_count": 88
        },
        {
          "output_type": "display_data",
          "data": {
            "text/plain": [
              "<Figure size 432x288 with 0 Axes>"
            ]
          },
          "metadata": {}
        },
        {
          "output_type": "display_data",
          "data": {
            "image/png": "[encoded data removed]",
            "text/plain": [
              "<Figure size 360x360 with 1 Axes>"
            ]
          },
          "metadata": {
            "needs_background": "light"
          }
        }
      ]
    },
    {
      "cell_type": "code",
      "source": [
        "logi_confusion = me.confusion_matrix(y_test, y_predX)"
      ],
      "metadata": {
        "id": "Sg0JMtx8yFjL"
      },
      "execution_count": 40,
      "outputs": []
    },
    {
      "cell_type": "code",
      "source": [
        "print(logi_confusion)"
      ],
      "metadata": {
        "colab": {
          "base_uri": "https://localhost:8080/"
        },
        "id": "rh20gGMIyFnG",
        "outputId": "b03f57b7-10f7-44fe-8dfd-e8e27cb6bee6"
      },
      "execution_count": 41,
      "outputs": [
        {
          "output_type": "stream",
          "name": "stdout",
          "text": [
            "[[65804 19072]\n",
            " [ 3011  4365]]\n"
          ]
        }
      ]
    },
    {
      "cell_type": "code",
      "source": [
        "print(classification_report(y_test, y_predX))"
      ],
      "metadata": {
        "colab": {
          "base_uri": "https://localhost:8080/"
        },
        "id": "0rOffzrdzFXF",
        "outputId": "5f186549-321a-4230-cafd-70c06c7472f3"
      },
      "execution_count": 47,
      "outputs": [
        {
          "output_type": "stream",
          "name": "stdout",
          "text": [
            "              precision    recall  f1-score   support\n",
            "\n",
            "         0.0       0.96      0.78      0.86     84876\n",
            "         1.0       0.19      0.59      0.28      7376\n",
            "\n",
            "    accuracy                           0.76     92252\n",
            "   macro avg       0.57      0.68      0.57     92252\n",
            "weighted avg       0.89      0.76      0.81     92252\n",
            "\n"
          ]
        }
      ]
    },
    {
      "cell_type": "code",
      "source": [
        "score_XG=customScore(y_test, y_predX)\n",
        "#notre scorer\n",
        "score_XG"
      ],
      "metadata": {
        "colab": {
          "base_uri": "https://localhost:8080/"
        },
        "id": "-ww0WHMtzFa-",
        "outputId": "a2f695d6-23d3-4204-d568-93cf46e9ebda"
      },
      "execution_count": 49,
      "outputs": [
        {
          "output_type": "execute_result",
          "data": {
            "text/plain": [
              "7829.300000000001"
            ]
          },
          "metadata": {},
          "execution_count": 49
        }
      ]
    },
    {
      "cell_type": "code",
      "source": [
        "precisionXG=accuracy_score(y_test, y_predX)\n",
        "precisionXG"
      ],
      "metadata": {
        "colab": {
          "base_uri": "https://localhost:8080/"
        },
        "id": "QIbYg0kxzFd7",
        "outputId": "44e48f37-e227-466a-d155-5496dd2bbbab"
      },
      "execution_count": 56,
      "outputs": [
        {
          "output_type": "execute_result",
          "data": {
            "text/plain": [
              "0.7606230759224732"
            ]
          },
          "metadata": {},
          "execution_count": 56
        }
      ]
    },
    {
      "cell_type": "code",
      "source": [
        "rappel_XG=recall_score(y_test, y_predX)\n",
        "rappel_XG"
      ],
      "metadata": {
        "colab": {
          "base_uri": "https://localhost:8080/"
        },
        "id": "EuMHgiVazFhN",
        "outputId": "9308303b-b05e-4820-da67-2d3f049a91af"
      },
      "execution_count": 57,
      "outputs": [
        {
          "output_type": "execute_result",
          "data": {
            "text/plain": [
              "0.5917841648590022"
            ]
          },
          "metadata": {},
          "execution_count": 57
        }
      ]
    },
    {
      "cell_type": "code",
      "source": [
        "cls_labels_transform = conf_mat_transform(y_test, y_predX)\n",
        "conf_mat = me.confusion_matrix(y_test, y_predX)\n",
        "print(conf_mat)\n",
        "print()\n",
        "print(me.classification_report(y_test, y_predX))\n",
        "#accuracy =precision la plus part sont prédits positifs et le sont effectivement\n",
        "#recall=sensibilte taux de vrais positifs \n",
        "#specifite =taux de varais negatifs"
      ],
      "metadata": {
        "colab": {
          "base_uri": "https://localhost:8080/"
        },
        "id": "5E4kmLdtzFkX",
        "outputId": "ccc66563-4f0d-473f-aaac-c6305838eab7"
      },
      "execution_count": 50,
      "outputs": [
        {
          "output_type": "stream",
          "name": "stdout",
          "text": [
            "[[65804 19072]\n",
            " [ 3011  4365]]\n",
            "\n",
            "              precision    recall  f1-score   support\n",
            "\n",
            "         0.0       0.96      0.78      0.86     84876\n",
            "         1.0       0.19      0.59      0.28      7376\n",
            "\n",
            "    accuracy                           0.76     92252\n",
            "   macro avg       0.57      0.68      0.57     92252\n",
            "weighted avg       0.89      0.76      0.81     92252\n",
            "\n"
          ]
        }
      ]
    },
    {
      "cell_type": "code",
      "source": [
        "df_cm = pd.DataFrame(conf_mat/y_test.shape[0], index = [label for label in data_clean['TARGET'].value_counts().index ],\n",
        "                  columns = [i for i in data_clean['TARGET'].value_counts().index ])\n",
        "plt.figure(figsize = (5,5))\n",
        "sns.heatmap(df_cm, annot=True, cmap=\"Blues\")\n",
        "plt.xlabel('Actual',fontsize = 20, fontweight = 'bold')\n",
        "plt.ylabel('Predict',fontsize = 20, fontweight = 'bold')"
      ],
      "metadata": {
        "colab": {
          "base_uri": "https://localhost:8080/",
          "height": 370
        },
        "id": "PGtPhTzLyFqN",
        "outputId": "9f8fd1b7-1dda-4a82-97ad-ba76bac4c1ea"
      },
      "execution_count": 52,
      "outputs": [
        {
          "output_type": "execute_result",
          "data": {
            "text/plain": [
              "Text(13.999999999999996, 0.5, 'Predict')"
            ]
          },
          "metadata": {},
          "execution_count": 52
        },
        {
          "output_type": "display_data",
          "data": {
            "image/png": "[encoded data removed]",
            "text/plain": [
              "<Figure size 360x360 with 2 Axes>"
            ]
          },
          "metadata": {
            "needs_background": "light"
          }
        }
      ]
    },
    {
      "cell_type": "code",
      "source": [
        "from sklearn.metrics import roc_auc_score\n",
        "[fpr, tpr, thr]  = me.roc_curve(y_test, XGB_model.predict_proba(X_scale_test)[:, 1])\n",
        "#1-fpr correspond a la antispecifite pour la vrais specifite 1-valeur\n",
        "#tpr le rappel , sensibilité\n",
        "#thr le seuil \n",
        "\n",
        "df_roc = pd.DataFrame({'thr': thr, 'tpr': tpr, 'fpr': fpr})\n",
        "plt.plot(fpr, tpr, marker='o')\n",
        "plt.xlabel('1 - specificite')\n",
        "plt.ylabel('Sensibilite-Rappel')\n",
        "plt.grid()\n",
        "display(df_roc)\n",
        "#ceci est notre AUROC qui permet de comparer \n",
        "AUROCXG=roc_auc_score(y_test, XGB_model.predict_proba(X_scale_test)[:, 1])\n",
        "\n",
        "print('AUC : {}'.format(roc_auc_score(y_test, XGB_model.predict_proba(X_scale_test)[:, 1])))"
      ],
      "metadata": {
        "colab": {
          "base_uri": "https://localhost:8080/",
          "height": 723
        },
        "id": "hfPM5QrK0N_X",
        "outputId": "dec72198-3ea1-4844-be45-d220968a0434"
      },
      "execution_count": 54,
      "outputs": [
        {
          "output_type": "display_data",
          "data": {
            "text/html": [
              "\n",
              "  <div id=\"df-59016525-e77d-421b-aa4a-a6e08d061b47\">\n",
              "    <div class=\"colab-df-container\">\n",
              "      <div>\n",
              "<style scoped>\n",
              "    .dataframe tbody tr th:only-of-type {\n",
              "        vertical-align: middle;\n",
              "    }\n",
              "\n",
              "    .dataframe tbody tr th {\n",
              "        vertical-align: top;\n",
              "    }\n",
              "\n",
              "    .dataframe thead th {\n",
              "        text-align: right;\n",
              "    }\n",
              "</style>\n",
              "<table border=\"1\" class=\"dataframe\">\n",
              "  <thead>\n",
              "    <tr style=\"text-align: right;\">\n",
              "      <th></th>\n",
              "      <th>thr</th>\n",
              "      <th>tpr</th>\n",
              "      <th>fpr</th>\n",
              "    </tr>\n",
              "  </thead>\n",
              "  <tbody>\n",
              "    <tr>\n",
              "      <th>0</th>\n",
              "      <td>1.811568</td>\n",
              "      <td>0.000000</td>\n",
              "      <td>0.000000</td>\n",
              "    </tr>\n",
              "    <tr>\n",
              "      <th>1</th>\n",
              "      <td>0.811568</td>\n",
              "      <td>0.000136</td>\n",
              "      <td>0.000000</td>\n",
              "    </tr>\n",
              "    <tr>\n",
              "      <th>2</th>\n",
              "      <td>0.759646</td>\n",
              "      <td>0.000136</td>\n",
              "      <td>0.000012</td>\n",
              "    </tr>\n",
              "    <tr>\n",
              "      <th>3</th>\n",
              "      <td>0.712716</td>\n",
              "      <td>0.000949</td>\n",
              "      <td>0.000012</td>\n",
              "    </tr>\n",
              "    <tr>\n",
              "      <th>4</th>\n",
              "      <td>0.706704</td>\n",
              "      <td>0.000949</td>\n",
              "      <td>0.000024</td>\n",
              "    </tr>\n",
              "    <tr>\n",
              "      <th>...</th>\n",
              "      <td>...</td>\n",
              "      <td>...</td>\n",
              "      <td>...</td>\n",
              "    </tr>\n",
              "    <tr>\n",
              "      <th>12925</th>\n",
              "      <td>0.006843</td>\n",
              "      <td>0.999729</td>\n",
              "      <td>0.995676</td>\n",
              "    </tr>\n",
              "    <tr>\n",
              "      <th>12926</th>\n",
              "      <td>0.006838</td>\n",
              "      <td>0.999864</td>\n",
              "      <td>0.995676</td>\n",
              "    </tr>\n",
              "    <tr>\n",
              "      <th>12927</th>\n",
              "      <td>0.005403</td>\n",
              "      <td>0.999864</td>\n",
              "      <td>0.998645</td>\n",
              "    </tr>\n",
              "    <tr>\n",
              "      <th>12928</th>\n",
              "      <td>0.005394</td>\n",
              "      <td>1.000000</td>\n",
              "      <td>0.998645</td>\n",
              "    </tr>\n",
              "    <tr>\n",
              "      <th>12929</th>\n",
              "      <td>0.003117</td>\n",
              "      <td>1.000000</td>\n",
              "      <td>1.000000</td>\n",
              "    </tr>\n",
              "  </tbody>\n",
              "</table>\n",
              "<p>12930 rows × 3 columns</p>\n",
              "</div>\n",
              "      <button class=\"colab-df-convert\" onclick=\"convertToInteractive('df-59016525-e77d-421b-aa4a-a6e08d061b47')\"\n",
              "              title=\"Convert this dataframe to an interactive table.\"\n",
              "              style=\"display:none;\">\n",
              "        \n",
              "  <svg xmlns=\"http://www.w3.org/2000/svg\" height=\"24px\"viewBox=\"0 0 24 24\"\n",
              "       width=\"24px\">\n",
              "    <path d=\"M0 0h24v24H0V0z\" fill=\"none\"/>\n",
              "    <path d=\"M18.56 5.44l.94 2.06.94-2.06 2.06-.94-2.06-.94-.94-2.06-.94 2.06-2.06.94zm-11 1L8.5 8.5l.94-2.06 2.06-.94-2.06-.94L8.5 2.5l-.94 2.06-2.06.94zm10 10l.94 2.06.94-2.06 2.06-.94-2.06-.94-.94-2.06-.94 2.06-2.06.94z\"/><path d=\"M17.41 7.96l-1.37-1.37c-.4-.4-.92-.59-1.43-.59-.52 0-1.04.2-1.43.59L10.3 9.45l-7.72 7.72c-.78.78-.78 2.05 0 2.83L4 21.41c.39.39.9.59 1.41.59.51 0 1.02-.2 1.41-.59l7.78-7.78 2.81-2.81c.8-.78.8-2.07 0-2.86zM5.41 20L4 18.59l7.72-7.72 1.47 1.35L5.41 20z\"/>\n",
              "  </svg>\n",
              "      </button>\n",
              "      \n",
              "  <style>\n",
              "    .colab-df-container {\n",
              "      display:flex;\n",
              "      flex-wrap:wrap;\n",
              "      gap: 12px;\n",
              "    }\n",
              "\n",
              "    .colab-df-convert {\n",
              "      background-color: #E8F0FE;\n",
              "      border: none;\n",
              "      border-radius: 50%;\n",
              "      cursor: pointer;\n",
              "      display: none;\n",
              "      fill: #1967D2;\n",
              "      height: 32px;\n",
              "      padding: 0 0 0 0;\n",
              "      width: 32px;\n",
              "    }\n",
              "\n",
              "    .colab-df-convert:hover {\n",
              "      background-color: #E2EBFA;\n",
              "      box-shadow: 0px 1px 2px rgba(60, 64, 67, 0.3), 0px 1px 3px 1px rgba(60, 64, 67, 0.15);\n",
              "      fill: #174EA6;\n",
              "    }\n",
              "\n",
              "    [theme=dark] .colab-df-convert {\n",
              "      background-color: #3B4455;\n",
              "      fill: #D2E3FC;\n",
              "    }\n",
              "\n",
              "    [theme=dark] .colab-df-convert:hover {\n",
              "      background-color: #434B5C;\n",
              "      box-shadow: 0px 1px 3px 1px rgba(0, 0, 0, 0.15);\n",
              "      filter: drop-shadow(0px 1px 2px rgba(0, 0, 0, 0.3));\n",
              "      fill: #FFFFFF;\n",
              "    }\n",
              "  </style>\n",
              "\n",
              "      <script>\n",
              "        const buttonEl =\n",
              "          document.querySelector('#df-59016525-e77d-421b-aa4a-a6e08d061b47 button.colab-df-convert');\n",
              "        buttonEl.style.display =\n",
              "          google.colab.kernel.accessAllowed ? 'block' : 'none';\n",
              "\n",
              "        async function convertToInteractive(key) {\n",
              "          const element = document.querySelector('#df-59016525-e77d-421b-aa4a-a6e08d061b47');\n",
              "          const dataTable =\n",
              "            await google.colab.kernel.invokeFunction('convertToInteractive',\n",
              "                                                     [key], {});\n",
              "          if (!dataTable) return;\n",
              "\n",
              "          const docLinkHtml = 'Like what you see? Visit the ' +\n",
              "            '<a target=\"_blank\" href=https://colab.research.google.com/notebooks/data_table.ipynb>data table notebook</a>'\n",
              "            + ' to learn more about interactive tables.';\n",
              "          element.innerHTML = '';\n",
              "          dataTable['output_type'] = 'display_data';\n",
              "          await google.colab.output.renderOutput(dataTable, element);\n",
              "          const docLink = document.createElement('div');\n",
              "          docLink.innerHTML = docLinkHtml;\n",
              "          element.appendChild(docLink);\n",
              "        }\n",
              "      </script>\n",
              "    </div>\n",
              "  </div>\n",
              "  "
            ],
            "text/plain": [
              "            thr       tpr       fpr\n",
              "0      1.811568  0.000000  0.000000\n",
              "1      0.811568  0.000136  0.000000\n",
              "2      0.759646  0.000136  0.000012\n",
              "3      0.712716  0.000949  0.000012\n",
              "4      0.706704  0.000949  0.000024\n",
              "...         ...       ...       ...\n",
              "12925  0.006843  0.999729  0.995676\n",
              "12926  0.006838  0.999864  0.995676\n",
              "12927  0.005403  0.999864  0.998645\n",
              "12928  0.005394  1.000000  0.998645\n",
              "12929  0.003117  1.000000  1.000000\n",
              "\n",
              "[12930 rows x 3 columns]"
            ]
          },
          "metadata": {}
        },
        {
          "output_type": "stream",
          "name": "stdout",
          "text": [
            "AUC : 0.7584794628368919\n"
          ]
        },
        {
          "output_type": "display_data",
          "data": {
            "image/png": "[encoded data removed]",
            "text/plain": [
              "<Figure size 432x288 with 1 Axes>"
            ]
          },
          "metadata": {
            "needs_background": "light"
          }
        }
      ]
    },
    {
      "cell_type": "code",
      "source": [
        "AUROCXG"
      ],
      "metadata": {
        "colab": {
          "base_uri": "https://localhost:8080/"
        },
        "id": "jeB22JXB0ODG",
        "outputId": "389aed39-ed5e-44db-f7e5-b8ffb136c0b8"
      },
      "execution_count": 55,
      "outputs": [
        {
          "output_type": "execute_result",
          "data": {
            "text/plain": [
              "0.7584794628368919"
            ]
          },
          "metadata": {},
          "execution_count": 55
        }
      ]
    },
    {
      "cell_type": "code",
      "source": [
        "# Métriques\n",
        "from sklearn.metrics import roc_auc_score, average_precision_score, \\\n",
        "    fbeta_score, make_scorer"
      ],
      "metadata": {
        "id": "WVYAot5s70g1"
      },
      "execution_count": 62,
      "outputs": []
    },
    {
      "cell_type": "code",
      "source": [
        "f1_score_XG = fbeta_score(y_test, y_predX, beta=1)\n",
        "f5_score_XG = fbeta_score(y_test, y_predX, beta=5)"
      ],
      "metadata": {
        "id": "eWyQrI_H9Ugx"
      },
      "execution_count": 66,
      "outputs": []
    },
    {
      "cell_type": "code",
      "source": [
        "f10_score_XG = fbeta_score(y_test, y_predX, beta=10)"
      ],
      "metadata": {
        "id": "uw0aS_UC-V_T"
      },
      "execution_count": 75,
      "outputs": []
    },
    {
      "cell_type": "code",
      "source": [
        "\n",
        "f1_score_XG"
      ],
      "metadata": {
        "colab": {
          "base_uri": "https://localhost:8080/"
        },
        "id": "d4MivpOi0OI9",
        "outputId": "717de926-f869-44c9-e28a-f486b509c2e2"
      },
      "execution_count": 67,
      "outputs": [
        {
          "output_type": "execute_result",
          "data": {
            "text/plain": [
              "0.28332197449128615"
            ]
          },
          "metadata": {},
          "execution_count": 67
        }
      ]
    },
    {
      "cell_type": "code",
      "source": [
        "\n",
        "f5_score_XG"
      ],
      "metadata": {
        "colab": {
          "base_uri": "https://localhost:8080/"
        },
        "id": "52ndskDs8nvc",
        "outputId": "f1942439-c3cd-48ae-ad71-a47f1e666d58"
      },
      "execution_count": 68,
      "outputs": [
        {
          "output_type": "execute_result",
          "data": {
            "text/plain": [
              "0.5460529164681939"
            ]
          },
          "metadata": {},
          "execution_count": 68
        }
      ]
    },
    {
      "cell_type": "code",
      "source": [
        "f10_score_XG"
      ],
      "metadata": {
        "colab": {
          "base_uri": "https://localhost:8080/"
        },
        "id": "p1yz9xBk-a-4",
        "outputId": "4fa672dc-51bd-46d5-8cad-4402056eaee2"
      },
      "execution_count": 76,
      "outputs": [
        {
          "output_type": "execute_result",
          "data": {
            "text/plain": [
              "0.5792950934054455"
            ]
          },
          "metadata": {},
          "execution_count": 76
        }
      ]
    },
    {
      "cell_type": "code",
      "source": [
        "resultat3=pd.DataFrame({'index' : [3], 'Model': ['XG Boost'],'Score':[score_XG/100], 'f1': [f1_score_XG*100], 'f5': [f5_score_XG*100], 'f10': [f10_score_XG*100],\n",
        "                      'AUROC':[AUROCXG*100],'Precision':[precisionXG*100],'Recall':[rappel_XG]})"
      ],
      "metadata": {
        "id": "Rm_mEfjK0OM3"
      },
      "execution_count": 77,
      "outputs": []
    },
    {
      "cell_type": "code",
      "source": [
        "resultat3"
      ],
      "metadata": {
        "colab": {
          "base_uri": "https://localhost:8080/",
          "height": 81
        },
        "id": "R9ZqyRO325P_",
        "outputId": "ac05eaff-0283-4d53-8dde-5cdee9952be7"
      },
      "execution_count": 78,
      "outputs": [
        {
          "output_type": "execute_result",
          "data": {
            "text/html": [
              "\n",
              "  <div id=\"df-27f2853a-36bc-4add-9b27-94744a7bdc3f\">\n",
              "    <div class=\"colab-df-container\">\n",
              "      <div>\n",
              "<style scoped>\n",
              "    .dataframe tbody tr th:only-of-type {\n",
              "        vertical-align: middle;\n",
              "    }\n",
              "\n",
              "    .dataframe tbody tr th {\n",
              "        vertical-align: top;\n",
              "    }\n",
              "\n",
              "    .dataframe thead th {\n",
              "        text-align: right;\n",
              "    }\n",
              "</style>\n",
              "<table border=\"1\" class=\"dataframe\">\n",
              "  <thead>\n",
              "    <tr style=\"text-align: right;\">\n",
              "      <th></th>\n",
              "      <th>index</th>\n",
              "      <th>Model</th>\n",
              "      <th>Score</th>\n",
              "      <th>f1</th>\n",
              "      <th>f5</th>\n",
              "      <th>f10</th>\n",
              "      <th>AUROC</th>\n",
              "      <th>Precision</th>\n",
              "      <th>Recall</th>\n",
              "    </tr>\n",
              "  </thead>\n",
              "  <tbody>\n",
              "    <tr>\n",
              "      <th>0</th>\n",
              "      <td>3</td>\n",
              "      <td>XG Boost</td>\n",
              "      <td>78.293</td>\n",
              "      <td>28.332197</td>\n",
              "      <td>54.605292</td>\n",
              "      <td>57.929509</td>\n",
              "      <td>75.847946</td>\n",
              "      <td>76.062308</td>\n",
              "      <td>0.591784</td>\n",
              "    </tr>\n",
              "  </tbody>\n",
              "</table>\n",
              "</div>\n",
              "      <button class=\"colab-df-convert\" onclick=\"convertToInteractive('df-27f2853a-36bc-4add-9b27-94744a7bdc3f')\"\n",
              "              title=\"Convert this dataframe to an interactive table.\"\n",
              "              style=\"display:none;\">\n",
              "        \n",
              "  <svg xmlns=\"http://www.w3.org/2000/svg\" height=\"24px\"viewBox=\"0 0 24 24\"\n",
              "       width=\"24px\">\n",
              "    <path d=\"M0 0h24v24H0V0z\" fill=\"none\"/>\n",
              "    <path d=\"M18.56 5.44l.94 2.06.94-2.06 2.06-.94-2.06-.94-.94-2.06-.94 2.06-2.06.94zm-11 1L8.5 8.5l.94-2.06 2.06-.94-2.06-.94L8.5 2.5l-.94 2.06-2.06.94zm10 10l.94 2.06.94-2.06 2.06-.94-2.06-.94-.94-2.06-.94 2.06-2.06.94z\"/><path d=\"M17.41 7.96l-1.37-1.37c-.4-.4-.92-.59-1.43-.59-.52 0-1.04.2-1.43.59L10.3 9.45l-7.72 7.72c-.78.78-.78 2.05 0 2.83L4 21.41c.39.39.9.59 1.41.59.51 0 1.02-.2 1.41-.59l7.78-7.78 2.81-2.81c.8-.78.8-2.07 0-2.86zM5.41 20L4 18.59l7.72-7.72 1.47 1.35L5.41 20z\"/>\n",
              "  </svg>\n",
              "      </button>\n",
              "      \n",
              "  <style>\n",
              "    .colab-df-container {\n",
              "      display:flex;\n",
              "      flex-wrap:wrap;\n",
              "      gap: 12px;\n",
              "    }\n",
              "\n",
              "    .colab-df-convert {\n",
              "      background-color: #E8F0FE;\n",
              "      border: none;\n",
              "      border-radius: 50%;\n",
              "      cursor: pointer;\n",
              "      display: none;\n",
              "      fill: #1967D2;\n",
              "      height: 32px;\n",
              "      padding: 0 0 0 0;\n",
              "      width: 32px;\n",
              "    }\n",
              "\n",
              "    .colab-df-convert:hover {\n",
              "      background-color: #E2EBFA;\n",
              "      box-shadow: 0px 1px 2px rgba(60, 64, 67, 0.3), 0px 1px 3px 1px rgba(60, 64, 67, 0.15);\n",
              "      fill: #174EA6;\n",
              "    }\n",
              "\n",
              "    [theme=dark] .colab-df-convert {\n",
              "      background-color: #3B4455;\n",
              "      fill: #D2E3FC;\n",
              "    }\n",
              "\n",
              "    [theme=dark] .colab-df-convert:hover {\n",
              "      background-color: #434B5C;\n",
              "      box-shadow: 0px 1px 3px 1px rgba(0, 0, 0, 0.15);\n",
              "      filter: drop-shadow(0px 1px 2px rgba(0, 0, 0, 0.3));\n",
              "      fill: #FFFFFF;\n",
              "    }\n",
              "  </style>\n",
              "\n",
              "      <script>\n",
              "        const buttonEl =\n",
              "          document.querySelector('#df-27f2853a-36bc-4add-9b27-94744a7bdc3f button.colab-df-convert');\n",
              "        buttonEl.style.display =\n",
              "          google.colab.kernel.accessAllowed ? 'block' : 'none';\n",
              "\n",
              "        async function convertToInteractive(key) {\n",
              "          const element = document.querySelector('#df-27f2853a-36bc-4add-9b27-94744a7bdc3f');\n",
              "          const dataTable =\n",
              "            await google.colab.kernel.invokeFunction('convertToInteractive',\n",
              "                                                     [key], {});\n",
              "          if (!dataTable) return;\n",
              "\n",
              "          const docLinkHtml = 'Like what you see? Visit the ' +\n",
              "            '<a target=\"_blank\" href=https://colab.research.google.com/notebooks/data_table.ipynb>data table notebook</a>'\n",
              "            + ' to learn more about interactive tables.';\n",
              "          element.innerHTML = '';\n",
              "          dataTable['output_type'] = 'display_data';\n",
              "          await google.colab.output.renderOutput(dataTable, element);\n",
              "          const docLink = document.createElement('div');\n",
              "          docLink.innerHTML = docLinkHtml;\n",
              "          element.appendChild(docLink);\n",
              "        }\n",
              "      </script>\n",
              "    </div>\n",
              "  </div>\n",
              "  "
            ],
            "text/plain": [
              "   index     Model   Score  ...      AUROC  Precision    Recall\n",
              "0      3  XG Boost  78.293  ...  75.847946  76.062308  0.591784\n",
              "\n",
              "[1 rows x 9 columns]"
            ]
          },
          "metadata": {},
          "execution_count": 78
        }
      ]
    },
    {
      "cell_type": "code",
      "source": [
        "resultat3.to_csv('/content/drive/MyDrive/p7/data/res_XGB.csv', index=False)"
      ],
      "metadata": {
        "id": "zXVyJpM80OP2"
      },
      "execution_count": 79,
      "outputs": []
    }
  ],
  "metadata": {
    "accelerator": "GPU",
    "colab": {
      "name": "Feature_selection_XGB.ipynb",
      "provenance": [],
      "collapsed_sections": [],
      "authorship_tag": "ABX9TyPlo3f9Ui8atwEuYyag+FR3",
      "include_colab_link": true
    },
    "kernelspec": {
      "display_name": "Python 3",
      "name": "python3"
    },
    "language_info": {
      "name": "python"
    }
  },
  "nbformat": 4,
  "nbformat_minor": 0
}